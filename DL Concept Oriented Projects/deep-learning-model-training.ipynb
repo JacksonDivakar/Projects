{
 "cells": [
  {
   "cell_type": "markdown",
   "id": "ac54759a",
   "metadata": {
    "papermill": {
     "duration": 0.008393,
     "end_time": "2024-02-23T18:10:51.181742",
     "exception": false,
     "start_time": "2024-02-23T18:10:51.173349",
     "status": "completed"
    },
    "tags": []
   },
   "source": [
    "<div style=\"background-color: #000; padding: 10px; text-align: center; border-radius: 5px; box-shadow: 0 0 10px rgba(255, 255, 255, 0.7);\">\n",
    "    <p style=\"font-family: 'JetBrains Mono', monospace; font-weight: bold; letter-spacing: 2px; color: #fff; font-size: 140%; text-shadow: 0 0 10px rgba(255, 255, 255, 0.7);\">Importing Modules and Libraries</p>\n",
    "</div>\n"
   ]
  },
  {
   "cell_type": "code",
   "execution_count": 1,
   "id": "474ffae4",
   "metadata": {
    "_cell_guid": "b1076dfc-b9ad-4769-8c92-a6c4dae69d19",
    "_kg_hide-output": true,
    "_uuid": "8f2839f25d086af736a60e9eeb907d3b93b6e0e5",
    "execution": {
     "iopub.execute_input": "2024-02-23T18:10:51.200462Z",
     "iopub.status.busy": "2024-02-23T18:10:51.199701Z",
     "iopub.status.idle": "2024-02-23T18:11:11.435919Z",
     "shell.execute_reply": "2024-02-23T18:11:11.434350Z"
    },
    "papermill": {
     "duration": 20.24916,
     "end_time": "2024-02-23T18:11:11.438718",
     "exception": false,
     "start_time": "2024-02-23T18:10:51.189558",
     "status": "completed"
    },
    "tags": []
   },
   "outputs": [
    {
     "name": "stderr",
     "output_type": "stream",
     "text": [
      "2024-02-23 18:10:54.159970: E external/local_xla/xla/stream_executor/cuda/cuda_dnn.cc:9261] Unable to register cuDNN factory: Attempting to register factory for plugin cuDNN when one has already been registered\n",
      "2024-02-23 18:10:54.160117: E external/local_xla/xla/stream_executor/cuda/cuda_fft.cc:607] Unable to register cuFFT factory: Attempting to register factory for plugin cuFFT when one has already been registered\n",
      "2024-02-23 18:10:54.372896: E external/local_xla/xla/stream_executor/cuda/cuda_blas.cc:1515] Unable to register cuBLAS factory: Attempting to register factory for plugin cuBLAS when one has already been registered\n"
     ]
    }
   ],
   "source": [
    "import tensorflow as tf\n",
    "import pandas as pd\n",
    "import numpy as np\n",
    "from sklearn import preprocessing\n",
    "import warnings\n",
    "warnings.filterwarnings('ignore')"
   ]
  },
  {
   "cell_type": "markdown",
   "id": "d9977dcf",
   "metadata": {
    "papermill": {
     "duration": 0.010751,
     "end_time": "2024-02-23T18:11:11.471654",
     "exception": false,
     "start_time": "2024-02-23T18:11:11.460903",
     "status": "completed"
    },
    "tags": []
   },
   "source": [
    "<div style=\"background-color: #000; padding: 10px; text-align: center; border-radius: 5px; box-shadow: 0 0 10px rgba(255, 255, 255, 0.7);\">\n",
    "    <p style=\"font-family: 'JetBrains Mono', monospace; font-weight: bold; letter-spacing: 2px; color: #fff; font-size: 140%; text-shadow: 0 0 10px rgba(255, 255, 255, 0.7);\">Reading Data</p>\n",
    "</div>\n"
   ]
  },
  {
   "cell_type": "code",
   "execution_count": 2,
   "id": "d03fbf59",
   "metadata": {
    "execution": {
     "iopub.execute_input": "2024-02-23T18:11:11.491893Z",
     "iopub.status.busy": "2024-02-23T18:11:11.491185Z",
     "iopub.status.idle": "2024-02-23T18:11:11.551003Z",
     "shell.execute_reply": "2024-02-23T18:11:11.549257Z"
    },
    "papermill": {
     "duration": 0.074081,
     "end_time": "2024-02-23T18:11:11.554312",
     "exception": false,
     "start_time": "2024-02-23T18:11:11.480231",
     "status": "completed"
    },
    "tags": []
   },
   "outputs": [],
   "source": [
    "data=pd.read_csv('/kaggle/input/audio-book/001 Audiobooks-data.csv')"
   ]
  },
  {
   "cell_type": "code",
   "execution_count": 3,
   "id": "1215c8bf",
   "metadata": {
    "execution": {
     "iopub.execute_input": "2024-02-23T18:11:11.573642Z",
     "iopub.status.busy": "2024-02-23T18:11:11.572214Z",
     "iopub.status.idle": "2024-02-23T18:11:11.592689Z",
     "shell.execute_reply": "2024-02-23T18:11:11.591476Z"
    },
    "papermill": {
     "duration": 0.033412,
     "end_time": "2024-02-23T18:11:11.595670",
     "exception": false,
     "start_time": "2024-02-23T18:11:11.562258",
     "status": "completed"
    },
    "tags": []
   },
   "outputs": [],
   "source": [
    "xdata=data.drop('0',axis=1)\n",
    "target=data['0']"
   ]
  },
  {
   "cell_type": "markdown",
   "id": "8f182720",
   "metadata": {
    "papermill": {
     "duration": 0.007623,
     "end_time": "2024-02-23T18:11:11.611446",
     "exception": false,
     "start_time": "2024-02-23T18:11:11.603823",
     "status": "completed"
    },
    "tags": []
   },
   "source": [
    "<div style=\"background-color: #000; padding: 10px; text-align: center; border-radius: 5px; box-shadow: 0 0 10px rgba(255, 255, 255, 0.7);\">\n",
    "    <p style=\"font-family: 'JetBrains Mono', monospace; font-weight: bold; letter-spacing: 2px; color: #fff; font-size: 140%; text-shadow: 0 0 10px rgba(255, 255, 255, 0.7);\">Balancing the class</p>\n",
    "</div>\n"
   ]
  },
  {
   "cell_type": "code",
   "execution_count": 4,
   "id": "52899458",
   "metadata": {
    "execution": {
     "iopub.execute_input": "2024-02-23T18:11:11.629338Z",
     "iopub.status.busy": "2024-02-23T18:11:11.628214Z",
     "iopub.status.idle": "2024-02-23T18:11:11.645681Z",
     "shell.execute_reply": "2024-02-23T18:11:11.644529Z"
    },
    "papermill": {
     "duration": 0.028829,
     "end_time": "2024-02-23T18:11:11.648117",
     "exception": false,
     "start_time": "2024-02-23T18:11:11.619288",
     "status": "completed"
    },
    "tags": []
   },
   "outputs": [
    {
     "data": {
      "text/plain": [
       "0\n",
       "0    11846\n",
       "1     2237\n",
       "Name: count, dtype: int64"
      ]
     },
     "execution_count": 4,
     "metadata": {},
     "output_type": "execute_result"
    }
   ],
   "source": [
    "target.value_counts()"
   ]
  },
  {
   "cell_type": "code",
   "execution_count": 5,
   "id": "35800434",
   "metadata": {
    "execution": {
     "iopub.execute_input": "2024-02-23T18:11:11.667100Z",
     "iopub.status.busy": "2024-02-23T18:11:11.666252Z",
     "iopub.status.idle": "2024-02-23T18:11:11.760955Z",
     "shell.execute_reply": "2024-02-23T18:11:11.759701Z"
    },
    "papermill": {
     "duration": 0.107492,
     "end_time": "2024-02-23T18:11:11.764224",
     "exception": false,
     "start_time": "2024-02-23T18:11:11.656732",
     "status": "completed"
    },
    "tags": []
   },
   "outputs": [],
   "source": [
    "val=int(np.sum(target))\n",
    "count=0\n",
    "index=[]\n",
    "for i in range(len(target)):\n",
    "    if target[i] == 0 and count<val:\n",
    "        count+=1\n",
    "        index.append(i)\n",
    "    elif count>val:\n",
    "        break\n",
    "\n",
    "index.extend(list(np.where(np.array(target)==1)[0]))\n",
    "np.random.seed(10)\n",
    "np.random.shuffle(index)\n",
    "xdata=xdata.loc[index]\n",
    "target=target[index]"
   ]
  },
  {
   "cell_type": "markdown",
   "id": "3e81da9a",
   "metadata": {
    "papermill": {
     "duration": 0.007962,
     "end_time": "2024-02-23T18:11:11.780211",
     "exception": false,
     "start_time": "2024-02-23T18:11:11.772249",
     "status": "completed"
    },
    "tags": []
   },
   "source": [
    "<div style=\"background-color: #000; padding: 10px; text-align: center; border-radius: 5px; box-shadow: 0 0 10px rgba(255, 255, 255, 0.7);\">\n",
    "    <p style=\"font-family: 'JetBrains Mono', monospace; font-weight: bold; letter-spacing: 2px; color: #fff; font-size: 140%; text-shadow: 0 0 10px rgba(255, 255, 255, 0.7);\">Data Preprocessing</p>\n",
    "</div>\n"
   ]
  },
  {
   "cell_type": "code",
   "execution_count": 6,
   "id": "be7cf35b",
   "metadata": {
    "execution": {
     "iopub.execute_input": "2024-02-23T18:11:11.798104Z",
     "iopub.status.busy": "2024-02-23T18:11:11.797711Z",
     "iopub.status.idle": "2024-02-23T18:11:11.807674Z",
     "shell.execute_reply": "2024-02-23T18:11:11.806211Z"
    },
    "papermill": {
     "duration": 0.022119,
     "end_time": "2024-02-23T18:11:11.810301",
     "exception": false,
     "start_time": "2024-02-23T18:11:11.788182",
     "status": "completed"
    },
    "tags": []
   },
   "outputs": [],
   "source": [
    "xdata=preprocessing.scale(xdata)"
   ]
  },
  {
   "cell_type": "markdown",
   "id": "e9066db2",
   "metadata": {
    "papermill": {
     "duration": 0.008504,
     "end_time": "2024-02-23T18:11:11.826663",
     "exception": false,
     "start_time": "2024-02-23T18:11:11.818159",
     "status": "completed"
    },
    "tags": []
   },
   "source": [
    "<div style=\"background-color: #000; padding: 10px; text-align: center; border-radius: 5px; box-shadow: 0 0 10px rgba(255, 255, 255, 0.7);\">\n",
    "    <p style=\"font-family: 'JetBrains Mono', monospace; font-weight: bold; letter-spacing: 2px; color: #fff; font-size: 140%; text-shadow: 0 0 10px rgba(255, 255, 255, 0.7);\">Splitting Data</p>\n",
    "</div>\n"
   ]
  },
  {
   "cell_type": "code",
   "execution_count": 7,
   "id": "28f9c813",
   "metadata": {
    "execution": {
     "iopub.execute_input": "2024-02-23T18:11:11.844281Z",
     "iopub.status.busy": "2024-02-23T18:11:11.843884Z",
     "iopub.status.idle": "2024-02-23T18:11:11.849487Z",
     "shell.execute_reply": "2024-02-23T18:11:11.848280Z"
    },
    "papermill": {
     "duration": 0.017353,
     "end_time": "2024-02-23T18:11:11.851795",
     "exception": false,
     "start_time": "2024-02-23T18:11:11.834442",
     "status": "completed"
    },
    "tags": []
   },
   "outputs": [],
   "source": [
    "size=xdata.shape[0]\n",
    "validation_size=int(size*0.1)\n",
    "test_size=int(size*0.1)\n",
    "train_size=int(size*0.8)\n"
   ]
  },
  {
   "cell_type": "code",
   "execution_count": 8,
   "id": "56eddf01",
   "metadata": {
    "execution": {
     "iopub.execute_input": "2024-02-23T18:11:11.871497Z",
     "iopub.status.busy": "2024-02-23T18:11:11.869974Z",
     "iopub.status.idle": "2024-02-23T18:11:11.880569Z",
     "shell.execute_reply": "2024-02-23T18:11:11.878873Z"
    },
    "papermill": {
     "duration": 0.02301,
     "end_time": "2024-02-23T18:11:11.883224",
     "exception": false,
     "start_time": "2024-02-23T18:11:11.860214",
     "status": "completed"
    },
    "tags": []
   },
   "outputs": [
    {
     "name": "stdout",
     "output_type": "stream",
     "text": [
      "0.49678681195864766\n",
      "0.5346756152125279\n",
      "0.49217002237136465\n"
     ]
    }
   ],
   "source": [
    "train_x=xdata[:train_size]\n",
    "validation_x=xdata[train_size:train_size+validation_size]\n",
    "test_x=xdata[train_size+validation_size:]\n",
    "train_y=target[:train_size]\n",
    "validation_y=target[train_size:train_size+validation_size]\n",
    "test_y=target[train_size+validation_size:]\n",
    "print(np.sum(train_y)/train_size)\n",
    "print(np.sum(validation_y)/validation_size)\n",
    "print(np.sum(test_y)/test_size)"
   ]
  },
  {
   "cell_type": "markdown",
   "id": "8d533313",
   "metadata": {
    "papermill": {
     "duration": 0.00778,
     "end_time": "2024-02-23T18:11:11.899282",
     "exception": false,
     "start_time": "2024-02-23T18:11:11.891502",
     "status": "completed"
    },
    "tags": []
   },
   "source": [
    "<div style=\"background-color: #000; padding: 10px; text-align: center; border-radius: 5px; box-shadow: 0 0 10px rgba(255, 255, 255, 0.7);\">\n",
    "    <p style=\"font-family: 'JetBrains Mono', monospace; font-weight: bold; letter-spacing: 2px; color: #fff; font-size: 140%; text-shadow: 0 0 10px rgba(255, 255, 255, 0.7);\">Data Saving</p>\n",
    "</div>\n"
   ]
  },
  {
   "cell_type": "code",
   "execution_count": 9,
   "id": "b43f1b7f",
   "metadata": {
    "execution": {
     "iopub.execute_input": "2024-02-23T18:11:11.917022Z",
     "iopub.status.busy": "2024-02-23T18:11:11.916626Z",
     "iopub.status.idle": "2024-02-23T18:11:11.924973Z",
     "shell.execute_reply": "2024-02-23T18:11:11.924004Z"
    },
    "papermill": {
     "duration": 0.020053,
     "end_time": "2024-02-23T18:11:11.927347",
     "exception": false,
     "start_time": "2024-02-23T18:11:11.907294",
     "status": "completed"
    },
    "tags": []
   },
   "outputs": [],
   "source": [
    "np.savez('/kaggle/working/train.npz',inputs=train_x,outputs=train_y)\n",
    "np.savez('/kaggle/working/validation.npz',inputs=validation_x,outputs=validation_y)\n",
    "np.savez('/kaggle/working/test.npz',inputs=test_x,outputs=test_y)"
   ]
  },
  {
   "cell_type": "markdown",
   "id": "84d7a5cb",
   "metadata": {
    "papermill": {
     "duration": 0.008056,
     "end_time": "2024-02-23T18:11:11.943871",
     "exception": false,
     "start_time": "2024-02-23T18:11:11.935815",
     "status": "completed"
    },
    "tags": []
   },
   "source": [
    "<div style=\"background-color: #000; padding: 10px; text-align: center; border-radius: 5px; box-shadow: 0 0 10px rgba(255, 255, 255, 0.7);\">\n",
    "    <p style=\"font-family: 'JetBrains Mono', monospace; font-weight: bold; letter-spacing: 2px; color: #fff; font-size: 140%; text-shadow: 0 0 10px rgba(255, 255, 255, 0.7);\">Data Loading</p>\n",
    "</div>\n"
   ]
  },
  {
   "cell_type": "code",
   "execution_count": 10,
   "id": "edbe509a",
   "metadata": {
    "execution": {
     "iopub.execute_input": "2024-02-23T18:11:11.961938Z",
     "iopub.status.busy": "2024-02-23T18:11:11.960837Z",
     "iopub.status.idle": "2024-02-23T18:11:11.973013Z",
     "shell.execute_reply": "2024-02-23T18:11:11.971513Z"
    },
    "papermill": {
     "duration": 0.024049,
     "end_time": "2024-02-23T18:11:11.975828",
     "exception": false,
     "start_time": "2024-02-23T18:11:11.951779",
     "status": "completed"
    },
    "tags": []
   },
   "outputs": [],
   "source": [
    "train=np.load('/kaggle/working/train.npz')\n",
    "test=np.load('/kaggle/working/test.npz')\n",
    "validation=np.load('/kaggle/working/validation.npz')\n",
    "\n",
    "train_input=train['inputs']\n",
    "train_target=train['outputs']\n",
    "test_input=test['inputs']\n",
    "test_output=test['outputs']\n",
    "validation_input=validation['inputs']\n",
    "validation_output=validation['outputs']"
   ]
  },
  {
   "cell_type": "markdown",
   "id": "b3a86063",
   "metadata": {
    "papermill": {
     "duration": 0.007594,
     "end_time": "2024-02-23T18:11:11.991444",
     "exception": false,
     "start_time": "2024-02-23T18:11:11.983850",
     "status": "completed"
    },
    "tags": []
   },
   "source": [
    "<div style=\"background-color: #000; padding: 10px; text-align: center; border-radius: 5px; box-shadow: 0 0 10px rgba(255, 255, 255, 0.7);\">\n",
    "    <p style=\"font-family: 'JetBrains Mono', monospace; font-weight: bold; letter-spacing: 2px; color: #fff; font-size: 140%; text-shadow: 0 0 10px rgba(255, 255, 255, 0.7);\">Model Creation</p>\n",
    "</div>\n"
   ]
  },
  {
   "cell_type": "code",
   "execution_count": 11,
   "id": "39e53c8a",
   "metadata": {
    "execution": {
     "iopub.execute_input": "2024-02-23T18:11:12.009015Z",
     "iopub.status.busy": "2024-02-23T18:11:12.008604Z",
     "iopub.status.idle": "2024-02-23T18:11:12.244896Z",
     "shell.execute_reply": "2024-02-23T18:11:12.243551Z"
    },
    "papermill": {
     "duration": 0.248877,
     "end_time": "2024-02-23T18:11:12.248431",
     "exception": false,
     "start_time": "2024-02-23T18:11:11.999554",
     "status": "completed"
    },
    "tags": []
   },
   "outputs": [],
   "source": [
    "input_size=train_input.shape[1]\n",
    "output_size=2\n",
    "hidden_unit=150\n",
    "model=tf.keras.Sequential(\n",
    "    [\n",
    "        tf.keras.layers.Dense(hidden_unit,activation='relu'),\n",
    "        tf.keras.layers.Dense(hidden_unit,activation='relu'),\n",
    "        tf.keras.layers.Dense(output_size,activation='softmax'),\n",
    "        \n",
    "    ]\n",
    ")\n",
    "model.compile(loss='sparse_categorical_crossentropy',optimizer='adam',metrics=['accuracy'])"
   ]
  },
  {
   "cell_type": "code",
   "execution_count": 12,
   "id": "ab623b10",
   "metadata": {
    "execution": {
     "iopub.execute_input": "2024-02-23T18:11:12.267242Z",
     "iopub.status.busy": "2024-02-23T18:11:12.266818Z",
     "iopub.status.idle": "2024-02-23T18:11:14.589129Z",
     "shell.execute_reply": "2024-02-23T18:11:14.588172Z"
    },
    "papermill": {
     "duration": 2.335476,
     "end_time": "2024-02-23T18:11:14.592104",
     "exception": false,
     "start_time": "2024-02-23T18:11:12.256628",
     "status": "completed"
    },
    "tags": []
   },
   "outputs": [
    {
     "name": "stdout",
     "output_type": "stream",
     "text": [
      "Epoch 1/100\n",
      "36/36 - 1s - loss: 0.5049 - accuracy: 0.7418 - val_loss: 0.4593 - val_accuracy: 0.7226 - 1s/epoch - 36ms/step\n",
      "Epoch 2/100\n",
      "36/36 - 0s - loss: 0.3963 - accuracy: 0.7790 - val_loss: 0.4263 - val_accuracy: 0.7651 - 117ms/epoch - 3ms/step\n",
      "Epoch 3/100\n",
      "36/36 - 0s - loss: 0.3688 - accuracy: 0.7930 - val_loss: 0.4276 - val_accuracy: 0.7517 - 119ms/epoch - 3ms/step\n",
      "Epoch 4/100\n",
      "36/36 - 0s - loss: 0.3532 - accuracy: 0.8072 - val_loss: 0.4321 - val_accuracy: 0.7405 - 131ms/epoch - 4ms/step\n",
      "Epoch 5/100\n",
      "36/36 - 0s - loss: 0.3437 - accuracy: 0.8192 - val_loss: 0.4464 - val_accuracy: 0.7360 - 135ms/epoch - 4ms/step\n",
      "Epoch 6/100\n",
      "36/36 - 0s - loss: 0.3429 - accuracy: 0.8145 - val_loss: 0.4661 - val_accuracy: 0.7383 - 142ms/epoch - 4ms/step\n"
     ]
    },
    {
     "data": {
      "text/plain": [
       "<keras.src.callbacks.History at 0x7e7fb9ddfb50>"
      ]
     },
     "execution_count": 12,
     "metadata": {},
     "output_type": "execute_result"
    }
   ],
   "source": [
    "EPOCHS=100\n",
    "BATCH_SIZE=100\n",
    "early_stopping=tf.keras.callbacks.EarlyStopping(patience=4)\n",
    "model.fit(train_input,train_target,validation_data=(validation_input,validation_output),epochs=EPOCHS,batch_size=BATCH_SIZE,callbacks=[early_stopping],verbose=2)"
   ]
  },
  {
   "cell_type": "markdown",
   "id": "753806d3",
   "metadata": {
    "execution": {
     "iopub.execute_input": "2024-02-23T17:55:23.967827Z",
     "iopub.status.busy": "2024-02-23T17:55:23.967338Z",
     "iopub.status.idle": "2024-02-23T17:55:23.978225Z",
     "shell.execute_reply": "2024-02-23T17:55:23.976486Z",
     "shell.execute_reply.started": "2024-02-23T17:55:23.967792Z"
    },
    "papermill": {
     "duration": 0.009253,
     "end_time": "2024-02-23T18:11:14.611036",
     "exception": false,
     "start_time": "2024-02-23T18:11:14.601783",
     "status": "completed"
    },
    "tags": []
   },
   "source": [
    "<div style=\"background-color: #000; padding: 10px; text-align: center; border-radius: 5px; box-shadow: 0 0 10px rgba(255, 255, 255, 0.7);\">\n",
    "    <p style=\"font-family: 'JetBrains Mono', monospace; font-weight: bold; letter-spacing: 2px; color: #fff; font-size: 140%; text-shadow: 0 0 10px rgba(255, 255, 255, 0.7);\">Testing Model</p>\n",
    "</div>\n"
   ]
  },
  {
   "cell_type": "code",
   "execution_count": 13,
   "id": "9f502b29",
   "metadata": {
    "execution": {
     "iopub.execute_input": "2024-02-23T18:11:14.633239Z",
     "iopub.status.busy": "2024-02-23T18:11:14.632746Z",
     "iopub.status.idle": "2024-02-23T18:11:14.748804Z",
     "shell.execute_reply": "2024-02-23T18:11:14.747177Z"
    },
    "papermill": {
     "duration": 0.130791,
     "end_time": "2024-02-23T18:11:14.752067",
     "exception": false,
     "start_time": "2024-02-23T18:11:14.621276",
     "status": "completed"
    },
    "tags": []
   },
   "outputs": [
    {
     "name": "stdout",
     "output_type": "stream",
     "text": [
      "14/14 [==============================] - 0s 2ms/step - loss: 0.3788 - accuracy: 0.7857\n"
     ]
    }
   ],
   "source": [
    "loss,accuracy=model.evaluate(test_input,test_output)"
   ]
  },
  {
   "cell_type": "code",
   "execution_count": 14,
   "id": "ce39d8dc",
   "metadata": {
    "execution": {
     "iopub.execute_input": "2024-02-23T18:11:14.776305Z",
     "iopub.status.busy": "2024-02-23T18:11:14.775911Z",
     "iopub.status.idle": "2024-02-23T18:11:14.781246Z",
     "shell.execute_reply": "2024-02-23T18:11:14.780027Z"
    },
    "papermill": {
     "duration": 0.021285,
     "end_time": "2024-02-23T18:11:14.784601",
     "exception": false,
     "start_time": "2024-02-23T18:11:14.763316",
     "status": "completed"
    },
    "tags": []
   },
   "outputs": [
    {
     "name": "stdout",
     "output_type": "stream",
     "text": [
      "loss : 0.38\n",
      "Accuracy : 78.57%\n"
     ]
    }
   ],
   "source": [
    "print(f'loss : {loss:.2f}\\nAccuracy : {accuracy*100:.2f}%')"
   ]
  },
  {
   "cell_type": "markdown",
   "id": "2c30815e",
   "metadata": {
    "execution": {
     "iopub.execute_input": "2024-02-23T17:34:04.346998Z",
     "iopub.status.busy": "2024-02-23T17:34:04.346526Z",
     "iopub.status.idle": "2024-02-23T17:34:04.431459Z",
     "shell.execute_reply": "2024-02-23T17:34:04.430175Z",
     "shell.execute_reply.started": "2024-02-23T17:34:04.346966Z"
    },
    "papermill": {
     "duration": 0.009608,
     "end_time": "2024-02-23T18:11:14.804813",
     "exception": false,
     "start_time": "2024-02-23T18:11:14.795205",
     "status": "completed"
    },
    "tags": []
   },
   "source": [
    "<div style=\"background-color: #000; padding: 10px; text-align: center; border-radius: 5px; box-shadow: 0 0 10px rgba(255, 255, 255, 0.7);\">\n",
    "    <p style=\"font-family: 'JetBrains Mono', monospace; font-weight: bold; letter-spacing: 2px; color: #fff; font-size: 140%; text-shadow: 0 0 10px rgba(255, 255, 255, 0.7);\">Thank You</p>\n",
    "</div>\n"
   ]
  }
 ],
 "metadata": {
  "kaggle": {
   "accelerator": "none",
   "dataSources": [
    {
     "datasetId": 4485371,
     "sourceId": 7686546,
     "sourceType": "datasetVersion"
    }
   ],
   "isGpuEnabled": false,
   "isInternetEnabled": true,
   "language": "python",
   "sourceType": "notebook"
  },
  "kernelspec": {
   "display_name": "Python 3",
   "language": "python",
   "name": "python3"
  },
  "language_info": {
   "codemirror_mode": {
    "name": "ipython",
    "version": 3
   },
   "file_extension": ".py",
   "mimetype": "text/x-python",
   "name": "python",
   "nbconvert_exporter": "python",
   "pygments_lexer": "ipython3",
   "version": "3.10.13"
  },
  "papermill": {
   "default_parameters": {},
   "duration": 28.819636,
   "end_time": "2024-02-23T18:11:16.540912",
   "environment_variables": {},
   "exception": null,
   "input_path": "__notebook__.ipynb",
   "output_path": "__notebook__.ipynb",
   "parameters": {},
   "start_time": "2024-02-23T18:10:47.721276",
   "version": "2.5.0"
  }
 },
 "nbformat": 4,
 "nbformat_minor": 5
}

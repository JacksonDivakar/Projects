{
 "cells": [
  {
   "cell_type": "code",
   "execution_count": 1,
   "id": "9954553e",
   "metadata": {
    "execution": {
     "iopub.execute_input": "2024-07-25T13:15:58.144284Z",
     "iopub.status.busy": "2024-07-25T13:15:58.144011Z",
     "iopub.status.idle": "2024-07-25T13:16:11.636492Z",
     "shell.execute_reply": "2024-07-25T13:16:11.635591Z"
    },
    "papermill": {
     "duration": 13.500872,
     "end_time": "2024-07-25T13:16:11.638958",
     "exception": false,
     "start_time": "2024-07-25T13:15:58.138086",
     "status": "completed"
    },
    "tags": []
   },
   "outputs": [
    {
     "name": "stderr",
     "output_type": "stream",
     "text": [
      "2024-07-25 13:16:01.784021: E external/local_xla/xla/stream_executor/cuda/cuda_dnn.cc:9261] Unable to register cuDNN factory: Attempting to register factory for plugin cuDNN when one has already been registered\n",
      "2024-07-25 13:16:01.784146: E external/local_xla/xla/stream_executor/cuda/cuda_fft.cc:607] Unable to register cuFFT factory: Attempting to register factory for plugin cuFFT when one has already been registered\n",
      "2024-07-25 13:16:01.907635: E external/local_xla/xla/stream_executor/cuda/cuda_blas.cc:1515] Unable to register cuBLAS factory: Attempting to register factory for plugin cuBLAS when one has already been registered\n"
     ]
    }
   ],
   "source": [
    "import pandas as pd\n",
    "import numpy as np\n",
    "import matplotlib.pyplot as plt\n",
    "import seaborn as sb\n",
    "from tensorflow.keras.layers import Conv2D,MaxPool2D,BatchNormalization,Flatten,Dense,Input,Dropout\n",
    "from tensorflow.keras.models import Model"
   ]
  },
  {
   "cell_type": "code",
   "execution_count": 2,
   "id": "59037ea5",
   "metadata": {
    "execution": {
     "iopub.execute_input": "2024-07-25T13:16:11.650714Z",
     "iopub.status.busy": "2024-07-25T13:16:11.649668Z",
     "iopub.status.idle": "2024-07-25T13:16:11.655473Z",
     "shell.execute_reply": "2024-07-25T13:16:11.654608Z"
    },
    "papermill": {
     "duration": 0.013415,
     "end_time": "2024-07-25T13:16:11.657442",
     "exception": false,
     "start_time": "2024-07-25T13:16:11.644027",
     "status": "completed"
    },
    "tags": []
   },
   "outputs": [],
   "source": [
    "from tensorflow.keras.preprocessing.image import ImageDataGenerator"
   ]
  },
  {
   "cell_type": "code",
   "execution_count": 3,
   "id": "d90f7a5d",
   "metadata": {
    "execution": {
     "iopub.execute_input": "2024-07-25T13:16:11.667836Z",
     "iopub.status.busy": "2024-07-25T13:16:11.667560Z",
     "iopub.status.idle": "2024-07-25T13:16:11.672064Z",
     "shell.execute_reply": "2024-07-25T13:16:11.671240Z"
    },
    "papermill": {
     "duration": 0.011806,
     "end_time": "2024-07-25T13:16:11.673928",
     "exception": false,
     "start_time": "2024-07-25T13:16:11.662122",
     "status": "completed"
    },
    "tags": []
   },
   "outputs": [],
   "source": [
    "train=ImageDataGenerator(rescale=1/255.0,validation_split=0.2)\n",
    "test=ImageDataGenerator(rescale=1/255.0)"
   ]
  },
  {
   "cell_type": "code",
   "execution_count": 4,
   "id": "53a2fee3",
   "metadata": {
    "execution": {
     "iopub.execute_input": "2024-07-25T13:16:11.684582Z",
     "iopub.status.busy": "2024-07-25T13:16:11.684060Z",
     "iopub.status.idle": "2024-07-25T13:16:11.688150Z",
     "shell.execute_reply": "2024-07-25T13:16:11.687350Z"
    },
    "papermill": {
     "duration": 0.011789,
     "end_time": "2024-07-25T13:16:11.690301",
     "exception": false,
     "start_time": "2024-07-25T13:16:11.678512",
     "status": "completed"
    },
    "tags": []
   },
   "outputs": [],
   "source": [
    "from PIL import Image"
   ]
  },
  {
   "cell_type": "code",
   "execution_count": 5,
   "id": "5e94ac18",
   "metadata": {
    "execution": {
     "iopub.execute_input": "2024-07-25T13:16:11.701173Z",
     "iopub.status.busy": "2024-07-25T13:16:11.700602Z",
     "iopub.status.idle": "2024-07-25T13:16:11.725706Z",
     "shell.execute_reply": "2024-07-25T13:16:11.724939Z"
    },
    "papermill": {
     "duration": 0.032779,
     "end_time": "2024-07-25T13:16:11.727639",
     "exception": false,
     "start_time": "2024-07-25T13:16:11.694860",
     "status": "completed"
    },
    "tags": []
   },
   "outputs": [],
   "source": [
    "img_arr=np.array(Image.open('/kaggle/input/fer2013/train/angry/Training_1021836.jpg'))"
   ]
  },
  {
   "cell_type": "code",
   "execution_count": 6,
   "id": "c3850dc7",
   "metadata": {
    "execution": {
     "iopub.execute_input": "2024-07-25T13:16:11.738774Z",
     "iopub.status.busy": "2024-07-25T13:16:11.738028Z",
     "iopub.status.idle": "2024-07-25T13:16:11.745417Z",
     "shell.execute_reply": "2024-07-25T13:16:11.744431Z"
    },
    "papermill": {
     "duration": 0.014832,
     "end_time": "2024-07-25T13:16:11.747340",
     "exception": false,
     "start_time": "2024-07-25T13:16:11.732508",
     "status": "completed"
    },
    "tags": []
   },
   "outputs": [
    {
     "data": {
      "text/plain": [
       "(48, 48)"
      ]
     },
     "execution_count": 6,
     "metadata": {},
     "output_type": "execute_result"
    }
   ],
   "source": [
    "img_arr.shape"
   ]
  },
  {
   "cell_type": "code",
   "execution_count": 7,
   "id": "46a7baeb",
   "metadata": {
    "execution": {
     "iopub.execute_input": "2024-07-25T13:16:11.759150Z",
     "iopub.status.busy": "2024-07-25T13:16:11.758514Z",
     "iopub.status.idle": "2024-07-25T13:16:12.020482Z",
     "shell.execute_reply": "2024-07-25T13:16:12.019411Z"
    },
    "papermill": {
     "duration": 0.269603,
     "end_time": "2024-07-25T13:16:12.022347",
     "exception": false,
     "start_time": "2024-07-25T13:16:11.752744",
     "status": "completed"
    },
    "tags": []
   },
   "outputs": [
    {
     "data": {
      "text/plain": [
       "<matplotlib.image.AxesImage at 0x7864df80a620>"
      ]
     },
     "execution_count": 7,
     "metadata": {},
     "output_type": "execute_result"
    },
    {
     "data": {
      "image/png": "[encoded data removed]",
      "text/plain": [
       "<Figure size 640x480 with 1 Axes>"
      ]
     },
     "metadata": {},
     "output_type": "display_data"
    }
   ],
   "source": [
    "plt.imshow(img_arr,cmap='gray')"
   ]
  },
  {
   "cell_type": "code",
   "execution_count": 8,
   "id": "e16f1710",
   "metadata": {
    "execution": {
     "iopub.execute_input": "2024-07-25T13:16:12.034783Z",
     "iopub.status.busy": "2024-07-25T13:16:12.034501Z",
     "iopub.status.idle": "2024-07-25T13:16:12.038282Z",
     "shell.execute_reply": "2024-07-25T13:16:12.037427Z"
    },
    "papermill": {
     "duration": 0.012416,
     "end_time": "2024-07-25T13:16:12.040418",
     "exception": false,
     "start_time": "2024-07-25T13:16:12.028002",
     "status": "completed"
    },
    "tags": []
   },
   "outputs": [],
   "source": [
    "BATCH_SIZE=32"
   ]
  },
  {
   "cell_type": "code",
   "execution_count": 9,
   "id": "41a5d70d",
   "metadata": {
    "execution": {
     "iopub.execute_input": "2024-07-25T13:16:12.053034Z",
     "iopub.status.busy": "2024-07-25T13:16:12.052329Z",
     "iopub.status.idle": "2024-07-25T13:16:31.676002Z",
     "shell.execute_reply": "2024-07-25T13:16:31.675198Z"
    },
    "papermill": {
     "duration": 19.632233,
     "end_time": "2024-07-25T13:16:31.678064",
     "exception": false,
     "start_time": "2024-07-25T13:16:12.045831",
     "status": "completed"
    },
    "tags": []
   },
   "outputs": [
    {
     "name": "stdout",
     "output_type": "stream",
     "text": [
      "Found 22968 images belonging to 7 classes.\n",
      "Found 5741 images belonging to 7 classes.\n",
      "Found 7178 images belonging to 7 classes.\n"
     ]
    }
   ],
   "source": [
    "train_obj=train.flow_from_directory('/kaggle/input/fer2013/train',subset='training',target_size=(48,48),color_mode='grayscale',class_mode='categorical',batch_size=BATCH_SIZE)\n",
    "val_obj=train.flow_from_directory('/kaggle/input/fer2013/train',subset='validation',target_size=(48,48),color_mode='grayscale',class_mode='categorical',batch_size=BATCH_SIZE)\n",
    "test_obj=test.flow_from_directory('/kaggle/input/fer2013/test',target_size=(48,48),batch_size=BATCH_SIZE,class_mode='categorical',color_mode='grayscale')"
   ]
  },
  {
   "cell_type": "code",
   "execution_count": 10,
   "id": "93522e65",
   "metadata": {
    "execution": {
     "iopub.execute_input": "2024-07-25T13:16:31.691218Z",
     "iopub.status.busy": "2024-07-25T13:16:31.690877Z",
     "iopub.status.idle": "2024-07-25T13:16:31.696553Z",
     "shell.execute_reply": "2024-07-25T13:16:31.695640Z"
    },
    "papermill": {
     "duration": 0.014313,
     "end_time": "2024-07-25T13:16:31.698544",
     "exception": false,
     "start_time": "2024-07-25T13:16:31.684231",
     "status": "completed"
    },
    "tags": []
   },
   "outputs": [
    {
     "data": {
      "text/plain": [
       "(48, 48, 1)"
      ]
     },
     "execution_count": 10,
     "metadata": {},
     "output_type": "execute_result"
    }
   ],
   "source": [
    "test_obj.image_shape"
   ]
  },
  {
   "cell_type": "code",
   "execution_count": 11,
   "id": "209f55a5",
   "metadata": {
    "execution": {
     "iopub.execute_input": "2024-07-25T13:16:31.711781Z",
     "iopub.status.busy": "2024-07-25T13:16:31.711463Z",
     "iopub.status.idle": "2024-07-25T13:16:31.717606Z",
     "shell.execute_reply": "2024-07-25T13:16:31.716633Z"
    },
    "papermill": {
     "duration": 0.01484,
     "end_time": "2024-07-25T13:16:31.719523",
     "exception": false,
     "start_time": "2024-07-25T13:16:31.704683",
     "status": "completed"
    },
    "tags": []
   },
   "outputs": [
    {
     "data": {
      "text/plain": [
       "22968"
      ]
     },
     "execution_count": 11,
     "metadata": {},
     "output_type": "execute_result"
    }
   ],
   "source": [
    "train_obj.n"
   ]
  },
  {
   "cell_type": "code",
   "execution_count": 12,
   "id": "2b5fa51a",
   "metadata": {
    "execution": {
     "iopub.execute_input": "2024-07-25T13:16:31.733022Z",
     "iopub.status.busy": "2024-07-25T13:16:31.732785Z",
     "iopub.status.idle": "2024-07-25T13:16:31.738116Z",
     "shell.execute_reply": "2024-07-25T13:16:31.737281Z"
    },
    "papermill": {
     "duration": 0.014342,
     "end_time": "2024-07-25T13:16:31.740079",
     "exception": false,
     "start_time": "2024-07-25T13:16:31.725737",
     "status": "completed"
    },
    "tags": []
   },
   "outputs": [
    {
     "data": {
      "text/plain": [
       "array([0, 0, 0, ..., 6, 6, 6], dtype=int32)"
      ]
     },
     "execution_count": 12,
     "metadata": {},
     "output_type": "execute_result"
    }
   ],
   "source": [
    "train_obj.classes"
   ]
  },
  {
   "cell_type": "code",
   "execution_count": 13,
   "id": "e5396582",
   "metadata": {
    "execution": {
     "iopub.execute_input": "2024-07-25T13:16:31.754303Z",
     "iopub.status.busy": "2024-07-25T13:16:31.753838Z",
     "iopub.status.idle": "2024-07-25T13:16:32.550716Z",
     "shell.execute_reply": "2024-07-25T13:16:32.549933Z"
    },
    "papermill": {
     "duration": 0.806406,
     "end_time": "2024-07-25T13:16:32.553076",
     "exception": false,
     "start_time": "2024-07-25T13:16:31.746670",
     "status": "completed"
    },
    "tags": []
   },
   "outputs": [],
   "source": [
    "i=Input(shape=train_obj.image_shape)\n",
    "x=Conv2D(filters=32,kernel_size=(3,3),activation='relu')(i)\n",
    "x=BatchNormalization()(x)\n",
    "x=Conv2D(filters=32,kernel_size=(3,3),activation='relu')(i)\n",
    "x=MaxPool2D(pool_size=(2,2))(x)\n",
    "x=Conv2D(filters=64,kernel_size=(3,3),activation='relu')(i)\n",
    "x=BatchNormalization()(x)\n",
    "x=Conv2D(filters=64,kernel_size=(3,3),activation='relu')(i)\n",
    "x=MaxPool2D(pool_size=(2,2))(x)\n",
    "x=Conv2D(filters=128,kernel_size=(3,3),activation='relu')(i)\n",
    "x=Conv2D(filters=128,kernel_size=(3,3),activation='relu')(i)\n",
    "x=BatchNormalization()(x)\n",
    "x=Conv2D(filters=128,kernel_size=(3,3),activation='relu')(i)\n",
    "x=MaxPool2D(pool_size=(2,2))(x)\n",
    "x=Flatten()(x)\n",
    "x=Dense(128,activation='relu')(x)\n",
    "x=Dropout(0.2)(x)\n",
    "x=Dense(7,activation='softmax')(x)\n",
    "model=Model(i,x)"
   ]
  },
  {
   "cell_type": "code",
   "execution_count": 14,
   "id": "e3cc5d24",
   "metadata": {
    "execution": {
     "iopub.execute_input": "2024-07-25T13:16:32.568613Z",
     "iopub.status.busy": "2024-07-25T13:16:32.568327Z",
     "iopub.status.idle": "2024-07-25T13:16:32.573706Z",
     "shell.execute_reply": "2024-07-25T13:16:32.572501Z"
    },
    "papermill": {
     "duration": 0.014918,
     "end_time": "2024-07-25T13:16:32.575635",
     "exception": false,
     "start_time": "2024-07-25T13:16:32.560717",
     "status": "completed"
    },
    "tags": []
   },
   "outputs": [],
   "source": [
    "steps_per_epoch_train=train_obj.n//BATCH_SIZE\n",
    "steps_per_epoch_val=val_obj.n//BATCH_SIZE\n",
    "steps_per_epoch_test=test_obj.n//BATCH_SIZE\n"
   ]
  },
  {
   "cell_type": "code",
   "execution_count": 15,
   "id": "36904dbf",
   "metadata": {
    "execution": {
     "iopub.execute_input": "2024-07-25T13:16:32.591702Z",
     "iopub.status.busy": "2024-07-25T13:16:32.591346Z",
     "iopub.status.idle": "2024-07-25T13:16:32.599278Z",
     "shell.execute_reply": "2024-07-25T13:16:32.598169Z"
    },
    "papermill": {
     "duration": 0.019289,
     "end_time": "2024-07-25T13:16:32.601635",
     "exception": false,
     "start_time": "2024-07-25T13:16:32.582346",
     "status": "completed"
    },
    "tags": []
   },
   "outputs": [],
   "source": [
    "from tensorflow.keras.callbacks import ReduceLROnPlateau\n",
    "rp=ReduceLROnPlateau()"
   ]
  },
  {
   "cell_type": "code",
   "execution_count": 16,
   "id": "71e054f1",
   "metadata": {
    "execution": {
     "iopub.execute_input": "2024-07-25T13:16:32.620803Z",
     "iopub.status.busy": "2024-07-25T13:16:32.620447Z",
     "iopub.status.idle": "2024-07-25T13:16:32.636535Z",
     "shell.execute_reply": "2024-07-25T13:16:32.635415Z"
    },
    "papermill": {
     "duration": 0.029452,
     "end_time": "2024-07-25T13:16:32.638811",
     "exception": false,
     "start_time": "2024-07-25T13:16:32.609359",
     "status": "completed"
    },
    "tags": []
   },
   "outputs": [],
   "source": [
    "model.compile(optimizer='adam',loss='categorical_crossentropy',metrics=['accuracy','recall','precision'])"
   ]
  },
  {
   "cell_type": "code",
   "execution_count": 17,
   "id": "66bdb83f",
   "metadata": {
    "execution": {
     "iopub.execute_input": "2024-07-25T13:16:32.657818Z",
     "iopub.status.busy": "2024-07-25T13:16:32.657533Z",
     "iopub.status.idle": "2024-07-25T14:44:37.776201Z",
     "shell.execute_reply": "2024-07-25T14:44:37.775190Z"
    },
    "papermill": {
     "duration": 5285.131138,
     "end_time": "2024-07-25T14:44:37.778444",
     "exception": false,
     "start_time": "2024-07-25T13:16:32.647306",
     "status": "completed"
    },
    "tags": []
   },
   "outputs": [
    {
     "name": "stdout",
     "output_type": "stream",
     "text": [
      "Epoch 1/300\n"
     ]
    },
    {
     "name": "stderr",
     "output_type": "stream",
     "text": [
      "/opt/conda/lib/python3.10/site-packages/keras/src/trainers/data_adapters/py_dataset_adapter.py:121: UserWarning: Your `PyDataset` class should call `super().__init__(**kwargs)` in its constructor. `**kwargs` can include `workers`, `use_multiprocessing`, `max_queue_size`. Do not pass these arguments to `fit()`, as they will be ignored.\n",
      "  self._warn_if_super_not_called()\n"
     ]
    },
    {
     "name": "stdout",
     "output_type": "stream",
     "text": [
      "\u001b[1m  1/717\u001b[0m \u001b[37m━━━━━━━━━━━━━━━━━━━━\u001b[0m \u001b[1m1:21:21\u001b[0m 7s/step - accuracy: 0.2500 - loss: 1.9362 - precision: 0.0000e+00 - recall: 0.0000e+00"
     ]
    },
    {
     "name": "stderr",
     "output_type": "stream",
     "text": [
      "WARNING: All log messages before absl::InitializeLog() is called are written to STDERR\n",
      "I0000 00:00:1721913399.988460      88 device_compiler.h:186] Compiled cluster using XLA!  This line is logged at most once for the lifetime of the process.\n"
     ]
    },
    {
     "name": "stdout",
     "output_type": "stream",
     "text": [
      "\u001b[1m717/717\u001b[0m \u001b[32m━━━━━━━━━━━━━━━━━━━━\u001b[0m\u001b[37m\u001b[0m \u001b[1m206s\u001b[0m 278ms/step - accuracy: 0.2800 - loss: 1.8467 - precision: 0.4359 - recall: 0.0261 - val_accuracy: 0.3940 - val_loss: 1.5492 - val_precision: 0.7399 - val_recall: 0.1187\n",
      "Epoch 2/300\n",
      "\u001b[1m  1/717\u001b[0m \u001b[37m━━━━━━━━━━━━━━━━━━━━\u001b[0m \u001b[1m3s\u001b[0m 6ms/step - accuracy: 0.4375 - loss: 1.5031 - precision: 0.8000 - recall: 0.1250"
     ]
    },
    {
     "name": "stderr",
     "output_type": "stream",
     "text": [
      "/opt/conda/lib/python3.10/contextlib.py:153: UserWarning: Your input ran out of data; interrupting training. Make sure that your dataset or generator can generate at least `steps_per_epoch * epochs` batches. You may need to use the `.repeat()` function when building your dataset.\n",
      "  self.gen.throw(typ, value, traceback)\n"
     ]
    },
    {
     "name": "stdout",
     "output_type": "stream",
     "text": [
      "\u001b[1m717/717\u001b[0m \u001b[32m━━━━━━━━━━━━━━━━━━━━\u001b[0m\u001b[37m\u001b[0m \u001b[1m1s\u001b[0m 888us/step - accuracy: 0.4375 - loss: 1.5031 - precision: 0.8000 - recall: 0.1250 - val_accuracy: 0.6923 - val_loss: 1.2189 - val_precision: 1.0000 - val_recall: 0.3846\n",
      "Epoch 3/300\n",
      "\u001b[1m717/717\u001b[0m \u001b[32m━━━━━━━━━━━━━━━━━━━━\u001b[0m\u001b[37m\u001b[0m \u001b[1m26s\u001b[0m 36ms/step - accuracy: 0.4175 - loss: 1.5186 - precision: 0.7120 - recall: 0.1370 - val_accuracy: 0.4289 - val_loss: 1.4932 - val_precision: 0.6219 - val_recall: 0.2182\n",
      "Epoch 4/300\n",
      "\u001b[1m717/717\u001b[0m \u001b[32m━━━━━━━━━━━━━━━━━━━━\u001b[0m\u001b[37m\u001b[0m \u001b[1m0s\u001b[0m 27us/step - accuracy: 0.2188 - loss: 1.7923 - precision: 0.5714 - recall: 0.1250 - val_accuracy: 0.4615 - val_loss: 1.5644 - val_precision: 0.6000 - val_recall: 0.2308\n",
      "Epoch 5/300\n",
      "\u001b[1m717/717\u001b[0m \u001b[32m━━━━━━━━━━━━━━━━━━━━\u001b[0m\u001b[37m\u001b[0m \u001b[1m26s\u001b[0m 37ms/step - accuracy: 0.4779 - loss: 1.3758 - precision: 0.7356 - recall: 0.2101 - val_accuracy: 0.4523 - val_loss: 1.4212 - val_precision: 0.7073 - val_recall: 0.2186\n",
      "Epoch 6/300\n",
      "\u001b[1m717/717\u001b[0m \u001b[32m━━━━━━━━━━━━━━━━━━━━\u001b[0m\u001b[37m\u001b[0m \u001b[1m0s\u001b[0m 27us/step - accuracy: 0.4375 - loss: 1.4018 - precision: 0.6923 - recall: 0.2812 - val_accuracy: 0.4615 - val_loss: 1.3712 - val_precision: 0.7500 - val_recall: 0.2308\n",
      "Epoch 7/300\n",
      "\u001b[1m717/717\u001b[0m \u001b[32m━━━━━━━━━━━━━━━━━━━━\u001b[0m\u001b[37m\u001b[0m \u001b[1m27s\u001b[0m 37ms/step - accuracy: 0.5086 - loss: 1.2777 - precision: 0.7463 - recall: 0.2683 - val_accuracy: 0.4607 - val_loss: 1.4152 - val_precision: 0.7097 - val_recall: 0.2254\n",
      "Epoch 8/300\n",
      "\u001b[1m717/717\u001b[0m \u001b[32m━━━━━━━━━━━━━━━━━━━━\u001b[0m\u001b[37m\u001b[0m \u001b[1m0s\u001b[0m 27us/step - accuracy: 0.4688 - loss: 1.2654 - precision: 0.5714 - recall: 0.2500 - val_accuracy: 0.6154 - val_loss: 1.0989 - val_precision: 0.8333 - val_recall: 0.3846\n",
      "Epoch 9/300\n",
      "\u001b[1m717/717\u001b[0m \u001b[32m━━━━━━━━━━━━━━━━━━━━\u001b[0m\u001b[37m\u001b[0m \u001b[1m26s\u001b[0m 37ms/step - accuracy: 0.5526 - loss: 1.1754 - precision: 0.7767 - recall: 0.3300 - val_accuracy: 0.4705 - val_loss: 1.4142 - val_precision: 0.6624 - val_recall: 0.2874\n",
      "Epoch 10/300\n",
      "\u001b[1m717/717\u001b[0m \u001b[32m━━━━━━━━━━━━━━━━━━━━\u001b[0m\u001b[37m\u001b[0m \u001b[1m0s\u001b[0m 27us/step - accuracy: 0.5625 - loss: 1.3517 - precision: 0.6667 - recall: 0.3750 - val_accuracy: 0.3846 - val_loss: 1.5399 - val_precision: 1.0000 - val_recall: 0.2308\n",
      "Epoch 11/300\n",
      "\u001b[1m717/717\u001b[0m \u001b[32m━━━━━━━━━━━━━━━━━━━━\u001b[0m\u001b[37m\u001b[0m \u001b[1m28s\u001b[0m 38ms/step - accuracy: 0.6007 - loss: 1.0655 - precision: 0.7949 - recall: 0.4013 - val_accuracy: 0.4602 - val_loss: 1.4430 - val_precision: 0.6565 - val_recall: 0.2786\n",
      "Epoch 12/300\n",
      "\u001b[1m717/717\u001b[0m \u001b[32m━━━━━━━━━━━━━━━━━━━━\u001b[0m\u001b[37m\u001b[0m \u001b[1m0s\u001b[0m 27us/step - accuracy: 0.5000 - loss: 1.2711 - precision: 0.6842 - recall: 0.4062 - val_accuracy: 0.4615 - val_loss: 1.3082 - val_precision: 1.0000 - val_recall: 0.3077\n",
      "Epoch 13/300\n",
      "\u001b[1m717/717\u001b[0m \u001b[32m━━━━━━━━━━━━━━━━━━━━\u001b[0m\u001b[37m\u001b[0m \u001b[1m27s\u001b[0m 37ms/step - accuracy: 0.6312 - loss: 0.9692 - precision: 0.8087 - recall: 0.4575 - val_accuracy: 0.4756 - val_loss: 1.4401 - val_precision: 0.6541 - val_recall: 0.3216\n",
      "Epoch 14/300\n",
      "\u001b[1m717/717\u001b[0m \u001b[32m━━━━━━━━━━━━━━━━━━━━\u001b[0m\u001b[37m\u001b[0m \u001b[1m0s\u001b[0m 27us/step - accuracy: 0.5625 - loss: 0.8250 - precision: 0.7500 - recall: 0.4688 - val_accuracy: 0.3846 - val_loss: 2.4069 - val_precision: 0.3333 - val_recall: 0.0769\n",
      "Epoch 15/300\n",
      "\u001b[1m717/717\u001b[0m \u001b[32m━━━━━━━━━━━━━━━━━━━━\u001b[0m\u001b[37m\u001b[0m \u001b[1m27s\u001b[0m 37ms/step - accuracy: 0.6846 - loss: 0.8488 - precision: 0.8289 - recall: 0.5348 - val_accuracy: 0.4715 - val_loss: 1.5314 - val_precision: 0.6007 - val_recall: 0.3535\n",
      "Epoch 16/300\n",
      "\u001b[1m717/717\u001b[0m \u001b[32m━━━━━━━━━━━━━━━━━━━━\u001b[0m\u001b[37m\u001b[0m \u001b[1m0s\u001b[0m 27us/step - accuracy: 0.5625 - loss: 0.9518 - precision: 0.8235 - recall: 0.4375 - val_accuracy: 0.4615 - val_loss: 1.1661 - val_precision: 0.8000 - val_recall: 0.3077\n",
      "Epoch 17/300\n",
      "\u001b[1m717/717\u001b[0m \u001b[32m━━━━━━━━━━━━━━━━━━━━\u001b[0m\u001b[37m\u001b[0m \u001b[1m26s\u001b[0m 36ms/step - accuracy: 0.7215 - loss: 0.7448 - precision: 0.8471 - recall: 0.5954 - val_accuracy: 0.4736 - val_loss: 1.7154 - val_precision: 0.5508 - val_recall: 0.3881\n",
      "Epoch 18/300\n",
      "\u001b[1m717/717\u001b[0m \u001b[32m━━━━━━━━━━━━━━━━━━━━\u001b[0m\u001b[37m\u001b[0m \u001b[1m0s\u001b[0m 27us/step - accuracy: 0.6250 - loss: 0.8563 - precision: 0.7273 - recall: 0.5000 - val_accuracy: 0.6923 - val_loss: 1.3314 - val_precision: 0.8182 - val_recall: 0.6923\n",
      "Epoch 19/300\n",
      "\u001b[1m717/717\u001b[0m \u001b[32m━━━━━━━━━━━━━━━━━━━━\u001b[0m\u001b[37m\u001b[0m \u001b[1m26s\u001b[0m 36ms/step - accuracy: 0.7613 - loss: 0.6399 - precision: 0.8669 - recall: 0.6619 - val_accuracy: 0.4838 - val_loss: 1.6898 - val_precision: 0.5812 - val_recall: 0.3944\n",
      "Epoch 20/300\n",
      "\u001b[1m717/717\u001b[0m \u001b[32m━━━━━━━━━━━━━━━━━━━━\u001b[0m\u001b[37m\u001b[0m \u001b[1m0s\u001b[0m 27us/step - accuracy: 0.6562 - loss: 0.7969 - precision: 0.7727 - recall: 0.5312 - val_accuracy: 0.4615 - val_loss: 1.1197 - val_precision: 0.7143 - val_recall: 0.3846\n",
      "Epoch 21/300\n",
      "\u001b[1m717/717\u001b[0m \u001b[32m━━━━━━━━━━━━━━━━━━━━\u001b[0m\u001b[37m\u001b[0m \u001b[1m38s\u001b[0m 53ms/step - accuracy: 0.7906 - loss: 0.5637 - precision: 0.8763 - recall: 0.7050 - val_accuracy: 0.4808 - val_loss: 1.8308 - val_precision: 0.5505 - val_recall: 0.4104\n",
      "Epoch 22/300\n",
      "\u001b[1m717/717\u001b[0m \u001b[32m━━━━━━━━━━━━━━━━━━━━\u001b[0m\u001b[37m\u001b[0m \u001b[1m0s\u001b[0m 28us/step - accuracy: 0.7812 - loss: 0.7003 - precision: 0.7857 - recall: 0.6875 - val_accuracy: 0.4615 - val_loss: 1.5548 - val_precision: 0.5000 - val_recall: 0.3846\n",
      "Epoch 23/300\n",
      "\u001b[1m717/717\u001b[0m \u001b[32m━━━━━━━━━━━━━━━━━━━━\u001b[0m\u001b[37m\u001b[0m \u001b[1m28s\u001b[0m 39ms/step - accuracy: 0.8191 - loss: 0.4950 - precision: 0.8871 - recall: 0.7449 - val_accuracy: 0.4747 - val_loss: 1.9726 - val_precision: 0.5385 - val_recall: 0.4153\n",
      "Epoch 24/300\n",
      "\u001b[1m717/717\u001b[0m \u001b[32m━━━━━━━━━━━━━━━━━━━━\u001b[0m\u001b[37m\u001b[0m \u001b[1m0s\u001b[0m 27us/step - accuracy: 0.7812 - loss: 0.5173 - precision: 0.8214 - recall: 0.7188 - val_accuracy: 0.4615 - val_loss: 2.0188 - val_precision: 0.6250 - val_recall: 0.3846\n",
      "Epoch 25/300\n",
      "\u001b[1m717/717\u001b[0m \u001b[32m━━━━━━━━━━━━━━━━━━━━\u001b[0m\u001b[37m\u001b[0m \u001b[1m30s\u001b[0m 42ms/step - accuracy: 0.8484 - loss: 0.4225 - precision: 0.9006 - recall: 0.7900 - val_accuracy: 0.4761 - val_loss: 2.1257 - val_precision: 0.5224 - val_recall: 0.4275\n",
      "Epoch 26/300\n",
      "\u001b[1m717/717\u001b[0m \u001b[32m━━━━━━━━━━━━━━━━━━━━\u001b[0m\u001b[37m\u001b[0m \u001b[1m0s\u001b[0m 32us/step - accuracy: 0.7812 - loss: 0.4638 - precision: 0.8276 - recall: 0.7500 - val_accuracy: 0.6154 - val_loss: 2.2716 - val_precision: 0.6667 - val_recall: 0.6154\n",
      "Epoch 27/300\n",
      "\u001b[1m717/717\u001b[0m \u001b[32m━━━━━━━━━━━━━━━━━━━━\u001b[0m\u001b[37m\u001b[0m \u001b[1m31s\u001b[0m 43ms/step - accuracy: 0.8655 - loss: 0.3738 - precision: 0.9117 - recall: 0.8156 - val_accuracy: 0.4843 - val_loss: 2.2792 - val_precision: 0.5228 - val_recall: 0.4412\n",
      "Epoch 28/300\n",
      "\u001b[1m717/717\u001b[0m \u001b[32m━━━━━━━━━━━━━━━━━━━━\u001b[0m\u001b[37m\u001b[0m \u001b[1m0s\u001b[0m 27us/step - accuracy: 0.8125 - loss: 0.4795 - precision: 0.8065 - recall: 0.7812 - val_accuracy: 0.2308 - val_loss: 2.6258 - val_precision: 0.2222 - val_recall: 0.1538\n",
      "Epoch 29/300\n",
      "\u001b[1m717/717\u001b[0m \u001b[32m━━━━━━━━━━━━━━━━━━━━\u001b[0m\u001b[37m\u001b[0m \u001b[1m26s\u001b[0m 36ms/step - accuracy: 0.8852 - loss: 0.3210 - precision: 0.9222 - recall: 0.8471 - val_accuracy: 0.4808 - val_loss: 2.4022 - val_precision: 0.5199 - val_recall: 0.4469\n",
      "Epoch 30/300\n",
      "\u001b[1m717/717\u001b[0m \u001b[32m━━━━━━━━━━━━━━━━━━━━\u001b[0m\u001b[37m\u001b[0m \u001b[1m0s\u001b[0m 27us/step - accuracy: 0.9062 - loss: 0.3516 - precision: 0.9355 - recall: 0.9062 - val_accuracy: 0.5385 - val_loss: 1.4214 - val_precision: 0.5833 - val_recall: 0.5385\n",
      "Epoch 31/300\n",
      "\u001b[1m717/717\u001b[0m \u001b[32m━━━━━━━━━━━━━━━━━━━━\u001b[0m\u001b[37m\u001b[0m \u001b[1m27s\u001b[0m 37ms/step - accuracy: 0.8911 - loss: 0.2994 - precision: 0.9208 - recall: 0.8592 - val_accuracy: 0.4820 - val_loss: 2.3413 - val_precision: 0.5240 - val_recall: 0.4436\n",
      "Epoch 32/300\n",
      "\u001b[1m717/717\u001b[0m \u001b[32m━━━━━━━━━━━━━━━━━━━━\u001b[0m\u001b[37m\u001b[0m \u001b[1m0s\u001b[0m 30us/step - accuracy: 0.8438 - loss: 0.4121 - precision: 0.9000 - recall: 0.8438 - val_accuracy: 0.6923 - val_loss: 1.0054 - val_precision: 0.9000 - val_recall: 0.6923\n",
      "Epoch 33/300\n",
      "\u001b[1m717/717\u001b[0m \u001b[32m━━━━━━━━━━━━━━━━━━━━\u001b[0m\u001b[37m\u001b[0m \u001b[1m31s\u001b[0m 43ms/step - accuracy: 0.9027 - loss: 0.2799 - precision: 0.9280 - recall: 0.8702 - val_accuracy: 0.4820 - val_loss: 2.8114 - val_precision: 0.5064 - val_recall: 0.4574\n",
      "Epoch 34/300\n",
      "\u001b[1m717/717\u001b[0m \u001b[32m━━━━━━━━━━━━━━━━━━━━\u001b[0m\u001b[37m\u001b[0m \u001b[1m0s\u001b[0m 30us/step - accuracy: 0.8750 - loss: 0.4637 - precision: 0.8571 - recall: 0.7500 - val_accuracy: 0.5385 - val_loss: 3.3043 - val_precision: 0.5385 - val_recall: 0.5385\n",
      "Epoch 35/300\n",
      "\u001b[1m717/717\u001b[0m \u001b[32m━━━━━━━━━━━━━━━━━━━━\u001b[0m\u001b[37m\u001b[0m \u001b[1m33s\u001b[0m 45ms/step - accuracy: 0.9119 - loss: 0.2528 - precision: 0.9335 - recall: 0.8892 - val_accuracy: 0.4797 - val_loss: 2.6449 - val_precision: 0.5109 - val_recall: 0.4509\n",
      "Epoch 36/300\n",
      "\u001b[1m717/717\u001b[0m \u001b[32m━━━━━━━━━━━━━━━━━━━━\u001b[0m\u001b[37m\u001b[0m \u001b[1m0s\u001b[0m 27us/step - accuracy: 0.8125 - loss: 0.4075 - precision: 0.8667 - recall: 0.8125 - val_accuracy: 0.3846 - val_loss: 1.5548 - val_precision: 0.5000 - val_recall: 0.3846\n",
      "Epoch 37/300\n",
      "\u001b[1m717/717\u001b[0m \u001b[32m━━━━━━━━━━━━━━━━━━━━\u001b[0m\u001b[37m\u001b[0m \u001b[1m30s\u001b[0m 42ms/step - accuracy: 0.9195 - loss: 0.2261 - precision: 0.9411 - recall: 0.9009 - val_accuracy: 0.4752 - val_loss: 2.8391 - val_precision: 0.5052 - val_recall: 0.4469\n",
      "Epoch 38/300\n",
      "\u001b[1m717/717\u001b[0m \u001b[32m━━━━━━━━━━━━━━━━━━━━\u001b[0m\u001b[37m\u001b[0m \u001b[1m0s\u001b[0m 28us/step - accuracy: 0.9062 - loss: 0.2825 - precision: 0.9355 - recall: 0.9062 - val_accuracy: 0.5385 - val_loss: 5.3169 - val_precision: 0.5455 - val_recall: 0.4615\n",
      "Epoch 39/300\n",
      "\u001b[1m717/717\u001b[0m \u001b[32m━━━━━━━━━━━━━━━━━━━━\u001b[0m\u001b[37m\u001b[0m \u001b[1m27s\u001b[0m 37ms/step - accuracy: 0.9215 - loss: 0.2209 - precision: 0.9399 - recall: 0.9030 - val_accuracy: 0.4834 - val_loss: 3.0520 - val_precision: 0.5074 - val_recall: 0.4651\n",
      "Epoch 40/300\n",
      "\u001b[1m717/717\u001b[0m \u001b[32m━━━━━━━━━━━━━━━━━━━━\u001b[0m\u001b[37m\u001b[0m \u001b[1m0s\u001b[0m 27us/step - accuracy: 0.9375 - loss: 0.2170 - precision: 0.9677 - recall: 0.9375 - val_accuracy: 0.6923 - val_loss: 1.7375 - val_precision: 0.6667 - val_recall: 0.6154\n",
      "Epoch 41/300\n",
      "\u001b[1m717/717\u001b[0m \u001b[32m━━━━━━━━━━━━━━━━━━━━\u001b[0m\u001b[37m\u001b[0m \u001b[1m26s\u001b[0m 36ms/step - accuracy: 0.9267 - loss: 0.2082 - precision: 0.9426 - recall: 0.9121 - val_accuracy: 0.4778 - val_loss: 2.9897 - val_precision: 0.5032 - val_recall: 0.4543\n",
      "Epoch 42/300\n",
      "\u001b[1m717/717\u001b[0m \u001b[32m━━━━━━━━━━━━━━━━━━━━\u001b[0m\u001b[37m\u001b[0m \u001b[1m0s\u001b[0m 36us/step - accuracy: 0.9062 - loss: 0.2177 - precision: 0.9355 - recall: 0.9062 - val_accuracy: 0.3077 - val_loss: 4.4562 - val_precision: 0.3636 - val_recall: 0.3077\n",
      "Epoch 43/300\n",
      "\u001b[1m717/717\u001b[0m \u001b[32m━━━━━━━━━━━━━━━━━━━━\u001b[0m\u001b[37m\u001b[0m \u001b[1m36s\u001b[0m 49ms/step - accuracy: 0.9287 - loss: 0.2034 - precision: 0.9423 - recall: 0.9132 - val_accuracy: 0.4848 - val_loss: 3.1788 - val_precision: 0.5065 - val_recall: 0.4665\n",
      "Epoch 44/300\n",
      "\u001b[1m717/717\u001b[0m \u001b[32m━━━━━━━━━━━━━━━━━━━━\u001b[0m\u001b[37m\u001b[0m \u001b[1m0s\u001b[0m 27us/step - accuracy: 0.9375 - loss: 0.2358 - precision: 0.9677 - recall: 0.9375 - val_accuracy: 0.6923 - val_loss: 1.9611 - val_precision: 0.7500 - val_recall: 0.6923\n",
      "Epoch 45/300\n",
      "\u001b[1m717/717\u001b[0m \u001b[32m━━━━━━━━━━━━━━━━━━━━\u001b[0m\u001b[37m\u001b[0m \u001b[1m26s\u001b[0m 35ms/step - accuracy: 0.9361 - loss: 0.1794 - precision: 0.9487 - recall: 0.9238 - val_accuracy: 0.4853 - val_loss: 3.1454 - val_precision: 0.5086 - val_recall: 0.4649\n",
      "Epoch 46/300\n",
      "\u001b[1m717/717\u001b[0m \u001b[32m━━━━━━━━━━━━━━━━━━━━\u001b[0m\u001b[37m\u001b[0m \u001b[1m0s\u001b[0m 26us/step - accuracy: 0.9688 - loss: 0.1371 - precision: 0.9688 - recall: 0.9688 - val_accuracy: 0.3846 - val_loss: 4.9725 - val_precision: 0.3846 - val_recall: 0.3846\n",
      "Epoch 47/300\n",
      "\u001b[1m717/717\u001b[0m \u001b[32m━━━━━━━━━━━━━━━━━━━━\u001b[0m\u001b[37m\u001b[0m \u001b[1m26s\u001b[0m 37ms/step - accuracy: 0.9327 - loss: 0.1852 - precision: 0.9445 - recall: 0.9209 - val_accuracy: 0.4838 - val_loss: 3.2441 - val_precision: 0.5041 - val_recall: 0.4651\n",
      "Epoch 48/300\n",
      "\u001b[1m717/717\u001b[0m \u001b[32m━━━━━━━━━━━━━━━━━━━━\u001b[0m\u001b[37m\u001b[0m \u001b[1m0s\u001b[0m 27us/step - accuracy: 0.8125 - loss: 0.3741 - precision: 0.8387 - recall: 0.8125 - val_accuracy: 0.6923 - val_loss: 1.8687 - val_precision: 0.8182 - val_recall: 0.6923\n",
      "Epoch 49/300\n",
      "\u001b[1m717/717\u001b[0m \u001b[32m━━━━━━━━━━━━━━━━━━━━\u001b[0m\u001b[37m\u001b[0m \u001b[1m26s\u001b[0m 36ms/step - accuracy: 0.9397 - loss: 0.1697 - precision: 0.9500 - recall: 0.9293 - val_accuracy: 0.4890 - val_loss: 3.3542 - val_precision: 0.5076 - val_recall: 0.4694\n",
      "Epoch 50/300\n",
      "\u001b[1m717/717\u001b[0m \u001b[32m━━━━━━━━━━━━━━━━━━━━\u001b[0m\u001b[37m\u001b[0m \u001b[1m0s\u001b[0m 27us/step - accuracy: 0.9062 - loss: 0.2406 - precision: 0.9355 - recall: 0.9062 - val_accuracy: 0.3077 - val_loss: 3.6652 - val_precision: 0.2727 - val_recall: 0.2308\n",
      "Epoch 51/300\n",
      "\u001b[1m717/717\u001b[0m \u001b[32m━━━━━━━━━━━━━━━━━━━━\u001b[0m\u001b[37m\u001b[0m \u001b[1m28s\u001b[0m 38ms/step - accuracy: 0.9378 - loss: 0.1763 - precision: 0.9473 - recall: 0.9284 - val_accuracy: 0.4780 - val_loss: 3.4946 - val_precision: 0.4926 - val_recall: 0.4581\n",
      "Epoch 52/300\n",
      "\u001b[1m717/717\u001b[0m \u001b[32m━━━━━━━━━━━━━━━━━━━━\u001b[0m\u001b[37m\u001b[0m \u001b[1m0s\u001b[0m 26us/step - accuracy: 0.8750 - loss: 0.2476 - precision: 0.8750 - recall: 0.8750 - val_accuracy: 0.7692 - val_loss: 1.1707 - val_precision: 0.7692 - val_recall: 0.7692\n",
      "Epoch 53/300\n",
      "\u001b[1m717/717\u001b[0m \u001b[32m━━━━━━━━━━━━━━━━━━━━\u001b[0m\u001b[37m\u001b[0m \u001b[1m27s\u001b[0m 37ms/step - accuracy: 0.9437 - loss: 0.1608 - precision: 0.9534 - recall: 0.9336 - val_accuracy: 0.4756 - val_loss: 3.5605 - val_precision: 0.4942 - val_recall: 0.4593\n",
      "Epoch 54/300\n",
      "\u001b[1m717/717\u001b[0m \u001b[32m━━━━━━━━━━━━━━━━━━━━\u001b[0m\u001b[37m\u001b[0m \u001b[1m0s\u001b[0m 27us/step - accuracy: 0.9062 - loss: 0.2424 - precision: 0.9667 - recall: 0.9062 - val_accuracy: 0.6923 - val_loss: 0.9443 - val_precision: 0.6923 - val_recall: 0.6923\n",
      "Epoch 55/300\n",
      "\u001b[1m717/717\u001b[0m \u001b[32m━━━━━━━━━━━━━━━━━━━━\u001b[0m\u001b[37m\u001b[0m \u001b[1m26s\u001b[0m 36ms/step - accuracy: 0.9502 - loss: 0.1466 - precision: 0.9587 - recall: 0.9421 - val_accuracy: 0.4787 - val_loss: 3.6700 - val_precision: 0.4948 - val_recall: 0.4628\n",
      "Epoch 56/300\n",
      "\u001b[1m717/717\u001b[0m \u001b[32m━━━━━━━━━━━━━━━━━━━━\u001b[0m\u001b[37m\u001b[0m \u001b[1m0s\u001b[0m 28us/step - accuracy: 1.0000 - loss: 0.0330 - precision: 1.0000 - recall: 1.0000 - val_accuracy: 0.5385 - val_loss: 4.2745 - val_precision: 0.5833 - val_recall: 0.5385\n",
      "Epoch 57/300\n",
      "\u001b[1m717/717\u001b[0m \u001b[32m━━━━━━━━━━━━━━━━━━━━\u001b[0m\u001b[37m\u001b[0m \u001b[1m27s\u001b[0m 38ms/step - accuracy: 0.9466 - loss: 0.1526 - precision: 0.9558 - recall: 0.9384 - val_accuracy: 0.4766 - val_loss: 3.5414 - val_precision: 0.4913 - val_recall: 0.4579\n",
      "Epoch 58/300\n",
      "\u001b[1m717/717\u001b[0m \u001b[32m━━━━━━━━━━━━━━━━━━━━\u001b[0m\u001b[37m\u001b[0m \u001b[1m0s\u001b[0m 28us/step - accuracy: 0.9062 - loss: 0.2711 - precision: 0.9062 - recall: 0.9062 - val_accuracy: 0.5385 - val_loss: 2.1342 - val_precision: 0.5833 - val_recall: 0.5385\n",
      "Epoch 59/300\n",
      "\u001b[1m717/717\u001b[0m \u001b[32m━━━━━━━━━━━━━━━━━━━━\u001b[0m\u001b[37m\u001b[0m \u001b[1m26s\u001b[0m 36ms/step - accuracy: 0.9476 - loss: 0.1503 - precision: 0.9559 - recall: 0.9377 - val_accuracy: 0.4843 - val_loss: 3.7001 - val_precision: 0.5012 - val_recall: 0.4714\n",
      "Epoch 60/300\n",
      "\u001b[1m717/717\u001b[0m \u001b[32m━━━━━━━━━━━━━━━━━━━━\u001b[0m\u001b[37m\u001b[0m \u001b[1m0s\u001b[0m 27us/step - accuracy: 0.8750 - loss: 0.4065 - precision: 0.8966 - recall: 0.8125 - val_accuracy: 0.6923 - val_loss: 2.4486 - val_precision: 0.6923 - val_recall: 0.6923\n",
      "Epoch 61/300\n",
      "\u001b[1m717/717\u001b[0m \u001b[32m━━━━━━━━━━━━━━━━━━━━\u001b[0m\u001b[37m\u001b[0m \u001b[1m27s\u001b[0m 38ms/step - accuracy: 0.9509 - loss: 0.1462 - precision: 0.9588 - recall: 0.9429 - val_accuracy: 0.4811 - val_loss: 3.5374 - val_precision: 0.4961 - val_recall: 0.4602\n",
      "Epoch 62/300\n",
      "\u001b[1m717/717\u001b[0m \u001b[32m━━━━━━━━━━━━━━━━━━━━\u001b[0m\u001b[37m\u001b[0m \u001b[1m0s\u001b[0m 26us/step - accuracy: 0.9688 - loss: 0.0993 - precision: 1.0000 - recall: 0.9375 - val_accuracy: 0.3846 - val_loss: 8.1542 - val_precision: 0.4545 - val_recall: 0.3846\n",
      "Epoch 63/300\n",
      "\u001b[1m717/717\u001b[0m \u001b[32m━━━━━━━━━━━━━━━━━━━━\u001b[0m\u001b[37m\u001b[0m \u001b[1m26s\u001b[0m 36ms/step - accuracy: 0.9496 - loss: 0.1395 - precision: 0.9575 - recall: 0.9437 - val_accuracy: 0.4705 - val_loss: 3.6578 - val_precision: 0.4915 - val_recall: 0.4543\n",
      "Epoch 64/300\n",
      "\u001b[1m717/717\u001b[0m \u001b[32m━━━━━━━━━━━━━━━━━━━━\u001b[0m\u001b[37m\u001b[0m \u001b[1m0s\u001b[0m 26us/step - accuracy: 0.9688 - loss: 0.0732 - precision: 0.9688 - recall: 0.9688 - val_accuracy: 0.4615 - val_loss: 2.0371 - val_precision: 0.5000 - val_recall: 0.4615\n",
      "Epoch 65/300\n",
      "\u001b[1m717/717\u001b[0m \u001b[32m━━━━━━━━━━━━━━━━━━━━\u001b[0m\u001b[37m\u001b[0m \u001b[1m27s\u001b[0m 37ms/step - accuracy: 0.9527 - loss: 0.1325 - precision: 0.9609 - recall: 0.9463 - val_accuracy: 0.4780 - val_loss: 3.7596 - val_precision: 0.4936 - val_recall: 0.4571\n",
      "Epoch 66/300\n",
      "\u001b[1m717/717\u001b[0m \u001b[32m━━━━━━━━━━━━━━━━━━━━\u001b[0m\u001b[37m\u001b[0m \u001b[1m0s\u001b[0m 27us/step - accuracy: 0.9062 - loss: 0.1220 - precision: 0.9355 - recall: 0.9062 - val_accuracy: 0.5385 - val_loss: 1.4907 - val_precision: 0.5385 - val_recall: 0.5385\n",
      "Epoch 67/300\n",
      "\u001b[1m717/717\u001b[0m \u001b[32m━━━━━━━━━━━━━━━━━━━━\u001b[0m\u001b[37m\u001b[0m \u001b[1m28s\u001b[0m 39ms/step - accuracy: 0.9541 - loss: 0.1321 - precision: 0.9615 - recall: 0.9473 - val_accuracy: 0.4721 - val_loss: 3.9919 - val_precision: 0.4878 - val_recall: 0.4604\n",
      "Epoch 68/300\n",
      "\u001b[1m717/717\u001b[0m \u001b[32m━━━━━━━━━━━━━━━━━━━━\u001b[0m\u001b[37m\u001b[0m \u001b[1m0s\u001b[0m 26us/step - accuracy: 0.9688 - loss: 0.0766 - precision: 0.9688 - recall: 0.9688 - val_accuracy: 0.6154 - val_loss: 2.6614 - val_precision: 0.6154 - val_recall: 0.6154\n",
      "Epoch 69/300\n",
      "\u001b[1m717/717\u001b[0m \u001b[32m━━━━━━━━━━━━━━━━━━━━\u001b[0m\u001b[37m\u001b[0m \u001b[1m27s\u001b[0m 37ms/step - accuracy: 0.9569 - loss: 0.1216 - precision: 0.9633 - recall: 0.9511 - val_accuracy: 0.4728 - val_loss: 4.1070 - val_precision: 0.4862 - val_recall: 0.4586\n",
      "Epoch 70/300\n",
      "\u001b[1m717/717\u001b[0m \u001b[32m━━━━━━━━━━━━━━━━━━━━\u001b[0m\u001b[37m\u001b[0m \u001b[1m0s\u001b[0m 28us/step - accuracy: 0.8750 - loss: 0.1669 - precision: 0.9032 - recall: 0.8750 - val_accuracy: 0.4615 - val_loss: 2.6016 - val_precision: 0.4615 - val_recall: 0.4615\n",
      "Epoch 71/300\n",
      "\u001b[1m717/717\u001b[0m \u001b[32m━━━━━━━━━━━━━━━━━━━━\u001b[0m\u001b[37m\u001b[0m \u001b[1m27s\u001b[0m 37ms/step - accuracy: 0.9614 - loss: 0.1148 - precision: 0.9670 - recall: 0.9553 - val_accuracy: 0.4738 - val_loss: 4.0811 - val_precision: 0.4856 - val_recall: 0.4588\n",
      "Epoch 72/300\n",
      "\u001b[1m717/717\u001b[0m \u001b[32m━━━━━━━━━━━━━━━━━━━━\u001b[0m\u001b[37m\u001b[0m \u001b[1m0s\u001b[0m 26us/step - accuracy: 1.0000 - loss: 0.0627 - precision: 1.0000 - recall: 1.0000 - val_accuracy: 0.4615 - val_loss: 2.9368 - val_precision: 0.4615 - val_recall: 0.4615\n",
      "Epoch 73/300\n",
      "\u001b[1m717/717\u001b[0m \u001b[32m━━━━━━━━━━━━━━━━━━━━\u001b[0m\u001b[37m\u001b[0m \u001b[1m27s\u001b[0m 37ms/step - accuracy: 0.9575 - loss: 0.1220 - precision: 0.9642 - recall: 0.9521 - val_accuracy: 0.4778 - val_loss: 4.1057 - val_precision: 0.4915 - val_recall: 0.4668\n",
      "Epoch 74/300\n",
      "\u001b[1m717/717\u001b[0m \u001b[32m━━━━━━━━━━━━━━━━━━━━\u001b[0m\u001b[37m\u001b[0m \u001b[1m0s\u001b[0m 27us/step - accuracy: 0.9688 - loss: 0.0858 - precision: 1.0000 - recall: 0.9688 - val_accuracy: 0.4615 - val_loss: 4.0854 - val_precision: 0.5455 - val_recall: 0.4615\n",
      "Epoch 75/300\n",
      "\u001b[1m717/717\u001b[0m \u001b[32m━━━━━━━━━━━━━━━━━━━━\u001b[0m\u001b[37m\u001b[0m \u001b[1m36s\u001b[0m 50ms/step - accuracy: 0.9568 - loss: 0.1168 - precision: 0.9620 - recall: 0.9523 - val_accuracy: 0.4733 - val_loss: 4.1495 - val_precision: 0.4878 - val_recall: 0.4604\n",
      "Epoch 76/300\n",
      "\u001b[1m717/717\u001b[0m \u001b[32m━━━━━━━━━━━━━━━━━━━━\u001b[0m\u001b[37m\u001b[0m \u001b[1m0s\u001b[0m 27us/step - accuracy: 0.9688 - loss: 0.0586 - precision: 0.9688 - recall: 0.9688 - val_accuracy: 0.5385 - val_loss: 1.8741 - val_precision: 0.5455 - val_recall: 0.4615\n",
      "Epoch 77/300\n",
      "\u001b[1m717/717\u001b[0m \u001b[32m━━━━━━━━━━━━━━━━━━━━\u001b[0m\u001b[37m\u001b[0m \u001b[1m27s\u001b[0m 37ms/step - accuracy: 0.9622 - loss: 0.1132 - precision: 0.9684 - recall: 0.9575 - val_accuracy: 0.4824 - val_loss: 4.2170 - val_precision: 0.4942 - val_recall: 0.4682\n",
      "Epoch 78/300\n",
      "\u001b[1m717/717\u001b[0m \u001b[32m━━━━━━━━━━━━━━━━━━━━\u001b[0m\u001b[37m\u001b[0m \u001b[1m0s\u001b[0m 27us/step - accuracy: 1.0000 - loss: 0.0227 - precision: 1.0000 - recall: 1.0000 - val_accuracy: 0.3077 - val_loss: 8.5672 - val_precision: 0.3333 - val_recall: 0.3077\n",
      "Epoch 79/300\n",
      "\u001b[1m717/717\u001b[0m \u001b[32m━━━━━━━━━━━━━━━━━━━━\u001b[0m\u001b[37m\u001b[0m \u001b[1m31s\u001b[0m 43ms/step - accuracy: 0.9576 - loss: 0.1237 - precision: 0.9647 - recall: 0.9532 - val_accuracy: 0.4728 - val_loss: 4.2209 - val_precision: 0.4862 - val_recall: 0.4625\n",
      "Epoch 80/300\n",
      "\u001b[1m717/717\u001b[0m \u001b[32m━━━━━━━━━━━━━━━━━━━━\u001b[0m\u001b[37m\u001b[0m \u001b[1m0s\u001b[0m 26us/step - accuracy: 0.9688 - loss: 0.0848 - precision: 0.9688 - recall: 0.9688 - val_accuracy: 0.3846 - val_loss: 4.8449 - val_precision: 0.4545 - val_recall: 0.3846\n",
      "Epoch 81/300\n",
      "\u001b[1m717/717\u001b[0m \u001b[32m━━━━━━━━━━━━━━━━━━━━\u001b[0m\u001b[37m\u001b[0m \u001b[1m30s\u001b[0m 41ms/step - accuracy: 0.9599 - loss: 0.1191 - precision: 0.9659 - recall: 0.9563 - val_accuracy: 0.4815 - val_loss: 4.2582 - val_precision: 0.4945 - val_recall: 0.4691\n",
      "Epoch 82/300\n",
      "\u001b[1m717/717\u001b[0m \u001b[32m━━━━━━━━━━━━━━━━━━━━\u001b[0m\u001b[37m\u001b[0m \u001b[1m0s\u001b[0m 28us/step - accuracy: 1.0000 - loss: 0.0474 - precision: 1.0000 - recall: 1.0000 - val_accuracy: 0.6154 - val_loss: 3.5834 - val_precision: 0.6154 - val_recall: 0.6154\n",
      "Epoch 83/300\n",
      "\u001b[1m717/717\u001b[0m \u001b[32m━━━━━━━━━━━━━━━━━━━━\u001b[0m\u001b[37m\u001b[0m \u001b[1m26s\u001b[0m 37ms/step - accuracy: 0.9632 - loss: 0.1059 - precision: 0.9688 - recall: 0.9589 - val_accuracy: 0.4708 - val_loss: 4.2751 - val_precision: 0.4838 - val_recall: 0.4584\n",
      "Epoch 84/300\n",
      "\u001b[1m717/717\u001b[0m \u001b[32m━━━━━━━━━━━━━━━━━━━━\u001b[0m\u001b[37m\u001b[0m \u001b[1m0s\u001b[0m 32us/step - accuracy: 0.9688 - loss: 0.0460 - precision: 0.9688 - recall: 0.9688 - val_accuracy: 0.6923 - val_loss: 3.8324 - val_precision: 0.6923 - val_recall: 0.6923\n",
      "Epoch 85/300\n",
      "\u001b[1m717/717\u001b[0m \u001b[32m━━━━━━━━━━━━━━━━━━━━\u001b[0m\u001b[37m\u001b[0m \u001b[1m45s\u001b[0m 43ms/step - accuracy: 0.9634 - loss: 0.1006 - precision: 0.9687 - recall: 0.9594 - val_accuracy: 0.4715 - val_loss: 4.3208 - val_precision: 0.4835 - val_recall: 0.4588\n",
      "Epoch 86/300\n",
      "\u001b[1m717/717\u001b[0m \u001b[32m━━━━━━━━━━━━━━━━━━━━\u001b[0m\u001b[37m\u001b[0m \u001b[1m0s\u001b[0m 99us/step - accuracy: 0.9688 - loss: 0.0842 - precision: 0.9688 - recall: 0.9688 - val_accuracy: 0.3846 - val_loss: 3.8741 - val_precision: 0.3846 - val_recall: 0.3846\n",
      "Epoch 87/300\n",
      "\u001b[1m717/717\u001b[0m \u001b[32m━━━━━━━━━━━━━━━━━━━━\u001b[0m\u001b[37m\u001b[0m \u001b[1m29s\u001b[0m 39ms/step - accuracy: 0.9656 - loss: 0.1016 - precision: 0.9696 - recall: 0.9613 - val_accuracy: 0.4679 - val_loss: 4.3795 - val_precision: 0.4798 - val_recall: 0.4546\n",
      "Epoch 88/300\n",
      "\u001b[1m717/717\u001b[0m \u001b[32m━━━━━━━━━━━━━━━━━━━━\u001b[0m\u001b[37m\u001b[0m \u001b[1m0s\u001b[0m 27us/step - accuracy: 0.9688 - loss: 0.0570 - precision: 0.9688 - recall: 0.9688 - val_accuracy: 0.6923 - val_loss: 1.4056 - val_precision: 0.7500 - val_recall: 0.6923\n",
      "Epoch 89/300\n",
      "\u001b[1m717/717\u001b[0m \u001b[32m━━━━━━━━━━━━━━━━━━━━\u001b[0m\u001b[37m\u001b[0m \u001b[1m37s\u001b[0m 52ms/step - accuracy: 0.9654 - loss: 0.1011 - precision: 0.9703 - recall: 0.9613 - val_accuracy: 0.4715 - val_loss: 4.3119 - val_precision: 0.4845 - val_recall: 0.4567\n",
      "Epoch 90/300\n",
      "\u001b[1m717/717\u001b[0m \u001b[32m━━━━━━━━━━━━━━━━━━━━\u001b[0m\u001b[37m\u001b[0m \u001b[1m0s\u001b[0m 27us/step - accuracy: 1.0000 - loss: 0.0250 - precision: 1.0000 - recall: 1.0000 - val_accuracy: 0.6923 - val_loss: 2.8821 - val_precision: 0.6923 - val_recall: 0.6923\n",
      "Epoch 91/300\n",
      "\u001b[1m717/717\u001b[0m \u001b[32m━━━━━━━━━━━━━━━━━━━━\u001b[0m\u001b[37m\u001b[0m \u001b[1m36s\u001b[0m 45ms/step - accuracy: 0.9639 - loss: 0.1077 - precision: 0.9681 - recall: 0.9603 - val_accuracy: 0.4756 - val_loss: 4.3896 - val_precision: 0.4886 - val_recall: 0.4621\n",
      "Epoch 92/300\n",
      "\u001b[1m717/717\u001b[0m \u001b[32m━━━━━━━━━━━━━━━━━━━━\u001b[0m\u001b[37m\u001b[0m \u001b[1m0s\u001b[0m 26us/step - accuracy: 0.9375 - loss: 0.2046 - precision: 0.9375 - recall: 0.9375 - val_accuracy: 0.3846 - val_loss: 7.4281 - val_precision: 0.4167 - val_recall: 0.3846\n",
      "Epoch 93/300\n",
      "\u001b[1m717/717\u001b[0m \u001b[32m━━━━━━━━━━━━━━━━━━━━\u001b[0m\u001b[37m\u001b[0m \u001b[1m30s\u001b[0m 42ms/step - accuracy: 0.9626 - loss: 0.1068 - precision: 0.9683 - recall: 0.9586 - val_accuracy: 0.4799 - val_loss: 4.5743 - val_precision: 0.4940 - val_recall: 0.4689\n",
      "Epoch 94/300\n",
      "\u001b[1m717/717\u001b[0m \u001b[32m━━━━━━━━━━━━━━━━━━━━\u001b[0m\u001b[37m\u001b[0m \u001b[1m0s\u001b[0m 26us/step - accuracy: 0.9375 - loss: 0.2684 - precision: 0.9375 - recall: 0.9375 - val_accuracy: 0.6154 - val_loss: 2.6510 - val_precision: 0.5833 - val_recall: 0.5385\n",
      "Epoch 95/300\n",
      "\u001b[1m717/717\u001b[0m \u001b[32m━━━━━━━━━━━━━━━━━━━━\u001b[0m\u001b[37m\u001b[0m \u001b[1m31s\u001b[0m 42ms/step - accuracy: 0.9638 - loss: 0.1013 - precision: 0.9670 - recall: 0.9594 - val_accuracy: 0.4670 - val_loss: 4.4387 - val_precision: 0.4800 - val_recall: 0.4488\n",
      "Epoch 96/300\n",
      "\u001b[1m717/717\u001b[0m \u001b[32m━━━━━━━━━━━━━━━━━━━━\u001b[0m\u001b[37m\u001b[0m \u001b[1m0s\u001b[0m 27us/step - accuracy: 0.8750 - loss: 0.1783 - precision: 0.9032 - recall: 0.8750 - val_accuracy: 0.3846 - val_loss: 5.3265 - val_precision: 0.4167 - val_recall: 0.3846\n",
      "Epoch 97/300\n",
      "\u001b[1m717/717\u001b[0m \u001b[32m━━━━━━━━━━━━━━━━━━━━\u001b[0m\u001b[37m\u001b[0m \u001b[1m33s\u001b[0m 46ms/step - accuracy: 0.9661 - loss: 0.0979 - precision: 0.9698 - recall: 0.9634 - val_accuracy: 0.4757 - val_loss: 4.6153 - val_precision: 0.4884 - val_recall: 0.4686\n",
      "Epoch 98/300\n",
      "\u001b[1m717/717\u001b[0m \u001b[32m━━━━━━━━━━━━━━━━━━━━\u001b[0m\u001b[37m\u001b[0m \u001b[1m0s\u001b[0m 27us/step - accuracy: 1.0000 - loss: 0.0306 - precision: 1.0000 - recall: 1.0000 - val_accuracy: 0.4615 - val_loss: 2.5343 - val_precision: 0.4615 - val_recall: 0.4615\n",
      "Epoch 99/300\n",
      "\u001b[1m717/717\u001b[0m \u001b[32m━━━━━━━━━━━━━━━━━━━━\u001b[0m\u001b[37m\u001b[0m \u001b[1m27s\u001b[0m 37ms/step - accuracy: 0.9682 - loss: 0.0965 - precision: 0.9723 - recall: 0.9642 - val_accuracy: 0.4688 - val_loss: 4.8866 - val_precision: 0.4799 - val_recall: 0.4597\n",
      "Epoch 100/300\n",
      "\u001b[1m717/717\u001b[0m \u001b[32m━━━━━━━━━━━━━━━━━━━━\u001b[0m\u001b[37m\u001b[0m \u001b[1m0s\u001b[0m 28us/step - accuracy: 0.9062 - loss: 0.2283 - precision: 0.9355 - recall: 0.9062 - val_accuracy: 0.2308 - val_loss: 7.8906 - val_precision: 0.2308 - val_recall: 0.2308\n",
      "Epoch 101/300\n",
      "\u001b[1m717/717\u001b[0m \u001b[32m━━━━━━━━━━━━━━━━━━━━\u001b[0m\u001b[37m\u001b[0m \u001b[1m28s\u001b[0m 39ms/step - accuracy: 0.9691 - loss: 0.0929 - precision: 0.9729 - recall: 0.9659 - val_accuracy: 0.4724 - val_loss: 4.5157 - val_precision: 0.4853 - val_recall: 0.4612\n",
      "Epoch 102/300\n",
      "\u001b[1m717/717\u001b[0m \u001b[32m━━━━━━━━━━━━━━━━━━━━\u001b[0m\u001b[37m\u001b[0m \u001b[1m0s\u001b[0m 26us/step - accuracy: 0.9688 - loss: 0.1129 - precision: 0.9688 - recall: 0.9688 - val_accuracy: 0.4615 - val_loss: 6.5427 - val_precision: 0.4615 - val_recall: 0.4615\n",
      "Epoch 103/300\n",
      "\u001b[1m717/717\u001b[0m \u001b[32m━━━━━━━━━━━━━━━━━━━━\u001b[0m\u001b[37m\u001b[0m \u001b[1m30s\u001b[0m 41ms/step - accuracy: 0.9657 - loss: 0.0971 - precision: 0.9698 - recall: 0.9616 - val_accuracy: 0.4771 - val_loss: 4.9245 - val_precision: 0.4849 - val_recall: 0.4675\n",
      "Epoch 104/300\n",
      "\u001b[1m717/717\u001b[0m \u001b[32m━━━━━━━━━━━━━━━━━━━━\u001b[0m\u001b[37m\u001b[0m \u001b[1m0s\u001b[0m 27us/step - accuracy: 1.0000 - loss: 0.0260 - precision: 1.0000 - recall: 1.0000 - val_accuracy: 0.3846 - val_loss: 4.2318 - val_precision: 0.3846 - val_recall: 0.3846\n",
      "Epoch 105/300\n",
      "\u001b[1m717/717\u001b[0m \u001b[32m━━━━━━━━━━━━━━━━━━━━\u001b[0m\u001b[37m\u001b[0m \u001b[1m29s\u001b[0m 41ms/step - accuracy: 0.9707 - loss: 0.0865 - precision: 0.9736 - recall: 0.9680 - val_accuracy: 0.4640 - val_loss: 4.8798 - val_precision: 0.4752 - val_recall: 0.4532\n",
      "Epoch 106/300\n",
      "\u001b[1m717/717\u001b[0m \u001b[32m━━━━━━━━━━━━━━━━━━━━\u001b[0m\u001b[37m\u001b[0m \u001b[1m0s\u001b[0m 27us/step - accuracy: 0.9062 - loss: 0.2102 - precision: 0.9032 - recall: 0.8750 - val_accuracy: 0.2308 - val_loss: 3.4858 - val_precision: 0.1667 - val_recall: 0.1538\n",
      "Epoch 107/300\n",
      "\u001b[1m717/717\u001b[0m \u001b[32m━━━━━━━━━━━━━━━━━━━━\u001b[0m\u001b[37m\u001b[0m \u001b[1m27s\u001b[0m 37ms/step - accuracy: 0.9645 - loss: 0.1029 - precision: 0.9684 - recall: 0.9617 - val_accuracy: 0.4724 - val_loss: 4.7574 - val_precision: 0.4818 - val_recall: 0.4612\n",
      "Epoch 108/300\n",
      "\u001b[1m717/717\u001b[0m \u001b[32m━━━━━━━━━━━━━━━━━━━━\u001b[0m\u001b[37m\u001b[0m \u001b[1m0s\u001b[0m 30us/step - accuracy: 0.9375 - loss: 0.0897 - precision: 0.9375 - recall: 0.9375 - val_accuracy: 0.3077 - val_loss: 6.0860 - val_precision: 0.3077 - val_recall: 0.3077\n",
      "Epoch 109/300\n",
      "\u001b[1m717/717\u001b[0m \u001b[32m━━━━━━━━━━━━━━━━━━━━\u001b[0m\u001b[37m\u001b[0m \u001b[1m29s\u001b[0m 40ms/step - accuracy: 0.9693 - loss: 0.0862 - precision: 0.9722 - recall: 0.9664 - val_accuracy: 0.4553 - val_loss: 4.6536 - val_precision: 0.4686 - val_recall: 0.4436\n",
      "Epoch 110/300\n",
      "\u001b[1m717/717\u001b[0m \u001b[32m━━━━━━━━━━━━━━━━━━━━\u001b[0m\u001b[37m\u001b[0m \u001b[1m0s\u001b[0m 29us/step - accuracy: 0.9688 - loss: 0.0575 - precision: 0.9688 - recall: 0.9688 - val_accuracy: 0.3846 - val_loss: 5.8047 - val_precision: 0.4545 - val_recall: 0.3846\n",
      "Epoch 111/300\n",
      "\u001b[1m717/717\u001b[0m \u001b[32m━━━━━━━━━━━━━━━━━━━━\u001b[0m\u001b[37m\u001b[0m \u001b[1m29s\u001b[0m 40ms/step - accuracy: 0.9663 - loss: 0.0952 - precision: 0.9709 - recall: 0.9636 - val_accuracy: 0.4710 - val_loss: 4.9376 - val_precision: 0.4833 - val_recall: 0.4612\n",
      "Epoch 112/300\n",
      "\u001b[1m717/717\u001b[0m \u001b[32m━━━━━━━━━━━━━━━━━━━━\u001b[0m\u001b[37m\u001b[0m \u001b[1m0s\u001b[0m 29us/step - accuracy: 0.9375 - loss: 0.1396 - precision: 0.9677 - recall: 0.9375 - val_accuracy: 0.6154 - val_loss: 3.9217 - val_precision: 0.6667 - val_recall: 0.6154\n",
      "Epoch 113/300\n",
      "\u001b[1m717/717\u001b[0m \u001b[32m━━━━━━━━━━━━━━━━━━━━\u001b[0m\u001b[37m\u001b[0m \u001b[1m33s\u001b[0m 45ms/step - accuracy: 0.9707 - loss: 0.0861 - precision: 0.9739 - recall: 0.9682 - val_accuracy: 0.4674 - val_loss: 5.0419 - val_precision: 0.4762 - val_recall: 0.4595\n",
      "Epoch 114/300\n",
      "\u001b[1m717/717\u001b[0m \u001b[32m━━━━━━━━━━━━━━━━━━━━\u001b[0m\u001b[37m\u001b[0m \u001b[1m0s\u001b[0m 27us/step - accuracy: 0.9375 - loss: 0.1127 - precision: 0.9677 - recall: 0.9375 - val_accuracy: 0.3846 - val_loss: 4.3355 - val_precision: 0.4545 - val_recall: 0.3846\n",
      "Epoch 115/300\n",
      "\u001b[1m717/717\u001b[0m \u001b[32m━━━━━━━━━━━━━━━━━━━━\u001b[0m\u001b[37m\u001b[0m \u001b[1m29s\u001b[0m 39ms/step - accuracy: 0.9714 - loss: 0.0810 - precision: 0.9757 - recall: 0.9689 - val_accuracy: 0.4708 - val_loss: 5.1397 - val_precision: 0.4795 - val_recall: 0.4637\n",
      "Epoch 116/300\n",
      "\u001b[1m717/717\u001b[0m \u001b[32m━━━━━━━━━━━━━━━━━━━━\u001b[0m\u001b[37m\u001b[0m \u001b[1m0s\u001b[0m 27us/step - accuracy: 1.0000 - loss: 0.0127 - precision: 1.0000 - recall: 1.0000 - val_accuracy: 0.4615 - val_loss: 7.9036 - val_precision: 0.4615 - val_recall: 0.4615\n",
      "Epoch 117/300\n",
      "\u001b[1m717/717\u001b[0m \u001b[32m━━━━━━━━━━━━━━━━━━━━\u001b[0m\u001b[37m\u001b[0m \u001b[1m42s\u001b[0m 41ms/step - accuracy: 0.9713 - loss: 0.0795 - precision: 0.9748 - recall: 0.9691 - val_accuracy: 0.4696 - val_loss: 4.8180 - val_precision: 0.4804 - val_recall: 0.4597\n",
      "Epoch 118/300\n",
      "\u001b[1m717/717\u001b[0m \u001b[32m━━━━━━━━━━━━━━━━━━━━\u001b[0m\u001b[37m\u001b[0m \u001b[1m0s\u001b[0m 26us/step - accuracy: 0.9688 - loss: 0.0619 - precision: 0.9688 - recall: 0.9688 - val_accuracy: 0.4615 - val_loss: 3.7905 - val_precision: 0.4615 - val_recall: 0.4615\n",
      "Epoch 119/300\n",
      "\u001b[1m717/717\u001b[0m \u001b[32m━━━━━━━━━━━━━━━━━━━━\u001b[0m\u001b[37m\u001b[0m \u001b[1m29s\u001b[0m 40ms/step - accuracy: 0.9710 - loss: 0.0799 - precision: 0.9749 - recall: 0.9689 - val_accuracy: 0.4721 - val_loss: 4.9202 - val_precision: 0.4820 - val_recall: 0.4618\n",
      "Epoch 120/300\n",
      "\u001b[1m717/717\u001b[0m \u001b[32m━━━━━━━━━━━━━━━━━━━━\u001b[0m\u001b[37m\u001b[0m \u001b[1m0s\u001b[0m 27us/step - accuracy: 1.0000 - loss: 0.0304 - precision: 1.0000 - recall: 1.0000 - val_accuracy: 0.3077 - val_loss: 5.7390 - val_precision: 0.3077 - val_recall: 0.3077\n",
      "Epoch 121/300\n",
      "\u001b[1m717/717\u001b[0m \u001b[32m━━━━━━━━━━━━━━━━━━━━\u001b[0m\u001b[37m\u001b[0m \u001b[1m29s\u001b[0m 40ms/step - accuracy: 0.9723 - loss: 0.0805 - precision: 0.9751 - recall: 0.9697 - val_accuracy: 0.4677 - val_loss: 4.7768 - val_precision: 0.4776 - val_recall: 0.4584\n",
      "Epoch 122/300\n",
      "\u001b[1m717/717\u001b[0m \u001b[32m━━━━━━━━━━━━━━━━━━━━\u001b[0m\u001b[37m\u001b[0m \u001b[1m0s\u001b[0m 27us/step - accuracy: 1.0000 - loss: 0.0259 - precision: 1.0000 - recall: 1.0000 - val_accuracy: 0.5385 - val_loss: 2.5309 - val_precision: 0.5455 - val_recall: 0.4615\n",
      "Epoch 123/300\n",
      "\u001b[1m717/717\u001b[0m \u001b[32m━━━━━━━━━━━━━━━━━━━━\u001b[0m\u001b[37m\u001b[0m \u001b[1m28s\u001b[0m 39ms/step - accuracy: 0.9703 - loss: 0.0857 - precision: 0.9745 - recall: 0.9676 - val_accuracy: 0.4754 - val_loss: 4.8590 - val_precision: 0.4855 - val_recall: 0.4647\n",
      "Epoch 124/300\n",
      "\u001b[1m717/717\u001b[0m \u001b[32m━━━━━━━━━━━━━━━━━━━━\u001b[0m\u001b[37m\u001b[0m \u001b[1m0s\u001b[0m 28us/step - accuracy: 0.9688 - loss: 0.0393 - precision: 0.9688 - recall: 0.9688 - val_accuracy: 0.2308 - val_loss: 7.7037 - val_precision: 0.2308 - val_recall: 0.2308\n",
      "Epoch 125/300\n",
      "\u001b[1m717/717\u001b[0m \u001b[32m━━━━━━━━━━━━━━━━━━━━\u001b[0m\u001b[37m\u001b[0m \u001b[1m29s\u001b[0m 40ms/step - accuracy: 0.9717 - loss: 0.0830 - precision: 0.9753 - recall: 0.9691 - val_accuracy: 0.4675 - val_loss: 4.9900 - val_precision: 0.4786 - val_recall: 0.4588\n",
      "Epoch 126/300\n",
      "\u001b[1m717/717\u001b[0m \u001b[32m━━━━━━━━━━━━━━━━━━━━\u001b[0m\u001b[37m\u001b[0m \u001b[1m0s\u001b[0m 26us/step - accuracy: 0.9375 - loss: 0.0846 - precision: 0.9375 - recall: 0.9375 - val_accuracy: 0.7692 - val_loss: 1.7704 - val_precision: 0.7500 - val_recall: 0.6923\n",
      "Epoch 127/300\n",
      "\u001b[1m717/717\u001b[0m \u001b[32m━━━━━━━━━━━━━━━━━━━━\u001b[0m\u001b[37m\u001b[0m \u001b[1m27s\u001b[0m 38ms/step - accuracy: 0.9739 - loss: 0.0802 - precision: 0.9761 - recall: 0.9704 - val_accuracy: 0.4633 - val_loss: 5.1638 - val_precision: 0.4731 - val_recall: 0.4551\n",
      "Epoch 128/300\n",
      "\u001b[1m717/717\u001b[0m \u001b[32m━━━━━━━━━━━━━━━━━━━━\u001b[0m\u001b[37m\u001b[0m \u001b[1m0s\u001b[0m 27us/step - accuracy: 1.0000 - loss: 0.0478 - precision: 1.0000 - recall: 1.0000 - val_accuracy: 0.6154 - val_loss: 6.5048 - val_precision: 0.5833 - val_recall: 0.5385\n",
      "Epoch 129/300\n",
      "\u001b[1m717/717\u001b[0m \u001b[32m━━━━━━━━━━━━━━━━━━━━\u001b[0m\u001b[37m\u001b[0m \u001b[1m28s\u001b[0m 38ms/step - accuracy: 0.9764 - loss: 0.0749 - precision: 0.9793 - recall: 0.9737 - val_accuracy: 0.4715 - val_loss: 5.0996 - val_precision: 0.4829 - val_recall: 0.4611\n",
      "Epoch 130/300\n",
      "\u001b[1m717/717\u001b[0m \u001b[32m━━━━━━━━━━━━━━━━━━━━\u001b[0m\u001b[37m\u001b[0m \u001b[1m0s\u001b[0m 27us/step - accuracy: 0.9688 - loss: 0.0530 - precision: 0.9688 - recall: 0.9688 - val_accuracy: 0.4615 - val_loss: 4.2204 - val_precision: 0.4615 - val_recall: 0.4615\n",
      "Epoch 131/300\n",
      "\u001b[1m717/717\u001b[0m \u001b[32m━━━━━━━━━━━━━━━━━━━━\u001b[0m\u001b[37m\u001b[0m \u001b[1m27s\u001b[0m 37ms/step - accuracy: 0.9737 - loss: 0.0742 - precision: 0.9768 - recall: 0.9719 - val_accuracy: 0.4696 - val_loss: 5.1556 - val_precision: 0.4814 - val_recall: 0.4602\n",
      "Epoch 132/300\n",
      "\u001b[1m717/717\u001b[0m \u001b[32m━━━━━━━━━━━━━━━━━━━━\u001b[0m\u001b[37m\u001b[0m \u001b[1m0s\u001b[0m 27us/step - accuracy: 0.9688 - loss: 0.0982 - precision: 0.9688 - recall: 0.9688 - val_accuracy: 0.6154 - val_loss: 1.8537 - val_precision: 0.6667 - val_recall: 0.6154\n",
      "Epoch 133/300\n",
      "\u001b[1m717/717\u001b[0m \u001b[32m━━━━━━━━━━━━━━━━━━━━\u001b[0m\u001b[37m\u001b[0m \u001b[1m27s\u001b[0m 37ms/step - accuracy: 0.9740 - loss: 0.0790 - precision: 0.9770 - recall: 0.9705 - val_accuracy: 0.4649 - val_loss: 5.2943 - val_precision: 0.4743 - val_recall: 0.4576\n",
      "Epoch 134/300\n",
      "\u001b[1m717/717\u001b[0m \u001b[32m━━━━━━━━━━━━━━━━━━━━\u001b[0m\u001b[37m\u001b[0m \u001b[1m0s\u001b[0m 27us/step - accuracy: 0.9375 - loss: 0.2499 - precision: 0.9375 - recall: 0.9375 - val_accuracy: 0.3077 - val_loss: 4.9238 - val_precision: 0.3077 - val_recall: 0.3077\n",
      "Epoch 135/300\n",
      "\u001b[1m717/717\u001b[0m \u001b[32m━━━━━━━━━━━━━━━━━━━━\u001b[0m\u001b[37m\u001b[0m \u001b[1m27s\u001b[0m 37ms/step - accuracy: 0.9740 - loss: 0.0739 - precision: 0.9762 - recall: 0.9714 - val_accuracy: 0.4684 - val_loss: 5.4056 - val_precision: 0.4756 - val_recall: 0.4564\n",
      "Epoch 136/300\n",
      "\u001b[1m717/717\u001b[0m \u001b[32m━━━━━━━━━━━━━━━━━━━━\u001b[0m\u001b[37m\u001b[0m \u001b[1m0s\u001b[0m 27us/step - accuracy: 1.0000 - loss: 0.0173 - precision: 1.0000 - recall: 1.0000 - val_accuracy: 0.1538 - val_loss: 13.4015 - val_precision: 0.1667 - val_recall: 0.1538\n",
      "Epoch 137/300\n",
      "\u001b[1m717/717\u001b[0m \u001b[32m━━━━━━━━━━━━━━━━━━━━\u001b[0m\u001b[37m\u001b[0m \u001b[1m28s\u001b[0m 38ms/step - accuracy: 0.9737 - loss: 0.0776 - precision: 0.9763 - recall: 0.9712 - val_accuracy: 0.4731 - val_loss: 5.3619 - val_precision: 0.4828 - val_recall: 0.4656\n",
      "Epoch 138/300\n",
      "\u001b[1m717/717\u001b[0m \u001b[32m━━━━━━━━━━━━━━━━━━━━\u001b[0m\u001b[37m\u001b[0m \u001b[1m0s\u001b[0m 28us/step - accuracy: 0.9375 - loss: 0.1176 - precision: 0.9375 - recall: 0.9375 - val_accuracy: 0.3846 - val_loss: 16.7699 - val_precision: 0.3846 - val_recall: 0.3846\n",
      "Epoch 139/300\n",
      "\u001b[1m717/717\u001b[0m \u001b[32m━━━━━━━━━━━━━━━━━━━━\u001b[0m\u001b[37m\u001b[0m \u001b[1m39s\u001b[0m 36ms/step - accuracy: 0.9760 - loss: 0.0714 - precision: 0.9788 - recall: 0.9744 - val_accuracy: 0.4726 - val_loss: 5.7025 - val_precision: 0.4791 - val_recall: 0.4639\n",
      "Epoch 140/300\n",
      "\u001b[1m717/717\u001b[0m \u001b[32m━━━━━━━━━━━━━━━━━━━━\u001b[0m\u001b[37m\u001b[0m \u001b[1m0s\u001b[0m 26us/step - accuracy: 1.0000 - loss: 0.0205 - precision: 1.0000 - recall: 1.0000 - val_accuracy: 0.4615 - val_loss: 7.9078 - val_precision: 0.4615 - val_recall: 0.4615\n",
      "Epoch 141/300\n",
      "\u001b[1m717/717\u001b[0m \u001b[32m━━━━━━━━━━━━━━━━━━━━\u001b[0m\u001b[37m\u001b[0m \u001b[1m48s\u001b[0m 67ms/step - accuracy: 0.9738 - loss: 0.0774 - precision: 0.9766 - recall: 0.9716 - val_accuracy: 0.4684 - val_loss: 5.3472 - val_precision: 0.4796 - val_recall: 0.4600\n",
      "Epoch 142/300\n",
      "\u001b[1m717/717\u001b[0m \u001b[32m━━━━━━━━━━━━━━━━━━━━\u001b[0m\u001b[37m\u001b[0m \u001b[1m0s\u001b[0m 27us/step - accuracy: 0.9688 - loss: 0.1763 - precision: 0.9688 - recall: 0.9688 - val_accuracy: 0.6154 - val_loss: 2.0045 - val_precision: 0.6667 - val_recall: 0.6154\n",
      "Epoch 143/300\n",
      "\u001b[1m717/717\u001b[0m \u001b[32m━━━━━━━━━━━━━━━━━━━━\u001b[0m\u001b[37m\u001b[0m \u001b[1m40s\u001b[0m 55ms/step - accuracy: 0.9730 - loss: 0.0746 - precision: 0.9759 - recall: 0.9713 - val_accuracy: 0.4733 - val_loss: 5.4069 - val_precision: 0.4836 - val_recall: 0.4681\n",
      "Epoch 144/300\n",
      "\u001b[1m717/717\u001b[0m \u001b[32m━━━━━━━━━━━━━━━━━━━━\u001b[0m\u001b[37m\u001b[0m \u001b[1m0s\u001b[0m 27us/step - accuracy: 0.9688 - loss: 0.0584 - precision: 0.9688 - recall: 0.9688 - val_accuracy: 0.4615 - val_loss: 4.4229 - val_precision: 0.4545 - val_recall: 0.3846\n",
      "Epoch 145/300\n",
      "\u001b[1m717/717\u001b[0m \u001b[32m━━━━━━━━━━━━━━━━━━━━\u001b[0m\u001b[37m\u001b[0m \u001b[1m32s\u001b[0m 44ms/step - accuracy: 0.9754 - loss: 0.0723 - precision: 0.9795 - recall: 0.9738 - val_accuracy: 0.4656 - val_loss: 5.0626 - val_precision: 0.4773 - val_recall: 0.4564\n",
      "Epoch 146/300\n",
      "\u001b[1m717/717\u001b[0m \u001b[32m━━━━━━━━━━━━━━━━━━━━\u001b[0m\u001b[37m\u001b[0m \u001b[1m0s\u001b[0m 27us/step - accuracy: 1.0000 - loss: 0.0235 - precision: 1.0000 - recall: 1.0000 - val_accuracy: 0.2308 - val_loss: 4.8418 - val_precision: 0.2308 - val_recall: 0.2308\n",
      "Epoch 147/300\n",
      "\u001b[1m717/717\u001b[0m \u001b[32m━━━━━━━━━━━━━━━━━━━━\u001b[0m\u001b[37m\u001b[0m \u001b[1m34s\u001b[0m 47ms/step - accuracy: 0.9755 - loss: 0.0673 - precision: 0.9782 - recall: 0.9731 - val_accuracy: 0.4639 - val_loss: 5.5689 - val_precision: 0.4739 - val_recall: 0.4579\n",
      "Epoch 148/300\n",
      "\u001b[1m717/717\u001b[0m \u001b[32m━━━━━━━━━━━━━━━━━━━━\u001b[0m\u001b[37m\u001b[0m \u001b[1m0s\u001b[0m 31us/step - accuracy: 1.0000 - loss: 0.0325 - precision: 1.0000 - recall: 1.0000 - val_accuracy: 0.4615 - val_loss: 4.3971 - val_precision: 0.4615 - val_recall: 0.4615\n",
      "Epoch 149/300\n",
      "\u001b[1m717/717\u001b[0m \u001b[32m━━━━━━━━━━━━━━━━━━━━\u001b[0m\u001b[37m\u001b[0m \u001b[1m35s\u001b[0m 48ms/step - accuracy: 0.9723 - loss: 0.0769 - precision: 0.9753 - recall: 0.9705 - val_accuracy: 0.4715 - val_loss: 5.4801 - val_precision: 0.4786 - val_recall: 0.4642\n",
      "Epoch 150/300\n",
      "\u001b[1m717/717\u001b[0m \u001b[32m━━━━━━━━━━━━━━━━━━━━\u001b[0m\u001b[37m\u001b[0m \u001b[1m0s\u001b[0m 27us/step - accuracy: 1.0000 - loss: 0.0017 - precision: 1.0000 - recall: 1.0000 - val_accuracy: 0.4615 - val_loss: 5.3259 - val_precision: 0.4615 - val_recall: 0.4615\n",
      "Epoch 151/300\n",
      "\u001b[1m717/717\u001b[0m \u001b[32m━━━━━━━━━━━━━━━━━━━━\u001b[0m\u001b[37m\u001b[0m \u001b[1m37s\u001b[0m 51ms/step - accuracy: 0.9762 - loss: 0.0717 - precision: 0.9785 - recall: 0.9745 - val_accuracy: 0.4667 - val_loss: 5.3262 - val_precision: 0.4759 - val_recall: 0.4576\n",
      "Epoch 152/300\n",
      "\u001b[1m717/717\u001b[0m \u001b[32m━━━━━━━━━━━━━━━━━━━━\u001b[0m\u001b[37m\u001b[0m \u001b[1m0s\u001b[0m 37us/step - accuracy: 1.0000 - loss: 0.0126 - precision: 1.0000 - recall: 1.0000 - val_accuracy: 0.6154 - val_loss: 5.9070 - val_precision: 0.6364 - val_recall: 0.5385\n",
      "Epoch 153/300\n",
      "\u001b[1m717/717\u001b[0m \u001b[32m━━━━━━━━━━━━━━━━━━━━\u001b[0m\u001b[37m\u001b[0m \u001b[1m32s\u001b[0m 44ms/step - accuracy: 0.9754 - loss: 0.0695 - precision: 0.9783 - recall: 0.9732 - val_accuracy: 0.4640 - val_loss: 5.2860 - val_precision: 0.4722 - val_recall: 0.4553\n",
      "Epoch 154/300\n",
      "\u001b[1m717/717\u001b[0m \u001b[32m━━━━━━━━━━━━━━━━━━━━\u001b[0m\u001b[37m\u001b[0m \u001b[1m0s\u001b[0m 27us/step - accuracy: 0.9688 - loss: 0.1184 - precision: 0.9677 - recall: 0.9375 - val_accuracy: 0.4615 - val_loss: 3.6612 - val_precision: 0.4167 - val_recall: 0.3846\n",
      "Epoch 155/300\n",
      "\u001b[1m717/717\u001b[0m \u001b[32m━━━━━━━━━━━━━━━━━━━━\u001b[0m\u001b[37m\u001b[0m \u001b[1m31s\u001b[0m 43ms/step - accuracy: 0.9754 - loss: 0.0723 - precision: 0.9777 - recall: 0.9733 - val_accuracy: 0.4728 - val_loss: 5.1703 - val_precision: 0.4828 - val_recall: 0.4642\n",
      "Epoch 156/300\n",
      "\u001b[1m717/717\u001b[0m \u001b[32m━━━━━━━━━━━━━━━━━━━━\u001b[0m\u001b[37m\u001b[0m \u001b[1m0s\u001b[0m 27us/step - accuracy: 0.9688 - loss: 0.1038 - precision: 0.9688 - recall: 0.9688 - val_accuracy: 0.6154 - val_loss: 3.5038 - val_precision: 0.5833 - val_recall: 0.5385\n",
      "Epoch 157/300\n",
      "\u001b[1m717/717\u001b[0m \u001b[32m━━━━━━━━━━━━━━━━━━━━\u001b[0m\u001b[37m\u001b[0m \u001b[1m36s\u001b[0m 50ms/step - accuracy: 0.9778 - loss: 0.0677 - precision: 0.9807 - recall: 0.9761 - val_accuracy: 0.4721 - val_loss: 5.4861 - val_precision: 0.4805 - val_recall: 0.4642\n",
      "Epoch 158/300\n",
      "\u001b[1m717/717\u001b[0m \u001b[32m━━━━━━━━━━━━━━━━━━━━\u001b[0m\u001b[37m\u001b[0m \u001b[1m0s\u001b[0m 27us/step - accuracy: 0.9688 - loss: 0.0602 - precision: 0.9688 - recall: 0.9688 - val_accuracy: 0.5385 - val_loss: 4.7793 - val_precision: 0.5385 - val_recall: 0.5385\n",
      "Epoch 159/300\n",
      "\u001b[1m717/717\u001b[0m \u001b[32m━━━━━━━━━━━━━━━━━━━━\u001b[0m\u001b[37m\u001b[0m \u001b[1m32s\u001b[0m 44ms/step - accuracy: 0.9759 - loss: 0.0664 - precision: 0.9787 - recall: 0.9740 - val_accuracy: 0.4715 - val_loss: 5.2462 - val_precision: 0.4811 - val_recall: 0.4649\n",
      "Epoch 160/300\n",
      "\u001b[1m717/717\u001b[0m \u001b[32m━━━━━━━━━━━━━━━━━━━━\u001b[0m\u001b[37m\u001b[0m \u001b[1m0s\u001b[0m 27us/step - accuracy: 0.9062 - loss: 0.4260 - precision: 0.9355 - recall: 0.9062 - val_accuracy: 0.3077 - val_loss: 8.3996 - val_precision: 0.3077 - val_recall: 0.3077\n",
      "Epoch 161/300\n",
      "\u001b[1m717/717\u001b[0m \u001b[32m━━━━━━━━━━━━━━━━━━━━\u001b[0m\u001b[37m\u001b[0m \u001b[1m40s\u001b[0m 55ms/step - accuracy: 0.9774 - loss: 0.0657 - precision: 0.9802 - recall: 0.9763 - val_accuracy: 0.4705 - val_loss: 5.3589 - val_precision: 0.4803 - val_recall: 0.4611\n",
      "Epoch 162/300\n",
      "\u001b[1m717/717\u001b[0m \u001b[32m━━━━━━━━━━━━━━━━━━━━\u001b[0m\u001b[37m\u001b[0m \u001b[1m0s\u001b[0m 28us/step - accuracy: 0.9375 - loss: 0.0842 - precision: 0.9375 - recall: 0.9375 - val_accuracy: 0.6923 - val_loss: 2.5799 - val_precision: 0.6923 - val_recall: 0.6923\n",
      "Epoch 163/300\n",
      "\u001b[1m717/717\u001b[0m \u001b[32m━━━━━━━━━━━━━━━━━━━━\u001b[0m\u001b[37m\u001b[0m \u001b[1m27s\u001b[0m 37ms/step - accuracy: 0.9770 - loss: 0.0689 - precision: 0.9792 - recall: 0.9750 - val_accuracy: 0.4752 - val_loss: 5.7172 - val_precision: 0.4835 - val_recall: 0.4667\n",
      "Epoch 164/300\n",
      "\u001b[1m717/717\u001b[0m \u001b[32m━━━━━━━━━━━━━━━━━━━━\u001b[0m\u001b[37m\u001b[0m \u001b[1m0s\u001b[0m 27us/step - accuracy: 1.0000 - loss: 0.0081 - precision: 1.0000 - recall: 1.0000 - val_accuracy: 0.3846 - val_loss: 4.4844 - val_precision: 0.3846 - val_recall: 0.3846\n",
      "Epoch 165/300\n",
      "\u001b[1m717/717\u001b[0m \u001b[32m━━━━━━━━━━━━━━━━━━━━\u001b[0m\u001b[37m\u001b[0m \u001b[1m28s\u001b[0m 38ms/step - accuracy: 0.9775 - loss: 0.0641 - precision: 0.9799 - recall: 0.9755 - val_accuracy: 0.4696 - val_loss: 5.5914 - val_precision: 0.4789 - val_recall: 0.4625\n",
      "Epoch 166/300\n",
      "\u001b[1m717/717\u001b[0m \u001b[32m━━━━━━━━━━━━━━━━━━━━\u001b[0m\u001b[37m\u001b[0m \u001b[1m0s\u001b[0m 27us/step - accuracy: 0.9688 - loss: 0.0767 - precision: 0.9688 - recall: 0.9688 - val_accuracy: 0.3077 - val_loss: 6.6583 - val_precision: 0.3333 - val_recall: 0.3077\n",
      "Epoch 167/300\n",
      "\u001b[1m717/717\u001b[0m \u001b[32m━━━━━━━━━━━━━━━━━━━━\u001b[0m\u001b[37m\u001b[0m \u001b[1m47s\u001b[0m 65ms/step - accuracy: 0.9785 - loss: 0.0656 - precision: 0.9805 - recall: 0.9772 - val_accuracy: 0.4722 - val_loss: 5.6278 - val_precision: 0.4823 - val_recall: 0.4653\n",
      "Epoch 168/300\n",
      "\u001b[1m717/717\u001b[0m \u001b[32m━━━━━━━━━━━━━━━━━━━━\u001b[0m\u001b[37m\u001b[0m \u001b[1m0s\u001b[0m 31us/step - accuracy: 0.9688 - loss: 0.1299 - precision: 0.9688 - recall: 0.9688 - val_accuracy: 0.3846 - val_loss: 7.9738 - val_precision: 0.3846 - val_recall: 0.3846\n",
      "Epoch 169/300\n",
      "\u001b[1m717/717\u001b[0m \u001b[32m━━━━━━━━━━━━━━━━━━━━\u001b[0m\u001b[37m\u001b[0m \u001b[1m64s\u001b[0m 89ms/step - accuracy: 0.9795 - loss: 0.0635 - precision: 0.9823 - recall: 0.9780 - val_accuracy: 0.4701 - val_loss: 5.7455 - val_precision: 0.4763 - val_recall: 0.4621\n",
      "Epoch 170/300\n",
      "\u001b[1m717/717\u001b[0m \u001b[32m━━━━━━━━━━━━━━━━━━━━\u001b[0m\u001b[37m\u001b[0m \u001b[1m0s\u001b[0m 40us/step - accuracy: 0.9688 - loss: 0.0607 - precision: 0.9688 - recall: 0.9688 - val_accuracy: 0.2308 - val_loss: 8.1000 - val_precision: 0.2500 - val_recall: 0.2308\n",
      "Epoch 171/300\n",
      "\u001b[1m717/717\u001b[0m \u001b[32m━━━━━━━━━━━━━━━━━━━━\u001b[0m\u001b[37m\u001b[0m \u001b[1m68s\u001b[0m 94ms/step - accuracy: 0.9797 - loss: 0.0643 - precision: 0.9812 - recall: 0.9782 - val_accuracy: 0.4701 - val_loss: 5.5850 - val_precision: 0.4795 - val_recall: 0.4623\n",
      "Epoch 172/300\n",
      "\u001b[1m717/717\u001b[0m \u001b[32m━━━━━━━━━━━━━━━━━━━━\u001b[0m\u001b[37m\u001b[0m \u001b[1m0s\u001b[0m 27us/step - accuracy: 0.9375 - loss: 0.1002 - precision: 0.9677 - recall: 0.9375 - val_accuracy: 0.3077 - val_loss: 8.6372 - val_precision: 0.3333 - val_recall: 0.3077\n",
      "Epoch 173/300\n",
      "\u001b[1m717/717\u001b[0m \u001b[32m━━━━━━━━━━━━━━━━━━━━\u001b[0m\u001b[37m\u001b[0m \u001b[1m29s\u001b[0m 40ms/step - accuracy: 0.9783 - loss: 0.0650 - precision: 0.9800 - recall: 0.9763 - val_accuracy: 0.4778 - val_loss: 5.3849 - val_precision: 0.4837 - val_recall: 0.4679\n",
      "Epoch 174/300\n",
      "\u001b[1m717/717\u001b[0m \u001b[32m━━━━━━━━━━━━━━━━━━━━\u001b[0m\u001b[37m\u001b[0m \u001b[1m0s\u001b[0m 27us/step - accuracy: 0.9375 - loss: 0.1525 - precision: 0.9375 - recall: 0.9375 - val_accuracy: 0.4615 - val_loss: 5.7761 - val_precision: 0.4615 - val_recall: 0.4615\n",
      "Epoch 175/300\n",
      "\u001b[1m717/717\u001b[0m \u001b[32m━━━━━━━━━━━━━━━━━━━━\u001b[0m\u001b[37m\u001b[0m \u001b[1m31s\u001b[0m 43ms/step - accuracy: 0.9788 - loss: 0.0613 - precision: 0.9809 - recall: 0.9772 - val_accuracy: 0.4684 - val_loss: 5.6462 - val_precision: 0.4776 - val_recall: 0.4604\n",
      "Epoch 176/300\n",
      "\u001b[1m717/717\u001b[0m \u001b[32m━━━━━━━━━━━━━━━━━━━━\u001b[0m\u001b[37m\u001b[0m \u001b[1m0s\u001b[0m 34us/step - accuracy: 1.0000 - loss: 0.0020 - precision: 1.0000 - recall: 1.0000 - val_accuracy: 0.3077 - val_loss: 15.0301 - val_precision: 0.3077 - val_recall: 0.3077\n",
      "Epoch 177/300\n",
      "\u001b[1m717/717\u001b[0m \u001b[32m━━━━━━━━━━━━━━━━━━━━\u001b[0m\u001b[37m\u001b[0m \u001b[1m33s\u001b[0m 45ms/step - accuracy: 0.9795 - loss: 0.0608 - precision: 0.9813 - recall: 0.9781 - val_accuracy: 0.4740 - val_loss: 5.7945 - val_precision: 0.4826 - val_recall: 0.4658\n",
      "Epoch 178/300\n",
      "\u001b[1m717/717\u001b[0m \u001b[32m━━━━━━━━━━━━━━━━━━━━\u001b[0m\u001b[37m\u001b[0m \u001b[1m0s\u001b[0m 27us/step - accuracy: 0.9688 - loss: 0.1338 - precision: 0.9688 - recall: 0.9688 - val_accuracy: 0.5385 - val_loss: 8.0869 - val_precision: 0.5385 - val_recall: 0.5385\n",
      "Epoch 179/300\n",
      "\u001b[1m717/717\u001b[0m \u001b[32m━━━━━━━━━━━━━━━━━━━━\u001b[0m\u001b[37m\u001b[0m \u001b[1m31s\u001b[0m 44ms/step - accuracy: 0.9780 - loss: 0.0682 - precision: 0.9802 - recall: 0.9757 - val_accuracy: 0.4681 - val_loss: 5.8882 - val_precision: 0.4776 - val_recall: 0.4621\n",
      "Epoch 180/300\n",
      "\u001b[1m717/717\u001b[0m \u001b[32m━━━━━━━━━━━━━━━━━━━━\u001b[0m\u001b[37m\u001b[0m \u001b[1m0s\u001b[0m 27us/step - accuracy: 0.9688 - loss: 0.0769 - precision: 0.9688 - recall: 0.9688 - val_accuracy: 0.5385 - val_loss: 4.1522 - val_precision: 0.5000 - val_recall: 0.4615\n",
      "Epoch 181/300\n",
      "\u001b[1m717/717\u001b[0m \u001b[32m━━━━━━━━━━━━━━━━━━━━\u001b[0m\u001b[37m\u001b[0m \u001b[1m31s\u001b[0m 43ms/step - accuracy: 0.9794 - loss: 0.0655 - precision: 0.9808 - recall: 0.9775 - val_accuracy: 0.4773 - val_loss: 6.0295 - val_precision: 0.4828 - val_recall: 0.4701\n",
      "Epoch 182/300\n",
      "\u001b[1m717/717\u001b[0m \u001b[32m━━━━━━━━━━━━━━━━━━━━\u001b[0m\u001b[37m\u001b[0m \u001b[1m0s\u001b[0m 29us/step - accuracy: 0.9688 - loss: 0.0576 - precision: 0.9688 - recall: 0.9688 - val_accuracy: 0.6923 - val_loss: 3.7553 - val_precision: 0.6923 - val_recall: 0.6923\n",
      "Epoch 183/300\n",
      "\u001b[1m717/717\u001b[0m \u001b[32m━━━━━━━━━━━━━━━━━━━━\u001b[0m\u001b[37m\u001b[0m \u001b[1m37s\u001b[0m 51ms/step - accuracy: 0.9790 - loss: 0.0632 - precision: 0.9807 - recall: 0.9772 - val_accuracy: 0.4756 - val_loss: 5.8305 - val_precision: 0.4825 - val_recall: 0.4677\n",
      "Epoch 184/300\n",
      "\u001b[1m717/717\u001b[0m \u001b[32m━━━━━━━━━━━━━━━━━━━━\u001b[0m\u001b[37m\u001b[0m \u001b[1m0s\u001b[0m 26us/step - accuracy: 0.9688 - loss: 0.1433 - precision: 0.9688 - recall: 0.9688 - val_accuracy: 0.3846 - val_loss: 3.8542 - val_precision: 0.4167 - val_recall: 0.3846\n",
      "Epoch 185/300\n",
      "\u001b[1m717/717\u001b[0m \u001b[32m━━━━━━━━━━━━━━━━━━━━\u001b[0m\u001b[37m\u001b[0m \u001b[1m34s\u001b[0m 47ms/step - accuracy: 0.9802 - loss: 0.0608 - precision: 0.9830 - recall: 0.9781 - val_accuracy: 0.4721 - val_loss: 6.0876 - val_precision: 0.4785 - val_recall: 0.4640\n",
      "Epoch 186/300\n",
      "\u001b[1m717/717\u001b[0m \u001b[32m━━━━━━━━━━━━━━━━━━━━\u001b[0m\u001b[37m\u001b[0m \u001b[1m0s\u001b[0m 28us/step - accuracy: 0.9688 - loss: 0.0617 - precision: 0.9688 - recall: 0.9688 - val_accuracy: 0.6154 - val_loss: 2.6351 - val_precision: 0.6154 - val_recall: 0.6154\n",
      "Epoch 187/300\n",
      "\u001b[1m717/717\u001b[0m \u001b[32m━━━━━━━━━━━━━━━━━━━━\u001b[0m\u001b[37m\u001b[0m \u001b[1m28s\u001b[0m 39ms/step - accuracy: 0.9787 - loss: 0.0609 - precision: 0.9804 - recall: 0.9774 - val_accuracy: 0.4684 - val_loss: 5.8869 - val_precision: 0.4745 - val_recall: 0.4597\n",
      "Epoch 188/300\n",
      "\u001b[1m717/717\u001b[0m \u001b[32m━━━━━━━━━━━━━━━━━━━━\u001b[0m\u001b[37m\u001b[0m \u001b[1m0s\u001b[0m 27us/step - accuracy: 1.0000 - loss: 0.0271 - precision: 1.0000 - recall: 1.0000 - val_accuracy: 0.5385 - val_loss: 5.2654 - val_precision: 0.5385 - val_recall: 0.5385\n",
      "Epoch 189/300\n",
      "\u001b[1m717/717\u001b[0m \u001b[32m━━━━━━━━━━━━━━━━━━━━\u001b[0m\u001b[37m\u001b[0m \u001b[1m39s\u001b[0m 54ms/step - accuracy: 0.9784 - loss: 0.0636 - precision: 0.9818 - recall: 0.9764 - val_accuracy: 0.4736 - val_loss: 5.8290 - val_precision: 0.4815 - val_recall: 0.4658\n",
      "Epoch 190/300\n",
      "\u001b[1m717/717\u001b[0m \u001b[32m━━━━━━━━━━━━━━━━━━━━\u001b[0m\u001b[37m\u001b[0m \u001b[1m0s\u001b[0m 27us/step - accuracy: 0.9375 - loss: 0.1899 - precision: 0.9375 - recall: 0.9375 - val_accuracy: 0.4615 - val_loss: 3.3390 - val_precision: 0.5000 - val_recall: 0.4615\n",
      "Epoch 191/300\n",
      "\u001b[1m717/717\u001b[0m \u001b[32m━━━━━━━━━━━━━━━━━━━━\u001b[0m\u001b[37m\u001b[0m \u001b[1m30s\u001b[0m 41ms/step - accuracy: 0.9788 - loss: 0.0644 - precision: 0.9818 - recall: 0.9767 - val_accuracy: 0.4715 - val_loss: 5.4112 - val_precision: 0.4798 - val_recall: 0.4614\n",
      "Epoch 192/300\n",
      "\u001b[1m717/717\u001b[0m \u001b[32m━━━━━━━━━━━━━━━━━━━━\u001b[0m\u001b[37m\u001b[0m \u001b[1m0s\u001b[0m 27us/step - accuracy: 1.0000 - loss: 0.0412 - precision: 1.0000 - recall: 1.0000 - val_accuracy: 0.4615 - val_loss: 4.6864 - val_precision: 0.5455 - val_recall: 0.4615\n",
      "Epoch 193/300\n",
      "\u001b[1m717/717\u001b[0m \u001b[32m━━━━━━━━━━━━━━━━━━━━\u001b[0m\u001b[37m\u001b[0m \u001b[1m32s\u001b[0m 45ms/step - accuracy: 0.9799 - loss: 0.0575 - precision: 0.9825 - recall: 0.9781 - val_accuracy: 0.4684 - val_loss: 6.0890 - val_precision: 0.4771 - val_recall: 0.4619\n",
      "Epoch 194/300\n",
      "\u001b[1m717/717\u001b[0m \u001b[32m━━━━━━━━━━━━━━━━━━━━\u001b[0m\u001b[37m\u001b[0m \u001b[1m0s\u001b[0m 31us/step - accuracy: 1.0000 - loss: 0.0125 - precision: 1.0000 - recall: 1.0000 - val_accuracy: 0.6154 - val_loss: 4.9707 - val_precision: 0.6154 - val_recall: 0.6154\n",
      "Epoch 195/300\n",
      "\u001b[1m717/717\u001b[0m \u001b[32m━━━━━━━━━━━━━━━━━━━━\u001b[0m\u001b[37m\u001b[0m \u001b[1m31s\u001b[0m 42ms/step - accuracy: 0.9798 - loss: 0.0636 - precision: 0.9823 - recall: 0.9783 - val_accuracy: 0.4700 - val_loss: 6.1213 - val_precision: 0.4791 - val_recall: 0.4630\n",
      "Epoch 196/300\n",
      "\u001b[1m717/717\u001b[0m \u001b[32m━━━━━━━━━━━━━━━━━━━━\u001b[0m\u001b[37m\u001b[0m \u001b[1m0s\u001b[0m 27us/step - accuracy: 1.0000 - loss: 0.0132 - precision: 1.0000 - recall: 1.0000 - val_accuracy: 0.5385 - val_loss: 7.2356 - val_precision: 0.5833 - val_recall: 0.5385\n",
      "Epoch 197/300\n",
      "\u001b[1m717/717\u001b[0m \u001b[32m━━━━━━━━━━━━━━━━━━━━\u001b[0m\u001b[37m\u001b[0m \u001b[1m43s\u001b[0m 60ms/step - accuracy: 0.9806 - loss: 0.0563 - precision: 0.9828 - recall: 0.9791 - val_accuracy: 0.4682 - val_loss: 6.0242 - val_precision: 0.4749 - val_recall: 0.4604\n",
      "Epoch 198/300\n",
      "\u001b[1m717/717\u001b[0m \u001b[32m━━━━━━━━━━━━━━━━━━━━\u001b[0m\u001b[37m\u001b[0m \u001b[1m0s\u001b[0m 28us/step - accuracy: 1.0000 - loss: 0.0527 - precision: 1.0000 - recall: 1.0000 - val_accuracy: 0.3077 - val_loss: 8.6434 - val_precision: 0.2727 - val_recall: 0.2308\n",
      "Epoch 199/300\n",
      "\u001b[1m717/717\u001b[0m \u001b[32m━━━━━━━━━━━━━━━━━━━━\u001b[0m\u001b[37m\u001b[0m \u001b[1m41s\u001b[0m 57ms/step - accuracy: 0.9811 - loss: 0.0578 - precision: 0.9830 - recall: 0.9792 - val_accuracy: 0.4656 - val_loss: 5.5723 - val_precision: 0.4751 - val_recall: 0.4572\n",
      "Epoch 200/300\n",
      "\u001b[1m717/717\u001b[0m \u001b[32m━━━━━━━━━━━━━━━━━━━━\u001b[0m\u001b[37m\u001b[0m \u001b[1m0s\u001b[0m 28us/step - accuracy: 0.9688 - loss: 0.0657 - precision: 0.9688 - recall: 0.9688 - val_accuracy: 0.2308 - val_loss: 5.6584 - val_precision: 0.2500 - val_recall: 0.2308\n",
      "Epoch 201/300\n",
      "\u001b[1m717/717\u001b[0m \u001b[32m━━━━━━━━━━━━━━━━━━━━\u001b[0m\u001b[37m\u001b[0m \u001b[1m31s\u001b[0m 42ms/step - accuracy: 0.9810 - loss: 0.0575 - precision: 0.9829 - recall: 0.9786 - val_accuracy: 0.4717 - val_loss: 5.7827 - val_precision: 0.4802 - val_recall: 0.4653\n",
      "Epoch 202/300\n",
      "\u001b[1m717/717\u001b[0m \u001b[32m━━━━━━━━━━━━━━━━━━━━\u001b[0m\u001b[37m\u001b[0m \u001b[1m0s\u001b[0m 27us/step - accuracy: 1.0000 - loss: 0.0264 - precision: 1.0000 - recall: 0.9688 - val_accuracy: 0.4615 - val_loss: 5.8597 - val_precision: 0.4615 - val_recall: 0.4615\n",
      "Epoch 203/300\n",
      "\u001b[1m717/717\u001b[0m \u001b[32m━━━━━━━━━━━━━━━━━━━━\u001b[0m\u001b[37m\u001b[0m \u001b[1m36s\u001b[0m 50ms/step - accuracy: 0.9803 - loss: 0.0595 - precision: 0.9823 - recall: 0.9789 - val_accuracy: 0.4735 - val_loss: 6.5407 - val_precision: 0.4810 - val_recall: 0.4688\n",
      "Epoch 204/300\n",
      "\u001b[1m717/717\u001b[0m \u001b[32m━━━━━━━━━━━━━━━━━━━━\u001b[0m\u001b[37m\u001b[0m \u001b[1m0s\u001b[0m 29us/step - accuracy: 1.0000 - loss: 0.0180 - precision: 1.0000 - recall: 1.0000 - val_accuracy: 0.3846 - val_loss: 7.5337 - val_precision: 0.3846 - val_recall: 0.3846\n",
      "Epoch 205/300\n",
      "\u001b[1m717/717\u001b[0m \u001b[32m━━━━━━━━━━━━━━━━━━━━\u001b[0m\u001b[37m\u001b[0m \u001b[1m35s\u001b[0m 48ms/step - accuracy: 0.9819 - loss: 0.0572 - precision: 0.9837 - recall: 0.9796 - val_accuracy: 0.4715 - val_loss: 5.8337 - val_precision: 0.4806 - val_recall: 0.4619\n",
      "Epoch 206/300\n",
      "\u001b[1m717/717\u001b[0m \u001b[32m━━━━━━━━━━━━━━━━━━━━\u001b[0m\u001b[37m\u001b[0m \u001b[1m0s\u001b[0m 28us/step - accuracy: 1.0000 - loss: 0.0176 - precision: 1.0000 - recall: 1.0000 - val_accuracy: 0.6154 - val_loss: 7.3713 - val_precision: 0.6154 - val_recall: 0.6154\n",
      "Epoch 207/300\n",
      "\u001b[1m717/717\u001b[0m \u001b[32m━━━━━━━━━━━━━━━━━━━━\u001b[0m\u001b[37m\u001b[0m \u001b[1m35s\u001b[0m 48ms/step - accuracy: 0.9821 - loss: 0.0617 - precision: 0.9832 - recall: 0.9796 - val_accuracy: 0.4780 - val_loss: 6.4416 - val_precision: 0.4847 - val_recall: 0.4715\n",
      "Epoch 208/300\n",
      "\u001b[1m717/717\u001b[0m \u001b[32m━━━━━━━━━━━━━━━━━━━━\u001b[0m\u001b[37m\u001b[0m \u001b[1m0s\u001b[0m 28us/step - accuracy: 0.9375 - loss: 0.1105 - precision: 0.9375 - recall: 0.9375 - val_accuracy: 0.2308 - val_loss: 6.6017 - val_precision: 0.2308 - val_recall: 0.2308\n",
      "Epoch 209/300\n",
      "\u001b[1m717/717\u001b[0m \u001b[32m━━━━━━━━━━━━━━━━━━━━\u001b[0m\u001b[37m\u001b[0m \u001b[1m34s\u001b[0m 47ms/step - accuracy: 0.9800 - loss: 0.0582 - precision: 0.9815 - recall: 0.9788 - val_accuracy: 0.4763 - val_loss: 5.6394 - val_precision: 0.4847 - val_recall: 0.4660\n",
      "Epoch 210/300\n",
      "\u001b[1m717/717\u001b[0m \u001b[32m━━━━━━━━━━━━━━━━━━━━\u001b[0m\u001b[37m\u001b[0m \u001b[1m0s\u001b[0m 29us/step - accuracy: 0.9375 - loss: 0.1428 - precision: 0.9375 - recall: 0.9375 - val_accuracy: 0.5385 - val_loss: 4.4555 - val_precision: 0.5385 - val_recall: 0.5385\n",
      "Epoch 211/300\n",
      "\u001b[1m717/717\u001b[0m \u001b[32m━━━━━━━━━━━━━━━━━━━━\u001b[0m\u001b[37m\u001b[0m \u001b[1m36s\u001b[0m 50ms/step - accuracy: 0.9813 - loss: 0.0555 - precision: 0.9824 - recall: 0.9794 - val_accuracy: 0.4799 - val_loss: 5.9038 - val_precision: 0.4874 - val_recall: 0.4729\n",
      "Epoch 212/300\n",
      "\u001b[1m717/717\u001b[0m \u001b[32m━━━━━━━━━━━━━━━━━━━━\u001b[0m\u001b[37m\u001b[0m \u001b[1m0s\u001b[0m 27us/step - accuracy: 1.0000 - loss: 0.0115 - precision: 1.0000 - recall: 1.0000 - val_accuracy: 0.3846 - val_loss: 8.4234 - val_precision: 0.3846 - val_recall: 0.3846\n",
      "Epoch 213/300\n",
      "\u001b[1m717/717\u001b[0m \u001b[32m━━━━━━━━━━━━━━━━━━━━\u001b[0m\u001b[37m\u001b[0m \u001b[1m35s\u001b[0m 48ms/step - accuracy: 0.9816 - loss: 0.0536 - precision: 0.9835 - recall: 0.9799 - val_accuracy: 0.4693 - val_loss: 6.0997 - val_precision: 0.4774 - val_recall: 0.4630\n",
      "Epoch 214/300\n",
      "\u001b[1m717/717\u001b[0m \u001b[32m━━━━━━━━━━━━━━━━━━━━\u001b[0m\u001b[37m\u001b[0m \u001b[1m0s\u001b[0m 27us/step - accuracy: 1.0000 - loss: 0.0264 - precision: 1.0000 - recall: 1.0000 - val_accuracy: 0.6154 - val_loss: 5.7972 - val_precision: 0.6667 - val_recall: 0.6154\n",
      "Epoch 215/300\n",
      "\u001b[1m717/717\u001b[0m \u001b[32m━━━━━━━━━━━━━━━━━━━━\u001b[0m\u001b[37m\u001b[0m \u001b[1m42s\u001b[0m 58ms/step - accuracy: 0.9809 - loss: 0.0569 - precision: 0.9822 - recall: 0.9796 - val_accuracy: 0.4672 - val_loss: 6.0800 - val_precision: 0.4764 - val_recall: 0.4607\n",
      "Epoch 216/300\n",
      "\u001b[1m717/717\u001b[0m \u001b[32m━━━━━━━━━━━━━━━━━━━━\u001b[0m\u001b[37m\u001b[0m \u001b[1m0s\u001b[0m 32us/step - accuracy: 1.0000 - loss: 0.0262 - precision: 1.0000 - recall: 0.9688 - val_accuracy: 0.3846 - val_loss: 6.6836 - val_precision: 0.3846 - val_recall: 0.3846\n",
      "Epoch 217/300\n",
      "\u001b[1m717/717\u001b[0m \u001b[32m━━━━━━━━━━━━━━━━━━━━\u001b[0m\u001b[37m\u001b[0m \u001b[1m41s\u001b[0m 57ms/step - accuracy: 0.9807 - loss: 0.0626 - precision: 0.9829 - recall: 0.9799 - val_accuracy: 0.4728 - val_loss: 6.2308 - val_precision: 0.4820 - val_recall: 0.4675\n",
      "Epoch 218/300\n",
      "\u001b[1m717/717\u001b[0m \u001b[32m━━━━━━━━━━━━━━━━━━━━\u001b[0m\u001b[37m\u001b[0m \u001b[1m0s\u001b[0m 29us/step - accuracy: 0.9688 - loss: 0.0940 - precision: 0.9688 - recall: 0.9688 - val_accuracy: 0.3846 - val_loss: 6.4794 - val_precision: 0.3846 - val_recall: 0.3846\n",
      "Epoch 219/300\n",
      "\u001b[1m717/717\u001b[0m \u001b[32m━━━━━━━━━━━━━━━━━━━━\u001b[0m\u001b[37m\u001b[0m \u001b[1m39s\u001b[0m 54ms/step - accuracy: 0.9816 - loss: 0.0515 - precision: 0.9834 - recall: 0.9802 - val_accuracy: 0.4773 - val_loss: 6.0599 - val_precision: 0.4864 - val_recall: 0.4710\n",
      "Epoch 220/300\n",
      "\u001b[1m717/717\u001b[0m \u001b[32m━━━━━━━━━━━━━━━━━━━━\u001b[0m\u001b[37m\u001b[0m \u001b[1m0s\u001b[0m 36us/step - accuracy: 0.9688 - loss: 0.0505 - precision: 0.9688 - recall: 0.9688 - val_accuracy: 0.4615 - val_loss: 5.2930 - val_precision: 0.4615 - val_recall: 0.4615\n",
      "Epoch 221/300\n",
      "\u001b[1m717/717\u001b[0m \u001b[32m━━━━━━━━━━━━━━━━━━━━\u001b[0m\u001b[37m\u001b[0m \u001b[1m33s\u001b[0m 46ms/step - accuracy: 0.9824 - loss: 0.0536 - precision: 0.9837 - recall: 0.9809 - val_accuracy: 0.4736 - val_loss: 6.8862 - val_precision: 0.4779 - val_recall: 0.4689\n",
      "Epoch 222/300\n",
      "\u001b[1m717/717\u001b[0m \u001b[32m━━━━━━━━━━━━━━━━━━━━\u001b[0m\u001b[37m\u001b[0m \u001b[1m0s\u001b[0m 26us/step - accuracy: 0.9688 - loss: 0.0757 - precision: 0.9688 - recall: 0.9688 - val_accuracy: 0.6154 - val_loss: 4.8042 - val_precision: 0.6154 - val_recall: 0.6154\n",
      "Epoch 223/300\n",
      "\u001b[1m717/717\u001b[0m \u001b[32m━━━━━━━━━━━━━━━━━━━━\u001b[0m\u001b[37m\u001b[0m \u001b[1m34s\u001b[0m 47ms/step - accuracy: 0.9847 - loss: 0.0465 - precision: 0.9864 - recall: 0.9832 - val_accuracy: 0.4736 - val_loss: 6.1267 - val_precision: 0.4824 - val_recall: 0.4654\n",
      "Epoch 224/300\n",
      "\u001b[1m717/717\u001b[0m \u001b[32m━━━━━━━━━━━━━━━━━━━━\u001b[0m\u001b[37m\u001b[0m \u001b[1m0s\u001b[0m 27us/step - accuracy: 0.9375 - loss: 0.0931 - precision: 0.9375 - recall: 0.9375 - val_accuracy: 0.4615 - val_loss: 3.5444 - val_precision: 0.5000 - val_recall: 0.4615\n",
      "Epoch 225/300\n",
      "\u001b[1m717/717\u001b[0m \u001b[32m━━━━━━━━━━━━━━━━━━━━\u001b[0m\u001b[37m\u001b[0m \u001b[1m35s\u001b[0m 48ms/step - accuracy: 0.9824 - loss: 0.0484 - precision: 0.9838 - recall: 0.9813 - val_accuracy: 0.4719 - val_loss: 5.9970 - val_precision: 0.4798 - val_recall: 0.4642\n",
      "Epoch 226/300\n",
      "\u001b[1m717/717\u001b[0m \u001b[32m━━━━━━━━━━━━━━━━━━━━\u001b[0m\u001b[37m\u001b[0m \u001b[1m0s\u001b[0m 27us/step - accuracy: 0.9375 - loss: 0.2943 - precision: 0.9375 - recall: 0.9375 - val_accuracy: 0.5385 - val_loss: 4.8357 - val_precision: 0.5385 - val_recall: 0.5385\n",
      "Epoch 227/300\n",
      "\u001b[1m717/717\u001b[0m \u001b[32m━━━━━━━━━━━━━━━━━━━━\u001b[0m\u001b[37m\u001b[0m \u001b[1m37s\u001b[0m 52ms/step - accuracy: 0.9797 - loss: 0.0574 - precision: 0.9810 - recall: 0.9790 - val_accuracy: 0.4722 - val_loss: 6.2648 - val_precision: 0.4823 - val_recall: 0.4661\n",
      "Epoch 228/300\n",
      "\u001b[1m717/717\u001b[0m \u001b[32m━━━━━━━━━━━━━━━━━━━━\u001b[0m\u001b[37m\u001b[0m \u001b[1m0s\u001b[0m 29us/step - accuracy: 1.0000 - loss: 0.0284 - precision: 1.0000 - recall: 1.0000 - val_accuracy: 0.6154 - val_loss: 2.8708 - val_precision: 0.6667 - val_recall: 0.6154\n",
      "Epoch 229/300\n",
      "\u001b[1m717/717\u001b[0m \u001b[32m━━━━━━━━━━━━━━━━━━━━\u001b[0m\u001b[37m\u001b[0m \u001b[1m39s\u001b[0m 54ms/step - accuracy: 0.9831 - loss: 0.0510 - precision: 0.9847 - recall: 0.9816 - val_accuracy: 0.4696 - val_loss: 6.8795 - val_precision: 0.4753 - val_recall: 0.4633\n",
      "Epoch 230/300\n",
      "\u001b[1m717/717\u001b[0m \u001b[32m━━━━━━━━━━━━━━━━━━━━\u001b[0m\u001b[37m\u001b[0m \u001b[1m0s\u001b[0m 30us/step - accuracy: 0.9688 - loss: 0.0756 - precision: 0.9688 - recall: 0.9688 - val_accuracy: 0.3846 - val_loss: 6.0254 - val_precision: 0.4167 - val_recall: 0.3846\n",
      "Epoch 231/300\n",
      "\u001b[1m717/717\u001b[0m \u001b[32m━━━━━━━━━━━━━━━━━━━━\u001b[0m\u001b[37m\u001b[0m \u001b[1m41s\u001b[0m 56ms/step - accuracy: 0.9828 - loss: 0.0519 - precision: 0.9847 - recall: 0.9814 - val_accuracy: 0.4728 - val_loss: 6.0417 - val_precision: 0.4820 - val_recall: 0.4644\n",
      "Epoch 232/300\n",
      "\u001b[1m717/717\u001b[0m \u001b[32m━━━━━━━━━━━━━━━━━━━━\u001b[0m\u001b[37m\u001b[0m \u001b[1m4s\u001b[0m 5ms/step - accuracy: 0.9688 - loss: 0.0688 - precision: 0.9688 - recall: 0.9688 - val_accuracy: 0.3077 - val_loss: 3.8788 - val_precision: 0.3333 - val_recall: 0.3077\n",
      "Epoch 233/300\n",
      "\u001b[1m717/717\u001b[0m \u001b[32m━━━━━━━━━━━━━━━━━━━━\u001b[0m\u001b[37m\u001b[0m \u001b[1m44s\u001b[0m 61ms/step - accuracy: 0.9785 - loss: 0.0676 - precision: 0.9799 - recall: 0.9770 - val_accuracy: 0.4740 - val_loss: 6.4710 - val_precision: 0.4816 - val_recall: 0.4693\n",
      "Epoch 234/300\n",
      "\u001b[1m717/717\u001b[0m \u001b[32m━━━━━━━━━━━━━━━━━━━━\u001b[0m\u001b[37m\u001b[0m \u001b[1m0s\u001b[0m 28us/step - accuracy: 0.9583 - loss: 0.0516 - precision: 0.9583 - recall: 0.9583 - val_accuracy: 0.3846 - val_loss: 6.0343 - val_precision: 0.3846 - val_recall: 0.3846\n",
      "Epoch 235/300\n",
      "\u001b[1m717/717\u001b[0m \u001b[32m━━━━━━━━━━━━━━━━━━━━\u001b[0m\u001b[37m\u001b[0m \u001b[1m49s\u001b[0m 68ms/step - accuracy: 0.9823 - loss: 0.0568 - precision: 0.9842 - recall: 0.9812 - val_accuracy: 0.4686 - val_loss: 7.0171 - val_precision: 0.4751 - val_recall: 0.4642\n",
      "Epoch 236/300\n",
      "\u001b[1m717/717\u001b[0m \u001b[32m━━━━━━━━━━━━━━━━━━━━\u001b[0m\u001b[37m\u001b[0m \u001b[1m0s\u001b[0m 31us/step - accuracy: 0.9375 - loss: 0.0963 - precision: 0.9375 - recall: 0.9375 - val_accuracy: 0.3846 - val_loss: 7.7829 - val_precision: 0.4545 - val_recall: 0.3846\n",
      "Epoch 237/300\n",
      "\u001b[1m717/717\u001b[0m \u001b[32m━━━━━━━━━━━━━━━━━━━━\u001b[0m\u001b[37m\u001b[0m \u001b[1m91s\u001b[0m 81ms/step - accuracy: 0.9823 - loss: 0.0568 - precision: 0.9838 - recall: 0.9812 - val_accuracy: 0.4717 - val_loss: 6.4698 - val_precision: 0.4788 - val_recall: 0.4653\n",
      "Epoch 238/300\n",
      "\u001b[1m717/717\u001b[0m \u001b[32m━━━━━━━━━━━━━━━━━━━━\u001b[0m\u001b[37m\u001b[0m \u001b[1m0s\u001b[0m 27us/step - accuracy: 1.0000 - loss: 0.0211 - precision: 1.0000 - recall: 1.0000 - val_accuracy: 0.3846 - val_loss: 12.3955 - val_precision: 0.3846 - val_recall: 0.3846\n",
      "Epoch 239/300\n",
      "\u001b[1m717/717\u001b[0m \u001b[32m━━━━━━━━━━━━━━━━━━━━\u001b[0m\u001b[37m\u001b[0m \u001b[1m46s\u001b[0m 63ms/step - accuracy: 0.9825 - loss: 0.0505 - precision: 0.9847 - recall: 0.9818 - val_accuracy: 0.4605 - val_loss: 6.6212 - val_precision: 0.4674 - val_recall: 0.4532\n",
      "Epoch 240/300\n",
      "\u001b[1m717/717\u001b[0m \u001b[32m━━━━━━━━━━━━━━━━━━━━\u001b[0m\u001b[37m\u001b[0m \u001b[1m0s\u001b[0m 32us/step - accuracy: 1.0000 - loss: 0.0112 - precision: 1.0000 - recall: 1.0000 - val_accuracy: 0.6154 - val_loss: 3.6599 - val_precision: 0.6154 - val_recall: 0.6154\n",
      "Epoch 241/300\n",
      "\u001b[1m717/717\u001b[0m \u001b[32m━━━━━━━━━━━━━━━━━━━━\u001b[0m\u001b[37m\u001b[0m \u001b[1m45s\u001b[0m 63ms/step - accuracy: 0.9817 - loss: 0.0541 - precision: 0.9835 - recall: 0.9808 - val_accuracy: 0.4647 - val_loss: 6.0207 - val_precision: 0.4743 - val_recall: 0.4562\n",
      "Epoch 242/300\n",
      "\u001b[1m717/717\u001b[0m \u001b[32m━━━━━━━━━━━━━━━━━━━━\u001b[0m\u001b[37m\u001b[0m \u001b[1m0s\u001b[0m 30us/step - accuracy: 1.0000 - loss: 0.0212 - precision: 1.0000 - recall: 1.0000 - val_accuracy: 0.5385 - val_loss: 3.3191 - val_precision: 0.5833 - val_recall: 0.5385\n",
      "Epoch 243/300\n",
      "\u001b[1m717/717\u001b[0m \u001b[32m━━━━━━━━━━━━━━━━━━━━\u001b[0m\u001b[37m\u001b[0m \u001b[1m52s\u001b[0m 71ms/step - accuracy: 0.9810 - loss: 0.0538 - precision: 0.9824 - recall: 0.9798 - val_accuracy: 0.4689 - val_loss: 6.5307 - val_precision: 0.4770 - val_recall: 0.4632\n",
      "Epoch 244/300\n",
      "\u001b[1m717/717\u001b[0m \u001b[32m━━━━━━━━━━━━━━━━━━━━\u001b[0m\u001b[37m\u001b[0m \u001b[1m0s\u001b[0m 29us/step - accuracy: 1.0000 - loss: 0.0062 - precision: 1.0000 - recall: 1.0000 - val_accuracy: 0.6154 - val_loss: 1.9276 - val_precision: 0.6154 - val_recall: 0.6154\n",
      "Epoch 245/300\n",
      "\u001b[1m717/717\u001b[0m \u001b[32m━━━━━━━━━━━━━━━━━━━━\u001b[0m\u001b[37m\u001b[0m \u001b[1m42s\u001b[0m 58ms/step - accuracy: 0.9805 - loss: 0.0561 - precision: 0.9833 - recall: 0.9786 - val_accuracy: 0.4715 - val_loss: 5.8491 - val_precision: 0.4803 - val_recall: 0.4635\n",
      "Epoch 246/300\n",
      "\u001b[1m717/717\u001b[0m \u001b[32m━━━━━━━━━━━━━━━━━━━━\u001b[0m\u001b[37m\u001b[0m \u001b[1m0s\u001b[0m 33us/step - accuracy: 1.0000 - loss: 0.0207 - precision: 1.0000 - recall: 1.0000 - val_accuracy: 0.6154 - val_loss: 1.9050 - val_precision: 0.7273 - val_recall: 0.6154\n",
      "Epoch 247/300\n",
      "\u001b[1m717/717\u001b[0m \u001b[32m━━━━━━━━━━━━━━━━━━━━\u001b[0m\u001b[37m\u001b[0m \u001b[1m35s\u001b[0m 49ms/step - accuracy: 0.9819 - loss: 0.0546 - precision: 0.9832 - recall: 0.9808 - val_accuracy: 0.4726 - val_loss: 6.5229 - val_precision: 0.4794 - val_recall: 0.4670\n",
      "Epoch 248/300\n",
      "\u001b[1m717/717\u001b[0m \u001b[32m━━━━━━━━━━━━━━━━━━━━\u001b[0m\u001b[37m\u001b[0m \u001b[1m0s\u001b[0m 27us/step - accuracy: 1.0000 - loss: 0.0176 - precision: 1.0000 - recall: 1.0000 - val_accuracy: 0.4615 - val_loss: 8.0375 - val_precision: 0.4615 - val_recall: 0.4615\n",
      "Epoch 249/300\n",
      "\u001b[1m717/717\u001b[0m \u001b[32m━━━━━━━━━━━━━━━━━━━━\u001b[0m\u001b[37m\u001b[0m \u001b[1m39s\u001b[0m 46ms/step - accuracy: 0.9841 - loss: 0.0507 - precision: 0.9855 - recall: 0.9827 - val_accuracy: 0.4681 - val_loss: 6.8994 - val_precision: 0.4754 - val_recall: 0.4628\n",
      "Epoch 250/300\n",
      "\u001b[1m717/717\u001b[0m \u001b[32m━━━━━━━━━━━━━━━━━━━━\u001b[0m\u001b[37m\u001b[0m \u001b[1m0s\u001b[0m 36us/step - accuracy: 0.9688 - loss: 0.0890 - precision: 0.9688 - recall: 0.9688 - val_accuracy: 0.6154 - val_loss: 6.3146 - val_precision: 0.6154 - val_recall: 0.6154\n",
      "Epoch 251/300\n",
      "\u001b[1m717/717\u001b[0m \u001b[32m━━━━━━━━━━━━━━━━━━━━\u001b[0m\u001b[37m\u001b[0m \u001b[1m28s\u001b[0m 39ms/step - accuracy: 0.9840 - loss: 0.0475 - precision: 0.9856 - recall: 0.9829 - val_accuracy: 0.4635 - val_loss: 6.7942 - val_precision: 0.4682 - val_recall: 0.4571\n",
      "Epoch 252/300\n",
      "\u001b[1m717/717\u001b[0m \u001b[32m━━━━━━━━━━━━━━━━━━━━\u001b[0m\u001b[37m\u001b[0m \u001b[1m0s\u001b[0m 29us/step - accuracy: 1.0000 - loss: 0.0372 - precision: 1.0000 - recall: 1.0000 - val_accuracy: 0.3846 - val_loss: 8.1112 - val_precision: 0.3846 - val_recall: 0.3846\n",
      "Epoch 253/300\n",
      "\u001b[1m717/717\u001b[0m \u001b[32m━━━━━━━━━━━━━━━━━━━━\u001b[0m\u001b[37m\u001b[0m \u001b[1m34s\u001b[0m 47ms/step - accuracy: 0.9827 - loss: 0.0500 - precision: 0.9837 - recall: 0.9817 - val_accuracy: 0.4729 - val_loss: 6.4579 - val_precision: 0.4798 - val_recall: 0.4675\n",
      "Epoch 254/300\n",
      "\u001b[1m717/717\u001b[0m \u001b[32m━━━━━━━━━━━━━━━━━━━━\u001b[0m\u001b[37m\u001b[0m \u001b[1m0s\u001b[0m 27us/step - accuracy: 0.9688 - loss: 0.0474 - precision: 0.9688 - recall: 0.9688 - val_accuracy: 0.4615 - val_loss: 2.6287 - val_precision: 0.4615 - val_recall: 0.4615\n",
      "Epoch 255/300\n",
      "\u001b[1m717/717\u001b[0m \u001b[32m━━━━━━━━━━━━━━━━━━━━\u001b[0m\u001b[37m\u001b[0m \u001b[1m36s\u001b[0m 50ms/step - accuracy: 0.9852 - loss: 0.0460 - precision: 0.9867 - recall: 0.9840 - val_accuracy: 0.4735 - val_loss: 6.4413 - val_precision: 0.4810 - val_recall: 0.4672\n",
      "Epoch 256/300\n",
      "\u001b[1m717/717\u001b[0m \u001b[32m━━━━━━━━━━━━━━━━━━━━\u001b[0m\u001b[37m\u001b[0m \u001b[1m0s\u001b[0m 33us/step - accuracy: 1.0000 - loss: 0.0038 - precision: 1.0000 - recall: 1.0000 - val_accuracy: 0.4615 - val_loss: 9.2628 - val_precision: 0.4615 - val_recall: 0.4615\n",
      "Epoch 257/300\n",
      "\u001b[1m717/717\u001b[0m \u001b[32m━━━━━━━━━━━━━━━━━━━━\u001b[0m\u001b[37m\u001b[0m \u001b[1m36s\u001b[0m 50ms/step - accuracy: 0.9858 - loss: 0.0402 - precision: 0.9874 - recall: 0.9851 - val_accuracy: 0.4672 - val_loss: 6.9629 - val_precision: 0.4724 - val_recall: 0.4602\n",
      "Epoch 258/300\n",
      "\u001b[1m717/717\u001b[0m \u001b[32m━━━━━━━━━━━━━━━━━━━━\u001b[0m\u001b[37m\u001b[0m \u001b[1m0s\u001b[0m 29us/step - accuracy: 1.0000 - loss: 0.0204 - precision: 1.0000 - recall: 1.0000 - val_accuracy: 0.4615 - val_loss: 7.5081 - val_precision: 0.4615 - val_recall: 0.4615\n",
      "Epoch 259/300\n",
      "\u001b[1m717/717\u001b[0m \u001b[32m━━━━━━━━━━━━━━━━━━━━\u001b[0m\u001b[37m\u001b[0m \u001b[1m40s\u001b[0m 56ms/step - accuracy: 0.9856 - loss: 0.0455 - precision: 0.9871 - recall: 0.9843 - val_accuracy: 0.4710 - val_loss: 6.7320 - val_precision: 0.4768 - val_recall: 0.4635\n",
      "Epoch 260/300\n",
      "\u001b[1m717/717\u001b[0m \u001b[32m━━━━━━━━━━━━━━━━━━━━\u001b[0m\u001b[37m\u001b[0m \u001b[1m0s\u001b[0m 28us/step - accuracy: 1.0000 - loss: 0.0115 - precision: 1.0000 - recall: 1.0000 - val_accuracy: 0.4615 - val_loss: 5.9594 - val_precision: 0.4615 - val_recall: 0.4615\n",
      "Epoch 261/300\n",
      "\u001b[1m717/717\u001b[0m \u001b[32m━━━━━━━━━━━━━━━━━━━━\u001b[0m\u001b[37m\u001b[0m \u001b[1m37s\u001b[0m 51ms/step - accuracy: 0.9844 - loss: 0.0498 - precision: 0.9856 - recall: 0.9834 - val_accuracy: 0.4682 - val_loss: 6.9529 - val_precision: 0.4759 - val_recall: 0.4637\n",
      "Epoch 262/300\n",
      "\u001b[1m717/717\u001b[0m \u001b[32m━━━━━━━━━━━━━━━━━━━━\u001b[0m\u001b[37m\u001b[0m \u001b[1m0s\u001b[0m 32us/step - accuracy: 0.9688 - loss: 0.0453 - precision: 0.9688 - recall: 0.9688 - val_accuracy: 0.5385 - val_loss: 5.0862 - val_precision: 0.5000 - val_recall: 0.4615\n",
      "Epoch 263/300\n",
      "\u001b[1m717/717\u001b[0m \u001b[32m━━━━━━━━━━━━━━━━━━━━\u001b[0m\u001b[37m\u001b[0m \u001b[1m37s\u001b[0m 51ms/step - accuracy: 0.9851 - loss: 0.0425 - precision: 0.9866 - recall: 0.9838 - val_accuracy: 0.4745 - val_loss: 7.1874 - val_precision: 0.4811 - val_recall: 0.4691\n",
      "Epoch 264/300\n",
      "\u001b[1m717/717\u001b[0m \u001b[32m━━━━━━━━━━━━━━━━━━━━\u001b[0m\u001b[37m\u001b[0m \u001b[1m0s\u001b[0m 34us/step - accuracy: 0.9688 - loss: 0.0508 - precision: 0.9688 - recall: 0.9688 - val_accuracy: 0.4615 - val_loss: 4.6728 - val_precision: 0.4615 - val_recall: 0.4615\n",
      "Epoch 265/300\n",
      "\u001b[1m717/717\u001b[0m \u001b[32m━━━━━━━━━━━━━━━━━━━━\u001b[0m\u001b[37m\u001b[0m \u001b[1m36s\u001b[0m 50ms/step - accuracy: 0.9847 - loss: 0.0464 - precision: 0.9859 - recall: 0.9833 - val_accuracy: 0.4684 - val_loss: 6.9310 - val_precision: 0.4738 - val_recall: 0.4637\n",
      "Epoch 266/300\n",
      "\u001b[1m717/717\u001b[0m \u001b[32m━━━━━━━━━━━━━━━━━━━━\u001b[0m\u001b[37m\u001b[0m \u001b[1m0s\u001b[0m 30us/step - accuracy: 1.0000 - loss: 0.0129 - precision: 1.0000 - recall: 1.0000 - val_accuracy: 0.4615 - val_loss: 7.3631 - val_precision: 0.4615 - val_recall: 0.4615\n",
      "Epoch 267/300\n",
      "\u001b[1m717/717\u001b[0m \u001b[32m━━━━━━━━━━━━━━━━━━━━\u001b[0m\u001b[37m\u001b[0m \u001b[1m37s\u001b[0m 51ms/step - accuracy: 0.9842 - loss: 0.0473 - precision: 0.9851 - recall: 0.9836 - val_accuracy: 0.4710 - val_loss: 6.2673 - val_precision: 0.4797 - val_recall: 0.4630\n",
      "Epoch 268/300\n",
      "\u001b[1m717/717\u001b[0m \u001b[32m━━━━━━━━━━━━━━━━━━━━\u001b[0m\u001b[37m\u001b[0m \u001b[1m0s\u001b[0m 28us/step - accuracy: 1.0000 - loss: 8.6714e-04 - precision: 1.0000 - recall: 1.0000 - val_accuracy: 0.3846 - val_loss: 2.9541 - val_precision: 0.3636 - val_recall: 0.3077\n",
      "Epoch 269/300\n",
      "\u001b[1m717/717\u001b[0m \u001b[32m━━━━━━━━━━━━━━━━━━━━\u001b[0m\u001b[37m\u001b[0m \u001b[1m34s\u001b[0m 48ms/step - accuracy: 0.9842 - loss: 0.0462 - precision: 0.9855 - recall: 0.9831 - val_accuracy: 0.4691 - val_loss: 7.0180 - val_precision: 0.4738 - val_recall: 0.4611\n",
      "Epoch 270/300\n",
      "\u001b[1m717/717\u001b[0m \u001b[32m━━━━━━━━━━━━━━━━━━━━\u001b[0m\u001b[37m\u001b[0m \u001b[1m0s\u001b[0m 28us/step - accuracy: 0.9688 - loss: 0.0560 - precision: 0.9688 - recall: 0.9688 - val_accuracy: 0.3077 - val_loss: 4.6247 - val_precision: 0.3077 - val_recall: 0.3077\n",
      "Epoch 271/300\n",
      "\u001b[1m717/717\u001b[0m \u001b[32m━━━━━━━━━━━━━━━━━━━━\u001b[0m\u001b[37m\u001b[0m \u001b[1m51s\u001b[0m 71ms/step - accuracy: 0.9847 - loss: 0.0497 - precision: 0.9863 - recall: 0.9839 - val_accuracy: 0.4630 - val_loss: 7.0778 - val_precision: 0.4701 - val_recall: 0.4572\n",
      "Epoch 272/300\n",
      "\u001b[1m717/717\u001b[0m \u001b[32m━━━━━━━━━━━━━━━━━━━━\u001b[0m\u001b[37m\u001b[0m \u001b[1m0s\u001b[0m 36us/step - accuracy: 0.9688 - loss: 0.0758 - precision: 0.9688 - recall: 0.9688 - val_accuracy: 0.4615 - val_loss: 5.6636 - val_precision: 0.4615 - val_recall: 0.4615\n",
      "Epoch 273/300\n",
      "\u001b[1m717/717\u001b[0m \u001b[32m━━━━━━━━━━━━━━━━━━━━\u001b[0m\u001b[37m\u001b[0m \u001b[1m35s\u001b[0m 49ms/step - accuracy: 0.9832 - loss: 0.0537 - precision: 0.9844 - recall: 0.9820 - val_accuracy: 0.4684 - val_loss: 6.1199 - val_precision: 0.4769 - val_recall: 0.4591\n",
      "Epoch 274/300\n",
      "\u001b[1m717/717\u001b[0m \u001b[32m━━━━━━━━━━━━━━━━━━━━\u001b[0m\u001b[37m\u001b[0m \u001b[1m0s\u001b[0m 26us/step - accuracy: 0.9688 - loss: 0.1025 - precision: 0.9688 - recall: 0.9688 - val_accuracy: 0.5385 - val_loss: 6.8129 - val_precision: 0.5385 - val_recall: 0.5385\n",
      "Epoch 275/300\n",
      "\u001b[1m717/717\u001b[0m \u001b[32m━━━━━━━━━━━━━━━━━━━━\u001b[0m\u001b[37m\u001b[0m \u001b[1m45s\u001b[0m 62ms/step - accuracy: 0.9844 - loss: 0.0468 - precision: 0.9851 - recall: 0.9836 - val_accuracy: 0.4663 - val_loss: 6.6279 - val_precision: 0.4724 - val_recall: 0.4588\n",
      "Epoch 276/300\n",
      "\u001b[1m717/717\u001b[0m \u001b[32m━━━━━━━━━━━━━━━━━━━━\u001b[0m\u001b[37m\u001b[0m \u001b[1m0s\u001b[0m 26us/step - accuracy: 0.9688 - loss: 0.0581 - precision: 0.9688 - recall: 0.9688 - val_accuracy: 0.5385 - val_loss: 7.8613 - val_precision: 0.5385 - val_recall: 0.5385\n",
      "Epoch 277/300\n",
      "\u001b[1m717/717\u001b[0m \u001b[32m━━━━━━━━━━━━━━━━━━━━\u001b[0m\u001b[37m\u001b[0m \u001b[1m37s\u001b[0m 51ms/step - accuracy: 0.9841 - loss: 0.0451 - precision: 0.9856 - recall: 0.9831 - val_accuracy: 0.4649 - val_loss: 6.6507 - val_precision: 0.4713 - val_recall: 0.4578\n",
      "Epoch 278/300\n",
      "\u001b[1m717/717\u001b[0m \u001b[32m━━━━━━━━━━━━━━━━━━━━\u001b[0m\u001b[37m\u001b[0m \u001b[1m0s\u001b[0m 26us/step - accuracy: 1.0000 - loss: 0.0077 - precision: 1.0000 - recall: 1.0000 - val_accuracy: 0.4615 - val_loss: 2.9740 - val_precision: 0.5000 - val_recall: 0.4615\n",
      "Epoch 279/300\n",
      "\u001b[1m717/717\u001b[0m \u001b[32m━━━━━━━━━━━━━━━━━━━━\u001b[0m\u001b[37m\u001b[0m \u001b[1m38s\u001b[0m 53ms/step - accuracy: 0.9845 - loss: 0.0502 - precision: 0.9860 - recall: 0.9835 - val_accuracy: 0.4707 - val_loss: 6.9431 - val_precision: 0.4760 - val_recall: 0.4628\n",
      "Epoch 280/300\n",
      "\u001b[1m717/717\u001b[0m \u001b[32m━━━━━━━━━━━━━━━━━━━━\u001b[0m\u001b[37m\u001b[0m \u001b[1m0s\u001b[0m 30us/step - accuracy: 0.9688 - loss: 0.0462 - precision: 0.9688 - recall: 0.9688 - val_accuracy: 0.5385 - val_loss: 3.3874 - val_precision: 0.5000 - val_recall: 0.4615\n",
      "Epoch 281/300\n",
      "\u001b[1m717/717\u001b[0m \u001b[32m━━━━━━━━━━━━━━━━━━━━\u001b[0m\u001b[37m\u001b[0m \u001b[1m37s\u001b[0m 51ms/step - accuracy: 0.9839 - loss: 0.0504 - precision: 0.9853 - recall: 0.9827 - val_accuracy: 0.4733 - val_loss: 6.8446 - val_precision: 0.4808 - val_recall: 0.4677\n",
      "Epoch 282/300\n",
      "\u001b[1m717/717\u001b[0m \u001b[32m━━━━━━━━━━━━━━━━━━━━\u001b[0m\u001b[37m\u001b[0m \u001b[1m0s\u001b[0m 57us/step - accuracy: 0.9688 - loss: 0.0269 - precision: 0.9688 - recall: 0.9688 - val_accuracy: 0.4615 - val_loss: 4.7672 - val_precision: 0.4615 - val_recall: 0.4615\n",
      "Epoch 283/300\n",
      "\u001b[1m717/717\u001b[0m \u001b[32m━━━━━━━━━━━━━━━━━━━━\u001b[0m\u001b[37m\u001b[0m \u001b[1m39s\u001b[0m 53ms/step - accuracy: 0.9844 - loss: 0.0492 - precision: 0.9853 - recall: 0.9831 - val_accuracy: 0.4653 - val_loss: 6.6949 - val_precision: 0.4720 - val_recall: 0.4574\n",
      "Epoch 284/300\n",
      "\u001b[1m717/717\u001b[0m \u001b[32m━━━━━━━━━━━━━━━━━━━━\u001b[0m\u001b[37m\u001b[0m \u001b[1m0s\u001b[0m 26us/step - accuracy: 1.0000 - loss: 9.1278e-04 - precision: 1.0000 - recall: 1.0000 - val_accuracy: 0.1538 - val_loss: 8.5566 - val_precision: 0.1538 - val_recall: 0.1538\n",
      "Epoch 285/300\n",
      "\u001b[1m717/717\u001b[0m \u001b[32m━━━━━━━━━━━━━━━━━━━━\u001b[0m\u001b[37m\u001b[0m \u001b[1m37s\u001b[0m 51ms/step - accuracy: 0.9843 - loss: 0.0506 - precision: 0.9855 - recall: 0.9832 - val_accuracy: 0.4736 - val_loss: 7.0626 - val_precision: 0.4795 - val_recall: 0.4665\n",
      "Epoch 286/300\n",
      "\u001b[1m717/717\u001b[0m \u001b[32m━━━━━━━━━━━━━━━━━━━━\u001b[0m\u001b[37m\u001b[0m \u001b[1m0s\u001b[0m 26us/step - accuracy: 1.0000 - loss: 0.0157 - precision: 1.0000 - recall: 1.0000 - val_accuracy: 0.6923 - val_loss: 3.1457 - val_precision: 0.6923 - val_recall: 0.6923\n",
      "Epoch 287/300\n",
      "\u001b[1m717/717\u001b[0m \u001b[32m━━━━━━━━━━━━━━━━━━━━\u001b[0m\u001b[37m\u001b[0m \u001b[1m35s\u001b[0m 47ms/step - accuracy: 0.9850 - loss: 0.0449 - precision: 0.9860 - recall: 0.9837 - val_accuracy: 0.4686 - val_loss: 6.6443 - val_precision: 0.4768 - val_recall: 0.4637\n",
      "Epoch 288/300\n",
      "\u001b[1m717/717\u001b[0m \u001b[32m━━━━━━━━━━━━━━━━━━━━\u001b[0m\u001b[37m\u001b[0m \u001b[1m0s\u001b[0m 28us/step - accuracy: 1.0000 - loss: 0.0232 - precision: 1.0000 - recall: 1.0000 - val_accuracy: 0.6154 - val_loss: 4.1731 - val_precision: 0.6154 - val_recall: 0.6154\n",
      "Epoch 289/300\n",
      "\u001b[1m717/717\u001b[0m \u001b[32m━━━━━━━━━━━━━━━━━━━━\u001b[0m\u001b[37m\u001b[0m \u001b[1m38s\u001b[0m 52ms/step - accuracy: 0.9849 - loss: 0.0452 - precision: 0.9863 - recall: 0.9838 - val_accuracy: 0.4677 - val_loss: 6.8787 - val_precision: 0.4743 - val_recall: 0.4612\n",
      "Epoch 290/300\n",
      "\u001b[1m717/717\u001b[0m \u001b[32m━━━━━━━━━━━━━━━━━━━━\u001b[0m\u001b[37m\u001b[0m \u001b[1m0s\u001b[0m 43us/step - accuracy: 1.0000 - loss: 0.0027 - precision: 1.0000 - recall: 1.0000 - val_accuracy: 0.3846 - val_loss: 8.2417 - val_precision: 0.3846 - val_recall: 0.3846\n",
      "Epoch 291/300\n",
      "\u001b[1m717/717\u001b[0m \u001b[32m━━━━━━━━━━━━━━━━━━━━\u001b[0m\u001b[37m\u001b[0m \u001b[1m41s\u001b[0m 56ms/step - accuracy: 0.9844 - loss: 0.0441 - precision: 0.9862 - recall: 0.9836 - val_accuracy: 0.4722 - val_loss: 6.8352 - val_precision: 0.4776 - val_recall: 0.4654\n",
      "Epoch 292/300\n",
      "\u001b[1m717/717\u001b[0m \u001b[32m━━━━━━━━━━━━━━━━━━━━\u001b[0m\u001b[37m\u001b[0m \u001b[1m0s\u001b[0m 26us/step - accuracy: 1.0000 - loss: 0.0024 - precision: 1.0000 - recall: 1.0000 - val_accuracy: 0.3846 - val_loss: 8.9218 - val_precision: 0.4167 - val_recall: 0.3846\n",
      "Epoch 293/300\n",
      "\u001b[1m717/717\u001b[0m \u001b[32m━━━━━━━━━━━━━━━━━━━━\u001b[0m\u001b[37m\u001b[0m \u001b[1m36s\u001b[0m 50ms/step - accuracy: 0.9863 - loss: 0.0455 - precision: 0.9870 - recall: 0.9849 - val_accuracy: 0.4742 - val_loss: 6.6392 - val_precision: 0.4815 - val_recall: 0.4674\n",
      "Epoch 294/300\n",
      "\u001b[1m717/717\u001b[0m \u001b[32m━━━━━━━━━━━━━━━━━━━━\u001b[0m\u001b[37m\u001b[0m \u001b[1m0s\u001b[0m 28us/step - accuracy: 0.9688 - loss: 0.0650 - precision: 0.9688 - recall: 0.9688 - val_accuracy: 0.5385 - val_loss: 5.3157 - val_precision: 0.5385 - val_recall: 0.5385\n",
      "Epoch 295/300\n",
      "\u001b[1m717/717\u001b[0m \u001b[32m━━━━━━━━━━━━━━━━━━━━\u001b[0m\u001b[37m\u001b[0m \u001b[1m36s\u001b[0m 50ms/step - accuracy: 0.9873 - loss: 0.0380 - precision: 0.9884 - recall: 0.9865 - val_accuracy: 0.4688 - val_loss: 6.8693 - val_precision: 0.4761 - val_recall: 0.4612\n",
      "Epoch 296/300\n",
      "\u001b[1m717/717\u001b[0m \u001b[32m━━━━━━━━━━━━━━━━━━━━\u001b[0m\u001b[37m\u001b[0m \u001b[1m0s\u001b[0m 28us/step - accuracy: 0.9375 - loss: 0.0625 - precision: 0.9375 - recall: 0.9375 - val_accuracy: 0.3846 - val_loss: 3.3783 - val_precision: 0.4167 - val_recall: 0.3846\n",
      "Epoch 297/300\n",
      "\u001b[1m717/717\u001b[0m \u001b[32m━━━━━━━━━━━━━━━━━━━━\u001b[0m\u001b[37m\u001b[0m \u001b[1m37s\u001b[0m 52ms/step - accuracy: 0.9849 - loss: 0.0439 - precision: 0.9866 - recall: 0.9840 - val_accuracy: 0.4811 - val_loss: 7.2660 - val_precision: 0.4864 - val_recall: 0.4756\n",
      "Epoch 298/300\n",
      "\u001b[1m717/717\u001b[0m \u001b[32m━━━━━━━━━━━━━━━━━━━━\u001b[0m\u001b[37m\u001b[0m \u001b[1m0s\u001b[0m 32us/step - accuracy: 0.9375 - loss: 0.1972 - precision: 0.9677 - recall: 0.9375 - val_accuracy: 0.6923 - val_loss: 6.0160 - val_precision: 0.6923 - val_recall: 0.6923\n",
      "Epoch 299/300\n",
      "\u001b[1m717/717\u001b[0m \u001b[32m━━━━━━━━━━━━━━━━━━━━\u001b[0m\u001b[37m\u001b[0m \u001b[1m37s\u001b[0m 51ms/step - accuracy: 0.9856 - loss: 0.0480 - precision: 0.9876 - recall: 0.9846 - val_accuracy: 0.4663 - val_loss: 6.7890 - val_precision: 0.4729 - val_recall: 0.4591\n",
      "Epoch 300/300\n",
      "\u001b[1m717/717\u001b[0m \u001b[32m━━━━━━━━━━━━━━━━━━━━\u001b[0m\u001b[37m\u001b[0m \u001b[1m0s\u001b[0m 27us/step - accuracy: 0.9375 - loss: 0.1699 - precision: 0.9677 - recall: 0.9375 - val_accuracy: 0.5385 - val_loss: 4.1535 - val_precision: 0.5385 - val_recall: 0.5385\n"
     ]
    },
    {
     "data": {
      "text/plain": [
       "<keras.src.callbacks.history.History at 0x7864dc9d5450>"
      ]
     },
     "execution_count": 17,
     "metadata": {},
     "output_type": "execute_result"
    }
   ],
   "source": [
    "model.fit(train_obj,validation_data=val_obj,validation_steps=steps_per_epoch_val,batch_size=BATCH_SIZE,steps_per_epoch=steps_per_epoch_train,epochs=300)"
   ]
  },
  {
   "cell_type": "code",
   "execution_count": 18,
   "id": "178917d4",
   "metadata": {
    "execution": {
     "iopub.execute_input": "2024-07-25T14:44:47.817778Z",
     "iopub.status.busy": "2024-07-25T14:44:47.816707Z",
     "iopub.status.idle": "2024-07-25T14:46:02.292020Z",
     "shell.execute_reply": "2024-07-25T14:46:02.291207Z"
    },
    "papermill": {
     "duration": 79.397463,
     "end_time": "2024-07-25T14:46:02.293943",
     "exception": false,
     "start_time": "2024-07-25T14:44:42.896480",
     "status": "completed"
    },
    "tags": []
   },
   "outputs": [
    {
     "name": "stdout",
     "output_type": "stream",
     "text": [
      "\u001b[1m224/224\u001b[0m \u001b[32m━━━━━━━━━━━━━━━━━━━━\u001b[0m\u001b[37m\u001b[0m \u001b[1m74s\u001b[0m 330ms/step - accuracy: 0.4674 - loss: 6.6908 - precision: 0.4761 - recall: 0.4606\n"
     ]
    },
    {
     "data": {
      "text/plain": [
       "[6.66312837600708, 0.47265625, 0.4642857015132904, 0.4795389175415039]"
      ]
     },
     "execution_count": 18,
     "metadata": {},
     "output_type": "execute_result"
    }
   ],
   "source": [
    "model.evaluate(test_obj,batch_size=BATCH_SIZE,steps=steps_per_epoch_test)"
   ]
  },
  {
   "cell_type": "code",
   "execution_count": null,
   "id": "b339c0f4",
   "metadata": {
    "papermill": {
     "duration": 4.969075,
     "end_time": "2024-07-25T14:46:12.321136",
     "exception": false,
     "start_time": "2024-07-25T14:46:07.352061",
     "status": "completed"
    },
    "tags": []
   },
   "outputs": [],
   "source": []
  }
 ],
 "metadata": {
  "kaggle": {
   "accelerator": "gpu",
   "dataSources": [
    {
     "datasetId": 786787,
     "sourceId": 1351797,
     "sourceType": "datasetVersion"
    }
   ],
   "dockerImageVersionId": 30747,
   "isGpuEnabled": true,
   "isInternetEnabled": true,
   "language": "python",
   "sourceType": "notebook"
  },
  "kernelspec": {
   "display_name": "Python 3",
   "language": "python",
   "name": "python3"
  },
  "language_info": {
   "codemirror_mode": {
    "name": "ipython",
    "version": 3
   },
   "file_extension": ".py",
   "mimetype": "text/x-python",
   "name": "python",
   "nbconvert_exporter": "python",
   "pygments_lexer": "ipython3",
   "version": "3.10.13"
  },
  "papermill": {
   "default_parameters": {},
   "duration": 5423.983035,
   "end_time": "2024-07-25T14:46:19.381941",
   "environment_variables": {},
   "exception": null,
   "input_path": "__notebook__.ipynb",
   "output_path": "__notebook__.ipynb",
   "parameters": {},
   "start_time": "2024-07-25T13:15:55.398906",
   "version": "2.5.0"
  }
 },
 "nbformat": 4,
 "nbformat_minor": 5
}

{
 "cells": [
  {
   "cell_type": "code",
   "execution_count": 1,
   "id": "0eb8c10d",
   "metadata": {
    "execution": {
     "iopub.execute_input": "2024-06-16T11:01:01.917741Z",
     "iopub.status.busy": "2024-06-16T11:01:01.917003Z",
     "iopub.status.idle": "2024-06-16T11:01:16.413142Z",
     "shell.execute_reply": "2024-06-16T11:01:16.412241Z"
    },
    "papermill": {
     "duration": 14.508537,
     "end_time": "2024-06-16T11:01:16.415748",
     "exception": false,
     "start_time": "2024-06-16T11:01:01.907211",
     "status": "completed"
    },
    "tags": []
   },
   "outputs": [
    {
     "name": "stderr",
     "output_type": "stream",
     "text": [
      "2024-06-16 11:01:04.650442: E external/local_xla/xla/stream_executor/cuda/cuda_dnn.cc:9261] Unable to register cuDNN factory: Attempting to register factory for plugin cuDNN when one has already been registered\n",
      "2024-06-16 11:01:04.650556: E external/local_xla/xla/stream_executor/cuda/cuda_fft.cc:607] Unable to register cuFFT factory: Attempting to register factory for plugin cuFFT when one has already been registered\n",
      "2024-06-16 11:01:04.790617: E external/local_xla/xla/stream_executor/cuda/cuda_blas.cc:1515] Unable to register cuBLAS factory: Attempting to register factory for plugin cuBLAS when one has already been registered\n"
     ]
    }
   ],
   "source": [
    "import numpy as np\n",
    "import pandas as pd\n",
    "import matplotlib.pyplot as plt\n",
    "from tensorflow.keras.layers import Dense,Conv2D,MaxPool2D,Dropout,Flatten,BatchNormalization,Input\n",
    "from tensorflow.keras.preprocessing.image import ImageDataGenerator\n",
    "from tensorflow.keras.models import Model\n",
    "import warnings\n",
    "import seaborn as sb\n",
    "from tensorflow.keras.models import save_model,load_model\n",
    "warnings.filterwarnings('ignore')"
   ]
  },
  {
   "cell_type": "code",
   "execution_count": 2,
   "id": "04414fa8",
   "metadata": {
    "execution": {
     "iopub.execute_input": "2024-06-16T11:01:16.432553Z",
     "iopub.status.busy": "2024-06-16T11:01:16.432027Z",
     "iopub.status.idle": "2024-06-16T11:01:16.436475Z",
     "shell.execute_reply": "2024-06-16T11:01:16.435664Z"
    },
    "papermill": {
     "duration": 0.014954,
     "end_time": "2024-06-16T11:01:16.438379",
     "exception": false,
     "start_time": "2024-06-16T11:01:16.423425",
     "status": "completed"
    },
    "tags": []
   },
   "outputs": [],
   "source": [
    "train=ImageDataGenerator(rescale=1/255.0)\n",
    "validation=ImageDataGenerator(rescale=1/255.0)"
   ]
  },
  {
   "cell_type": "code",
   "execution_count": 3,
   "id": "ea46bd77",
   "metadata": {
    "execution": {
     "iopub.execute_input": "2024-06-16T11:01:16.454229Z",
     "iopub.status.busy": "2024-06-16T11:01:16.453959Z",
     "iopub.status.idle": "2024-06-16T11:02:24.981321Z",
     "shell.execute_reply": "2024-06-16T11:02:24.980226Z"
    },
    "papermill": {
     "duration": 68.538033,
     "end_time": "2024-06-16T11:02:24.983769",
     "exception": false,
     "start_time": "2024-06-16T11:01:16.445736",
     "status": "completed"
    },
    "tags": []
   },
   "outputs": [
    {
     "name": "stdout",
     "output_type": "stream",
     "text": [
      "Found 47009 images belonging to 2 classes.\n",
      "Found 11649 images belonging to 2 classes.\n"
     ]
    }
   ],
   "source": [
    "train_dataset=train.flow_from_directory('/kaggle/input/gender-classification-dataset/Training',target_size=(70,80),batch_size=3,class_mode='binary')\n",
    "validation_dataset=train.flow_from_directory('/kaggle/input/gender-classification-dataset/Validation',target_size=(70,80),batch_size=3,class_mode='binary')"
   ]
  },
  {
   "cell_type": "code",
   "execution_count": 4,
   "id": "b027952f",
   "metadata": {
    "execution": {
     "iopub.execute_input": "2024-06-16T11:02:25.001032Z",
     "iopub.status.busy": "2024-06-16T11:02:25.000690Z",
     "iopub.status.idle": "2024-06-16T11:02:25.007727Z",
     "shell.execute_reply": "2024-06-16T11:02:25.006813Z"
    },
    "papermill": {
     "duration": 0.018056,
     "end_time": "2024-06-16T11:02:25.009774",
     "exception": false,
     "start_time": "2024-06-16T11:02:24.991718",
     "status": "completed"
    },
    "tags": []
   },
   "outputs": [
    {
     "data": {
      "text/plain": [
       "{'female': 0, 'male': 1}"
      ]
     },
     "execution_count": 4,
     "metadata": {},
     "output_type": "execute_result"
    }
   ],
   "source": [
    "train_dataset.class_indices"
   ]
  },
  {
   "cell_type": "code",
   "execution_count": 5,
   "id": "34d16918",
   "metadata": {
    "execution": {
     "iopub.execute_input": "2024-06-16T11:02:25.028878Z",
     "iopub.status.busy": "2024-06-16T11:02:25.028497Z",
     "iopub.status.idle": "2024-06-16T11:02:25.034980Z",
     "shell.execute_reply": "2024-06-16T11:02:25.034069Z"
    },
    "papermill": {
     "duration": 0.019059,
     "end_time": "2024-06-16T11:02:25.037312",
     "exception": false,
     "start_time": "2024-06-16T11:02:25.018253",
     "status": "completed"
    },
    "tags": []
   },
   "outputs": [
    {
     "data": {
      "text/plain": [
       "(70, 80, 3)"
      ]
     },
     "execution_count": 5,
     "metadata": {},
     "output_type": "execute_result"
    }
   ],
   "source": [
    "train_dataset.image_shape"
   ]
  },
  {
   "cell_type": "code",
   "execution_count": 6,
   "id": "190f0dd0",
   "metadata": {
    "execution": {
     "iopub.execute_input": "2024-06-16T11:02:25.056382Z",
     "iopub.status.busy": "2024-06-16T11:02:25.056022Z",
     "iopub.status.idle": "2024-06-16T11:02:25.062848Z",
     "shell.execute_reply": "2024-06-16T11:02:25.061883Z"
    },
    "papermill": {
     "duration": 0.018923,
     "end_time": "2024-06-16T11:02:25.065019",
     "exception": false,
     "start_time": "2024-06-16T11:02:25.046096",
     "status": "completed"
    },
    "tags": []
   },
   "outputs": [
    {
     "data": {
      "text/plain": [
       "array([0, 0, 0, ..., 1, 1, 1], dtype=int32)"
      ]
     },
     "execution_count": 6,
     "metadata": {},
     "output_type": "execute_result"
    }
   ],
   "source": [
    "train_dataset.classes"
   ]
  },
  {
   "cell_type": "code",
   "execution_count": 7,
   "id": "98f427a4",
   "metadata": {
    "execution": {
     "iopub.execute_input": "2024-06-16T11:02:25.085057Z",
     "iopub.status.busy": "2024-06-16T11:02:25.084745Z",
     "iopub.status.idle": "2024-06-16T11:02:25.945565Z",
     "shell.execute_reply": "2024-06-16T11:02:25.944705Z"
    },
    "papermill": {
     "duration": 0.873097,
     "end_time": "2024-06-16T11:02:25.947994",
     "exception": false,
     "start_time": "2024-06-16T11:02:25.074897",
     "status": "completed"
    },
    "tags": []
   },
   "outputs": [],
   "source": [
    "i=Input(shape=train_dataset.image_shape)\n",
    "x=Conv2D(32,(3,3),activation='relu',padding='same',strides=1)(i)\n",
    "x=BatchNormalization()(x)\n",
    "x=Conv2D(32,(3,3),activation='relu',padding='same',strides=1)(x)\n",
    "x=BatchNormalization()(x)\n",
    "x=MaxPool2D(pool_size=(2,2))(x)\n",
    "x=Conv2D(64,(3,3),activation='relu',padding='same',strides=1)(x)\n",
    "x=BatchNormalization()(x)\n",
    "x=Conv2D(64,(3,3),activation='relu',padding='same',strides=1)(x)\n",
    "x=BatchNormalization()(x)\n",
    "x=MaxPool2D(pool_size=(2,2))(x)\n",
    "x=Conv2D(128,(3,3),activation='relu',padding='same',strides=2)(x)\n",
    "x=BatchNormalization()(x)\n",
    "x=Conv2D(128,(3,3),activation='relu',padding='same',strides=2)(x)\n",
    "x=BatchNormalization()(x)\n",
    "x=MaxPool2D(pool_size=(2,2))(x)\n",
    "x=Flatten()(x)"
   ]
  },
  {
   "cell_type": "code",
   "execution_count": 8,
   "id": "c1f3a089",
   "metadata": {
    "execution": {
     "iopub.execute_input": "2024-06-16T11:02:25.966306Z",
     "iopub.status.busy": "2024-06-16T11:02:25.965962Z",
     "iopub.status.idle": "2024-06-16T11:02:26.000268Z",
     "shell.execute_reply": "2024-06-16T11:02:25.999332Z"
    },
    "papermill": {
     "duration": 0.046239,
     "end_time": "2024-06-16T11:02:26.002778",
     "exception": false,
     "start_time": "2024-06-16T11:02:25.956539",
     "status": "completed"
    },
    "tags": []
   },
   "outputs": [],
   "source": [
    "k=1\n",
    "x=Dropout(0.2)(x)\n",
    "x=Dense(1024,activation='relu')(x)\n",
    "x=Dense(k,activation='sigmoid')(x)\n",
    "model=Model(i,x)"
   ]
  },
  {
   "cell_type": "code",
   "execution_count": 9,
   "id": "75855f81",
   "metadata": {
    "execution": {
     "iopub.execute_input": "2024-06-16T11:02:26.021463Z",
     "iopub.status.busy": "2024-06-16T11:02:26.021095Z",
     "iopub.status.idle": "2024-06-16T11:02:26.036246Z",
     "shell.execute_reply": "2024-06-16T11:02:26.035300Z"
    },
    "papermill": {
     "duration": 0.026569,
     "end_time": "2024-06-16T11:02:26.038341",
     "exception": false,
     "start_time": "2024-06-16T11:02:26.011772",
     "status": "completed"
    },
    "tags": []
   },
   "outputs": [],
   "source": [
    "model.compile(loss='binary_crossentropy',optimizer='adam',metrics=['accuracy'])"
   ]
  },
  {
   "cell_type": "code",
   "execution_count": 10,
   "id": "fef391f1",
   "metadata": {
    "execution": {
     "iopub.execute_input": "2024-06-16T11:02:26.056380Z",
     "iopub.status.busy": "2024-06-16T11:02:26.056033Z",
     "iopub.status.idle": "2024-06-16T11:02:26.061956Z",
     "shell.execute_reply": "2024-06-16T11:02:26.061016Z"
    },
    "papermill": {
     "duration": 0.017226,
     "end_time": "2024-06-16T11:02:26.063898",
     "exception": false,
     "start_time": "2024-06-16T11:02:26.046672",
     "status": "completed"
    },
    "tags": []
   },
   "outputs": [
    {
     "data": {
      "text/plain": [
       "4700.9"
      ]
     },
     "execution_count": 10,
     "metadata": {},
     "output_type": "execute_result"
    }
   ],
   "source": [
    "train_dataset.n/10"
   ]
  },
  {
   "cell_type": "code",
   "execution_count": 11,
   "id": "de5f507d",
   "metadata": {
    "_kg_hide-output": true,
    "execution": {
     "iopub.execute_input": "2024-06-16T11:02:26.081937Z",
     "iopub.status.busy": "2024-06-16T11:02:26.081619Z",
     "iopub.status.idle": "2024-06-16T11:14:34.962240Z",
     "shell.execute_reply": "2024-06-16T11:14:34.961190Z"
    },
    "papermill": {
     "duration": 728.892063,
     "end_time": "2024-06-16T11:14:34.964450",
     "exception": false,
     "start_time": "2024-06-16T11:02:26.072387",
     "status": "completed"
    },
    "tags": []
   },
   "outputs": [
    {
     "name": "stdout",
     "output_type": "stream",
     "text": [
      "Epoch 1/12\n"
     ]
    },
    {
     "name": "stderr",
     "output_type": "stream",
     "text": [
      "2024-06-16 11:02:33.262974: E external/local_xla/xla/service/gpu/buffer_comparator.cc:1137] Difference at 0: 2.15932, expected 1.35287\n",
      "2024-06-16 11:02:33.263032: E external/local_xla/xla/service/gpu/buffer_comparator.cc:1137] Difference at 1: 4.81888, expected 4.01243\n",
      "2024-06-16 11:02:33.263045: E external/local_xla/xla/service/gpu/buffer_comparator.cc:1137] Difference at 2: 4.82457, expected 4.01811\n",
      "2024-06-16 11:02:33.263054: E external/local_xla/xla/service/gpu/buffer_comparator.cc:1137] Difference at 3: 5.03053, expected 4.22408\n",
      "2024-06-16 11:02:33.263068: E external/local_xla/xla/service/gpu/buffer_comparator.cc:1137] Difference at 4: 5.75626, expected 4.94981\n",
      "2024-06-16 11:02:33.263086: E external/local_xla/xla/service/gpu/buffer_comparator.cc:1137] Difference at 5: 6.16037, expected 5.35391\n",
      "2024-06-16 11:02:33.263099: E external/local_xla/xla/service/gpu/buffer_comparator.cc:1137] Difference at 6: 4.0972, expected 3.29074\n",
      "2024-06-16 11:02:33.263109: E external/local_xla/xla/service/gpu/buffer_comparator.cc:1137] Difference at 7: 4.86679, expected 4.06034\n",
      "2024-06-16 11:02:33.263119: E external/local_xla/xla/service/gpu/buffer_comparator.cc:1137] Difference at 8: 5.22906, expected 4.42261\n",
      "2024-06-16 11:02:33.263129: E external/local_xla/xla/service/gpu/buffer_comparator.cc:1137] Difference at 9: 4.45383, expected 3.64737\n",
      "2024-06-16 11:02:33.263151: E external/local_xla/xla/service/gpu/conv_algorithm_picker.cc:705] Results mismatch between different convolution algorithms. This is likely a bug/unexpected loss of precision in cudnn.\n",
      "(f32[3,32,70,80]{3,2,1,0}, u8[0]{0}) custom-call(f32[3,3,70,80]{3,2,1,0}, f32[32,3,3,3]{3,2,1,0}, f32[32]{0}), window={size=3x3 pad=1_1x1_1}, dim_labels=bf01_oi01->bf01, custom_call_target=\"__cudnn$convBiasActivationForward\", backend_config={\"conv_result_scale\":1,\"activation_mode\":\"kRelu\",\"side_input_scale\":0,\"leakyrelu_alpha\":0} for eng20{k2=2,k4=1,k5=1,k6=0,k7=0} vs eng15{k5=1,k6=0,k7=1,k10=1}\n",
      "2024-06-16 11:02:33.263162: E external/local_xla/xla/service/gpu/conv_algorithm_picker.cc:270] Device: Tesla P100-PCIE-16GB\n",
      "2024-06-16 11:02:33.263171: E external/local_xla/xla/service/gpu/conv_algorithm_picker.cc:271] Platform: Compute Capability 6.0\n",
      "2024-06-16 11:02:33.263180: E external/local_xla/xla/service/gpu/conv_algorithm_picker.cc:272] Driver: 12020 (535.129.3)\n",
      "2024-06-16 11:02:33.263189: E external/local_xla/xla/service/gpu/conv_algorithm_picker.cc:273] Runtime: <undefined>\n",
      "2024-06-16 11:02:33.263206: E external/local_xla/xla/service/gpu/conv_algorithm_picker.cc:280] cudnn version: 8.9.0\n",
      "2024-06-16 11:02:33.404992: E external/local_xla/xla/service/gpu/buffer_comparator.cc:1137] Difference at 0: 2.15932, expected 1.35287\n",
      "2024-06-16 11:02:33.405058: E external/local_xla/xla/service/gpu/buffer_comparator.cc:1137] Difference at 1: 4.81888, expected 4.01243\n",
      "2024-06-16 11:02:33.405067: E external/local_xla/xla/service/gpu/buffer_comparator.cc:1137] Difference at 2: 4.82457, expected 4.01811\n",
      "2024-06-16 11:02:33.405075: E external/local_xla/xla/service/gpu/buffer_comparator.cc:1137] Difference at 3: 5.03053, expected 4.22408\n",
      "2024-06-16 11:02:33.405083: E external/local_xla/xla/service/gpu/buffer_comparator.cc:1137] Difference at 4: 5.75626, expected 4.94981\n",
      "2024-06-16 11:02:33.405090: E external/local_xla/xla/service/gpu/buffer_comparator.cc:1137] Difference at 5: 6.16037, expected 5.35391\n",
      "2024-06-16 11:02:33.405098: E external/local_xla/xla/service/gpu/buffer_comparator.cc:1137] Difference at 6: 4.0972, expected 3.29074\n",
      "2024-06-16 11:02:33.405105: E external/local_xla/xla/service/gpu/buffer_comparator.cc:1137] Difference at 7: 4.86679, expected 4.06034\n",
      "2024-06-16 11:02:33.405112: E external/local_xla/xla/service/gpu/buffer_comparator.cc:1137] Difference at 8: 5.22906, expected 4.42261\n",
      "2024-06-16 11:02:33.405120: E external/local_xla/xla/service/gpu/buffer_comparator.cc:1137] Difference at 9: 4.45383, expected 3.64737\n",
      "2024-06-16 11:02:33.405135: E external/local_xla/xla/service/gpu/conv_algorithm_picker.cc:705] Results mismatch between different convolution algorithms. This is likely a bug/unexpected loss of precision in cudnn.\n",
      "(f32[3,32,70,80]{3,2,1,0}, u8[0]{0}) custom-call(f32[3,3,70,80]{3,2,1,0}, f32[32,3,3,3]{3,2,1,0}, f32[32]{0}), window={size=3x3 pad=1_1x1_1}, dim_labels=bf01_oi01->bf01, custom_call_target=\"__cudnn$convBiasActivationForward\", backend_config={\"conv_result_scale\":1,\"activation_mode\":\"kRelu\",\"side_input_scale\":0,\"leakyrelu_alpha\":0} for eng20{k2=2,k4=1,k5=1,k6=0,k7=0} vs eng15{k5=1,k6=0,k7=1,k10=1}\n",
      "2024-06-16 11:02:33.405145: E external/local_xla/xla/service/gpu/conv_algorithm_picker.cc:270] Device: Tesla P100-PCIE-16GB\n",
      "2024-06-16 11:02:33.405155: E external/local_xla/xla/service/gpu/conv_algorithm_picker.cc:271] Platform: Compute Capability 6.0\n",
      "2024-06-16 11:02:33.405166: E external/local_xla/xla/service/gpu/conv_algorithm_picker.cc:272] Driver: 12020 (535.129.3)\n",
      "2024-06-16 11:02:33.405177: E external/local_xla/xla/service/gpu/conv_algorithm_picker.cc:273] Runtime: <undefined>\n",
      "2024-06-16 11:02:33.405195: E external/local_xla/xla/service/gpu/conv_algorithm_picker.cc:280] cudnn version: 8.9.0\n"
     ]
    },
    {
     "name": "stdout",
     "output_type": "stream",
     "text": [
      "\u001b[1m   7/4700\u001b[0m \u001b[37m━━━━━━━━━━━━━━━━━━━━\u001b[0m \u001b[1m1:27\u001b[0m 19ms/step - accuracy: 0.4680 - loss: 2.8293"
     ]
    },
    {
     "name": "stderr",
     "output_type": "stream",
     "text": [
      "WARNING: All log messages before absl::InitializeLog() is called are written to STDERR\n",
      "I0000 00:00:1718535758.351980      80 device_compiler.h:186] Compiled cluster using XLA!  This line is logged at most once for the lifetime of the process.\n",
      "W0000 00:00:1718535758.379586      80 graph_launch.cc:671] Fallback to op-by-op mode because memset node breaks graph update\n"
     ]
    },
    {
     "name": "stdout",
     "output_type": "stream",
     "text": [
      "\u001b[1m4699/4700\u001b[0m \u001b[32m━━━━━━━━━━━━━━━━━━━\u001b[0m\u001b[37m━\u001b[0m \u001b[1m0s\u001b[0m 20ms/step - accuracy: 0.8155 - loss: 0.4854"
     ]
    },
    {
     "name": "stderr",
     "output_type": "stream",
     "text": [
      "W0000 00:00:1718535854.385282      83 graph_launch.cc:671] Fallback to op-by-op mode because memset node breaks graph update\n"
     ]
    },
    {
     "name": "stdout",
     "output_type": "stream",
     "text": [
      "\u001b[1m4700/4700\u001b[0m \u001b[32m━━━━━━━━━━━━━━━━━━━━\u001b[0m\u001b[37m\u001b[0m \u001b[1m186s\u001b[0m 37ms/step - accuracy: 0.8155 - loss: 0.4853 - val_accuracy: 0.9197 - val_loss: 0.2124\n",
      "Epoch 2/12\n",
      "\u001b[1m1615/4700\u001b[0m \u001b[32m━━━━━━\u001b[0m\u001b[37m━━━━━━━━━━━━━━\u001b[0m \u001b[1m49s\u001b[0m 16ms/step - accuracy: 0.9145 - loss: 0.2224"
     ]
    },
    {
     "name": "stderr",
     "output_type": "stream",
     "text": [
      "2024-06-16 11:05:59.410135: E external/local_xla/xla/service/gpu/buffer_comparator.cc:1137] Difference at 0: 2.65469, expected 1.73366\n",
      "2024-06-16 11:05:59.410196: E external/local_xla/xla/service/gpu/buffer_comparator.cc:1137] Difference at 1: 2.98142, expected 2.06039\n",
      "2024-06-16 11:05:59.410206: E external/local_xla/xla/service/gpu/buffer_comparator.cc:1137] Difference at 2: 3.42592, expected 2.50489\n",
      "2024-06-16 11:05:59.410214: E external/local_xla/xla/service/gpu/buffer_comparator.cc:1137] Difference at 3: 4.06073, expected 3.1397\n",
      "2024-06-16 11:05:59.410221: E external/local_xla/xla/service/gpu/buffer_comparator.cc:1137] Difference at 4: 3.83383, expected 2.9128\n",
      "2024-06-16 11:05:59.410229: E external/local_xla/xla/service/gpu/buffer_comparator.cc:1137] Difference at 5: 4.10672, expected 3.18569\n",
      "2024-06-16 11:05:59.410236: E external/local_xla/xla/service/gpu/buffer_comparator.cc:1137] Difference at 6: 3.93345, expected 3.01242\n",
      "2024-06-16 11:05:59.410261: E external/local_xla/xla/service/gpu/buffer_comparator.cc:1137] Difference at 7: 3.55218, expected 2.63115\n",
      "2024-06-16 11:05:59.410269: E external/local_xla/xla/service/gpu/buffer_comparator.cc:1137] Difference at 8: 3.63392, expected 2.71289\n",
      "2024-06-16 11:05:59.410276: E external/local_xla/xla/service/gpu/buffer_comparator.cc:1137] Difference at 9: 4.11196, expected 3.19093\n",
      "2024-06-16 11:05:59.410303: E external/local_xla/xla/service/gpu/conv_algorithm_picker.cc:705] Results mismatch between different convolution algorithms. This is likely a bug/unexpected loss of precision in cudnn.\n",
      "(f32[2,32,70,80]{3,2,1,0}, u8[0]{0}) custom-call(f32[2,3,70,80]{3,2,1,0}, f32[32,3,3,3]{3,2,1,0}, f32[32]{0}), window={size=3x3 pad=1_1x1_1}, dim_labels=bf01_oi01->bf01, custom_call_target=\"__cudnn$convBiasActivationForward\", backend_config={\"conv_result_scale\":1,\"activation_mode\":\"kRelu\",\"side_input_scale\":0,\"leakyrelu_alpha\":0} for eng20{k2=2,k4=1,k5=1,k6=0,k7=0} vs eng15{k5=1,k6=0,k7=1,k10=1}\n",
      "2024-06-16 11:05:59.410326: E external/local_xla/xla/service/gpu/conv_algorithm_picker.cc:270] Device: Tesla P100-PCIE-16GB\n",
      "2024-06-16 11:05:59.410333: E external/local_xla/xla/service/gpu/conv_algorithm_picker.cc:271] Platform: Compute Capability 6.0\n",
      "2024-06-16 11:05:59.410340: E external/local_xla/xla/service/gpu/conv_algorithm_picker.cc:272] Driver: 12020 (535.129.3)\n",
      "2024-06-16 11:05:59.410347: E external/local_xla/xla/service/gpu/conv_algorithm_picker.cc:273] Runtime: <undefined>\n",
      "2024-06-16 11:05:59.410358: E external/local_xla/xla/service/gpu/conv_algorithm_picker.cc:280] cudnn version: 8.9.0\n",
      "2024-06-16 11:05:59.437890: E external/local_xla/xla/service/gpu/buffer_comparator.cc:1137] Difference at 0: 2.65469, expected 1.73366\n",
      "2024-06-16 11:05:59.437941: E external/local_xla/xla/service/gpu/buffer_comparator.cc:1137] Difference at 1: 2.98142, expected 2.06039\n",
      "2024-06-16 11:05:59.437950: E external/local_xla/xla/service/gpu/buffer_comparator.cc:1137] Difference at 2: 3.42592, expected 2.50489\n",
      "2024-06-16 11:05:59.437958: E external/local_xla/xla/service/gpu/buffer_comparator.cc:1137] Difference at 3: 4.06073, expected 3.1397\n",
      "2024-06-16 11:05:59.437965: E external/local_xla/xla/service/gpu/buffer_comparator.cc:1137] Difference at 4: 3.83383, expected 2.9128\n",
      "2024-06-16 11:05:59.437972: E external/local_xla/xla/service/gpu/buffer_comparator.cc:1137] Difference at 5: 4.10672, expected 3.18569\n",
      "2024-06-16 11:05:59.437980: E external/local_xla/xla/service/gpu/buffer_comparator.cc:1137] Difference at 6: 3.93345, expected 3.01242\n",
      "2024-06-16 11:05:59.437987: E external/local_xla/xla/service/gpu/buffer_comparator.cc:1137] Difference at 7: 3.55218, expected 2.63115\n",
      "2024-06-16 11:05:59.437995: E external/local_xla/xla/service/gpu/buffer_comparator.cc:1137] Difference at 8: 3.63392, expected 2.71289\n",
      "2024-06-16 11:05:59.438002: E external/local_xla/xla/service/gpu/buffer_comparator.cc:1137] Difference at 9: 4.11196, expected 3.19093\n",
      "2024-06-16 11:05:59.438017: E external/local_xla/xla/service/gpu/conv_algorithm_picker.cc:705] Results mismatch between different convolution algorithms. This is likely a bug/unexpected loss of precision in cudnn.\n",
      "(f32[2,32,70,80]{3,2,1,0}, u8[0]{0}) custom-call(f32[2,3,70,80]{3,2,1,0}, f32[32,3,3,3]{3,2,1,0}, f32[32]{0}), window={size=3x3 pad=1_1x1_1}, dim_labels=bf01_oi01->bf01, custom_call_target=\"__cudnn$convBiasActivationForward\", backend_config={\"conv_result_scale\":1,\"activation_mode\":\"kRelu\",\"side_input_scale\":0,\"leakyrelu_alpha\":0} for eng20{k2=2,k4=1,k5=1,k6=0,k7=0} vs eng15{k5=1,k6=0,k7=1,k10=1}\n",
      "2024-06-16 11:05:59.438026: E external/local_xla/xla/service/gpu/conv_algorithm_picker.cc:270] Device: Tesla P100-PCIE-16GB\n",
      "2024-06-16 11:05:59.438034: E external/local_xla/xla/service/gpu/conv_algorithm_picker.cc:271] Platform: Compute Capability 6.0\n",
      "2024-06-16 11:05:59.438041: E external/local_xla/xla/service/gpu/conv_algorithm_picker.cc:272] Driver: 12020 (535.129.3)\n",
      "2024-06-16 11:05:59.438048: E external/local_xla/xla/service/gpu/conv_algorithm_picker.cc:273] Runtime: <undefined>\n",
      "2024-06-16 11:05:59.438058: E external/local_xla/xla/service/gpu/conv_algorithm_picker.cc:280] cudnn version: 8.9.0\n"
     ]
    },
    {
     "name": "stdout",
     "output_type": "stream",
     "text": [
      "\u001b[1m4700/4700\u001b[0m \u001b[32m━━━━━━━━━━━━━━━━━━━━\u001b[0m\u001b[37m\u001b[0m \u001b[1m94s\u001b[0m 20ms/step - accuracy: 0.9173 - loss: 0.2186 - val_accuracy: 0.9167 - val_loss: 0.2119\n",
      "Epoch 3/12\n",
      "\u001b[1m4700/4700\u001b[0m \u001b[32m━━━━━━━━━━━━━━━━━━━━\u001b[0m\u001b[37m\u001b[0m \u001b[1m74s\u001b[0m 16ms/step - accuracy: 0.9253 - loss: 0.1981 - val_accuracy: 0.9431 - val_loss: 0.1465\n",
      "Epoch 4/12\n",
      "\u001b[1m4700/4700\u001b[0m \u001b[32m━━━━━━━━━━━━━━━━━━━━\u001b[0m\u001b[37m\u001b[0m \u001b[1m31s\u001b[0m 7ms/step - accuracy: 0.9327 - loss: 0.1861 - val_accuracy: 0.9190 - val_loss: 0.2404\n",
      "Epoch 5/12\n",
      "\u001b[1m4700/4700\u001b[0m \u001b[32m━━━━━━━━━━━━━━━━━━━━\u001b[0m\u001b[37m\u001b[0m \u001b[1m58s\u001b[0m 12ms/step - accuracy: 0.9390 - loss: 0.1685 - val_accuracy: 0.9402 - val_loss: 0.1521\n",
      "Epoch 6/12\n",
      "\u001b[1m4700/4700\u001b[0m \u001b[32m━━━━━━━━━━━━━━━━━━━━\u001b[0m\u001b[37m\u001b[0m \u001b[1m53s\u001b[0m 11ms/step - accuracy: 0.9451 - loss: 0.1501 - val_accuracy: 0.9398 - val_loss: 0.1552\n",
      "Epoch 7/12\n",
      "\u001b[1m4700/4700\u001b[0m \u001b[32m━━━━━━━━━━━━━━━━━━━━\u001b[0m\u001b[37m\u001b[0m \u001b[1m47s\u001b[0m 10ms/step - accuracy: 0.9473 - loss: 0.1503 - val_accuracy: 0.9342 - val_loss: 0.1734\n",
      "Epoch 8/12\n",
      "\u001b[1m4700/4700\u001b[0m \u001b[32m━━━━━━━━━━━━━━━━━━━━\u001b[0m\u001b[37m\u001b[0m \u001b[1m26s\u001b[0m 5ms/step - accuracy: 0.9499 - loss: 0.1328 - val_accuracy: 0.9538 - val_loss: 0.1282\n",
      "Epoch 9/12\n",
      "\u001b[1m4700/4700\u001b[0m \u001b[32m━━━━━━━━━━━━━━━━━━━━\u001b[0m\u001b[37m\u001b[0m \u001b[1m44s\u001b[0m 9ms/step - accuracy: 0.9476 - loss: 0.1432 - val_accuracy: 0.9504 - val_loss: 0.1389\n",
      "Epoch 10/12\n",
      "\u001b[1m4700/4700\u001b[0m \u001b[32m━━━━━━━━━━━━━━━━━━━━\u001b[0m\u001b[37m\u001b[0m \u001b[1m45s\u001b[0m 10ms/step - accuracy: 0.9516 - loss: 0.1264 - val_accuracy: 0.9435 - val_loss: 0.1541\n",
      "Epoch 11/12\n",
      "\u001b[1m4700/4700\u001b[0m \u001b[32m━━━━━━━━━━━━━━━━━━━━\u001b[0m\u001b[37m\u001b[0m \u001b[1m45s\u001b[0m 10ms/step - accuracy: 0.9515 - loss: 0.1270 - val_accuracy: 0.9128 - val_loss: 0.2272\n",
      "Epoch 12/12\n",
      "\u001b[1m4700/4700\u001b[0m \u001b[32m━━━━━━━━━━━━━━━━━━━━\u001b[0m\u001b[37m\u001b[0m \u001b[1m26s\u001b[0m 5ms/step - accuracy: 0.9553 - loss: 0.1201 - val_accuracy: 0.9446 - val_loss: 0.1455\n"
     ]
    },
    {
     "data": {
      "text/plain": [
       "<keras.src.callbacks.history.History at 0x7cb40e62b0a0>"
      ]
     },
     "execution_count": 11,
     "metadata": {},
     "output_type": "execute_result"
    }
   ],
   "source": [
    "model.fit(train_dataset,steps_per_epoch=4700,validation_data=validation_dataset,epochs=12)"
   ]
  },
  {
   "cell_type": "code",
   "execution_count": 12,
   "id": "fd6c9f8d",
   "metadata": {
    "execution": {
     "iopub.execute_input": "2024-06-16T11:14:36.480132Z",
     "iopub.status.busy": "2024-06-16T11:14:36.479737Z",
     "iopub.status.idle": "2024-06-16T11:14:36.601190Z",
     "shell.execute_reply": "2024-06-16T11:14:36.600332Z"
    },
    "papermill": {
     "duration": 0.851156,
     "end_time": "2024-06-16T11:14:36.603862",
     "exception": false,
     "start_time": "2024-06-16T11:14:35.752706",
     "status": "completed"
    },
    "tags": []
   },
   "outputs": [],
   "source": [
    "save_model(model,'/kaggle/working/model.h5')"
   ]
  },
  {
   "cell_type": "code",
   "execution_count": 13,
   "id": "40d7ee2c",
   "metadata": {
    "execution": {
     "iopub.execute_input": "2024-06-16T11:14:38.057347Z",
     "iopub.status.busy": "2024-06-16T11:14:38.056955Z",
     "iopub.status.idle": "2024-06-16T11:14:38.061186Z",
     "shell.execute_reply": "2024-06-16T11:14:38.060326Z"
    },
    "papermill": {
     "duration": 0.763233,
     "end_time": "2024-06-16T11:14:38.063147",
     "exception": false,
     "start_time": "2024-06-16T11:14:37.299914",
     "status": "completed"
    },
    "tags": []
   },
   "outputs": [],
   "source": [
    "model_dict=model.history.history"
   ]
  },
  {
   "cell_type": "code",
   "execution_count": 14,
   "id": "d789750c",
   "metadata": {
    "execution": {
     "iopub.execute_input": "2024-06-16T11:14:39.448710Z",
     "iopub.status.busy": "2024-06-16T11:14:39.448254Z",
     "iopub.status.idle": "2024-06-16T11:14:39.454193Z",
     "shell.execute_reply": "2024-06-16T11:14:39.453173Z"
    },
    "papermill": {
     "duration": 0.700774,
     "end_time": "2024-06-16T11:14:39.456216",
     "exception": false,
     "start_time": "2024-06-16T11:14:38.755442",
     "status": "completed"
    },
    "tags": []
   },
   "outputs": [],
   "source": [
    "def plot_loss(model_dict):\n",
    "    loss=model_dict['loss']\n",
    "    val_loss=model_dict['val_loss']\n",
    "    sb.lineplot(loss,label='loss',color='red')\n",
    "    sb.lineplot(val_loss,label='val_loss',color='g')\n",
    "    plt.legend()"
   ]
  },
  {
   "cell_type": "code",
   "execution_count": 15,
   "id": "671d8374",
   "metadata": {
    "execution": {
     "iopub.execute_input": "2024-06-16T11:14:40.925333Z",
     "iopub.status.busy": "2024-06-16T11:14:40.924898Z",
     "iopub.status.idle": "2024-06-16T11:14:40.931005Z",
     "shell.execute_reply": "2024-06-16T11:14:40.930015Z"
    },
    "papermill": {
     "duration": 0.715459,
     "end_time": "2024-06-16T11:14:40.933728",
     "exception": false,
     "start_time": "2024-06-16T11:14:40.218269",
     "status": "completed"
    },
    "tags": []
   },
   "outputs": [],
   "source": [
    "def plot_acc(model_dict):\n",
    "    accuracy=model_dict['accuracy']\n",
    "    val_accuracy=model_dict['val_accuracy']\n",
    "    sb.lineplot(accuracy,label='accuracy',color='red')\n",
    "    sb.lineplot(val_accuracy,label='val_accuracy',color='g')\n",
    "    plt.legend()"
   ]
  },
  {
   "cell_type": "code",
   "execution_count": 16,
   "id": "ac033c8c",
   "metadata": {
    "execution": {
     "iopub.execute_input": "2024-06-16T11:14:42.416821Z",
     "iopub.status.busy": "2024-06-16T11:14:42.415886Z",
     "iopub.status.idle": "2024-06-16T11:14:42.786086Z",
     "shell.execute_reply": "2024-06-16T11:14:42.785084Z"
    },
    "papermill": {
     "duration": 1.136301,
     "end_time": "2024-06-16T11:14:42.788183",
     "exception": false,
     "start_time": "2024-06-16T11:14:41.651882",
     "status": "completed"
    },
    "tags": []
   },
   "outputs": [
    {
     "data": {
      "image/png": "[encoded data removed]",
      "text/plain": [
       "<Figure size 640x480 with 1 Axes>"
      ]
     },
     "metadata": {},
     "output_type": "display_data"
    }
   ],
   "source": [
    "plot_acc(model_dict)"
   ]
  },
  {
   "cell_type": "code",
   "execution_count": 17,
   "id": "45436a02",
   "metadata": {
    "execution": {
     "iopub.execute_input": "2024-06-16T11:14:44.205887Z",
     "iopub.status.busy": "2024-06-16T11:14:44.205495Z",
     "iopub.status.idle": "2024-06-16T11:14:44.532271Z",
     "shell.execute_reply": "2024-06-16T11:14:44.531266Z"
    },
    "papermill": {
     "duration": 1.03532,
     "end_time": "2024-06-16T11:14:44.534688",
     "exception": false,
     "start_time": "2024-06-16T11:14:43.499368",
     "status": "completed"
    },
    "tags": []
   },
   "outputs": [
    {
     "data": {
      "image/png": "[encoded data removed]",
      "text/plain": [
       "<Figure size 640x480 with 1 Axes>"
      ]
     },
     "metadata": {},
     "output_type": "display_data"
    }
   ],
   "source": [
    "plot_loss(model_dict)"
   ]
  },
  {
   "cell_type": "markdown",
   "id": "25b62358",
   "metadata": {
    "papermill": {
     "duration": 0.77052,
     "end_time": "2024-06-16T11:14:46.014598",
     "exception": false,
     "start_time": "2024-06-16T11:14:45.244078",
     "status": "completed"
    },
    "tags": []
   },
   "source": [
    "**Implementation of Prediction**"
   ]
  },
  {
   "cell_type": "code",
   "execution_count": 18,
   "id": "42732640",
   "metadata": {
    "execution": {
     "iopub.execute_input": "2024-06-16T11:14:47.441844Z",
     "iopub.status.busy": "2024-06-16T11:14:47.441454Z",
     "iopub.status.idle": "2024-06-16T11:14:47.447019Z",
     "shell.execute_reply": "2024-06-16T11:14:47.445983Z"
    },
    "papermill": {
     "duration": 0.726477,
     "end_time": "2024-06-16T11:14:47.449220",
     "exception": false,
     "start_time": "2024-06-16T11:14:46.722743",
     "status": "completed"
    },
    "tags": []
   },
   "outputs": [],
   "source": [
    "from tensorflow.keras.preprocessing.image import load_img,img_to_array\n",
    "from tensorflow.keras.models import load_model\n",
    "import numpy as np"
   ]
  },
  {
   "cell_type": "code",
   "execution_count": 19,
   "id": "ac4441d7",
   "metadata": {
    "execution": {
     "iopub.execute_input": "2024-06-16T11:14:48.927123Z",
     "iopub.status.busy": "2024-06-16T11:14:48.926157Z",
     "iopub.status.idle": "2024-06-16T11:14:49.092770Z",
     "shell.execute_reply": "2024-06-16T11:14:49.091872Z"
    },
    "papermill": {
     "duration": 0.872816,
     "end_time": "2024-06-16T11:14:49.095072",
     "exception": false,
     "start_time": "2024-06-16T11:14:48.222256",
     "status": "completed"
    },
    "tags": []
   },
   "outputs": [],
   "source": [
    "model=load_model('/kaggle/working/model.h5')"
   ]
  },
  {
   "cell_type": "code",
   "execution_count": 20,
   "id": "b087fc08",
   "metadata": {
    "execution": {
     "iopub.execute_input": "2024-06-16T11:14:50.574520Z",
     "iopub.status.busy": "2024-06-16T11:14:50.574137Z",
     "iopub.status.idle": "2024-06-16T11:14:50.578700Z",
     "shell.execute_reply": "2024-06-16T11:14:50.577763Z"
    },
    "papermill": {
     "duration": 0.772862,
     "end_time": "2024-06-16T11:14:50.580774",
     "exception": false,
     "start_time": "2024-06-16T11:14:49.807912",
     "status": "completed"
    },
    "tags": []
   },
   "outputs": [],
   "source": [
    "img_path='/kaggle/input/gender-classification-dataset/Validation/male/063460.jpg.jpg'"
   ]
  },
  {
   "cell_type": "code",
   "execution_count": 21,
   "id": "9fab1ac2",
   "metadata": {
    "execution": {
     "iopub.execute_input": "2024-06-16T11:14:52.013233Z",
     "iopub.status.busy": "2024-06-16T11:14:52.012872Z",
     "iopub.status.idle": "2024-06-16T11:14:52.018701Z",
     "shell.execute_reply": "2024-06-16T11:14:52.017838Z"
    },
    "papermill": {
     "duration": 0.711645,
     "end_time": "2024-06-16T11:14:52.020586",
     "exception": false,
     "start_time": "2024-06-16T11:14:51.308941",
     "status": "completed"
    },
    "tags": []
   },
   "outputs": [],
   "source": [
    "def male_or_female(img_path,model):\n",
    "    img=load_img(img_path,target_size=(70,80))\n",
    "    img_array=img_to_array(img)\n",
    "    img_array=img_array/255.0\n",
    "    new_array_with_batch_dimension=np.expand_dims(img_array,axis=0)\n",
    "    output=model.predict(new_array_with_batch_dimension)\n",
    "    output=np.round(output.flatten())[0]\n",
    "    val=\"Male\" if output==1 else 'Female'\n",
    "    return val"
   ]
  },
  {
   "cell_type": "code",
   "execution_count": 22,
   "id": "492c09aa",
   "metadata": {
    "execution": {
     "iopub.execute_input": "2024-06-16T11:14:53.469766Z",
     "iopub.status.busy": "2024-06-16T11:14:53.469386Z",
     "iopub.status.idle": "2024-06-16T11:14:54.502686Z",
     "shell.execute_reply": "2024-06-16T11:14:54.501578Z"
    },
    "papermill": {
     "duration": 1.792145,
     "end_time": "2024-06-16T11:14:54.504827",
     "exception": false,
     "start_time": "2024-06-16T11:14:52.712682",
     "status": "completed"
    },
    "tags": []
   },
   "outputs": [
    {
     "name": "stdout",
     "output_type": "stream",
     "text": [
      "\u001b[1m1/1\u001b[0m \u001b[32m━━━━━━━━━━━━━━━━━━━━\u001b[0m\u001b[37m\u001b[0m \u001b[1m1s\u001b[0m 970ms/step\n"
     ]
    },
    {
     "data": {
      "text/plain": [
       "'Male'"
      ]
     },
     "execution_count": 22,
     "metadata": {},
     "output_type": "execute_result"
    }
   ],
   "source": [
    "male_or_female(img_path,model)"
   ]
  },
  {
   "cell_type": "code",
   "execution_count": null,
   "id": "2d76283f",
   "metadata": {
    "execution": {
     "iopub.execute_input": "2024-06-16T09:16:39.310097Z",
     "iopub.status.busy": "2024-06-16T09:16:39.309419Z",
     "iopub.status.idle": "2024-06-16T09:16:39.314334Z",
     "shell.execute_reply": "2024-06-16T09:16:39.313312Z",
     "shell.execute_reply.started": "2024-06-16T09:16:39.310064Z"
    },
    "papermill": {
     "duration": 0.709941,
     "end_time": "2024-06-16T11:14:55.915903",
     "exception": false,
     "start_time": "2024-06-16T11:14:55.205962",
     "status": "completed"
    },
    "tags": []
   },
   "outputs": [],
   "source": []
  },
  {
   "cell_type": "code",
   "execution_count": null,
   "id": "9b58f38c",
   "metadata": {
    "execution": {
     "iopub.execute_input": "2024-06-16T09:17:46.895126Z",
     "iopub.status.busy": "2024-06-16T09:17:46.894745Z",
     "iopub.status.idle": "2024-06-16T09:17:46.899506Z",
     "shell.execute_reply": "2024-06-16T09:17:46.898541Z",
     "shell.execute_reply.started": "2024-06-16T09:17:46.895094Z"
    },
    "papermill": {
     "duration": 0.706398,
     "end_time": "2024-06-16T11:14:57.372395",
     "exception": false,
     "start_time": "2024-06-16T11:14:56.665997",
     "status": "completed"
    },
    "tags": []
   },
   "outputs": [],
   "source": []
  },
  {
   "cell_type": "code",
   "execution_count": null,
   "id": "50b7fca3",
   "metadata": {
    "papermill": {
     "duration": 0.695683,
     "end_time": "2024-06-16T11:14:58.762899",
     "exception": false,
     "start_time": "2024-06-16T11:14:58.067216",
     "status": "completed"
    },
    "tags": []
   },
   "outputs": [],
   "source": []
  }
 ],
 "metadata": {
  "kaggle": {
   "accelerator": "gpu",
   "dataSources": [
    {
     "datasetId": 446365,
     "sourceId": 844929,
     "sourceType": "datasetVersion"
    },
    {
     "isSourceIdPinned": true,
     "modelInstanceId": 54991,
     "sourceId": 65946,
     "sourceType": "modelInstanceVersion"
    }
   ],
   "dockerImageVersionId": 30733,
   "isGpuEnabled": true,
   "isInternetEnabled": true,
   "language": "python",
   "sourceType": "notebook"
  },
  "kernelspec": {
   "display_name": "Python 3",
   "language": "python",
   "name": "python3"
  },
  "language_info": {
   "codemirror_mode": {
    "name": "ipython",
    "version": 3
   },
   "file_extension": ".py",
   "mimetype": "text/x-python",
   "name": "python",
   "nbconvert_exporter": "python",
   "pygments_lexer": "ipython3",
   "version": "3.10.13"
  },
  "papermill": {
   "default_parameters": {},
   "duration": 843.064006,
   "end_time": "2024-06-16T11:15:01.990703",
   "environment_variables": {},
   "exception": null,
   "input_path": "__notebook__.ipynb",
   "output_path": "__notebook__.ipynb",
   "parameters": {},
   "start_time": "2024-06-16T11:00:58.926697",
   "version": "2.5.0"
  }
 },
 "nbformat": 4,
 "nbformat_minor": 5
}

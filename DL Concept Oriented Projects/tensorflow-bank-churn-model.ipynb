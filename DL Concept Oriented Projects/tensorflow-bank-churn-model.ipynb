{
 "cells": [
  {
   "cell_type": "code",
   "execution_count": 1,
   "id": "1f5540f4",
   "metadata": {
    "_kg_hide-output": true,
    "execution": {
     "iopub.execute_input": "2024-02-24T12:21:10.197404Z",
     "iopub.status.busy": "2024-02-24T12:21:10.196256Z",
     "iopub.status.idle": "2024-02-24T12:21:30.368406Z",
     "shell.execute_reply": "2024-02-24T12:21:30.366883Z"
    },
    "papermill": {
     "duration": 20.187579,
     "end_time": "2024-02-24T12:21:30.371723",
     "exception": false,
     "start_time": "2024-02-24T12:21:10.184144",
     "status": "completed"
    },
    "tags": []
   },
   "outputs": [
    {
     "name": "stderr",
     "output_type": "stream",
     "text": [
      "2024-02-24 12:21:14.755049: E external/local_xla/xla/stream_executor/cuda/cuda_dnn.cc:9261] Unable to register cuDNN factory: Attempting to register factory for plugin cuDNN when one has already been registered\n",
      "2024-02-24 12:21:14.755204: E external/local_xla/xla/stream_executor/cuda/cuda_fft.cc:607] Unable to register cuFFT factory: Attempting to register factory for plugin cuFFT when one has already been registered\n",
      "2024-02-24 12:21:14.978716: E external/local_xla/xla/stream_executor/cuda/cuda_blas.cc:1515] Unable to register cuBLAS factory: Attempting to register factory for plugin cuBLAS when one has already been registered\n"
     ]
    }
   ],
   "source": [
    "import numpy as np\n",
    "import pandas as pd\n",
    "import tensorflow as tf"
   ]
  },
  {
   "cell_type": "code",
   "execution_count": 2,
   "id": "cc817b46",
   "metadata": {
    "execution": {
     "iopub.execute_input": "2024-02-24T12:21:30.390798Z",
     "iopub.status.busy": "2024-02-24T12:21:30.389407Z",
     "iopub.status.idle": "2024-02-24T12:21:31.672620Z",
     "shell.execute_reply": "2024-02-24T12:21:31.671359Z"
    },
    "papermill": {
     "duration": 1.295389,
     "end_time": "2024-02-24T12:21:31.675959",
     "exception": false,
     "start_time": "2024-02-24T12:21:30.380570",
     "status": "completed"
    },
    "tags": []
   },
   "outputs": [],
   "source": [
    "data=pd.read_csv('/kaggle/input/binary-classification-of-bank-churn-synthetic-data/Dataset.csv')"
   ]
  },
  {
   "cell_type": "code",
   "execution_count": 3,
   "id": "3e0941ca",
   "metadata": {
    "execution": {
     "iopub.execute_input": "2024-02-24T12:21:31.691736Z",
     "iopub.status.busy": "2024-02-24T12:21:31.691299Z",
     "iopub.status.idle": "2024-02-24T12:21:31.716802Z",
     "shell.execute_reply": "2024-02-24T12:21:31.715727Z"
    },
    "papermill": {
     "duration": 0.036416,
     "end_time": "2024-02-24T12:21:31.719606",
     "exception": false,
     "start_time": "2024-02-24T12:21:31.683190",
     "status": "completed"
    },
    "tags": []
   },
   "outputs": [
    {
     "data": {
      "text/plain": [
       "Exited\n",
       "0    138071\n",
       "1     36957\n",
       "Name: count, dtype: int64"
      ]
     },
     "execution_count": 3,
     "metadata": {},
     "output_type": "execute_result"
    }
   ],
   "source": [
    "data.Exited.value_counts()"
   ]
  },
  {
   "cell_type": "code",
   "execution_count": 4,
   "id": "195c2395",
   "metadata": {
    "execution": {
     "iopub.execute_input": "2024-02-24T12:21:31.735746Z",
     "iopub.status.busy": "2024-02-24T12:21:31.735357Z",
     "iopub.status.idle": "2024-02-24T12:21:31.813150Z",
     "shell.execute_reply": "2024-02-24T12:21:31.811578Z"
    },
    "papermill": {
     "duration": 0.089399,
     "end_time": "2024-02-24T12:21:31.816335",
     "exception": false,
     "start_time": "2024-02-24T12:21:31.726936",
     "status": "completed"
    },
    "tags": []
   },
   "outputs": [
    {
     "data": {
      "text/html": [
       "<div>\n",
       "<style scoped>\n",
       "    .dataframe tbody tr th:only-of-type {\n",
       "        vertical-align: middle;\n",
       "    }\n",
       "\n",
       "    .dataframe tbody tr th {\n",
       "        vertical-align: top;\n",
       "    }\n",
       "\n",
       "    .dataframe thead th {\n",
       "        text-align: right;\n",
       "    }\n",
       "</style>\n",
       "<table border=\"1\" class=\"dataframe\">\n",
       "  <thead>\n",
       "    <tr style=\"text-align: right;\">\n",
       "      <th></th>\n",
       "      <th>Surname</th>\n",
       "      <th>CreditScore</th>\n",
       "      <th>Age</th>\n",
       "      <th>Tenure</th>\n",
       "      <th>Balance</th>\n",
       "      <th>NumOfProducts</th>\n",
       "      <th>HasCrCard</th>\n",
       "      <th>IsActiveMember</th>\n",
       "      <th>EstimatedSalary</th>\n",
       "      <th>Exited</th>\n",
       "      <th>...</th>\n",
       "      <th>France</th>\n",
       "      <th>Germany</th>\n",
       "      <th>Spain</th>\n",
       "      <th>Female</th>\n",
       "      <th>Male</th>\n",
       "      <th>Mem__no__Products</th>\n",
       "      <th>Cred_Bal_Sal</th>\n",
       "      <th>Bal_sal</th>\n",
       "      <th>Tenure_Age</th>\n",
       "      <th>Age_Tenure_product</th>\n",
       "    </tr>\n",
       "  </thead>\n",
       "  <tbody>\n",
       "    <tr>\n",
       "      <th>0</th>\n",
       "      <td>2023</td>\n",
       "      <td>668.0</td>\n",
       "      <td>33.0</td>\n",
       "      <td>3.0</td>\n",
       "      <td>0.00</td>\n",
       "      <td>2.0</td>\n",
       "      <td>1</td>\n",
       "      <td>0</td>\n",
       "      <td>181449.97</td>\n",
       "      <td>0</td>\n",
       "      <td>...</td>\n",
       "      <td>1</td>\n",
       "      <td>0</td>\n",
       "      <td>0</td>\n",
       "      <td>0</td>\n",
       "      <td>1</td>\n",
       "      <td>0.0</td>\n",
       "      <td>0.000000</td>\n",
       "      <td>0.000000</td>\n",
       "      <td>0.090909</td>\n",
       "      <td>99.0</td>\n",
       "    </tr>\n",
       "    <tr>\n",
       "      <th>1</th>\n",
       "      <td>2024</td>\n",
       "      <td>627.0</td>\n",
       "      <td>33.0</td>\n",
       "      <td>1.0</td>\n",
       "      <td>0.00</td>\n",
       "      <td>2.0</td>\n",
       "      <td>1</td>\n",
       "      <td>1</td>\n",
       "      <td>49503.50</td>\n",
       "      <td>0</td>\n",
       "      <td>...</td>\n",
       "      <td>1</td>\n",
       "      <td>0</td>\n",
       "      <td>0</td>\n",
       "      <td>0</td>\n",
       "      <td>1</td>\n",
       "      <td>2.0</td>\n",
       "      <td>0.000000</td>\n",
       "      <td>0.000000</td>\n",
       "      <td>0.030303</td>\n",
       "      <td>33.0</td>\n",
       "    </tr>\n",
       "    <tr>\n",
       "      <th>2</th>\n",
       "      <td>1236</td>\n",
       "      <td>678.0</td>\n",
       "      <td>40.0</td>\n",
       "      <td>10.0</td>\n",
       "      <td>0.00</td>\n",
       "      <td>2.0</td>\n",
       "      <td>1</td>\n",
       "      <td>0</td>\n",
       "      <td>184866.69</td>\n",
       "      <td>0</td>\n",
       "      <td>...</td>\n",
       "      <td>1</td>\n",
       "      <td>0</td>\n",
       "      <td>0</td>\n",
       "      <td>0</td>\n",
       "      <td>1</td>\n",
       "      <td>0.0</td>\n",
       "      <td>0.000000</td>\n",
       "      <td>0.000000</td>\n",
       "      <td>0.250000</td>\n",
       "      <td>400.0</td>\n",
       "    </tr>\n",
       "    <tr>\n",
       "      <th>3</th>\n",
       "      <td>1362</td>\n",
       "      <td>581.0</td>\n",
       "      <td>34.0</td>\n",
       "      <td>2.0</td>\n",
       "      <td>148882.54</td>\n",
       "      <td>1.0</td>\n",
       "      <td>1</td>\n",
       "      <td>1</td>\n",
       "      <td>84560.88</td>\n",
       "      <td>0</td>\n",
       "      <td>...</td>\n",
       "      <td>1</td>\n",
       "      <td>0</td>\n",
       "      <td>0</td>\n",
       "      <td>0</td>\n",
       "      <td>1</td>\n",
       "      <td>1.0</td>\n",
       "      <td>1022.940581</td>\n",
       "      <td>1.760655</td>\n",
       "      <td>0.058824</td>\n",
       "      <td>68.0</td>\n",
       "    </tr>\n",
       "    <tr>\n",
       "      <th>4</th>\n",
       "      <td>491</td>\n",
       "      <td>716.0</td>\n",
       "      <td>33.0</td>\n",
       "      <td>5.0</td>\n",
       "      <td>0.00</td>\n",
       "      <td>2.0</td>\n",
       "      <td>1</td>\n",
       "      <td>1</td>\n",
       "      <td>15068.83</td>\n",
       "      <td>0</td>\n",
       "      <td>...</td>\n",
       "      <td>0</td>\n",
       "      <td>0</td>\n",
       "      <td>1</td>\n",
       "      <td>0</td>\n",
       "      <td>1</td>\n",
       "      <td>2.0</td>\n",
       "      <td>0.000000</td>\n",
       "      <td>0.000000</td>\n",
       "      <td>0.151515</td>\n",
       "      <td>165.0</td>\n",
       "    </tr>\n",
       "    <tr>\n",
       "      <th>...</th>\n",
       "      <td>...</td>\n",
       "      <td>...</td>\n",
       "      <td>...</td>\n",
       "      <td>...</td>\n",
       "      <td>...</td>\n",
       "      <td>...</td>\n",
       "      <td>...</td>\n",
       "      <td>...</td>\n",
       "      <td>...</td>\n",
       "      <td>...</td>\n",
       "      <td>...</td>\n",
       "      <td>...</td>\n",
       "      <td>...</td>\n",
       "      <td>...</td>\n",
       "      <td>...</td>\n",
       "      <td>...</td>\n",
       "      <td>...</td>\n",
       "      <td>...</td>\n",
       "      <td>...</td>\n",
       "      <td>...</td>\n",
       "      <td>...</td>\n",
       "    </tr>\n",
       "    <tr>\n",
       "      <th>175023</th>\n",
       "      <td>2226</td>\n",
       "      <td>644.0</td>\n",
       "      <td>28.0</td>\n",
       "      <td>7.0</td>\n",
       "      <td>155060.41</td>\n",
       "      <td>1.0</td>\n",
       "      <td>1</td>\n",
       "      <td>0</td>\n",
       "      <td>29179.52</td>\n",
       "      <td>0</td>\n",
       "      <td>...</td>\n",
       "      <td>1</td>\n",
       "      <td>0</td>\n",
       "      <td>0</td>\n",
       "      <td>0</td>\n",
       "      <td>1</td>\n",
       "      <td>0.0</td>\n",
       "      <td>3422.225727</td>\n",
       "      <td>5.314015</td>\n",
       "      <td>0.250000</td>\n",
       "      <td>196.0</td>\n",
       "    </tr>\n",
       "    <tr>\n",
       "      <th>175024</th>\n",
       "      <td>2846</td>\n",
       "      <td>800.0</td>\n",
       "      <td>29.0</td>\n",
       "      <td>2.0</td>\n",
       "      <td>0.00</td>\n",
       "      <td>2.0</td>\n",
       "      <td>0</td>\n",
       "      <td>0</td>\n",
       "      <td>167773.55</td>\n",
       "      <td>0</td>\n",
       "      <td>...</td>\n",
       "      <td>1</td>\n",
       "      <td>0</td>\n",
       "      <td>0</td>\n",
       "      <td>1</td>\n",
       "      <td>0</td>\n",
       "      <td>0.0</td>\n",
       "      <td>0.000000</td>\n",
       "      <td>0.000000</td>\n",
       "      <td>0.068966</td>\n",
       "      <td>58.0</td>\n",
       "    </tr>\n",
       "    <tr>\n",
       "      <th>175025</th>\n",
       "      <td>1999</td>\n",
       "      <td>771.0</td>\n",
       "      <td>39.0</td>\n",
       "      <td>5.0</td>\n",
       "      <td>0.00</td>\n",
       "      <td>2.0</td>\n",
       "      <td>1</td>\n",
       "      <td>0</td>\n",
       "      <td>96270.64</td>\n",
       "      <td>0</td>\n",
       "      <td>...</td>\n",
       "      <td>1</td>\n",
       "      <td>0</td>\n",
       "      <td>0</td>\n",
       "      <td>0</td>\n",
       "      <td>1</td>\n",
       "      <td>0.0</td>\n",
       "      <td>0.000000</td>\n",
       "      <td>0.000000</td>\n",
       "      <td>0.128205</td>\n",
       "      <td>195.0</td>\n",
       "    </tr>\n",
       "    <tr>\n",
       "      <th>175026</th>\n",
       "      <td>1336</td>\n",
       "      <td>516.0</td>\n",
       "      <td>35.0</td>\n",
       "      <td>10.0</td>\n",
       "      <td>57369.61</td>\n",
       "      <td>1.0</td>\n",
       "      <td>1</td>\n",
       "      <td>1</td>\n",
       "      <td>101699.77</td>\n",
       "      <td>0</td>\n",
       "      <td>...</td>\n",
       "      <td>1</td>\n",
       "      <td>0</td>\n",
       "      <td>0</td>\n",
       "      <td>0</td>\n",
       "      <td>1</td>\n",
       "      <td>1.0</td>\n",
       "      <td>291.079505</td>\n",
       "      <td>0.564108</td>\n",
       "      <td>0.285714</td>\n",
       "      <td>350.0</td>\n",
       "    </tr>\n",
       "    <tr>\n",
       "      <th>175027</th>\n",
       "      <td>1570</td>\n",
       "      <td>709.0</td>\n",
       "      <td>36.0</td>\n",
       "      <td>7.0</td>\n",
       "      <td>0.00</td>\n",
       "      <td>1.0</td>\n",
       "      <td>0</td>\n",
       "      <td>1</td>\n",
       "      <td>42085.58</td>\n",
       "      <td>1</td>\n",
       "      <td>...</td>\n",
       "      <td>1</td>\n",
       "      <td>0</td>\n",
       "      <td>0</td>\n",
       "      <td>1</td>\n",
       "      <td>0</td>\n",
       "      <td>1.0</td>\n",
       "      <td>0.000000</td>\n",
       "      <td>0.000000</td>\n",
       "      <td>0.194444</td>\n",
       "      <td>252.0</td>\n",
       "    </tr>\n",
       "  </tbody>\n",
       "</table>\n",
       "<p>175028 rows × 25 columns</p>\n",
       "</div>"
      ],
      "text/plain": [
       "        Surname  CreditScore   Age  Tenure    Balance  NumOfProducts  \\\n",
       "0          2023        668.0  33.0     3.0       0.00            2.0   \n",
       "1          2024        627.0  33.0     1.0       0.00            2.0   \n",
       "2          1236        678.0  40.0    10.0       0.00            2.0   \n",
       "3          1362        581.0  34.0     2.0  148882.54            1.0   \n",
       "4           491        716.0  33.0     5.0       0.00            2.0   \n",
       "...         ...          ...   ...     ...        ...            ...   \n",
       "175023     2226        644.0  28.0     7.0  155060.41            1.0   \n",
       "175024     2846        800.0  29.0     2.0       0.00            2.0   \n",
       "175025     1999        771.0  39.0     5.0       0.00            2.0   \n",
       "175026     1336        516.0  35.0    10.0   57369.61            1.0   \n",
       "175027     1570        709.0  36.0     7.0       0.00            1.0   \n",
       "\n",
       "        HasCrCard  IsActiveMember  EstimatedSalary  Exited  ...  France  \\\n",
       "0               1               0        181449.97       0  ...       1   \n",
       "1               1               1         49503.50       0  ...       1   \n",
       "2               1               0        184866.69       0  ...       1   \n",
       "3               1               1         84560.88       0  ...       1   \n",
       "4               1               1         15068.83       0  ...       0   \n",
       "...           ...             ...              ...     ...  ...     ...   \n",
       "175023          1               0         29179.52       0  ...       1   \n",
       "175024          0               0        167773.55       0  ...       1   \n",
       "175025          1               0         96270.64       0  ...       1   \n",
       "175026          1               1        101699.77       0  ...       1   \n",
       "175027          0               1         42085.58       1  ...       1   \n",
       "\n",
       "        Germany  Spain  Female  Male  Mem__no__Products  Cred_Bal_Sal  \\\n",
       "0             0      0       0     1                0.0      0.000000   \n",
       "1             0      0       0     1                2.0      0.000000   \n",
       "2             0      0       0     1                0.0      0.000000   \n",
       "3             0      0       0     1                1.0   1022.940581   \n",
       "4             0      1       0     1                2.0      0.000000   \n",
       "...         ...    ...     ...   ...                ...           ...   \n",
       "175023        0      0       0     1                0.0   3422.225727   \n",
       "175024        0      0       1     0                0.0      0.000000   \n",
       "175025        0      0       0     1                0.0      0.000000   \n",
       "175026        0      0       0     1                1.0    291.079505   \n",
       "175027        0      0       1     0                1.0      0.000000   \n",
       "\n",
       "         Bal_sal  Tenure_Age  Age_Tenure_product  \n",
       "0       0.000000    0.090909                99.0  \n",
       "1       0.000000    0.030303                33.0  \n",
       "2       0.000000    0.250000               400.0  \n",
       "3       1.760655    0.058824                68.0  \n",
       "4       0.000000    0.151515               165.0  \n",
       "...          ...         ...                 ...  \n",
       "175023  5.314015    0.250000               196.0  \n",
       "175024  0.000000    0.068966                58.0  \n",
       "175025  0.000000    0.128205               195.0  \n",
       "175026  0.564108    0.285714               350.0  \n",
       "175027  0.000000    0.194444               252.0  \n",
       "\n",
       "[175028 rows x 25 columns]"
      ]
     },
     "execution_count": 4,
     "metadata": {},
     "output_type": "execute_result"
    }
   ],
   "source": [
    "data"
   ]
  },
  {
   "cell_type": "code",
   "execution_count": 5,
   "id": "83356d20",
   "metadata": {
    "execution": {
     "iopub.execute_input": "2024-02-24T12:21:31.835904Z",
     "iopub.status.busy": "2024-02-24T12:21:31.835198Z",
     "iopub.status.idle": "2024-02-24T12:21:31.840777Z",
     "shell.execute_reply": "2024-02-24T12:21:31.839390Z"
    },
    "papermill": {
     "duration": 0.019143,
     "end_time": "2024-02-24T12:21:31.843856",
     "exception": false,
     "start_time": "2024-02-24T12:21:31.824713",
     "status": "completed"
    },
    "tags": []
   },
   "outputs": [],
   "source": [
    "target=data.Exited"
   ]
  },
  {
   "cell_type": "code",
   "execution_count": 6,
   "id": "42a28f72",
   "metadata": {
    "execution": {
     "iopub.execute_input": "2024-02-24T12:21:31.861934Z",
     "iopub.status.busy": "2024-02-24T12:21:31.861365Z",
     "iopub.status.idle": "2024-02-24T12:21:31.874868Z",
     "shell.execute_reply": "2024-02-24T12:21:31.873268Z"
    },
    "papermill": {
     "duration": 0.026066,
     "end_time": "2024-02-24T12:21:31.878153",
     "exception": false,
     "start_time": "2024-02-24T12:21:31.852087",
     "status": "completed"
    },
    "tags": []
   },
   "outputs": [],
   "source": [
    "xdata=data.drop('Exited',axis=1)"
   ]
  },
  {
   "cell_type": "code",
   "execution_count": 7,
   "id": "ef94123b",
   "metadata": {
    "execution": {
     "iopub.execute_input": "2024-02-24T12:21:31.898712Z",
     "iopub.status.busy": "2024-02-24T12:21:31.897891Z",
     "iopub.status.idle": "2024-02-24T12:21:32.956765Z",
     "shell.execute_reply": "2024-02-24T12:21:32.955364Z"
    },
    "papermill": {
     "duration": 1.072931,
     "end_time": "2024-02-24T12:21:32.960029",
     "exception": false,
     "start_time": "2024-02-24T12:21:31.887098",
     "status": "completed"
    },
    "tags": []
   },
   "outputs": [],
   "source": [
    "value=np.sum(target)\n",
    "count=0\n",
    "index=[]\n",
    "for i in range(len(target)):\n",
    "    if target[i]==0 and count<value:\n",
    "        count+=1\n",
    "        index.append(i)\n",
    "    elif count>value:\n",
    "        break"
   ]
  },
  {
   "cell_type": "code",
   "execution_count": 8,
   "id": "b086a943",
   "metadata": {
    "execution": {
     "iopub.execute_input": "2024-02-24T12:21:32.978033Z",
     "iopub.status.busy": "2024-02-24T12:21:32.977644Z",
     "iopub.status.idle": "2024-02-24T12:21:32.988644Z",
     "shell.execute_reply": "2024-02-24T12:21:32.987347Z"
    },
    "papermill": {
     "duration": 0.023314,
     "end_time": "2024-02-24T12:21:32.991498",
     "exception": false,
     "start_time": "2024-02-24T12:21:32.968184",
     "status": "completed"
    },
    "tags": []
   },
   "outputs": [],
   "source": [
    "index.extend(list(np.where(target == 1)[0]))"
   ]
  },
  {
   "cell_type": "code",
   "execution_count": 9,
   "id": "218592b6",
   "metadata": {
    "execution": {
     "iopub.execute_input": "2024-02-24T12:21:33.010206Z",
     "iopub.status.busy": "2024-02-24T12:21:33.009772Z",
     "iopub.status.idle": "2024-02-24T12:21:33.022812Z",
     "shell.execute_reply": "2024-02-24T12:21:33.021311Z"
    },
    "papermill": {
     "duration": 0.025981,
     "end_time": "2024-02-24T12:21:33.025713",
     "exception": false,
     "start_time": "2024-02-24T12:21:32.999732",
     "status": "completed"
    },
    "tags": []
   },
   "outputs": [],
   "source": [
    "np.random.shuffle(index)"
   ]
  },
  {
   "cell_type": "code",
   "execution_count": 10,
   "id": "62a1c0cb",
   "metadata": {
    "execution": {
     "iopub.execute_input": "2024-02-24T12:21:33.045167Z",
     "iopub.status.busy": "2024-02-24T12:21:33.044564Z",
     "iopub.status.idle": "2024-02-24T12:21:33.117383Z",
     "shell.execute_reply": "2024-02-24T12:21:33.116332Z"
    },
    "papermill": {
     "duration": 0.086353,
     "end_time": "2024-02-24T12:21:33.120308",
     "exception": false,
     "start_time": "2024-02-24T12:21:33.033955",
     "status": "completed"
    },
    "tags": []
   },
   "outputs": [],
   "source": [
    "target=target[index]\n",
    "xdata=xdata.iloc[index]"
   ]
  },
  {
   "cell_type": "code",
   "execution_count": null,
   "id": "df1d3507",
   "metadata": {
    "papermill": {
     "duration": 0.007462,
     "end_time": "2024-02-24T12:21:33.135553",
     "exception": false,
     "start_time": "2024-02-24T12:21:33.128091",
     "status": "completed"
    },
    "tags": []
   },
   "outputs": [],
   "source": []
  },
  {
   "cell_type": "code",
   "execution_count": 11,
   "id": "45eb8d0f",
   "metadata": {
    "execution": {
     "iopub.execute_input": "2024-02-24T12:21:33.153485Z",
     "iopub.status.busy": "2024-02-24T12:21:33.152683Z",
     "iopub.status.idle": "2024-02-24T12:21:34.545126Z",
     "shell.execute_reply": "2024-02-24T12:21:34.543871Z"
    },
    "papermill": {
     "duration": 1.404624,
     "end_time": "2024-02-24T12:21:34.547898",
     "exception": false,
     "start_time": "2024-02-24T12:21:33.143274",
     "status": "completed"
    },
    "tags": []
   },
   "outputs": [],
   "source": [
    "from sklearn import preprocessing"
   ]
  },
  {
   "cell_type": "code",
   "execution_count": 12,
   "id": "90a6e9ae",
   "metadata": {
    "execution": {
     "iopub.execute_input": "2024-02-24T12:21:34.566527Z",
     "iopub.status.busy": "2024-02-24T12:21:34.565878Z",
     "iopub.status.idle": "2024-02-24T12:21:34.627544Z",
     "shell.execute_reply": "2024-02-24T12:21:34.625893Z"
    },
    "papermill": {
     "duration": 0.074781,
     "end_time": "2024-02-24T12:21:34.630552",
     "exception": false,
     "start_time": "2024-02-24T12:21:34.555771",
     "status": "completed"
    },
    "tags": []
   },
   "outputs": [],
   "source": [
    "xdata=preprocessing.scale(xdata)"
   ]
  },
  {
   "cell_type": "code",
   "execution_count": 13,
   "id": "0dbc66ca",
   "metadata": {
    "execution": {
     "iopub.execute_input": "2024-02-24T12:21:34.648645Z",
     "iopub.status.busy": "2024-02-24T12:21:34.648233Z",
     "iopub.status.idle": "2024-02-24T12:21:34.654247Z",
     "shell.execute_reply": "2024-02-24T12:21:34.652963Z"
    },
    "papermill": {
     "duration": 0.018259,
     "end_time": "2024-02-24T12:21:34.656802",
     "exception": false,
     "start_time": "2024-02-24T12:21:34.638543",
     "status": "completed"
    },
    "tags": []
   },
   "outputs": [],
   "source": [
    "validation_size=int(xdata.shape[0]*0.1)\n",
    "test_size=int(xdata.shape[0]*0.1)\n",
    "train_size=int(xdata.shape[0]*0.8)"
   ]
  },
  {
   "cell_type": "code",
   "execution_count": 14,
   "id": "5d24ae88",
   "metadata": {
    "execution": {
     "iopub.execute_input": "2024-02-24T12:21:34.675753Z",
     "iopub.status.busy": "2024-02-24T12:21:34.675345Z",
     "iopub.status.idle": "2024-02-24T12:21:34.681360Z",
     "shell.execute_reply": "2024-02-24T12:21:34.680573Z"
    },
    "papermill": {
     "duration": 0.018577,
     "end_time": "2024-02-24T12:21:34.683454",
     "exception": false,
     "start_time": "2024-02-24T12:21:34.664877",
     "status": "completed"
    },
    "tags": []
   },
   "outputs": [
    {
     "data": {
      "text/plain": [
       "7391"
      ]
     },
     "execution_count": 14,
     "metadata": {},
     "output_type": "execute_result"
    }
   ],
   "source": [
    "validation_size"
   ]
  },
  {
   "cell_type": "code",
   "execution_count": 15,
   "id": "9c4d8ce6",
   "metadata": {
    "execution": {
     "iopub.execute_input": "2024-02-24T12:21:34.701767Z",
     "iopub.status.busy": "2024-02-24T12:21:34.701368Z",
     "iopub.status.idle": "2024-02-24T12:21:34.707037Z",
     "shell.execute_reply": "2024-02-24T12:21:34.705979Z"
    },
    "papermill": {
     "duration": 0.018284,
     "end_time": "2024-02-24T12:21:34.709474",
     "exception": false,
     "start_time": "2024-02-24T12:21:34.691190",
     "status": "completed"
    },
    "tags": []
   },
   "outputs": [],
   "source": [
    "train_data=xdata[:train_size]\n",
    "validation_data=xdata[train_size:train_size+validation_size]\n",
    "test_data=xdata[train_size+validation_size:]\n",
    "train_target=target[:train_size]\n",
    "validation_target=target[train_size:train_size+validation_size]\n",
    "test_target=target[train_size+validation_size:]"
   ]
  },
  {
   "cell_type": "code",
   "execution_count": 16,
   "id": "329a5f37",
   "metadata": {
    "execution": {
     "iopub.execute_input": "2024-02-24T12:21:34.727612Z",
     "iopub.status.busy": "2024-02-24T12:21:34.727124Z",
     "iopub.status.idle": "2024-02-24T12:21:52.877672Z",
     "shell.execute_reply": "2024-02-24T12:21:52.876378Z"
    },
    "papermill": {
     "duration": 18.163318,
     "end_time": "2024-02-24T12:21:52.880739",
     "exception": false,
     "start_time": "2024-02-24T12:21:34.717421",
     "status": "completed"
    },
    "tags": []
   },
   "outputs": [
    {
     "name": "stdout",
     "output_type": "stream",
     "text": [
      "Epoch 1/100\n",
      "592/592 - 4s - loss: 0.4603 - accuracy: 0.7827 - val_loss: 0.4297 - val_accuracy: 0.8063 - 4s/epoch - 6ms/step\n",
      "Epoch 2/100\n",
      "592/592 - 2s - loss: 0.4322 - accuracy: 0.7985 - val_loss: 0.4289 - val_accuracy: 0.8045 - 2s/epoch - 4ms/step\n",
      "Epoch 3/100\n",
      "592/592 - 2s - loss: 0.4295 - accuracy: 0.7992 - val_loss: 0.4247 - val_accuracy: 0.8081 - 2s/epoch - 4ms/step\n",
      "Epoch 4/100\n",
      "592/592 - 2s - loss: 0.4269 - accuracy: 0.8008 - val_loss: 0.4291 - val_accuracy: 0.8026 - 2s/epoch - 4ms/step\n",
      "Epoch 5/100\n",
      "592/592 - 2s - loss: 0.4251 - accuracy: 0.8008 - val_loss: 0.4224 - val_accuracy: 0.8065 - 2s/epoch - 4ms/step\n",
      "Epoch 6/100\n",
      "592/592 - 2s - loss: 0.4239 - accuracy: 0.8027 - val_loss: 0.4233 - val_accuracy: 0.8054 - 2s/epoch - 4ms/step\n",
      "Epoch 7/100\n",
      "592/592 - 2s - loss: 0.4225 - accuracy: 0.8030 - val_loss: 0.4264 - val_accuracy: 0.7998 - 2s/epoch - 4ms/step\n"
     ]
    },
    {
     "data": {
      "text/plain": [
       "<keras.src.callbacks.History at 0x78c9269a6ce0>"
      ]
     },
     "execution_count": 16,
     "metadata": {},
     "output_type": "execute_result"
    }
   ],
   "source": [
    "input_size=24\n",
    "output_size=2\n",
    "hidden_layer_size=150\n",
    "model=tf.keras.Sequential([\n",
    "    tf.keras.layers.Dense(hidden_layer_size,activation='tanh'),\n",
    "    tf.keras.layers.Dense(hidden_layer_size,activation='tanh'),\n",
    "    tf.keras.layers.Dense(hidden_layer_size,activation='tanh'),\n",
    "    tf.keras.layers.Dense(output_size,activation='softmax')\n",
    "])\n",
    "model.compile(optimizer='adam',loss='sparse_categorical_crossentropy',metrics=['accuracy'])\n",
    "call=tf.keras.callbacks.EarlyStopping(patience=2)\n",
    "model.fit(train_data,train_target,batch_size=100,validation_data=(validation_data,validation_target),epochs=100,verbose=2,callbacks=[call])"
   ]
  },
  {
   "cell_type": "code",
   "execution_count": 17,
   "id": "d3d38209",
   "metadata": {
    "execution": {
     "iopub.execute_input": "2024-02-24T12:21:52.902601Z",
     "iopub.status.busy": "2024-02-24T12:21:52.902145Z",
     "iopub.status.idle": "2024-02-24T12:21:53.481575Z",
     "shell.execute_reply": "2024-02-24T12:21:53.480625Z"
    },
    "papermill": {
     "duration": 0.593032,
     "end_time": "2024-02-24T12:21:53.484078",
     "exception": false,
     "start_time": "2024-02-24T12:21:52.891046",
     "status": "completed"
    },
    "tags": []
   },
   "outputs": [
    {
     "name": "stdout",
     "output_type": "stream",
     "text": [
      "231/231 [==============================] - 1s 2ms/step - loss: 0.4313 - accuracy: 0.8015\n"
     ]
    }
   ],
   "source": [
    "loss,accuracy=model.evaluate(test_data,test_target)"
   ]
  },
  {
   "cell_type": "code",
   "execution_count": 18,
   "id": "fddbd442",
   "metadata": {
    "execution": {
     "iopub.execute_input": "2024-02-24T12:21:53.507870Z",
     "iopub.status.busy": "2024-02-24T12:21:53.507178Z",
     "iopub.status.idle": "2024-02-24T12:21:53.516405Z",
     "shell.execute_reply": "2024-02-24T12:21:53.514857Z"
    },
    "papermill": {
     "duration": 0.02528,
     "end_time": "2024-02-24T12:21:53.520055",
     "exception": false,
     "start_time": "2024-02-24T12:21:53.494775",
     "status": "completed"
    },
    "tags": []
   },
   "outputs": [
    {
     "name": "stdout",
     "output_type": "stream",
     "text": [
      " Loss 0.43 Accuracy : 80.15%\n"
     ]
    }
   ],
   "source": [
    "print(f' Loss {loss:.2f} Accuracy : {accuracy*100:.2f}%')"
   ]
  }
 ],
 "metadata": {
  "kaggle": {
   "accelerator": "none",
   "dataSources": [
    {
     "datasetId": 4332662,
     "sourceId": 7443643,
     "sourceType": "datasetVersion"
    }
   ],
   "dockerImageVersionId": 30646,
   "isGpuEnabled": false,
   "isInternetEnabled": true,
   "language": "python",
   "sourceType": "notebook"
  },
  "kernelspec": {
   "display_name": "Python 3",
   "language": "python",
   "name": "python3"
  },
  "language_info": {
   "codemirror_mode": {
    "name": "ipython",
    "version": 3
   },
   "file_extension": ".py",
   "mimetype": "text/x-python",
   "name": "python",
   "nbconvert_exporter": "python",
   "pygments_lexer": "ipython3",
   "version": "3.10.13"
  },
  "papermill": {
   "default_parameters": {},
   "duration": 49.174687,
   "end_time": "2024-02-24T12:21:55.360116",
   "environment_variables": {},
   "exception": null,
   "input_path": "__notebook__.ipynb",
   "output_path": "__notebook__.ipynb",
   "parameters": {},
   "start_time": "2024-02-24T12:21:06.185429",
   "version": "2.5.0"
  }
 },
 "nbformat": 4,
 "nbformat_minor": 5
}

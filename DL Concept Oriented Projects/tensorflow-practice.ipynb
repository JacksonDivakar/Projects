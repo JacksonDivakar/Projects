{
 "cells": [
  {
   "cell_type": "markdown",
   "id": "dd9ada51",
   "metadata": {
    "papermill": {
     "duration": 0.011639,
     "end_time": "2024-02-23T13:37:11.598861",
     "exception": false,
     "start_time": "2024-02-23T13:37:11.587222",
     "status": "completed"
    },
    "tags": []
   },
   "source": [
    "### Importing Modules"
   ]
  },
  {
   "cell_type": "code",
   "execution_count": 1,
   "id": "43661053",
   "metadata": {
    "execution": {
     "iopub.execute_input": "2024-02-23T13:37:11.626760Z",
     "iopub.status.busy": "2024-02-23T13:37:11.625884Z",
     "iopub.status.idle": "2024-02-23T13:37:31.770385Z",
     "shell.execute_reply": "2024-02-23T13:37:31.768906Z"
    },
    "id": "TBqZQ7an77No",
    "papermill": {
     "duration": 20.160726,
     "end_time": "2024-02-23T13:37:31.773649",
     "exception": false,
     "start_time": "2024-02-23T13:37:11.612923",
     "status": "completed"
    },
    "tags": []
   },
   "outputs": [
    {
     "name": "stderr",
     "output_type": "stream",
     "text": [
      "2024-02-23 13:37:14.096905: E external/local_xla/xla/stream_executor/cuda/cuda_dnn.cc:9261] Unable to register cuDNN factory: Attempting to register factory for plugin cuDNN when one has already been registered\n",
      "2024-02-23 13:37:14.097045: E external/local_xla/xla/stream_executor/cuda/cuda_fft.cc:607] Unable to register cuFFT factory: Attempting to register factory for plugin cuFFT when one has already been registered\n",
      "2024-02-23 13:37:14.269026: E external/local_xla/xla/stream_executor/cuda/cuda_blas.cc:1515] Unable to register cuBLAS factory: Attempting to register factory for plugin cuBLAS when one has already been registered\n"
     ]
    }
   ],
   "source": [
    "import tensorflow as tf\n",
    "import numpy as np\n",
    "import pandas as pd\n",
    "import tensorflow_datasets as tfds\n",
    "import warnings\n",
    "warnings.filterwarnings('ignore')"
   ]
  },
  {
   "cell_type": "markdown",
   "id": "f5496f8d",
   "metadata": {
    "id": "vdaVlnjlucZZ",
    "papermill": {
     "duration": 0.011839,
     "end_time": "2024-02-23T13:37:31.797462",
     "exception": false,
     "start_time": "2024-02-23T13:37:31.785623",
     "status": "completed"
    },
    "tags": []
   },
   "source": [
    "### Reading Dataset"
   ]
  },
  {
   "cell_type": "code",
   "execution_count": 2,
   "id": "16c4cf19",
   "metadata": {
    "execution": {
     "iopub.execute_input": "2024-02-23T13:37:31.822787Z",
     "iopub.status.busy": "2024-02-23T13:37:31.821199Z",
     "iopub.status.idle": "2024-02-23T13:37:36.135060Z",
     "shell.execute_reply": "2024-02-23T13:37:36.133319Z"
    },
    "id": "t7HRSPfIuhXZ",
    "outputId": "39a13653-5215-4749-d9a9-6d46f6006dda",
    "papermill": {
     "duration": 4.328678,
     "end_time": "2024-02-23T13:37:36.137514",
     "exception": false,
     "start_time": "2024-02-23T13:37:31.808836",
     "status": "completed"
    },
    "tags": []
   },
   "outputs": [
    {
     "name": "stdout",
     "output_type": "stream",
     "text": [
      "\u001b[1mDownloading and preparing dataset 11.06 MiB (download: 11.06 MiB, generated: 21.00 MiB, total: 32.06 MiB) to /root/tensorflow_datasets/mnist/3.0.1...\u001b[0m\n"
     ]
    },
    {
     "data": {
      "application/vnd.jupyter.widget-view+json": {
       "model_id": "82c89ea6b374460e91d593cee4fba9ba",
       "version_major": 2,
       "version_minor": 0
      },
      "text/plain": [
       "Dl Completed...:   0%|          | 0/5 [00:00<?, ? file/s]"
      ]
     },
     "metadata": {},
     "output_type": "display_data"
    },
    {
     "name": "stdout",
     "output_type": "stream",
     "text": [
      "\u001b[1mDataset mnist downloaded and prepared to /root/tensorflow_datasets/mnist/3.0.1. Subsequent calls will reuse this data.\u001b[0m\n"
     ]
    }
   ],
   "source": [
    "dataset,info=tfds.load(name='mnist',as_supervised=True,with_info=True)"
   ]
  },
  {
   "cell_type": "markdown",
   "id": "a89712f1",
   "metadata": {
    "papermill": {
     "duration": 0.010857,
     "end_time": "2024-02-23T13:37:36.160455",
     "exception": false,
     "start_time": "2024-02-23T13:37:36.149598",
     "status": "completed"
    },
    "tags": []
   },
   "source": [
    "# Data Preprocessing"
   ]
  },
  {
   "cell_type": "code",
   "execution_count": 3,
   "id": "d19b92cf",
   "metadata": {
    "execution": {
     "iopub.execute_input": "2024-02-23T13:37:36.185897Z",
     "iopub.status.busy": "2024-02-23T13:37:36.185207Z",
     "iopub.status.idle": "2024-02-23T13:37:36.190824Z",
     "shell.execute_reply": "2024-02-23T13:37:36.189640Z"
    },
    "id": "uslpa4Kqu7Ib",
    "papermill": {
     "duration": 0.020651,
     "end_time": "2024-02-23T13:37:36.193016",
     "exception": false,
     "start_time": "2024-02-23T13:37:36.172365",
     "status": "completed"
    },
    "tags": []
   },
   "outputs": [],
   "source": [
    "train,test=dataset['train'],dataset['test']"
   ]
  },
  {
   "cell_type": "markdown",
   "id": "bf0cfbf9",
   "metadata": {
    "papermill": {
     "duration": 0.011207,
     "end_time": "2024-02-23T13:37:36.215444",
     "exception": false,
     "start_time": "2024-02-23T13:37:36.204237",
     "status": "completed"
    },
    "tags": []
   },
   "source": [
    "### Scaling Data"
   ]
  },
  {
   "cell_type": "code",
   "execution_count": 4,
   "id": "2f581e94",
   "metadata": {
    "execution": {
     "iopub.execute_input": "2024-02-23T13:37:36.241829Z",
     "iopub.status.busy": "2024-02-23T13:37:36.241033Z",
     "iopub.status.idle": "2024-02-23T13:37:36.321533Z",
     "shell.execute_reply": "2024-02-23T13:37:36.320467Z"
    },
    "id": "6EQHX-X9xBpS",
    "papermill": {
     "duration": 0.09604,
     "end_time": "2024-02-23T13:37:36.324225",
     "exception": false,
     "start_time": "2024-02-23T13:37:36.228185",
     "status": "completed"
    },
    "tags": []
   },
   "outputs": [],
   "source": [
    "def scale(image,label):\n",
    "  image=tf.cast(image,tf.float32)\n",
    "  image=image/255.\n",
    "  return image,label\n",
    "\n",
    "train_scaled=train.map(scale)\n",
    "test_scaled=test.map(scale)"
   ]
  },
  {
   "cell_type": "markdown",
   "id": "1e0bc55e",
   "metadata": {
    "papermill": {
     "duration": 0.01111,
     "end_time": "2024-02-23T13:37:36.348322",
     "exception": false,
     "start_time": "2024-02-23T13:37:36.337212",
     "status": "completed"
    },
    "tags": []
   },
   "source": [
    "### Shuffling Data"
   ]
  },
  {
   "cell_type": "code",
   "execution_count": 5,
   "id": "cc4dc59e",
   "metadata": {
    "execution": {
     "iopub.execute_input": "2024-02-23T13:37:36.375733Z",
     "iopub.status.busy": "2024-02-23T13:37:36.375050Z",
     "iopub.status.idle": "2024-02-23T13:37:36.379975Z",
     "shell.execute_reply": "2024-02-23T13:37:36.379018Z"
    },
    "id": "w5wi7tWwyNIz",
    "papermill": {
     "duration": 0.021709,
     "end_time": "2024-02-23T13:37:36.382439",
     "exception": false,
     "start_time": "2024-02-23T13:37:36.360730",
     "status": "completed"
    },
    "tags": []
   },
   "outputs": [],
   "source": [
    "BUFFER_SIZE=10000"
   ]
  },
  {
   "cell_type": "code",
   "execution_count": 6,
   "id": "45d5d334",
   "metadata": {
    "execution": {
     "iopub.execute_input": "2024-02-23T13:37:36.407679Z",
     "iopub.status.busy": "2024-02-23T13:37:36.406787Z",
     "iopub.status.idle": "2024-02-23T13:37:36.415027Z",
     "shell.execute_reply": "2024-02-23T13:37:36.413838Z"
    },
    "id": "w6GBVcN4yOo-",
    "papermill": {
     "duration": 0.023908,
     "end_time": "2024-02-23T13:37:36.417731",
     "exception": false,
     "start_time": "2024-02-23T13:37:36.393823",
     "status": "completed"
    },
    "tags": []
   },
   "outputs": [],
   "source": [
    "shuffled=train_scaled.shuffle(BUFFER_SIZE)"
   ]
  },
  {
   "cell_type": "markdown",
   "id": "e57c7d49",
   "metadata": {
    "papermill": {
     "duration": 0.012105,
     "end_time": "2024-02-23T13:37:36.441415",
     "exception": false,
     "start_time": "2024-02-23T13:37:36.429310",
     "status": "completed"
    },
    "tags": []
   },
   "source": [
    "### Separating Validation and Train Data"
   ]
  },
  {
   "cell_type": "code",
   "execution_count": 7,
   "id": "0479cb74",
   "metadata": {
    "execution": {
     "iopub.execute_input": "2024-02-23T13:37:36.468646Z",
     "iopub.status.busy": "2024-02-23T13:37:36.468228Z",
     "iopub.status.idle": "2024-02-23T13:37:36.479924Z",
     "shell.execute_reply": "2024-02-23T13:37:36.478535Z"
    },
    "papermill": {
     "duration": 0.029765,
     "end_time": "2024-02-23T13:37:36.482828",
     "exception": false,
     "start_time": "2024-02-23T13:37:36.453063",
     "status": "completed"
    },
    "tags": []
   },
   "outputs": [],
   "source": [
    "validation_count=tf.cast(0.1*info.splits['train'].num_examples,tf.int64)\n",
    "test_size=tf.cast(info.splits['test'].num_examples,tf.int64)"
   ]
  },
  {
   "cell_type": "code",
   "execution_count": 8,
   "id": "5e60c0e8",
   "metadata": {
    "execution": {
     "iopub.execute_input": "2024-02-23T13:37:36.508441Z",
     "iopub.status.busy": "2024-02-23T13:37:36.508052Z",
     "iopub.status.idle": "2024-02-23T13:37:36.522506Z",
     "shell.execute_reply": "2024-02-23T13:37:36.521244Z"
    },
    "id": "Hgqj_1llz-tF",
    "papermill": {
     "duration": 0.030835,
     "end_time": "2024-02-23T13:37:36.525473",
     "exception": false,
     "start_time": "2024-02-23T13:37:36.494638",
     "status": "completed"
    },
    "tags": []
   },
   "outputs": [],
   "source": [
    "validation=shuffled.take(validation_count)\n",
    "train=shuffled.skip(validation_count)"
   ]
  },
  {
   "cell_type": "markdown",
   "id": "f1fc0583",
   "metadata": {
    "papermill": {
     "duration": 0.011273,
     "end_time": "2024-02-23T13:37:36.549034",
     "exception": false,
     "start_time": "2024-02-23T13:37:36.537761",
     "status": "completed"
    },
    "tags": []
   },
   "source": [
    "### Creating Batches For Increasing Training Time"
   ]
  },
  {
   "cell_type": "code",
   "execution_count": 9,
   "id": "4edf937e",
   "metadata": {
    "execution": {
     "iopub.execute_input": "2024-02-23T13:37:36.574354Z",
     "iopub.status.busy": "2024-02-23T13:37:36.573816Z",
     "iopub.status.idle": "2024-02-23T13:37:36.579376Z",
     "shell.execute_reply": "2024-02-23T13:37:36.578154Z"
    },
    "id": "jlMs3Xwz0mZ1",
    "papermill": {
     "duration": 0.022336,
     "end_time": "2024-02-23T13:37:36.582843",
     "exception": false,
     "start_time": "2024-02-23T13:37:36.560507",
     "status": "completed"
    },
    "tags": []
   },
   "outputs": [],
   "source": [
    "BATCH_SIZE=100"
   ]
  },
  {
   "cell_type": "code",
   "execution_count": 10,
   "id": "c6649303",
   "metadata": {
    "execution": {
     "iopub.execute_input": "2024-02-23T13:37:36.609168Z",
     "iopub.status.busy": "2024-02-23T13:37:36.608703Z",
     "iopub.status.idle": "2024-02-23T13:37:36.617353Z",
     "shell.execute_reply": "2024-02-23T13:37:36.616063Z"
    },
    "id": "aizAdGZ60ivU",
    "papermill": {
     "duration": 0.024844,
     "end_time": "2024-02-23T13:37:36.620433",
     "exception": false,
     "start_time": "2024-02-23T13:37:36.595589",
     "status": "completed"
    },
    "tags": []
   },
   "outputs": [],
   "source": [
    "train=train.batch(BATCH_SIZE)"
   ]
  },
  {
   "cell_type": "code",
   "execution_count": 11,
   "id": "faa3e213",
   "metadata": {
    "execution": {
     "iopub.execute_input": "2024-02-23T13:37:36.646365Z",
     "iopub.status.busy": "2024-02-23T13:37:36.645970Z",
     "iopub.status.idle": "2024-02-23T13:37:36.653413Z",
     "shell.execute_reply": "2024-02-23T13:37:36.652216Z"
    },
    "id": "FexYbpEZ0ySX",
    "papermill": {
     "duration": 0.02336,
     "end_time": "2024-02-23T13:37:36.656152",
     "exception": false,
     "start_time": "2024-02-23T13:37:36.632792",
     "status": "completed"
    },
    "tags": []
   },
   "outputs": [],
   "source": [
    "validation=validation.batch(validation_count)"
   ]
  },
  {
   "cell_type": "code",
   "execution_count": 12,
   "id": "b67e6b60",
   "metadata": {
    "execution": {
     "iopub.execute_input": "2024-02-23T13:37:36.684333Z",
     "iopub.status.busy": "2024-02-23T13:37:36.683185Z",
     "iopub.status.idle": "2024-02-23T13:37:37.841263Z",
     "shell.execute_reply": "2024-02-23T13:37:37.839949Z"
    },
    "id": "YuUe0IAe1yTe",
    "papermill": {
     "duration": 1.175432,
     "end_time": "2024-02-23T13:37:37.844055",
     "exception": false,
     "start_time": "2024-02-23T13:37:36.668623",
     "status": "completed"
    },
    "tags": []
   },
   "outputs": [],
   "source": [
    "validation_inputs,validation_target=next(iter(validation))"
   ]
  },
  {
   "cell_type": "code",
   "execution_count": 13,
   "id": "2fda087c",
   "metadata": {
    "execution": {
     "iopub.execute_input": "2024-02-23T13:37:37.873875Z",
     "iopub.status.busy": "2024-02-23T13:37:37.873415Z",
     "iopub.status.idle": "2024-02-23T13:37:37.881205Z",
     "shell.execute_reply": "2024-02-23T13:37:37.880055Z"
    },
    "id": "VdX2zElU2eB4",
    "papermill": {
     "duration": 0.024436,
     "end_time": "2024-02-23T13:37:37.883811",
     "exception": false,
     "start_time": "2024-02-23T13:37:37.859375",
     "status": "completed"
    },
    "tags": []
   },
   "outputs": [],
   "source": [
    "test=test.batch(test_size)"
   ]
  },
  {
   "cell_type": "markdown",
   "id": "4c49a6b5",
   "metadata": {
    "papermill": {
     "duration": 0.012351,
     "end_time": "2024-02-23T13:37:37.908130",
     "exception": false,
     "start_time": "2024-02-23T13:37:37.895779",
     "status": "completed"
    },
    "tags": []
   },
   "source": [
    "# Model Creation"
   ]
  },
  {
   "cell_type": "code",
   "execution_count": 14,
   "id": "6bdd0d6d",
   "metadata": {
    "execution": {
     "iopub.execute_input": "2024-02-23T13:37:37.934959Z",
     "iopub.status.busy": "2024-02-23T13:37:37.934491Z",
     "iopub.status.idle": "2024-02-23T13:37:38.223801Z",
     "shell.execute_reply": "2024-02-23T13:37:38.222412Z"
    },
    "id": "HQQW2yrM2sdN",
    "papermill": {
     "duration": 0.306427,
     "end_time": "2024-02-23T13:37:38.226630",
     "exception": false,
     "start_time": "2024-02-23T13:37:37.920203",
     "status": "completed"
    },
    "tags": []
   },
   "outputs": [],
   "source": [
    "input_size=784\n",
    "output_size=10\n",
    "hidden_layer_units=100\n",
    "model=tf.keras.Sequential(\n",
    "    [\n",
    "        tf.keras.layers.Flatten(input_shape=(28,28,1)),\n",
    "        tf.keras.layers.Dense(hidden_layer_units,activation='relu'),\n",
    "        tf.keras.layers.Dense(hidden_layer_units,activation='relu'),\n",
    "        tf.keras.layers.Dense(hidden_layer_units,activation='relu'),\n",
    "        tf.keras.layers.Dense(output_size,activation='softmax'),\n",
    "    ]\n",
    ")"
   ]
  },
  {
   "cell_type": "code",
   "execution_count": 15,
   "id": "22a89397",
   "metadata": {
    "execution": {
     "iopub.execute_input": "2024-02-23T13:37:38.252530Z",
     "iopub.status.busy": "2024-02-23T13:37:38.252137Z",
     "iopub.status.idle": "2024-02-23T13:37:38.277400Z",
     "shell.execute_reply": "2024-02-23T13:37:38.276071Z"
    },
    "id": "GzLpX8jQ3a4I",
    "papermill": {
     "duration": 0.041853,
     "end_time": "2024-02-23T13:37:38.280364",
     "exception": false,
     "start_time": "2024-02-23T13:37:38.238511",
     "status": "completed"
    },
    "tags": []
   },
   "outputs": [],
   "source": [
    "model.compile(optimizer='adam',loss='sparse_categorical_crossentropy',metrics=['accuracy'])"
   ]
  },
  {
   "cell_type": "markdown",
   "id": "86c673b1",
   "metadata": {
    "papermill": {
     "duration": 0.011852,
     "end_time": "2024-02-23T13:37:38.304853",
     "exception": false,
     "start_time": "2024-02-23T13:37:38.293001",
     "status": "completed"
    },
    "tags": []
   },
   "source": [
    "**3 type of loss function for categorical types : 1) binary crossentropy 2)categorical crossentropy 3)sparse categorical crossentropy**\n"
   ]
  },
  {
   "cell_type": "markdown",
   "id": "38ad6756",
   "metadata": {
    "papermill": {
     "duration": 0.011923,
     "end_time": "2024-02-23T13:37:38.330800",
     "exception": false,
     "start_time": "2024-02-23T13:37:38.318877",
     "status": "completed"
    },
    "tags": []
   },
   "source": [
    "# Model Fitting"
   ]
  },
  {
   "cell_type": "code",
   "execution_count": 16,
   "id": "ea6be8c6",
   "metadata": {
    "execution": {
     "iopub.execute_input": "2024-02-23T13:37:38.357127Z",
     "iopub.status.busy": "2024-02-23T13:37:38.356736Z",
     "iopub.status.idle": "2024-02-23T13:37:38.363111Z",
     "shell.execute_reply": "2024-02-23T13:37:38.360924Z"
    },
    "id": "Yf2XtBCq73wV",
    "papermill": {
     "duration": 0.023073,
     "end_time": "2024-02-23T13:37:38.365999",
     "exception": false,
     "start_time": "2024-02-23T13:37:38.342926",
     "status": "completed"
    },
    "tags": []
   },
   "outputs": [],
   "source": [
    "EPOCHS=5"
   ]
  },
  {
   "cell_type": "code",
   "execution_count": 17,
   "id": "3b1dcf31",
   "metadata": {
    "execution": {
     "iopub.execute_input": "2024-02-23T13:37:38.392974Z",
     "iopub.status.busy": "2024-02-23T13:37:38.392541Z",
     "iopub.status.idle": "2024-02-23T13:38:08.120707Z",
     "shell.execute_reply": "2024-02-23T13:38:08.119177Z"
    },
    "id": "tm3WKOYg7INp",
    "outputId": "fadc2eef-b38c-4cee-ca83-10ab256bc7d4",
    "papermill": {
     "duration": 29.744316,
     "end_time": "2024-02-23T13:38:08.123299",
     "exception": false,
     "start_time": "2024-02-23T13:37:38.378983",
     "status": "completed"
    },
    "tags": []
   },
   "outputs": [
    {
     "name": "stdout",
     "output_type": "stream",
     "text": [
      "Epoch 1/5\n",
      "540/540 - 7s - loss: 0.3204 - accuracy: 0.9066 - val_loss: 0.1536 - val_accuracy: 0.9538 - 7s/epoch - 13ms/step\n",
      "Epoch 2/5\n",
      "540/540 - 4s - loss: 0.1307 - accuracy: 0.9602 - val_loss: 0.1349 - val_accuracy: 0.9578 - 4s/epoch - 8ms/step\n",
      "Epoch 3/5\n",
      "540/540 - 4s - loss: 0.0952 - accuracy: 0.9710 - val_loss: 0.0809 - val_accuracy: 0.9757 - 4s/epoch - 7ms/step\n",
      "Epoch 4/5\n",
      "540/540 - 4s - loss: 0.0729 - accuracy: 0.9782 - val_loss: 0.0704 - val_accuracy: 0.9792 - 4s/epoch - 7ms/step\n",
      "Epoch 5/5\n",
      "540/540 - 4s - loss: 0.0591 - accuracy: 0.9821 - val_loss: 0.0623 - val_accuracy: 0.9792 - 4s/epoch - 8ms/step\n"
     ]
    },
    {
     "data": {
      "text/plain": [
       "<keras.src.callbacks.History at 0x7e58d9476f50>"
      ]
     },
     "execution_count": 17,
     "metadata": {},
     "output_type": "execute_result"
    }
   ],
   "source": [
    "model.fit(train,epochs=EPOCHS,validation_data=(validation_inputs,validation_target),verbose=2)"
   ]
  },
  {
   "cell_type": "markdown",
   "id": "45b61352",
   "metadata": {
    "papermill": {
     "duration": 0.013467,
     "end_time": "2024-02-23T13:38:08.152091",
     "exception": false,
     "start_time": "2024-02-23T13:38:08.138624",
     "status": "completed"
    },
    "tags": []
   },
   "source": [
    "# Evaluating model With Test Data"
   ]
  },
  {
   "cell_type": "code",
   "execution_count": 18,
   "id": "03c01be7",
   "metadata": {
    "execution": {
     "iopub.execute_input": "2024-02-23T13:38:08.181473Z",
     "iopub.status.busy": "2024-02-23T13:38:08.181036Z",
     "iopub.status.idle": "2024-02-23T13:38:09.047798Z",
     "shell.execute_reply": "2024-02-23T13:38:09.046503Z"
    },
    "id": "MilmLxpP8Lhe",
    "outputId": "0f5b7418-2acf-4a1a-8fe0-13fb79b46170",
    "papermill": {
     "duration": 0.885871,
     "end_time": "2024-02-23T13:38:09.051369",
     "exception": false,
     "start_time": "2024-02-23T13:38:08.165498",
     "status": "completed"
    },
    "tags": []
   },
   "outputs": [
    {
     "name": "stdout",
     "output_type": "stream",
     "text": [
      "1/1 [==============================] - 1s 854ms/step - loss: 17.2300 - accuracy: 0.9703\n"
     ]
    }
   ],
   "source": [
    "model_loss,model_accuracy=model.evaluate(test)"
   ]
  },
  {
   "cell_type": "code",
   "execution_count": 19,
   "id": "96940358",
   "metadata": {
    "execution": {
     "iopub.execute_input": "2024-02-23T13:38:09.081614Z",
     "iopub.status.busy": "2024-02-23T13:38:09.080866Z",
     "iopub.status.idle": "2024-02-23T13:38:09.086250Z",
     "shell.execute_reply": "2024-02-23T13:38:09.085227Z"
    },
    "id": "ERKlu4Eh-f40",
    "outputId": "fe5045a0-fc1f-4504-b993-6ca6ee3cfc42",
    "papermill": {
     "duration": 0.023242,
     "end_time": "2024-02-23T13:38:09.088962",
     "exception": false,
     "start_time": "2024-02-23T13:38:09.065720",
     "status": "completed"
    },
    "tags": []
   },
   "outputs": [
    {
     "name": "stdout",
     "output_type": "stream",
     "text": [
      "model loss 17.23: model accuracy 97.03%\n"
     ]
    }
   ],
   "source": [
    "print(f\"model loss {model_loss:.2f}: model accuracy {model_accuracy*100:.2f}%\")"
   ]
  }
 ],
 "metadata": {
  "colab": {
   "provenance": []
  },
  "kaggle": {
   "accelerator": "none",
   "dataSources": [],
   "dockerImageVersionId": 30646,
   "isGpuEnabled": false,
   "isInternetEnabled": true,
   "language": "python",
   "sourceType": "notebook"
  },
  "kernelspec": {
   "display_name": "Python 3",
   "language": "python",
   "name": "python3"
  },
  "language_info": {
   "codemirror_mode": {
    "name": "ipython",
    "version": 3
   },
   "file_extension": ".py",
   "mimetype": "text/x-python",
   "name": "python",
   "nbconvert_exporter": "python",
   "pygments_lexer": "ipython3",
   "version": "3.10.13"
  },
  "papermill": {
   "default_parameters": {},
   "duration": 63.246995,
   "end_time": "2024-02-23T13:38:11.614019",
   "environment_variables": {},
   "exception": null,
   "input_path": "__notebook__.ipynb",
   "output_path": "__notebook__.ipynb",
   "parameters": {},
   "start_time": "2024-02-23T13:37:08.367024",
   "version": "2.5.0"
  },
  "widgets": {
   "application/vnd.jupyter.widget-state+json": {
    "state": {
     "0021d5c3aded40ecab925c82154b2fba": {
      "model_module": "@jupyter-widgets/controls",
      "model_module_version": "1.5.0",
      "model_name": "ProgressStyleModel",
      "state": {
       "_model_module": "@jupyter-widgets/controls",
       "_model_module_version": "1.5.0",
       "_model_name": "ProgressStyleModel",
       "_view_count": null,
       "_view_module": "@jupyter-widgets/base",
       "_view_module_version": "1.2.0",
       "_view_name": "StyleView",
       "bar_color": null,
       "description_width": ""
      }
     },
     "3af70c50432f4943a3b14b786ce2d06a": {
      "model_module": "@jupyter-widgets/controls",
      "model_module_version": "1.5.0",
      "model_name": "DescriptionStyleModel",
      "state": {
       "_model_module": "@jupyter-widgets/controls",
       "_model_module_version": "1.5.0",
       "_model_name": "DescriptionStyleModel",
       "_view_count": null,
       "_view_module": "@jupyter-widgets/base",
       "_view_module_version": "1.2.0",
       "_view_name": "StyleView",
       "description_width": ""
      }
     },
     "55ead4c70f8c4a3c991f6c65642d5049": {
      "model_module": "@jupyter-widgets/controls",
      "model_module_version": "1.5.0",
      "model_name": "HTMLModel",
      "state": {
       "_dom_classes": [],
       "_model_module": "@jupyter-widgets/controls",
       "_model_module_version": "1.5.0",
       "_model_name": "HTMLModel",
       "_view_count": null,
       "_view_module": "@jupyter-widgets/controls",
       "_view_module_version": "1.5.0",
       "_view_name": "HTMLView",
       "description": "",
       "description_tooltip": null,
       "layout": "IPY_MODEL_70aae2d930284d9199278fdc6115f7c1",
       "placeholder": "​",
       "style": "IPY_MODEL_e3603c75e8904077a22c2bc79e7edb9c",
       "value": "Dl Completed...: 100%"
      }
     },
     "70aae2d930284d9199278fdc6115f7c1": {
      "model_module": "@jupyter-widgets/base",
      "model_module_version": "1.2.0",
      "model_name": "LayoutModel",
      "state": {
       "_model_module": "@jupyter-widgets/base",
       "_model_module_version": "1.2.0",
       "_model_name": "LayoutModel",
       "_view_count": null,
       "_view_module": "@jupyter-widgets/base",
       "_view_module_version": "1.2.0",
       "_view_name": "LayoutView",
       "align_content": null,
       "align_items": null,
       "align_self": null,
       "border": null,
       "bottom": null,
       "display": null,
       "flex": null,
       "flex_flow": null,
       "grid_area": null,
       "grid_auto_columns": null,
       "grid_auto_flow": null,
       "grid_auto_rows": null,
       "grid_column": null,
       "grid_gap": null,
       "grid_row": null,
       "grid_template_areas": null,
       "grid_template_columns": null,
       "grid_template_rows": null,
       "height": null,
       "justify_content": null,
       "justify_items": null,
       "left": null,
       "margin": null,
       "max_height": null,
       "max_width": null,
       "min_height": null,
       "min_width": null,
       "object_fit": null,
       "object_position": null,
       "order": null,
       "overflow": null,
       "overflow_x": null,
       "overflow_y": null,
       "padding": null,
       "right": null,
       "top": null,
       "visibility": null,
       "width": null
      }
     },
     "729e99a657e94eddb8fa7087cbfbb37e": {
      "model_module": "@jupyter-widgets/controls",
      "model_module_version": "1.5.0",
      "model_name": "HTMLModel",
      "state": {
       "_dom_classes": [],
       "_model_module": "@jupyter-widgets/controls",
       "_model_module_version": "1.5.0",
       "_model_name": "HTMLModel",
       "_view_count": null,
       "_view_module": "@jupyter-widgets/controls",
       "_view_module_version": "1.5.0",
       "_view_name": "HTMLView",
       "description": "",
       "description_tooltip": null,
       "layout": "IPY_MODEL_ef9d54afcc7e441a97df799f89c81c79",
       "placeholder": "​",
       "style": "IPY_MODEL_3af70c50432f4943a3b14b786ce2d06a",
       "value": " 5/5 [00:01&lt;00:00,  2.36 file/s]"
      }
     },
     "82c89ea6b374460e91d593cee4fba9ba": {
      "model_module": "@jupyter-widgets/controls",
      "model_module_version": "1.5.0",
      "model_name": "HBoxModel",
      "state": {
       "_dom_classes": [],
       "_model_module": "@jupyter-widgets/controls",
       "_model_module_version": "1.5.0",
       "_model_name": "HBoxModel",
       "_view_count": null,
       "_view_module": "@jupyter-widgets/controls",
       "_view_module_version": "1.5.0",
       "_view_name": "HBoxView",
       "box_style": "",
       "children": [
        "IPY_MODEL_55ead4c70f8c4a3c991f6c65642d5049",
        "IPY_MODEL_fb1364d49b5f4a64ba091e7dd858a0fb",
        "IPY_MODEL_729e99a657e94eddb8fa7087cbfbb37e"
       ],
       "layout": "IPY_MODEL_cee53b8105f543e399f62b871999c400"
      }
     },
     "ae30648faaab41ad89b1486696690b5a": {
      "model_module": "@jupyter-widgets/base",
      "model_module_version": "1.2.0",
      "model_name": "LayoutModel",
      "state": {
       "_model_module": "@jupyter-widgets/base",
       "_model_module_version": "1.2.0",
       "_model_name": "LayoutModel",
       "_view_count": null,
       "_view_module": "@jupyter-widgets/base",
       "_view_module_version": "1.2.0",
       "_view_name": "LayoutView",
       "align_content": null,
       "align_items": null,
       "align_self": null,
       "border": null,
       "bottom": null,
       "display": null,
       "flex": null,
       "flex_flow": null,
       "grid_area": null,
       "grid_auto_columns": null,
       "grid_auto_flow": null,
       "grid_auto_rows": null,
       "grid_column": null,
       "grid_gap": null,
       "grid_row": null,
       "grid_template_areas": null,
       "grid_template_columns": null,
       "grid_template_rows": null,
       "height": null,
       "justify_content": null,
       "justify_items": null,
       "left": null,
       "margin": null,
       "max_height": null,
       "max_width": null,
       "min_height": null,
       "min_width": null,
       "object_fit": null,
       "object_position": null,
       "order": null,
       "overflow": null,
       "overflow_x": null,
       "overflow_y": null,
       "padding": null,
       "right": null,
       "top": null,
       "visibility": null,
       "width": null
      }
     },
     "cee53b8105f543e399f62b871999c400": {
      "model_module": "@jupyter-widgets/base",
      "model_module_version": "1.2.0",
      "model_name": "LayoutModel",
      "state": {
       "_model_module": "@jupyter-widgets/base",
       "_model_module_version": "1.2.0",
       "_model_name": "LayoutModel",
       "_view_count": null,
       "_view_module": "@jupyter-widgets/base",
       "_view_module_version": "1.2.0",
       "_view_name": "LayoutView",
       "align_content": null,
       "align_items": null,
       "align_self": null,
       "border": null,
       "bottom": null,
       "display": null,
       "flex": null,
       "flex_flow": null,
       "grid_area": null,
       "grid_auto_columns": null,
       "grid_auto_flow": null,
       "grid_auto_rows": null,
       "grid_column": null,
       "grid_gap": null,
       "grid_row": null,
       "grid_template_areas": null,
       "grid_template_columns": null,
       "grid_template_rows": null,
       "height": null,
       "justify_content": null,
       "justify_items": null,
       "left": null,
       "margin": null,
       "max_height": null,
       "max_width": null,
       "min_height": null,
       "min_width": null,
       "object_fit": null,
       "object_position": null,
       "order": null,
       "overflow": null,
       "overflow_x": null,
       "overflow_y": null,
       "padding": null,
       "right": null,
       "top": null,
       "visibility": null,
       "width": null
      }
     },
     "e3603c75e8904077a22c2bc79e7edb9c": {
      "model_module": "@jupyter-widgets/controls",
      "model_module_version": "1.5.0",
      "model_name": "DescriptionStyleModel",
      "state": {
       "_model_module": "@jupyter-widgets/controls",
       "_model_module_version": "1.5.0",
       "_model_name": "DescriptionStyleModel",
       "_view_count": null,
       "_view_module": "@jupyter-widgets/base",
       "_view_module_version": "1.2.0",
       "_view_name": "StyleView",
       "description_width": ""
      }
     },
     "ef9d54afcc7e441a97df799f89c81c79": {
      "model_module": "@jupyter-widgets/base",
      "model_module_version": "1.2.0",
      "model_name": "LayoutModel",
      "state": {
       "_model_module": "@jupyter-widgets/base",
       "_model_module_version": "1.2.0",
       "_model_name": "LayoutModel",
       "_view_count": null,
       "_view_module": "@jupyter-widgets/base",
       "_view_module_version": "1.2.0",
       "_view_name": "LayoutView",
       "align_content": null,
       "align_items": null,
       "align_self": null,
       "border": null,
       "bottom": null,
       "display": null,
       "flex": null,
       "flex_flow": null,
       "grid_area": null,
       "grid_auto_columns": null,
       "grid_auto_flow": null,
       "grid_auto_rows": null,
       "grid_column": null,
       "grid_gap": null,
       "grid_row": null,
       "grid_template_areas": null,
       "grid_template_columns": null,
       "grid_template_rows": null,
       "height": null,
       "justify_content": null,
       "justify_items": null,
       "left": null,
       "margin": null,
       "max_height": null,
       "max_width": null,
       "min_height": null,
       "min_width": null,
       "object_fit": null,
       "object_position": null,
       "order": null,
       "overflow": null,
       "overflow_x": null,
       "overflow_y": null,
       "padding": null,
       "right": null,
       "top": null,
       "visibility": null,
       "width": null
      }
     },
     "fb1364d49b5f4a64ba091e7dd858a0fb": {
      "model_module": "@jupyter-widgets/controls",
      "model_module_version": "1.5.0",
      "model_name": "FloatProgressModel",
      "state": {
       "_dom_classes": [],
       "_model_module": "@jupyter-widgets/controls",
       "_model_module_version": "1.5.0",
       "_model_name": "FloatProgressModel",
       "_view_count": null,
       "_view_module": "@jupyter-widgets/controls",
       "_view_module_version": "1.5.0",
       "_view_name": "ProgressView",
       "bar_style": "success",
       "description": "",
       "description_tooltip": null,
       "layout": "IPY_MODEL_ae30648faaab41ad89b1486696690b5a",
       "max": 5.0,
       "min": 0.0,
       "orientation": "horizontal",
       "style": "IPY_MODEL_0021d5c3aded40ecab925c82154b2fba",
       "value": 5.0
      }
     }
    },
    "version_major": 2,
    "version_minor": 0
   }
  }
 },
 "nbformat": 4,
 "nbformat_minor": 5
}

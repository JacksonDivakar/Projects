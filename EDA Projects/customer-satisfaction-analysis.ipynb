{
 "cells": [
  {
   "cell_type": "markdown",
   "id": "29410d4f",
   "metadata": {
    "papermill": {
     "duration": 0.007708,
     "end_time": "2024-01-14T17:23:32.462752",
     "exception": false,
     "start_time": "2024-01-14T17:23:32.455044",
     "status": "completed"
    },
    "tags": []
   },
   "source": [
    "![](https://th.bing.com/th/id/R.2629130afd99a9579ffb7274a3e53788?rik=e%2bS2oQyHRvry8Q&riu=http%3a%2f%2fwww.animatedimages.org%2fdata%2fmedia%2f707%2fanimated-welcome-image-0127.gif&ehk=4tmEVRrQsRYYfEJ5iVLr9%2ftYGR%2bQFhOY07oiCf%2bJ8u8%3d&risl=&pid=ImgRaw&r=0)"
   ]
  },
  {
   "cell_type": "markdown",
   "id": "678886e4",
   "metadata": {
    "papermill": {
     "duration": 0.005105,
     "end_time": "2024-01-14T17:23:32.473526",
     "exception": false,
     "start_time": "2024-01-14T17:23:32.468421",
     "status": "completed"
    },
    "tags": []
   },
   "source": [
    "<div style=\"border-radius: 10px; border: rgb(41, 128, 185) solid; padding: 15px; background-color: rgb(52, 73, 94); font-size: 100%; text-align: left; color: #ecf0f1; box-shadow: 0 0 15px rgba(41, 128, 185, 0.7);\">\n",
    "    <ul style=\"margin: 0; padding-left: 20px; list-style-type: square;\">\n",
    "        <li><strong>In the dataset capturing customer satisfaction, each entry is characterized by a dual rating system. Firstly, customers provide a satisfaction rating on a scale of 1 to 5, offering a nuanced evaluation of their experience. This numerical representation allows for a detailed analysis of the varying degrees of contentment or dissatisfaction among the clientele. Additionally, the dataset features an \"Order Accuracy\" column, indicating whether the order was fulfilled accurately, denoted by a binary response of 'Yes' or 'No'. This binary aspect serves as a critical factor in understanding the precision of order processing. As I delve into the dataset, I will extract meaningful insights, drawing correlations between satisfaction ratings and order accuracy, unraveling patterns that shed light on the factors influencing customer contentment and potential areas for improvement in service delivery. Keep in mind that my interpretations will be based on the nuances of the provided data, allowing for a comprehensive analysis and actionable insights.</strong></li>\n",
    "    </ul>\n",
    "</div>\n"
   ]
  },
  {
   "cell_type": "markdown",
   "id": "c86d8074",
   "metadata": {
    "papermill": {
     "duration": 0.005358,
     "end_time": "2024-01-14T17:23:32.484402",
     "exception": false,
     "start_time": "2024-01-14T17:23:32.479044",
     "status": "completed"
    },
    "tags": []
   },
   "source": [
    "<div style=\"background-color: #0f0f0f; padding: 20px; border-radius: 10px; box-shadow: 5px 5px 10px #888888;\">\n",
    "<h1 style=\"color: white; font-size: 30px; font-weight: bold; text-align: center; text-shadow: 2px 2px 4px #000000;\">Importing Modules and Libraries</h1>\n",
    "</div>"
   ]
  },
  {
   "cell_type": "code",
   "execution_count": 1,
   "id": "7d5e3e64",
   "metadata": {
    "execution": {
     "iopub.execute_input": "2024-01-14T17:23:32.497209Z",
     "iopub.status.busy": "2024-01-14T17:23:32.496799Z",
     "iopub.status.idle": "2024-01-14T17:23:34.632186Z",
     "shell.execute_reply": "2024-01-14T17:23:34.631327Z"
    },
    "id": "DT4DWO0wUPbd",
    "papermill": {
     "duration": 2.144486,
     "end_time": "2024-01-14T17:23:34.634641",
     "exception": false,
     "start_time": "2024-01-14T17:23:32.490155",
     "status": "completed"
    },
    "tags": []
   },
   "outputs": [],
   "source": [
    "import pandas as pd\n",
    "import numpy as np\n",
    "import seaborn as sb\n",
    "import matplotlib.pyplot as plt"
   ]
  },
  {
   "cell_type": "markdown",
   "id": "2dca70d9",
   "metadata": {
    "execution": {
     "iopub.execute_input": "2023-11-16T14:30:19.710921Z",
     "iopub.status.busy": "2023-11-16T14:30:19.710375Z",
     "iopub.status.idle": "2023-11-16T14:30:19.722838Z",
     "shell.execute_reply": "2023-11-16T14:30:19.720422Z",
     "shell.execute_reply.started": "2023-11-16T14:30:19.710857Z"
    },
    "papermill": {
     "duration": 0.005952,
     "end_time": "2024-01-14T17:23:34.646324",
     "exception": false,
     "start_time": "2024-01-14T17:23:34.640372",
     "status": "completed"
    },
    "tags": []
   },
   "source": [
    "<div style=\"background-color: #0f0f0f; padding: 20px; border-radius: 10px; box-shadow: 5px 5px 10px #888888;\">\n",
    "<h1 style=\"color: white; font-size: 30px; font-weight: bold; text-align: center; text-shadow: 2px 2px 4px #000000;\">Loading Dataset</h1>\n",
    "</div>"
   ]
  },
  {
   "cell_type": "code",
   "execution_count": 2,
   "id": "239197a9",
   "metadata": {
    "execution": {
     "iopub.execute_input": "2024-01-14T17:23:34.659828Z",
     "iopub.status.busy": "2024-01-14T17:23:34.658975Z",
     "iopub.status.idle": "2024-01-14T17:23:34.689741Z",
     "shell.execute_reply": "2024-01-14T17:23:34.688643Z"
    },
    "id": "lDxi17meUwDV",
    "papermill": {
     "duration": 0.040401,
     "end_time": "2024-01-14T17:23:34.692523",
     "exception": false,
     "start_time": "2024-01-14T17:23:34.652122",
     "status": "completed"
    },
    "tags": []
   },
   "outputs": [],
   "source": [
    "val=pd.read_csv('/kaggle/input/customer-satisfaction-10k/Customer-survey-data.csv')"
   ]
  },
  {
   "cell_type": "markdown",
   "id": "fb1277a4",
   "metadata": {
    "papermill": {
     "duration": 0.005481,
     "end_time": "2024-01-14T17:23:34.703607",
     "exception": false,
     "start_time": "2024-01-14T17:23:34.698126",
     "status": "completed"
    },
    "tags": []
   },
   "source": [
    "<div style=\"background-color: #0f0f0f; padding: 20px; border-radius: 10px; box-shadow: 5px 5px 10px #888888;\">\n",
    "<h1 style=\"color: white; font-size: 30px; font-weight: bold; text-align: center; text-shadow: 2px 2px 4px #000000;\">Data Cleaning</h1>\n",
    "</div>"
   ]
  },
  {
   "cell_type": "code",
   "execution_count": 3,
   "id": "1a1ae163",
   "metadata": {
    "execution": {
     "iopub.execute_input": "2024-01-14T17:23:34.716923Z",
     "iopub.status.busy": "2024-01-14T17:23:34.715972Z",
     "iopub.status.idle": "2024-01-14T17:23:34.721655Z",
     "shell.execute_reply": "2024-01-14T17:23:34.720704Z"
    },
    "id": "Vhd0JG7QU80-",
    "papermill": {
     "duration": 0.014834,
     "end_time": "2024-01-14T17:23:34.724037",
     "exception": false,
     "start_time": "2024-01-14T17:23:34.709203",
     "status": "completed"
    },
    "tags": []
   },
   "outputs": [],
   "source": [
    "val.columns=['Customer','Overall Experiance','Quality Of Food','Speed Of Delivery','Order Accuracy']"
   ]
  },
  {
   "cell_type": "code",
   "execution_count": 4,
   "id": "324d7e35",
   "metadata": {
    "execution": {
     "iopub.execute_input": "2024-01-14T17:23:34.737355Z",
     "iopub.status.busy": "2024-01-14T17:23:34.736699Z",
     "iopub.status.idle": "2024-01-14T17:23:34.760531Z",
     "shell.execute_reply": "2024-01-14T17:23:34.759389Z"
    },
    "papermill": {
     "duration": 0.033126,
     "end_time": "2024-01-14T17:23:34.762804",
     "exception": false,
     "start_time": "2024-01-14T17:23:34.729678",
     "status": "completed"
    },
    "tags": []
   },
   "outputs": [
    {
     "data": {
      "text/plain": [
       "0"
      ]
     },
     "execution_count": 4,
     "metadata": {},
     "output_type": "execute_result"
    }
   ],
   "source": [
    "val.duplicated().sum()"
   ]
  },
  {
   "cell_type": "code",
   "execution_count": 5,
   "id": "c2e0d94b",
   "metadata": {
    "execution": {
     "iopub.execute_input": "2024-01-14T17:23:34.776066Z",
     "iopub.status.busy": "2024-01-14T17:23:34.775441Z",
     "iopub.status.idle": "2024-01-14T17:23:34.796749Z",
     "shell.execute_reply": "2024-01-14T17:23:34.795627Z"
    },
    "id": "kILlIZwZW1ZS",
    "outputId": "034a4219-7990-4ca6-9ff7-9b65791b708b",
    "papermill": {
     "duration": 0.03088,
     "end_time": "2024-01-14T17:23:34.799255",
     "exception": false,
     "start_time": "2024-01-14T17:23:34.768375",
     "status": "completed"
    },
    "tags": []
   },
   "outputs": [
    {
     "name": "stdout",
     "output_type": "stream",
     "text": [
      "<class 'pandas.core.frame.DataFrame'>\n",
      "RangeIndex: 10616 entries, 0 to 10615\n",
      "Data columns (total 5 columns):\n",
      " #   Column              Non-Null Count  Dtype  \n",
      "---  ------              --------------  -----  \n",
      " 0   Customer            10616 non-null  int64  \n",
      " 1   Overall Experiance  10198 non-null  float64\n",
      " 2   Quality Of Food     10364 non-null  float64\n",
      " 3   Speed Of Delivery   10377 non-null  float64\n",
      " 4   Order Accuracy      9956 non-null   object \n",
      "dtypes: float64(3), int64(1), object(1)\n",
      "memory usage: 414.8+ KB\n"
     ]
    }
   ],
   "source": [
    "val.info()"
   ]
  },
  {
   "cell_type": "code",
   "execution_count": 6,
   "id": "1a3d4bd3",
   "metadata": {
    "execution": {
     "iopub.execute_input": "2024-01-14T17:23:34.812777Z",
     "iopub.status.busy": "2024-01-14T17:23:34.812125Z",
     "iopub.status.idle": "2024-01-14T17:23:34.820521Z",
     "shell.execute_reply": "2024-01-14T17:23:34.819433Z"
    },
    "id": "Tp_vYqEVW4AF",
    "papermill": {
     "duration": 0.018135,
     "end_time": "2024-01-14T17:23:34.823049",
     "exception": false,
     "start_time": "2024-01-14T17:23:34.804914",
     "status": "completed"
    },
    "tags": []
   },
   "outputs": [],
   "source": [
    "val.dropna(inplace=True)"
   ]
  },
  {
   "cell_type": "code",
   "execution_count": 7,
   "id": "dfa920f2",
   "metadata": {
    "execution": {
     "iopub.execute_input": "2024-01-14T17:23:34.836217Z",
     "iopub.status.busy": "2024-01-14T17:23:34.835815Z",
     "iopub.status.idle": "2024-01-14T17:23:34.864352Z",
     "shell.execute_reply": "2024-01-14T17:23:34.863251Z"
    },
    "id": "rmf0OLxvXD5L",
    "outputId": "795cea49-0798-4dd6-9191-bc961b12cc73",
    "papermill": {
     "duration": 0.037999,
     "end_time": "2024-01-14T17:23:34.866705",
     "exception": false,
     "start_time": "2024-01-14T17:23:34.828706",
     "status": "completed"
    },
    "tags": []
   },
   "outputs": [
    {
     "data": {
      "text/html": [
       "<div>\n",
       "<style scoped>\n",
       "    .dataframe tbody tr th:only-of-type {\n",
       "        vertical-align: middle;\n",
       "    }\n",
       "\n",
       "    .dataframe tbody tr th {\n",
       "        vertical-align: top;\n",
       "    }\n",
       "\n",
       "    .dataframe thead th {\n",
       "        text-align: right;\n",
       "    }\n",
       "</style>\n",
       "<table border=\"1\" class=\"dataframe\">\n",
       "  <thead>\n",
       "    <tr style=\"text-align: right;\">\n",
       "      <th></th>\n",
       "      <th>Customer</th>\n",
       "      <th>Overall Experiance</th>\n",
       "      <th>Quality Of Food</th>\n",
       "      <th>Speed Of Delivery</th>\n",
       "    </tr>\n",
       "  </thead>\n",
       "  <tbody>\n",
       "    <tr>\n",
       "      <th>count</th>\n",
       "      <td>9297.00000</td>\n",
       "      <td>9297.000000</td>\n",
       "      <td>9297.000000</td>\n",
       "      <td>9297.000000</td>\n",
       "    </tr>\n",
       "    <tr>\n",
       "      <th>mean</th>\n",
       "      <td>5332.15747</td>\n",
       "      <td>3.321609</td>\n",
       "      <td>3.335054</td>\n",
       "      <td>3.322792</td>\n",
       "    </tr>\n",
       "    <tr>\n",
       "      <th>std</th>\n",
       "      <td>3112.18162</td>\n",
       "      <td>1.423554</td>\n",
       "      <td>1.413883</td>\n",
       "      <td>1.407286</td>\n",
       "    </tr>\n",
       "    <tr>\n",
       "      <th>min</th>\n",
       "      <td>1.00000</td>\n",
       "      <td>1.000000</td>\n",
       "      <td>1.000000</td>\n",
       "      <td>1.000000</td>\n",
       "    </tr>\n",
       "    <tr>\n",
       "      <th>25%</th>\n",
       "      <td>2719.00000</td>\n",
       "      <td>2.000000</td>\n",
       "      <td>2.000000</td>\n",
       "      <td>2.000000</td>\n",
       "    </tr>\n",
       "    <tr>\n",
       "      <th>50%</th>\n",
       "      <td>5256.00000</td>\n",
       "      <td>3.000000</td>\n",
       "      <td>3.000000</td>\n",
       "      <td>3.000000</td>\n",
       "    </tr>\n",
       "    <tr>\n",
       "      <th>75%</th>\n",
       "      <td>8145.00000</td>\n",
       "      <td>5.000000</td>\n",
       "      <td>5.000000</td>\n",
       "      <td>5.000000</td>\n",
       "    </tr>\n",
       "    <tr>\n",
       "      <th>max</th>\n",
       "      <td>10616.00000</td>\n",
       "      <td>5.000000</td>\n",
       "      <td>5.000000</td>\n",
       "      <td>5.000000</td>\n",
       "    </tr>\n",
       "  </tbody>\n",
       "</table>\n",
       "</div>"
      ],
      "text/plain": [
       "          Customer  Overall Experiance  Quality Of Food  Speed Of Delivery\n",
       "count   9297.00000         9297.000000      9297.000000        9297.000000\n",
       "mean    5332.15747            3.321609         3.335054           3.322792\n",
       "std     3112.18162            1.423554         1.413883           1.407286\n",
       "min        1.00000            1.000000         1.000000           1.000000\n",
       "25%     2719.00000            2.000000         2.000000           2.000000\n",
       "50%     5256.00000            3.000000         3.000000           3.000000\n",
       "75%     8145.00000            5.000000         5.000000           5.000000\n",
       "max    10616.00000            5.000000         5.000000           5.000000"
      ]
     },
     "execution_count": 7,
     "metadata": {},
     "output_type": "execute_result"
    }
   ],
   "source": [
    "val.describe()"
   ]
  },
  {
   "cell_type": "code",
   "execution_count": 8,
   "id": "9f6e5edc",
   "metadata": {
    "execution": {
     "iopub.execute_input": "2024-01-14T17:23:34.880353Z",
     "iopub.status.busy": "2024-01-14T17:23:34.879906Z",
     "iopub.status.idle": "2024-01-14T17:23:34.885382Z",
     "shell.execute_reply": "2024-01-14T17:23:34.884202Z"
    },
    "id": "DYImPgXXXdSg",
    "papermill": {
     "duration": 0.015122,
     "end_time": "2024-01-14T17:23:34.887705",
     "exception": false,
     "start_time": "2024-01-14T17:23:34.872583",
     "status": "completed"
    },
    "tags": []
   },
   "outputs": [],
   "source": [
    "color_list = [\n",
    "    \"#FF0000\",  # Red\n",
    "    \"#00FF00\",  # Green\n",
    "    \"#0000FF\",  # Blue\n",
    "    \"#FFFF00\",  # Yellow\n",
    "    \"#FF00FF\",  # Magenta\n",
    "    \"#00FFFF\",  # Cyan\n",
    "    \"#800080\",  # Purple\n",
    "    \"#FFA500\",  # Orange\n",
    "    \"#008000\",  # Dark Green\n",
    "    \"#000000\",  # Black\n",
    "    \"#FFFFFF\"   # White\n",
    "    # Add more color codes as needed\n",
    "]\n"
   ]
  },
  {
   "cell_type": "markdown",
   "id": "fcce6117",
   "metadata": {
    "papermill": {
     "duration": 0.00552,
     "end_time": "2024-01-14T17:23:34.899355",
     "exception": false,
     "start_time": "2024-01-14T17:23:34.893835",
     "status": "completed"
    },
    "tags": []
   },
   "source": [
    "<div style=\"background-color: #0f0f0f; padding: 20px; border-radius: 10px; box-shadow: 5px 5px 10px #888888;\">\n",
    "<h1 style=\"color: white; font-size: 30px; font-weight: bold; text-align: center; text-shadow: 2px 2px 4px #000000;\">Order Accuracy</h1>\n",
    "</div>"
   ]
  },
  {
   "cell_type": "code",
   "execution_count": 9,
   "id": "71d27609",
   "metadata": {
    "execution": {
     "iopub.execute_input": "2024-01-14T17:23:34.912778Z",
     "iopub.status.busy": "2024-01-14T17:23:34.912380Z",
     "iopub.status.idle": "2024-01-14T17:23:35.173240Z",
     "shell.execute_reply": "2024-01-14T17:23:35.172014Z"
    },
    "id": "imeo_9UPYGaE",
    "outputId": "00cf35ed-d5cb-466c-fc5d-8f5e7c4d1dd4",
    "papermill": {
     "duration": 0.271232,
     "end_time": "2024-01-14T17:23:35.176452",
     "exception": false,
     "start_time": "2024-01-14T17:23:34.905220",
     "status": "completed"
    },
    "tags": []
   },
   "outputs": [
    {
     "data": {
      "text/plain": [
       "Text(0.5, 1.0, 'Order Accuracy')"
      ]
     },
     "execution_count": 9,
     "metadata": {},
     "output_type": "execute_result"
    },
    {
     "data": {
      "image/png": "[encoded data removed]",
      "text/plain": [
       "<Figure size 640x480 with 1 Axes>"
      ]
     },
     "metadata": {},
     "output_type": "display_data"
    }
   ],
   "source": [
    "data1=val[\"Order Accuracy\"].value_counts()\n",
    "plt.pie(data1,labels=['Correct','Wrong'],autopct=\"%1.2f%%\",explode=(0.1,0),colors=color_list[5:7])\n",
    "plt.axis('equal')\n",
    "plt.title('Order Accuracy')"
   ]
  },
  {
   "cell_type": "markdown",
   "id": "75efbd39",
   "metadata": {
    "papermill": {
     "duration": 0.010803,
     "end_time": "2024-01-14T17:23:35.197815",
     "exception": false,
     "start_time": "2024-01-14T17:23:35.187012",
     "status": "completed"
    },
    "tags": []
   },
   "source": [
    "\n",
    "<div style=\"background-color: #0f0f0f; padding: 20px; border-radius: 10px; box-shadow: 5px 5px 10px #888888;\">\n",
    "<h1 style=\"color: white; font-size: 30px; font-weight: bold; text-align: center; text-shadow: 2px 2px 4px #000000;\">Overall Experiance With Quality And Speed Of Delivery Of Food</h1>\n",
    "</div>"
   ]
  },
  {
   "cell_type": "code",
   "execution_count": 10,
   "id": "24f95499",
   "metadata": {
    "execution": {
     "iopub.execute_input": "2024-01-14T17:23:35.222463Z",
     "iopub.status.busy": "2024-01-14T17:23:35.221399Z",
     "iopub.status.idle": "2024-01-14T17:23:36.405925Z",
     "shell.execute_reply": "2024-01-14T17:23:36.404716Z"
    },
    "id": "329tJf8EZoso",
    "outputId": "b4b3dfca-6cff-42e8-cf61-881bf6f0f694",
    "papermill": {
     "duration": 1.200367,
     "end_time": "2024-01-14T17:23:36.408710",
     "exception": false,
     "start_time": "2024-01-14T17:23:35.208343",
     "status": "completed"
    },
    "tags": []
   },
   "outputs": [
    {
     "data": {
      "text/plain": [
       "Text(0.5, 1.0, 'Overall Experiance With Quality And Speed Of Delivery Of Food')"
      ]
     },
     "execution_count": 10,
     "metadata": {},
     "output_type": "execute_result"
    },
    {
     "data": {
      "image/png": "[encoded data removed]",
      "text/plain": [
       "<Figure size 640x480 with 1 Axes>"
      ]
     },
     "metadata": {},
     "output_type": "display_data"
    }
   ],
   "source": [
    "sb.barplot(data=val,x='Overall Experiance',y='Quality Of Food',hue='Speed Of Delivery',palette='hsv')\n",
    "plt.ylabel('Quality Of Food')\n",
    "plt.title('Overall Experiance With Quality And Speed Of Delivery Of Food')"
   ]
  },
  {
   "cell_type": "markdown",
   "id": "dd8f3e73",
   "metadata": {
    "id": "DDQKMZvweAtu",
    "papermill": {
     "duration": 0.006714,
     "end_time": "2024-01-14T17:23:36.422474",
     "exception": false,
     "start_time": "2024-01-14T17:23:36.415760",
     "status": "completed"
    },
    "tags": []
   },
   "source": [
    "<div style=\"border-radius: 10px; border: 2px solid #FFD700; padding: 15px; background-color: #000; font-size: 120%; text-align: center; color: #FFD700; box-shadow: 0 0 15px rgba(255, 215, 0, 0.7);\">\n",
    "    <p style=\"margin: 0; font-weight: bold; font-size: 150%; color: #FFD700;\">Inference!</p>\n",
    "    <p style=\"margin: 20px 0; color: #00FF00; font-weight: bold;\">High Green Bar: Better Quality and Faster Delivery</p>\n",
    "    <p style=\"margin: 0; color: #00FF00;\">Low Green Bar: Poor Quality but Faster Delivery</p>\n",
    "    <p style=\"margin: 10px 0; color: #0000FF; font-weight: bold;\">High Blue Bar: Better Quality but Slower Delivery</p>\n",
    "    <p style=\"margin: 0; color: #0000FF;\">Low Blue Bar: Poor Quality and Slow Delivery</p>\n",
    "</div>\n"
   ]
  },
  {
   "cell_type": "markdown",
   "id": "a6d61134",
   "metadata": {
    "papermill": {
     "duration": 0.006754,
     "end_time": "2024-01-14T17:23:36.436200",
     "exception": false,
     "start_time": "2024-01-14T17:23:36.429446",
     "status": "completed"
    },
    "tags": []
   },
   "source": [
    "\n",
    "\n",
    "<div style=\"background-color: #0f0f0f; padding: 20px; border-radius: 10px; box-shadow: 5px 5px 10px #888888;\">\n",
    "<h1 style=\"color: white; font-size: 30px; font-weight: bold; text-align: center; text-shadow: 2px 2px 4px #000000;\">Frequency Of Overall Experiance</h1>\n",
    "</div>"
   ]
  },
  {
   "cell_type": "code",
   "execution_count": 11,
   "id": "9a7a1380",
   "metadata": {
    "execution": {
     "iopub.execute_input": "2024-01-14T17:23:36.452628Z",
     "iopub.status.busy": "2024-01-14T17:23:36.451880Z",
     "iopub.status.idle": "2024-01-14T17:23:36.741606Z",
     "shell.execute_reply": "2024-01-14T17:23:36.740575Z"
    },
    "id": "An67nrKZelG6",
    "outputId": "409599c1-8eb6-40aa-eb5c-da2a73ac4491",
    "papermill": {
     "duration": 0.300807,
     "end_time": "2024-01-14T17:23:36.743933",
     "exception": false,
     "start_time": "2024-01-14T17:23:36.443126",
     "status": "completed"
    },
    "tags": []
   },
   "outputs": [
    {
     "data": {
      "text/plain": [
       "Text(0.5, 1.0, 'Frequency Of Overall Experiance')"
      ]
     },
     "execution_count": 11,
     "metadata": {},
     "output_type": "execute_result"
    },
    {
     "data": {
      "image/png": "[encoded data removed]",
      "text/plain": [
       "<Figure size 640x480 with 1 Axes>"
      ]
     },
     "metadata": {},
     "output_type": "display_data"
    }
   ],
   "source": [
    "sb.countplot(data=val,x='Overall Experiance')\n",
    "plt.title('Frequency Of Overall Experiance')"
   ]
  },
  {
   "cell_type": "markdown",
   "id": "9b4c90aa",
   "metadata": {
    "papermill": {
     "duration": 0.007652,
     "end_time": "2024-01-14T17:23:36.759060",
     "exception": false,
     "start_time": "2024-01-14T17:23:36.751408",
     "status": "completed"
    },
    "tags": []
   },
   "source": [
    "\n",
    "\n",
    "\n",
    "<div style=\"background-color: #0f0f0f; padding: 20px; border-radius: 10px; box-shadow: 5px 5px 10px #888888;\">\n",
    "<h1 style=\"color: white; font-size: 30px; font-weight: bold; text-align: center; text-shadow: 2px 2px 4px #000000;\">Overall Experiance With Order Accuracy</h1>\n",
    "</div>\n"
   ]
  },
  {
   "cell_type": "code",
   "execution_count": 12,
   "id": "a9275554",
   "metadata": {
    "execution": {
     "iopub.execute_input": "2024-01-14T17:23:36.776753Z",
     "iopub.status.busy": "2024-01-14T17:23:36.776131Z",
     "iopub.status.idle": "2024-01-14T17:23:37.539058Z",
     "shell.execute_reply": "2024-01-14T17:23:37.537852Z"
    },
    "id": "e56O7mghbULZ",
    "outputId": "7acfcc9a-dd61-4962-a549-acada2aa190d",
    "papermill": {
     "duration": 0.774953,
     "end_time": "2024-01-14T17:23:37.541692",
     "exception": false,
     "start_time": "2024-01-14T17:23:36.766739",
     "status": "completed"
    },
    "tags": []
   },
   "outputs": [
    {
     "data": {
      "text/plain": [
       "Text(0.5, 1.0, 'Order Accuracy with Overall Experiance')"
      ]
     },
     "execution_count": 12,
     "metadata": {},
     "output_type": "execute_result"
    },
    {
     "data": {
      "image/png": "[encoded data removed]",
      "text/plain": [
       "<Figure size 640x480 with 1 Axes>"
      ]
     },
     "metadata": {},
     "output_type": "display_data"
    }
   ],
   "source": [
    "sb.barplot(data=val,x='Overall Experiance',y='Customer',hue='Order Accuracy',palette='mako')\n",
    "plt.ylabel('Customer Count')\n",
    "plt.title(\"Order Accuracy with Overall Experiance\")"
   ]
  },
  {
   "cell_type": "markdown",
   "id": "f352c0e7",
   "metadata": {
    "papermill": {
     "duration": 0.007836,
     "end_time": "2024-01-14T17:23:37.557640",
     "exception": false,
     "start_time": "2024-01-14T17:23:37.549804",
     "status": "completed"
    },
    "tags": []
   },
   "source": [
    "<div style=\"border-radius: 10px; border: rgb(41, 128, 185) solid; padding: 15px; background-color: rgb(52, 73, 94); font-size: 100%; text-align: left; color: #ecf0f1; box-shadow: 0 0 15px rgba(41, 128, 185, 0.7);\">\n",
    "    <ul style=\"margin: 0; padding-left: 20px; list-style-type: square;\">\n",
    "        <li><strong>In all overall ratings, we observe that the percentage of order accuracy being marked as both true and false is similar. Therefore, the company needs to enhance the accuracy rate to receive positive remarks.</strong></li>\n",
    "    </ul>\n",
    "</div>\n"
   ]
  },
  {
   "cell_type": "markdown",
   "id": "1e2d271f",
   "metadata": {
    "id": "ZyoZA_BTg3hB",
    "papermill": {
     "duration": 0.007679,
     "end_time": "2024-01-14T17:23:37.573310",
     "exception": false,
     "start_time": "2024-01-14T17:23:37.565631",
     "status": "completed"
    },
    "tags": []
   },
   "source": [
    "<div style=\"border-radius: 10px; border: 2px solid #e5e4e2; padding: 15px; background-color: #333; font-size: 120%; text-align: center; color: #E5E4E2; box-shadow: 0 0 15px rgba(229, 228, 226, 0.7);\">\n",
    "    <p style=\"margin: 0; font-weight: bold; font-size: 150%; color: #E5E4E2;\">Greetings!</p>\n",
    "    <p style=\"margin: 10px 0 20px;color: #E5E4E2\">Wishing you a day filled with elegance and positivity!</p>\n",
    "    <p style=\"margin: 0;color: #E5E4E2\">Discover the sophisticated content we have prepared for you.</p>\n",
    "</div>\n"
   ]
  }
 ],
 "metadata": {
  "colab": {
   "provenance": []
  },
  "kaggle": {
   "accelerator": "none",
   "dataSources": [
    {
     "datasetId": 3871744,
     "sourceId": 6720121,
     "sourceType": "datasetVersion"
    }
   ],
   "dockerImageVersionId": 30587,
   "isGpuEnabled": false,
   "isInternetEnabled": true,
   "language": "python",
   "sourceType": "notebook"
  },
  "kernelspec": {
   "display_name": "Python 3",
   "language": "python",
   "name": "python3"
  },
  "language_info": {
   "codemirror_mode": {
    "name": "ipython",
    "version": 3
   },
   "file_extension": ".py",
   "mimetype": "text/x-python",
   "name": "python",
   "nbconvert_exporter": "python",
   "pygments_lexer": "ipython3",
   "version": "3.10.12"
  },
  "papermill": {
   "default_parameters": {},
   "duration": 9.11233,
   "end_time": "2024-01-14T17:23:38.202804",
   "environment_variables": {},
   "exception": null,
   "input_path": "__notebook__.ipynb",
   "output_path": "__notebook__.ipynb",
   "parameters": {},
   "start_time": "2024-01-14T17:23:29.090474",
   "version": "2.4.0"
  }
 },
 "nbformat": 4,
 "nbformat_minor": 5
}

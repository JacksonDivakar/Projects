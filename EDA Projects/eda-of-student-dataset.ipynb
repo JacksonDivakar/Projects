{
 "cells": [
  {
   "cell_type": "markdown",
   "id": "5e8a78e1",
   "metadata": {
    "papermill": {
     "duration": 0.00357,
     "end_time": "2024-01-14T09:27:52.933373",
     "exception": false,
     "start_time": "2024-01-14T09:27:52.929803",
     "status": "completed"
    },
    "tags": []
   },
   "source": [
    "# <p style=\"font-family:JetBrains Mono; font-weight:bold; letter-spacing: 2px; color:#4F200D; font-size:140%; text-align:center;padding: 0px; border-bottom: 3px solid #4F200D\">Importing Modules and Libraries</p>"
   ]
  },
  {
   "cell_type": "code",
   "execution_count": 1,
   "id": "e6bf33cc",
   "metadata": {
    "execution": {
     "iopub.execute_input": "2024-01-14T09:27:52.943425Z",
     "iopub.status.busy": "2024-01-14T09:27:52.942298Z",
     "iopub.status.idle": "2024-01-14T09:27:55.081839Z",
     "shell.execute_reply": "2024-01-14T09:27:55.080900Z"
    },
    "papermill": {
     "duration": 2.146737,
     "end_time": "2024-01-14T09:27:55.084746",
     "exception": false,
     "start_time": "2024-01-14T09:27:52.938009",
     "status": "completed"
    },
    "tags": []
   },
   "outputs": [],
   "source": [
    "import pandas as pd\n",
    "import numpy as np\n",
    "import seaborn as sb\n",
    "import matplotlib.pyplot as plt\n",
    "import warnings\n",
    "warnings.filterwarnings('ignore')\n",
    "from matplotlib import cm\n",
    "c1=cm.get_cmap('BrBG')\n",
    "c2=cm.get_cmap('icefire')\n"
   ]
  },
  {
   "cell_type": "markdown",
   "id": "38fb1dd8",
   "metadata": {
    "papermill": {
     "duration": 0.002818,
     "end_time": "2024-01-14T09:27:55.090873",
     "exception": false,
     "start_time": "2024-01-14T09:27:55.088055",
     "status": "completed"
    },
    "tags": []
   },
   "source": [
    "# <p style=\"font-family:JetBrains Mono; font-weight:bold; letter-spacing: 2px; color:#4F200D; font-size:140%; text-align:center;padding: 0px; border-bottom: 3px solid #4F200D\">Data Loading</p>"
   ]
  },
  {
   "cell_type": "code",
   "execution_count": 2,
   "id": "72dfcf85",
   "metadata": {
    "execution": {
     "iopub.execute_input": "2024-01-14T09:27:55.099563Z",
     "iopub.status.busy": "2024-01-14T09:27:55.099064Z",
     "iopub.status.idle": "2024-01-14T09:27:55.121941Z",
     "shell.execute_reply": "2024-01-14T09:27:55.120601Z"
    },
    "papermill": {
     "duration": 0.029884,
     "end_time": "2024-01-14T09:27:55.124452",
     "exception": false,
     "start_time": "2024-01-14T09:27:55.094568",
     "status": "completed"
    },
    "tags": []
   },
   "outputs": [],
   "source": [
    "data=pd.read_csv('/kaggle/input/student-classification-dataset/student.csv')"
   ]
  },
  {
   "cell_type": "markdown",
   "id": "100c7511",
   "metadata": {
    "papermill": {
     "duration": 0.002845,
     "end_time": "2024-01-14T09:27:55.130670",
     "exception": false,
     "start_time": "2024-01-14T09:27:55.127825",
     "status": "completed"
    },
    "tags": []
   },
   "source": [
    "# <p style=\"font-family:JetBrains Mono; font-weight:bold; letter-spacing: 2px; color:#4F200D; font-size:140%; text-align:center;padding: 0px; border-bottom: 3px solid #4F200D\">Data Cleaning</p>"
   ]
  },
  {
   "cell_type": "code",
   "execution_count": 3,
   "id": "3d2723d0",
   "metadata": {
    "execution": {
     "iopub.execute_input": "2024-01-14T09:27:55.138642Z",
     "iopub.status.busy": "2024-01-14T09:27:55.137758Z",
     "iopub.status.idle": "2024-01-14T09:27:55.159470Z",
     "shell.execute_reply": "2024-01-14T09:27:55.158360Z"
    },
    "papermill": {
     "duration": 0.028028,
     "end_time": "2024-01-14T09:27:55.161733",
     "exception": false,
     "start_time": "2024-01-14T09:27:55.133705",
     "status": "completed"
    },
    "tags": []
   },
   "outputs": [],
   "source": [
    "data.drop(['Unnamed: 0','Id'],inplace=True,axis=1)"
   ]
  },
  {
   "cell_type": "code",
   "execution_count": 4,
   "id": "3434e329",
   "metadata": {
    "execution": {
     "iopub.execute_input": "2024-01-14T09:27:55.169455Z",
     "iopub.status.busy": "2024-01-14T09:27:55.169103Z",
     "iopub.status.idle": "2024-01-14T09:27:55.184658Z",
     "shell.execute_reply": "2024-01-14T09:27:55.183305Z"
    },
    "papermill": {
     "duration": 0.022095,
     "end_time": "2024-01-14T09:27:55.187133",
     "exception": false,
     "start_time": "2024-01-14T09:27:55.165038",
     "status": "completed"
    },
    "tags": []
   },
   "outputs": [
    {
     "data": {
      "text/plain": [
       "0"
      ]
     },
     "execution_count": 4,
     "metadata": {},
     "output_type": "execute_result"
    }
   ],
   "source": [
    "data.duplicated().sum()"
   ]
  },
  {
   "cell_type": "code",
   "execution_count": 5,
   "id": "6e806f4e",
   "metadata": {
    "execution": {
     "iopub.execute_input": "2024-01-14T09:27:55.195793Z",
     "iopub.status.busy": "2024-01-14T09:27:55.195181Z",
     "iopub.status.idle": "2024-01-14T09:27:55.213606Z",
     "shell.execute_reply": "2024-01-14T09:27:55.212739Z"
    },
    "papermill": {
     "duration": 0.025303,
     "end_time": "2024-01-14T09:27:55.215796",
     "exception": false,
     "start_time": "2024-01-14T09:27:55.190493",
     "status": "completed"
    },
    "tags": []
   },
   "outputs": [
    {
     "name": "stdout",
     "output_type": "stream",
     "text": [
      "<class 'pandas.core.frame.DataFrame'>\n",
      "RangeIndex: 145 entries, 0 to 144\n",
      "Data columns (total 14 columns):\n",
      " #   Column              Non-Null Count  Dtype \n",
      "---  ------              --------------  ----- \n",
      " 0   Student_Age         145 non-null    int64 \n",
      " 1   Sex                 145 non-null    object\n",
      " 2   High_School_Type    145 non-null    object\n",
      " 3   Scholarship         144 non-null    object\n",
      " 4   Additional_Work     145 non-null    object\n",
      " 5   Sports_activity     145 non-null    object\n",
      " 6   Transportation      145 non-null    object\n",
      " 7   Weekly_Study_Hours  145 non-null    int64 \n",
      " 8   Attendance          145 non-null    object\n",
      " 9   Reading             145 non-null    object\n",
      " 10  Notes               145 non-null    object\n",
      " 11  Listening_in_Class  145 non-null    object\n",
      " 12  Project_work        145 non-null    object\n",
      " 13  Grade               145 non-null    object\n",
      "dtypes: int64(2), object(12)\n",
      "memory usage: 16.0+ KB\n"
     ]
    }
   ],
   "source": [
    "data.info()"
   ]
  },
  {
   "cell_type": "markdown",
   "id": "9a6e3ac1",
   "metadata": {
    "papermill": {
     "duration": 0.003016,
     "end_time": "2024-01-14T09:27:55.222401",
     "exception": false,
     "start_time": "2024-01-14T09:27:55.219385",
     "status": "completed"
    },
    "tags": []
   },
   "source": [
    "# <p style=\"font-family:JetBrains Mono; font-weight:bold; letter-spacing: 2px; color:#4F200D; font-size:140%; text-align:center;padding: 0px; border-bottom: 3px solid #4F200D\">Data Visualization</p>"
   ]
  },
  {
   "cell_type": "markdown",
   "id": "c2b355d3",
   "metadata": {
    "papermill": {
     "duration": 0.002906,
     "end_time": "2024-01-14T09:27:55.228471",
     "exception": false,
     "start_time": "2024-01-14T09:27:55.225565",
     "status": "completed"
    },
    "tags": []
   },
   "source": [
    "<div style=\"border-bottom: 3px solid #3498db; text-align: center; padding: 10px; box-shadow: 0 0 15px rgba(52, 152, 219, 0.7);\">\n",
    "    <p style=\"font-family: 'JetBrains Mono', monospace; font-weight: bold; letter-spacing: 2px; color: #2ecc71; font-size: 140%; margin: 0; text-shadow: 0 0 10px rgba(52, 152, 219, 0.7);\">Scholarship With Age</p>\n",
    "</div>\n"
   ]
  },
  {
   "cell_type": "code",
   "execution_count": 6,
   "id": "16f87157",
   "metadata": {
    "execution": {
     "iopub.execute_input": "2024-01-14T09:27:55.236387Z",
     "iopub.status.busy": "2024-01-14T09:27:55.236042Z",
     "iopub.status.idle": "2024-01-14T09:27:55.711522Z",
     "shell.execute_reply": "2024-01-14T09:27:55.710574Z"
    },
    "papermill": {
     "duration": 0.481938,
     "end_time": "2024-01-14T09:27:55.713529",
     "exception": false,
     "start_time": "2024-01-14T09:27:55.231591",
     "status": "completed"
    },
    "tags": []
   },
   "outputs": [
    {
     "data": {
      "text/plain": [
       "Text(0.5, 1.0, 'Scholarship With Age')"
      ]
     },
     "execution_count": 6,
     "metadata": {},
     "output_type": "execute_result"
    },
    {
     "data": {
      "image/png": "[encoded data removed]",
      "text/plain": [
       "<Figure size 640x480 with 1 Axes>"
      ]
     },
     "metadata": {},
     "output_type": "display_data"
    }
   ],
   "source": [
    "newdf=data[['Student_Age','Scholarship']]\n",
    "sb.countplot(data=data,x='Scholarship',hue='Student_Age',palette='magma')\n",
    "plt.ylabel('Frequency')\n",
    "plt.title('Scholarship With Age')"
   ]
  },
  {
   "cell_type": "markdown",
   "id": "97df2a1f",
   "metadata": {
    "papermill": {
     "duration": 0.003822,
     "end_time": "2024-01-14T09:27:55.721436",
     "exception": false,
     "start_time": "2024-01-14T09:27:55.717614",
     "status": "completed"
    },
    "tags": []
   },
   "source": [
    "<div style=\"border-bottom: 3px solid #3498db; text-align: center; padding: 10px; box-shadow: 0 0 15px rgba(52, 152, 219, 0.7);\">\n",
    "    <p style=\"font-family: 'JetBrains Mono', monospace; font-weight: bold; letter-spacing: 2px; color: #2ecc71; font-size: 140%; margin: 0; text-shadow: 0 0 10px rgba(52, 152, 219, 0.7);\">Grades With Study Hours</p>\n",
    "</div>\n"
   ]
  },
  {
   "cell_type": "code",
   "execution_count": 7,
   "id": "41db5b4f",
   "metadata": {
    "execution": {
     "iopub.execute_input": "2024-01-14T09:27:55.731208Z",
     "iopub.status.busy": "2024-01-14T09:27:55.730016Z",
     "iopub.status.idle": "2024-01-14T09:27:55.903514Z",
     "shell.execute_reply": "2024-01-14T09:27:55.902772Z"
    },
    "papermill": {
     "duration": 0.180047,
     "end_time": "2024-01-14T09:27:55.905236",
     "exception": false,
     "start_time": "2024-01-14T09:27:55.725189",
     "status": "completed"
    },
    "tags": []
   },
   "outputs": [
    {
     "data": {
      "text/plain": [
       "Text(0.5, 1.0, 'Grades With Working Hours Percentage')"
      ]
     },
     "execution_count": 7,
     "metadata": {},
     "output_type": "execute_result"
    },
    {
     "data": {
      "image/png": "[encoded data removed]",
      "text/plain": [
       "<Figure size 640x480 with 1 Axes>"
      ]
     },
     "metadata": {},
     "output_type": "display_data"
    }
   ],
   "source": [
    "fig=plt.figure()\n",
    "axes=fig.add_axes([1,1,1,1])\n",
    "newdf=data[['Weekly_Study_Hours','Grade']].groupby('Grade').sum()\n",
    "colors=[c2(i) for i in np.arange(0.1,0.9,0.1)]\n",
    "wedges,texts,autotexts=axes.pie(startangle=290,x=newdf.values.flatten(),labels=newdf.index,colors=colors,autopct=\"%1.1f%%\",pctdistance=0.5)\n",
    "for i in range(len(wedges)):\n",
    "    wedges[i].set_facecolor(colors[i])\n",
    "for i in range(len(autotexts)):\n",
    "    autotexts[i].set_color('white')\n",
    "    autotexts[i].set_rotation(50)\n",
    "    autotexts[i].set_size('small')\n",
    "plt.title('Grades With Working Hours Percentage')"
   ]
  },
  {
   "cell_type": "markdown",
   "id": "a2312dde",
   "metadata": {
    "papermill": {
     "duration": 0.00394,
     "end_time": "2024-01-14T09:27:55.913634",
     "exception": false,
     "start_time": "2024-01-14T09:27:55.909694",
     "status": "completed"
    },
    "tags": []
   },
   "source": [
    "<p style=\"font-family: JetBrains Mono; font-weight: bold; letter-spacing: 2px; color: #008080; font-size: 25px; text-align: center; padding: 0px; border-bottom: 3px solid #008080;\">To be Continue.Thank u for visiting</p>\n"
   ]
  }
 ],
 "metadata": {
  "kaggle": {
   "accelerator": "none",
   "dataSources": [
    {
     "datasetId": 4097361,
     "sourceId": 7106967,
     "sourceType": "datasetVersion"
    }
   ],
   "dockerImageVersionId": 30587,
   "isGpuEnabled": false,
   "isInternetEnabled": true,
   "language": "python",
   "sourceType": "notebook"
  },
  "kernelspec": {
   "display_name": "Python 3",
   "language": "python",
   "name": "python3"
  },
  "language_info": {
   "codemirror_mode": {
    "name": "ipython",
    "version": 3
   },
   "file_extension": ".py",
   "mimetype": "text/x-python",
   "name": "python",
   "nbconvert_exporter": "python",
   "pygments_lexer": "ipython3",
   "version": "3.10.12"
  },
  "papermill": {
   "default_parameters": {},
   "duration": 6.462854,
   "end_time": "2024-01-14T09:27:56.441097",
   "environment_variables": {},
   "exception": null,
   "input_path": "__notebook__.ipynb",
   "output_path": "__notebook__.ipynb",
   "parameters": {},
   "start_time": "2024-01-14T09:27:49.978243",
   "version": "2.4.0"
  }
 },
 "nbformat": 4,
 "nbformat_minor": 5
}

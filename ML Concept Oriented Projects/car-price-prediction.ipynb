{
 "cells": [
  {
   "cell_type": "markdown",
   "id": "3f090718",
   "metadata": {
    "papermill": {
     "duration": 0.00597,
     "end_time": "2024-01-25T12:46:23.227327",
     "exception": false,
     "start_time": "2024-01-25T12:46:23.221357",
     "status": "completed"
    },
    "tags": []
   },
   "source": [
    "# <p style=\"font-family:JetBrains Mono; font-weight:bold; letter-spacing: 2px; color:#4F200D; font-size:140%; text-align:center;padding: 0px; border-bottom: 3px solid #4F200D\">Importing Libraries and Modules</p>"
   ]
  },
  {
   "cell_type": "code",
   "execution_count": 1,
   "id": "bee87aa2",
   "metadata": {
    "_cell_guid": "b1076dfc-b9ad-4769-8c92-a6c4dae69d19",
    "_uuid": "8f2839f25d086af736a60e9eeb907d3b93b6e0e5",
    "execution": {
     "iopub.execute_input": "2024-01-25T12:46:23.239558Z",
     "iopub.status.busy": "2024-01-25T12:46:23.239184Z",
     "iopub.status.idle": "2024-01-25T12:46:26.860700Z",
     "shell.execute_reply": "2024-01-25T12:46:26.859623Z"
    },
    "papermill": {
     "duration": 3.63058,
     "end_time": "2024-01-25T12:46:26.863199",
     "exception": false,
     "start_time": "2024-01-25T12:46:23.232619",
     "status": "completed"
    },
    "tags": []
   },
   "outputs": [],
   "source": [
    "import pandas as pd\n",
    "import pandas as pd\n",
    "import seaborn as sb\n",
    "import numpy as np\n",
    "import warnings\n",
    "import matplotlib.pyplot as plt\n",
    "warnings.filterwarnings('ignore')\n",
    "from sklearn.preprocessing import OneHotEncoder,StandardScaler,MinMaxScaler,LabelEncoder,PolynomialFeatures\n",
    "from sklearn.compose import make_column_selector,ColumnTransformer\n",
    "from sklearn.pipeline import Pipeline\n",
    "from sklearn.linear_model import LinearRegression\n",
    "from sklearn.ensemble import RandomForestRegressor\n",
    "from sklearn.svm import SVR\n",
    "from sklearn.tree import DecisionTreeRegressor\n",
    "from sklearn.neighbors import KNeighborsRegressor\n",
    "from sklearn.model_selection import train_test_split,cross_val_score\n",
    "from sklearn.metrics import r2_score,mean_absolute_error\n",
    "from sklearn.model_selection import GridSearchCV\n",
    "import xgboost as xgb\n",
    "from lightgbm import LGBMRegressor"
   ]
  },
  {
   "cell_type": "markdown",
   "id": "6ae49b77",
   "metadata": {
    "papermill": {
     "duration": 0.004844,
     "end_time": "2024-01-25T12:46:26.873412",
     "exception": false,
     "start_time": "2024-01-25T12:46:26.868568",
     "status": "completed"
    },
    "tags": []
   },
   "source": [
    "# <p style=\"font-family:JetBrains Mono; font-weight:bold; letter-spacing: 2px; color:#4F200D; font-size:140%; text-align:center;padding: 0px; border-bottom: 3px solid #4F200D\">Reading Dataset</p>"
   ]
  },
  {
   "cell_type": "code",
   "execution_count": 2,
   "id": "4968bca9",
   "metadata": {
    "execution": {
     "iopub.execute_input": "2024-01-25T12:46:26.887079Z",
     "iopub.status.busy": "2024-01-25T12:46:26.886677Z",
     "iopub.status.idle": "2024-01-25T12:46:26.927862Z",
     "shell.execute_reply": "2024-01-25T12:46:26.927163Z"
    },
    "papermill": {
     "duration": 0.050436,
     "end_time": "2024-01-25T12:46:26.930321",
     "exception": false,
     "start_time": "2024-01-25T12:46:26.879885",
     "status": "completed"
    },
    "tags": []
   },
   "outputs": [],
   "source": [
    "data=pd.read_csv('/kaggle/input/sample34/processes2.csv').drop('Unnamed: 0',axis=1)"
   ]
  },
  {
   "cell_type": "markdown",
   "id": "c949f31a",
   "metadata": {
    "papermill": {
     "duration": 0.004774,
     "end_time": "2024-01-25T12:46:26.940830",
     "exception": false,
     "start_time": "2024-01-25T12:46:26.936056",
     "status": "completed"
    },
    "tags": []
   },
   "source": [
    "# <p style=\"font-family:JetBrains Mono; font-weight:bold; letter-spacing: 2px; color:#4F200D; font-size:140%; text-align:center;padding: 0px; border-bottom: 3px solid #4F200D\">Machine Learning</p>"
   ]
  },
  {
   "cell_type": "code",
   "execution_count": 3,
   "id": "15c635a4",
   "metadata": {
    "execution": {
     "iopub.execute_input": "2024-01-25T12:46:26.952910Z",
     "iopub.status.busy": "2024-01-25T12:46:26.952299Z",
     "iopub.status.idle": "2024-01-25T12:46:26.957687Z",
     "shell.execute_reply": "2024-01-25T12:46:26.956316Z"
    },
    "papermill": {
     "duration": 0.013717,
     "end_time": "2024-01-25T12:46:26.959478",
     "exception": false,
     "start_time": "2024-01-25T12:46:26.945761",
     "status": "completed"
    },
    "tags": []
   },
   "outputs": [],
   "source": [
    "one=('oh',OneHotEncoder(handle_unknown='ignore',sparse=False),['name','fuel','seller_type','transmission','seats','owner','Mileage Unit','year'])\n",
    "ss=('ss',StandardScaler(),['km_driven','Mileage','Engine (CC)'])\n",
    "mm=('mm',MinMaxScaler(),['km_driven','Mileage','Engine (CC)'])"
   ]
  },
  {
   "cell_type": "code",
   "execution_count": 4,
   "id": "fc2674c4",
   "metadata": {
    "execution": {
     "iopub.execute_input": "2024-01-25T12:46:26.971357Z",
     "iopub.status.busy": "2024-01-25T12:46:26.970991Z",
     "iopub.status.idle": "2024-01-25T12:46:26.976595Z",
     "shell.execute_reply": "2024-01-25T12:46:26.975096Z"
    },
    "papermill": {
     "duration": 0.013684,
     "end_time": "2024-01-25T12:46:26.978478",
     "exception": false,
     "start_time": "2024-01-25T12:46:26.964794",
     "status": "completed"
    },
    "tags": []
   },
   "outputs": [],
   "source": [
    "trans=ColumnTransformer([one,ss,mm],remainder='passthrough')"
   ]
  },
  {
   "cell_type": "code",
   "execution_count": 5,
   "id": "da6195b5",
   "metadata": {
    "execution": {
     "iopub.execute_input": "2024-01-25T12:46:26.990720Z",
     "iopub.status.busy": "2024-01-25T12:46:26.990382Z",
     "iopub.status.idle": "2024-01-25T12:46:26.996507Z",
     "shell.execute_reply": "2024-01-25T12:46:26.995133Z"
    },
    "papermill": {
     "duration": 0.015005,
     "end_time": "2024-01-25T12:46:26.998991",
     "exception": false,
     "start_time": "2024-01-25T12:46:26.983986",
     "status": "completed"
    },
    "tags": []
   },
   "outputs": [],
   "source": [
    "x=data.drop('selling_price',axis=1)\n",
    "y=data['selling_price']"
   ]
  },
  {
   "cell_type": "code",
   "execution_count": 6,
   "id": "27ab9abf",
   "metadata": {
    "execution": {
     "iopub.execute_input": "2024-01-25T12:46:27.012624Z",
     "iopub.status.busy": "2024-01-25T12:46:27.011434Z",
     "iopub.status.idle": "2024-01-25T12:46:27.019423Z",
     "shell.execute_reply": "2024-01-25T12:46:27.018310Z"
    },
    "papermill": {
     "duration": 0.016421,
     "end_time": "2024-01-25T12:46:27.021341",
     "exception": false,
     "start_time": "2024-01-25T12:46:27.004920",
     "status": "completed"
    },
    "tags": []
   },
   "outputs": [],
   "source": [
    "xtra,xtest,ytra,ytest=train_test_split(x,y,test_size=0.2)"
   ]
  },
  {
   "cell_type": "code",
   "execution_count": 7,
   "id": "0725ed42",
   "metadata": {
    "execution": {
     "iopub.execute_input": "2024-01-25T12:46:27.033308Z",
     "iopub.status.busy": "2024-01-25T12:46:27.032875Z",
     "iopub.status.idle": "2024-01-25T12:46:27.061896Z",
     "shell.execute_reply": "2024-01-25T12:46:27.060358Z"
    },
    "papermill": {
     "duration": 0.037913,
     "end_time": "2024-01-25T12:46:27.064548",
     "exception": false,
     "start_time": "2024-01-25T12:46:27.026635",
     "status": "completed"
    },
    "tags": []
   },
   "outputs": [],
   "source": [
    "xtran=trans.fit_transform(x)"
   ]
  },
  {
   "cell_type": "code",
   "execution_count": 8,
   "id": "3b530736",
   "metadata": {
    "execution": {
     "iopub.execute_input": "2024-01-25T12:46:27.077283Z",
     "iopub.status.busy": "2024-01-25T12:46:27.076896Z",
     "iopub.status.idle": "2024-01-25T12:46:27.082769Z",
     "shell.execute_reply": "2024-01-25T12:46:27.081283Z"
    },
    "papermill": {
     "duration": 0.014761,
     "end_time": "2024-01-25T12:46:27.084916",
     "exception": false,
     "start_time": "2024-01-25T12:46:27.070155",
     "status": "completed"
    },
    "tags": []
   },
   "outputs": [],
   "source": [
    "model1=RandomForestRegressor()\n",
    "model2=LinearRegression()\n",
    "model3=SVR()\n",
    "model4=DecisionTreeRegressor()\n",
    "model5=KNeighborsRegressor()\n",
    "model6=LGBMRegressor()\n",
    "model7=xgb.XGBRegressor()"
   ]
  },
  {
   "cell_type": "code",
   "execution_count": 9,
   "id": "51069c9d",
   "metadata": {
    "execution": {
     "iopub.execute_input": "2024-01-25T12:46:27.097780Z",
     "iopub.status.busy": "2024-01-25T12:46:27.097007Z",
     "iopub.status.idle": "2024-01-25T12:46:27.105167Z",
     "shell.execute_reply": "2024-01-25T12:46:27.103545Z"
    },
    "papermill": {
     "duration": 0.017152,
     "end_time": "2024-01-25T12:46:27.107668",
     "exception": false,
     "start_time": "2024-01-25T12:46:27.090516",
     "status": "completed"
    },
    "tags": []
   },
   "outputs": [],
   "source": [
    "pi1=Pipeline(steps=[('tra',trans),('model1',model1)])\n",
    "pi2=Pipeline(steps=[('tra',trans),('model2',model2)])\n",
    "pi3=Pipeline(steps=[('tra',trans),('model3',model3)])\n",
    "pi4=Pipeline(steps=[('tra',trans),('model4',model4)])\n",
    "pi5=Pipeline(steps=[('tra',trans),('model5',model5)])\n",
    "pi6=Pipeline(steps=[('tra',trans),('model6',model6)])\n",
    "pi7=Pipeline(steps=[('tra',trans),('model7',model7)])"
   ]
  },
  {
   "cell_type": "markdown",
   "id": "204d2520",
   "metadata": {
    "papermill": {
     "duration": 0.005087,
     "end_time": "2024-01-25T12:46:27.118301",
     "exception": false,
     "start_time": "2024-01-25T12:46:27.113214",
     "status": "completed"
    },
    "tags": []
   },
   "source": [
    "# <p style=\"font-family:JetBrains Mono; font-weight:bold; letter-spacing: 2px; color:#4F200D; font-size:140%; text-align:center;padding: 0px; border-bottom: 3px solid #4F200D\">Results</p>"
   ]
  },
  {
   "cell_type": "code",
   "execution_count": 10,
   "id": "38462e7f",
   "metadata": {
    "execution": {
     "iopub.execute_input": "2024-01-25T12:46:27.130126Z",
     "iopub.status.busy": "2024-01-25T12:46:27.129712Z",
     "iopub.status.idle": "2024-01-25T12:46:31.114570Z",
     "shell.execute_reply": "2024-01-25T12:46:31.113132Z"
    },
    "papermill": {
     "duration": 3.993924,
     "end_time": "2024-01-25T12:46:31.117288",
     "exception": false,
     "start_time": "2024-01-25T12:46:27.123364",
     "status": "completed"
    },
    "tags": []
   },
   "outputs": [
    {
     "data": {
      "text/plain": [
       "0.862526938939828"
      ]
     },
     "execution_count": 10,
     "metadata": {},
     "output_type": "execute_result"
    }
   ],
   "source": [
    "cross_val_score(pi1,x,y,scoring='r2').mean()"
   ]
  },
  {
   "cell_type": "code",
   "execution_count": 11,
   "id": "4102b359",
   "metadata": {
    "execution": {
     "iopub.execute_input": "2024-01-25T12:46:31.130419Z",
     "iopub.status.busy": "2024-01-25T12:46:31.130044Z",
     "iopub.status.idle": "2024-01-25T12:46:31.353551Z",
     "shell.execute_reply": "2024-01-25T12:46:31.352772Z"
    },
    "papermill": {
     "duration": 0.232697,
     "end_time": "2024-01-25T12:46:31.355594",
     "exception": false,
     "start_time": "2024-01-25T12:46:31.122897",
     "status": "completed"
    },
    "tags": []
   },
   "outputs": [
    {
     "data": {
      "text/plain": [
       "array([0.8169062 , 0.79325371, 0.83060973, 0.84445932, 0.81583581])"
      ]
     },
     "execution_count": 11,
     "metadata": {},
     "output_type": "execute_result"
    }
   ],
   "source": [
    "cross_val_score(pi2,x,y,scoring='r2')"
   ]
  },
  {
   "cell_type": "code",
   "execution_count": 12,
   "id": "ec4ba6fa",
   "metadata": {
    "execution": {
     "iopub.execute_input": "2024-01-25T12:46:31.375190Z",
     "iopub.status.busy": "2024-01-25T12:46:31.374640Z",
     "iopub.status.idle": "2024-01-25T12:46:32.401551Z",
     "shell.execute_reply": "2024-01-25T12:46:32.400410Z"
    },
    "papermill": {
     "duration": 1.041915,
     "end_time": "2024-01-25T12:46:32.404345",
     "exception": false,
     "start_time": "2024-01-25T12:46:31.362430",
     "status": "completed"
    },
    "tags": []
   },
   "outputs": [
    {
     "data": {
      "text/plain": [
       "array([-0.01087002, -0.01540531, -0.07597663, -0.04040111, -0.02786389])"
      ]
     },
     "execution_count": 12,
     "metadata": {},
     "output_type": "execute_result"
    }
   ],
   "source": [
    "cross_val_score(pi3,x,y,scoring='r2')"
   ]
  },
  {
   "cell_type": "code",
   "execution_count": 13,
   "id": "6e492c3f",
   "metadata": {
    "execution": {
     "iopub.execute_input": "2024-01-25T12:46:32.418247Z",
     "iopub.status.busy": "2024-01-25T12:46:32.417862Z",
     "iopub.status.idle": "2024-01-25T12:46:32.605787Z",
     "shell.execute_reply": "2024-01-25T12:46:32.604934Z"
    },
    "papermill": {
     "duration": 0.197487,
     "end_time": "2024-01-25T12:46:32.607903",
     "exception": false,
     "start_time": "2024-01-25T12:46:32.410416",
     "status": "completed"
    },
    "tags": []
   },
   "outputs": [
    {
     "data": {
      "text/plain": [
       "array([0.71448291, 0.69793848, 0.77222369, 0.75995982, 0.75750817])"
      ]
     },
     "execution_count": 13,
     "metadata": {},
     "output_type": "execute_result"
    }
   ],
   "source": [
    "cross_val_score(pi4,x,y,scoring='r2')"
   ]
  },
  {
   "cell_type": "code",
   "execution_count": 14,
   "id": "80b4266e",
   "metadata": {
    "execution": {
     "iopub.execute_input": "2024-01-25T12:46:32.620699Z",
     "iopub.status.busy": "2024-01-25T12:46:32.620341Z",
     "iopub.status.idle": "2024-01-25T12:46:32.831374Z",
     "shell.execute_reply": "2024-01-25T12:46:32.830124Z"
    },
    "papermill": {
     "duration": 0.219983,
     "end_time": "2024-01-25T12:46:32.833558",
     "exception": false,
     "start_time": "2024-01-25T12:46:32.613575",
     "status": "completed"
    },
    "tags": []
   },
   "outputs": [
    {
     "data": {
      "text/plain": [
       "0.8373851178479527"
      ]
     },
     "execution_count": 14,
     "metadata": {},
     "output_type": "execute_result"
    }
   ],
   "source": [
    "cross_val_score(pi5,x,y,scoring='r2').mean()"
   ]
  },
  {
   "cell_type": "code",
   "execution_count": 15,
   "id": "6522aa59",
   "metadata": {
    "execution": {
     "iopub.execute_input": "2024-01-25T12:46:32.846151Z",
     "iopub.status.busy": "2024-01-25T12:46:32.845818Z",
     "iopub.status.idle": "2024-01-25T12:46:37.647696Z",
     "shell.execute_reply": "2024-01-25T12:46:37.646841Z"
    },
    "papermill": {
     "duration": 4.81023,
     "end_time": "2024-01-25T12:46:37.649460",
     "exception": false,
     "start_time": "2024-01-25T12:46:32.839230",
     "status": "completed"
    },
    "tags": []
   },
   "outputs": [
    {
     "data": {
      "text/plain": [
       "0.8807608724234008"
      ]
     },
     "execution_count": 15,
     "metadata": {},
     "output_type": "execute_result"
    }
   ],
   "source": [
    "cross_val_score(pi6,x,y,scoring='r2').mean()"
   ]
  },
  {
   "cell_type": "code",
   "execution_count": 16,
   "id": "8c6188fc",
   "metadata": {
    "execution": {
     "iopub.execute_input": "2024-01-25T12:46:37.663287Z",
     "iopub.status.busy": "2024-01-25T12:46:37.662938Z",
     "iopub.status.idle": "2024-01-25T12:46:38.626141Z",
     "shell.execute_reply": "2024-01-25T12:46:38.625182Z"
    },
    "papermill": {
     "duration": 0.973007,
     "end_time": "2024-01-25T12:46:38.628680",
     "exception": false,
     "start_time": "2024-01-25T12:46:37.655673",
     "status": "completed"
    },
    "tags": []
   },
   "outputs": [
    {
     "data": {
      "text/plain": [
       "0.876755958387327"
      ]
     },
     "execution_count": 16,
     "metadata": {},
     "output_type": "execute_result"
    }
   ],
   "source": [
    "cross_val_score(pi7,x,y,scoring='r2').mean()"
   ]
  },
  {
   "cell_type": "code",
   "execution_count": 17,
   "id": "660dd3fe",
   "metadata": {
    "execution": {
     "iopub.execute_input": "2024-01-25T12:46:38.642899Z",
     "iopub.status.busy": "2024-01-25T12:46:38.642238Z",
     "iopub.status.idle": "2024-01-25T12:46:39.946100Z",
     "shell.execute_reply": "2024-01-25T12:46:39.944753Z"
    },
    "papermill": {
     "duration": 1.313903,
     "end_time": "2024-01-25T12:46:39.948746",
     "exception": false,
     "start_time": "2024-01-25T12:46:38.634843",
     "status": "completed"
    },
    "tags": []
   },
   "outputs": [
    {
     "data": {
      "text/html": [
       "<style>#sk-container-id-1 {color: black;background-color: white;}#sk-container-id-1 pre{padding: 0;}#sk-container-id-1 div.sk-toggleable {background-color: white;}#sk-container-id-1 label.sk-toggleable__label {cursor: pointer;display: block;width: 100%;margin-bottom: 0;padding: 0.3em;box-sizing: border-box;text-align: center;}#sk-container-id-1 label.sk-toggleable__label-arrow:before {content: \"▸\";float: left;margin-right: 0.25em;color: #696969;}#sk-container-id-1 label.sk-toggleable__label-arrow:hover:before {color: black;}#sk-container-id-1 div.sk-estimator:hover label.sk-toggleable__label-arrow:before {color: black;}#sk-container-id-1 div.sk-toggleable__content {max-height: 0;max-width: 0;overflow: hidden;text-align: left;background-color: #f0f8ff;}#sk-container-id-1 div.sk-toggleable__content pre {margin: 0.2em;color: black;border-radius: 0.25em;background-color: #f0f8ff;}#sk-container-id-1 input.sk-toggleable__control:checked~div.sk-toggleable__content {max-height: 200px;max-width: 100%;overflow: auto;}#sk-container-id-1 input.sk-toggleable__control:checked~label.sk-toggleable__label-arrow:before {content: \"▾\";}#sk-container-id-1 div.sk-estimator input.sk-toggleable__control:checked~label.sk-toggleable__label {background-color: #d4ebff;}#sk-container-id-1 div.sk-label input.sk-toggleable__control:checked~label.sk-toggleable__label {background-color: #d4ebff;}#sk-container-id-1 input.sk-hidden--visually {border: 0;clip: rect(1px 1px 1px 1px);clip: rect(1px, 1px, 1px, 1px);height: 1px;margin: -1px;overflow: hidden;padding: 0;position: absolute;width: 1px;}#sk-container-id-1 div.sk-estimator {font-family: monospace;background-color: #f0f8ff;border: 1px dotted black;border-radius: 0.25em;box-sizing: border-box;margin-bottom: 0.5em;}#sk-container-id-1 div.sk-estimator:hover {background-color: #d4ebff;}#sk-container-id-1 div.sk-parallel-item::after {content: \"\";width: 100%;border-bottom: 1px solid gray;flex-grow: 1;}#sk-container-id-1 div.sk-label:hover label.sk-toggleable__label {background-color: #d4ebff;}#sk-container-id-1 div.sk-serial::before {content: \"\";position: absolute;border-left: 1px solid gray;box-sizing: border-box;top: 0;bottom: 0;left: 50%;z-index: 0;}#sk-container-id-1 div.sk-serial {display: flex;flex-direction: column;align-items: center;background-color: white;padding-right: 0.2em;padding-left: 0.2em;position: relative;}#sk-container-id-1 div.sk-item {position: relative;z-index: 1;}#sk-container-id-1 div.sk-parallel {display: flex;align-items: stretch;justify-content: center;background-color: white;position: relative;}#sk-container-id-1 div.sk-item::before, #sk-container-id-1 div.sk-parallel-item::before {content: \"\";position: absolute;border-left: 1px solid gray;box-sizing: border-box;top: 0;bottom: 0;left: 50%;z-index: -1;}#sk-container-id-1 div.sk-parallel-item {display: flex;flex-direction: column;z-index: 1;position: relative;background-color: white;}#sk-container-id-1 div.sk-parallel-item:first-child::after {align-self: flex-end;width: 50%;}#sk-container-id-1 div.sk-parallel-item:last-child::after {align-self: flex-start;width: 50%;}#sk-container-id-1 div.sk-parallel-item:only-child::after {width: 0;}#sk-container-id-1 div.sk-dashed-wrapped {border: 1px dashed gray;margin: 0 0.4em 0.5em 0.4em;box-sizing: border-box;padding-bottom: 0.4em;background-color: white;}#sk-container-id-1 div.sk-label label {font-family: monospace;font-weight: bold;display: inline-block;line-height: 1.2em;}#sk-container-id-1 div.sk-label-container {text-align: center;}#sk-container-id-1 div.sk-container {/* jupyter's `normalize.less` sets `[hidden] { display: none; }` but bootstrap.min.css set `[hidden] { display: none !important; }` so we also need the `!important` here to be able to override the default hidden behavior on the sphinx rendered scikit-learn.org. See: https://github.com/scikit-learn/scikit-learn/issues/21755 */display: inline-block !important;position: relative;}#sk-container-id-1 div.sk-text-repr-fallback {display: none;}</style><div id=\"sk-container-id-1\" class=\"sk-top-container\"><div class=\"sk-text-repr-fallback\"><pre>Pipeline(steps=[(&#x27;tra&#x27;,\n",
       "                 ColumnTransformer(remainder=&#x27;passthrough&#x27;,\n",
       "                                   transformers=[(&#x27;oh&#x27;,\n",
       "                                                  OneHotEncoder(handle_unknown=&#x27;ignore&#x27;,\n",
       "                                                                sparse=False),\n",
       "                                                  [&#x27;name&#x27;, &#x27;fuel&#x27;,\n",
       "                                                   &#x27;seller_type&#x27;,\n",
       "                                                   &#x27;transmission&#x27;, &#x27;seats&#x27;,\n",
       "                                                   &#x27;owner&#x27;, &#x27;Mileage Unit&#x27;,\n",
       "                                                   &#x27;year&#x27;]),\n",
       "                                                 (&#x27;ss&#x27;, StandardScaler(),\n",
       "                                                  [&#x27;km_driven&#x27;, &#x27;Mileage&#x27;,\n",
       "                                                   &#x27;Engine (CC)&#x27;]),\n",
       "                                                 (&#x27;mm&#x27;, MinMaxScaler(),\n",
       "                                                  [&#x27;km_driven&#x27;, &#x27;Mileage&#x27;,\n",
       "                                                   &#x27;Engine (CC)&#x27;])])),\n",
       "                (&#x27;model6&#x27;, LGBMRegressor())])</pre><b>In a Jupyter environment, please rerun this cell to show the HTML representation or trust the notebook. <br />On GitHub, the HTML representation is unable to render, please try loading this page with nbviewer.org.</b></div><div class=\"sk-container\" hidden><div class=\"sk-item sk-dashed-wrapped\"><div class=\"sk-label-container\"><div class=\"sk-label sk-toggleable\"><input class=\"sk-toggleable__control sk-hidden--visually\" id=\"sk-estimator-id-1\" type=\"checkbox\" ><label for=\"sk-estimator-id-1\" class=\"sk-toggleable__label sk-toggleable__label-arrow\">Pipeline</label><div class=\"sk-toggleable__content\"><pre>Pipeline(steps=[(&#x27;tra&#x27;,\n",
       "                 ColumnTransformer(remainder=&#x27;passthrough&#x27;,\n",
       "                                   transformers=[(&#x27;oh&#x27;,\n",
       "                                                  OneHotEncoder(handle_unknown=&#x27;ignore&#x27;,\n",
       "                                                                sparse=False),\n",
       "                                                  [&#x27;name&#x27;, &#x27;fuel&#x27;,\n",
       "                                                   &#x27;seller_type&#x27;,\n",
       "                                                   &#x27;transmission&#x27;, &#x27;seats&#x27;,\n",
       "                                                   &#x27;owner&#x27;, &#x27;Mileage Unit&#x27;,\n",
       "                                                   &#x27;year&#x27;]),\n",
       "                                                 (&#x27;ss&#x27;, StandardScaler(),\n",
       "                                                  [&#x27;km_driven&#x27;, &#x27;Mileage&#x27;,\n",
       "                                                   &#x27;Engine (CC)&#x27;]),\n",
       "                                                 (&#x27;mm&#x27;, MinMaxScaler(),\n",
       "                                                  [&#x27;km_driven&#x27;, &#x27;Mileage&#x27;,\n",
       "                                                   &#x27;Engine (CC)&#x27;])])),\n",
       "                (&#x27;model6&#x27;, LGBMRegressor())])</pre></div></div></div><div class=\"sk-serial\"><div class=\"sk-item sk-dashed-wrapped\"><div class=\"sk-label-container\"><div class=\"sk-label sk-toggleable\"><input class=\"sk-toggleable__control sk-hidden--visually\" id=\"sk-estimator-id-2\" type=\"checkbox\" ><label for=\"sk-estimator-id-2\" class=\"sk-toggleable__label sk-toggleable__label-arrow\">tra: ColumnTransformer</label><div class=\"sk-toggleable__content\"><pre>ColumnTransformer(remainder=&#x27;passthrough&#x27;,\n",
       "                  transformers=[(&#x27;oh&#x27;,\n",
       "                                 OneHotEncoder(handle_unknown=&#x27;ignore&#x27;,\n",
       "                                               sparse=False),\n",
       "                                 [&#x27;name&#x27;, &#x27;fuel&#x27;, &#x27;seller_type&#x27;, &#x27;transmission&#x27;,\n",
       "                                  &#x27;seats&#x27;, &#x27;owner&#x27;, &#x27;Mileage Unit&#x27;, &#x27;year&#x27;]),\n",
       "                                (&#x27;ss&#x27;, StandardScaler(),\n",
       "                                 [&#x27;km_driven&#x27;, &#x27;Mileage&#x27;, &#x27;Engine (CC)&#x27;]),\n",
       "                                (&#x27;mm&#x27;, MinMaxScaler(),\n",
       "                                 [&#x27;km_driven&#x27;, &#x27;Mileage&#x27;, &#x27;Engine (CC)&#x27;])])</pre></div></div></div><div class=\"sk-parallel\"><div class=\"sk-parallel-item\"><div class=\"sk-item\"><div class=\"sk-label-container\"><div class=\"sk-label sk-toggleable\"><input class=\"sk-toggleable__control sk-hidden--visually\" id=\"sk-estimator-id-3\" type=\"checkbox\" ><label for=\"sk-estimator-id-3\" class=\"sk-toggleable__label sk-toggleable__label-arrow\">oh</label><div class=\"sk-toggleable__content\"><pre>[&#x27;name&#x27;, &#x27;fuel&#x27;, &#x27;seller_type&#x27;, &#x27;transmission&#x27;, &#x27;seats&#x27;, &#x27;owner&#x27;, &#x27;Mileage Unit&#x27;, &#x27;year&#x27;]</pre></div></div></div><div class=\"sk-serial\"><div class=\"sk-item\"><div class=\"sk-estimator sk-toggleable\"><input class=\"sk-toggleable__control sk-hidden--visually\" id=\"sk-estimator-id-4\" type=\"checkbox\" ><label for=\"sk-estimator-id-4\" class=\"sk-toggleable__label sk-toggleable__label-arrow\">OneHotEncoder</label><div class=\"sk-toggleable__content\"><pre>OneHotEncoder(handle_unknown=&#x27;ignore&#x27;, sparse=False)</pre></div></div></div></div></div></div><div class=\"sk-parallel-item\"><div class=\"sk-item\"><div class=\"sk-label-container\"><div class=\"sk-label sk-toggleable\"><input class=\"sk-toggleable__control sk-hidden--visually\" id=\"sk-estimator-id-5\" type=\"checkbox\" ><label for=\"sk-estimator-id-5\" class=\"sk-toggleable__label sk-toggleable__label-arrow\">ss</label><div class=\"sk-toggleable__content\"><pre>[&#x27;km_driven&#x27;, &#x27;Mileage&#x27;, &#x27;Engine (CC)&#x27;]</pre></div></div></div><div class=\"sk-serial\"><div class=\"sk-item\"><div class=\"sk-estimator sk-toggleable\"><input class=\"sk-toggleable__control sk-hidden--visually\" id=\"sk-estimator-id-6\" type=\"checkbox\" ><label for=\"sk-estimator-id-6\" class=\"sk-toggleable__label sk-toggleable__label-arrow\">StandardScaler</label><div class=\"sk-toggleable__content\"><pre>StandardScaler()</pre></div></div></div></div></div></div><div class=\"sk-parallel-item\"><div class=\"sk-item\"><div class=\"sk-label-container\"><div class=\"sk-label sk-toggleable\"><input class=\"sk-toggleable__control sk-hidden--visually\" id=\"sk-estimator-id-7\" type=\"checkbox\" ><label for=\"sk-estimator-id-7\" class=\"sk-toggleable__label sk-toggleable__label-arrow\">mm</label><div class=\"sk-toggleable__content\"><pre>[&#x27;km_driven&#x27;, &#x27;Mileage&#x27;, &#x27;Engine (CC)&#x27;]</pre></div></div></div><div class=\"sk-serial\"><div class=\"sk-item\"><div class=\"sk-estimator sk-toggleable\"><input class=\"sk-toggleable__control sk-hidden--visually\" id=\"sk-estimator-id-8\" type=\"checkbox\" ><label for=\"sk-estimator-id-8\" class=\"sk-toggleable__label sk-toggleable__label-arrow\">MinMaxScaler</label><div class=\"sk-toggleable__content\"><pre>MinMaxScaler()</pre></div></div></div></div></div></div><div class=\"sk-parallel-item\"><div class=\"sk-item\"><div class=\"sk-label-container\"><div class=\"sk-label sk-toggleable\"><input class=\"sk-toggleable__control sk-hidden--visually\" id=\"sk-estimator-id-9\" type=\"checkbox\" ><label for=\"sk-estimator-id-9\" class=\"sk-toggleable__label sk-toggleable__label-arrow\">remainder</label><div class=\"sk-toggleable__content\"><pre>[&#x27;max_power (in bph)&#x27;]</pre></div></div></div><div class=\"sk-serial\"><div class=\"sk-item\"><div class=\"sk-estimator sk-toggleable\"><input class=\"sk-toggleable__control sk-hidden--visually\" id=\"sk-estimator-id-10\" type=\"checkbox\" ><label for=\"sk-estimator-id-10\" class=\"sk-toggleable__label sk-toggleable__label-arrow\">passthrough</label><div class=\"sk-toggleable__content\"><pre>passthrough</pre></div></div></div></div></div></div></div></div><div class=\"sk-item\"><div class=\"sk-estimator sk-toggleable\"><input class=\"sk-toggleable__control sk-hidden--visually\" id=\"sk-estimator-id-11\" type=\"checkbox\" ><label for=\"sk-estimator-id-11\" class=\"sk-toggleable__label sk-toggleable__label-arrow\">LGBMRegressor</label><div class=\"sk-toggleable__content\"><pre>LGBMRegressor()</pre></div></div></div></div></div></div></div>"
      ],
      "text/plain": [
       "Pipeline(steps=[('tra',\n",
       "                 ColumnTransformer(remainder='passthrough',\n",
       "                                   transformers=[('oh',\n",
       "                                                  OneHotEncoder(handle_unknown='ignore',\n",
       "                                                                sparse=False),\n",
       "                                                  ['name', 'fuel',\n",
       "                                                   'seller_type',\n",
       "                                                   'transmission', 'seats',\n",
       "                                                   'owner', 'Mileage Unit',\n",
       "                                                   'year']),\n",
       "                                                 ('ss', StandardScaler(),\n",
       "                                                  ['km_driven', 'Mileage',\n",
       "                                                   'Engine (CC)']),\n",
       "                                                 ('mm', MinMaxScaler(),\n",
       "                                                  ['km_driven', 'Mileage',\n",
       "                                                   'Engine (CC)'])])),\n",
       "                ('model6', LGBMRegressor())])"
      ]
     },
     "execution_count": 17,
     "metadata": {},
     "output_type": "execute_result"
    }
   ],
   "source": [
    "pi6.fit(x,y)"
   ]
  },
  {
   "cell_type": "markdown",
   "id": "abf4ee5c",
   "metadata": {
    "papermill": {
     "duration": 0.005894,
     "end_time": "2024-01-25T12:46:39.960978",
     "exception": false,
     "start_time": "2024-01-25T12:46:39.955084",
     "status": "completed"
    },
    "tags": []
   },
   "source": [
    "# <p style=\"font-family:JetBrains Mono; font-weight:bold; letter-spacing: 2px; color:#4F200D; font-size:140%; text-align:center;padding: 0px; border-bottom: 3px solid #4F200D\">Model Saving</p>"
   ]
  },
  {
   "cell_type": "code",
   "execution_count": 18,
   "id": "a7fc952e",
   "metadata": {
    "execution": {
     "iopub.execute_input": "2024-01-25T12:46:39.974969Z",
     "iopub.status.busy": "2024-01-25T12:46:39.974579Z",
     "iopub.status.idle": "2024-01-25T12:46:39.985507Z",
     "shell.execute_reply": "2024-01-25T12:46:39.984292Z"
    },
    "papermill": {
     "duration": 0.021133,
     "end_time": "2024-01-25T12:46:39.988180",
     "exception": false,
     "start_time": "2024-01-25T12:46:39.967047",
     "status": "completed"
    },
    "tags": []
   },
   "outputs": [],
   "source": [
    "import pickle as pk\n",
    "pk.dump(pi6,open('/kaggle/working/model1.pkl','wb'))"
   ]
  },
  {
   "cell_type": "markdown",
   "id": "c4908da0",
   "metadata": {
    "papermill": {
     "duration": 0.007302,
     "end_time": "2024-01-25T12:46:40.002036",
     "exception": false,
     "start_time": "2024-01-25T12:46:39.994734",
     "status": "completed"
    },
    "tags": []
   },
   "source": [
    "# <p style=\"font-family:JetBrains Mono; font-weight:bold; letter-spacing: 2px; color:#4F200D; font-size:140%; text-align:center;padding: 0px; border-bottom: 3px solid #4F200D\">Model Utilization</p>"
   ]
  },
  {
   "cell_type": "code",
   "execution_count": 19,
   "id": "4c9e1702",
   "metadata": {
    "_kg_hide-output": true,
    "execution": {
     "iopub.execute_input": "2024-01-25T12:46:40.018760Z",
     "iopub.status.busy": "2024-01-25T12:46:40.018414Z",
     "iopub.status.idle": "2024-01-25T12:46:40.027583Z",
     "shell.execute_reply": "2024-01-25T12:46:40.025841Z"
    },
    "papermill": {
     "duration": 0.020551,
     "end_time": "2024-01-25T12:46:40.030359",
     "exception": false,
     "start_time": "2024-01-25T12:46:40.009808",
     "status": "completed"
    },
    "tags": []
   },
   "outputs": [
    {
     "data": {
      "text/plain": [
       "'import pickle as pk\\nimport pandas as pd\\nfrom lightgbm import LGBMRegressor\\n\\nmodel = pk.load(open(\\'/kaggle/working/model1.pkl\\', \\'rb\\'))\\n\\ndef predict_price():\\n    # Predefined choices for certain inputs\\n    available_brands = [\\'Maruti\\', \\'Hyundai\\', \\'Toyota\\', \\'Ford\\', \\'Mahindra\\', \\'Tata\\', \\'Volkswagen\\', \\'Renault\\', \\'Chevrolet\\', \\'Honda\\']\\n    available_fuels = [\\'Diesel\\', \\'Petrol\\', \\'CNG\\', \\'LPG\\']\\n    available_seller_types = [\\'Individual\\', \\'Dealer\\', \\'Trustmark Dealer\\']\\n    available_transmissions = [\\'Manual\\', \\'Automatic\\']\\n    available_owners = [\\'First Owner\\', \\'Second Owner\\', \\'Third Owner\\', \\'Fourth & Above Owner\\', \\'Test Drive Car\\']\\n    available_mileage_units = [\\'kmpl\\', \\'km/kg\\']\\n\\n    # Get user input for car details\\n    name = input(f\"Enter the car name {available_brands}: \")\\n    year = int(input(\"Enter the manufacturing year (e.g., 2014): \"))\\n    km_driven = int(input(\"Enter the kilometers driven (range 1000 to 270000): \"))\\n    fuel = input(f\"Enter the fuel type {available_fuels}: \")\\n    seller_type = input(f\"Enter the seller type {available_seller_types}: \")\\n    transmission = input(f\"Enter the transmission type {available_transmissions}: \")\\n    owner = input(f\"Enter the owner type {available_owners}: \")\\n    seats = int(input(\"Enter the number of seats (e.g., 5): \"))\\n    mileage_unit = input(f\"Enter the mileage unit {available_mileage_units}: \")\\n    mileage = float(input(\"Enter the mileage (range 19.60 to 25.59): \"))\\n    engine_cc = int(input(\"Enter the Engine CC (range 624 to 1598): \"))\\n\\n    # Assuming you have the necessary data processing and feature engineering steps here\\n    # Create a DataFrame with the input data\\n    data = pd.DataFrame({\\n        \\'name\\': [name],\\n        \\'year\\': [year],\\n        \\'km_driven\\': [km_driven],\\n        \\'fuel\\': [fuel],\\n        \\'seller_type\\': [seller_type],\\n        \\'transmission\\': [transmission],\\n        \\'owner\\': [owner],\\n        \\'seats\\': [seats],\\n        \\'Mileage Unit\\': [mileage_unit],\\n        \\'Mileage\\': [mileage],\\n        \\'Engine (CC)\\': [engine_cc],\\n        \\'max_power (in bph)\\': [0]  # Add a placeholder value for the missing column\\n    })\\n\\n    # Assuming you have the necessary preprocessing steps like encoding categorical variables\\n\\n    # Make predictions using the loaded model\\n    predicted_price = model.predict(data)\\n\\n    # Return only the predicted output\\n    return predicted_price[0]\\n\\n# Example usage:\\nresult = predict_price()\\nprint(result)'"
      ]
     },
     "execution_count": 19,
     "metadata": {},
     "output_type": "execute_result"
    }
   ],
   "source": [
    "\"\"\"import pickle as pk\n",
    "import pandas as pd\n",
    "from lightgbm import LGBMRegressor\n",
    "\n",
    "model = pk.load(open('/kaggle/working/model1.pkl', 'rb'))\n",
    "\n",
    "def predict_price():\n",
    "    # Predefined choices for certain inputs\n",
    "    available_brands = ['Maruti', 'Hyundai', 'Toyota', 'Ford', 'Mahindra', 'Tata', 'Volkswagen', 'Renault', 'Chevrolet', 'Honda']\n",
    "    available_fuels = ['Diesel', 'Petrol', 'CNG', 'LPG']\n",
    "    available_seller_types = ['Individual', 'Dealer', 'Trustmark Dealer']\n",
    "    available_transmissions = ['Manual', 'Automatic']\n",
    "    available_owners = ['First Owner', 'Second Owner', 'Third Owner', 'Fourth & Above Owner', 'Test Drive Car']\n",
    "    available_mileage_units = ['kmpl', 'km/kg']\n",
    "\n",
    "    # Get user input for car details\n",
    "    name = input(f\"Enter the car name {available_brands}: \")\n",
    "    year = int(input(\"Enter the manufacturing year (e.g., 2014): \"))\n",
    "    km_driven = int(input(\"Enter the kilometers driven (range 1000 to 270000): \"))\n",
    "    fuel = input(f\"Enter the fuel type {available_fuels}: \")\n",
    "    seller_type = input(f\"Enter the seller type {available_seller_types}: \")\n",
    "    transmission = input(f\"Enter the transmission type {available_transmissions}: \")\n",
    "    owner = input(f\"Enter the owner type {available_owners}: \")\n",
    "    seats = int(input(\"Enter the number of seats (e.g., 5): \"))\n",
    "    mileage_unit = input(f\"Enter the mileage unit {available_mileage_units}: \")\n",
    "    mileage = float(input(\"Enter the mileage (range 19.60 to 25.59): \"))\n",
    "    engine_cc = int(input(\"Enter the Engine CC (range 624 to 1598): \"))\n",
    "\n",
    "    # Assuming you have the necessary data processing and feature engineering steps here\n",
    "    # Create a DataFrame with the input data\n",
    "    data = pd.DataFrame({\n",
    "        'name': [name],\n",
    "        'year': [year],\n",
    "        'km_driven': [km_driven],\n",
    "        'fuel': [fuel],\n",
    "        'seller_type': [seller_type],\n",
    "        'transmission': [transmission],\n",
    "        'owner': [owner],\n",
    "        'seats': [seats],\n",
    "        'Mileage Unit': [mileage_unit],\n",
    "        'Mileage': [mileage],\n",
    "        'Engine (CC)': [engine_cc],\n",
    "        'max_power (in bph)': [0]  # Add a placeholder value for the missing column\n",
    "    })\n",
    "\n",
    "    # Assuming you have the necessary preprocessing steps like encoding categorical variables\n",
    "\n",
    "    # Make predictions using the loaded model\n",
    "    predicted_price = model.predict(data)\n",
    "\n",
    "    # Return only the predicted output\n",
    "    return predicted_price[0]\n",
    "\n",
    "# Example usage:\n",
    "result = predict_price()\n",
    "print(result)\"\"\"\n"
   ]
  },
  {
   "cell_type": "markdown",
   "id": "ddd45233",
   "metadata": {
    "papermill": {
     "duration": 0.006088,
     "end_time": "2024-01-25T12:46:40.043100",
     "exception": false,
     "start_time": "2024-01-25T12:46:40.037012",
     "status": "completed"
    },
    "tags": []
   },
   "source": [
    "<p style=\"font-family: JetBrains Mono; font-weight: bold; letter-spacing: 2px; color: #008080; font-size: 25px; text-align: center; padding: 0px; border-bottom: 3px solid #008080;\">Thank u for visiting</p>\n"
   ]
  }
 ],
 "metadata": {
  "kaggle": {
   "accelerator": "none",
   "dataSources": [
    {
     "datasetId": 4352882,
     "sourceId": 7478208,
     "sourceType": "datasetVersion"
    }
   ],
   "dockerImageVersionId": 30635,
   "isGpuEnabled": false,
   "isInternetEnabled": true,
   "language": "python",
   "sourceType": "notebook"
  },
  "kernelspec": {
   "display_name": "Python 3",
   "language": "python",
   "name": "python3"
  },
  "language_info": {
   "codemirror_mode": {
    "name": "ipython",
    "version": 3
   },
   "file_extension": ".py",
   "mimetype": "text/x-python",
   "name": "python",
   "nbconvert_exporter": "python",
   "pygments_lexer": "ipython3",
   "version": "3.10.12"
  },
  "papermill": {
   "default_parameters": {},
   "duration": 20.242387,
   "end_time": "2024-01-25T12:46:40.771071",
   "environment_variables": {},
   "exception": null,
   "input_path": "__notebook__.ipynb",
   "output_path": "__notebook__.ipynb",
   "parameters": {},
   "start_time": "2024-01-25T12:46:20.528684",
   "version": "2.4.0"
  }
 },
 "nbformat": 4,
 "nbformat_minor": 5
}

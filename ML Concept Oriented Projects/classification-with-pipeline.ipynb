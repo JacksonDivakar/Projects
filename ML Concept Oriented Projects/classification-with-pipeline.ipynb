{
 "cells": [
  {
   "cell_type": "markdown",
   "id": "25a85123",
   "metadata": {
    "papermill": {
     "duration": 0.011497,
     "end_time": "2024-01-29T12:40:43.648123",
     "exception": false,
     "start_time": "2024-01-29T12:40:43.636626",
     "status": "completed"
    },
    "tags": []
   },
   "source": [
    "<div style=\"border-radius: 10px; border: 2px solid #42A5F5; padding: 15px; background-color: #FFF; font-size: 120%; text-align: left; color: #42A5F5; box-shadow: 0 0 15px rgba(66, 165, 245, 0.7);\">\n",
    "    <h2 style=\"font-weight: bold; font-size: 150%; color: #42A5F5; margin-bottom: 10px;\">Welcome to Our Community!</h2>\n",
    "    <p class=\"quote\" style=\"font-style: italic; color: #42A5F5; margin: 0 0 20px;\">\"Embrace the warmth of our community and explore the incredible possibilities ahead.\"</p>\n",
    "    <ul style=\"margin: 0; padding-left: 20px; list-style-type: square;\">\n",
    "        <li>Join us on a journey of shared experiences and mutual growth.</li>\n",
    "        <li>Our community is built on collaboration, creativity, and positive vibes.</li>\n",
    "        <li>Discover a space where attention to detail is cherished, creating a high standard for excellence.</li>\n",
    "        <li>Your satisfaction is paramount, and we're here to ensure you have an amazing experience with us.</li>\n",
    "    </ul>\n",
    "</div>\n"
   ]
  },
  {
   "cell_type": "markdown",
   "id": "c296a28a",
   "metadata": {
    "papermill": {
     "duration": 0.008997,
     "end_time": "2024-01-29T12:40:43.666514",
     "exception": false,
     "start_time": "2024-01-29T12:40:43.657517",
     "status": "completed"
    },
    "tags": []
   },
   "source": [
    "# <p style=\"font-family:JetBrains Mono; font-weight:bold; letter-spacing: 2px; color:#4F200D; font-size:140%; text-align:center;padding: 0px; border-bottom: 3px solid #4F200D\">Importing Modules and Packages</p>"
   ]
  },
  {
   "cell_type": "markdown",
   "id": "71e61659",
   "metadata": {
    "papermill": {
     "duration": 0.009578,
     "end_time": "2024-01-29T12:40:43.685778",
     "exception": false,
     "start_time": "2024-01-29T12:40:43.676200",
     "status": "completed"
    },
    "tags": []
   },
   "source": [
    "![](https://th.bing.com/th/id/OIP.IKbvV3Ov89AH6AhHlHbclAHaIJ?pid=ImgDet&w=163.60000000000002&h=180&c=7)"
   ]
  },
  {
   "cell_type": "code",
   "execution_count": 1,
   "id": "9ebb61dc",
   "metadata": {
    "execution": {
     "iopub.execute_input": "2024-01-29T12:40:43.708437Z",
     "iopub.status.busy": "2024-01-29T12:40:43.707766Z",
     "iopub.status.idle": "2024-01-29T12:40:46.731282Z",
     "shell.execute_reply": "2024-01-29T12:40:46.730196Z"
    },
    "id": "BdLelNWhFg1b",
    "papermill": {
     "duration": 3.037909,
     "end_time": "2024-01-29T12:40:46.734253",
     "exception": false,
     "start_time": "2024-01-29T12:40:43.696344",
     "status": "completed"
    },
    "tags": []
   },
   "outputs": [],
   "source": [
    "import pandas as pd\n",
    "import seaborn as sb\n",
    "import matplotlib.pyplot as plt\n",
    "import numpy as np\n",
    "from sklearn.preprocessing import OneHotEncoder,LabelEncoder\n",
    "from sklearn.pipeline import Pipeline\n",
    "from sklearn.compose import ColumnTransformer\n",
    "from sklearn.ensemble import RandomForestClassifier\n",
    "from sklearn.neighbors import KNeighborsClassifier\n",
    "from sklearn.svm import SVC\n",
    "from sklearn.linear_model import LogisticRegression\n",
    "from sklearn.metrics import classification_report\n",
    "from sklearn.model_selection import train_test_split,cross_val_score\n",
    "import warnings\n",
    "warnings.filterwarnings('ignore')"
   ]
  },
  {
   "cell_type": "markdown",
   "id": "b0a561ab",
   "metadata": {
    "papermill": {
     "duration": 0.009056,
     "end_time": "2024-01-29T12:40:46.752513",
     "exception": false,
     "start_time": "2024-01-29T12:40:46.743457",
     "status": "completed"
    },
    "tags": []
   },
   "source": [
    "# <p style=\"font-family:JetBrains Mono; font-weight:bold; letter-spacing: 2px; color:#4F200D; font-size:140%; text-align:center;padding: 0px; border-bottom: 3px solid #4F200D\">Data Loading</p>"
   ]
  },
  {
   "cell_type": "code",
   "execution_count": 2,
   "id": "4c5642b3",
   "metadata": {
    "execution": {
     "iopub.execute_input": "2024-01-29T12:40:46.773267Z",
     "iopub.status.busy": "2024-01-29T12:40:46.772647Z",
     "iopub.status.idle": "2024-01-29T12:40:46.836592Z",
     "shell.execute_reply": "2024-01-29T12:40:46.835617Z"
    },
    "id": "DG0_mjAiFsVe",
    "papermill": {
     "duration": 0.077266,
     "end_time": "2024-01-29T12:40:46.839313",
     "exception": false,
     "start_time": "2024-01-29T12:40:46.762047",
     "status": "completed"
    },
    "tags": []
   },
   "outputs": [],
   "source": [
    "data=pd.read_csv('/kaggle/input/mushroom-classification/mushrooms.csv')"
   ]
  },
  {
   "cell_type": "markdown",
   "id": "5ee386a6",
   "metadata": {
    "papermill": {
     "duration": 0.010848,
     "end_time": "2024-01-29T12:40:46.860730",
     "exception": false,
     "start_time": "2024-01-29T12:40:46.849882",
     "status": "completed"
    },
    "tags": []
   },
   "source": [
    "# <p style=\"font-family:JetBrains Mono; font-weight:bold; letter-spacing: 2px; color:#4F200D; font-size:140%; text-align:center;padding: 0px; border-bottom: 3px solid #4F200D\">Data Preprocessing</p>"
   ]
  },
  {
   "cell_type": "markdown",
   "id": "7b6c6b32",
   "metadata": {
    "papermill": {
     "duration": 0.008937,
     "end_time": "2024-01-29T12:40:46.879616",
     "exception": false,
     "start_time": "2024-01-29T12:40:46.870679",
     "status": "completed"
    },
    "tags": []
   },
   "source": [
    "![](https://th.bing.com/th/id/OIP.b00Xx4l4pPMJL3YX4a21xQHaDt?pid=ImgDet&w=170.99999999999997&h=113.99999999999999&c=7)"
   ]
  },
  {
   "cell_type": "code",
   "execution_count": 3,
   "id": "8595066c",
   "metadata": {
    "execution": {
     "iopub.execute_input": "2024-01-29T12:40:46.901695Z",
     "iopub.status.busy": "2024-01-29T12:40:46.900260Z",
     "iopub.status.idle": "2024-01-29T12:40:46.948947Z",
     "shell.execute_reply": "2024-01-29T12:40:46.946951Z"
    },
    "papermill": {
     "duration": 0.063716,
     "end_time": "2024-01-29T12:40:46.952497",
     "exception": false,
     "start_time": "2024-01-29T12:40:46.888781",
     "status": "completed"
    },
    "tags": []
   },
   "outputs": [
    {
     "data": {
      "text/plain": [
       "0"
      ]
     },
     "execution_count": 3,
     "metadata": {},
     "output_type": "execute_result"
    }
   ],
   "source": [
    "data.duplicated().sum()"
   ]
  },
  {
   "cell_type": "code",
   "execution_count": 4,
   "id": "6fdb5d50",
   "metadata": {
    "execution": {
     "iopub.execute_input": "2024-01-29T12:40:46.977790Z",
     "iopub.status.busy": "2024-01-29T12:40:46.977184Z",
     "iopub.status.idle": "2024-01-29T12:40:47.025326Z",
     "shell.execute_reply": "2024-01-29T12:40:47.023682Z"
    },
    "papermill": {
     "duration": 0.064973,
     "end_time": "2024-01-29T12:40:47.028078",
     "exception": false,
     "start_time": "2024-01-29T12:40:46.963105",
     "status": "completed"
    },
    "tags": []
   },
   "outputs": [
    {
     "name": "stdout",
     "output_type": "stream",
     "text": [
      "<class 'pandas.core.frame.DataFrame'>\n",
      "RangeIndex: 8124 entries, 0 to 8123\n",
      "Data columns (total 23 columns):\n",
      " #   Column                    Non-Null Count  Dtype \n",
      "---  ------                    --------------  ----- \n",
      " 0   class                     8124 non-null   object\n",
      " 1   cap-shape                 8124 non-null   object\n",
      " 2   cap-surface               8124 non-null   object\n",
      " 3   cap-color                 8124 non-null   object\n",
      " 4   bruises                   8124 non-null   object\n",
      " 5   odor                      8124 non-null   object\n",
      " 6   gill-attachment           8124 non-null   object\n",
      " 7   gill-spacing              8124 non-null   object\n",
      " 8   gill-size                 8124 non-null   object\n",
      " 9   gill-color                8124 non-null   object\n",
      " 10  stalk-shape               8124 non-null   object\n",
      " 11  stalk-root                8124 non-null   object\n",
      " 12  stalk-surface-above-ring  8124 non-null   object\n",
      " 13  stalk-surface-below-ring  8124 non-null   object\n",
      " 14  stalk-color-above-ring    8124 non-null   object\n",
      " 15  stalk-color-below-ring    8124 non-null   object\n",
      " 16  veil-type                 8124 non-null   object\n",
      " 17  veil-color                8124 non-null   object\n",
      " 18  ring-number               8124 non-null   object\n",
      " 19  ring-type                 8124 non-null   object\n",
      " 20  spore-print-color         8124 non-null   object\n",
      " 21  population                8124 non-null   object\n",
      " 22  habitat                   8124 non-null   object\n",
      "dtypes: object(23)\n",
      "memory usage: 1.4+ MB\n"
     ]
    }
   ],
   "source": [
    "data.info()"
   ]
  },
  {
   "cell_type": "markdown",
   "id": "f26092be",
   "metadata": {
    "papermill": {
     "duration": 0.009428,
     "end_time": "2024-01-29T12:40:47.047207",
     "exception": false,
     "start_time": "2024-01-29T12:40:47.037779",
     "status": "completed"
    },
    "tags": []
   },
   "source": [
    "# <p style=\"font-family:JetBrains Mono; font-weight:bold; letter-spacing: 2px; color:#4F200D; font-size:140%; text-align:center;padding: 0px; border-bottom: 3px solid #4F200D\">Machine Learning</p>"
   ]
  },
  {
   "cell_type": "markdown",
   "id": "334325be",
   "metadata": {
    "papermill": {
     "duration": 0.010509,
     "end_time": "2024-01-29T12:40:47.068182",
     "exception": false,
     "start_time": "2024-01-29T12:40:47.057673",
     "status": "completed"
    },
    "tags": []
   },
   "source": [
    "<div style=\"border: 2px solid #3498db; border-radius: 5px; padding: 10px; text-align: center; box-shadow: 0 0 15px rgba(52, 152, 219, 0.7);\">\n",
    "    <p style=\"font-family: 'JetBrains Mono', monospace; font-weight: bold; letter-spacing: 2px; color: #2c3e50; font-size: 140%; text-shadow: 0 0 10px rgba(52, 152, 219, 0.7); margin: 0;\">Constructing Encoders For Data</p>\n",
    "</div>\n"
   ]
  },
  {
   "cell_type": "code",
   "execution_count": 5,
   "id": "ffcbb709",
   "metadata": {
    "execution": {
     "iopub.execute_input": "2024-01-29T12:40:47.092184Z",
     "iopub.status.busy": "2024-01-29T12:40:47.091735Z",
     "iopub.status.idle": "2024-01-29T12:40:47.097431Z",
     "shell.execute_reply": "2024-01-29T12:40:47.096220Z"
    },
    "id": "Zh7NCt4eFu7l",
    "papermill": {
     "duration": 0.022181,
     "end_time": "2024-01-29T12:40:47.100272",
     "exception": false,
     "start_time": "2024-01-29T12:40:47.078091",
     "status": "completed"
    },
    "tags": []
   },
   "outputs": [],
   "source": [
    "one=OneHotEncoder(handle_unknown='ignore',sparse=False)"
   ]
  },
  {
   "cell_type": "code",
   "execution_count": 6,
   "id": "7fb2b348",
   "metadata": {
    "execution": {
     "iopub.execute_input": "2024-01-29T12:40:47.130732Z",
     "iopub.status.busy": "2024-01-29T12:40:47.129209Z",
     "iopub.status.idle": "2024-01-29T12:40:47.136054Z",
     "shell.execute_reply": "2024-01-29T12:40:47.134710Z"
    },
    "id": "Rd11v6kZHVLu",
    "papermill": {
     "duration": 0.027091,
     "end_time": "2024-01-29T12:40:47.140499",
     "exception": false,
     "start_time": "2024-01-29T12:40:47.113408",
     "status": "completed"
    },
    "tags": []
   },
   "outputs": [],
   "source": [
    "le=LabelEncoder()"
   ]
  },
  {
   "cell_type": "code",
   "execution_count": 7,
   "id": "8bbfb075",
   "metadata": {
    "execution": {
     "iopub.execute_input": "2024-01-29T12:40:47.173882Z",
     "iopub.status.busy": "2024-01-29T12:40:47.173379Z",
     "iopub.status.idle": "2024-01-29T12:40:47.182581Z",
     "shell.execute_reply": "2024-01-29T12:40:47.180490Z"
    },
    "id": "qX0z_3a5RGg_",
    "papermill": {
     "duration": 0.03014,
     "end_time": "2024-01-29T12:40:47.186081",
     "exception": false,
     "start_time": "2024-01-29T12:40:47.155941",
     "status": "completed"
    },
    "tags": []
   },
   "outputs": [],
   "source": [
    "y=le.fit_transform(data['class'])"
   ]
  },
  {
   "cell_type": "code",
   "execution_count": 8,
   "id": "ed3a7506",
   "metadata": {
    "execution": {
     "iopub.execute_input": "2024-01-29T12:40:47.213253Z",
     "iopub.status.busy": "2024-01-29T12:40:47.212813Z",
     "iopub.status.idle": "2024-01-29T12:40:47.224993Z",
     "shell.execute_reply": "2024-01-29T12:40:47.223818Z"
    },
    "id": "bPFuzu1NHi8S",
    "papermill": {
     "duration": 0.027406,
     "end_time": "2024-01-29T12:40:47.227823",
     "exception": false,
     "start_time": "2024-01-29T12:40:47.200417",
     "status": "completed"
    },
    "tags": []
   },
   "outputs": [],
   "source": [
    "data.drop(['class'],axis=1,inplace=True)"
   ]
  },
  {
   "cell_type": "code",
   "execution_count": 9,
   "id": "03b0285d",
   "metadata": {
    "execution": {
     "iopub.execute_input": "2024-01-29T12:40:47.250436Z",
     "iopub.status.busy": "2024-01-29T12:40:47.249846Z",
     "iopub.status.idle": "2024-01-29T12:40:47.255204Z",
     "shell.execute_reply": "2024-01-29T12:40:47.253899Z"
    },
    "id": "GRZWXjLuHnQP",
    "papermill": {
     "duration": 0.020201,
     "end_time": "2024-01-29T12:40:47.257785",
     "exception": false,
     "start_time": "2024-01-29T12:40:47.237584",
     "status": "completed"
    },
    "tags": []
   },
   "outputs": [],
   "source": [
    "encode=('one',one,data.columns)"
   ]
  },
  {
   "cell_type": "markdown",
   "id": "c3462a3c",
   "metadata": {
    "papermill": {
     "duration": 0.013324,
     "end_time": "2024-01-29T12:40:47.281881",
     "exception": false,
     "start_time": "2024-01-29T12:40:47.268557",
     "status": "completed"
    },
    "tags": []
   },
   "source": [
    "<div style=\"border: 2px solid #3498db; border-radius: 5px; padding: 10px; text-align: center; box-shadow: 0 0 15px rgba(52, 152, 219, 0.7);\">\n",
    "    <p style=\"font-family: 'JetBrains Mono', monospace; font-weight: bold; letter-spacing: 2px; color: #2c3e50; font-size: 140%; text-shadow: 0 0 10px rgba(52, 152, 219, 0.7); margin: 0;\">Splitting Data</p>\n",
    "</div>\n"
   ]
  },
  {
   "cell_type": "code",
   "execution_count": 10,
   "id": "671850e0",
   "metadata": {
    "execution": {
     "iopub.execute_input": "2024-01-29T12:40:47.310833Z",
     "iopub.status.busy": "2024-01-29T12:40:47.310035Z",
     "iopub.status.idle": "2024-01-29T12:40:47.322221Z",
     "shell.execute_reply": "2024-01-29T12:40:47.321267Z"
    },
    "id": "1oovmvpxHwDt",
    "papermill": {
     "duration": 0.030515,
     "end_time": "2024-01-29T12:40:47.325281",
     "exception": false,
     "start_time": "2024-01-29T12:40:47.294766",
     "status": "completed"
    },
    "tags": []
   },
   "outputs": [],
   "source": [
    "xtra,xtest,ytra,ytest=train_test_split(data,y,test_size=0.2)"
   ]
  },
  {
   "cell_type": "code",
   "execution_count": 11,
   "id": "f2a826dc",
   "metadata": {
    "execution": {
     "iopub.execute_input": "2024-01-29T12:40:47.353334Z",
     "iopub.status.busy": "2024-01-29T12:40:47.352605Z",
     "iopub.status.idle": "2024-01-29T12:40:47.357440Z",
     "shell.execute_reply": "2024-01-29T12:40:47.356552Z"
    },
    "id": "72bFwf7hIX0Z",
    "papermill": {
     "duration": 0.021172,
     "end_time": "2024-01-29T12:40:47.359907",
     "exception": false,
     "start_time": "2024-01-29T12:40:47.338735",
     "status": "completed"
    },
    "tags": []
   },
   "outputs": [],
   "source": [
    "col=ColumnTransformer(transformers=[encode])"
   ]
  },
  {
   "cell_type": "markdown",
   "id": "cdfbc58d",
   "metadata": {
    "papermill": {
     "duration": 0.0091,
     "end_time": "2024-01-29T12:40:47.379046",
     "exception": false,
     "start_time": "2024-01-29T12:40:47.369946",
     "status": "completed"
    },
    "tags": []
   },
   "source": [
    "<div style=\"border: 2px solid #3498db; border-radius: 5px; padding: 10px; text-align: center; box-shadow: 0 0 15px rgba(52, 152, 219, 0.7);\">\n",
    "    <p style=\"font-family: 'JetBrains Mono', monospace; font-weight: bold; letter-spacing: 2px; color: #2c3e50; font-size: 140%; text-shadow: 0 0 10px rgba(52, 152, 219, 0.7); margin: 0;\">Machine Learning Models</p>\n",
    "</div>\n"
   ]
  },
  {
   "cell_type": "markdown",
   "id": "4d0dcdbd",
   "metadata": {
    "papermill": {
     "duration": 0.009385,
     "end_time": "2024-01-29T12:40:47.397755",
     "exception": false,
     "start_time": "2024-01-29T12:40:47.388370",
     "status": "completed"
    },
    "tags": []
   },
   "source": [
    "![](https://th.bing.com/th/id/OIP.3mqN_U3fv-ABeziVM1x76AHaFP?w=222&h=180&c=7&r=0&o=5&pid=1.7)"
   ]
  },
  {
   "cell_type": "code",
   "execution_count": 12,
   "id": "70e53df6",
   "metadata": {
    "execution": {
     "iopub.execute_input": "2024-01-29T12:40:47.419198Z",
     "iopub.status.busy": "2024-01-29T12:40:47.418317Z",
     "iopub.status.idle": "2024-01-29T12:40:47.423882Z",
     "shell.execute_reply": "2024-01-29T12:40:47.422503Z"
    },
    "id": "6S-YMc2yIqZJ",
    "papermill": {
     "duration": 0.019337,
     "end_time": "2024-01-29T12:40:47.426585",
     "exception": false,
     "start_time": "2024-01-29T12:40:47.407248",
     "status": "completed"
    },
    "tags": []
   },
   "outputs": [],
   "source": [
    "model1=RandomForestClassifier()\n",
    "model2=SVC()\n",
    "model3=LogisticRegression()\n",
    "model4=KNeighborsClassifier()"
   ]
  },
  {
   "cell_type": "markdown",
   "id": "b8ddee95",
   "metadata": {
    "papermill": {
     "duration": 0.009466,
     "end_time": "2024-01-29T12:40:47.446151",
     "exception": false,
     "start_time": "2024-01-29T12:40:47.436685",
     "status": "completed"
    },
    "tags": []
   },
   "source": [
    "<div style=\"border: 2px solid #3498db; border-radius: 5px; padding: 10px; text-align: center; box-shadow: 0 0 15px rgba(52, 152, 219, 0.7);\">\n",
    "    <p style=\"font-family: 'JetBrains Mono', monospace; font-weight: bold; letter-spacing: 2px; color: #2c3e50; font-size: 140%; text-shadow: 0 0 10px rgba(52, 152, 219, 0.7); margin: 0;\">Pipelining</p>\n",
    "</div>\n"
   ]
  },
  {
   "cell_type": "markdown",
   "id": "9c7f47e9",
   "metadata": {
    "papermill": {
     "duration": 0.009265,
     "end_time": "2024-01-29T12:40:47.466989",
     "exception": false,
     "start_time": "2024-01-29T12:40:47.457724",
     "status": "completed"
    },
    "tags": []
   },
   "source": [
    "![](data:image/jpeg;base64,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)"
   ]
  },
  {
   "cell_type": "code",
   "execution_count": 13,
   "id": "2bfc78b0",
   "metadata": {
    "execution": {
     "iopub.execute_input": "2024-01-29T12:40:47.488216Z",
     "iopub.status.busy": "2024-01-29T12:40:47.487698Z",
     "iopub.status.idle": "2024-01-29T12:40:47.494809Z",
     "shell.execute_reply": "2024-01-29T12:40:47.493545Z"
    },
    "id": "XrPo9JZTIRe4",
    "papermill": {
     "duration": 0.020917,
     "end_time": "2024-01-29T12:40:47.497643",
     "exception": false,
     "start_time": "2024-01-29T12:40:47.476726",
     "status": "completed"
    },
    "tags": []
   },
   "outputs": [],
   "source": [
    "pipe1=Pipeline(steps=[('col',col),('model1',model1)])\n",
    "pipe2=Pipeline(steps=[('col',col),('model2',model2)])\n",
    "pipe3=Pipeline(steps=[('col',col),('model3',model3)])\n",
    "pipe4=Pipeline(steps=[('col',col),('model4',model4)])"
   ]
  },
  {
   "cell_type": "markdown",
   "id": "f26fef5e",
   "metadata": {
    "papermill": {
     "duration": 0.010118,
     "end_time": "2024-01-29T12:40:47.518121",
     "exception": false,
     "start_time": "2024-01-29T12:40:47.508003",
     "status": "completed"
    },
    "tags": []
   },
   "source": [
    "# <p style=\"font-family:JetBrains Mono; font-weight:bold; letter-spacing: 2px; color:#4F200D; font-size:140%; text-align:center;padding: 0px; border-bottom: 3px solid #4F200D\">Results</p>"
   ]
  },
  {
   "cell_type": "markdown",
   "id": "cf2bb8ca",
   "metadata": {
    "papermill": {
     "duration": 0.009005,
     "end_time": "2024-01-29T12:40:47.536468",
     "exception": false,
     "start_time": "2024-01-29T12:40:47.527463",
     "status": "completed"
    },
    "tags": []
   },
   "source": [
    "![](https://th.bing.com/th/id/OIP.98SVxqhs0V0rIpF4WoL_sQHaFO?pid=ImgDet&w=171&h=120.13291139240506&c=7)"
   ]
  },
  {
   "cell_type": "code",
   "execution_count": 14,
   "id": "a4f1b912",
   "metadata": {
    "execution": {
     "iopub.execute_input": "2024-01-29T12:40:47.557707Z",
     "iopub.status.busy": "2024-01-29T12:40:47.557279Z",
     "iopub.status.idle": "2024-01-29T12:40:58.206718Z",
     "shell.execute_reply": "2024-01-29T12:40:58.205562Z"
    },
    "id": "o-CEGC7uJVKH",
    "outputId": "615292e6-4270-4b64-d5a6-310c6feadf55",
    "papermill": {
     "duration": 10.663711,
     "end_time": "2024-01-29T12:40:58.209593",
     "exception": false,
     "start_time": "2024-01-29T12:40:47.545882",
     "status": "completed"
    },
    "tags": []
   },
   "outputs": [
    {
     "name": "stdout",
     "output_type": "stream",
     "text": [
      "Cross_Val_Scores:\n",
      "RandomForestClassifier:0.94\n",
      "SVC:0.89\n",
      "LogisticRegression:0.92\n",
      "KNeighborsClassifier:0.93\n"
     ]
    }
   ],
   "source": [
    "print('Cross_Val_Scores:\\nRandomForestClassifier:{:.2f}\\nSVC:{:.2f}\\nLogisticRegression:{:.2f}\\nKNeighborsClassifier:{:.2f}'.format(cross_val_score(pipe1,data,y).mean(),cross_val_score(pipe2,data,y).mean(),cross_val_score(pipe3,data,y).mean(),cross_val_score(pipe4,data,y).mean()))"
   ]
  },
  {
   "cell_type": "markdown",
   "id": "8c739fa8",
   "metadata": {
    "papermill": {
     "duration": 0.009265,
     "end_time": "2024-01-29T12:40:58.228619",
     "exception": false,
     "start_time": "2024-01-29T12:40:58.219354",
     "status": "completed"
    },
    "tags": []
   },
   "source": [
    "<div style=\"border-radius: 10px; border: rgb(255, 87, 34) solid; padding: 15px; background-color: rgb(52, 73, 94); font-size: 100%; text-align: left; color: #ecf0f1; box-shadow: 0 0 15px rgba(255, 87, 34, 0.7);\">\n",
    "    <ul style=\"margin: 0; padding-left: 20px; list-style-type: square;\">\n",
    "        <li><strong>All Models Are Robust</strong></li>\n",
    "    </ul>\n",
    "</div>\n"
   ]
  },
  {
   "cell_type": "markdown",
   "id": "f4e416ae",
   "metadata": {
    "papermill": {
     "duration": 0.009164,
     "end_time": "2024-01-29T12:40:58.247316",
     "exception": false,
     "start_time": "2024-01-29T12:40:58.238152",
     "status": "completed"
    },
    "tags": []
   },
   "source": [
    "<div style=\"border-radius: 10px; border: 2px solid #f39c12; padding: 15px; background-color: #ecf0f1; font-size: 120%; text-align: center; color: #2c3e50; box-shadow: 0 0 15px rgba(243, 156, 18, 0.7);\">\n",
    "    <p style=\"margin: 0; font-weight: bold; font-size: 150%;\">Thank You!</p>\n",
    "    <p style=\"margin: 10px 0 20px;\">We hope you're having a wonderful day!</p>\n",
    "    <p style=\"margin: 0;\">Feel free to explore and enjoy our content.</p>\n",
    "</div>\n"
   ]
  }
 ],
 "metadata": {
  "colab": {
   "provenance": []
  },
  "kaggle": {
   "accelerator": "none",
   "dataSources": [
    {
     "datasetId": 478,
     "sourceId": 974,
     "sourceType": "datasetVersion"
    }
   ],
   "dockerImageVersionId": 30587,
   "isGpuEnabled": false,
   "isInternetEnabled": true,
   "language": "python",
   "sourceType": "notebook"
  },
  "kernelspec": {
   "display_name": "Python 3",
   "language": "python",
   "name": "python3"
  },
  "language_info": {
   "codemirror_mode": {
    "name": "ipython",
    "version": 3
   },
   "file_extension": ".py",
   "mimetype": "text/x-python",
   "name": "python",
   "nbconvert_exporter": "python",
   "pygments_lexer": "ipython3",
   "version": "3.10.12"
  },
  "papermill": {
   "default_parameters": {},
   "duration": 19.232997,
   "end_time": "2024-01-29T12:40:58.979503",
   "environment_variables": {},
   "exception": null,
   "input_path": "__notebook__.ipynb",
   "output_path": "__notebook__.ipynb",
   "parameters": {},
   "start_time": "2024-01-29T12:40:39.746506",
   "version": "2.4.0"
  }
 },
 "nbformat": 4,
 "nbformat_minor": 5
}

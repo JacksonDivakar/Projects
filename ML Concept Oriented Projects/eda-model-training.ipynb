{
 "cells": [
  {
   "cell_type": "markdown",
   "id": "ba913927",
   "metadata": {
    "papermill": {
     "duration": 0.015543,
     "end_time": "2024-03-03T17:10:50.719487",
     "exception": false,
     "start_time": "2024-03-03T17:10:50.703944",
     "status": "completed"
    },
    "tags": []
   },
   "source": [
    "# <p style=\"font-family:JetBrains Mono; font-weight:bold; letter-spacing: 2px; color:#4F200D; font-size:140%; text-align:center;padding: 0px; border-bottom: 3px solid #4F200D\">Importing Modules and Libraries</p>"
   ]
  },
  {
   "cell_type": "code",
   "execution_count": 1,
   "id": "130bda69",
   "metadata": {
    "_kg_hide-output": true,
    "execution": {
     "iopub.execute_input": "2024-03-03T17:10:50.752649Z",
     "iopub.status.busy": "2024-03-03T17:10:50.752280Z",
     "iopub.status.idle": "2024-03-03T17:11:06.640846Z",
     "shell.execute_reply": "2024-03-03T17:11:06.639203Z"
    },
    "papermill": {
     "duration": 15.909584,
     "end_time": "2024-03-03T17:11:06.644146",
     "exception": false,
     "start_time": "2024-03-03T17:10:50.734562",
     "status": "completed"
    },
    "tags": []
   },
   "outputs": [
    {
     "name": "stderr",
     "output_type": "stream",
     "text": [
      "2024-03-03 17:10:55.032727: E external/local_xla/xla/stream_executor/cuda/cuda_dnn.cc:9261] Unable to register cuDNN factory: Attempting to register factory for plugin cuDNN when one has already been registered\n",
      "2024-03-03 17:10:55.032845: E external/local_xla/xla/stream_executor/cuda/cuda_fft.cc:607] Unable to register cuFFT factory: Attempting to register factory for plugin cuFFT when one has already been registered\n",
      "2024-03-03 17:10:55.173570: E external/local_xla/xla/stream_executor/cuda/cuda_blas.cc:1515] Unable to register cuBLAS factory: Attempting to register factory for plugin cuBLAS when one has already been registered\n"
     ]
    }
   ],
   "source": [
    "import pandas as pd\n",
    "import numpy as np \n",
    "import matplotlib.pyplot as plt\n",
    "import seaborn as sb\n",
    "import tensorflow as tf\n",
    "from sklearn.preprocessing import OrdinalEncoder\n",
    "from sklearn.cluster import KMeans\n",
    "from sklearn.model_selection import train_test_split\n",
    "from sklearn.preprocessing import scale,StandardScaler\n",
    "from sklearn.compose import ColumnTransformer\n",
    "import warnings\n",
    "warnings.filterwarnings('ignore')\n",
    "from sklearn.linear_model import LinearRegression\n",
    "from sklearn.svm import SVR\n",
    "import xgboost as xgb\n",
    "from sklearn.neighbors import KNeighborsRegressor\n",
    "from sklearn.tree import DecisionTreeRegressor\n",
    "from sklearn.ensemble import BaggingRegressor,RandomForestRegressor,AdaBoostRegressor"
   ]
  },
  {
   "cell_type": "markdown",
   "id": "f4a04007",
   "metadata": {
    "papermill": {
     "duration": 0.021994,
     "end_time": "2024-03-03T17:11:06.683914",
     "exception": false,
     "start_time": "2024-03-03T17:11:06.661920",
     "status": "completed"
    },
    "tags": []
   },
   "source": [
    "<div style=\"background-color: #000; padding: 10px; text-align: center; border-radius: 5px; box-shadow: 0 0 10px rgba(255, 255, 255, 0.7);\">\n",
    "    <p style=\"font-family: 'JetBrains Mono', monospace; font-weight: bold; letter-spacing: 2px; color: #fff; font-size: 140%; text-shadow: 0 0 10px rgba(255, 255, 255, 0.7);\">Data Loading</p>\n",
    "</div>\n"
   ]
  },
  {
   "cell_type": "code",
   "execution_count": 2,
   "id": "c7d0c6f8",
   "metadata": {
    "execution": {
     "iopub.execute_input": "2024-03-03T17:11:06.726658Z",
     "iopub.status.busy": "2024-03-03T17:11:06.725311Z",
     "iopub.status.idle": "2024-03-03T17:11:07.807525Z",
     "shell.execute_reply": "2024-03-03T17:11:07.806196Z"
    },
    "papermill": {
     "duration": 1.106748,
     "end_time": "2024-03-03T17:11:07.810203",
     "exception": false,
     "start_time": "2024-03-03T17:11:06.703455",
     "status": "completed"
    },
    "tags": []
   },
   "outputs": [],
   "source": [
    "data=pd.read_csv('/kaggle/input/real-estate-california/RealEstate_California.csv')"
   ]
  },
  {
   "cell_type": "markdown",
   "id": "fae066ad",
   "metadata": {
    "papermill": {
     "duration": 0.014969,
     "end_time": "2024-03-03T17:11:07.841093",
     "exception": false,
     "start_time": "2024-03-03T17:11:07.826124",
     "status": "completed"
    },
    "tags": []
   },
   "source": [
    "# <p style=\"font-family:JetBrains Mono; font-weight:bold; letter-spacing: 2px; color:#4F200D; font-size:140%; text-align:center;padding: 0px; border-bottom: 3px solid #4F200D\">Data Preprocessing Starts</p>"
   ]
  },
  {
   "cell_type": "code",
   "execution_count": 3,
   "id": "d3691224",
   "metadata": {
    "_kg_hide-output": true,
    "execution": {
     "iopub.execute_input": "2024-03-03T17:11:07.872634Z",
     "iopub.status.busy": "2024-03-03T17:11:07.872271Z",
     "iopub.status.idle": "2024-03-03T17:11:07.930780Z",
     "shell.execute_reply": "2024-03-03T17:11:07.929866Z"
    },
    "papermill": {
     "duration": 0.076905,
     "end_time": "2024-03-03T17:11:07.932957",
     "exception": false,
     "start_time": "2024-03-03T17:11:07.856052",
     "status": "completed"
    },
    "tags": []
   },
   "outputs": [
    {
     "name": "stdout",
     "output_type": "stream",
     "text": [
      "<class 'pandas.core.frame.DataFrame'>\n",
      "RangeIndex: 35389 entries, 0 to 35388\n",
      "Data columns (total 39 columns):\n",
      " #   Column              Non-Null Count  Dtype  \n",
      "---  ------              --------------  -----  \n",
      " 0   Unnamed: 0          35389 non-null  int64  \n",
      " 1   id                  35389 non-null  object \n",
      " 2   stateId             35389 non-null  int64  \n",
      " 3   countyId            35389 non-null  int64  \n",
      " 4   cityId              35389 non-null  int64  \n",
      " 5   country             35389 non-null  object \n",
      " 6   datePostedString    35386 non-null  object \n",
      " 7   is_bankOwned        35389 non-null  int64  \n",
      " 8   is_forAuction       35389 non-null  int64  \n",
      " 9   event               35100 non-null  object \n",
      " 10  time                35100 non-null  float64\n",
      " 11  price               35389 non-null  float64\n",
      " 12  pricePerSquareFoot  35389 non-null  float64\n",
      " 13  city                35389 non-null  object \n",
      " 14  state               35389 non-null  object \n",
      " 15  yearBuilt           35389 non-null  int64  \n",
      " 16  streetAddress       35388 non-null  object \n",
      " 17  zipcode             35364 non-null  float64\n",
      " 18  longitude           35389 non-null  float64\n",
      " 19  latitude            35389 non-null  float64\n",
      " 20  hasBadGeocode       35389 non-null  int64  \n",
      " 21  description         35110 non-null  object \n",
      " 22  currency            35389 non-null  object \n",
      " 23  livingArea          35389 non-null  float64\n",
      " 24  livingAreaValue     35389 non-null  float64\n",
      " 25  lotAreaUnits        35389 non-null  object \n",
      " 26  bathrooms           35389 non-null  float64\n",
      " 27  bedrooms            35389 non-null  float64\n",
      " 28  buildingArea        35389 non-null  float64\n",
      " 29  parking             35389 non-null  int64  \n",
      " 30  garageSpaces        35389 non-null  float64\n",
      " 31  hasGarage           35389 non-null  int64  \n",
      " 32  levels              35389 non-null  object \n",
      " 33  pool                35389 non-null  int64  \n",
      " 34  spa                 35389 non-null  int64  \n",
      " 35  isNewConstruction   35389 non-null  int64  \n",
      " 36  hasPetsAllowed      35389 non-null  int64  \n",
      " 37  homeType            35389 non-null  object \n",
      " 38  county              35389 non-null  object \n",
      "dtypes: float64(12), int64(14), object(13)\n",
      "memory usage: 10.5+ MB\n"
     ]
    }
   ],
   "source": [
    "data.info()"
   ]
  },
  {
   "cell_type": "code",
   "execution_count": 4,
   "id": "b7de4442",
   "metadata": {
    "execution": {
     "iopub.execute_input": "2024-03-03T17:11:07.966107Z",
     "iopub.status.busy": "2024-03-03T17:11:07.965193Z",
     "iopub.status.idle": "2024-03-03T17:11:08.003640Z",
     "shell.execute_reply": "2024-03-03T17:11:08.002624Z"
    },
    "papermill": {
     "duration": 0.057189,
     "end_time": "2024-03-03T17:11:08.006097",
     "exception": false,
     "start_time": "2024-03-03T17:11:07.948908",
     "status": "completed"
    },
    "tags": []
   },
   "outputs": [],
   "source": [
    "data=data[['stateId',\t'countyId',\t'cityId',\t'datePostedString',\t'is_bankOwned'\t,'is_forAuction',\t'event',\t'time',\t'price',\t'pricePerSquareFoot',\t'yearBuilt',\t'zipcode'\t,'longitude',\t'latitude',\t'hasBadGeocode',\t'currency',\t'livingArea',\t'livingAreaValue',\t'lotAreaUnits'\t,'bathrooms',\t'bedrooms',\t'buildingArea',\t'parking',\t'garageSpaces',\t'hasGarage',\t'levels',\t'pool',\t'spa',\t'isNewConstruction',\t'hasPetsAllowed',\t'homeType']]\n",
    "data=data.groupby('event').get_group('Listed for sale')\n",
    "data=data.groupby('lotAreaUnits').get_group('sqft').drop(['lotAreaUnits'],axis=1)"
   ]
  },
  {
   "cell_type": "markdown",
   "id": "aadf5eb2",
   "metadata": {
    "papermill": {
     "duration": 0.014853,
     "end_time": "2024-03-03T17:11:08.036425",
     "exception": false,
     "start_time": "2024-03-03T17:11:08.021572",
     "status": "completed"
    },
    "tags": []
   },
   "source": [
    "<div style=\"background-color: #000; padding: 10px; text-align: center; border-radius: 5px; box-shadow: 0 0 10px rgba(255, 255, 255, 0.7);\">\n",
    "    <p style=\"font-family: 'JetBrains Mono', monospace; font-weight: bold; letter-spacing: 2px; color: #fff; font-size: 140%; text-shadow: 0 0 10px rgba(255, 255, 255, 0.7);\">Time Feature</p>\n",
    "</div>\n"
   ]
  },
  {
   "cell_type": "code",
   "execution_count": 5,
   "id": "bad3fe5d",
   "metadata": {
    "execution": {
     "iopub.execute_input": "2024-03-03T17:11:08.068492Z",
     "iopub.status.busy": "2024-03-03T17:11:08.068121Z",
     "iopub.status.idle": "2024-03-03T17:11:11.780852Z",
     "shell.execute_reply": "2024-03-03T17:11:11.779810Z"
    },
    "papermill": {
     "duration": 3.731584,
     "end_time": "2024-03-03T17:11:11.783160",
     "exception": false,
     "start_time": "2024-03-03T17:11:08.051576",
     "status": "completed"
    },
    "tags": []
   },
   "outputs": [
    {
     "data": {
      "text/plain": [
       "<Axes: xlabel='time', ylabel='price'>"
      ]
     },
     "execution_count": 5,
     "metadata": {},
     "output_type": "execute_result"
    },
    {
     "data": {
      "image/png": "[encoded data removed]",
      "text/plain": [
       "<Figure size 640x480 with 1 Axes>"
      ]
     },
     "metadata": {},
     "output_type": "display_data"
    }
   ],
   "source": [
    "sb.lineplot(data=data,x='time',y='price',color='g')"
   ]
  },
  {
   "cell_type": "markdown",
   "id": "32d2e3ce",
   "metadata": {
    "papermill": {
     "duration": 0.015748,
     "end_time": "2024-03-03T17:11:11.816050",
     "exception": false,
     "start_time": "2024-03-03T17:11:11.800302",
     "status": "completed"
    },
    "tags": []
   },
   "source": [
    "<div style=\"background-color: #000; padding: 10px; text-align: center; border-radius: 5px; box-shadow: 0 0 10px rgba(255, 255, 255, 0.7);\">\n",
    "    <p style=\"font-family: 'JetBrains Mono', monospace; font-weight: bold; letter-spacing: 2px; color: #fff; font-size: 140%; text-shadow: 0 0 10px rgba(255, 255, 255, 0.7);\">Data Transformation</p>\n",
    "</div>\n"
   ]
  },
  {
   "cell_type": "code",
   "execution_count": 6,
   "id": "fabbe282",
   "metadata": {
    "execution": {
     "iopub.execute_input": "2024-03-03T17:11:11.850570Z",
     "iopub.status.busy": "2024-03-03T17:11:11.850153Z",
     "iopub.status.idle": "2024-03-03T17:11:11.862851Z",
     "shell.execute_reply": "2024-03-03T17:11:11.861943Z"
    },
    "papermill": {
     "duration": 0.032556,
     "end_time": "2024-03-03T17:11:11.865147",
     "exception": false,
     "start_time": "2024-03-03T17:11:11.832591",
     "status": "completed"
    },
    "tags": []
   },
   "outputs": [],
   "source": [
    "data['datePostedString']=pd.to_datetime(data['datePostedString'],format='%Y-%m-%d')"
   ]
  },
  {
   "cell_type": "code",
   "execution_count": 7,
   "id": "0637c4c1",
   "metadata": {
    "execution": {
     "iopub.execute_input": "2024-03-03T17:11:11.899318Z",
     "iopub.status.busy": "2024-03-03T17:11:11.898349Z",
     "iopub.status.idle": "2024-03-03T17:11:11.928218Z",
     "shell.execute_reply": "2024-03-03T17:11:11.927076Z"
    },
    "papermill": {
     "duration": 0.049478,
     "end_time": "2024-03-03T17:11:11.930603",
     "exception": false,
     "start_time": "2024-03-03T17:11:11.881125",
     "status": "completed"
    },
    "tags": []
   },
   "outputs": [
    {
     "data": {
      "text/plain": [
       "array([2021, 2020, 2019, 2016])"
      ]
     },
     "execution_count": 7,
     "metadata": {},
     "output_type": "execute_result"
    }
   ],
   "source": [
    "data['datePostedString'].apply(lambda x : x.year).unique()"
   ]
  },
  {
   "cell_type": "code",
   "execution_count": 8,
   "id": "8a235bdd",
   "metadata": {
    "execution": {
     "iopub.execute_input": "2024-03-03T17:11:11.965851Z",
     "iopub.status.busy": "2024-03-03T17:11:11.965436Z",
     "iopub.status.idle": "2024-03-03T17:11:12.014155Z",
     "shell.execute_reply": "2024-03-03T17:11:12.012901Z"
    },
    "papermill": {
     "duration": 0.069287,
     "end_time": "2024-03-03T17:11:12.016674",
     "exception": false,
     "start_time": "2024-03-03T17:11:11.947387",
     "status": "completed"
    },
    "tags": []
   },
   "outputs": [],
   "source": [
    "data['month']=data['datePostedString'].apply(lambda x : x.month)\n",
    "data['year']=data['datePostedString'].apply(lambda x : x.year)\n"
   ]
  },
  {
   "cell_type": "code",
   "execution_count": 9,
   "id": "c44cf78f",
   "metadata": {
    "execution": {
     "iopub.execute_input": "2024-03-03T17:11:12.052455Z",
     "iopub.status.busy": "2024-03-03T17:11:12.052049Z",
     "iopub.status.idle": "2024-03-03T17:11:12.059407Z",
     "shell.execute_reply": "2024-03-03T17:11:12.058533Z"
    },
    "papermill": {
     "duration": 0.027819,
     "end_time": "2024-03-03T17:11:12.061536",
     "exception": false,
     "start_time": "2024-03-03T17:11:12.033717",
     "status": "completed"
    },
    "tags": []
   },
   "outputs": [],
   "source": [
    "data.drop(['datePostedString','event'],axis=1,inplace=True)"
   ]
  },
  {
   "cell_type": "markdown",
   "id": "4dee0d2e",
   "metadata": {
    "papermill": {
     "duration": 0.015926,
     "end_time": "2024-03-03T17:11:12.094388",
     "exception": false,
     "start_time": "2024-03-03T17:11:12.078462",
     "status": "completed"
    },
    "tags": []
   },
   "source": [
    "<div style=\"border-radius: 10px; border: rgb(229, 124, 35) solid; padding: 15px; background-color: rgb(255, 250, 240); font-size: 100%; text-align: left; box-shadow: 0 0 15px rgba(229, 124, 35, 0.7);\">\n",
    "    <ul style=\"margin: 0; padding-left: 20px; list-style-type: square;\">\n",
    "        <li><strong>some of the features such as pricePerSquareFoot , livingArea , livingAreaValue , buildingArea , levels have missing values in the form of numerical value '0'</strong></li>\n",
    "    </ul>\n",
    "</div>\n",
    "\n"
   ]
  },
  {
   "cell_type": "code",
   "execution_count": 10,
   "id": "438076fb",
   "metadata": {
    "execution": {
     "iopub.execute_input": "2024-03-03T17:11:12.129172Z",
     "iopub.status.busy": "2024-03-03T17:11:12.127951Z",
     "iopub.status.idle": "2024-03-03T17:11:12.136929Z",
     "shell.execute_reply": "2024-03-03T17:11:12.135898Z"
    },
    "papermill": {
     "duration": 0.028673,
     "end_time": "2024-03-03T17:11:12.139227",
     "exception": false,
     "start_time": "2024-03-03T17:11:12.110554",
     "status": "completed"
    },
    "tags": []
   },
   "outputs": [],
   "source": [
    "df1=data[['pricePerSquareFoot','livingArea','livingAreaValue','buildingArea']].replace({0:np.nan})\n",
    "for i in df1.columns:\n",
    "    data[i]=df1[i]"
   ]
  },
  {
   "cell_type": "code",
   "execution_count": 11,
   "id": "7e08db3b",
   "metadata": {
    "_kg_hide-output": true,
    "execution": {
     "iopub.execute_input": "2024-03-03T17:11:12.174106Z",
     "iopub.status.busy": "2024-03-03T17:11:12.173412Z",
     "iopub.status.idle": "2024-03-03T17:11:12.183128Z",
     "shell.execute_reply": "2024-03-03T17:11:12.182080Z"
    },
    "papermill": {
     "duration": 0.030013,
     "end_time": "2024-03-03T17:11:12.185364",
     "exception": false,
     "start_time": "2024-03-03T17:11:12.155351",
     "status": "completed"
    },
    "tags": []
   },
   "outputs": [
    {
     "data": {
      "text/plain": [
       "levels\n",
       "0                                      6511\n",
       "One                                    4561\n",
       "Two                                    3010\n",
       "One Story                               496\n",
       "Two Story                               407\n",
       "Three Or More                           336\n",
       "Multi/Split                             195\n",
       "One Story-One                            85\n",
       "Three or More Stories                    70\n",
       "Two Story-Two                            53\n",
       "One-Two                                  36\n",
       "Tri-Level                                29\n",
       "Three or More Stories-Three Or More      24\n",
       "Two-Multi/Split                          18\n",
       "2                                        14\n",
       "Four                                     12\n",
       "Two Story-One                             8\n",
       "Other                                     6\n",
       "Three                                     6\n",
       "Two Story-Three Or More                   5\n",
       "Two-Three Or More                         5\n",
       "Three Or More-Multi/Split                 5\n",
       "Three or More Stories-Two                 4\n",
       "Tri-Level-Three Or More                   4\n",
       "One-Multi/Split                           4\n",
       "Other-One                                 4\n",
       "One Story-Three Or More                   3\n",
       "Three or More Stories-One                 3\n",
       "Multi/Split-Two                           3\n",
       "One-Two-Multi/Split                       2\n",
       "Five or More                              2\n",
       "3                                         1\n",
       "Three or More Stories-One-Two             1\n",
       "One Story-Two                             1\n",
       "Tri-Level-Two                             1\n",
       "1                                         1\n",
       "One-Three Or More                         1\n",
       "Split Level                               1\n",
       "Multi/Split-Tri-Level                     1\n",
       "Multi/Split-Three Or More                 1\n",
       "Two-Three Or More-Multi/Split             1\n",
       "Name: count, dtype: int64"
      ]
     },
     "execution_count": 11,
     "metadata": {},
     "output_type": "execute_result"
    }
   ],
   "source": [
    "data.levels.value_counts()"
   ]
  },
  {
   "cell_type": "code",
   "execution_count": 12,
   "id": "ee5d2e9e",
   "metadata": {
    "execution": {
     "iopub.execute_input": "2024-03-03T17:11:12.221071Z",
     "iopub.status.busy": "2024-03-03T17:11:12.220270Z",
     "iopub.status.idle": "2024-03-03T17:11:12.243835Z",
     "shell.execute_reply": "2024-03-03T17:11:12.242936Z"
    },
    "papermill": {
     "duration": 0.04371,
     "end_time": "2024-03-03T17:11:12.246120",
     "exception": false,
     "start_time": "2024-03-03T17:11:12.202410",
     "status": "completed"
    },
    "tags": []
   },
   "outputs": [],
   "source": [
    "value=data.levels.replace({'One':1,'0':0,'Two':2,'Two Story':2,\"One Story\":1,'Three Or More':3})\n",
    "data.levels=value\n",
    "selected_index=value[value.astype(str).str.isnumeric()].index\n",
    "data=data.loc[selected_index,:]\n",
    "data['levels']=data['levels'].astype('int')"
   ]
  },
  {
   "cell_type": "markdown",
   "id": "cb317730",
   "metadata": {
    "papermill": {
     "duration": 0.07501,
     "end_time": "2024-03-03T17:11:12.337605",
     "exception": false,
     "start_time": "2024-03-03T17:11:12.262595",
     "status": "completed"
    },
    "tags": []
   },
   "source": [
    "* Building Area has lots of null value, so we drop it\n",
    "* Living Area and Living Area Values are redundant features so we drop one of them"
   ]
  },
  {
   "cell_type": "code",
   "execution_count": 13,
   "id": "75c11c5c",
   "metadata": {
    "execution": {
     "iopub.execute_input": "2024-03-03T17:11:12.372367Z",
     "iopub.status.busy": "2024-03-03T17:11:12.371658Z",
     "iopub.status.idle": "2024-03-03T17:11:12.379201Z",
     "shell.execute_reply": "2024-03-03T17:11:12.378029Z"
    },
    "papermill": {
     "duration": 0.027714,
     "end_time": "2024-03-03T17:11:12.381696",
     "exception": false,
     "start_time": "2024-03-03T17:11:12.353982",
     "status": "completed"
    },
    "tags": []
   },
   "outputs": [],
   "source": [
    "data.drop(['buildingArea','livingAreaValue'],axis=1,inplace=True)"
   ]
  },
  {
   "cell_type": "code",
   "execution_count": 14,
   "id": "7d4b4557",
   "metadata": {
    "execution": {
     "iopub.execute_input": "2024-03-03T17:11:12.416120Z",
     "iopub.status.busy": "2024-03-03T17:11:12.415700Z",
     "iopub.status.idle": "2024-03-03T17:11:12.423122Z",
     "shell.execute_reply": "2024-03-03T17:11:12.421981Z"
    },
    "papermill": {
     "duration": 0.027456,
     "end_time": "2024-03-03T17:11:12.425565",
     "exception": false,
     "start_time": "2024-03-03T17:11:12.398109",
     "status": "completed"
    },
    "tags": []
   },
   "outputs": [],
   "source": [
    "data.livingArea=data.livingArea.fillna(data.livingArea.mean())\n",
    "data.pricePerSquareFoot=data.pricePerSquareFoot.fillna(data.pricePerSquareFoot.mean())"
   ]
  },
  {
   "cell_type": "markdown",
   "id": "b329d1b8",
   "metadata": {
    "papermill": {
     "duration": 0.016176,
     "end_time": "2024-03-03T17:11:12.459840",
     "exception": false,
     "start_time": "2024-03-03T17:11:12.443664",
     "status": "completed"
    },
    "tags": []
   },
   "source": [
    "<div style=\"background-color: #000; padding: 10px; text-align: center; border-radius: 5px; box-shadow: 0 0 10px rgba(255, 255, 255, 0.7);\">\n",
    "    <p style=\"font-family: 'JetBrains Mono', monospace; font-weight: bold; letter-spacing: 2px; color: #fff; font-size: 140%; text-shadow: 0 0 10px rgba(255, 255, 255, 0.7);\">Prices Per Year</p>\n",
    "</div>\n"
   ]
  },
  {
   "cell_type": "code",
   "execution_count": 15,
   "id": "4f268d3f",
   "metadata": {
    "execution": {
     "iopub.execute_input": "2024-03-03T17:11:12.494308Z",
     "iopub.status.busy": "2024-03-03T17:11:12.493914Z",
     "iopub.status.idle": "2024-03-03T17:11:12.869921Z",
     "shell.execute_reply": "2024-03-03T17:11:12.868826Z"
    },
    "papermill": {
     "duration": 0.395884,
     "end_time": "2024-03-03T17:11:12.872272",
     "exception": false,
     "start_time": "2024-03-03T17:11:12.476388",
     "status": "completed"
    },
    "tags": []
   },
   "outputs": [
    {
     "data": {
      "text/plain": [
       "<Axes: xlabel='year', ylabel='price'>"
      ]
     },
     "execution_count": 15,
     "metadata": {},
     "output_type": "execute_result"
    },
    {
     "data": {
      "image/png": "[encoded data removed]",
      "text/plain": [
       "<Figure size 640x480 with 1 Axes>"
      ]
     },
     "metadata": {},
     "output_type": "display_data"
    }
   ],
   "source": [
    "sb.barplot(data[['year','price']],x='year',y='price')"
   ]
  },
  {
   "cell_type": "markdown",
   "id": "f11d53c2",
   "metadata": {
    "papermill": {
     "duration": 0.016415,
     "end_time": "2024-03-03T17:11:12.906339",
     "exception": false,
     "start_time": "2024-03-03T17:11:12.889924",
     "status": "completed"
    },
    "tags": []
   },
   "source": [
    "<div style=\"background-color: #000; padding: 10px; text-align: center; border-radius: 5px; box-shadow: 0 0 10px rgba(255, 255, 255, 0.7);\">\n",
    "    <p style=\"font-family: 'JetBrains Mono', monospace; font-weight: bold; letter-spacing: 2px; color: #fff; font-size: 140%; text-shadow: 0 0 10px rgba(255, 255, 255, 0.7);\">Prices Per Months</p>\n",
    "</div>\n"
   ]
  },
  {
   "cell_type": "code",
   "execution_count": 16,
   "id": "98b14d4f",
   "metadata": {
    "execution": {
     "iopub.execute_input": "2024-03-03T17:11:12.941308Z",
     "iopub.status.busy": "2024-03-03T17:11:12.940905Z",
     "iopub.status.idle": "2024-03-03T17:11:14.198487Z",
     "shell.execute_reply": "2024-03-03T17:11:14.197370Z"
    },
    "papermill": {
     "duration": 1.277983,
     "end_time": "2024-03-03T17:11:14.201028",
     "exception": false,
     "start_time": "2024-03-03T17:11:12.923045",
     "status": "completed"
    },
    "tags": []
   },
   "outputs": [
    {
     "data": {
      "image/png": "[encoded data removed]",
      "text/plain": [
       "<Figure size 640x480 with 1 Axes>"
      ]
     },
     "metadata": {},
     "output_type": "display_data"
    },
    {
     "data": {
      "image/png": "[encoded data removed]",
      "text/plain": [
       "<Figure size 640x480 with 1 Axes>"
      ]
     },
     "metadata": {},
     "output_type": "display_data"
    },
    {
     "data": {
      "image/png": "[encoded data removed]",
      "text/plain": [
       "<Figure size 640x480 with 1 Axes>"
      ]
     },
     "metadata": {},
     "output_type": "display_data"
    }
   ],
   "source": [
    "for i in [(2019,'g'),(2020,'y'),(2021,'r')]:\n",
    "    df2=data.groupby('year').get_group(i[0])\n",
    "    sb.lineplot(data=df2,x='month',y='price',color=i[1])\n",
    "    plt.title(f'{i[0]} Year')\n",
    "    plt.show()"
   ]
  },
  {
   "cell_type": "markdown",
   "id": "07d9db55",
   "metadata": {
    "papermill": {
     "duration": 0.018566,
     "end_time": "2024-03-03T17:11:14.238196",
     "exception": false,
     "start_time": "2024-03-03T17:11:14.219630",
     "status": "completed"
    },
    "tags": []
   },
   "source": [
    "* It Show the prices are increasing over time\n",
    "* For this case we have the 'time' feature in our dataset so we can drop month and year from our dataset"
   ]
  },
  {
   "cell_type": "code",
   "execution_count": 17,
   "id": "b7f0243d",
   "metadata": {
    "execution": {
     "iopub.execute_input": "2024-03-03T17:11:14.276837Z",
     "iopub.status.busy": "2024-03-03T17:11:14.276464Z",
     "iopub.status.idle": "2024-03-03T17:11:14.283994Z",
     "shell.execute_reply": "2024-03-03T17:11:14.283192Z"
    },
    "papermill": {
     "duration": 0.029638,
     "end_time": "2024-03-03T17:11:14.286013",
     "exception": false,
     "start_time": "2024-03-03T17:11:14.256375",
     "status": "completed"
    },
    "tags": []
   },
   "outputs": [],
   "source": [
    "data.drop(['month','year'],axis=1,inplace=True)"
   ]
  },
  {
   "cell_type": "markdown",
   "id": "eec09ee8",
   "metadata": {
    "papermill": {
     "duration": 0.018943,
     "end_time": "2024-03-03T17:11:14.323889",
     "exception": false,
     "start_time": "2024-03-03T17:11:14.304946",
     "status": "completed"
    },
    "tags": []
   },
   "source": [
    "<div style=\"background-color: #000; padding: 10px; text-align: center; border-radius: 5px; box-shadow: 0 0 10px rgba(255, 255, 255, 0.7);\">\n",
    "    <p style=\"font-family: 'JetBrains Mono', monospace; font-weight: bold; letter-spacing: 2px; color: #fff; font-size: 140%; text-shadow: 0 0 10px rgba(255, 255, 255, 0.7);\">Levels Feature</p>\n",
    "</div>\n"
   ]
  },
  {
   "cell_type": "code",
   "execution_count": 18,
   "id": "68d7a54c",
   "metadata": {
    "execution": {
     "iopub.execute_input": "2024-03-03T17:11:14.363938Z",
     "iopub.status.busy": "2024-03-03T17:11:14.363319Z",
     "iopub.status.idle": "2024-03-03T17:11:14.811024Z",
     "shell.execute_reply": "2024-03-03T17:11:14.809752Z"
    },
    "papermill": {
     "duration": 0.470277,
     "end_time": "2024-03-03T17:11:14.813241",
     "exception": false,
     "start_time": "2024-03-03T17:11:14.342964",
     "status": "completed"
    },
    "tags": []
   },
   "outputs": [
    {
     "data": {
      "text/plain": [
       "<Axes: xlabel='homeType', ylabel='price'>"
      ]
     },
     "execution_count": 18,
     "metadata": {},
     "output_type": "execute_result"
    },
    {
     "data": {
      "image/png": "[encoded data removed]",
      "text/plain": [
       "<Figure size 640x480 with 1 Axes>"
      ]
     },
     "metadata": {},
     "output_type": "display_data"
    }
   ],
   "source": [
    "sb.barplot(data[['homeType','price']],x='homeType',y='price')"
   ]
  },
  {
   "cell_type": "markdown",
   "id": "45a52d66",
   "metadata": {
    "papermill": {
     "duration": 0.019497,
     "end_time": "2024-03-03T17:11:14.852271",
     "exception": false,
     "start_time": "2024-03-03T17:11:14.832774",
     "status": "completed"
    },
    "tags": []
   },
   "source": [
    "* so the order can be found out is Multi_Family > Single_family > Town_house > Condo > lot"
   ]
  },
  {
   "cell_type": "code",
   "execution_count": 19,
   "id": "919b7c7b",
   "metadata": {
    "execution": {
     "iopub.execute_input": "2024-03-03T17:11:14.893111Z",
     "iopub.status.busy": "2024-03-03T17:11:14.892490Z",
     "iopub.status.idle": "2024-03-03T17:11:14.900123Z",
     "shell.execute_reply": "2024-03-03T17:11:14.898814Z"
    },
    "papermill": {
     "duration": 0.030848,
     "end_time": "2024-03-03T17:11:14.902485",
     "exception": false,
     "start_time": "2024-03-03T17:11:14.871637",
     "status": "completed"
    },
    "tags": []
   },
   "outputs": [
    {
     "data": {
      "text/plain": [
       "array(['SINGLE_FAMILY', 'CONDO', 'TOWNHOUSE', 'LOT', 'MULTI_FAMILY'],\n",
       "      dtype=object)"
      ]
     },
     "execution_count": 19,
     "metadata": {},
     "output_type": "execute_result"
    }
   ],
   "source": [
    "data.homeType.unique()"
   ]
  },
  {
   "cell_type": "code",
   "execution_count": 20,
   "id": "f052b6b8",
   "metadata": {
    "execution": {
     "iopub.execute_input": "2024-03-03T17:11:14.942853Z",
     "iopub.status.busy": "2024-03-03T17:11:14.942430Z",
     "iopub.status.idle": "2024-03-03T17:11:14.947844Z",
     "shell.execute_reply": "2024-03-03T17:11:14.946704Z"
    },
    "papermill": {
     "duration": 0.028355,
     "end_time": "2024-03-03T17:11:14.949968",
     "exception": false,
     "start_time": "2024-03-03T17:11:14.921613",
     "status": "completed"
    },
    "tags": []
   },
   "outputs": [],
   "source": [
    "encoder=OrdinalEncoder(categories=[['MULTI_FAMILY','SINGLE_FAMILY','TOWNHOUSE','CONDO','LOT']])\n"
   ]
  },
  {
   "cell_type": "code",
   "execution_count": 21,
   "id": "3817e3e0",
   "metadata": {
    "execution": {
     "iopub.execute_input": "2024-03-03T17:11:14.990114Z",
     "iopub.status.busy": "2024-03-03T17:11:14.989355Z",
     "iopub.status.idle": "2024-03-03T17:11:15.001138Z",
     "shell.execute_reply": "2024-03-03T17:11:14.999937Z"
    },
    "papermill": {
     "duration": 0.034159,
     "end_time": "2024-03-03T17:11:15.003198",
     "exception": false,
     "start_time": "2024-03-03T17:11:14.969039",
     "status": "completed"
    },
    "tags": []
   },
   "outputs": [],
   "source": [
    "data['homeType']=encoder.fit_transform(data[['homeType']])"
   ]
  },
  {
   "cell_type": "markdown",
   "id": "901bd6f7",
   "metadata": {
    "execution": {
     "iopub.execute_input": "2024-03-02T14:36:11.954978Z",
     "iopub.status.busy": "2024-03-02T14:36:11.954579Z",
     "iopub.status.idle": "2024-03-02T14:36:12.367368Z",
     "shell.execute_reply": "2024-03-02T14:36:12.366402Z",
     "shell.execute_reply.started": "2024-03-02T14:36:11.954946Z"
    },
    "papermill": {
     "duration": 0.019103,
     "end_time": "2024-03-03T17:11:15.041964",
     "exception": false,
     "start_time": "2024-03-03T17:11:15.022861",
     "status": "completed"
    },
    "tags": []
   },
   "source": [
    "<div style=\"background-color: #000; padding: 10px; text-align: center; border-radius: 5px; box-shadow: 0 0 10px rgba(255, 255, 255, 0.7);\">\n",
    "    <p style=\"font-family: 'JetBrains Mono', monospace; font-weight: bold; letter-spacing: 2px; color: #fff; font-size: 140%; text-shadow: 0 0 10px rgba(255, 255, 255, 0.7);\">Latitude and Longitude Feature</p>\n",
    "</div>\n"
   ]
  },
  {
   "cell_type": "code",
   "execution_count": 22,
   "id": "e5a0d65f",
   "metadata": {
    "execution": {
     "iopub.execute_input": "2024-03-03T17:11:15.082847Z",
     "iopub.status.busy": "2024-03-03T17:11:15.082092Z",
     "iopub.status.idle": "2024-03-03T17:11:15.407859Z",
     "shell.execute_reply": "2024-03-03T17:11:15.406942Z"
    },
    "papermill": {
     "duration": 0.349054,
     "end_time": "2024-03-03T17:11:15.410268",
     "exception": false,
     "start_time": "2024-03-03T17:11:15.061214",
     "status": "completed"
    },
    "tags": []
   },
   "outputs": [
    {
     "data": {
      "text/plain": [
       "<Axes: xlabel='longitude', ylabel='latitude'>"
      ]
     },
     "execution_count": 22,
     "metadata": {},
     "output_type": "execute_result"
    },
    {
     "data": {
      "image/png": "[encoded data removed]",
      "text/plain": [
       "<Figure size 640x480 with 1 Axes>"
      ]
     },
     "metadata": {},
     "output_type": "display_data"
    }
   ],
   "source": [
    "sb.scatterplot(data=data[['longitude','latitude']],x='longitude',y='latitude')"
   ]
  },
  {
   "cell_type": "markdown",
   "id": "24b033d8",
   "metadata": {
    "papermill": {
     "duration": 0.019751,
     "end_time": "2024-03-03T17:11:15.450494",
     "exception": false,
     "start_time": "2024-03-03T17:11:15.430743",
     "status": "completed"
    },
    "tags": []
   },
   "source": [
    "<div style=\"border-bottom: 3px solid #3498db; text-align: center; padding: 10px; box-shadow: 0 0 15px rgba(52, 152, 219, 0.7);\">\n",
    "    <p style=\"font-family: 'JetBrains Mono', monospace; font-weight: bold; letter-spacing: 2px; color: #2ecc71; font-size: 140%; margin: 0; text-shadow: 0 0 10px rgba(52, 152, 219, 0.7);\">Kmeans Approach</p>\n",
    "</div>\n"
   ]
  },
  {
   "cell_type": "code",
   "execution_count": 23,
   "id": "38d24355",
   "metadata": {
    "execution": {
     "iopub.execute_input": "2024-03-03T17:11:15.491795Z",
     "iopub.status.busy": "2024-03-03T17:11:15.491431Z",
     "iopub.status.idle": "2024-03-03T17:11:15.497072Z",
     "shell.execute_reply": "2024-03-03T17:11:15.495955Z"
    },
    "papermill": {
     "duration": 0.028675,
     "end_time": "2024-03-03T17:11:15.499104",
     "exception": false,
     "start_time": "2024-03-03T17:11:15.470429",
     "status": "completed"
    },
    "tags": []
   },
   "outputs": [],
   "source": [
    "df3=data[['latitude','longitude']]"
   ]
  },
  {
   "cell_type": "code",
   "execution_count": 24,
   "id": "126b2b29",
   "metadata": {
    "execution": {
     "iopub.execute_input": "2024-03-03T17:11:15.541185Z",
     "iopub.status.busy": "2024-03-03T17:11:15.540776Z",
     "iopub.status.idle": "2024-03-03T17:11:25.069794Z",
     "shell.execute_reply": "2024-03-03T17:11:25.068857Z"
    },
    "papermill": {
     "duration": 9.552949,
     "end_time": "2024-03-03T17:11:25.072303",
     "exception": false,
     "start_time": "2024-03-03T17:11:15.519354",
     "status": "completed"
    },
    "tags": []
   },
   "outputs": [],
   "source": [
    "list1=[]\n",
    "for i in range(1,10):\n",
    "    km=KMeans(i)\n",
    "    km.fit(df3)\n",
    "    list1.append(km.inertia_)"
   ]
  },
  {
   "cell_type": "code",
   "execution_count": 25,
   "id": "bb517cbf",
   "metadata": {
    "execution": {
     "iopub.execute_input": "2024-03-03T17:11:25.116582Z",
     "iopub.status.busy": "2024-03-03T17:11:25.115730Z",
     "iopub.status.idle": "2024-03-03T17:11:25.385013Z",
     "shell.execute_reply": "2024-03-03T17:11:25.383721Z"
    },
    "papermill": {
     "duration": 0.294271,
     "end_time": "2024-03-03T17:11:25.387573",
     "exception": false,
     "start_time": "2024-03-03T17:11:25.093302",
     "status": "completed"
    },
    "tags": []
   },
   "outputs": [
    {
     "data": {
      "text/plain": [
       "<Axes: >"
      ]
     },
     "execution_count": 25,
     "metadata": {},
     "output_type": "execute_result"
    },
    {
     "data": {
      "image/png": "[encoded data removed]",
      "text/plain": [
       "<Figure size 640x480 with 1 Axes>"
      ]
     },
     "metadata": {},
     "output_type": "display_data"
    }
   ],
   "source": [
    "sb.lineplot(x=range(1,10),y=list1)"
   ]
  },
  {
   "cell_type": "code",
   "execution_count": 26,
   "id": "a6aea208",
   "metadata": {
    "execution": {
     "iopub.execute_input": "2024-03-03T17:11:25.431680Z",
     "iopub.status.busy": "2024-03-03T17:11:25.431279Z",
     "iopub.status.idle": "2024-03-03T17:11:25.436179Z",
     "shell.execute_reply": "2024-03-03T17:11:25.434930Z"
    },
    "papermill": {
     "duration": 0.029851,
     "end_time": "2024-03-03T17:11:25.438361",
     "exception": false,
     "start_time": "2024-03-03T17:11:25.408510",
     "status": "completed"
    },
    "tags": []
   },
   "outputs": [],
   "source": [
    "km=KMeans(2)"
   ]
  },
  {
   "cell_type": "code",
   "execution_count": 27,
   "id": "65f283ea",
   "metadata": {
    "execution": {
     "iopub.execute_input": "2024-03-03T17:11:25.481688Z",
     "iopub.status.busy": "2024-03-03T17:11:25.481284Z",
     "iopub.status.idle": "2024-03-03T17:11:26.686260Z",
     "shell.execute_reply": "2024-03-03T17:11:26.684802Z"
    },
    "papermill": {
     "duration": 1.234352,
     "end_time": "2024-03-03T17:11:26.693332",
     "exception": false,
     "start_time": "2024-03-03T17:11:25.458980",
     "status": "completed"
    },
    "tags": []
   },
   "outputs": [],
   "source": [
    "df3['region']=data['region']=km.fit_predict(df3)\n",
    "data.drop(['longitude','latitude'],axis=1,inplace=True)"
   ]
  },
  {
   "cell_type": "code",
   "execution_count": 28,
   "id": "040e0136",
   "metadata": {
    "execution": {
     "iopub.execute_input": "2024-03-03T17:11:26.750591Z",
     "iopub.status.busy": "2024-03-03T17:11:26.750175Z",
     "iopub.status.idle": "2024-03-03T17:11:27.812710Z",
     "shell.execute_reply": "2024-03-03T17:11:27.811516Z"
    },
    "papermill": {
     "duration": 1.093184,
     "end_time": "2024-03-03T17:11:27.815500",
     "exception": false,
     "start_time": "2024-03-03T17:11:26.722316",
     "status": "completed"
    },
    "tags": []
   },
   "outputs": [
    {
     "data": {
      "text/plain": [
       "<Axes: xlabel='longitude', ylabel='latitude'>"
      ]
     },
     "execution_count": 28,
     "metadata": {},
     "output_type": "execute_result"
    },
    {
     "data": {
      "image/png": "[encoded data removed]",
      "text/plain": [
       "<Figure size 640x480 with 1 Axes>"
      ]
     },
     "metadata": {},
     "output_type": "display_data"
    }
   ],
   "source": [
    "sb.scatterplot(data=df3,x='longitude',y='latitude',hue='region')"
   ]
  },
  {
   "cell_type": "markdown",
   "id": "be342ac2",
   "metadata": {
    "papermill": {
     "duration": 0.022421,
     "end_time": "2024-03-03T17:11:27.860352",
     "exception": false,
     "start_time": "2024-03-03T17:11:27.837931",
     "status": "completed"
    },
    "tags": []
   },
   "source": [
    "<div style=\"background-color: #000; padding: 10px; text-align: center; border-radius: 5px; box-shadow: 0 0 10px rgba(255, 255, 255, 0.7);\">\n",
    "    <p style=\"font-family: 'JetBrains Mono', monospace; font-weight: bold; letter-spacing: 2px; color: #fff; font-size: 140%; text-shadow: 0 0 10px rgba(255, 255, 255, 0.7);\">CityId Feature</p>\n",
    "</div>\n"
   ]
  },
  {
   "cell_type": "code",
   "execution_count": 29,
   "id": "c374f262",
   "metadata": {
    "execution": {
     "iopub.execute_input": "2024-03-03T17:11:27.907467Z",
     "iopub.status.busy": "2024-03-03T17:11:27.906289Z",
     "iopub.status.idle": "2024-03-03T17:11:28.895041Z",
     "shell.execute_reply": "2024-03-03T17:11:28.893951Z"
    },
    "papermill": {
     "duration": 1.014632,
     "end_time": "2024-03-03T17:11:28.897557",
     "exception": false,
     "start_time": "2024-03-03T17:11:27.882925",
     "status": "completed"
    },
    "tags": []
   },
   "outputs": [
    {
     "data": {
      "text/plain": [
       "<Axes: xlabel='cityId', ylabel='Count'>"
      ]
     },
     "execution_count": 29,
     "metadata": {},
     "output_type": "execute_result"
    },
    {
     "data": {
      "image/png": "[encoded data removed]",
      "text/plain": [
       "<Figure size 640x480 with 1 Axes>"
      ]
     },
     "metadata": {},
     "output_type": "display_data"
    }
   ],
   "source": [
    "sb.histplot(data['cityId'])"
   ]
  },
  {
   "cell_type": "code",
   "execution_count": 30,
   "id": "4d6e1771",
   "metadata": {
    "execution": {
     "iopub.execute_input": "2024-03-03T17:11:28.946308Z",
     "iopub.status.busy": "2024-03-03T17:11:28.945865Z",
     "iopub.status.idle": "2024-03-03T17:11:28.961777Z",
     "shell.execute_reply": "2024-03-03T17:11:28.960949Z"
    },
    "papermill": {
     "duration": 0.043444,
     "end_time": "2024-03-03T17:11:28.964062",
     "exception": false,
     "start_time": "2024-03-03T17:11:28.920618",
     "status": "completed"
    },
    "tags": []
   },
   "outputs": [],
   "source": [
    "index=np.where(data['cityId']<100000)\n",
    "data=data.query('cityId<100000')"
   ]
  },
  {
   "cell_type": "code",
   "execution_count": 31,
   "id": "3247f09e",
   "metadata": {
    "execution": {
     "iopub.execute_input": "2024-03-03T17:11:29.012957Z",
     "iopub.status.busy": "2024-03-03T17:11:29.011786Z",
     "iopub.status.idle": "2024-03-03T17:11:29.279372Z",
     "shell.execute_reply": "2024-03-03T17:11:29.277965Z"
    },
    "papermill": {
     "duration": 0.294672,
     "end_time": "2024-03-03T17:11:29.281767",
     "exception": false,
     "start_time": "2024-03-03T17:11:28.987095",
     "status": "completed"
    },
    "tags": []
   },
   "outputs": [
    {
     "data": {
      "text/plain": [
       "<Axes: xlabel='cityId', ylabel='Count'>"
      ]
     },
     "execution_count": 31,
     "metadata": {},
     "output_type": "execute_result"
    },
    {
     "data": {
      "image/png": "[encoded data removed]",
      "text/plain": [
       "<Figure size 640x480 with 1 Axes>"
      ]
     },
     "metadata": {},
     "output_type": "display_data"
    }
   ],
   "source": [
    "sb.histplot(data['cityId'])"
   ]
  },
  {
   "cell_type": "code",
   "execution_count": 32,
   "id": "59211c7b",
   "metadata": {
    "execution": {
     "iopub.execute_input": "2024-03-03T17:11:29.332950Z",
     "iopub.status.busy": "2024-03-03T17:11:29.331741Z",
     "iopub.status.idle": "2024-03-03T17:11:29.399969Z",
     "shell.execute_reply": "2024-03-03T17:11:29.398666Z"
    },
    "papermill": {
     "duration": 0.096904,
     "end_time": "2024-03-03T17:11:29.402457",
     "exception": false,
     "start_time": "2024-03-03T17:11:29.305553",
     "status": "completed"
    },
    "tags": []
   },
   "outputs": [
    {
     "data": {
      "text/plain": [
       "14797"
      ]
     },
     "execution_count": 32,
     "metadata": {},
     "output_type": "execute_result"
    }
   ],
   "source": [
    "bins=[x for x in range(0,60001,10000)]\n",
    "data['cityId']=pd.cut(data['cityId'],bins=bins)\n",
    "city_data=pd.get_dummies(data['cityId'],prefix='cityId').replace({False:0,True:1})\n",
    "data=data.join(city_data).drop('cityId',axis=1)\n",
    "data.countyId.nunique()"
   ]
  },
  {
   "cell_type": "markdown",
   "id": "da7f904a",
   "metadata": {
    "papermill": {
     "duration": 0.023209,
     "end_time": "2024-03-03T17:11:29.449755",
     "exception": false,
     "start_time": "2024-03-03T17:11:29.426546",
     "status": "completed"
    },
    "tags": []
   },
   "source": [
    "<div style=\"background-color: #000; padding: 10px; text-align: center; border-radius: 5px; box-shadow: 0 0 10px rgba(255, 255, 255, 0.7);\">\n",
    "    <p style=\"font-family: 'JetBrains Mono', monospace; font-weight: bold; letter-spacing: 2px; color: #fff; font-size: 140%; text-shadow: 0 0 10px rgba(255, 255, 255, 0.7);\">CountyId Feature</p>\n",
    "</div>\n"
   ]
  },
  {
   "cell_type": "code",
   "execution_count": 33,
   "id": "556c73ef",
   "metadata": {
    "execution": {
     "iopub.execute_input": "2024-03-03T17:11:29.500318Z",
     "iopub.status.busy": "2024-03-03T17:11:29.499607Z",
     "iopub.status.idle": "2024-03-03T17:11:29.808186Z",
     "shell.execute_reply": "2024-03-03T17:11:29.806813Z"
    },
    "papermill": {
     "duration": 0.335757,
     "end_time": "2024-03-03T17:11:29.811006",
     "exception": false,
     "start_time": "2024-03-03T17:11:29.475249",
     "status": "completed"
    },
    "tags": []
   },
   "outputs": [
    {
     "data": {
      "text/plain": [
       "<Axes: xlabel='countyId', ylabel='Count'>"
      ]
     },
     "execution_count": 33,
     "metadata": {},
     "output_type": "execute_result"
    },
    {
     "data": {
      "image/png": "[encoded data removed]",
      "text/plain": [
       "<Figure size 640x480 with 1 Axes>"
      ]
     },
     "metadata": {},
     "output_type": "display_data"
    }
   ],
   "source": [
    "sb.histplot(data['countyId'])"
   ]
  },
  {
   "cell_type": "code",
   "execution_count": 34,
   "id": "7645df40",
   "metadata": {
    "execution": {
     "iopub.execute_input": "2024-03-03T17:11:29.861136Z",
     "iopub.status.busy": "2024-03-03T17:11:29.860715Z",
     "iopub.status.idle": "2024-03-03T17:11:30.095654Z",
     "shell.execute_reply": "2024-03-03T17:11:30.093886Z"
    },
    "papermill": {
     "duration": 0.263225,
     "end_time": "2024-03-03T17:11:30.098621",
     "exception": false,
     "start_time": "2024-03-03T17:11:29.835396",
     "status": "completed"
    },
    "tags": []
   },
   "outputs": [],
   "source": [
    "bins=[x for x in range(0,300001,10000)]\n",
    "data['countyId']=pd.cut(data['countyId'],bins=bins)\n",
    "county_data=pd.get_dummies(data['countyId'],prefix='countyId').replace({False:0,True:1})\n",
    "data=data.join(county_data).drop('countyId',axis=1)"
   ]
  },
  {
   "cell_type": "code",
   "execution_count": 35,
   "id": "ed93dcca",
   "metadata": {
    "execution": {
     "iopub.execute_input": "2024-03-03T17:11:30.157846Z",
     "iopub.status.busy": "2024-03-03T17:11:30.156754Z",
     "iopub.status.idle": "2024-03-03T17:11:30.170500Z",
     "shell.execute_reply": "2024-03-03T17:11:30.169550Z"
    },
    "papermill": {
     "duration": 0.047563,
     "end_time": "2024-03-03T17:11:30.172984",
     "exception": false,
     "start_time": "2024-03-03T17:11:30.125421",
     "status": "completed"
    },
    "tags": []
   },
   "outputs": [],
   "source": [
    "data.drop('stateId',axis=1,inplace=True)\n",
    "data.drop('zipcode',axis=1,inplace=True)\n",
    "data.drop('currency',axis=1,inplace=True)"
   ]
  },
  {
   "cell_type": "code",
   "execution_count": 36,
   "id": "b967d177",
   "metadata": {
    "execution": {
     "iopub.execute_input": "2024-03-03T17:11:30.222499Z",
     "iopub.status.busy": "2024-03-03T17:11:30.221400Z",
     "iopub.status.idle": "2024-03-03T17:11:30.230398Z",
     "shell.execute_reply": "2024-03-03T17:11:30.229282Z"
    },
    "papermill": {
     "duration": 0.036789,
     "end_time": "2024-03-03T17:11:30.233043",
     "exception": false,
     "start_time": "2024-03-03T17:11:30.196254",
     "status": "completed"
    },
    "tags": []
   },
   "outputs": [],
   "source": [
    "data=data.loc[np.sqrt(data['price'])<4000]"
   ]
  },
  {
   "cell_type": "markdown",
   "id": "9413b815",
   "metadata": {
    "execution": {
     "iopub.execute_input": "2024-03-02T14:36:27.273671Z",
     "iopub.status.busy": "2024-03-02T14:36:27.273298Z",
     "iopub.status.idle": "2024-03-02T14:36:27.283998Z",
     "shell.execute_reply": "2024-03-02T14:36:27.282632Z",
     "shell.execute_reply.started": "2024-03-02T14:36:27.273641Z"
    },
    "papermill": {
     "duration": 0.025291,
     "end_time": "2024-03-03T17:11:30.283712",
     "exception": false,
     "start_time": "2024-03-03T17:11:30.258421",
     "status": "completed"
    },
    "tags": []
   },
   "source": [
    "<div style=\"background-color: #000; padding: 10px; text-align: center; border-radius: 5px; box-shadow: 0 0 10px rgba(255, 255, 255, 0.7);\">\n",
    "    <p style=\"font-family: 'JetBrains Mono', monospace; font-weight: bold; letter-spacing: 2px; color: #fff; font-size: 140%; text-shadow: 0 0 10px rgba(255, 255, 255, 0.7);\">Separating Data</p>\n",
    "</div>\n"
   ]
  },
  {
   "cell_type": "code",
   "execution_count": 37,
   "id": "5d441ca4",
   "metadata": {
    "execution": {
     "iopub.execute_input": "2024-03-03T17:11:30.335393Z",
     "iopub.status.busy": "2024-03-03T17:11:30.334770Z",
     "iopub.status.idle": "2024-03-03T17:11:30.342180Z",
     "shell.execute_reply": "2024-03-03T17:11:30.341239Z"
    },
    "papermill": {
     "duration": 0.035222,
     "end_time": "2024-03-03T17:11:30.344350",
     "exception": false,
     "start_time": "2024-03-03T17:11:30.309128",
     "status": "completed"
    },
    "tags": []
   },
   "outputs": [],
   "source": [
    "ydata=np.sqrt(data.price)\n",
    "xdata=data.drop('price',axis=1)"
   ]
  },
  {
   "cell_type": "markdown",
   "id": "ad20848f",
   "metadata": {
    "papermill": {
     "duration": 0.023736,
     "end_time": "2024-03-03T17:11:30.391265",
     "exception": false,
     "start_time": "2024-03-03T17:11:30.367529",
     "status": "completed"
    },
    "tags": []
   },
   "source": [
    "<div style=\"background-color: #000; padding: 10px; text-align: center; border-radius: 5px; box-shadow: 0 0 10px rgba(255, 255, 255, 0.7);\">\n",
    "    <p style=\"font-family: 'JetBrains Mono', monospace; font-weight: bold; letter-spacing: 2px; color: #fff; font-size: 140%; text-shadow: 0 0 10px rgba(255, 255, 255, 0.7);\">Scaling Xdata Features</p>\n",
    "</div>\n"
   ]
  },
  {
   "cell_type": "code",
   "execution_count": 38,
   "id": "40933a75",
   "metadata": {
    "execution": {
     "iopub.execute_input": "2024-03-03T17:11:30.440015Z",
     "iopub.status.busy": "2024-03-03T17:11:30.439384Z",
     "iopub.status.idle": "2024-03-03T17:11:30.444181Z",
     "shell.execute_reply": "2024-03-03T17:11:30.443371Z"
    },
    "papermill": {
     "duration": 0.031833,
     "end_time": "2024-03-03T17:11:30.446557",
     "exception": false,
     "start_time": "2024-03-03T17:11:30.414724",
     "status": "completed"
    },
    "tags": []
   },
   "outputs": [],
   "source": [
    "scaler=('scale',StandardScaler(),['time','pricePerSquareFoot','livingArea'])\n",
    "col=ColumnTransformer([scaler])"
   ]
  },
  {
   "cell_type": "code",
   "execution_count": 39,
   "id": "6136d10a",
   "metadata": {
    "execution": {
     "iopub.execute_input": "2024-03-03T17:11:30.499710Z",
     "iopub.status.busy": "2024-03-03T17:11:30.499088Z",
     "iopub.status.idle": "2024-03-03T17:11:30.524244Z",
     "shell.execute_reply": "2024-03-03T17:11:30.523184Z"
    },
    "papermill": {
     "duration": 0.05566,
     "end_time": "2024-03-03T17:11:30.526630",
     "exception": false,
     "start_time": "2024-03-03T17:11:30.470970",
     "status": "completed"
    },
    "tags": []
   },
   "outputs": [],
   "source": [
    "newdata=col.fit_transform(xdata)\n",
    "xdata.reset_index(drop=True,inplace=True)\n",
    "xdata.drop(['time','pricePerSquareFoot','livingArea'],axis=1,inplace=True)\n",
    "df=pd.DataFrame(newdata,columns=['time','pricePerSquareFoot','livingArea'])\n",
    "xdata=xdata.join(df)"
   ]
  },
  {
   "cell_type": "markdown",
   "id": "f64dae2e",
   "metadata": {
    "papermill": {
     "duration": 0.023058,
     "end_time": "2024-03-03T17:11:30.573526",
     "exception": false,
     "start_time": "2024-03-03T17:11:30.550468",
     "status": "completed"
    },
    "tags": []
   },
   "source": [
    "<div style=\"background-color: #000; padding: 10px; text-align: center; border-radius: 5px; box-shadow: 0 0 10px rgba(255, 255, 255, 0.7);\">\n",
    "    <p style=\"font-family: 'JetBrains Mono', monospace; font-weight: bold; letter-spacing: 2px; color: #fff; font-size: 140%; text-shadow: 0 0 10px rgba(255, 255, 255, 0.7);\">Splitting Data</p>\n",
    "</div>\n"
   ]
  },
  {
   "cell_type": "code",
   "execution_count": 40,
   "id": "8cf4f2ca",
   "metadata": {
    "execution": {
     "iopub.execute_input": "2024-03-03T17:11:30.624478Z",
     "iopub.status.busy": "2024-03-03T17:11:30.623796Z",
     "iopub.status.idle": "2024-03-03T17:11:30.634943Z",
     "shell.execute_reply": "2024-03-03T17:11:30.633983Z"
    },
    "papermill": {
     "duration": 0.04058,
     "end_time": "2024-03-03T17:11:30.637424",
     "exception": false,
     "start_time": "2024-03-03T17:11:30.596844",
     "status": "completed"
    },
    "tags": []
   },
   "outputs": [],
   "source": [
    "xtra,xtest,ytra,ytest=train_test_split(xdata,ydata,test_size=0.2)"
   ]
  },
  {
   "cell_type": "markdown",
   "id": "df6385ce",
   "metadata": {
    "papermill": {
     "duration": 0.025048,
     "end_time": "2024-03-03T17:11:30.686390",
     "exception": false,
     "start_time": "2024-03-03T17:11:30.661342",
     "status": "completed"
    },
    "tags": []
   },
   "source": [
    "# <p style=\"font-family:JetBrains Mono; font-weight:bold; letter-spacing: 2px; color:#4F200D; font-size:140%; text-align:center;padding: 0px; border-bottom: 3px solid #4F200D\">Model Training With Validation</p>"
   ]
  },
  {
   "cell_type": "markdown",
   "id": "dec9cb7e",
   "metadata": {
    "papermill": {
     "duration": 0.02379,
     "end_time": "2024-03-03T17:11:30.734111",
     "exception": false,
     "start_time": "2024-03-03T17:11:30.710321",
     "status": "completed"
    },
    "tags": []
   },
   "source": [
    "<div style=\"background-color: #000; padding: 10px; text-align: center; border-radius: 5px; box-shadow: 0 0 10px rgba(255, 255, 255, 0.7);\">\n",
    "    <p style=\"font-family: 'JetBrains Mono', monospace; font-weight: bold; letter-spacing: 2px; color: #fff; font-size: 140%; text-shadow: 0 0 10px rgba(255, 255, 255, 0.7);\">Tensorflow Deep Learning Model</p>\n",
    "</div>\n"
   ]
  },
  {
   "cell_type": "code",
   "execution_count": 41,
   "id": "505d7c4d",
   "metadata": {
    "execution": {
     "iopub.execute_input": "2024-03-03T17:11:30.784463Z",
     "iopub.status.busy": "2024-03-03T17:11:30.784025Z",
     "iopub.status.idle": "2024-03-03T17:11:30.791808Z",
     "shell.execute_reply": "2024-03-03T17:11:30.790828Z"
    },
    "papermill": {
     "duration": 0.036215,
     "end_time": "2024-03-03T17:11:30.794071",
     "exception": false,
     "start_time": "2024-03-03T17:11:30.757856",
     "status": "completed"
    },
    "tags": []
   },
   "outputs": [],
   "source": [
    "model=tf.keras.Sequential()"
   ]
  },
  {
   "cell_type": "code",
   "execution_count": 42,
   "id": "9eccacd0",
   "metadata": {
    "execution": {
     "iopub.execute_input": "2024-03-03T17:11:30.844400Z",
     "iopub.status.busy": "2024-03-03T17:11:30.844006Z",
     "iopub.status.idle": "2024-03-03T17:11:30.848911Z",
     "shell.execute_reply": "2024-03-03T17:11:30.847566Z"
    },
    "papermill": {
     "duration": 0.033016,
     "end_time": "2024-03-03T17:11:30.851736",
     "exception": false,
     "start_time": "2024-03-03T17:11:30.818720",
     "status": "completed"
    },
    "tags": []
   },
   "outputs": [],
   "source": [
    "input_size=xtra.shape[1]\n",
    "output_size=1\n"
   ]
  },
  {
   "cell_type": "code",
   "execution_count": 43,
   "id": "7df7a300",
   "metadata": {
    "_kg_hide-input": false,
    "_kg_hide-output": true,
    "execution": {
     "iopub.execute_input": "2024-03-03T17:11:30.903291Z",
     "iopub.status.busy": "2024-03-03T17:11:30.902537Z",
     "iopub.status.idle": "2024-03-03T17:12:14.815805Z",
     "shell.execute_reply": "2024-03-03T17:12:14.814601Z"
    },
    "papermill": {
     "duration": 43.94154,
     "end_time": "2024-03-03T17:12:14.818268",
     "exception": false,
     "start_time": "2024-03-03T17:11:30.876728",
     "status": "completed"
    },
    "tags": []
   },
   "outputs": [
    {
     "name": "stdout",
     "output_type": "stream",
     "text": [
      "Epoch 1/200\n",
      "\u001b[1m24/24\u001b[0m \u001b[32m━━━━━━━━━━━━━━━━━━━━\u001b[0m\u001b[37m\u001b[0m \u001b[1m2s\u001b[0m 12ms/step - loss: 837321.7500 - val_loss: 148893.7656\n",
      "Epoch 2/200\n",
      "\u001b[1m24/24\u001b[0m \u001b[32m━━━━━━━━━━━━━━━━━━━━\u001b[0m\u001b[37m\u001b[0m \u001b[1m0s\u001b[0m 6ms/step - loss: 156372.9531 - val_loss: 142870.8438\n",
      "Epoch 3/200\n",
      "\u001b[1m24/24\u001b[0m \u001b[32m━━━━━━━━━━━━━━━━━━━━\u001b[0m\u001b[37m\u001b[0m \u001b[1m0s\u001b[0m 6ms/step - loss: 137855.0000 - val_loss: 140870.1094\n",
      "Epoch 4/200\n",
      "\u001b[1m24/24\u001b[0m \u001b[32m━━━━━━━━━━━━━━━━━━━━\u001b[0m\u001b[37m\u001b[0m \u001b[1m0s\u001b[0m 6ms/step - loss: 139742.7188 - val_loss: 134998.9688\n",
      "Epoch 5/200\n",
      "\u001b[1m24/24\u001b[0m \u001b[32m━━━━━━━━━━━━━━━━━━━━\u001b[0m\u001b[37m\u001b[0m \u001b[1m0s\u001b[0m 6ms/step - loss: 134704.8281 - val_loss: 126728.2734\n",
      "Epoch 6/200\n",
      "\u001b[1m24/24\u001b[0m \u001b[32m━━━━━━━━━━━━━━━━━━━━\u001b[0m\u001b[37m\u001b[0m \u001b[1m0s\u001b[0m 6ms/step - loss: 126255.1484 - val_loss: 122397.8750\n",
      "Epoch 7/200\n",
      "\u001b[1m24/24\u001b[0m \u001b[32m━━━━━━━━━━━━━━━━━━━━\u001b[0m\u001b[37m\u001b[0m \u001b[1m0s\u001b[0m 6ms/step - loss: 124752.6094 - val_loss: 121363.8359\n",
      "Epoch 8/200\n",
      "\u001b[1m24/24\u001b[0m \u001b[32m━━━━━━━━━━━━━━━━━━━━\u001b[0m\u001b[37m\u001b[0m \u001b[1m0s\u001b[0m 6ms/step - loss: 128528.7344 - val_loss: 121557.0000\n",
      "Epoch 9/200\n",
      "\u001b[1m24/24\u001b[0m \u001b[32m━━━━━━━━━━━━━━━━━━━━\u001b[0m\u001b[37m\u001b[0m \u001b[1m0s\u001b[0m 6ms/step - loss: 124245.8516 - val_loss: 120181.3125\n",
      "Epoch 10/200\n",
      "\u001b[1m24/24\u001b[0m \u001b[32m━━━━━━━━━━━━━━━━━━━━\u001b[0m\u001b[37m\u001b[0m \u001b[1m0s\u001b[0m 6ms/step - loss: 123231.5781 - val_loss: 119790.1797\n",
      "Epoch 11/200\n",
      "\u001b[1m24/24\u001b[0m \u001b[32m━━━━━━━━━━━━━━━━━━━━\u001b[0m\u001b[37m\u001b[0m \u001b[1m0s\u001b[0m 6ms/step - loss: 119695.6797 - val_loss: 119613.0625\n",
      "Epoch 12/200\n",
      "\u001b[1m24/24\u001b[0m \u001b[32m━━━━━━━━━━━━━━━━━━━━\u001b[0m\u001b[37m\u001b[0m \u001b[1m0s\u001b[0m 6ms/step - loss: 125724.3672 - val_loss: 119431.2188\n",
      "Epoch 13/200\n",
      "\u001b[1m24/24\u001b[0m \u001b[32m━━━━━━━━━━━━━━━━━━━━\u001b[0m\u001b[37m\u001b[0m \u001b[1m0s\u001b[0m 5ms/step - loss: 125133.0469 - val_loss: 119739.1016\n",
      "Epoch 14/200\n",
      "\u001b[1m24/24\u001b[0m \u001b[32m━━━━━━━━━━━━━━━━━━━━\u001b[0m\u001b[37m\u001b[0m \u001b[1m0s\u001b[0m 5ms/step - loss: 122297.7422 - val_loss: 119031.3516\n",
      "Epoch 15/200\n",
      "\u001b[1m24/24\u001b[0m \u001b[32m━━━━━━━━━━━━━━━━━━━━\u001b[0m\u001b[37m\u001b[0m \u001b[1m0s\u001b[0m 5ms/step - loss: 123063.0859 - val_loss: 118935.5234\n",
      "Epoch 16/200\n",
      "\u001b[1m24/24\u001b[0m \u001b[32m━━━━━━━━━━━━━━━━━━━━\u001b[0m\u001b[37m\u001b[0m \u001b[1m0s\u001b[0m 5ms/step - loss: 123004.2188 - val_loss: 118185.7812\n",
      "Epoch 17/200\n",
      "\u001b[1m24/24\u001b[0m \u001b[32m━━━━━━━━━━━━━━━━━━━━\u001b[0m\u001b[37m\u001b[0m \u001b[1m0s\u001b[0m 5ms/step - loss: 118522.4609 - val_loss: 117703.2266\n",
      "Epoch 18/200\n",
      "\u001b[1m24/24\u001b[0m \u001b[32m━━━━━━━━━━━━━━━━━━━━\u001b[0m\u001b[37m\u001b[0m \u001b[1m0s\u001b[0m 5ms/step - loss: 124230.0000 - val_loss: 117209.6328\n",
      "Epoch 19/200\n",
      "\u001b[1m24/24\u001b[0m \u001b[32m━━━━━━━━━━━━━━━━━━━━\u001b[0m\u001b[37m\u001b[0m \u001b[1m0s\u001b[0m 5ms/step - loss: 121480.2734 - val_loss: 116335.0625\n",
      "Epoch 20/200\n",
      "\u001b[1m24/24\u001b[0m \u001b[32m━━━━━━━━━━━━━━━━━━━━\u001b[0m\u001b[37m\u001b[0m \u001b[1m0s\u001b[0m 5ms/step - loss: 126391.8750 - val_loss: 116316.0859\n",
      "Epoch 21/200\n",
      "\u001b[1m24/24\u001b[0m \u001b[32m━━━━━━━━━━━━━━━━━━━━\u001b[0m\u001b[37m\u001b[0m \u001b[1m0s\u001b[0m 5ms/step - loss: 119318.0859 - val_loss: 114561.9453\n",
      "Epoch 22/200\n",
      "\u001b[1m24/24\u001b[0m \u001b[32m━━━━━━━━━━━━━━━━━━━━\u001b[0m\u001b[37m\u001b[0m \u001b[1m0s\u001b[0m 5ms/step - loss: 121815.8281 - val_loss: 113700.7812\n",
      "Epoch 23/200\n",
      "\u001b[1m24/24\u001b[0m \u001b[32m━━━━━━━━━━━━━━━━━━━━\u001b[0m\u001b[37m\u001b[0m \u001b[1m0s\u001b[0m 5ms/step - loss: 118714.6641 - val_loss: 112800.3750\n",
      "Epoch 24/200\n",
      "\u001b[1m24/24\u001b[0m \u001b[32m━━━━━━━━━━━━━━━━━━━━\u001b[0m\u001b[37m\u001b[0m \u001b[1m0s\u001b[0m 6ms/step - loss: 114985.3359 - val_loss: 109894.1875\n",
      "Epoch 25/200\n",
      "\u001b[1m24/24\u001b[0m \u001b[32m━━━━━━━━━━━━━━━━━━━━\u001b[0m\u001b[37m\u001b[0m \u001b[1m0s\u001b[0m 5ms/step - loss: 115466.7188 - val_loss: 106877.9609\n",
      "Epoch 26/200\n",
      "\u001b[1m24/24\u001b[0m \u001b[32m━━━━━━━━━━━━━━━━━━━━\u001b[0m\u001b[37m\u001b[0m \u001b[1m0s\u001b[0m 5ms/step - loss: 108543.1484 - val_loss: 107210.0703\n",
      "Epoch 27/200\n",
      "\u001b[1m24/24\u001b[0m \u001b[32m━━━━━━━━━━━━━━━━━━━━\u001b[0m\u001b[37m\u001b[0m \u001b[1m0s\u001b[0m 5ms/step - loss: 111063.3516 - val_loss: 103293.4453\n",
      "Epoch 28/200\n",
      "\u001b[1m24/24\u001b[0m \u001b[32m━━━━━━━━━━━━━━━━━━━━\u001b[0m\u001b[37m\u001b[0m \u001b[1m0s\u001b[0m 5ms/step - loss: 109139.9219 - val_loss: 102944.0859\n",
      "Epoch 29/200\n",
      "\u001b[1m24/24\u001b[0m \u001b[32m━━━━━━━━━━━━━━━━━━━━\u001b[0m\u001b[37m\u001b[0m \u001b[1m0s\u001b[0m 5ms/step - loss: 106277.7656 - val_loss: 108076.2188\n",
      "Epoch 30/200\n",
      "\u001b[1m24/24\u001b[0m \u001b[32m━━━━━━━━━━━━━━━━━━━━\u001b[0m\u001b[37m\u001b[0m \u001b[1m0s\u001b[0m 6ms/step - loss: 103334.6875 - val_loss: 96173.6797\n",
      "Epoch 31/200\n",
      "\u001b[1m24/24\u001b[0m \u001b[32m━━━━━━━━━━━━━━━━━━━━\u001b[0m\u001b[37m\u001b[0m \u001b[1m0s\u001b[0m 6ms/step - loss: 94310.1484 - val_loss: 91128.3516\n",
      "Epoch 32/200\n",
      "\u001b[1m24/24\u001b[0m \u001b[32m━━━━━━━━━━━━━━━━━━━━\u001b[0m\u001b[37m\u001b[0m \u001b[1m0s\u001b[0m 6ms/step - loss: 95897.0859 - val_loss: 92710.0078\n",
      "Epoch 33/200\n",
      "\u001b[1m24/24\u001b[0m \u001b[32m━━━━━━━━━━━━━━━━━━━━\u001b[0m\u001b[37m\u001b[0m \u001b[1m0s\u001b[0m 6ms/step - loss: 93526.3672 - val_loss: 92195.8047\n",
      "Epoch 34/200\n",
      "\u001b[1m24/24\u001b[0m \u001b[32m━━━━━━━━━━━━━━━━━━━━\u001b[0m\u001b[37m\u001b[0m \u001b[1m0s\u001b[0m 6ms/step - loss: 91462.7344 - val_loss: 91610.4766\n",
      "Epoch 35/200\n",
      "\u001b[1m24/24\u001b[0m \u001b[32m━━━━━━━━━━━━━━━━━━━━\u001b[0m\u001b[37m\u001b[0m \u001b[1m0s\u001b[0m 5ms/step - loss: 91254.1172 - val_loss: 86954.7891\n",
      "Epoch 36/200\n",
      "\u001b[1m24/24\u001b[0m \u001b[32m━━━━━━━━━━━━━━━━━━━━\u001b[0m\u001b[37m\u001b[0m \u001b[1m0s\u001b[0m 5ms/step - loss: 88892.9453 - val_loss: 85248.8828\n",
      "Epoch 37/200\n",
      "\u001b[1m24/24\u001b[0m \u001b[32m━━━━━━━━━━━━━━━━━━━━\u001b[0m\u001b[37m\u001b[0m \u001b[1m0s\u001b[0m 5ms/step - loss: 85336.7031 - val_loss: 84677.2266\n",
      "Epoch 38/200\n",
      "\u001b[1m24/24\u001b[0m \u001b[32m━━━━━━━━━━━━━━━━━━━━\u001b[0m\u001b[37m\u001b[0m \u001b[1m0s\u001b[0m 5ms/step - loss: 83900.9062 - val_loss: 85669.2109\n",
      "Epoch 39/200\n",
      "\u001b[1m24/24\u001b[0m \u001b[32m━━━━━━━━━━━━━━━━━━━━\u001b[0m\u001b[37m\u001b[0m \u001b[1m0s\u001b[0m 5ms/step - loss: 87134.4844 - val_loss: 84469.6562\n",
      "Epoch 40/200\n",
      "\u001b[1m24/24\u001b[0m \u001b[32m━━━━━━━━━━━━━━━━━━━━\u001b[0m\u001b[37m\u001b[0m \u001b[1m0s\u001b[0m 5ms/step - loss: 85240.5234 - val_loss: 82870.0625\n",
      "Epoch 41/200\n",
      "\u001b[1m24/24\u001b[0m \u001b[32m━━━━━━━━━━━━━━━━━━━━\u001b[0m\u001b[37m\u001b[0m \u001b[1m0s\u001b[0m 6ms/step - loss: 87104.5078 - val_loss: 82161.4141\n",
      "Epoch 42/200\n",
      "\u001b[1m24/24\u001b[0m \u001b[32m━━━━━━━━━━━━━━━━━━━━\u001b[0m\u001b[37m\u001b[0m \u001b[1m0s\u001b[0m 6ms/step - loss: 82967.7891 - val_loss: 81321.7969\n",
      "Epoch 43/200\n",
      "\u001b[1m24/24\u001b[0m \u001b[32m━━━━━━━━━━━━━━━━━━━━\u001b[0m\u001b[37m\u001b[0m \u001b[1m0s\u001b[0m 6ms/step - loss: 79022.9609 - val_loss: 82452.9766\n",
      "Epoch 44/200\n",
      "\u001b[1m24/24\u001b[0m \u001b[32m━━━━━━━━━━━━━━━━━━━━\u001b[0m\u001b[37m\u001b[0m \u001b[1m0s\u001b[0m 6ms/step - loss: 81602.9453 - val_loss: 80616.2812\n",
      "Epoch 45/200\n",
      "\u001b[1m24/24\u001b[0m \u001b[32m━━━━━━━━━━━━━━━━━━━━\u001b[0m\u001b[37m\u001b[0m \u001b[1m0s\u001b[0m 6ms/step - loss: 84119.4844 - val_loss: 83536.5781\n",
      "Epoch 46/200\n",
      "\u001b[1m24/24\u001b[0m \u001b[32m━━━━━━━━━━━━━━━━━━━━\u001b[0m\u001b[37m\u001b[0m \u001b[1m0s\u001b[0m 6ms/step - loss: 85874.4688 - val_loss: 80187.2422\n",
      "Epoch 47/200\n",
      "\u001b[1m24/24\u001b[0m \u001b[32m━━━━━━━━━━━━━━━━━━━━\u001b[0m\u001b[37m\u001b[0m \u001b[1m0s\u001b[0m 6ms/step - loss: 79166.6016 - val_loss: 79789.8672\n",
      "Epoch 48/200\n",
      "\u001b[1m24/24\u001b[0m \u001b[32m━━━━━━━━━━━━━━━━━━━━\u001b[0m\u001b[37m\u001b[0m \u001b[1m0s\u001b[0m 6ms/step - loss: 84061.1328 - val_loss: 80336.8516\n",
      "Epoch 49/200\n",
      "\u001b[1m24/24\u001b[0m \u001b[32m━━━━━━━━━━━━━━━━━━━━\u001b[0m\u001b[37m\u001b[0m \u001b[1m0s\u001b[0m 5ms/step - loss: 84861.2188 - val_loss: 84530.7656\n",
      "Epoch 50/200\n",
      "\u001b[1m24/24\u001b[0m \u001b[32m━━━━━━━━━━━━━━━━━━━━\u001b[0m\u001b[37m\u001b[0m \u001b[1m0s\u001b[0m 5ms/step - loss: 84338.9922 - val_loss: 79335.3672\n",
      "Epoch 51/200\n",
      "\u001b[1m24/24\u001b[0m \u001b[32m━━━━━━━━━━━━━━━━━━━━\u001b[0m\u001b[37m\u001b[0m \u001b[1m0s\u001b[0m 5ms/step - loss: 77197.5781 - val_loss: 82275.8125\n",
      "Epoch 52/200\n",
      "\u001b[1m24/24\u001b[0m \u001b[32m━━━━━━━━━━━━━━━━━━━━\u001b[0m\u001b[37m\u001b[0m \u001b[1m0s\u001b[0m 6ms/step - loss: 80449.2266 - val_loss: 78876.3828\n",
      "Epoch 53/200\n",
      "\u001b[1m24/24\u001b[0m \u001b[32m━━━━━━━━━━━━━━━━━━━━\u001b[0m\u001b[37m\u001b[0m \u001b[1m0s\u001b[0m 6ms/step - loss: 81855.3594 - val_loss: 80896.1641\n",
      "Epoch 54/200\n",
      "\u001b[1m24/24\u001b[0m \u001b[32m━━━━━━━━━━━━━━━━━━━━\u001b[0m\u001b[37m\u001b[0m \u001b[1m0s\u001b[0m 5ms/step - loss: 79218.8516 - val_loss: 79683.8828\n",
      "Epoch 55/200\n",
      "\u001b[1m24/24\u001b[0m \u001b[32m━━━━━━━━━━━━━━━━━━━━\u001b[0m\u001b[37m\u001b[0m \u001b[1m0s\u001b[0m 6ms/step - loss: 77507.3672 - val_loss: 78416.3828\n",
      "Epoch 56/200\n",
      "\u001b[1m24/24\u001b[0m \u001b[32m━━━━━━━━━━━━━━━━━━━━\u001b[0m\u001b[37m\u001b[0m \u001b[1m0s\u001b[0m 5ms/step - loss: 80541.6953 - val_loss: 79303.3359\n",
      "Epoch 57/200\n",
      "\u001b[1m24/24\u001b[0m \u001b[32m━━━━━━━━━━━━━━━━━━━━\u001b[0m\u001b[37m\u001b[0m \u001b[1m0s\u001b[0m 6ms/step - loss: 80888.9375 - val_loss: 77615.5234\n",
      "Epoch 58/200\n",
      "\u001b[1m24/24\u001b[0m \u001b[32m━━━━━━━━━━━━━━━━━━━━\u001b[0m\u001b[37m\u001b[0m \u001b[1m0s\u001b[0m 6ms/step - loss: 76389.0156 - val_loss: 81514.8906\n",
      "Epoch 59/200\n",
      "\u001b[1m24/24\u001b[0m \u001b[32m━━━━━━━━━━━━━━━━━━━━\u001b[0m\u001b[37m\u001b[0m \u001b[1m0s\u001b[0m 6ms/step - loss: 77036.0391 - val_loss: 78923.1797\n",
      "Epoch 60/200\n",
      "\u001b[1m24/24\u001b[0m \u001b[32m━━━━━━━━━━━━━━━━━━━━\u001b[0m\u001b[37m\u001b[0m \u001b[1m0s\u001b[0m 5ms/step - loss: 77513.8672 - val_loss: 77307.8125\n",
      "Epoch 61/200\n",
      "\u001b[1m24/24\u001b[0m \u001b[32m━━━━━━━━━━━━━━━━━━━━\u001b[0m\u001b[37m\u001b[0m \u001b[1m0s\u001b[0m 5ms/step - loss: 79835.5547 - val_loss: 78439.9141\n",
      "Epoch 62/200\n",
      "\u001b[1m24/24\u001b[0m \u001b[32m━━━━━━━━━━━━━━━━━━━━\u001b[0m\u001b[37m\u001b[0m \u001b[1m0s\u001b[0m 5ms/step - loss: 76738.6250 - val_loss: 77595.6875\n",
      "Epoch 63/200\n",
      "\u001b[1m24/24\u001b[0m \u001b[32m━━━━━━━━━━━━━━━━━━━━\u001b[0m\u001b[37m\u001b[0m \u001b[1m0s\u001b[0m 5ms/step - loss: 77390.5156 - val_loss: 77119.9922\n",
      "Epoch 64/200\n",
      "\u001b[1m24/24\u001b[0m \u001b[32m━━━━━━━━━━━━━━━━━━━━\u001b[0m\u001b[37m\u001b[0m \u001b[1m0s\u001b[0m 5ms/step - loss: 82054.7344 - val_loss: 76752.8203\n",
      "Epoch 65/200\n",
      "\u001b[1m24/24\u001b[0m \u001b[32m━━━━━━━━━━━━━━━━━━━━\u001b[0m\u001b[37m\u001b[0m \u001b[1m0s\u001b[0m 5ms/step - loss: 80185.2578 - val_loss: 79506.4766\n",
      "Epoch 66/200\n",
      "\u001b[1m24/24\u001b[0m \u001b[32m━━━━━━━━━━━━━━━━━━━━\u001b[0m\u001b[37m\u001b[0m \u001b[1m0s\u001b[0m 5ms/step - loss: 78260.4141 - val_loss: 76314.8672\n",
      "Epoch 67/200\n",
      "\u001b[1m24/24\u001b[0m \u001b[32m━━━━━━━━━━━━━━━━━━━━\u001b[0m\u001b[37m\u001b[0m \u001b[1m0s\u001b[0m 5ms/step - loss: 79645.0469 - val_loss: 81496.9922\n",
      "Epoch 68/200\n",
      "\u001b[1m24/24\u001b[0m \u001b[32m━━━━━━━━━━━━━━━━━━━━\u001b[0m\u001b[37m\u001b[0m \u001b[1m0s\u001b[0m 5ms/step - loss: 76860.6328 - val_loss: 76574.6016\n",
      "Epoch 69/200\n",
      "\u001b[1m24/24\u001b[0m \u001b[32m━━━━━━━━━━━━━━━━━━━━\u001b[0m\u001b[37m\u001b[0m \u001b[1m0s\u001b[0m 5ms/step - loss: 76893.2500 - val_loss: 75687.2422\n",
      "Epoch 70/200\n",
      "\u001b[1m24/24\u001b[0m \u001b[32m━━━━━━━━━━━━━━━━━━━━\u001b[0m\u001b[37m\u001b[0m \u001b[1m0s\u001b[0m 5ms/step - loss: 76262.3828 - val_loss: 78750.2344\n",
      "Epoch 71/200\n",
      "\u001b[1m24/24\u001b[0m \u001b[32m━━━━━━━━━━━━━━━━━━━━\u001b[0m\u001b[37m\u001b[0m \u001b[1m0s\u001b[0m 6ms/step - loss: 80754.5859 - val_loss: 76122.0938\n",
      "Epoch 72/200\n",
      "\u001b[1m24/24\u001b[0m \u001b[32m━━━━━━━━━━━━━━━━━━━━\u001b[0m\u001b[37m\u001b[0m \u001b[1m0s\u001b[0m 6ms/step - loss: 77961.9531 - val_loss: 80972.4141\n",
      "Epoch 73/200\n",
      "\u001b[1m24/24\u001b[0m \u001b[32m━━━━━━━━━━━━━━━━━━━━\u001b[0m\u001b[37m\u001b[0m \u001b[1m0s\u001b[0m 5ms/step - loss: 78566.7188 - val_loss: 77500.9766\n",
      "Epoch 74/200\n",
      "\u001b[1m24/24\u001b[0m \u001b[32m━━━━━━━━━━━━━━━━━━━━\u001b[0m\u001b[37m\u001b[0m \u001b[1m0s\u001b[0m 5ms/step - loss: 78765.6562 - val_loss: 80274.2969\n",
      "Epoch 75/200\n",
      "\u001b[1m24/24\u001b[0m \u001b[32m━━━━━━━━━━━━━━━━━━━━\u001b[0m\u001b[37m\u001b[0m \u001b[1m0s\u001b[0m 5ms/step - loss: 80741.1172 - val_loss: 76903.9141\n",
      "Epoch 76/200\n",
      "\u001b[1m24/24\u001b[0m \u001b[32m━━━━━━━━━━━━━━━━━━━━\u001b[0m\u001b[37m\u001b[0m \u001b[1m0s\u001b[0m 6ms/step - loss: 74522.6016 - val_loss: 75838.9453\n",
      "Epoch 77/200\n",
      "\u001b[1m24/24\u001b[0m \u001b[32m━━━━━━━━━━━━━━━━━━━━\u001b[0m\u001b[37m\u001b[0m \u001b[1m0s\u001b[0m 5ms/step - loss: 74487.2656 - val_loss: 74595.0000\n",
      "Epoch 78/200\n",
      "\u001b[1m24/24\u001b[0m \u001b[32m━━━━━━━━━━━━━━━━━━━━\u001b[0m\u001b[37m\u001b[0m \u001b[1m0s\u001b[0m 5ms/step - loss: 76672.5078 - val_loss: 75294.0547\n",
      "Epoch 79/200\n",
      "\u001b[1m24/24\u001b[0m \u001b[32m━━━━━━━━━━━━━━━━━━━━\u001b[0m\u001b[37m\u001b[0m \u001b[1m0s\u001b[0m 5ms/step - loss: 78708.1719 - val_loss: 74943.6797\n",
      "Epoch 80/200\n",
      "\u001b[1m24/24\u001b[0m \u001b[32m━━━━━━━━━━━━━━━━━━━━\u001b[0m\u001b[37m\u001b[0m \u001b[1m0s\u001b[0m 5ms/step - loss: 75773.7969 - val_loss: 74777.7422\n",
      "Epoch 81/200\n",
      "\u001b[1m24/24\u001b[0m \u001b[32m━━━━━━━━━━━━━━━━━━━━\u001b[0m\u001b[37m\u001b[0m \u001b[1m0s\u001b[0m 5ms/step - loss: 74098.5938 - val_loss: 74138.8359\n",
      "Epoch 82/200\n",
      "\u001b[1m24/24\u001b[0m \u001b[32m━━━━━━━━━━━━━━━━━━━━\u001b[0m\u001b[37m\u001b[0m \u001b[1m0s\u001b[0m 5ms/step - loss: 74989.1094 - val_loss: 75818.6016\n",
      "Epoch 83/200\n",
      "\u001b[1m24/24\u001b[0m \u001b[32m━━━━━━━━━━━━━━━━━━━━\u001b[0m\u001b[37m\u001b[0m \u001b[1m0s\u001b[0m 5ms/step - loss: 78163.2656 - val_loss: 78976.8203\n",
      "Epoch 84/200\n",
      "\u001b[1m24/24\u001b[0m \u001b[32m━━━━━━━━━━━━━━━━━━━━\u001b[0m\u001b[37m\u001b[0m \u001b[1m0s\u001b[0m 5ms/step - loss: 77491.2109 - val_loss: 75568.7734\n",
      "Epoch 85/200\n",
      "\u001b[1m24/24\u001b[0m \u001b[32m━━━━━━━━━━━━━━━━━━━━\u001b[0m\u001b[37m\u001b[0m \u001b[1m0s\u001b[0m 5ms/step - loss: 81091.2109 - val_loss: 76709.4688\n",
      "Epoch 86/200\n",
      "\u001b[1m24/24\u001b[0m \u001b[32m━━━━━━━━━━━━━━━━━━━━\u001b[0m\u001b[37m\u001b[0m \u001b[1m0s\u001b[0m 5ms/step - loss: 73240.4531 - val_loss: 76519.3125\n",
      "Epoch 87/200\n",
      "\u001b[1m24/24\u001b[0m \u001b[32m━━━━━━━━━━━━━━━━━━━━\u001b[0m\u001b[37m\u001b[0m \u001b[1m0s\u001b[0m 5ms/step - loss: 74753.6250 - val_loss: 74405.1641\n",
      "Epoch 88/200\n",
      "\u001b[1m24/24\u001b[0m \u001b[32m━━━━━━━━━━━━━━━━━━━━\u001b[0m\u001b[37m\u001b[0m \u001b[1m0s\u001b[0m 6ms/step - loss: 78174.1797 - val_loss: 74218.3516\n",
      "Epoch 89/200\n",
      "\u001b[1m24/24\u001b[0m \u001b[32m━━━━━━━━━━━━━━━━━━━━\u001b[0m\u001b[37m\u001b[0m \u001b[1m0s\u001b[0m 5ms/step - loss: 75187.9766 - val_loss: 73812.8359\n",
      "Epoch 90/200\n",
      "\u001b[1m24/24\u001b[0m \u001b[32m━━━━━━━━━━━━━━━━━━━━\u001b[0m\u001b[37m\u001b[0m \u001b[1m0s\u001b[0m 5ms/step - loss: 70665.5391 - val_loss: 74254.1641\n",
      "Epoch 91/200\n",
      "\u001b[1m24/24\u001b[0m \u001b[32m━━━━━━━━━━━━━━━━━━━━\u001b[0m\u001b[37m\u001b[0m \u001b[1m0s\u001b[0m 5ms/step - loss: 78467.2578 - val_loss: 76158.8125\n",
      "Epoch 92/200\n",
      "\u001b[1m24/24\u001b[0m \u001b[32m━━━━━━━━━━━━━━━━━━━━\u001b[0m\u001b[37m\u001b[0m \u001b[1m0s\u001b[0m 5ms/step - loss: 78668.1875 - val_loss: 74709.3984\n",
      "Epoch 93/200\n",
      "\u001b[1m24/24\u001b[0m \u001b[32m━━━━━━━━━━━━━━━━━━━━\u001b[0m\u001b[37m\u001b[0m \u001b[1m0s\u001b[0m 5ms/step - loss: 76242.6641 - val_loss: 73567.4922\n",
      "Epoch 94/200\n",
      "\u001b[1m24/24\u001b[0m \u001b[32m━━━━━━━━━━━━━━━━━━━━\u001b[0m\u001b[37m\u001b[0m \u001b[1m0s\u001b[0m 5ms/step - loss: 73059.3281 - val_loss: 73713.8984\n",
      "Epoch 95/200\n",
      "\u001b[1m24/24\u001b[0m \u001b[32m━━━━━━━━━━━━━━━━━━━━\u001b[0m\u001b[37m\u001b[0m \u001b[1m0s\u001b[0m 5ms/step - loss: 73384.5156 - val_loss: 74532.2422\n",
      "Epoch 96/200\n",
      "\u001b[1m24/24\u001b[0m \u001b[32m━━━━━━━━━━━━━━━━━━━━\u001b[0m\u001b[37m\u001b[0m \u001b[1m0s\u001b[0m 5ms/step - loss: 70646.6250 - val_loss: 73790.3828\n",
      "Epoch 97/200\n",
      "\u001b[1m24/24\u001b[0m \u001b[32m━━━━━━━━━━━━━━━━━━━━\u001b[0m\u001b[37m\u001b[0m \u001b[1m0s\u001b[0m 5ms/step - loss: 71936.9141 - val_loss: 74552.3984\n",
      "Epoch 98/200\n",
      "\u001b[1m24/24\u001b[0m \u001b[32m━━━━━━━━━━━━━━━━━━━━\u001b[0m\u001b[37m\u001b[0m \u001b[1m0s\u001b[0m 5ms/step - loss: 71461.7109 - val_loss: 73138.5938\n",
      "Epoch 99/200\n",
      "\u001b[1m24/24\u001b[0m \u001b[32m━━━━━━━━━━━━━━━━━━━━\u001b[0m\u001b[37m\u001b[0m \u001b[1m0s\u001b[0m 5ms/step - loss: 71762.4766 - val_loss: 73088.4844\n",
      "Epoch 100/200\n",
      "\u001b[1m24/24\u001b[0m \u001b[32m━━━━━━━━━━━━━━━━━━━━\u001b[0m\u001b[37m\u001b[0m \u001b[1m0s\u001b[0m 6ms/step - loss: 74902.2500 - val_loss: 76324.4688\n",
      "Epoch 101/200\n",
      "\u001b[1m24/24\u001b[0m \u001b[32m━━━━━━━━━━━━━━━━━━━━\u001b[0m\u001b[37m\u001b[0m \u001b[1m0s\u001b[0m 5ms/step - loss: 71072.3906 - val_loss: 77550.1953\n",
      "Epoch 102/200\n",
      "\u001b[1m24/24\u001b[0m \u001b[32m━━━━━━━━━━━━━━━━━━━━\u001b[0m\u001b[37m\u001b[0m \u001b[1m0s\u001b[0m 5ms/step - loss: 74939.7891 - val_loss: 72665.3750\n",
      "Epoch 103/200\n",
      "\u001b[1m24/24\u001b[0m \u001b[32m━━━━━━━━━━━━━━━━━━━━\u001b[0m\u001b[37m\u001b[0m \u001b[1m0s\u001b[0m 5ms/step - loss: 68904.4062 - val_loss: 78562.7891\n",
      "Epoch 104/200\n",
      "\u001b[1m24/24\u001b[0m \u001b[32m━━━━━━━━━━━━━━━━━━━━\u001b[0m\u001b[37m\u001b[0m \u001b[1m0s\u001b[0m 5ms/step - loss: 73068.7344 - val_loss: 73374.9453\n",
      "Epoch 105/200\n",
      "\u001b[1m24/24\u001b[0m \u001b[32m━━━━━━━━━━━━━━━━━━━━\u001b[0m\u001b[37m\u001b[0m \u001b[1m0s\u001b[0m 5ms/step - loss: 74120.2500 - val_loss: 72892.3203\n",
      "Epoch 106/200\n",
      "\u001b[1m24/24\u001b[0m \u001b[32m━━━━━━━━━━━━━━━━━━━━\u001b[0m\u001b[37m\u001b[0m \u001b[1m0s\u001b[0m 5ms/step - loss: 74940.3984 - val_loss: 73625.9531\n",
      "Epoch 107/200\n",
      "\u001b[1m24/24\u001b[0m \u001b[32m━━━━━━━━━━━━━━━━━━━━\u001b[0m\u001b[37m\u001b[0m \u001b[1m0s\u001b[0m 5ms/step - loss: 71542.0156 - val_loss: 72991.3203\n",
      "Epoch 108/200\n",
      "\u001b[1m24/24\u001b[0m \u001b[32m━━━━━━━━━━━━━━━━━━━━\u001b[0m\u001b[37m\u001b[0m \u001b[1m0s\u001b[0m 5ms/step - loss: 72975.1016 - val_loss: 72454.1250\n",
      "Epoch 109/200\n",
      "\u001b[1m24/24\u001b[0m \u001b[32m━━━━━━━━━━━━━━━━━━━━\u001b[0m\u001b[37m\u001b[0m \u001b[1m0s\u001b[0m 5ms/step - loss: 75067.9062 - val_loss: 72274.1797\n",
      "Epoch 110/200\n",
      "\u001b[1m24/24\u001b[0m \u001b[32m━━━━━━━━━━━━━━━━━━━━\u001b[0m\u001b[37m\u001b[0m \u001b[1m0s\u001b[0m 6ms/step - loss: 74754.3984 - val_loss: 76582.1250\n",
      "Epoch 111/200\n",
      "\u001b[1m24/24\u001b[0m \u001b[32m━━━━━━━━━━━━━━━━━━━━\u001b[0m\u001b[37m\u001b[0m \u001b[1m0s\u001b[0m 5ms/step - loss: 74919.8281 - val_loss: 74876.7812\n",
      "Epoch 112/200\n",
      "\u001b[1m24/24\u001b[0m \u001b[32m━━━━━━━━━━━━━━━━━━━━\u001b[0m\u001b[37m\u001b[0m \u001b[1m0s\u001b[0m 5ms/step - loss: 73328.2188 - val_loss: 72880.9922\n",
      "Epoch 113/200\n",
      "\u001b[1m24/24\u001b[0m \u001b[32m━━━━━━━━━━━━━━━━━━━━\u001b[0m\u001b[37m\u001b[0m \u001b[1m0s\u001b[0m 5ms/step - loss: 73034.5000 - val_loss: 79757.6094\n",
      "Epoch 114/200\n",
      "\u001b[1m24/24\u001b[0m \u001b[32m━━━━━━━━━━━━━━━━━━━━\u001b[0m\u001b[37m\u001b[0m \u001b[1m0s\u001b[0m 5ms/step - loss: 77929.5391 - val_loss: 75386.7812\n",
      "Epoch 115/200\n",
      "\u001b[1m24/24\u001b[0m \u001b[32m━━━━━━━━━━━━━━━━━━━━\u001b[0m\u001b[37m\u001b[0m \u001b[1m0s\u001b[0m 5ms/step - loss: 75012.6406 - val_loss: 72281.7578\n",
      "Epoch 116/200\n",
      "\u001b[1m24/24\u001b[0m \u001b[32m━━━━━━━━━━━━━━━━━━━━\u001b[0m\u001b[37m\u001b[0m \u001b[1m0s\u001b[0m 5ms/step - loss: 66949.1484 - val_loss: 74369.0000\n",
      "Epoch 117/200\n",
      "\u001b[1m24/24\u001b[0m \u001b[32m━━━━━━━━━━━━━━━━━━━━\u001b[0m\u001b[37m\u001b[0m \u001b[1m0s\u001b[0m 6ms/step - loss: 71267.1172 - val_loss: 81701.6562\n",
      "Epoch 118/200\n",
      "\u001b[1m24/24\u001b[0m \u001b[32m━━━━━━━━━━━━━━━━━━━━\u001b[0m\u001b[37m\u001b[0m \u001b[1m0s\u001b[0m 5ms/step - loss: 72568.3984 - val_loss: 72572.8750\n",
      "Epoch 119/200\n",
      "\u001b[1m24/24\u001b[0m \u001b[32m━━━━━━━━━━━━━━━━━━━━\u001b[0m\u001b[37m\u001b[0m \u001b[1m0s\u001b[0m 6ms/step - loss: 68618.3281 - val_loss: 72692.3359\n",
      "Epoch 120/200\n",
      "\u001b[1m24/24\u001b[0m \u001b[32m━━━━━━━━━━━━━━━━━━━━\u001b[0m\u001b[37m\u001b[0m \u001b[1m0s\u001b[0m 5ms/step - loss: 70603.9375 - val_loss: 72565.8359\n",
      "Epoch 121/200\n",
      "\u001b[1m24/24\u001b[0m \u001b[32m━━━━━━━━━━━━━━━━━━━━\u001b[0m\u001b[37m\u001b[0m \u001b[1m0s\u001b[0m 5ms/step - loss: 70496.3750 - val_loss: 71823.4297\n",
      "Epoch 122/200\n",
      "\u001b[1m24/24\u001b[0m \u001b[32m━━━━━━━━━━━━━━━━━━━━\u001b[0m\u001b[37m\u001b[0m \u001b[1m0s\u001b[0m 5ms/step - loss: 71725.0859 - val_loss: 72171.6562\n",
      "Epoch 123/200\n",
      "\u001b[1m24/24\u001b[0m \u001b[32m━━━━━━━━━━━━━━━━━━━━\u001b[0m\u001b[37m\u001b[0m \u001b[1m0s\u001b[0m 5ms/step - loss: 70633.4062 - val_loss: 71929.5469\n",
      "Epoch 124/200\n",
      "\u001b[1m24/24\u001b[0m \u001b[32m━━━━━━━━━━━━━━━━━━━━\u001b[0m\u001b[37m\u001b[0m \u001b[1m0s\u001b[0m 5ms/step - loss: 73431.1406 - val_loss: 76276.0859\n",
      "Epoch 125/200\n",
      "\u001b[1m24/24\u001b[0m \u001b[32m━━━━━━━━━━━━━━━━━━━━\u001b[0m\u001b[37m\u001b[0m \u001b[1m0s\u001b[0m 6ms/step - loss: 70287.7578 - val_loss: 75737.7109\n",
      "Epoch 126/200\n",
      "\u001b[1m24/24\u001b[0m \u001b[32m━━━━━━━━━━━━━━━━━━━━\u001b[0m\u001b[37m\u001b[0m \u001b[1m0s\u001b[0m 5ms/step - loss: 72464.5156 - val_loss: 79823.3516\n",
      "Epoch 127/200\n",
      "\u001b[1m24/24\u001b[0m \u001b[32m━━━━━━━━━━━━━━━━━━━━\u001b[0m\u001b[37m\u001b[0m \u001b[1m0s\u001b[0m 5ms/step - loss: 73328.5625 - val_loss: 72424.1250\n",
      "Epoch 128/200\n",
      "\u001b[1m24/24\u001b[0m \u001b[32m━━━━━━━━━━━━━━━━━━━━\u001b[0m\u001b[37m\u001b[0m \u001b[1m0s\u001b[0m 5ms/step - loss: 70433.1641 - val_loss: 72779.4922\n",
      "Epoch 129/200\n",
      "\u001b[1m24/24\u001b[0m \u001b[32m━━━━━━━━━━━━━━━━━━━━\u001b[0m\u001b[37m\u001b[0m \u001b[1m0s\u001b[0m 5ms/step - loss: 72537.0234 - val_loss: 74314.3984\n",
      "Epoch 130/200\n",
      "\u001b[1m24/24\u001b[0m \u001b[32m━━━━━━━━━━━━━━━━━━━━\u001b[0m\u001b[37m\u001b[0m \u001b[1m0s\u001b[0m 5ms/step - loss: 74930.4609 - val_loss: 71784.5703\n",
      "Epoch 131/200\n",
      "\u001b[1m24/24\u001b[0m \u001b[32m━━━━━━━━━━━━━━━━━━━━\u001b[0m\u001b[37m\u001b[0m \u001b[1m0s\u001b[0m 5ms/step - loss: 72125.9531 - val_loss: 74049.9141\n",
      "Epoch 132/200\n",
      "\u001b[1m24/24\u001b[0m \u001b[32m━━━━━━━━━━━━━━━━━━━━\u001b[0m\u001b[37m\u001b[0m \u001b[1m0s\u001b[0m 5ms/step - loss: 71416.8672 - val_loss: 73743.4688\n",
      "Epoch 133/200\n",
      "\u001b[1m24/24\u001b[0m \u001b[32m━━━━━━━━━━━━━━━━━━━━\u001b[0m\u001b[37m\u001b[0m \u001b[1m0s\u001b[0m 5ms/step - loss: 72165.8047 - val_loss: 72340.7891\n",
      "Epoch 134/200\n",
      "\u001b[1m24/24\u001b[0m \u001b[32m━━━━━━━━━━━━━━━━━━━━\u001b[0m\u001b[37m\u001b[0m \u001b[1m0s\u001b[0m 5ms/step - loss: 69893.9453 - val_loss: 71709.3359\n",
      "Epoch 135/200\n",
      "\u001b[1m24/24\u001b[0m \u001b[32m━━━━━━━━━━━━━━━━━━━━\u001b[0m\u001b[37m\u001b[0m \u001b[1m0s\u001b[0m 5ms/step - loss: 70604.0938 - val_loss: 71916.7266\n",
      "Epoch 136/200\n",
      "\u001b[1m24/24\u001b[0m \u001b[32m━━━━━━━━━━━━━━━━━━━━\u001b[0m\u001b[37m\u001b[0m \u001b[1m0s\u001b[0m 5ms/step - loss: 69914.4062 - val_loss: 71626.2422\n",
      "Epoch 137/200\n",
      "\u001b[1m24/24\u001b[0m \u001b[32m━━━━━━━━━━━━━━━━━━━━\u001b[0m\u001b[37m\u001b[0m \u001b[1m0s\u001b[0m 5ms/step - loss: 72403.2422 - val_loss: 72616.8828\n",
      "Epoch 138/200\n",
      "\u001b[1m24/24\u001b[0m \u001b[32m━━━━━━━━━━━━━━━━━━━━\u001b[0m\u001b[37m\u001b[0m \u001b[1m0s\u001b[0m 5ms/step - loss: 71737.3672 - val_loss: 77046.2109\n",
      "Epoch 139/200\n",
      "\u001b[1m24/24\u001b[0m \u001b[32m━━━━━━━━━━━━━━━━━━━━\u001b[0m\u001b[37m\u001b[0m \u001b[1m0s\u001b[0m 5ms/step - loss: 70005.7109 - val_loss: 71319.9062\n",
      "Epoch 140/200\n",
      "\u001b[1m24/24\u001b[0m \u001b[32m━━━━━━━━━━━━━━━━━━━━\u001b[0m\u001b[37m\u001b[0m \u001b[1m0s\u001b[0m 5ms/step - loss: 66858.7969 - val_loss: 71687.1250\n",
      "Epoch 141/200\n",
      "\u001b[1m24/24\u001b[0m \u001b[32m━━━━━━━━━━━━━━━━━━━━\u001b[0m\u001b[37m\u001b[0m \u001b[1m0s\u001b[0m 5ms/step - loss: 68124.0312 - val_loss: 73787.9688\n",
      "Epoch 142/200\n",
      "\u001b[1m24/24\u001b[0m \u001b[32m━━━━━━━━━━━━━━━━━━━━\u001b[0m\u001b[37m\u001b[0m \u001b[1m0s\u001b[0m 5ms/step - loss: 68767.9453 - val_loss: 71312.6797\n",
      "Epoch 143/200\n",
      "\u001b[1m24/24\u001b[0m \u001b[32m━━━━━━━━━━━━━━━━━━━━\u001b[0m\u001b[37m\u001b[0m \u001b[1m0s\u001b[0m 5ms/step - loss: 70348.5859 - val_loss: 72147.5547\n",
      "Epoch 144/200\n",
      "\u001b[1m24/24\u001b[0m \u001b[32m━━━━━━━━━━━━━━━━━━━━\u001b[0m\u001b[37m\u001b[0m \u001b[1m0s\u001b[0m 5ms/step - loss: 73683.9297 - val_loss: 77833.6094\n",
      "Epoch 145/200\n",
      "\u001b[1m24/24\u001b[0m \u001b[32m━━━━━━━━━━━━━━━━━━━━\u001b[0m\u001b[37m\u001b[0m \u001b[1m0s\u001b[0m 5ms/step - loss: 72968.0000 - val_loss: 72451.1484\n",
      "Epoch 146/200\n",
      "\u001b[1m24/24\u001b[0m \u001b[32m━━━━━━━━━━━━━━━━━━━━\u001b[0m\u001b[37m\u001b[0m \u001b[1m0s\u001b[0m 5ms/step - loss: 69274.3750 - val_loss: 72458.3125\n",
      "Epoch 147/200\n",
      "\u001b[1m24/24\u001b[0m \u001b[32m━━━━━━━━━━━━━━━━━━━━\u001b[0m\u001b[37m\u001b[0m \u001b[1m0s\u001b[0m 5ms/step - loss: 70819.0078 - val_loss: 74498.7109\n",
      "Epoch 148/200\n",
      "\u001b[1m24/24\u001b[0m \u001b[32m━━━━━━━━━━━━━━━━━━━━\u001b[0m\u001b[37m\u001b[0m \u001b[1m0s\u001b[0m 5ms/step - loss: 70722.6016 - val_loss: 70891.0234\n",
      "Epoch 149/200\n",
      "\u001b[1m24/24\u001b[0m \u001b[32m━━━━━━━━━━━━━━━━━━━━\u001b[0m\u001b[37m\u001b[0m \u001b[1m0s\u001b[0m 6ms/step - loss: 74372.5391 - val_loss: 71960.4922\n",
      "Epoch 150/200\n",
      "\u001b[1m24/24\u001b[0m \u001b[32m━━━━━━━━━━━━━━━━━━━━\u001b[0m\u001b[37m\u001b[0m \u001b[1m0s\u001b[0m 5ms/step - loss: 67497.8672 - val_loss: 71351.6484\n",
      "Epoch 151/200\n",
      "\u001b[1m24/24\u001b[0m \u001b[32m━━━━━━━━━━━━━━━━━━━━\u001b[0m\u001b[37m\u001b[0m \u001b[1m0s\u001b[0m 5ms/step - loss: 67243.5156 - val_loss: 71879.7578\n",
      "Epoch 152/200\n",
      "\u001b[1m24/24\u001b[0m \u001b[32m━━━━━━━━━━━━━━━━━━━━\u001b[0m\u001b[37m\u001b[0m \u001b[1m0s\u001b[0m 5ms/step - loss: 68177.7812 - val_loss: 71141.3984\n",
      "Epoch 153/200\n",
      "\u001b[1m24/24\u001b[0m \u001b[32m━━━━━━━━━━━━━━━━━━━━\u001b[0m\u001b[37m\u001b[0m \u001b[1m0s\u001b[0m 5ms/step - loss: 71286.9922 - val_loss: 75633.4844\n",
      "Epoch 154/200\n",
      "\u001b[1m24/24\u001b[0m \u001b[32m━━━━━━━━━━━━━━━━━━━━\u001b[0m\u001b[37m\u001b[0m \u001b[1m0s\u001b[0m 5ms/step - loss: 70563.5312 - val_loss: 78897.0625\n",
      "Epoch 155/200\n",
      "\u001b[1m24/24\u001b[0m \u001b[32m━━━━━━━━━━━━━━━━━━━━\u001b[0m\u001b[37m\u001b[0m \u001b[1m0s\u001b[0m 5ms/step - loss: 72774.9375 - val_loss: 71992.7891\n",
      "Epoch 156/200\n",
      "\u001b[1m24/24\u001b[0m \u001b[32m━━━━━━━━━━━━━━━━━━━━\u001b[0m\u001b[37m\u001b[0m \u001b[1m0s\u001b[0m 5ms/step - loss: 67158.5078 - val_loss: 72622.9297\n",
      "Epoch 157/200\n",
      "\u001b[1m24/24\u001b[0m \u001b[32m━━━━━━━━━━━━━━━━━━━━\u001b[0m\u001b[37m\u001b[0m \u001b[1m0s\u001b[0m 5ms/step - loss: 71325.6016 - val_loss: 70843.6094\n",
      "Epoch 158/200\n",
      "\u001b[1m24/24\u001b[0m \u001b[32m━━━━━━━━━━━━━━━━━━━━\u001b[0m\u001b[37m\u001b[0m \u001b[1m0s\u001b[0m 6ms/step - loss: 67957.9922 - val_loss: 71486.6484\n",
      "Epoch 159/200\n",
      "\u001b[1m24/24\u001b[0m \u001b[32m━━━━━━━━━━━━━━━━━━━━\u001b[0m\u001b[37m\u001b[0m \u001b[1m0s\u001b[0m 5ms/step - loss: 69322.7969 - val_loss: 71725.2344\n",
      "Epoch 160/200\n",
      "\u001b[1m24/24\u001b[0m \u001b[32m━━━━━━━━━━━━━━━━━━━━\u001b[0m\u001b[37m\u001b[0m \u001b[1m0s\u001b[0m 5ms/step - loss: 68664.1094 - val_loss: 71715.9609\n",
      "Epoch 161/200\n",
      "\u001b[1m24/24\u001b[0m \u001b[32m━━━━━━━━━━━━━━━━━━━━\u001b[0m\u001b[37m\u001b[0m \u001b[1m0s\u001b[0m 5ms/step - loss: 67936.6875 - val_loss: 72156.5391\n",
      "Epoch 162/200\n",
      "\u001b[1m24/24\u001b[0m \u001b[32m━━━━━━━━━━━━━━━━━━━━\u001b[0m\u001b[37m\u001b[0m \u001b[1m0s\u001b[0m 5ms/step - loss: 71945.6719 - val_loss: 72407.4844\n",
      "Epoch 163/200\n",
      "\u001b[1m24/24\u001b[0m \u001b[32m━━━━━━━━━━━━━━━━━━━━\u001b[0m\u001b[37m\u001b[0m \u001b[1m0s\u001b[0m 6ms/step - loss: 66937.2188 - val_loss: 72842.6875\n",
      "Epoch 164/200\n",
      "\u001b[1m24/24\u001b[0m \u001b[32m━━━━━━━━━━━━━━━━━━━━\u001b[0m\u001b[37m\u001b[0m \u001b[1m0s\u001b[0m 5ms/step - loss: 69069.3828 - val_loss: 71705.4375\n",
      "Epoch 165/200\n",
      "\u001b[1m24/24\u001b[0m \u001b[32m━━━━━━━━━━━━━━━━━━━━\u001b[0m\u001b[37m\u001b[0m \u001b[1m0s\u001b[0m 5ms/step - loss: 67081.2578 - val_loss: 73563.0547\n",
      "Epoch 166/200\n",
      "\u001b[1m24/24\u001b[0m \u001b[32m━━━━━━━━━━━━━━━━━━━━\u001b[0m\u001b[37m\u001b[0m \u001b[1m0s\u001b[0m 5ms/step - loss: 68932.2188 - val_loss: 70853.2812\n",
      "Epoch 167/200\n",
      "\u001b[1m24/24\u001b[0m \u001b[32m━━━━━━━━━━━━━━━━━━━━\u001b[0m\u001b[37m\u001b[0m \u001b[1m0s\u001b[0m 5ms/step - loss: 69097.4766 - val_loss: 70978.4766\n",
      "Epoch 168/200\n",
      "\u001b[1m24/24\u001b[0m \u001b[32m━━━━━━━━━━━━━━━━━━━━\u001b[0m\u001b[37m\u001b[0m \u001b[1m0s\u001b[0m 6ms/step - loss: 66541.8047 - val_loss: 71421.8359\n",
      "Epoch 169/200\n",
      "\u001b[1m24/24\u001b[0m \u001b[32m━━━━━━━━━━━━━━━━━━━━\u001b[0m\u001b[37m\u001b[0m \u001b[1m0s\u001b[0m 5ms/step - loss: 70747.0000 - val_loss: 71069.9297\n",
      "Epoch 170/200\n",
      "\u001b[1m24/24\u001b[0m \u001b[32m━━━━━━━━━━━━━━━━━━━━\u001b[0m\u001b[37m\u001b[0m \u001b[1m0s\u001b[0m 5ms/step - loss: 67628.0625 - val_loss: 70677.8906\n",
      "Epoch 171/200\n",
      "\u001b[1m24/24\u001b[0m \u001b[32m━━━━━━━━━━━━━━━━━━━━\u001b[0m\u001b[37m\u001b[0m \u001b[1m0s\u001b[0m 4ms/step - loss: 67797.4062 - val_loss: 70481.9766\n",
      "Epoch 172/200\n",
      "\u001b[1m24/24\u001b[0m \u001b[32m━━━━━━━━━━━━━━━━━━━━\u001b[0m\u001b[37m\u001b[0m \u001b[1m0s\u001b[0m 5ms/step - loss: 66820.9062 - val_loss: 73951.2891\n",
      "Epoch 173/200\n",
      "\u001b[1m24/24\u001b[0m \u001b[32m━━━━━━━━━━━━━━━━━━━━\u001b[0m\u001b[37m\u001b[0m \u001b[1m0s\u001b[0m 5ms/step - loss: 70757.8984 - val_loss: 72480.9453\n",
      "Epoch 174/200\n",
      "\u001b[1m24/24\u001b[0m \u001b[32m━━━━━━━━━━━━━━━━━━━━\u001b[0m\u001b[37m\u001b[0m \u001b[1m0s\u001b[0m 5ms/step - loss: 67071.7578 - val_loss: 70430.1406\n",
      "Epoch 175/200\n",
      "\u001b[1m24/24\u001b[0m \u001b[32m━━━━━━━━━━━━━━━━━━━━\u001b[0m\u001b[37m\u001b[0m \u001b[1m0s\u001b[0m 5ms/step - loss: 66495.6719 - val_loss: 70398.8828\n",
      "Epoch 176/200\n",
      "\u001b[1m24/24\u001b[0m \u001b[32m━━━━━━━━━━━━━━━━━━━━\u001b[0m\u001b[37m\u001b[0m \u001b[1m0s\u001b[0m 4ms/step - loss: 69014.2422 - val_loss: 70544.2266\n",
      "Epoch 177/200\n",
      "\u001b[1m24/24\u001b[0m \u001b[32m━━━━━━━━━━━━━━━━━━━━\u001b[0m\u001b[37m\u001b[0m \u001b[1m0s\u001b[0m 5ms/step - loss: 72479.2266 - val_loss: 76545.9375\n",
      "Epoch 178/200\n",
      "\u001b[1m24/24\u001b[0m \u001b[32m━━━━━━━━━━━━━━━━━━━━\u001b[0m\u001b[37m\u001b[0m \u001b[1m0s\u001b[0m 5ms/step - loss: 72145.5000 - val_loss: 71437.6797\n",
      "Epoch 179/200\n",
      "\u001b[1m24/24\u001b[0m \u001b[32m━━━━━━━━━━━━━━━━━━━━\u001b[0m\u001b[37m\u001b[0m \u001b[1m0s\u001b[0m 5ms/step - loss: 70206.9297 - val_loss: 73384.8828\n",
      "Epoch 180/200\n",
      "\u001b[1m24/24\u001b[0m \u001b[32m━━━━━━━━━━━━━━━━━━━━\u001b[0m\u001b[37m\u001b[0m \u001b[1m0s\u001b[0m 5ms/step - loss: 66623.5469 - val_loss: 70545.4297\n",
      "Epoch 181/200\n",
      "\u001b[1m24/24\u001b[0m \u001b[32m━━━━━━━━━━━━━━━━━━━━\u001b[0m\u001b[37m\u001b[0m \u001b[1m0s\u001b[0m 5ms/step - loss: 67713.1406 - val_loss: 70217.6797\n",
      "Epoch 182/200\n",
      "\u001b[1m24/24\u001b[0m \u001b[32m━━━━━━━━━━━━━━━━━━━━\u001b[0m\u001b[37m\u001b[0m \u001b[1m0s\u001b[0m 5ms/step - loss: 67564.3828 - val_loss: 72339.8438\n",
      "Epoch 183/200\n",
      "\u001b[1m24/24\u001b[0m \u001b[32m━━━━━━━━━━━━━━━━━━━━\u001b[0m\u001b[37m\u001b[0m \u001b[1m0s\u001b[0m 5ms/step - loss: 69513.7266 - val_loss: 70752.8203\n",
      "Epoch 184/200\n",
      "\u001b[1m24/24\u001b[0m \u001b[32m━━━━━━━━━━━━━━━━━━━━\u001b[0m\u001b[37m\u001b[0m \u001b[1m0s\u001b[0m 6ms/step - loss: 66710.3281 - val_loss: 74426.6328\n",
      "Epoch 185/200\n",
      "\u001b[1m24/24\u001b[0m \u001b[32m━━━━━━━━━━━━━━━━━━━━\u001b[0m\u001b[37m\u001b[0m \u001b[1m0s\u001b[0m 7ms/step - loss: 69718.0156 - val_loss: 73777.8828\n",
      "Epoch 186/200\n",
      "\u001b[1m24/24\u001b[0m \u001b[32m━━━━━━━━━━━━━━━━━━━━\u001b[0m\u001b[37m\u001b[0m \u001b[1m0s\u001b[0m 6ms/step - loss: 67759.8984 - val_loss: 70895.3672\n",
      "Epoch 187/200\n",
      "\u001b[1m24/24\u001b[0m \u001b[32m━━━━━━━━━━━━━━━━━━━━\u001b[0m\u001b[37m\u001b[0m \u001b[1m0s\u001b[0m 6ms/step - loss: 67527.3438 - val_loss: 71425.6875\n",
      "Epoch 188/200\n",
      "\u001b[1m24/24\u001b[0m \u001b[32m━━━━━━━━━━━━━━━━━━━━\u001b[0m\u001b[37m\u001b[0m \u001b[1m0s\u001b[0m 6ms/step - loss: 62498.9688 - val_loss: 70110.0469\n",
      "Epoch 189/200\n",
      "\u001b[1m24/24\u001b[0m \u001b[32m━━━━━━━━━━━━━━━━━━━━\u001b[0m\u001b[37m\u001b[0m \u001b[1m0s\u001b[0m 5ms/step - loss: 69993.4375 - val_loss: 70045.7109\n",
      "Epoch 190/200\n",
      "\u001b[1m24/24\u001b[0m \u001b[32m━━━━━━━━━━━━━━━━━━━━\u001b[0m\u001b[37m\u001b[0m \u001b[1m0s\u001b[0m 5ms/step - loss: 67556.5938 - val_loss: 70943.3516\n",
      "Epoch 191/200\n",
      "\u001b[1m24/24\u001b[0m \u001b[32m━━━━━━━━━━━━━━━━━━━━\u001b[0m\u001b[37m\u001b[0m \u001b[1m0s\u001b[0m 5ms/step - loss: 70871.3672 - val_loss: 70093.3125\n",
      "Epoch 192/200\n",
      "\u001b[1m24/24\u001b[0m \u001b[32m━━━━━━━━━━━━━━━━━━━━\u001b[0m\u001b[37m\u001b[0m \u001b[1m0s\u001b[0m 5ms/step - loss: 69026.6094 - val_loss: 69815.8047\n",
      "Epoch 193/200\n",
      "\u001b[1m24/24\u001b[0m \u001b[32m━━━━━━━━━━━━━━━━━━━━\u001b[0m\u001b[37m\u001b[0m \u001b[1m0s\u001b[0m 5ms/step - loss: 69443.7500 - val_loss: 69642.3828\n",
      "Epoch 194/200\n",
      "\u001b[1m24/24\u001b[0m \u001b[32m━━━━━━━━━━━━━━━━━━━━\u001b[0m\u001b[37m\u001b[0m \u001b[1m0s\u001b[0m 5ms/step - loss: 65672.9453 - val_loss: 72001.3750\n",
      "Epoch 195/200\n",
      "\u001b[1m24/24\u001b[0m \u001b[32m━━━━━━━━━━━━━━━━━━━━\u001b[0m\u001b[37m\u001b[0m \u001b[1m0s\u001b[0m 5ms/step - loss: 70322.2812 - val_loss: 71895.9922\n",
      "Epoch 196/200\n",
      "\u001b[1m24/24\u001b[0m \u001b[32m━━━━━━━━━━━━━━━━━━━━\u001b[0m\u001b[37m\u001b[0m \u001b[1m0s\u001b[0m 5ms/step - loss: 67134.2422 - val_loss: 70518.1484\n",
      "Epoch 197/200\n",
      "\u001b[1m24/24\u001b[0m \u001b[32m━━━━━━━━━━━━━━━━━━━━\u001b[0m\u001b[37m\u001b[0m \u001b[1m0s\u001b[0m 5ms/step - loss: 63669.8867 - val_loss: 70989.8125\n",
      "Epoch 198/200\n",
      "\u001b[1m24/24\u001b[0m \u001b[32m━━━━━━━━━━━━━━━━━━━━\u001b[0m\u001b[37m\u001b[0m \u001b[1m0s\u001b[0m 5ms/step - loss: 67944.6719 - val_loss: 70345.7188\n",
      "Epoch 199/200\n",
      "\u001b[1m24/24\u001b[0m \u001b[32m━━━━━━━━━━━━━━━━━━━━\u001b[0m\u001b[37m\u001b[0m \u001b[1m0s\u001b[0m 5ms/step - loss: 69887.7422 - val_loss: 71469.5391\n",
      "Epoch 200/200\n",
      "\u001b[1m24/24\u001b[0m \u001b[32m━━━━━━━━━━━━━━━━━━━━\u001b[0m\u001b[37m\u001b[0m \u001b[1m0s\u001b[0m 5ms/step - loss: 68470.8516 - val_loss: 70432.6172\n"
     ]
    },
    {
     "data": {
      "text/plain": [
       "<keras.src.callbacks.history.History at 0x7c8c02712770>"
      ]
     },
     "execution_count": 43,
     "metadata": {},
     "output_type": "execute_result"
    }
   ],
   "source": [
    "model.add(tf.keras.layers.Dense(input_size,activation='relu'))\n",
    "model.add(tf.keras.layers.Dense(128,activation='relu'))\n",
    "model.add(tf.keras.layers.Dense(64,activation='relu'))\n",
    "model.add(tf.keras.layers.Dense(32,activation='relu'))\n",
    "model.add(tf.keras.layers.Dense(1))\n",
    "model.compile(loss='mse',optimizer='adam')\n",
    "#callback=tf.keras.callbacks.EarlyStopping(monitor='val_loss',mode='min',patience=6)\n",
    "model.fit(xtra,ytra,validation_data=(xtest,ytest),epochs=200,batch_size=500)"
   ]
  },
  {
   "cell_type": "code",
   "execution_count": 44,
   "id": "e903ff13",
   "metadata": {
    "execution": {
     "iopub.execute_input": "2024-03-03T17:12:14.973776Z",
     "iopub.status.busy": "2024-03-03T17:12:14.973399Z",
     "iopub.status.idle": "2024-03-03T17:12:14.977998Z",
     "shell.execute_reply": "2024-03-03T17:12:14.976772Z"
    },
    "papermill": {
     "duration": 0.084103,
     "end_time": "2024-03-03T17:12:14.980255",
     "exception": false,
     "start_time": "2024-03-03T17:12:14.896152",
     "status": "completed"
    },
    "tags": []
   },
   "outputs": [],
   "source": [
    "losses=model.history.history"
   ]
  },
  {
   "cell_type": "markdown",
   "id": "17116f13",
   "metadata": {
    "papermill": {
     "duration": 0.075967,
     "end_time": "2024-03-03T17:12:15.131865",
     "exception": false,
     "start_time": "2024-03-03T17:12:15.055898",
     "status": "completed"
    },
    "tags": []
   },
   "source": [
    "<div style=\"background-color: #000; padding: 10px; text-align: center; border-radius: 5px; box-shadow: 0 0 10px rgba(255, 255, 255, 0.7);\">\n",
    "    <p style=\"font-family: 'JetBrains Mono', monospace; font-weight: bold; letter-spacing: 2px; color: #fff; font-size: 140%; text-shadow: 0 0 10px rgba(255, 255, 255, 0.7);\">Results</p>\n",
    "</div>\n"
   ]
  },
  {
   "cell_type": "code",
   "execution_count": 45,
   "id": "4a96acfe",
   "metadata": {
    "execution": {
     "iopub.execute_input": "2024-03-03T17:12:15.285044Z",
     "iopub.status.busy": "2024-03-03T17:12:15.284609Z",
     "iopub.status.idle": "2024-03-03T17:12:15.529226Z",
     "shell.execute_reply": "2024-03-03T17:12:15.528065Z"
    },
    "papermill": {
     "duration": 0.323637,
     "end_time": "2024-03-03T17:12:15.531739",
     "exception": false,
     "start_time": "2024-03-03T17:12:15.208102",
     "status": "completed"
    },
    "tags": []
   },
   "outputs": [
    {
     "data": {
      "text/plain": [
       "<Axes: >"
      ]
     },
     "execution_count": 45,
     "metadata": {},
     "output_type": "execute_result"
    },
    {
     "data": {
      "image/png": "[encoded data removed]",
      "text/plain": [
       "<Figure size 640x480 with 1 Axes>"
      ]
     },
     "metadata": {},
     "output_type": "display_data"
    }
   ],
   "source": [
    "sb.lineplot(losses['loss'])\n",
    "sb.lineplot(losses['val_loss'])"
   ]
  },
  {
   "cell_type": "markdown",
   "id": "e0fc130a",
   "metadata": {
    "papermill": {
     "duration": 0.07617,
     "end_time": "2024-03-03T17:12:15.685282",
     "exception": false,
     "start_time": "2024-03-03T17:12:15.609112",
     "status": "completed"
    },
    "tags": []
   },
   "source": [
    "<div style=\"background-color: #000; padding: 10px; text-align: center; border-radius: 5px; box-shadow: 0 0 10px rgba(255, 255, 255, 0.7);\">\n",
    "    <p style=\"font-family: 'JetBrains Mono', monospace; font-weight: bold; letter-spacing: 2px; color: #fff; font-size: 140%; text-shadow: 0 0 10px rgba(255, 255, 255, 0.7);\">Adding Dropout Layers</p>\n",
    "</div>\n"
   ]
  },
  {
   "cell_type": "code",
   "execution_count": 46,
   "id": "3ba228f9",
   "metadata": {
    "_kg_hide-output": true,
    "execution": {
     "iopub.execute_input": "2024-03-03T17:12:15.841999Z",
     "iopub.status.busy": "2024-03-03T17:12:15.841549Z",
     "iopub.status.idle": "2024-03-03T17:13:19.971067Z",
     "shell.execute_reply": "2024-03-03T17:13:19.969834Z"
    },
    "papermill": {
     "duration": 64.209617,
     "end_time": "2024-03-03T17:13:19.973334",
     "exception": false,
     "start_time": "2024-03-03T17:12:15.763717",
     "status": "completed"
    },
    "tags": []
   },
   "outputs": [
    {
     "name": "stdout",
     "output_type": "stream",
     "text": [
      "Epoch 1/200\n",
      "\u001b[1m60/60\u001b[0m \u001b[32m━━━━━━━━━━━━━━━━━━━━\u001b[0m\u001b[37m\u001b[0m \u001b[1m2s\u001b[0m 6ms/step - loss: 312698.4688 - val_loss: 222891.6094\n",
      "Epoch 2/200\n",
      "\u001b[1m60/60\u001b[0m \u001b[32m━━━━━━━━━━━━━━━━━━━━\u001b[0m\u001b[37m\u001b[0m \u001b[1m0s\u001b[0m 4ms/step - loss: 168350.7812 - val_loss: 266144.8750\n",
      "Epoch 3/200\n",
      "\u001b[1m60/60\u001b[0m \u001b[32m━━━━━━━━━━━━━━━━━━━━\u001b[0m\u001b[37m\u001b[0m \u001b[1m0s\u001b[0m 4ms/step - loss: 156811.6094 - val_loss: 300264.5312\n",
      "Epoch 4/200\n",
      "\u001b[1m60/60\u001b[0m \u001b[32m━━━━━━━━━━━━━━━━━━━━\u001b[0m\u001b[37m\u001b[0m \u001b[1m0s\u001b[0m 4ms/step - loss: 149004.6250 - val_loss: 307944.7812\n",
      "Epoch 5/200\n",
      "\u001b[1m60/60\u001b[0m \u001b[32m━━━━━━━━━━━━━━━━━━━━\u001b[0m\u001b[37m\u001b[0m \u001b[1m0s\u001b[0m 4ms/step - loss: 148398.8594 - val_loss: 294655.7812\n",
      "Epoch 6/200\n",
      "\u001b[1m60/60\u001b[0m \u001b[32m━━━━━━━━━━━━━━━━━━━━\u001b[0m\u001b[37m\u001b[0m \u001b[1m0s\u001b[0m 4ms/step - loss: 149104.6562 - val_loss: 297658.2188\n",
      "Epoch 7/200\n",
      "\u001b[1m60/60\u001b[0m \u001b[32m━━━━━━━━━━━━━━━━━━━━\u001b[0m\u001b[37m\u001b[0m \u001b[1m0s\u001b[0m 4ms/step - loss: 140119.3438 - val_loss: 304496.8125\n",
      "Epoch 8/200\n",
      "\u001b[1m60/60\u001b[0m \u001b[32m━━━━━━━━━━━━━━━━━━━━\u001b[0m\u001b[37m\u001b[0m \u001b[1m0s\u001b[0m 5ms/step - loss: 138493.9375 - val_loss: 315957.0000\n",
      "Epoch 9/200\n",
      "\u001b[1m60/60\u001b[0m \u001b[32m━━━━━━━━━━━━━━━━━━━━\u001b[0m\u001b[37m\u001b[0m \u001b[1m1s\u001b[0m 4ms/step - loss: 136392.0625 - val_loss: 300006.4062\n",
      "Epoch 10/200\n",
      "\u001b[1m60/60\u001b[0m \u001b[32m━━━━━━━━━━━━━━━━━━━━\u001b[0m\u001b[37m\u001b[0m \u001b[1m0s\u001b[0m 4ms/step - loss: 140152.6406 - val_loss: 289605.8125\n",
      "Epoch 11/200\n",
      "\u001b[1m60/60\u001b[0m \u001b[32m━━━━━━━━━━━━━━━━━━━━\u001b[0m\u001b[37m\u001b[0m \u001b[1m0s\u001b[0m 4ms/step - loss: 134632.4844 - val_loss: 291370.8125\n",
      "Epoch 12/200\n",
      "\u001b[1m60/60\u001b[0m \u001b[32m━━━━━━━━━━━━━━━━━━━━\u001b[0m\u001b[37m\u001b[0m \u001b[1m0s\u001b[0m 4ms/step - loss: 127387.7891 - val_loss: 303333.3438\n",
      "Epoch 13/200\n",
      "\u001b[1m60/60\u001b[0m \u001b[32m━━━━━━━━━━━━━━━━━━━━\u001b[0m\u001b[37m\u001b[0m \u001b[1m0s\u001b[0m 4ms/step - loss: 133302.1875 - val_loss: 308391.6562\n",
      "Epoch 14/200\n",
      "\u001b[1m60/60\u001b[0m \u001b[32m━━━━━━━━━━━━━━━━━━━━\u001b[0m\u001b[37m\u001b[0m \u001b[1m0s\u001b[0m 4ms/step - loss: 136339.8594 - val_loss: 295765.6562\n",
      "Epoch 15/200\n",
      "\u001b[1m60/60\u001b[0m \u001b[32m━━━━━━━━━━━━━━━━━━━━\u001b[0m\u001b[37m\u001b[0m \u001b[1m0s\u001b[0m 5ms/step - loss: 136549.0625 - val_loss: 304487.0938\n",
      "Epoch 16/200\n",
      "\u001b[1m60/60\u001b[0m \u001b[32m━━━━━━━━━━━━━━━━━━━━\u001b[0m\u001b[37m\u001b[0m \u001b[1m0s\u001b[0m 4ms/step - loss: 127308.1016 - val_loss: 280650.1875\n",
      "Epoch 17/200\n",
      "\u001b[1m60/60\u001b[0m \u001b[32m━━━━━━━━━━━━━━━━━━━━\u001b[0m\u001b[37m\u001b[0m \u001b[1m0s\u001b[0m 4ms/step - loss: 132900.2969 - val_loss: 282090.0312\n",
      "Epoch 18/200\n",
      "\u001b[1m60/60\u001b[0m \u001b[32m━━━━━━━━━━━━━━━━━━━━\u001b[0m\u001b[37m\u001b[0m \u001b[1m0s\u001b[0m 4ms/step - loss: 131966.8594 - val_loss: 342681.0625\n",
      "Epoch 19/200\n",
      "\u001b[1m60/60\u001b[0m \u001b[32m━━━━━━━━━━━━━━━━━━━━\u001b[0m\u001b[37m\u001b[0m \u001b[1m0s\u001b[0m 4ms/step - loss: 132311.6719 - val_loss: 311948.0000\n",
      "Epoch 20/200\n",
      "\u001b[1m60/60\u001b[0m \u001b[32m━━━━━━━━━━━━━━━━━━━━\u001b[0m\u001b[37m\u001b[0m \u001b[1m0s\u001b[0m 4ms/step - loss: 131414.7969 - val_loss: 303661.0938\n",
      "Epoch 21/200\n",
      "\u001b[1m60/60\u001b[0m \u001b[32m━━━━━━━━━━━━━━━━━━━━\u001b[0m\u001b[37m\u001b[0m \u001b[1m0s\u001b[0m 4ms/step - loss: 127475.4844 - val_loss: 287719.7812\n",
      "Epoch 22/200\n",
      "\u001b[1m60/60\u001b[0m \u001b[32m━━━━━━━━━━━━━━━━━━━━\u001b[0m\u001b[37m\u001b[0m \u001b[1m0s\u001b[0m 4ms/step - loss: 124638.3438 - val_loss: 274562.7188\n",
      "Epoch 23/200\n",
      "\u001b[1m60/60\u001b[0m \u001b[32m━━━━━━━━━━━━━━━━━━━━\u001b[0m\u001b[37m\u001b[0m \u001b[1m0s\u001b[0m 4ms/step - loss: 124422.9062 - val_loss: 309053.3750\n",
      "Epoch 24/200\n",
      "\u001b[1m60/60\u001b[0m \u001b[32m━━━━━━━━━━━━━━━━━━━━\u001b[0m\u001b[37m\u001b[0m \u001b[1m0s\u001b[0m 4ms/step - loss: 118117.3828 - val_loss: 313048.0938\n",
      "Epoch 25/200\n",
      "\u001b[1m60/60\u001b[0m \u001b[32m━━━━━━━━━━━━━━━━━━━━\u001b[0m\u001b[37m\u001b[0m \u001b[1m0s\u001b[0m 4ms/step - loss: 119795.5469 - val_loss: 259013.6562\n",
      "Epoch 26/200\n",
      "\u001b[1m60/60\u001b[0m \u001b[32m━━━━━━━━━━━━━━━━━━━━\u001b[0m\u001b[37m\u001b[0m \u001b[1m0s\u001b[0m 4ms/step - loss: 118380.0000 - val_loss: 272104.8750\n",
      "Epoch 27/200\n",
      "\u001b[1m60/60\u001b[0m \u001b[32m━━━━━━━━━━━━━━━━━━━━\u001b[0m\u001b[37m\u001b[0m \u001b[1m0s\u001b[0m 4ms/step - loss: 113018.3125 - val_loss: 252692.6719\n",
      "Epoch 28/200\n",
      "\u001b[1m60/60\u001b[0m \u001b[32m━━━━━━━━━━━━━━━━━━━━\u001b[0m\u001b[37m\u001b[0m \u001b[1m0s\u001b[0m 4ms/step - loss: 115627.1484 - val_loss: 309719.3438\n",
      "Epoch 29/200\n",
      "\u001b[1m60/60\u001b[0m \u001b[32m━━━━━━━━━━━━━━━━━━━━\u001b[0m\u001b[37m\u001b[0m \u001b[1m0s\u001b[0m 4ms/step - loss: 107467.0000 - val_loss: 240420.6406\n",
      "Epoch 30/200\n",
      "\u001b[1m60/60\u001b[0m \u001b[32m━━━━━━━━━━━━━━━━━━━━\u001b[0m\u001b[37m\u001b[0m \u001b[1m0s\u001b[0m 4ms/step - loss: 104508.8359 - val_loss: 278243.5312\n",
      "Epoch 31/200\n",
      "\u001b[1m60/60\u001b[0m \u001b[32m━━━━━━━━━━━━━━━━━━━━\u001b[0m\u001b[37m\u001b[0m \u001b[1m0s\u001b[0m 4ms/step - loss: 100312.9297 - val_loss: 302737.0000\n",
      "Epoch 32/200\n",
      "\u001b[1m60/60\u001b[0m \u001b[32m━━━━━━━━━━━━━━━━━━━━\u001b[0m\u001b[37m\u001b[0m \u001b[1m0s\u001b[0m 4ms/step - loss: 115897.4766 - val_loss: 268390.0312\n",
      "Epoch 33/200\n",
      "\u001b[1m60/60\u001b[0m \u001b[32m━━━━━━━━━━━━━━━━━━━━\u001b[0m\u001b[37m\u001b[0m \u001b[1m0s\u001b[0m 4ms/step - loss: 97117.0469 - val_loss: 254528.9375\n",
      "Epoch 34/200\n",
      "\u001b[1m60/60\u001b[0m \u001b[32m━━━━━━━━━━━━━━━━━━━━\u001b[0m\u001b[37m\u001b[0m \u001b[1m0s\u001b[0m 4ms/step - loss: 97982.0000 - val_loss: 287431.7812\n",
      "Epoch 35/200\n",
      "\u001b[1m60/60\u001b[0m \u001b[32m━━━━━━━━━━━━━━━━━━━━\u001b[0m\u001b[37m\u001b[0m \u001b[1m0s\u001b[0m 4ms/step - loss: 98103.8125 - val_loss: 272005.1250\n",
      "Epoch 36/200\n",
      "\u001b[1m60/60\u001b[0m \u001b[32m━━━━━━━━━━━━━━━━━━━━\u001b[0m\u001b[37m\u001b[0m \u001b[1m0s\u001b[0m 4ms/step - loss: 99681.4844 - val_loss: 289454.9375\n",
      "Epoch 37/200\n",
      "\u001b[1m60/60\u001b[0m \u001b[32m━━━━━━━━━━━━━━━━━━━━\u001b[0m\u001b[37m\u001b[0m \u001b[1m0s\u001b[0m 4ms/step - loss: 95095.5000 - val_loss: 213949.6562\n",
      "Epoch 38/200\n",
      "\u001b[1m60/60\u001b[0m \u001b[32m━━━━━━━━━━━━━━━━━━━━\u001b[0m\u001b[37m\u001b[0m \u001b[1m0s\u001b[0m 4ms/step - loss: 101995.3516 - val_loss: 237009.6094\n",
      "Epoch 39/200\n",
      "\u001b[1m60/60\u001b[0m \u001b[32m━━━━━━━━━━━━━━━━━━━━\u001b[0m\u001b[37m\u001b[0m \u001b[1m0s\u001b[0m 4ms/step - loss: 93946.7891 - val_loss: 232625.5625\n",
      "Epoch 40/200\n",
      "\u001b[1m60/60\u001b[0m \u001b[32m━━━━━━━━━━━━━━━━━━━━\u001b[0m\u001b[37m\u001b[0m \u001b[1m0s\u001b[0m 4ms/step - loss: 96511.0781 - val_loss: 254398.1094\n",
      "Epoch 41/200\n",
      "\u001b[1m60/60\u001b[0m \u001b[32m━━━━━━━━━━━━━━━━━━━━\u001b[0m\u001b[37m\u001b[0m \u001b[1m0s\u001b[0m 4ms/step - loss: 94239.8672 - val_loss: 240657.3125\n",
      "Epoch 42/200\n",
      "\u001b[1m60/60\u001b[0m \u001b[32m━━━━━━━━━━━━━━━━━━━━\u001b[0m\u001b[37m\u001b[0m \u001b[1m0s\u001b[0m 4ms/step - loss: 98788.2812 - val_loss: 251572.2188\n",
      "Epoch 43/200\n",
      "\u001b[1m60/60\u001b[0m \u001b[32m━━━━━━━━━━━━━━━━━━━━\u001b[0m\u001b[37m\u001b[0m \u001b[1m0s\u001b[0m 4ms/step - loss: 91567.3516 - val_loss: 253617.2031\n",
      "Epoch 44/200\n",
      "\u001b[1m60/60\u001b[0m \u001b[32m━━━━━━━━━━━━━━━━━━━━\u001b[0m\u001b[37m\u001b[0m \u001b[1m0s\u001b[0m 4ms/step - loss: 90687.9375 - val_loss: 252168.0938\n",
      "Epoch 45/200\n",
      "\u001b[1m60/60\u001b[0m \u001b[32m━━━━━━━━━━━━━━━━━━━━\u001b[0m\u001b[37m\u001b[0m \u001b[1m0s\u001b[0m 4ms/step - loss: 91613.1016 - val_loss: 284120.9062\n",
      "Epoch 46/200\n",
      "\u001b[1m60/60\u001b[0m \u001b[32m━━━━━━━━━━━━━━━━━━━━\u001b[0m\u001b[37m\u001b[0m \u001b[1m0s\u001b[0m 4ms/step - loss: 93969.5156 - val_loss: 239175.8281\n",
      "Epoch 47/200\n",
      "\u001b[1m60/60\u001b[0m \u001b[32m━━━━━━━━━━━━━━━━━━━━\u001b[0m\u001b[37m\u001b[0m \u001b[1m0s\u001b[0m 4ms/step - loss: 90350.6094 - val_loss: 228538.2031\n",
      "Epoch 48/200\n",
      "\u001b[1m60/60\u001b[0m \u001b[32m━━━━━━━━━━━━━━━━━━━━\u001b[0m\u001b[37m\u001b[0m \u001b[1m0s\u001b[0m 4ms/step - loss: 91359.7734 - val_loss: 264111.4062\n",
      "Epoch 49/200\n",
      "\u001b[1m60/60\u001b[0m \u001b[32m━━━━━━━━━━━━━━━━━━━━\u001b[0m\u001b[37m\u001b[0m \u001b[1m0s\u001b[0m 4ms/step - loss: 89887.2812 - val_loss: 257568.0625\n",
      "Epoch 50/200\n",
      "\u001b[1m60/60\u001b[0m \u001b[32m━━━━━━━━━━━━━━━━━━━━\u001b[0m\u001b[37m\u001b[0m \u001b[1m0s\u001b[0m 4ms/step - loss: 89404.8203 - val_loss: 247719.3906\n",
      "Epoch 51/200\n",
      "\u001b[1m60/60\u001b[0m \u001b[32m━━━━━━━━━━━━━━━━━━━━\u001b[0m\u001b[37m\u001b[0m \u001b[1m0s\u001b[0m 5ms/step - loss: 91399.1719 - val_loss: 249863.0625\n",
      "Epoch 52/200\n",
      "\u001b[1m60/60\u001b[0m \u001b[32m━━━━━━━━━━━━━━━━━━━━\u001b[0m\u001b[37m\u001b[0m \u001b[1m0s\u001b[0m 5ms/step - loss: 91664.0859 - val_loss: 245573.5938\n",
      "Epoch 53/200\n",
      "\u001b[1m60/60\u001b[0m \u001b[32m━━━━━━━━━━━━━━━━━━━━\u001b[0m\u001b[37m\u001b[0m \u001b[1m0s\u001b[0m 4ms/step - loss: 90464.0547 - val_loss: 272749.1250\n",
      "Epoch 54/200\n",
      "\u001b[1m60/60\u001b[0m \u001b[32m━━━━━━━━━━━━━━━━━━━━\u001b[0m\u001b[37m\u001b[0m \u001b[1m0s\u001b[0m 4ms/step - loss: 89874.5078 - val_loss: 255633.5156\n",
      "Epoch 55/200\n",
      "\u001b[1m60/60\u001b[0m \u001b[32m━━━━━━━━━━━━━━━━━━━━\u001b[0m\u001b[37m\u001b[0m \u001b[1m0s\u001b[0m 4ms/step - loss: 88008.6953 - val_loss: 238395.3438\n",
      "Epoch 56/200\n",
      "\u001b[1m60/60\u001b[0m \u001b[32m━━━━━━━━━━━━━━━━━━━━\u001b[0m\u001b[37m\u001b[0m \u001b[1m0s\u001b[0m 4ms/step - loss: 88027.1172 - val_loss: 259986.7656\n",
      "Epoch 57/200\n",
      "\u001b[1m60/60\u001b[0m \u001b[32m━━━━━━━━━━━━━━━━━━━━\u001b[0m\u001b[37m\u001b[0m \u001b[1m0s\u001b[0m 4ms/step - loss: 89842.1172 - val_loss: 252017.3125\n",
      "Epoch 58/200\n",
      "\u001b[1m60/60\u001b[0m \u001b[32m━━━━━━━━━━━━━━━━━━━━\u001b[0m\u001b[37m\u001b[0m \u001b[1m0s\u001b[0m 4ms/step - loss: 87300.0000 - val_loss: 239234.9219\n",
      "Epoch 59/200\n",
      "\u001b[1m60/60\u001b[0m \u001b[32m━━━━━━━━━━━━━━━━━━━━\u001b[0m\u001b[37m\u001b[0m \u001b[1m0s\u001b[0m 4ms/step - loss: 88813.5312 - val_loss: 236830.9062\n",
      "Epoch 60/200\n",
      "\u001b[1m60/60\u001b[0m \u001b[32m━━━━━━━━━━━━━━━━━━━━\u001b[0m\u001b[37m\u001b[0m \u001b[1m0s\u001b[0m 4ms/step - loss: 86547.9688 - val_loss: 247232.8125\n",
      "Epoch 61/200\n",
      "\u001b[1m60/60\u001b[0m \u001b[32m━━━━━━━━━━━━━━━━━━━━\u001b[0m\u001b[37m\u001b[0m \u001b[1m0s\u001b[0m 5ms/step - loss: 85216.4062 - val_loss: 258405.1094\n",
      "Epoch 62/200\n",
      "\u001b[1m60/60\u001b[0m \u001b[32m━━━━━━━━━━━━━━━━━━━━\u001b[0m\u001b[37m\u001b[0m \u001b[1m1s\u001b[0m 4ms/step - loss: 82235.1641 - val_loss: 223956.3281\n",
      "Epoch 63/200\n",
      "\u001b[1m60/60\u001b[0m \u001b[32m━━━━━━━━━━━━━━━━━━━━\u001b[0m\u001b[37m\u001b[0m \u001b[1m0s\u001b[0m 4ms/step - loss: 92955.1562 - val_loss: 277177.8125\n",
      "Epoch 64/200\n",
      "\u001b[1m60/60\u001b[0m \u001b[32m━━━━━━━━━━━━━━━━━━━━\u001b[0m\u001b[37m\u001b[0m \u001b[1m0s\u001b[0m 5ms/step - loss: 86551.2891 - val_loss: 289498.8438\n",
      "Epoch 65/200\n",
      "\u001b[1m60/60\u001b[0m \u001b[32m━━━━━━━━━━━━━━━━━━━━\u001b[0m\u001b[37m\u001b[0m \u001b[1m0s\u001b[0m 4ms/step - loss: 91875.9688 - val_loss: 293034.9062\n",
      "Epoch 66/200\n",
      "\u001b[1m60/60\u001b[0m \u001b[32m━━━━━━━━━━━━━━━━━━━━\u001b[0m\u001b[37m\u001b[0m \u001b[1m0s\u001b[0m 4ms/step - loss: 87806.7109 - val_loss: 255862.2656\n",
      "Epoch 67/200\n",
      "\u001b[1m60/60\u001b[0m \u001b[32m━━━━━━━━━━━━━━━━━━━━\u001b[0m\u001b[37m\u001b[0m \u001b[1m0s\u001b[0m 4ms/step - loss: 84903.6016 - val_loss: 258260.5938\n",
      "Epoch 68/200\n",
      "\u001b[1m60/60\u001b[0m \u001b[32m━━━━━━━━━━━━━━━━━━━━\u001b[0m\u001b[37m\u001b[0m \u001b[1m0s\u001b[0m 5ms/step - loss: 93521.1875 - val_loss: 231649.1875\n",
      "Epoch 69/200\n",
      "\u001b[1m60/60\u001b[0m \u001b[32m━━━━━━━━━━━━━━━━━━━━\u001b[0m\u001b[37m\u001b[0m \u001b[1m1s\u001b[0m 4ms/step - loss: 84197.1719 - val_loss: 242351.3281\n",
      "Epoch 70/200\n",
      "\u001b[1m60/60\u001b[0m \u001b[32m━━━━━━━━━━━━━━━━━━━━\u001b[0m\u001b[37m\u001b[0m \u001b[1m0s\u001b[0m 4ms/step - loss: 83243.8203 - val_loss: 256887.2500\n",
      "Epoch 71/200\n",
      "\u001b[1m60/60\u001b[0m \u001b[32m━━━━━━━━━━━━━━━━━━━━\u001b[0m\u001b[37m\u001b[0m \u001b[1m0s\u001b[0m 5ms/step - loss: 85426.0156 - val_loss: 290648.6250\n",
      "Epoch 72/200\n",
      "\u001b[1m60/60\u001b[0m \u001b[32m━━━━━━━━━━━━━━━━━━━━\u001b[0m\u001b[37m\u001b[0m \u001b[1m1s\u001b[0m 5ms/step - loss: 88741.6328 - val_loss: 288592.5938\n",
      "Epoch 73/200\n",
      "\u001b[1m60/60\u001b[0m \u001b[32m━━━━━━━━━━━━━━━━━━━━\u001b[0m\u001b[37m\u001b[0m \u001b[1m1s\u001b[0m 4ms/step - loss: 88291.5000 - val_loss: 289818.2188\n",
      "Epoch 74/200\n",
      "\u001b[1m60/60\u001b[0m \u001b[32m━━━━━━━━━━━━━━━━━━━━\u001b[0m\u001b[37m\u001b[0m \u001b[1m0s\u001b[0m 5ms/step - loss: 84073.3984 - val_loss: 236835.6719\n",
      "Epoch 75/200\n",
      "\u001b[1m60/60\u001b[0m \u001b[32m━━━━━━━━━━━━━━━━━━━━\u001b[0m\u001b[37m\u001b[0m \u001b[1m0s\u001b[0m 4ms/step - loss: 86712.3672 - val_loss: 241937.0000\n",
      "Epoch 76/200\n",
      "\u001b[1m60/60\u001b[0m \u001b[32m━━━━━━━━━━━━━━━━━━━━\u001b[0m\u001b[37m\u001b[0m \u001b[1m0s\u001b[0m 4ms/step - loss: 85732.3438 - val_loss: 254013.5312\n",
      "Epoch 77/200\n",
      "\u001b[1m60/60\u001b[0m \u001b[32m━━━━━━━━━━━━━━━━━━━━\u001b[0m\u001b[37m\u001b[0m \u001b[1m0s\u001b[0m 4ms/step - loss: 83475.2578 - val_loss: 268208.6250\n",
      "Epoch 78/200\n",
      "\u001b[1m60/60\u001b[0m \u001b[32m━━━━━━━━━━━━━━━━━━━━\u001b[0m\u001b[37m\u001b[0m \u001b[1m0s\u001b[0m 4ms/step - loss: 81750.1016 - val_loss: 274942.0312\n",
      "Epoch 79/200\n",
      "\u001b[1m60/60\u001b[0m \u001b[32m━━━━━━━━━━━━━━━━━━━━\u001b[0m\u001b[37m\u001b[0m \u001b[1m0s\u001b[0m 4ms/step - loss: 89204.0312 - val_loss: 259304.9375\n",
      "Epoch 80/200\n",
      "\u001b[1m60/60\u001b[0m \u001b[32m━━━━━━━━━━━━━━━━━━━━\u001b[0m\u001b[37m\u001b[0m \u001b[1m0s\u001b[0m 5ms/step - loss: 80265.9688 - val_loss: 270753.6250\n",
      "Epoch 81/200\n",
      "\u001b[1m60/60\u001b[0m \u001b[32m━━━━━━━━━━━━━━━━━━━━\u001b[0m\u001b[37m\u001b[0m \u001b[1m1s\u001b[0m 5ms/step - loss: 81439.6016 - val_loss: 245641.2344\n",
      "Epoch 82/200\n",
      "\u001b[1m60/60\u001b[0m \u001b[32m━━━━━━━━━━━━━━━━━━━━\u001b[0m\u001b[37m\u001b[0m \u001b[1m1s\u001b[0m 5ms/step - loss: 84020.5000 - val_loss: 242555.5156\n",
      "Epoch 83/200\n",
      "\u001b[1m60/60\u001b[0m \u001b[32m━━━━━━━━━━━━━━━━━━━━\u001b[0m\u001b[37m\u001b[0m \u001b[1m1s\u001b[0m 4ms/step - loss: 86214.9609 - val_loss: 248021.4531\n",
      "Epoch 84/200\n",
      "\u001b[1m60/60\u001b[0m \u001b[32m━━━━━━━━━━━━━━━━━━━━\u001b[0m\u001b[37m\u001b[0m \u001b[1m0s\u001b[0m 4ms/step - loss: 85188.9609 - val_loss: 219605.2031\n",
      "Epoch 85/200\n",
      "\u001b[1m60/60\u001b[0m \u001b[32m━━━━━━━━━━━━━━━━━━━━\u001b[0m\u001b[37m\u001b[0m \u001b[1m0s\u001b[0m 4ms/step - loss: 85606.2266 - val_loss: 243841.2031\n",
      "Epoch 86/200\n",
      "\u001b[1m60/60\u001b[0m \u001b[32m━━━━━━━━━━━━━━━━━━━━\u001b[0m\u001b[37m\u001b[0m \u001b[1m0s\u001b[0m 4ms/step - loss: 86115.0156 - val_loss: 236987.7969\n",
      "Epoch 87/200\n",
      "\u001b[1m60/60\u001b[0m \u001b[32m━━━━━━━━━━━━━━━━━━━━\u001b[0m\u001b[37m\u001b[0m \u001b[1m0s\u001b[0m 5ms/step - loss: 85804.9844 - val_loss: 269714.3750\n",
      "Epoch 88/200\n",
      "\u001b[1m60/60\u001b[0m \u001b[32m━━━━━━━━━━━━━━━━━━━━\u001b[0m\u001b[37m\u001b[0m \u001b[1m0s\u001b[0m 4ms/step - loss: 88220.2422 - val_loss: 274888.1875\n",
      "Epoch 89/200\n",
      "\u001b[1m60/60\u001b[0m \u001b[32m━━━━━━━━━━━━━━━━━━━━\u001b[0m\u001b[37m\u001b[0m \u001b[1m0s\u001b[0m 4ms/step - loss: 87506.5938 - val_loss: 277314.2812\n",
      "Epoch 90/200\n",
      "\u001b[1m60/60\u001b[0m \u001b[32m━━━━━━━━━━━━━━━━━━━━\u001b[0m\u001b[37m\u001b[0m \u001b[1m0s\u001b[0m 4ms/step - loss: 81349.0859 - val_loss: 237701.2656\n",
      "Epoch 91/200\n",
      "\u001b[1m60/60\u001b[0m \u001b[32m━━━━━━━━━━━━━━━━━━━━\u001b[0m\u001b[37m\u001b[0m \u001b[1m0s\u001b[0m 4ms/step - loss: 83124.3438 - val_loss: 286364.0000\n",
      "Epoch 92/200\n",
      "\u001b[1m60/60\u001b[0m \u001b[32m━━━━━━━━━━━━━━━━━━━━\u001b[0m\u001b[37m\u001b[0m \u001b[1m0s\u001b[0m 4ms/step - loss: 87059.3359 - val_loss: 229042.0000\n",
      "Epoch 93/200\n",
      "\u001b[1m60/60\u001b[0m \u001b[32m━━━━━━━━━━━━━━━━━━━━\u001b[0m\u001b[37m\u001b[0m \u001b[1m0s\u001b[0m 4ms/step - loss: 87428.9375 - val_loss: 272734.0312\n",
      "Epoch 94/200\n",
      "\u001b[1m60/60\u001b[0m \u001b[32m━━━━━━━━━━━━━━━━━━━━\u001b[0m\u001b[37m\u001b[0m \u001b[1m0s\u001b[0m 4ms/step - loss: 88051.6016 - val_loss: 235691.0312\n",
      "Epoch 95/200\n",
      "\u001b[1m60/60\u001b[0m \u001b[32m━━━━━━━━━━━━━━━━━━━━\u001b[0m\u001b[37m\u001b[0m \u001b[1m0s\u001b[0m 4ms/step - loss: 82571.5000 - val_loss: 256821.7500\n",
      "Epoch 96/200\n",
      "\u001b[1m60/60\u001b[0m \u001b[32m━━━━━━━━━━━━━━━━━━━━\u001b[0m\u001b[37m\u001b[0m \u001b[1m0s\u001b[0m 4ms/step - loss: 83510.3906 - val_loss: 315612.9688\n",
      "Epoch 97/200\n",
      "\u001b[1m60/60\u001b[0m \u001b[32m━━━━━━━━━━━━━━━━━━━━\u001b[0m\u001b[37m\u001b[0m \u001b[1m0s\u001b[0m 4ms/step - loss: 82587.1250 - val_loss: 268946.5938\n",
      "Epoch 98/200\n",
      "\u001b[1m60/60\u001b[0m \u001b[32m━━━━━━━━━━━━━━━━━━━━\u001b[0m\u001b[37m\u001b[0m \u001b[1m0s\u001b[0m 4ms/step - loss: 90133.1406 - val_loss: 235473.8125\n",
      "Epoch 99/200\n",
      "\u001b[1m60/60\u001b[0m \u001b[32m━━━━━━━━━━━━━━━━━━━━\u001b[0m\u001b[37m\u001b[0m \u001b[1m0s\u001b[0m 4ms/step - loss: 82435.1797 - val_loss: 260053.3125\n",
      "Epoch 100/200\n",
      "\u001b[1m60/60\u001b[0m \u001b[32m━━━━━━━━━━━━━━━━━━━━\u001b[0m\u001b[37m\u001b[0m \u001b[1m0s\u001b[0m 4ms/step - loss: 83335.0547 - val_loss: 252060.5781\n",
      "Epoch 101/200\n",
      "\u001b[1m60/60\u001b[0m \u001b[32m━━━━━━━━━━━━━━━━━━━━\u001b[0m\u001b[37m\u001b[0m \u001b[1m0s\u001b[0m 4ms/step - loss: 81384.6953 - val_loss: 256300.7344\n",
      "Epoch 102/200\n",
      "\u001b[1m60/60\u001b[0m \u001b[32m━━━━━━━━━━━━━━━━━━━━\u001b[0m\u001b[37m\u001b[0m \u001b[1m0s\u001b[0m 4ms/step - loss: 82650.8672 - val_loss: 260719.4062\n",
      "Epoch 103/200\n",
      "\u001b[1m60/60\u001b[0m \u001b[32m━━━━━━━━━━━━━━━━━━━━\u001b[0m\u001b[37m\u001b[0m \u001b[1m0s\u001b[0m 4ms/step - loss: 80356.3047 - val_loss: 242871.2500\n",
      "Epoch 104/200\n",
      "\u001b[1m60/60\u001b[0m \u001b[32m━━━━━━━━━━━━━━━━━━━━\u001b[0m\u001b[37m\u001b[0m \u001b[1m0s\u001b[0m 4ms/step - loss: 83601.1406 - val_loss: 247417.0938\n",
      "Epoch 105/200\n",
      "\u001b[1m60/60\u001b[0m \u001b[32m━━━━━━━━━━━━━━━━━━━━\u001b[0m\u001b[37m\u001b[0m \u001b[1m0s\u001b[0m 4ms/step - loss: 84080.3359 - val_loss: 268374.7188\n",
      "Epoch 106/200\n",
      "\u001b[1m60/60\u001b[0m \u001b[32m━━━━━━━━━━━━━━━━━━━━\u001b[0m\u001b[37m\u001b[0m \u001b[1m0s\u001b[0m 4ms/step - loss: 84110.4609 - val_loss: 289324.6562\n",
      "Epoch 107/200\n",
      "\u001b[1m60/60\u001b[0m \u001b[32m━━━━━━━━━━━━━━━━━━━━\u001b[0m\u001b[37m\u001b[0m \u001b[1m0s\u001b[0m 5ms/step - loss: 84051.4062 - val_loss: 257013.4531\n",
      "Epoch 108/200\n",
      "\u001b[1m60/60\u001b[0m \u001b[32m━━━━━━━━━━━━━━━━━━━━\u001b[0m\u001b[37m\u001b[0m \u001b[1m1s\u001b[0m 4ms/step - loss: 82894.2578 - val_loss: 237152.7969\n",
      "Epoch 109/200\n",
      "\u001b[1m60/60\u001b[0m \u001b[32m━━━━━━━━━━━━━━━━━━━━\u001b[0m\u001b[37m\u001b[0m \u001b[1m0s\u001b[0m 4ms/step - loss: 82597.4609 - val_loss: 252051.0000\n",
      "Epoch 110/200\n",
      "\u001b[1m60/60\u001b[0m \u001b[32m━━━━━━━━━━━━━━━━━━━━\u001b[0m\u001b[37m\u001b[0m \u001b[1m0s\u001b[0m 4ms/step - loss: 79029.8438 - val_loss: 277168.4062\n",
      "Epoch 111/200\n",
      "\u001b[1m60/60\u001b[0m \u001b[32m━━━━━━━━━━━━━━━━━━━━\u001b[0m\u001b[37m\u001b[0m \u001b[1m0s\u001b[0m 5ms/step - loss: 82158.2188 - val_loss: 241198.0000\n",
      "Epoch 112/200\n",
      "\u001b[1m60/60\u001b[0m \u001b[32m━━━━━━━━━━━━━━━━━━━━\u001b[0m\u001b[37m\u001b[0m \u001b[1m1s\u001b[0m 5ms/step - loss: 80428.6328 - val_loss: 269567.0625\n",
      "Epoch 113/200\n",
      "\u001b[1m60/60\u001b[0m \u001b[32m━━━━━━━━━━━━━━━━━━━━\u001b[0m\u001b[37m\u001b[0m \u001b[1m1s\u001b[0m 4ms/step - loss: 79260.8516 - val_loss: 258876.6406\n",
      "Epoch 114/200\n",
      "\u001b[1m60/60\u001b[0m \u001b[32m━━━━━━━━━━━━━━━━━━━━\u001b[0m\u001b[37m\u001b[0m \u001b[1m0s\u001b[0m 5ms/step - loss: 84032.5625 - val_loss: 260451.6562\n",
      "Epoch 115/200\n",
      "\u001b[1m60/60\u001b[0m \u001b[32m━━━━━━━━━━━━━━━━━━━━\u001b[0m\u001b[37m\u001b[0m \u001b[1m0s\u001b[0m 4ms/step - loss: 83819.2812 - val_loss: 264874.7500\n",
      "Epoch 116/200\n",
      "\u001b[1m60/60\u001b[0m \u001b[32m━━━━━━━━━━━━━━━━━━━━\u001b[0m\u001b[37m\u001b[0m \u001b[1m0s\u001b[0m 4ms/step - loss: 84663.4688 - val_loss: 231417.4531\n",
      "Epoch 117/200\n",
      "\u001b[1m60/60\u001b[0m \u001b[32m━━━━━━━━━━━━━━━━━━━━\u001b[0m\u001b[37m\u001b[0m \u001b[1m0s\u001b[0m 5ms/step - loss: 81670.3984 - val_loss: 258190.4844\n",
      "Epoch 118/200\n",
      "\u001b[1m60/60\u001b[0m \u001b[32m━━━━━━━━━━━━━━━━━━━━\u001b[0m\u001b[37m\u001b[0m \u001b[1m0s\u001b[0m 4ms/step - loss: 81063.5703 - val_loss: 261706.6406\n",
      "Epoch 119/200\n",
      "\u001b[1m60/60\u001b[0m \u001b[32m━━━━━━━━━━━━━━━━━━━━\u001b[0m\u001b[37m\u001b[0m \u001b[1m0s\u001b[0m 4ms/step - loss: 83064.8594 - val_loss: 274921.0312\n",
      "Epoch 120/200\n",
      "\u001b[1m60/60\u001b[0m \u001b[32m━━━━━━━━━━━━━━━━━━━━\u001b[0m\u001b[37m\u001b[0m \u001b[1m0s\u001b[0m 4ms/step - loss: 82863.6719 - val_loss: 263092.6562\n",
      "Epoch 121/200\n",
      "\u001b[1m60/60\u001b[0m \u001b[32m━━━━━━━━━━━━━━━━━━━━\u001b[0m\u001b[37m\u001b[0m \u001b[1m0s\u001b[0m 5ms/step - loss: 82356.6406 - val_loss: 281598.9688\n",
      "Epoch 122/200\n",
      "\u001b[1m60/60\u001b[0m \u001b[32m━━━━━━━━━━━━━━━━━━━━\u001b[0m\u001b[37m\u001b[0m \u001b[1m0s\u001b[0m 4ms/step - loss: 84516.1016 - val_loss: 219685.0938\n",
      "Epoch 123/200\n",
      "\u001b[1m60/60\u001b[0m \u001b[32m━━━━━━━━━━━━━━━━━━━━\u001b[0m\u001b[37m\u001b[0m \u001b[1m0s\u001b[0m 4ms/step - loss: 81226.1172 - val_loss: 235604.8281\n",
      "Epoch 124/200\n",
      "\u001b[1m60/60\u001b[0m \u001b[32m━━━━━━━━━━━━━━━━━━━━\u001b[0m\u001b[37m\u001b[0m \u001b[1m0s\u001b[0m 5ms/step - loss: 84357.8047 - val_loss: 254551.9062\n",
      "Epoch 125/200\n",
      "\u001b[1m60/60\u001b[0m \u001b[32m━━━━━━━━━━━━━━━━━━━━\u001b[0m\u001b[37m\u001b[0m \u001b[1m0s\u001b[0m 4ms/step - loss: 81759.5547 - val_loss: 273072.5000\n",
      "Epoch 126/200\n",
      "\u001b[1m60/60\u001b[0m \u001b[32m━━━━━━━━━━━━━━━━━━━━\u001b[0m\u001b[37m\u001b[0m \u001b[1m0s\u001b[0m 5ms/step - loss: 82473.6328 - val_loss: 256261.3438\n",
      "Epoch 127/200\n",
      "\u001b[1m60/60\u001b[0m \u001b[32m━━━━━━━━━━━━━━━━━━━━\u001b[0m\u001b[37m\u001b[0m \u001b[1m1s\u001b[0m 4ms/step - loss: 78457.9453 - val_loss: 264221.3438\n",
      "Epoch 128/200\n",
      "\u001b[1m60/60\u001b[0m \u001b[32m━━━━━━━━━━━━━━━━━━━━\u001b[0m\u001b[37m\u001b[0m \u001b[1m0s\u001b[0m 4ms/step - loss: 82985.6484 - val_loss: 238220.0000\n",
      "Epoch 129/200\n",
      "\u001b[1m60/60\u001b[0m \u001b[32m━━━━━━━━━━━━━━━━━━━━\u001b[0m\u001b[37m\u001b[0m \u001b[1m0s\u001b[0m 4ms/step - loss: 84573.8125 - val_loss: 235098.6875\n",
      "Epoch 130/200\n",
      "\u001b[1m60/60\u001b[0m \u001b[32m━━━━━━━━━━━━━━━━━━━━\u001b[0m\u001b[37m\u001b[0m \u001b[1m0s\u001b[0m 4ms/step - loss: 79998.8281 - val_loss: 276430.5938\n",
      "Epoch 131/200\n",
      "\u001b[1m60/60\u001b[0m \u001b[32m━━━━━━━━━━━━━━━━━━━━\u001b[0m\u001b[37m\u001b[0m \u001b[1m0s\u001b[0m 4ms/step - loss: 81459.7578 - val_loss: 272080.7812\n",
      "Epoch 132/200\n",
      "\u001b[1m60/60\u001b[0m \u001b[32m━━━━━━━━━━━━━━━━━━━━\u001b[0m\u001b[37m\u001b[0m \u001b[1m0s\u001b[0m 4ms/step - loss: 77664.1016 - val_loss: 245265.5781\n",
      "Epoch 133/200\n",
      "\u001b[1m60/60\u001b[0m \u001b[32m━━━━━━━━━━━━━━━━━━━━\u001b[0m\u001b[37m\u001b[0m \u001b[1m0s\u001b[0m 5ms/step - loss: 79139.7266 - val_loss: 275084.5938\n",
      "Epoch 134/200\n",
      "\u001b[1m60/60\u001b[0m \u001b[32m━━━━━━━━━━━━━━━━━━━━\u001b[0m\u001b[37m\u001b[0m \u001b[1m0s\u001b[0m 4ms/step - loss: 80627.8672 - val_loss: 270215.0938\n",
      "Epoch 135/200\n",
      "\u001b[1m60/60\u001b[0m \u001b[32m━━━━━━━━━━━━━━━━━━━━\u001b[0m\u001b[37m\u001b[0m \u001b[1m0s\u001b[0m 4ms/step - loss: 81897.0547 - val_loss: 272606.2188\n",
      "Epoch 136/200\n",
      "\u001b[1m60/60\u001b[0m \u001b[32m━━━━━━━━━━━━━━━━━━━━\u001b[0m\u001b[37m\u001b[0m \u001b[1m0s\u001b[0m 4ms/step - loss: 82062.0938 - val_loss: 272769.7812\n",
      "Epoch 137/200\n",
      "\u001b[1m60/60\u001b[0m \u001b[32m━━━━━━━━━━━━━━━━━━━━\u001b[0m\u001b[37m\u001b[0m \u001b[1m0s\u001b[0m 4ms/step - loss: 81475.0781 - val_loss: 254537.6562\n",
      "Epoch 138/200\n",
      "\u001b[1m60/60\u001b[0m \u001b[32m━━━━━━━━━━━━━━━━━━━━\u001b[0m\u001b[37m\u001b[0m \u001b[1m0s\u001b[0m 4ms/step - loss: 77523.8359 - val_loss: 258319.0938\n",
      "Epoch 139/200\n",
      "\u001b[1m60/60\u001b[0m \u001b[32m━━━━━━━━━━━━━━━━━━━━\u001b[0m\u001b[37m\u001b[0m \u001b[1m0s\u001b[0m 4ms/step - loss: 81693.4609 - val_loss: 264960.1875\n",
      "Epoch 140/200\n",
      "\u001b[1m60/60\u001b[0m \u001b[32m━━━━━━━━━━━━━━━━━━━━\u001b[0m\u001b[37m\u001b[0m \u001b[1m0s\u001b[0m 4ms/step - loss: 80914.6172 - val_loss: 277092.8125\n",
      "Epoch 141/200\n",
      "\u001b[1m60/60\u001b[0m \u001b[32m━━━━━━━━━━━━━━━━━━━━\u001b[0m\u001b[37m\u001b[0m \u001b[1m0s\u001b[0m 4ms/step - loss: 77414.7812 - val_loss: 275625.9688\n",
      "Epoch 142/200\n",
      "\u001b[1m60/60\u001b[0m \u001b[32m━━━━━━━━━━━━━━━━━━━━\u001b[0m\u001b[37m\u001b[0m \u001b[1m0s\u001b[0m 4ms/step - loss: 78789.7422 - val_loss: 254644.4375\n",
      "Epoch 143/200\n",
      "\u001b[1m60/60\u001b[0m \u001b[32m━━━━━━━━━━━━━━━━━━━━\u001b[0m\u001b[37m\u001b[0m \u001b[1m0s\u001b[0m 4ms/step - loss: 80870.6094 - val_loss: 259337.4531\n",
      "Epoch 144/200\n",
      "\u001b[1m60/60\u001b[0m \u001b[32m━━━━━━━━━━━━━━━━━━━━\u001b[0m\u001b[37m\u001b[0m \u001b[1m0s\u001b[0m 4ms/step - loss: 81166.9766 - val_loss: 276409.0312\n",
      "Epoch 145/200\n",
      "\u001b[1m60/60\u001b[0m \u001b[32m━━━━━━━━━━━━━━━━━━━━\u001b[0m\u001b[37m\u001b[0m \u001b[1m0s\u001b[0m 4ms/step - loss: 81279.7266 - val_loss: 252992.7969\n",
      "Epoch 146/200\n",
      "\u001b[1m60/60\u001b[0m \u001b[32m━━━━━━━━━━━━━━━━━━━━\u001b[0m\u001b[37m\u001b[0m \u001b[1m0s\u001b[0m 4ms/step - loss: 83975.7734 - val_loss: 285776.9688\n",
      "Epoch 147/200\n",
      "\u001b[1m60/60\u001b[0m \u001b[32m━━━━━━━━━━━━━━━━━━━━\u001b[0m\u001b[37m\u001b[0m \u001b[1m0s\u001b[0m 4ms/step - loss: 79883.7500 - val_loss: 254742.3594\n",
      "Epoch 148/200\n",
      "\u001b[1m60/60\u001b[0m \u001b[32m━━━━━━━━━━━━━━━━━━━━\u001b[0m\u001b[37m\u001b[0m \u001b[1m0s\u001b[0m 4ms/step - loss: 81314.6016 - val_loss: 283849.5000\n",
      "Epoch 149/200\n",
      "\u001b[1m60/60\u001b[0m \u001b[32m━━━━━━━━━━━━━━━━━━━━\u001b[0m\u001b[37m\u001b[0m \u001b[1m0s\u001b[0m 4ms/step - loss: 81553.3516 - val_loss: 262638.8438\n",
      "Epoch 150/200\n",
      "\u001b[1m60/60\u001b[0m \u001b[32m━━━━━━━━━━━━━━━━━━━━\u001b[0m\u001b[37m\u001b[0m \u001b[1m0s\u001b[0m 4ms/step - loss: 77790.1406 - val_loss: 305376.0312\n",
      "Epoch 151/200\n",
      "\u001b[1m60/60\u001b[0m \u001b[32m━━━━━━━━━━━━━━━━━━━━\u001b[0m\u001b[37m\u001b[0m \u001b[1m0s\u001b[0m 4ms/step - loss: 79400.6719 - val_loss: 233882.6406\n",
      "Epoch 152/200\n",
      "\u001b[1m60/60\u001b[0m \u001b[32m━━━━━━━━━━━━━━━━━━━━\u001b[0m\u001b[37m\u001b[0m \u001b[1m0s\u001b[0m 4ms/step - loss: 81726.4062 - val_loss: 256279.5156\n",
      "Epoch 153/200\n",
      "\u001b[1m60/60\u001b[0m \u001b[32m━━━━━━━━━━━━━━━━━━━━\u001b[0m\u001b[37m\u001b[0m \u001b[1m0s\u001b[0m 4ms/step - loss: 80814.5000 - val_loss: 233576.2969\n",
      "Epoch 154/200\n",
      "\u001b[1m60/60\u001b[0m \u001b[32m━━━━━━━━━━━━━━━━━━━━\u001b[0m\u001b[37m\u001b[0m \u001b[1m0s\u001b[0m 4ms/step - loss: 78015.2422 - val_loss: 251056.7344\n",
      "Epoch 155/200\n",
      "\u001b[1m60/60\u001b[0m \u001b[32m━━━━━━━━━━━━━━━━━━━━\u001b[0m\u001b[37m\u001b[0m \u001b[1m0s\u001b[0m 4ms/step - loss: 81486.3125 - val_loss: 309510.0625\n",
      "Epoch 156/200\n",
      "\u001b[1m60/60\u001b[0m \u001b[32m━━━━━━━━━━━━━━━━━━━━\u001b[0m\u001b[37m\u001b[0m \u001b[1m0s\u001b[0m 4ms/step - loss: 83174.0234 - val_loss: 270900.3438\n",
      "Epoch 157/200\n",
      "\u001b[1m60/60\u001b[0m \u001b[32m━━━━━━━━━━━━━━━━━━━━\u001b[0m\u001b[37m\u001b[0m \u001b[1m0s\u001b[0m 4ms/step - loss: 78660.4375 - val_loss: 244790.9219\n",
      "Epoch 158/200\n",
      "\u001b[1m60/60\u001b[0m \u001b[32m━━━━━━━━━━━━━━━━━━━━\u001b[0m\u001b[37m\u001b[0m \u001b[1m0s\u001b[0m 4ms/step - loss: 80835.0000 - val_loss: 268190.5312\n",
      "Epoch 159/200\n",
      "\u001b[1m60/60\u001b[0m \u001b[32m━━━━━━━━━━━━━━━━━━━━\u001b[0m\u001b[37m\u001b[0m \u001b[1m0s\u001b[0m 4ms/step - loss: 79162.7344 - val_loss: 240553.8438\n",
      "Epoch 160/200\n",
      "\u001b[1m60/60\u001b[0m \u001b[32m━━━━━━━━━━━━━━━━━━━━\u001b[0m\u001b[37m\u001b[0m \u001b[1m0s\u001b[0m 4ms/step - loss: 82466.8672 - val_loss: 275273.5312\n",
      "Epoch 161/200\n",
      "\u001b[1m60/60\u001b[0m \u001b[32m━━━━━━━━━━━━━━━━━━━━\u001b[0m\u001b[37m\u001b[0m \u001b[1m0s\u001b[0m 4ms/step - loss: 85287.2031 - val_loss: 242303.7812\n",
      "Epoch 162/200\n",
      "\u001b[1m60/60\u001b[0m \u001b[32m━━━━━━━━━━━━━━━━━━━━\u001b[0m\u001b[37m\u001b[0m \u001b[1m0s\u001b[0m 4ms/step - loss: 80853.5938 - val_loss: 275968.9062\n",
      "Epoch 163/200\n",
      "\u001b[1m60/60\u001b[0m \u001b[32m━━━━━━━━━━━━━━━━━━━━\u001b[0m\u001b[37m\u001b[0m \u001b[1m0s\u001b[0m 4ms/step - loss: 79103.8438 - val_loss: 267428.6250\n",
      "Epoch 164/200\n",
      "\u001b[1m60/60\u001b[0m \u001b[32m━━━━━━━━━━━━━━━━━━━━\u001b[0m\u001b[37m\u001b[0m \u001b[1m0s\u001b[0m 4ms/step - loss: 81101.0156 - val_loss: 250103.1094\n",
      "Epoch 165/200\n",
      "\u001b[1m60/60\u001b[0m \u001b[32m━━━━━━━━━━━━━━━━━━━━\u001b[0m\u001b[37m\u001b[0m \u001b[1m0s\u001b[0m 4ms/step - loss: 79406.6328 - val_loss: 246718.3125\n",
      "Epoch 166/200\n",
      "\u001b[1m60/60\u001b[0m \u001b[32m━━━━━━━━━━━━━━━━━━━━\u001b[0m\u001b[37m\u001b[0m \u001b[1m0s\u001b[0m 4ms/step - loss: 76779.6484 - val_loss: 252162.5469\n",
      "Epoch 167/200\n",
      "\u001b[1m60/60\u001b[0m \u001b[32m━━━━━━━━━━━━━━━━━━━━\u001b[0m\u001b[37m\u001b[0m \u001b[1m0s\u001b[0m 4ms/step - loss: 79180.5000 - val_loss: 274645.6250\n",
      "Epoch 168/200\n",
      "\u001b[1m60/60\u001b[0m \u001b[32m━━━━━━━━━━━━━━━━━━━━\u001b[0m\u001b[37m\u001b[0m \u001b[1m0s\u001b[0m 4ms/step - loss: 79826.9922 - val_loss: 243010.7031\n",
      "Epoch 169/200\n",
      "\u001b[1m60/60\u001b[0m \u001b[32m━━━━━━━━━━━━━━━━━━━━\u001b[0m\u001b[37m\u001b[0m \u001b[1m0s\u001b[0m 4ms/step - loss: 85575.2734 - val_loss: 263417.9375\n",
      "Epoch 170/200\n",
      "\u001b[1m60/60\u001b[0m \u001b[32m━━━━━━━━━━━━━━━━━━━━\u001b[0m\u001b[37m\u001b[0m \u001b[1m0s\u001b[0m 4ms/step - loss: 80540.0625 - val_loss: 285112.1562\n",
      "Epoch 171/200\n",
      "\u001b[1m60/60\u001b[0m \u001b[32m━━━━━━━━━━━━━━━━━━━━\u001b[0m\u001b[37m\u001b[0m \u001b[1m0s\u001b[0m 4ms/step - loss: 79402.6328 - val_loss: 267683.5938\n",
      "Epoch 172/200\n",
      "\u001b[1m60/60\u001b[0m \u001b[32m━━━━━━━━━━━━━━━━━━━━\u001b[0m\u001b[37m\u001b[0m \u001b[1m0s\u001b[0m 4ms/step - loss: 79834.7422 - val_loss: 257894.2812\n",
      "Epoch 173/200\n",
      "\u001b[1m60/60\u001b[0m \u001b[32m━━━━━━━━━━━━━━━━━━━━\u001b[0m\u001b[37m\u001b[0m \u001b[1m0s\u001b[0m 4ms/step - loss: 77078.9688 - val_loss: 257942.0469\n",
      "Epoch 174/200\n",
      "\u001b[1m60/60\u001b[0m \u001b[32m━━━━━━━━━━━━━━━━━━━━\u001b[0m\u001b[37m\u001b[0m \u001b[1m0s\u001b[0m 4ms/step - loss: 79354.8594 - val_loss: 284497.9375\n",
      "Epoch 175/200\n",
      "\u001b[1m60/60\u001b[0m \u001b[32m━━━━━━━━━━━━━━━━━━━━\u001b[0m\u001b[37m\u001b[0m \u001b[1m0s\u001b[0m 4ms/step - loss: 82363.0625 - val_loss: 242038.1719\n",
      "Epoch 176/200\n",
      "\u001b[1m60/60\u001b[0m \u001b[32m━━━━━━━━━━━━━━━━━━━━\u001b[0m\u001b[37m\u001b[0m \u001b[1m0s\u001b[0m 4ms/step - loss: 79576.8594 - val_loss: 270936.5625\n",
      "Epoch 177/200\n",
      "\u001b[1m60/60\u001b[0m \u001b[32m━━━━━━━━━━━━━━━━━━━━\u001b[0m\u001b[37m\u001b[0m \u001b[1m0s\u001b[0m 4ms/step - loss: 79384.6797 - val_loss: 266873.6875\n",
      "Epoch 178/200\n",
      "\u001b[1m60/60\u001b[0m \u001b[32m━━━━━━━━━━━━━━━━━━━━\u001b[0m\u001b[37m\u001b[0m \u001b[1m0s\u001b[0m 4ms/step - loss: 78198.0312 - val_loss: 250615.5312\n",
      "Epoch 179/200\n",
      "\u001b[1m60/60\u001b[0m \u001b[32m━━━━━━━━━━━━━━━━━━━━\u001b[0m\u001b[37m\u001b[0m \u001b[1m0s\u001b[0m 4ms/step - loss: 84865.8203 - val_loss: 294120.7812\n",
      "Epoch 180/200\n",
      "\u001b[1m60/60\u001b[0m \u001b[32m━━━━━━━━━━━━━━━━━━━━\u001b[0m\u001b[37m\u001b[0m \u001b[1m0s\u001b[0m 4ms/step - loss: 82127.1016 - val_loss: 327538.1250\n",
      "Epoch 181/200\n",
      "\u001b[1m60/60\u001b[0m \u001b[32m━━━━━━━━━━━━━━━━━━━━\u001b[0m\u001b[37m\u001b[0m \u001b[1m0s\u001b[0m 4ms/step - loss: 80644.5156 - val_loss: 288691.0312\n",
      "Epoch 182/200\n",
      "\u001b[1m60/60\u001b[0m \u001b[32m━━━━━━━━━━━━━━━━━━━━\u001b[0m\u001b[37m\u001b[0m \u001b[1m0s\u001b[0m 5ms/step - loss: 80646.4141 - val_loss: 288303.4688\n",
      "Epoch 183/200\n",
      "\u001b[1m60/60\u001b[0m \u001b[32m━━━━━━━━━━━━━━━━━━━━\u001b[0m\u001b[37m\u001b[0m \u001b[1m0s\u001b[0m 5ms/step - loss: 83016.8125 - val_loss: 252126.0156\n",
      "Epoch 184/200\n",
      "\u001b[1m60/60\u001b[0m \u001b[32m━━━━━━━━━━━━━━━━━━━━\u001b[0m\u001b[37m\u001b[0m \u001b[1m1s\u001b[0m 4ms/step - loss: 75159.0938 - val_loss: 279683.4688\n",
      "Epoch 185/200\n",
      "\u001b[1m60/60\u001b[0m \u001b[32m━━━━━━━━━━━━━━━━━━━━\u001b[0m\u001b[37m\u001b[0m \u001b[1m0s\u001b[0m 4ms/step - loss: 79696.7812 - val_loss: 276838.7188\n",
      "Epoch 186/200\n",
      "\u001b[1m60/60\u001b[0m \u001b[32m━━━━━━━━━━━━━━━━━━━━\u001b[0m\u001b[37m\u001b[0m \u001b[1m0s\u001b[0m 4ms/step - loss: 77360.2812 - val_loss: 296542.0625\n",
      "Epoch 187/200\n",
      "\u001b[1m60/60\u001b[0m \u001b[32m━━━━━━━━━━━━━━━━━━━━\u001b[0m\u001b[37m\u001b[0m \u001b[1m0s\u001b[0m 5ms/step - loss: 75748.5625 - val_loss: 238973.3438\n",
      "Epoch 188/200\n",
      "\u001b[1m60/60\u001b[0m \u001b[32m━━━━━━━━━━━━━━━━━━━━\u001b[0m\u001b[37m\u001b[0m \u001b[1m0s\u001b[0m 4ms/step - loss: 81349.7578 - val_loss: 278606.6250\n",
      "Epoch 189/200\n",
      "\u001b[1m60/60\u001b[0m \u001b[32m━━━━━━━━━━━━━━━━━━━━\u001b[0m\u001b[37m\u001b[0m \u001b[1m0s\u001b[0m 4ms/step - loss: 76648.4297 - val_loss: 281332.1250\n",
      "Epoch 190/200\n",
      "\u001b[1m60/60\u001b[0m \u001b[32m━━━━━━━━━━━━━━━━━━━━\u001b[0m\u001b[37m\u001b[0m \u001b[1m0s\u001b[0m 4ms/step - loss: 78341.4375 - val_loss: 299788.3125\n",
      "Epoch 191/200\n",
      "\u001b[1m60/60\u001b[0m \u001b[32m━━━━━━━━━━━━━━━━━━━━\u001b[0m\u001b[37m\u001b[0m \u001b[1m0s\u001b[0m 4ms/step - loss: 85270.5000 - val_loss: 234127.9375\n",
      "Epoch 192/200\n",
      "\u001b[1m60/60\u001b[0m \u001b[32m━━━━━━━━━━━━━━━━━━━━\u001b[0m\u001b[37m\u001b[0m \u001b[1m0s\u001b[0m 4ms/step - loss: 76174.6094 - val_loss: 281892.4062\n",
      "Epoch 193/200\n",
      "\u001b[1m60/60\u001b[0m \u001b[32m━━━━━━━━━━━━━━━━━━━━\u001b[0m\u001b[37m\u001b[0m \u001b[1m0s\u001b[0m 4ms/step - loss: 81053.0781 - val_loss: 288359.2188\n",
      "Epoch 194/200\n",
      "\u001b[1m60/60\u001b[0m \u001b[32m━━━━━━━━━━━━━━━━━━━━\u001b[0m\u001b[37m\u001b[0m \u001b[1m0s\u001b[0m 4ms/step - loss: 76378.0859 - val_loss: 238108.2656\n",
      "Epoch 195/200\n",
      "\u001b[1m60/60\u001b[0m \u001b[32m━━━━━━━━━━━━━━━━━━━━\u001b[0m\u001b[37m\u001b[0m \u001b[1m0s\u001b[0m 4ms/step - loss: 81594.3359 - val_loss: 289092.4062\n",
      "Epoch 196/200\n",
      "\u001b[1m60/60\u001b[0m \u001b[32m━━━━━━━━━━━━━━━━━━━━\u001b[0m\u001b[37m\u001b[0m \u001b[1m0s\u001b[0m 4ms/step - loss: 76486.5859 - val_loss: 271240.6875\n",
      "Epoch 197/200\n",
      "\u001b[1m60/60\u001b[0m \u001b[32m━━━━━━━━━━━━━━━━━━━━\u001b[0m\u001b[37m\u001b[0m \u001b[1m0s\u001b[0m 4ms/step - loss: 78879.1719 - val_loss: 248259.4219\n",
      "Epoch 198/200\n",
      "\u001b[1m60/60\u001b[0m \u001b[32m━━━━━━━━━━━━━━━━━━━━\u001b[0m\u001b[37m\u001b[0m \u001b[1m0s\u001b[0m 4ms/step - loss: 74946.9453 - val_loss: 287205.5938\n",
      "Epoch 199/200\n",
      "\u001b[1m60/60\u001b[0m \u001b[32m━━━━━━━━━━━━━━━━━━━━\u001b[0m\u001b[37m\u001b[0m \u001b[1m0s\u001b[0m 4ms/step - loss: 76770.5859 - val_loss: 278688.7188\n",
      "Epoch 200/200\n",
      "\u001b[1m60/60\u001b[0m \u001b[32m━━━━━━━━━━━━━━━━━━━━\u001b[0m\u001b[37m\u001b[0m \u001b[1m0s\u001b[0m 4ms/step - loss: 76591.4062 - val_loss: 245648.6719\n"
     ]
    },
    {
     "data": {
      "text/plain": [
       "<keras.src.callbacks.history.History at 0x7c8c0034d8a0>"
      ]
     },
     "execution_count": 46,
     "metadata": {},
     "output_type": "execute_result"
    }
   ],
   "source": [
    "model2=tf.keras.Sequential()\n",
    "model2.add(tf.keras.layers.Dense(input_size,activation='relu'))\n",
    "model2.add(tf.keras.layers.Dropout(0.3))\n",
    "model2.add(tf.keras.layers.Dense(128,activation='relu'))\n",
    "model2.add(tf.keras.layers.Dropout(0.2))\n",
    "model2.add(tf.keras.layers.Dense(64,activation='relu'))\n",
    "model2.add(tf.keras.layers.Dropout(0.3))\n",
    "model2.add(tf.keras.layers.Dense(32,activation='relu'))\n",
    "model2.add(tf.keras.layers.Dense(1))\n",
    "model2.compile(loss='mse',optimizer='adam')\n",
    "#callback=tf.keras.callbacks.EarlyStopping(monitor='val_loss',mode='min',patience=6)\n",
    "model2.fit(xtra,ytra,validation_data=(xtest,ytest),batch_size=200,epochs=200)"
   ]
  },
  {
   "cell_type": "code",
   "execution_count": 47,
   "id": "b03d63bc",
   "metadata": {
    "execution": {
     "iopub.execute_input": "2024-03-03T17:13:20.290767Z",
     "iopub.status.busy": "2024-03-03T17:13:20.290373Z",
     "iopub.status.idle": "2024-03-03T17:13:20.295201Z",
     "shell.execute_reply": "2024-03-03T17:13:20.294043Z"
    },
    "papermill": {
     "duration": 0.165575,
     "end_time": "2024-03-03T17:13:20.297526",
     "exception": false,
     "start_time": "2024-03-03T17:13:20.131951",
     "status": "completed"
    },
    "tags": []
   },
   "outputs": [],
   "source": [
    "losses=model.history.history"
   ]
  },
  {
   "cell_type": "markdown",
   "id": "4af72a5e",
   "metadata": {
    "papermill": {
     "duration": 0.154364,
     "end_time": "2024-03-03T17:13:20.607087",
     "exception": false,
     "start_time": "2024-03-03T17:13:20.452723",
     "status": "completed"
    },
    "tags": []
   },
   "source": [
    "<div style=\"background-color: #000; padding: 10px; text-align: center; border-radius: 5px; box-shadow: 0 0 10px rgba(255, 255, 255, 0.7);\">\n",
    "    <p style=\"font-family: 'JetBrains Mono', monospace; font-weight: bold; letter-spacing: 2px; color: #fff; font-size: 140%; text-shadow: 0 0 10px rgba(255, 255, 255, 0.7);\">Results</p>\n",
    "</div>\n"
   ]
  },
  {
   "cell_type": "code",
   "execution_count": 48,
   "id": "fc828a6d",
   "metadata": {
    "execution": {
     "iopub.execute_input": "2024-03-03T17:13:20.922263Z",
     "iopub.status.busy": "2024-03-03T17:13:20.921826Z",
     "iopub.status.idle": "2024-03-03T17:13:21.169243Z",
     "shell.execute_reply": "2024-03-03T17:13:21.168136Z"
    },
    "papermill": {
     "duration": 0.408191,
     "end_time": "2024-03-03T17:13:21.171455",
     "exception": false,
     "start_time": "2024-03-03T17:13:20.763264",
     "status": "completed"
    },
    "tags": []
   },
   "outputs": [
    {
     "data": {
      "text/plain": [
       "<Axes: >"
      ]
     },
     "execution_count": 48,
     "metadata": {},
     "output_type": "execute_result"
    },
    {
     "data": {
      "image/png": "[encoded data removed]",
      "text/plain": [
       "<Figure size 640x480 with 1 Axes>"
      ]
     },
     "metadata": {},
     "output_type": "display_data"
    }
   ],
   "source": [
    "sb.lineplot(losses['loss'])\n",
    "sb.lineplot(losses['val_loss'])"
   ]
  },
  {
   "cell_type": "markdown",
   "id": "b38cb850",
   "metadata": {
    "papermill": {
     "duration": 0.161175,
     "end_time": "2024-03-03T17:13:21.489366",
     "exception": false,
     "start_time": "2024-03-03T17:13:21.328191",
     "status": "completed"
    },
    "tags": []
   },
   "source": [
    "<div style=\"background-color: #000; padding: 10px; text-align: center; border-radius: 5px; box-shadow: 0 0 10px rgba(255, 255, 255, 0.7);\">\n",
    "    <p style=\"font-family: 'JetBrains Mono', monospace; font-weight: bold; letter-spacing: 2px; color: #fff; font-size: 140%; text-shadow: 0 0 10px rgba(255, 255, 255, 0.7);\">Traditional Machine Learning Models</p>\n",
    "</div>\n"
   ]
  },
  {
   "cell_type": "code",
   "execution_count": 49,
   "id": "4fef07b1",
   "metadata": {
    "execution": {
     "iopub.execute_input": "2024-03-03T17:13:21.809153Z",
     "iopub.status.busy": "2024-03-03T17:13:21.808104Z",
     "iopub.status.idle": "2024-03-03T17:13:21.825411Z",
     "shell.execute_reply": "2024-03-03T17:13:21.824253Z"
    },
    "papermill": {
     "duration": 0.179941,
     "end_time": "2024-03-03T17:13:21.827792",
     "exception": false,
     "start_time": "2024-03-03T17:13:21.647851",
     "status": "completed"
    },
    "tags": []
   },
   "outputs": [],
   "source": [
    "model1=LinearRegression()\n",
    "model2=SVR()\n",
    "model3=xgb.XGBRegressor()\n",
    "model4=KNeighborsRegressor()\n",
    "model5=DecisionTreeRegressor()\n",
    "model6=BaggingRegressor()\n",
    "model7=RandomForestRegressor()\n",
    "model8=AdaBoostRegressor()"
   ]
  },
  {
   "cell_type": "code",
   "execution_count": 50,
   "id": "608edd0c",
   "metadata": {
    "execution": {
     "iopub.execute_input": "2024-03-03T17:13:22.210903Z",
     "iopub.status.busy": "2024-03-03T17:13:22.209719Z",
     "iopub.status.idle": "2024-03-03T17:13:22.219330Z",
     "shell.execute_reply": "2024-03-03T17:13:22.218203Z"
    },
    "papermill": {
     "duration": 0.172757,
     "end_time": "2024-03-03T17:13:22.221842",
     "exception": false,
     "start_time": "2024-03-03T17:13:22.049085",
     "status": "completed"
    },
    "tags": []
   },
   "outputs": [],
   "source": [
    "xtra=xtra.values\n",
    "xtest=xtest.values\n",
    "ytra=ytra.values\n",
    "ytest=ytest.values"
   ]
  },
  {
   "cell_type": "code",
   "execution_count": 51,
   "id": "868ec03a",
   "metadata": {
    "_kg_hide-output": true,
    "execution": {
     "iopub.execute_input": "2024-03-03T17:13:22.538659Z",
     "iopub.status.busy": "2024-03-03T17:13:22.538291Z",
     "iopub.status.idle": "2024-03-03T17:13:43.760649Z",
     "shell.execute_reply": "2024-03-03T17:13:43.759598Z"
    },
    "papermill": {
     "duration": 21.382356,
     "end_time": "2024-03-03T17:13:43.762808",
     "exception": false,
     "start_time": "2024-03-03T17:13:22.380452",
     "status": "completed"
    },
    "tags": []
   },
   "outputs": [
    {
     "data": {
      "text/html": [
       "<style>#sk-container-id-1 {color: black;background-color: white;}#sk-container-id-1 pre{padding: 0;}#sk-container-id-1 div.sk-toggleable {background-color: white;}#sk-container-id-1 label.sk-toggleable__label {cursor: pointer;display: block;width: 100%;margin-bottom: 0;padding: 0.3em;box-sizing: border-box;text-align: center;}#sk-container-id-1 label.sk-toggleable__label-arrow:before {content: \"▸\";float: left;margin-right: 0.25em;color: #696969;}#sk-container-id-1 label.sk-toggleable__label-arrow:hover:before {color: black;}#sk-container-id-1 div.sk-estimator:hover label.sk-toggleable__label-arrow:before {color: black;}#sk-container-id-1 div.sk-toggleable__content {max-height: 0;max-width: 0;overflow: hidden;text-align: left;background-color: #f0f8ff;}#sk-container-id-1 div.sk-toggleable__content pre {margin: 0.2em;color: black;border-radius: 0.25em;background-color: #f0f8ff;}#sk-container-id-1 input.sk-toggleable__control:checked~div.sk-toggleable__content {max-height: 200px;max-width: 100%;overflow: auto;}#sk-container-id-1 input.sk-toggleable__control:checked~label.sk-toggleable__label-arrow:before {content: \"▾\";}#sk-container-id-1 div.sk-estimator input.sk-toggleable__control:checked~label.sk-toggleable__label {background-color: #d4ebff;}#sk-container-id-1 div.sk-label input.sk-toggleable__control:checked~label.sk-toggleable__label {background-color: #d4ebff;}#sk-container-id-1 input.sk-hidden--visually {border: 0;clip: rect(1px 1px 1px 1px);clip: rect(1px, 1px, 1px, 1px);height: 1px;margin: -1px;overflow: hidden;padding: 0;position: absolute;width: 1px;}#sk-container-id-1 div.sk-estimator {font-family: monospace;background-color: #f0f8ff;border: 1px dotted black;border-radius: 0.25em;box-sizing: border-box;margin-bottom: 0.5em;}#sk-container-id-1 div.sk-estimator:hover {background-color: #d4ebff;}#sk-container-id-1 div.sk-parallel-item::after {content: \"\";width: 100%;border-bottom: 1px solid gray;flex-grow: 1;}#sk-container-id-1 div.sk-label:hover label.sk-toggleable__label {background-color: #d4ebff;}#sk-container-id-1 div.sk-serial::before {content: \"\";position: absolute;border-left: 1px solid gray;box-sizing: border-box;top: 0;bottom: 0;left: 50%;z-index: 0;}#sk-container-id-1 div.sk-serial {display: flex;flex-direction: column;align-items: center;background-color: white;padding-right: 0.2em;padding-left: 0.2em;position: relative;}#sk-container-id-1 div.sk-item {position: relative;z-index: 1;}#sk-container-id-1 div.sk-parallel {display: flex;align-items: stretch;justify-content: center;background-color: white;position: relative;}#sk-container-id-1 div.sk-item::before, #sk-container-id-1 div.sk-parallel-item::before {content: \"\";position: absolute;border-left: 1px solid gray;box-sizing: border-box;top: 0;bottom: 0;left: 50%;z-index: -1;}#sk-container-id-1 div.sk-parallel-item {display: flex;flex-direction: column;z-index: 1;position: relative;background-color: white;}#sk-container-id-1 div.sk-parallel-item:first-child::after {align-self: flex-end;width: 50%;}#sk-container-id-1 div.sk-parallel-item:last-child::after {align-self: flex-start;width: 50%;}#sk-container-id-1 div.sk-parallel-item:only-child::after {width: 0;}#sk-container-id-1 div.sk-dashed-wrapped {border: 1px dashed gray;margin: 0 0.4em 0.5em 0.4em;box-sizing: border-box;padding-bottom: 0.4em;background-color: white;}#sk-container-id-1 div.sk-label label {font-family: monospace;font-weight: bold;display: inline-block;line-height: 1.2em;}#sk-container-id-1 div.sk-label-container {text-align: center;}#sk-container-id-1 div.sk-container {/* jupyter's `normalize.less` sets `[hidden] { display: none; }` but bootstrap.min.css set `[hidden] { display: none !important; }` so we also need the `!important` here to be able to override the default hidden behavior on the sphinx rendered scikit-learn.org. See: https://github.com/scikit-learn/scikit-learn/issues/21755 */display: inline-block !important;position: relative;}#sk-container-id-1 div.sk-text-repr-fallback {display: none;}</style><div id=\"sk-container-id-1\" class=\"sk-top-container\"><div class=\"sk-text-repr-fallback\"><pre>AdaBoostRegressor()</pre><b>In a Jupyter environment, please rerun this cell to show the HTML representation or trust the notebook. <br />On GitHub, the HTML representation is unable to render, please try loading this page with nbviewer.org.</b></div><div class=\"sk-container\" hidden><div class=\"sk-item\"><div class=\"sk-estimator sk-toggleable\"><input class=\"sk-toggleable__control sk-hidden--visually\" id=\"sk-estimator-id-1\" type=\"checkbox\" checked><label for=\"sk-estimator-id-1\" class=\"sk-toggleable__label sk-toggleable__label-arrow\">AdaBoostRegressor</label><div class=\"sk-toggleable__content\"><pre>AdaBoostRegressor()</pre></div></div></div></div></div>"
      ],
      "text/plain": [
       "AdaBoostRegressor()"
      ]
     },
     "execution_count": 51,
     "metadata": {},
     "output_type": "execute_result"
    }
   ],
   "source": [
    "model1.fit(xtra,ytra)\n",
    "model2.fit(xtra,ytra)\n",
    "model3.fit(xtra,ytra)\n",
    "model4.fit(xtra,ytra)\n",
    "model5.fit(xtra,ytra)\n",
    "model6.fit(xtra,ytra)\n",
    "model7.fit(xtra,ytra)\n",
    "model8.fit(xtra,ytra)"
   ]
  },
  {
   "cell_type": "code",
   "execution_count": 52,
   "id": "bc084b27",
   "metadata": {
    "execution": {
     "iopub.execute_input": "2024-03-03T17:13:44.079954Z",
     "iopub.status.busy": "2024-03-03T17:13:44.079527Z",
     "iopub.status.idle": "2024-03-03T17:13:47.316311Z",
     "shell.execute_reply": "2024-03-03T17:13:47.315165Z"
    },
    "papermill": {
     "duration": 3.39902,
     "end_time": "2024-03-03T17:13:47.319035",
     "exception": false,
     "start_time": "2024-03-03T17:13:43.920015",
     "status": "completed"
    },
    "tags": []
   },
   "outputs": [],
   "source": [
    "model1_score=model1.score(xtest,ytest)\n",
    "model2_score=model2.score(xtest,ytest)\n",
    "model3_score=model3.score(xtest,ytest)\n",
    "model4_score=model4.score(xtest,ytest)\n",
    "model5_score=model5.score(xtest,ytest)\n",
    "model6_score=model6.score(xtest,ytest)\n",
    "model7_score=model7.score(xtest,ytest)\n",
    "model8_score=model8.score(xtest,ytest)\n"
   ]
  },
  {
   "cell_type": "code",
   "execution_count": 53,
   "id": "dff7f892",
   "metadata": {
    "execution": {
     "iopub.execute_input": "2024-03-03T17:13:47.634851Z",
     "iopub.status.busy": "2024-03-03T17:13:47.634463Z",
     "iopub.status.idle": "2024-03-03T17:13:47.639481Z",
     "shell.execute_reply": "2024-03-03T17:13:47.638364Z"
    },
    "papermill": {
     "duration": 0.16543,
     "end_time": "2024-03-03T17:13:47.641498",
     "exception": false,
     "start_time": "2024-03-03T17:13:47.476068",
     "status": "completed"
    },
    "tags": []
   },
   "outputs": [],
   "source": [
    "scores=[model1_score,model2_score,model3_score,model4_score,model5_score,model6_score,model7_score,model8_score]\n",
    "models=['LinearRegression','SVR',\n",
    "'XGBRegressor',\n",
    "'KNeighborsRegressor',\n",
    "'DecisionTreeRegressor',\n",
    "'BaggingRegressor',\n",
    "'RandomForestRegressor',\n",
    "'AdaBoostRegressor']"
   ]
  },
  {
   "cell_type": "code",
   "execution_count": 54,
   "id": "7d4351c4",
   "metadata": {
    "execution": {
     "iopub.execute_input": "2024-03-03T17:13:47.959671Z",
     "iopub.status.busy": "2024-03-03T17:13:47.959050Z",
     "iopub.status.idle": "2024-03-03T17:13:47.972794Z",
     "shell.execute_reply": "2024-03-03T17:13:47.971812Z"
    },
    "papermill": {
     "duration": 0.175237,
     "end_time": "2024-03-03T17:13:47.974847",
     "exception": false,
     "start_time": "2024-03-03T17:13:47.799610",
     "status": "completed"
    },
    "tags": []
   },
   "outputs": [
    {
     "data": {
      "text/html": [
       "<div>\n",
       "<style scoped>\n",
       "    .dataframe tbody tr th:only-of-type {\n",
       "        vertical-align: middle;\n",
       "    }\n",
       "\n",
       "    .dataframe tbody tr th {\n",
       "        vertical-align: top;\n",
       "    }\n",
       "\n",
       "    .dataframe thead th {\n",
       "        text-align: right;\n",
       "    }\n",
       "</style>\n",
       "<table border=\"1\" class=\"dataframe\">\n",
       "  <thead>\n",
       "    <tr style=\"text-align: right;\">\n",
       "      <th></th>\n",
       "      <th>models</th>\n",
       "      <th>scores</th>\n",
       "    </tr>\n",
       "  </thead>\n",
       "  <tbody>\n",
       "    <tr>\n",
       "      <th>0</th>\n",
       "      <td>LinearRegression</td>\n",
       "      <td>0.417823</td>\n",
       "    </tr>\n",
       "    <tr>\n",
       "      <th>1</th>\n",
       "      <td>SVR</td>\n",
       "      <td>0.001656</td>\n",
       "    </tr>\n",
       "    <tr>\n",
       "      <th>2</th>\n",
       "      <td>XGBRegressor</td>\n",
       "      <td>0.917054</td>\n",
       "    </tr>\n",
       "    <tr>\n",
       "      <th>3</th>\n",
       "      <td>KNeighborsRegressor</td>\n",
       "      <td>0.484858</td>\n",
       "    </tr>\n",
       "    <tr>\n",
       "      <th>4</th>\n",
       "      <td>DecisionTreeRegressor</td>\n",
       "      <td>0.879618</td>\n",
       "    </tr>\n",
       "    <tr>\n",
       "      <th>5</th>\n",
       "      <td>BaggingRegressor</td>\n",
       "      <td>0.924586</td>\n",
       "    </tr>\n",
       "    <tr>\n",
       "      <th>6</th>\n",
       "      <td>RandomForestRegressor</td>\n",
       "      <td>0.931932</td>\n",
       "    </tr>\n",
       "    <tr>\n",
       "      <th>7</th>\n",
       "      <td>AdaBoostRegressor</td>\n",
       "      <td>0.430895</td>\n",
       "    </tr>\n",
       "  </tbody>\n",
       "</table>\n",
       "</div>"
      ],
      "text/plain": [
       "                  models    scores\n",
       "0       LinearRegression  0.417823\n",
       "1                    SVR  0.001656\n",
       "2           XGBRegressor  0.917054\n",
       "3    KNeighborsRegressor  0.484858\n",
       "4  DecisionTreeRegressor  0.879618\n",
       "5       BaggingRegressor  0.924586\n",
       "6  RandomForestRegressor  0.931932\n",
       "7      AdaBoostRegressor  0.430895"
      ]
     },
     "execution_count": 54,
     "metadata": {},
     "output_type": "execute_result"
    }
   ],
   "source": [
    "pd.DataFrame(data=dict(models=models,scores=scores))"
   ]
  },
  {
   "cell_type": "markdown",
   "id": "41e4312d",
   "metadata": {
    "papermill": {
     "duration": 0.1602,
     "end_time": "2024-03-03T17:13:48.292055",
     "exception": false,
     "start_time": "2024-03-03T17:13:48.131855",
     "status": "completed"
    },
    "tags": []
   },
   "source": [
    "<div style=\"border-radius: 10px; border: rgb(229, 124, 35) solid; padding: 15px; background-color: rgb(255, 250, 240); font-size: 100%; text-align: left; box-shadow: 0 0 15px rgba(229, 124, 35, 0.7);\">\n",
    "    <ul style=\"margin: 0; padding-left: 20px; list-style-type: square;\">\n",
    "        <li><strong>XGBRegressor , DecisionTreeRegressor , BaggingRegressor , RandomForestRegressor performs well</strong></li>\n",
    "    </ul>\n",
    "</div>\n"
   ]
  },
  {
   "cell_type": "markdown",
   "id": "f0c30c3f",
   "metadata": {
    "papermill": {
     "duration": 0.15878,
     "end_time": "2024-03-03T17:13:48.613005",
     "exception": false,
     "start_time": "2024-03-03T17:13:48.454225",
     "status": "completed"
    },
    "tags": []
   },
   "source": [
    "<p style=\"font-family: JetBrains Mono; font-weight: bold; letter-spacing: 2px; color: #008080; font-size: 25px; text-align: center; padding: 0px; border-bottom: 3px solid #008080;\">Thank u for visiting</p>\n"
   ]
  }
 ],
 "metadata": {
  "kaggle": {
   "accelerator": "none",
   "dataSources": [
    {
     "datasetId": 1905144,
     "sourceId": 3124711,
     "sourceType": "datasetVersion"
    }
   ],
   "dockerImageVersionId": 30664,
   "isGpuEnabled": false,
   "isInternetEnabled": true,
   "language": "python",
   "sourceType": "notebook"
  },
  "kernelspec": {
   "display_name": "Python 3",
   "language": "python",
   "name": "python3"
  },
  "language_info": {
   "codemirror_mode": {
    "name": "ipython",
    "version": 3
   },
   "file_extension": ".py",
   "mimetype": "text/x-python",
   "name": "python",
   "nbconvert_exporter": "python",
   "pygments_lexer": "ipython3",
   "version": "3.10.13"
  },
  "papermill": {
   "default_parameters": {},
   "duration": 183.207222,
   "end_time": "2024-03-03T17:13:51.165379",
   "environment_variables": {},
   "exception": null,
   "input_path": "__notebook__.ipynb",
   "output_path": "__notebook__.ipynb",
   "parameters": {},
   "start_time": "2024-03-03T17:10:47.958157",
   "version": "2.5.0"
  }
 },
 "nbformat": 4,
 "nbformat_minor": 5
}

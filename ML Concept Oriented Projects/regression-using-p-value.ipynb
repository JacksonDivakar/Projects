{
 "cells": [
  {
   "cell_type": "markdown",
   "id": "9190ce4c",
   "metadata": {
    "papermill": {
     "duration": 0.015992,
     "end_time": "2024-01-13T14:18:58.615764",
     "exception": false,
     "start_time": "2024-01-13T14:18:58.599772",
     "status": "completed"
    },
    "tags": []
   },
   "source": [
    "# <p style=\"font-family:JetBrains Mono; font-weight:bold; letter-spacing: 2px; color:#4F200D; font-size:140%; text-align:center;padding: 0px; border-bottom: 3px solid #4F200D\">Welcome</p>"
   ]
  },
  {
   "cell_type": "markdown",
   "id": "b569fcfa",
   "metadata": {
    "papermill": {
     "duration": 0.014918,
     "end_time": "2024-01-13T14:18:58.646144",
     "exception": false,
     "start_time": "2024-01-13T14:18:58.631226",
     "status": "completed"
    },
    "tags": []
   },
   "source": [
    "![](https://i.imgur.com/3MLsoNa.jpeg)"
   ]
  },
  {
   "cell_type": "markdown",
   "id": "b00dc9ae",
   "metadata": {
    "papermill": {
     "duration": 0.014682,
     "end_time": "2024-01-13T14:18:58.676159",
     "exception": false,
     "start_time": "2024-01-13T14:18:58.661477",
     "status": "completed"
    },
    "tags": []
   },
   "source": [
    "<div style=\"border-radius: 10px; border: 2px solid #3498db; padding: 15px; background-color: #000; font-size: 120%; text-align: center; color: #3498db; box-shadow: 0 0 15px rgba(52, 152, 219, 0.7);\">\n",
    "    <p style=\"margin: 0; font-weight: bold; font-size: 150%; color: #3498db;\">P-Value</p>\n",
    "    <p style=\"margin: 10px 0 20px; color: #3498db;\">In statistics, a p-value is a measure that helps you assess the evidence against a null hypothesis. The null hypothesis is a statement that there is no effect or no difference. The p-value quantifies the level of evidence against the null hypothesis, and it is used to make decisions in hypothesis testing.</p>\n",
    "    <p style=\"margin: 0; color: #3498db;\">Make a Decision:If the p-value is below a pre-determined significance level (commonly denoted as α, often set at 0.05), the null hypothesis is rejected in favor of the alternative hypothesis. If the p-value is above the significance level, the null hypothesis is not rejected.A smaller p-value suggests stronger evidence against the null hypothesis. Conversely, a larger p-value suggests weaker evidence against the null hypothesis.</p>\n",
    "</div>\n"
   ]
  },
  {
   "cell_type": "markdown",
   "id": "8fdd52fd",
   "metadata": {
    "papermill": {
     "duration": 0.015557,
     "end_time": "2024-01-13T14:18:58.706832",
     "exception": false,
     "start_time": "2024-01-13T14:18:58.691275",
     "status": "completed"
    },
    "tags": []
   },
   "source": [
    "<div style=\"background-color: #000; padding: 10px; text-align: center; border-radius: 5px; box-shadow: 0 0 10px rgba(255, 255, 255, 0.7);\">\n",
    "    <p style=\"font-family: 'JetBrains Mono', monospace; font-weight: bold; letter-spacing: 2px; color: #fff; font-size: 140%; text-shadow: 0 0 10px rgba(255, 255, 255, 0.7);\">Importing Modules and Libraries</p>\n",
    "</div>\n"
   ]
  },
  {
   "cell_type": "markdown",
   "id": "bafb4013",
   "metadata": {
    "papermill": {
     "duration": 0.014784,
     "end_time": "2024-01-13T14:18:58.736940",
     "exception": false,
     "start_time": "2024-01-13T14:18:58.722156",
     "status": "completed"
    },
    "tags": []
   },
   "source": [
    "![](https://th.bing.com/th/id/OIP.64z3W4wNM_-7TFm4o5JG0QHaE7?w=249&h=180&c=7&r=0&o=5&pid=1.7)"
   ]
  },
  {
   "cell_type": "code",
   "execution_count": 1,
   "id": "ff6d677d",
   "metadata": {
    "execution": {
     "iopub.execute_input": "2024-01-13T14:18:58.770150Z",
     "iopub.status.busy": "2024-01-13T14:18:58.769451Z",
     "iopub.status.idle": "2024-01-13T14:19:02.069020Z",
     "shell.execute_reply": "2024-01-13T14:19:02.067659Z"
    },
    "papermill": {
     "duration": 3.320307,
     "end_time": "2024-01-13T14:19:02.072400",
     "exception": false,
     "start_time": "2024-01-13T14:18:58.752093",
     "status": "completed"
    },
    "tags": []
   },
   "outputs": [],
   "source": [
    "import pandas as pd\n",
    "import seaborn as sb\n",
    "import numpy as np\n",
    "import warnings\n",
    "import matplotlib.pyplot as plt\n",
    "warnings.filterwarnings('ignore')\n",
    "from sklearn.preprocessing import OneHotEncoder,StandardScaler,MinMaxScaler,LabelEncoder,PolynomialFeatures\n",
    "from sklearn.compose import make_column_selector,ColumnTransformer\n",
    "from sklearn.pipeline import Pipeline\n",
    "from sklearn.linear_model import LinearRegression\n",
    "from sklearn.ensemble import RandomForestRegressor\n",
    "from sklearn.svm import SVR\n",
    "from sklearn.tree import DecisionTreeRegressor\n",
    "from sklearn.neighbors import KNeighborsRegressor\n",
    "from sklearn.model_selection import train_test_split,cross_val_score\n",
    "from sklearn.metrics import r2_score,mean_absolute_error\n",
    "from sklearn.model_selection import GridSearchCV"
   ]
  },
  {
   "cell_type": "markdown",
   "id": "b5285ea7",
   "metadata": {
    "papermill": {
     "duration": 0.0161,
     "end_time": "2024-01-13T14:19:02.107158",
     "exception": false,
     "start_time": "2024-01-13T14:19:02.091058",
     "status": "completed"
    },
    "tags": []
   },
   "source": [
    "<div style=\"background-color: #000; padding: 10px; text-align: center; border-radius: 5px; box-shadow: 0 0 10px rgba(255, 255, 255, 0.7);\">\n",
    "    <p style=\"font-family: 'JetBrains Mono', monospace; font-weight: bold; letter-spacing: 2px; color: #fff; font-size: 140%; text-shadow: 0 0 10px rgba(255, 255, 255, 0.7);\">Data Loading</p>\n",
    "</div>\n"
   ]
  },
  {
   "cell_type": "markdown",
   "id": "eb321844",
   "metadata": {
    "papermill": {
     "duration": 0.015476,
     "end_time": "2024-01-13T14:19:02.139076",
     "exception": false,
     "start_time": "2024-01-13T14:19:02.123600",
     "status": "completed"
    },
    "tags": []
   },
   "source": [
    "![](data:image/jpeg;base64,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)"
   ]
  },
  {
   "cell_type": "code",
   "execution_count": 2,
   "id": "ebaf94ea",
   "metadata": {
    "execution": {
     "iopub.execute_input": "2024-01-13T14:19:02.172704Z",
     "iopub.status.busy": "2024-01-13T14:19:02.172059Z",
     "iopub.status.idle": "2024-01-13T14:19:02.217285Z",
     "shell.execute_reply": "2024-01-13T14:19:02.216017Z"
    },
    "papermill": {
     "duration": 0.065778,
     "end_time": "2024-01-13T14:19:02.220536",
     "exception": false,
     "start_time": "2024-01-13T14:19:02.154758",
     "status": "completed"
    },
    "tags": []
   },
   "outputs": [],
   "source": [
    "data=pd.read_csv('/kaggle/input/laptop-price-prediction-dataset/data.csv')"
   ]
  },
  {
   "cell_type": "markdown",
   "id": "3377dfae",
   "metadata": {
    "papermill": {
     "duration": 0.015315,
     "end_time": "2024-01-13T14:19:02.251605",
     "exception": false,
     "start_time": "2024-01-13T14:19:02.236290",
     "status": "completed"
    },
    "tags": []
   },
   "source": [
    "<div style=\"background-color: #000; padding: 10px; text-align: center; border-radius: 5px; box-shadow: 0 0 10px rgba(255, 255, 255, 0.7);\">\n",
    "    <p style=\"font-family: 'JetBrains Mono', monospace; font-weight: bold; letter-spacing: 2px; color: #fff; font-size: 140%; text-shadow: 0 0 10px rgba(255, 255, 255, 0.7);\">Data Preprocessing</p>\n",
    "</div>\n"
   ]
  },
  {
   "cell_type": "markdown",
   "id": "d04d875e",
   "metadata": {
    "papermill": {
     "duration": 0.015956,
     "end_time": "2024-01-13T14:19:02.283160",
     "exception": false,
     "start_time": "2024-01-13T14:19:02.267204",
     "status": "completed"
    },
    "tags": []
   },
   "source": [
    "![](https://th.bing.com/th/id/OIP.uJDXt4slgGIawhuVef0x8QHaEc?w=306&h=184&c=7&r=0&o=5&pid=1.7)"
   ]
  },
  {
   "cell_type": "code",
   "execution_count": 3,
   "id": "b2e001d8",
   "metadata": {
    "execution": {
     "iopub.execute_input": "2024-01-13T14:19:02.317930Z",
     "iopub.status.busy": "2024-01-13T14:19:02.317465Z",
     "iopub.status.idle": "2024-01-13T14:19:02.344239Z",
     "shell.execute_reply": "2024-01-13T14:19:02.343188Z"
    },
    "papermill": {
     "duration": 0.047709,
     "end_time": "2024-01-13T14:19:02.347121",
     "exception": false,
     "start_time": "2024-01-13T14:19:02.299412",
     "status": "completed"
    },
    "tags": []
   },
   "outputs": [],
   "source": [
    "data=data.drop(data.columns[:2],axis=1)\n",
    "data.spec_rating=round(data.spec_rating)\n",
    "data.drop('name',axis=1,inplace=True)"
   ]
  },
  {
   "cell_type": "code",
   "execution_count": 4,
   "id": "a6e04468",
   "metadata": {
    "execution": {
     "iopub.execute_input": "2024-01-13T14:19:02.480294Z",
     "iopub.status.busy": "2024-01-13T14:19:02.479462Z",
     "iopub.status.idle": "2024-01-13T14:19:02.505070Z",
     "shell.execute_reply": "2024-01-13T14:19:02.503703Z"
    },
    "papermill": {
     "duration": 0.048312,
     "end_time": "2024-01-13T14:19:02.508696",
     "exception": false,
     "start_time": "2024-01-13T14:19:02.460384",
     "status": "completed"
    },
    "tags": []
   },
   "outputs": [
    {
     "data": {
      "text/plain": [
       "False    891\n",
       "True       2\n",
       "Name: count, dtype: int64"
      ]
     },
     "execution_count": 4,
     "metadata": {},
     "output_type": "execute_result"
    }
   ],
   "source": [
    "data.duplicated().value_counts()"
   ]
  },
  {
   "cell_type": "code",
   "execution_count": 5,
   "id": "dd41eb93",
   "metadata": {
    "execution": {
     "iopub.execute_input": "2024-01-13T14:19:02.545533Z",
     "iopub.status.busy": "2024-01-13T14:19:02.545017Z",
     "iopub.status.idle": "2024-01-13T14:19:02.556263Z",
     "shell.execute_reply": "2024-01-13T14:19:02.554657Z"
    },
    "papermill": {
     "duration": 0.033901,
     "end_time": "2024-01-13T14:19:02.559373",
     "exception": false,
     "start_time": "2024-01-13T14:19:02.525472",
     "status": "completed"
    },
    "tags": []
   },
   "outputs": [],
   "source": [
    "data.drop_duplicates(inplace=True)"
   ]
  },
  {
   "cell_type": "markdown",
   "id": "03ff2e1f",
   "metadata": {
    "papermill": {
     "duration": 0.016952,
     "end_time": "2024-01-13T14:19:02.594525",
     "exception": false,
     "start_time": "2024-01-13T14:19:02.577573",
     "status": "completed"
    },
    "tags": []
   },
   "source": [
    "<div style=\"background-color: #000; padding: 10px; text-align: center; border-radius: 5px; box-shadow: 0 0 10px rgba(255, 255, 255, 0.7);\">\n",
    "    <p style=\"font-family: 'JetBrains Mono', monospace; font-weight: bold; letter-spacing: 2px; color: #fff; font-size: 140%; text-shadow: 0 0 10px rgba(255, 255, 255, 0.7);\">Machine Learning</p>\n",
    "</div>\n"
   ]
  },
  {
   "cell_type": "markdown",
   "id": "62fc0eee",
   "metadata": {
    "papermill": {
     "duration": 0.017525,
     "end_time": "2024-01-13T14:19:02.630905",
     "exception": false,
     "start_time": "2024-01-13T14:19:02.613380",
     "status": "completed"
    },
    "tags": []
   },
   "source": [
    "![](https://theconstructor.org/wp-content/uploads/2021/05/ML1-scaled.jpg)"
   ]
  },
  {
   "cell_type": "markdown",
   "id": "82ec9f9b",
   "metadata": {
    "papermill": {
     "duration": 0.016805,
     "end_time": "2024-01-13T14:19:02.664868",
     "exception": false,
     "start_time": "2024-01-13T14:19:02.648063",
     "status": "completed"
    },
    "tags": []
   },
   "source": [
    "<div style=\"border-bottom: 3px solid #e74c3c; text-align: center; padding: 10px; box-shadow: 0 0 15px rgba(231, 76, 60, 0.7);\">\n",
    "    <p style=\"font-family: 'JetBrains Mono', monospace; font-weight: bold; letter-spacing: 2px; color: rgb(231, 60, 76); font-size: 140%; margin: 0; text-shadow: 0 0 10px rgba(231, 76, 60, 0.7);\">Taking Numerical Features</p>\n",
    "</div>\n"
   ]
  },
  {
   "cell_type": "code",
   "execution_count": 6,
   "id": "7db028c7",
   "metadata": {
    "execution": {
     "iopub.execute_input": "2024-01-13T14:19:02.700138Z",
     "iopub.status.busy": "2024-01-13T14:19:02.699661Z",
     "iopub.status.idle": "2024-01-13T14:19:02.708339Z",
     "shell.execute_reply": "2024-01-13T14:19:02.706916Z"
    },
    "papermill": {
     "duration": 0.029662,
     "end_time": "2024-01-13T14:19:02.711006",
     "exception": false,
     "start_time": "2024-01-13T14:19:02.681344",
     "status": "completed"
    },
    "tags": []
   },
   "outputs": [],
   "source": [
    "from sklearn.compose import make_column_selector\n",
    "numerical=make_column_selector(dtype_include='number')(data)\n",
    "data1=data[numerical]"
   ]
  },
  {
   "cell_type": "markdown",
   "id": "db51e262",
   "metadata": {
    "papermill": {
     "duration": 0.016281,
     "end_time": "2024-01-13T14:19:02.743426",
     "exception": false,
     "start_time": "2024-01-13T14:19:02.727145",
     "status": "completed"
    },
    "tags": []
   },
   "source": [
    "<div style=\"border-bottom: 3px solid #e74c3c; text-align: center; padding: 10px; box-shadow: 0 0 15px rgba(231, 76, 60, 0.7);\">\n",
    "    <p style=\"font-family: 'JetBrains Mono', monospace; font-weight: bold; letter-spacing: 2px; color: rgb(231, 60, 76); font-size: 140%; margin: 0; text-shadow: 0 0 10px rgba(231, 76, 60, 0.7);\">Finding Relation between features and Target Column</p>\n",
    "</div>\n"
   ]
  },
  {
   "cell_type": "code",
   "execution_count": 7,
   "id": "ff57bd72",
   "metadata": {
    "execution": {
     "iopub.execute_input": "2024-01-13T14:19:02.782304Z",
     "iopub.status.busy": "2024-01-13T14:19:02.781379Z",
     "iopub.status.idle": "2024-01-13T14:19:02.821741Z",
     "shell.execute_reply": "2024-01-13T14:19:02.820167Z"
    },
    "papermill": {
     "duration": 0.064356,
     "end_time": "2024-01-13T14:19:02.825169",
     "exception": false,
     "start_time": "2024-01-13T14:19:02.760813",
     "status": "completed"
    },
    "tags": []
   },
   "outputs": [],
   "source": [
    "from sklearn.feature_selection import f_regression\n",
    "selector=make_column_selector(dtype_include='object')\n",
    "y=data.price\n",
    "x=data.drop('price',axis=1)\n",
    "list1=selector(x)\n",
    "la=LabelEncoder()\n",
    "for i in range(len(list1)):\n",
    "    x[list1[i]]=la.fit_transform(x[list1[i]])"
   ]
  },
  {
   "cell_type": "markdown",
   "id": "9c3c2303",
   "metadata": {
    "papermill": {
     "duration": 0.015756,
     "end_time": "2024-01-13T14:19:02.857528",
     "exception": false,
     "start_time": "2024-01-13T14:19:02.841772",
     "status": "completed"
    },
    "tags": []
   },
   "source": [
    "<div style=\"border-bottom: 3px solid #e74c3c; text-align: center; padding: 10px; box-shadow: 0 0 15px rgba(231, 76, 60, 0.7);\">\n",
    "    <p style=\"font-family: 'JetBrains Mono', monospace; font-weight: bold; letter-spacing: 2px; color: rgb(231, 60, 76); font-size: 140%; margin: 0; text-shadow: 0 0 10px rgba(231, 76, 60, 0.7);\">Splitting Data</p>\n",
    "</div>\n"
   ]
  },
  {
   "cell_type": "markdown",
   "id": "7756f10a",
   "metadata": {
    "execution": {
     "iopub.execute_input": "2023-12-29T16:42:40.072418Z",
     "iopub.status.busy": "2023-12-29T16:42:40.072051Z",
     "iopub.status.idle": "2023-12-29T16:42:40.084944Z",
     "shell.execute_reply": "2023-12-29T16:42:40.083776Z",
     "shell.execute_reply.started": "2023-12-29T16:42:40.072390Z"
    },
    "papermill": {
     "duration": 0.016595,
     "end_time": "2024-01-13T14:19:02.890259",
     "exception": false,
     "start_time": "2024-01-13T14:19:02.873664",
     "status": "completed"
    },
    "tags": []
   },
   "source": [
    "![](https://th.bing.com/th/id/OIP.gBBAUtRxGcTjZ7LNRn6MAQHaE8?w=248&h=180&c=7&r=0&o=5&pid=1.7)"
   ]
  },
  {
   "cell_type": "code",
   "execution_count": 8,
   "id": "74ea1da8",
   "metadata": {
    "execution": {
     "iopub.execute_input": "2024-01-13T14:19:02.924942Z",
     "iopub.status.busy": "2024-01-13T14:19:02.924490Z",
     "iopub.status.idle": "2024-01-13T14:19:02.935003Z",
     "shell.execute_reply": "2024-01-13T14:19:02.933618Z"
    },
    "papermill": {
     "duration": 0.031855,
     "end_time": "2024-01-13T14:19:02.938273",
     "exception": false,
     "start_time": "2024-01-13T14:19:02.906418",
     "status": "completed"
    },
    "tags": []
   },
   "outputs": [],
   "source": [
    "xtra,xtest,ytra,ytest=train_test_split(x,y,test_size=0.2,random_state=25)"
   ]
  },
  {
   "cell_type": "markdown",
   "id": "b7facc4c",
   "metadata": {
    "papermill": {
     "duration": 0.016347,
     "end_time": "2024-01-13T14:19:02.971603",
     "exception": false,
     "start_time": "2024-01-13T14:19:02.955256",
     "status": "completed"
    },
    "tags": []
   },
   "source": [
    "<div style=\"border-bottom: 3px solid #e74c3c; text-align: center; padding: 10px; box-shadow: 0 0 15px rgba(231, 76, 60, 0.7);\">\n",
    "    <p style=\"font-family: 'JetBrains Mono', monospace; font-weight: bold; letter-spacing: 2px; color: rgb(231, 60, 76); font-size: 140%; margin: 0; text-shadow: 0 0 10px rgba(231, 76, 60, 0.7);\">P-Value Analysis</p>\n",
    "</div>\n"
   ]
  },
  {
   "cell_type": "markdown",
   "id": "aca3c1e6",
   "metadata": {
    "papermill": {
     "duration": 0.016052,
     "end_time": "2024-01-13T14:19:03.004335",
     "exception": false,
     "start_time": "2024-01-13T14:19:02.988283",
     "status": "completed"
    },
    "tags": []
   },
   "source": [
    "![](https://image3.slideserve.com/6872981/interpretation-of-p-value-0-05-l.jpg)"
   ]
  },
  {
   "cell_type": "code",
   "execution_count": 9,
   "id": "19291a43",
   "metadata": {
    "execution": {
     "iopub.execute_input": "2024-01-13T14:19:03.040042Z",
     "iopub.status.busy": "2024-01-13T14:19:03.039551Z",
     "iopub.status.idle": "2024-01-13T14:19:03.059627Z",
     "shell.execute_reply": "2024-01-13T14:19:03.057243Z"
    },
    "papermill": {
     "duration": 0.04374,
     "end_time": "2024-01-13T14:19:03.065128",
     "exception": false,
     "start_time": "2024-01-13T14:19:03.021388",
     "status": "completed"
    },
    "tags": []
   },
   "outputs": [],
   "source": [
    "result=f_regression(xtra,ytra)\n",
    "y=np.where(result[1]<0.05)[0]"
   ]
  },
  {
   "cell_type": "code",
   "execution_count": 10,
   "id": "30a0d40b",
   "metadata": {
    "execution": {
     "iopub.execute_input": "2024-01-13T14:19:03.148576Z",
     "iopub.status.busy": "2024-01-13T14:19:03.146036Z",
     "iopub.status.idle": "2024-01-13T14:19:03.159645Z",
     "shell.execute_reply": "2024-01-13T14:19:03.157674Z"
    },
    "papermill": {
     "duration": 0.057134,
     "end_time": "2024-01-13T14:19:03.164214",
     "exception": false,
     "start_time": "2024-01-13T14:19:03.107080",
     "status": "completed"
    },
    "tags": []
   },
   "outputs": [
    {
     "data": {
      "text/plain": [
       "(712, 14)"
      ]
     },
     "execution_count": 10,
     "metadata": {},
     "output_type": "execute_result"
    }
   ],
   "source": [
    "xtra.shape"
   ]
  },
  {
   "cell_type": "code",
   "execution_count": 11,
   "id": "ecd27241",
   "metadata": {
    "execution": {
     "iopub.execute_input": "2024-01-13T14:19:03.202189Z",
     "iopub.status.busy": "2024-01-13T14:19:03.201680Z",
     "iopub.status.idle": "2024-01-13T14:19:03.208392Z",
     "shell.execute_reply": "2024-01-13T14:19:03.207293Z"
    },
    "papermill": {
     "duration": 0.026585,
     "end_time": "2024-01-13T14:19:03.210859",
     "exception": false,
     "start_time": "2024-01-13T14:19:03.184274",
     "status": "completed"
    },
    "tags": []
   },
   "outputs": [],
   "source": [
    "xtra=xtra.iloc[:,y]"
   ]
  },
  {
   "cell_type": "code",
   "execution_count": 12,
   "id": "4302edb8",
   "metadata": {
    "execution": {
     "iopub.execute_input": "2024-01-13T14:19:03.246644Z",
     "iopub.status.busy": "2024-01-13T14:19:03.245718Z",
     "iopub.status.idle": "2024-01-13T14:19:03.252514Z",
     "shell.execute_reply": "2024-01-13T14:19:03.251228Z"
    },
    "papermill": {
     "duration": 0.028659,
     "end_time": "2024-01-13T14:19:03.255535",
     "exception": false,
     "start_time": "2024-01-13T14:19:03.226876",
     "status": "completed"
    },
    "tags": []
   },
   "outputs": [],
   "source": [
    "xtest=xtest.iloc[:,y]"
   ]
  },
  {
   "cell_type": "markdown",
   "id": "dcb8e5a1",
   "metadata": {
    "papermill": {
     "duration": 0.015966,
     "end_time": "2024-01-13T14:19:03.288546",
     "exception": false,
     "start_time": "2024-01-13T14:19:03.272580",
     "status": "completed"
    },
    "tags": []
   },
   "source": [
    "<div style=\"border-bottom: 3px solid #e74c3c; text-align: center; padding: 10px; box-shadow: 0 0 15px rgba(231, 76, 60, 0.7);\">\n",
    "    <p style=\"font-family: 'JetBrains Mono', monospace; font-weight: bold; letter-spacing: 2px; color: rgb(231, 60, 76); font-size: 140%; margin: 0; text-shadow: 0 0 10px rgba(231, 76, 60, 0.7);\">Pipelining</p>\n",
    "</div>\n"
   ]
  },
  {
   "cell_type": "markdown",
   "id": "37dfb453",
   "metadata": {
    "papermill": {
     "duration": 0.015464,
     "end_time": "2024-01-13T14:19:03.320939",
     "exception": false,
     "start_time": "2024-01-13T14:19:03.305475",
     "status": "completed"
    },
    "tags": []
   },
   "source": [
    "![](https://th.bing.com/th/id/OIP.2LbjXhG9rc4WlV_6mHy_yQHaE8?w=231&h=180&c=7&r=0&o=5&pid=1.7)"
   ]
  },
  {
   "cell_type": "code",
   "execution_count": 13,
   "id": "97281439",
   "metadata": {
    "execution": {
     "iopub.execute_input": "2024-01-13T14:19:03.355400Z",
     "iopub.status.busy": "2024-01-13T14:19:03.354804Z",
     "iopub.status.idle": "2024-01-13T14:19:03.364021Z",
     "shell.execute_reply": "2024-01-13T14:19:03.362434Z"
    },
    "papermill": {
     "duration": 0.030422,
     "end_time": "2024-01-13T14:19:03.367151",
     "exception": false,
     "start_time": "2024-01-13T14:19:03.336729",
     "status": "completed"
    },
    "tags": []
   },
   "outputs": [],
   "source": [
    "pipe1=Pipeline(steps=[('scale',StandardScaler()),('model1',DecisionTreeRegressor())])\n",
    "pipe2=Pipeline(steps=[('scale',StandardScaler()),('min',MinMaxScaler()),('model2',SVR())])\n",
    "pipe3=Pipeline(steps=[('scale',StandardScaler()),('min',MinMaxScaler()),('model3',RandomForestRegressor())])\n",
    "pipe4=Pipeline(steps=[('scale',StandardScaler()),('min',MinMaxScaler()),('model4',LinearRegression())])"
   ]
  },
  {
   "cell_type": "code",
   "execution_count": 14,
   "id": "8295cb82",
   "metadata": {
    "execution": {
     "iopub.execute_input": "2024-01-13T14:19:03.401931Z",
     "iopub.status.busy": "2024-01-13T14:19:03.401527Z",
     "iopub.status.idle": "2024-01-13T14:19:03.407237Z",
     "shell.execute_reply": "2024-01-13T14:19:03.406389Z"
    },
    "papermill": {
     "duration": 0.026253,
     "end_time": "2024-01-13T14:19:03.409887",
     "exception": false,
     "start_time": "2024-01-13T14:19:03.383634",
     "status": "completed"
    },
    "tags": []
   },
   "outputs": [],
   "source": [
    "pipe5=Pipeline(steps=[('scale',StandardScaler()),('min',MinMaxScaler()),('model5',KNeighborsRegressor())])"
   ]
  },
  {
   "cell_type": "code",
   "execution_count": 15,
   "id": "34159695",
   "metadata": {
    "execution": {
     "iopub.execute_input": "2024-01-13T14:19:03.445290Z",
     "iopub.status.busy": "2024-01-13T14:19:03.444504Z",
     "iopub.status.idle": "2024-01-13T14:19:03.913157Z",
     "shell.execute_reply": "2024-01-13T14:19:03.911598Z"
    },
    "papermill": {
     "duration": 0.489745,
     "end_time": "2024-01-13T14:19:03.916147",
     "exception": false,
     "start_time": "2024-01-13T14:19:03.426402",
     "status": "completed"
    },
    "tags": []
   },
   "outputs": [
    {
     "data": {
      "text/html": [
       "<style>#sk-container-id-1 {color: black;background-color: white;}#sk-container-id-1 pre{padding: 0;}#sk-container-id-1 div.sk-toggleable {background-color: white;}#sk-container-id-1 label.sk-toggleable__label {cursor: pointer;display: block;width: 100%;margin-bottom: 0;padding: 0.3em;box-sizing: border-box;text-align: center;}#sk-container-id-1 label.sk-toggleable__label-arrow:before {content: \"▸\";float: left;margin-right: 0.25em;color: #696969;}#sk-container-id-1 label.sk-toggleable__label-arrow:hover:before {color: black;}#sk-container-id-1 div.sk-estimator:hover label.sk-toggleable__label-arrow:before {color: black;}#sk-container-id-1 div.sk-toggleable__content {max-height: 0;max-width: 0;overflow: hidden;text-align: left;background-color: #f0f8ff;}#sk-container-id-1 div.sk-toggleable__content pre {margin: 0.2em;color: black;border-radius: 0.25em;background-color: #f0f8ff;}#sk-container-id-1 input.sk-toggleable__control:checked~div.sk-toggleable__content {max-height: 200px;max-width: 100%;overflow: auto;}#sk-container-id-1 input.sk-toggleable__control:checked~label.sk-toggleable__label-arrow:before {content: \"▾\";}#sk-container-id-1 div.sk-estimator input.sk-toggleable__control:checked~label.sk-toggleable__label {background-color: #d4ebff;}#sk-container-id-1 div.sk-label input.sk-toggleable__control:checked~label.sk-toggleable__label {background-color: #d4ebff;}#sk-container-id-1 input.sk-hidden--visually {border: 0;clip: rect(1px 1px 1px 1px);clip: rect(1px, 1px, 1px, 1px);height: 1px;margin: -1px;overflow: hidden;padding: 0;position: absolute;width: 1px;}#sk-container-id-1 div.sk-estimator {font-family: monospace;background-color: #f0f8ff;border: 1px dotted black;border-radius: 0.25em;box-sizing: border-box;margin-bottom: 0.5em;}#sk-container-id-1 div.sk-estimator:hover {background-color: #d4ebff;}#sk-container-id-1 div.sk-parallel-item::after {content: \"\";width: 100%;border-bottom: 1px solid gray;flex-grow: 1;}#sk-container-id-1 div.sk-label:hover label.sk-toggleable__label {background-color: #d4ebff;}#sk-container-id-1 div.sk-serial::before {content: \"\";position: absolute;border-left: 1px solid gray;box-sizing: border-box;top: 0;bottom: 0;left: 50%;z-index: 0;}#sk-container-id-1 div.sk-serial {display: flex;flex-direction: column;align-items: center;background-color: white;padding-right: 0.2em;padding-left: 0.2em;position: relative;}#sk-container-id-1 div.sk-item {position: relative;z-index: 1;}#sk-container-id-1 div.sk-parallel {display: flex;align-items: stretch;justify-content: center;background-color: white;position: relative;}#sk-container-id-1 div.sk-item::before, #sk-container-id-1 div.sk-parallel-item::before {content: \"\";position: absolute;border-left: 1px solid gray;box-sizing: border-box;top: 0;bottom: 0;left: 50%;z-index: -1;}#sk-container-id-1 div.sk-parallel-item {display: flex;flex-direction: column;z-index: 1;position: relative;background-color: white;}#sk-container-id-1 div.sk-parallel-item:first-child::after {align-self: flex-end;width: 50%;}#sk-container-id-1 div.sk-parallel-item:last-child::after {align-self: flex-start;width: 50%;}#sk-container-id-1 div.sk-parallel-item:only-child::after {width: 0;}#sk-container-id-1 div.sk-dashed-wrapped {border: 1px dashed gray;margin: 0 0.4em 0.5em 0.4em;box-sizing: border-box;padding-bottom: 0.4em;background-color: white;}#sk-container-id-1 div.sk-label label {font-family: monospace;font-weight: bold;display: inline-block;line-height: 1.2em;}#sk-container-id-1 div.sk-label-container {text-align: center;}#sk-container-id-1 div.sk-container {/* jupyter's `normalize.less` sets `[hidden] { display: none; }` but bootstrap.min.css set `[hidden] { display: none !important; }` so we also need the `!important` here to be able to override the default hidden behavior on the sphinx rendered scikit-learn.org. See: https://github.com/scikit-learn/scikit-learn/issues/21755 */display: inline-block !important;position: relative;}#sk-container-id-1 div.sk-text-repr-fallback {display: none;}</style><div id=\"sk-container-id-1\" class=\"sk-top-container\"><div class=\"sk-text-repr-fallback\"><pre>Pipeline(steps=[(&#x27;scale&#x27;, StandardScaler()), (&#x27;min&#x27;, MinMaxScaler()),\n",
       "                (&#x27;model5&#x27;, KNeighborsRegressor())])</pre><b>In a Jupyter environment, please rerun this cell to show the HTML representation or trust the notebook. <br />On GitHub, the HTML representation is unable to render, please try loading this page with nbviewer.org.</b></div><div class=\"sk-container\" hidden><div class=\"sk-item sk-dashed-wrapped\"><div class=\"sk-label-container\"><div class=\"sk-label sk-toggleable\"><input class=\"sk-toggleable__control sk-hidden--visually\" id=\"sk-estimator-id-1\" type=\"checkbox\" ><label for=\"sk-estimator-id-1\" class=\"sk-toggleable__label sk-toggleable__label-arrow\">Pipeline</label><div class=\"sk-toggleable__content\"><pre>Pipeline(steps=[(&#x27;scale&#x27;, StandardScaler()), (&#x27;min&#x27;, MinMaxScaler()),\n",
       "                (&#x27;model5&#x27;, KNeighborsRegressor())])</pre></div></div></div><div class=\"sk-serial\"><div class=\"sk-item\"><div class=\"sk-estimator sk-toggleable\"><input class=\"sk-toggleable__control sk-hidden--visually\" id=\"sk-estimator-id-2\" type=\"checkbox\" ><label for=\"sk-estimator-id-2\" class=\"sk-toggleable__label sk-toggleable__label-arrow\">StandardScaler</label><div class=\"sk-toggleable__content\"><pre>StandardScaler()</pre></div></div></div><div class=\"sk-item\"><div class=\"sk-estimator sk-toggleable\"><input class=\"sk-toggleable__control sk-hidden--visually\" id=\"sk-estimator-id-3\" type=\"checkbox\" ><label for=\"sk-estimator-id-3\" class=\"sk-toggleable__label sk-toggleable__label-arrow\">MinMaxScaler</label><div class=\"sk-toggleable__content\"><pre>MinMaxScaler()</pre></div></div></div><div class=\"sk-item\"><div class=\"sk-estimator sk-toggleable\"><input class=\"sk-toggleable__control sk-hidden--visually\" id=\"sk-estimator-id-4\" type=\"checkbox\" ><label for=\"sk-estimator-id-4\" class=\"sk-toggleable__label sk-toggleable__label-arrow\">KNeighborsRegressor</label><div class=\"sk-toggleable__content\"><pre>KNeighborsRegressor()</pre></div></div></div></div></div></div></div>"
      ],
      "text/plain": [
       "Pipeline(steps=[('scale', StandardScaler()), ('min', MinMaxScaler()),\n",
       "                ('model5', KNeighborsRegressor())])"
      ]
     },
     "execution_count": 15,
     "metadata": {},
     "output_type": "execute_result"
    }
   ],
   "source": [
    "pipe1.fit(xtra,ytra)\n",
    "pipe2.fit(xtra,ytra)\n",
    "pipe3.fit(xtra,ytra)\n",
    "pipe4.fit(xtra,ytra)\n",
    "pipe5.fit(xtra,ytra)\n"
   ]
  },
  {
   "cell_type": "code",
   "execution_count": 16,
   "id": "730993c2",
   "metadata": {
    "execution": {
     "iopub.execute_input": "2024-01-13T14:19:03.951902Z",
     "iopub.status.busy": "2024-01-13T14:19:03.951414Z",
     "iopub.status.idle": "2024-01-13T14:19:03.995193Z",
     "shell.execute_reply": "2024-01-13T14:19:03.993796Z"
    },
    "papermill": {
     "duration": 0.065598,
     "end_time": "2024-01-13T14:19:03.998478",
     "exception": false,
     "start_time": "2024-01-13T14:19:03.932880",
     "status": "completed"
    },
    "tags": []
   },
   "outputs": [],
   "source": [
    "ypred1=pipe1.predict(xtest)\n",
    "ypred2=pipe2.predict(xtest)\n",
    "ypred3=pipe3.predict(xtest)\n",
    "ypred4=pipe4.predict(xtest)\n",
    "ypred5=pipe5.predict(xtest)"
   ]
  },
  {
   "cell_type": "markdown",
   "id": "7d1ee067",
   "metadata": {
    "papermill": {
     "duration": 0.016624,
     "end_time": "2024-01-13T14:19:04.032992",
     "exception": false,
     "start_time": "2024-01-13T14:19:04.016368",
     "status": "completed"
    },
    "tags": []
   },
   "source": [
    "# <p style=\"font-family:JetBrains Mono; font-weight:bold; letter-spacing: 2px; color:#4F200D; font-size:140%; text-align:center;padding: 0px; border-bottom: 3px solid #4F200D\">Result</p>"
   ]
  },
  {
   "cell_type": "markdown",
   "id": "b7cf0492",
   "metadata": {
    "papermill": {
     "duration": 0.016906,
     "end_time": "2024-01-13T14:19:04.066667",
     "exception": false,
     "start_time": "2024-01-13T14:19:04.049761",
     "status": "completed"
    },
    "tags": []
   },
   "source": [
    "![](data:image/jpeg;base64,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)"
   ]
  },
  {
   "cell_type": "code",
   "execution_count": 17,
   "id": "e5e389c2",
   "metadata": {
    "execution": {
     "iopub.execute_input": "2024-01-13T14:19:04.102555Z",
     "iopub.status.busy": "2024-01-13T14:19:04.102068Z",
     "iopub.status.idle": "2024-01-13T14:19:04.115667Z",
     "shell.execute_reply": "2024-01-13T14:19:04.114163Z"
    },
    "papermill": {
     "duration": 0.035079,
     "end_time": "2024-01-13T14:19:04.118567",
     "exception": false,
     "start_time": "2024-01-13T14:19:04.083488",
     "status": "completed"
    },
    "tags": []
   },
   "outputs": [
    {
     "name": "stdout",
     "output_type": "stream",
     "text": [
      "Results:\n",
      " 0.6410041779250231\n",
      "-0.11017572056533664\n",
      "0.778630564810479\n",
      "0.6209255043207086\n",
      "0.7410472046647847\n"
     ]
    }
   ],
   "source": [
    "print('Results:\\n',r2_score(ytest,ypred1))\n",
    "print(r2_score(ytest,ypred2))\n",
    "print(r2_score(ytest,ypred3))\n",
    "print(r2_score(ytest,ypred4))\n",
    "print(r2_score(ytest,ypred5))"
   ]
  },
  {
   "cell_type": "code",
   "execution_count": 18,
   "id": "c0dcbf5c",
   "metadata": {
    "execution": {
     "iopub.execute_input": "2024-01-13T14:19:04.156693Z",
     "iopub.status.busy": "2024-01-13T14:19:04.156216Z",
     "iopub.status.idle": "2024-01-13T14:19:05.435271Z",
     "shell.execute_reply": "2024-01-13T14:19:05.433802Z"
    },
    "papermill": {
     "duration": 1.301495,
     "end_time": "2024-01-13T14:19:05.438415",
     "exception": false,
     "start_time": "2024-01-13T14:19:04.136920",
     "status": "completed"
    },
    "tags": []
   },
   "outputs": [
    {
     "name": "stdout",
     "output_type": "stream",
     "text": [
      "Decision Tree [0.43426038 0.49104405 0.76499538 0.74714045 0.39875274]\n",
      "Random Forest [0.54722227 0.79616719 0.73566393 0.75841641 0.8296359 ]\n",
      "KNeighbors [0.37693805 0.9021838  0.59712864 0.6839832  0.69340419]\n"
     ]
    }
   ],
   "source": [
    "print('Decision Tree',cross_val_score(pipe1,xtest,ytest))\n",
    "print('Random Forest',cross_val_score(pipe3,xtest,ytest))\n",
    "print('KNeighbors',cross_val_score(pipe5,xtest,ytest))"
   ]
  },
  {
   "cell_type": "markdown",
   "id": "162585e1",
   "metadata": {
    "papermill": {
     "duration": 0.015889,
     "end_time": "2024-01-13T14:19:05.471567",
     "exception": false,
     "start_time": "2024-01-13T14:19:05.455678",
     "status": "completed"
    },
    "tags": []
   },
   "source": [
    "<div style=\"border-radius: 10px; border: rgb(229, 124, 35) solid; padding: 15px; background-color: rgb(255, 250, 240); font-size: 100%; text-align: left; box-shadow: 0 0 15px rgba(229, 124, 35, 0.7);\">\n",
    "    <ul style=\"margin: 0; padding-left: 20px; list-style-type: square;\">\n",
    "        <li><strong>Decision Tree model is not robust</strong></li>\n",
    "    </ul>\n",
    "</div>\n"
   ]
  },
  {
   "cell_type": "markdown",
   "id": "b38cd811",
   "metadata": {
    "papermill": {
     "duration": 0.015756,
     "end_time": "2024-01-13T14:19:05.503480",
     "exception": false,
     "start_time": "2024-01-13T14:19:05.487724",
     "status": "completed"
    },
    "tags": []
   },
   "source": [
    "<div style=\"border-bottom: 3px solid #e74c3c; text-align: center; padding: 10px; box-shadow: 0 0 15px rgba(231, 76, 60, 0.7);\">\n",
    "    <p style=\"font-family: 'JetBrains Mono', monospace; font-weight: bold; letter-spacing: 2px; color: rgb(231, 60, 76); font-size: 140%; margin: 0; text-shadow: 0 0 10px rgba(231, 76, 60, 0.7);\">HyperParameter Tuning</p>\n",
    "</div>\n"
   ]
  },
  {
   "cell_type": "markdown",
   "id": "2a679f82",
   "metadata": {
    "papermill": {
     "duration": 0.016156,
     "end_time": "2024-01-13T14:19:05.536649",
     "exception": false,
     "start_time": "2024-01-13T14:19:05.520493",
     "status": "completed"
    },
    "tags": []
   },
   "source": [
    "![](https://th.bing.com/th/id/OIP.PSoGex_QzzHVWHnfay7wBAHaE6?w=247&h=180&c=7&r=0&o=5&pid=1.7)"
   ]
  },
  {
   "cell_type": "code",
   "execution_count": 19,
   "id": "255c6ae9",
   "metadata": {
    "execution": {
     "iopub.execute_input": "2024-01-13T14:19:05.571625Z",
     "iopub.status.busy": "2024-01-13T14:19:05.571250Z",
     "iopub.status.idle": "2024-01-13T14:19:05.577597Z",
     "shell.execute_reply": "2024-01-13T14:19:05.576118Z"
    },
    "papermill": {
     "duration": 0.027802,
     "end_time": "2024-01-13T14:19:05.581168",
     "exception": false,
     "start_time": "2024-01-13T14:19:05.553366",
     "status": "completed"
    },
    "tags": []
   },
   "outputs": [],
   "source": [
    "rf=GridSearchCV(pipe3,{\n",
    "    'model3__n_estimators': [100, 200, 300],\n",
    "    'model3__max_depth': [None, 5, 10],\n",
    "    'model3__min_samples_split': [2, 5, 10],\n",
    "    'model3__min_samples_leaf': [1, 2, 4]\n",
    "},cv=5,scoring='neg_mean_squared_error',verbose=2)"
   ]
  },
  {
   "cell_type": "code",
   "execution_count": 20,
   "id": "905e0649",
   "metadata": {
    "_kg_hide-output": true,
    "execution": {
     "iopub.execute_input": "2024-01-13T14:19:05.617883Z",
     "iopub.status.busy": "2024-01-13T14:19:05.617485Z",
     "iopub.status.idle": "2024-01-13T14:22:47.204924Z",
     "shell.execute_reply": "2024-01-13T14:22:47.203339Z"
    },
    "papermill": {
     "duration": 221.609527,
     "end_time": "2024-01-13T14:22:47.207858",
     "exception": false,
     "start_time": "2024-01-13T14:19:05.598331",
     "status": "completed"
    },
    "tags": []
   },
   "outputs": [
    {
     "name": "stdout",
     "output_type": "stream",
     "text": [
      "Fitting 5 folds for each of 81 candidates, totalling 405 fits\n",
      "[CV] END model3__max_depth=None, model3__min_samples_leaf=1, model3__min_samples_split=2, model3__n_estimators=100; total time=   0.4s\n",
      "[CV] END model3__max_depth=None, model3__min_samples_leaf=1, model3__min_samples_split=2, model3__n_estimators=100; total time=   0.4s\n",
      "[CV] END model3__max_depth=None, model3__min_samples_leaf=1, model3__min_samples_split=2, model3__n_estimators=100; total time=   0.3s\n",
      "[CV] END model3__max_depth=None, model3__min_samples_leaf=1, model3__min_samples_split=2, model3__n_estimators=100; total time=   0.3s\n",
      "[CV] END model3__max_depth=None, model3__min_samples_leaf=1, model3__min_samples_split=2, model3__n_estimators=100; total time=   0.3s\n",
      "[CV] END model3__max_depth=None, model3__min_samples_leaf=1, model3__min_samples_split=2, model3__n_estimators=200; total time=   0.7s\n",
      "[CV] END model3__max_depth=None, model3__min_samples_leaf=1, model3__min_samples_split=2, model3__n_estimators=200; total time=   0.7s\n",
      "[CV] END model3__max_depth=None, model3__min_samples_leaf=1, model3__min_samples_split=2, model3__n_estimators=200; total time=   0.7s\n",
      "[CV] END model3__max_depth=None, model3__min_samples_leaf=1, model3__min_samples_split=2, model3__n_estimators=200; total time=   0.7s\n",
      "[CV] END model3__max_depth=None, model3__min_samples_leaf=1, model3__min_samples_split=2, model3__n_estimators=200; total time=   0.7s\n",
      "[CV] END model3__max_depth=None, model3__min_samples_leaf=1, model3__min_samples_split=2, model3__n_estimators=300; total time=   1.0s\n",
      "[CV] END model3__max_depth=None, model3__min_samples_leaf=1, model3__min_samples_split=2, model3__n_estimators=300; total time=   1.0s\n",
      "[CV] END model3__max_depth=None, model3__min_samples_leaf=1, model3__min_samples_split=2, model3__n_estimators=300; total time=   1.0s\n",
      "[CV] END model3__max_depth=None, model3__min_samples_leaf=1, model3__min_samples_split=2, model3__n_estimators=300; total time=   1.0s\n",
      "[CV] END model3__max_depth=None, model3__min_samples_leaf=1, model3__min_samples_split=2, model3__n_estimators=300; total time=   1.0s\n",
      "[CV] END model3__max_depth=None, model3__min_samples_leaf=1, model3__min_samples_split=5, model3__n_estimators=100; total time=   0.3s\n",
      "[CV] END model3__max_depth=None, model3__min_samples_leaf=1, model3__min_samples_split=5, model3__n_estimators=100; total time=   0.3s\n",
      "[CV] END model3__max_depth=None, model3__min_samples_leaf=1, model3__min_samples_split=5, model3__n_estimators=100; total time=   0.3s\n",
      "[CV] END model3__max_depth=None, model3__min_samples_leaf=1, model3__min_samples_split=5, model3__n_estimators=100; total time=   0.3s\n",
      "[CV] END model3__max_depth=None, model3__min_samples_leaf=1, model3__min_samples_split=5, model3__n_estimators=100; total time=   0.3s\n",
      "[CV] END model3__max_depth=None, model3__min_samples_leaf=1, model3__min_samples_split=5, model3__n_estimators=200; total time=   0.6s\n",
      "[CV] END model3__max_depth=None, model3__min_samples_leaf=1, model3__min_samples_split=5, model3__n_estimators=200; total time=   0.6s\n",
      "[CV] END model3__max_depth=None, model3__min_samples_leaf=1, model3__min_samples_split=5, model3__n_estimators=200; total time=   0.6s\n",
      "[CV] END model3__max_depth=None, model3__min_samples_leaf=1, model3__min_samples_split=5, model3__n_estimators=200; total time=   0.6s\n",
      "[CV] END model3__max_depth=None, model3__min_samples_leaf=1, model3__min_samples_split=5, model3__n_estimators=200; total time=   0.6s\n",
      "[CV] END model3__max_depth=None, model3__min_samples_leaf=1, model3__min_samples_split=5, model3__n_estimators=300; total time=   0.9s\n",
      "[CV] END model3__max_depth=None, model3__min_samples_leaf=1, model3__min_samples_split=5, model3__n_estimators=300; total time=   0.9s\n",
      "[CV] END model3__max_depth=None, model3__min_samples_leaf=1, model3__min_samples_split=5, model3__n_estimators=300; total time=   0.9s\n",
      "[CV] END model3__max_depth=None, model3__min_samples_leaf=1, model3__min_samples_split=5, model3__n_estimators=300; total time=   0.9s\n",
      "[CV] END model3__max_depth=None, model3__min_samples_leaf=1, model3__min_samples_split=5, model3__n_estimators=300; total time=   0.9s\n",
      "[CV] END model3__max_depth=None, model3__min_samples_leaf=1, model3__min_samples_split=10, model3__n_estimators=100; total time=   0.3s\n",
      "[CV] END model3__max_depth=None, model3__min_samples_leaf=1, model3__min_samples_split=10, model3__n_estimators=100; total time=   0.3s\n",
      "[CV] END model3__max_depth=None, model3__min_samples_leaf=1, model3__min_samples_split=10, model3__n_estimators=100; total time=   0.3s\n",
      "[CV] END model3__max_depth=None, model3__min_samples_leaf=1, model3__min_samples_split=10, model3__n_estimators=100; total time=   0.3s\n",
      "[CV] END model3__max_depth=None, model3__min_samples_leaf=1, model3__min_samples_split=10, model3__n_estimators=100; total time=   0.3s\n",
      "[CV] END model3__max_depth=None, model3__min_samples_leaf=1, model3__min_samples_split=10, model3__n_estimators=200; total time=   0.6s\n",
      "[CV] END model3__max_depth=None, model3__min_samples_leaf=1, model3__min_samples_split=10, model3__n_estimators=200; total time=   0.6s\n",
      "[CV] END model3__max_depth=None, model3__min_samples_leaf=1, model3__min_samples_split=10, model3__n_estimators=200; total time=   0.6s\n",
      "[CV] END model3__max_depth=None, model3__min_samples_leaf=1, model3__min_samples_split=10, model3__n_estimators=200; total time=   0.6s\n",
      "[CV] END model3__max_depth=None, model3__min_samples_leaf=1, model3__min_samples_split=10, model3__n_estimators=200; total time=   0.6s\n",
      "[CV] END model3__max_depth=None, model3__min_samples_leaf=1, model3__min_samples_split=10, model3__n_estimators=300; total time=   0.8s\n",
      "[CV] END model3__max_depth=None, model3__min_samples_leaf=1, model3__min_samples_split=10, model3__n_estimators=300; total time=   0.8s\n",
      "[CV] END model3__max_depth=None, model3__min_samples_leaf=1, model3__min_samples_split=10, model3__n_estimators=300; total time=   0.9s\n",
      "[CV] END model3__max_depth=None, model3__min_samples_leaf=1, model3__min_samples_split=10, model3__n_estimators=300; total time=   0.9s\n",
      "[CV] END model3__max_depth=None, model3__min_samples_leaf=1, model3__min_samples_split=10, model3__n_estimators=300; total time=   0.8s\n",
      "[CV] END model3__max_depth=None, model3__min_samples_leaf=2, model3__min_samples_split=2, model3__n_estimators=100; total time=   0.3s\n",
      "[CV] END model3__max_depth=None, model3__min_samples_leaf=2, model3__min_samples_split=2, model3__n_estimators=100; total time=   0.3s\n",
      "[CV] END model3__max_depth=None, model3__min_samples_leaf=2, model3__min_samples_split=2, model3__n_estimators=100; total time=   0.3s\n",
      "[CV] END model3__max_depth=None, model3__min_samples_leaf=2, model3__min_samples_split=2, model3__n_estimators=100; total time=   0.3s\n",
      "[CV] END model3__max_depth=None, model3__min_samples_leaf=2, model3__min_samples_split=2, model3__n_estimators=100; total time=   0.3s\n",
      "[CV] END model3__max_depth=None, model3__min_samples_leaf=2, model3__min_samples_split=2, model3__n_estimators=200; total time=   0.6s\n",
      "[CV] END model3__max_depth=None, model3__min_samples_leaf=2, model3__min_samples_split=2, model3__n_estimators=200; total time=   0.6s\n",
      "[CV] END model3__max_depth=None, model3__min_samples_leaf=2, model3__min_samples_split=2, model3__n_estimators=200; total time=   0.6s\n",
      "[CV] END model3__max_depth=None, model3__min_samples_leaf=2, model3__min_samples_split=2, model3__n_estimators=200; total time=   0.6s\n",
      "[CV] END model3__max_depth=None, model3__min_samples_leaf=2, model3__min_samples_split=2, model3__n_estimators=200; total time=   0.6s\n",
      "[CV] END model3__max_depth=None, model3__min_samples_leaf=2, model3__min_samples_split=2, model3__n_estimators=300; total time=   0.9s\n",
      "[CV] END model3__max_depth=None, model3__min_samples_leaf=2, model3__min_samples_split=2, model3__n_estimators=300; total time=   0.9s\n",
      "[CV] END model3__max_depth=None, model3__min_samples_leaf=2, model3__min_samples_split=2, model3__n_estimators=300; total time=   0.9s\n",
      "[CV] END model3__max_depth=None, model3__min_samples_leaf=2, model3__min_samples_split=2, model3__n_estimators=300; total time=   0.9s\n",
      "[CV] END model3__max_depth=None, model3__min_samples_leaf=2, model3__min_samples_split=2, model3__n_estimators=300; total time=   0.9s\n",
      "[CV] END model3__max_depth=None, model3__min_samples_leaf=2, model3__min_samples_split=5, model3__n_estimators=100; total time=   0.3s\n",
      "[CV] END model3__max_depth=None, model3__min_samples_leaf=2, model3__min_samples_split=5, model3__n_estimators=100; total time=   0.3s\n",
      "[CV] END model3__max_depth=None, model3__min_samples_leaf=2, model3__min_samples_split=5, model3__n_estimators=100; total time=   0.3s\n",
      "[CV] END model3__max_depth=None, model3__min_samples_leaf=2, model3__min_samples_split=5, model3__n_estimators=100; total time=   0.3s\n",
      "[CV] END model3__max_depth=None, model3__min_samples_leaf=2, model3__min_samples_split=5, model3__n_estimators=100; total time=   0.3s\n",
      "[CV] END model3__max_depth=None, model3__min_samples_leaf=2, model3__min_samples_split=5, model3__n_estimators=200; total time=   0.6s\n",
      "[CV] END model3__max_depth=None, model3__min_samples_leaf=2, model3__min_samples_split=5, model3__n_estimators=200; total time=   0.6s\n",
      "[CV] END model3__max_depth=None, model3__min_samples_leaf=2, model3__min_samples_split=5, model3__n_estimators=200; total time=   0.6s\n",
      "[CV] END model3__max_depth=None, model3__min_samples_leaf=2, model3__min_samples_split=5, model3__n_estimators=200; total time=   0.6s\n",
      "[CV] END model3__max_depth=None, model3__min_samples_leaf=2, model3__min_samples_split=5, model3__n_estimators=200; total time=   0.6s\n",
      "[CV] END model3__max_depth=None, model3__min_samples_leaf=2, model3__min_samples_split=5, model3__n_estimators=300; total time=   0.9s\n",
      "[CV] END model3__max_depth=None, model3__min_samples_leaf=2, model3__min_samples_split=5, model3__n_estimators=300; total time=   0.9s\n",
      "[CV] END model3__max_depth=None, model3__min_samples_leaf=2, model3__min_samples_split=5, model3__n_estimators=300; total time=   0.9s\n",
      "[CV] END model3__max_depth=None, model3__min_samples_leaf=2, model3__min_samples_split=5, model3__n_estimators=300; total time=   0.9s\n",
      "[CV] END model3__max_depth=None, model3__min_samples_leaf=2, model3__min_samples_split=5, model3__n_estimators=300; total time=   0.9s\n",
      "[CV] END model3__max_depth=None, model3__min_samples_leaf=2, model3__min_samples_split=10, model3__n_estimators=100; total time=   0.3s\n",
      "[CV] END model3__max_depth=None, model3__min_samples_leaf=2, model3__min_samples_split=10, model3__n_estimators=100; total time=   0.3s\n",
      "[CV] END model3__max_depth=None, model3__min_samples_leaf=2, model3__min_samples_split=10, model3__n_estimators=100; total time=   0.3s\n",
      "[CV] END model3__max_depth=None, model3__min_samples_leaf=2, model3__min_samples_split=10, model3__n_estimators=100; total time=   0.3s\n",
      "[CV] END model3__max_depth=None, model3__min_samples_leaf=2, model3__min_samples_split=10, model3__n_estimators=100; total time=   0.3s\n",
      "[CV] END model3__max_depth=None, model3__min_samples_leaf=2, model3__min_samples_split=10, model3__n_estimators=200; total time=   0.6s\n",
      "[CV] END model3__max_depth=None, model3__min_samples_leaf=2, model3__min_samples_split=10, model3__n_estimators=200; total time=   0.6s\n",
      "[CV] END model3__max_depth=None, model3__min_samples_leaf=2, model3__min_samples_split=10, model3__n_estimators=200; total time=   0.5s\n",
      "[CV] END model3__max_depth=None, model3__min_samples_leaf=2, model3__min_samples_split=10, model3__n_estimators=200; total time=   0.5s\n",
      "[CV] END model3__max_depth=None, model3__min_samples_leaf=2, model3__min_samples_split=10, model3__n_estimators=200; total time=   0.5s\n",
      "[CV] END model3__max_depth=None, model3__min_samples_leaf=2, model3__min_samples_split=10, model3__n_estimators=300; total time=   0.8s\n",
      "[CV] END model3__max_depth=None, model3__min_samples_leaf=2, model3__min_samples_split=10, model3__n_estimators=300; total time=   0.8s\n",
      "[CV] END model3__max_depth=None, model3__min_samples_leaf=2, model3__min_samples_split=10, model3__n_estimators=300; total time=   0.8s\n",
      "[CV] END model3__max_depth=None, model3__min_samples_leaf=2, model3__min_samples_split=10, model3__n_estimators=300; total time=   0.9s\n",
      "[CV] END model3__max_depth=None, model3__min_samples_leaf=2, model3__min_samples_split=10, model3__n_estimators=300; total time=   0.8s\n",
      "[CV] END model3__max_depth=None, model3__min_samples_leaf=4, model3__min_samples_split=2, model3__n_estimators=100; total time=   0.3s\n",
      "[CV] END model3__max_depth=None, model3__min_samples_leaf=4, model3__min_samples_split=2, model3__n_estimators=100; total time=   0.3s\n",
      "[CV] END model3__max_depth=None, model3__min_samples_leaf=4, model3__min_samples_split=2, model3__n_estimators=100; total time=   0.3s\n",
      "[CV] END model3__max_depth=None, model3__min_samples_leaf=4, model3__min_samples_split=2, model3__n_estimators=100; total time=   0.3s\n",
      "[CV] END model3__max_depth=None, model3__min_samples_leaf=4, model3__min_samples_split=2, model3__n_estimators=100; total time=   0.3s\n",
      "[CV] END model3__max_depth=None, model3__min_samples_leaf=4, model3__min_samples_split=2, model3__n_estimators=200; total time=   0.6s\n",
      "[CV] END model3__max_depth=None, model3__min_samples_leaf=4, model3__min_samples_split=2, model3__n_estimators=200; total time=   0.6s\n",
      "[CV] END model3__max_depth=None, model3__min_samples_leaf=4, model3__min_samples_split=2, model3__n_estimators=200; total time=   0.6s\n",
      "[CV] END model3__max_depth=None, model3__min_samples_leaf=4, model3__min_samples_split=2, model3__n_estimators=200; total time=   0.5s\n",
      "[CV] END model3__max_depth=None, model3__min_samples_leaf=4, model3__min_samples_split=2, model3__n_estimators=200; total time=   0.6s\n",
      "[CV] END model3__max_depth=None, model3__min_samples_leaf=4, model3__min_samples_split=2, model3__n_estimators=300; total time=   0.8s\n",
      "[CV] END model3__max_depth=None, model3__min_samples_leaf=4, model3__min_samples_split=2, model3__n_estimators=300; total time=   0.8s\n",
      "[CV] END model3__max_depth=None, model3__min_samples_leaf=4, model3__min_samples_split=2, model3__n_estimators=300; total time=   0.8s\n",
      "[CV] END model3__max_depth=None, model3__min_samples_leaf=4, model3__min_samples_split=2, model3__n_estimators=300; total time=   0.8s\n",
      "[CV] END model3__max_depth=None, model3__min_samples_leaf=4, model3__min_samples_split=2, model3__n_estimators=300; total time=   0.8s\n",
      "[CV] END model3__max_depth=None, model3__min_samples_leaf=4, model3__min_samples_split=5, model3__n_estimators=100; total time=   0.3s\n",
      "[CV] END model3__max_depth=None, model3__min_samples_leaf=4, model3__min_samples_split=5, model3__n_estimators=100; total time=   0.3s\n",
      "[CV] END model3__max_depth=None, model3__min_samples_leaf=4, model3__min_samples_split=5, model3__n_estimators=100; total time=   0.3s\n",
      "[CV] END model3__max_depth=None, model3__min_samples_leaf=4, model3__min_samples_split=5, model3__n_estimators=100; total time=   0.3s\n",
      "[CV] END model3__max_depth=None, model3__min_samples_leaf=4, model3__min_samples_split=5, model3__n_estimators=100; total time=   0.3s\n",
      "[CV] END model3__max_depth=None, model3__min_samples_leaf=4, model3__min_samples_split=5, model3__n_estimators=200; total time=   0.5s\n",
      "[CV] END model3__max_depth=None, model3__min_samples_leaf=4, model3__min_samples_split=5, model3__n_estimators=200; total time=   0.5s\n",
      "[CV] END model3__max_depth=None, model3__min_samples_leaf=4, model3__min_samples_split=5, model3__n_estimators=200; total time=   0.5s\n",
      "[CV] END model3__max_depth=None, model3__min_samples_leaf=4, model3__min_samples_split=5, model3__n_estimators=200; total time=   0.5s\n",
      "[CV] END model3__max_depth=None, model3__min_samples_leaf=4, model3__min_samples_split=5, model3__n_estimators=200; total time=   0.6s\n",
      "[CV] END model3__max_depth=None, model3__min_samples_leaf=4, model3__min_samples_split=5, model3__n_estimators=300; total time=   0.8s\n",
      "[CV] END model3__max_depth=None, model3__min_samples_leaf=4, model3__min_samples_split=5, model3__n_estimators=300; total time=   0.8s\n",
      "[CV] END model3__max_depth=None, model3__min_samples_leaf=4, model3__min_samples_split=5, model3__n_estimators=300; total time=   0.8s\n",
      "[CV] END model3__max_depth=None, model3__min_samples_leaf=4, model3__min_samples_split=5, model3__n_estimators=300; total time=   0.8s\n",
      "[CV] END model3__max_depth=None, model3__min_samples_leaf=4, model3__min_samples_split=5, model3__n_estimators=300; total time=   0.8s\n",
      "[CV] END model3__max_depth=None, model3__min_samples_leaf=4, model3__min_samples_split=10, model3__n_estimators=100; total time=   0.3s\n",
      "[CV] END model3__max_depth=None, model3__min_samples_leaf=4, model3__min_samples_split=10, model3__n_estimators=100; total time=   0.3s\n",
      "[CV] END model3__max_depth=None, model3__min_samples_leaf=4, model3__min_samples_split=10, model3__n_estimators=100; total time=   0.3s\n",
      "[CV] END model3__max_depth=None, model3__min_samples_leaf=4, model3__min_samples_split=10, model3__n_estimators=100; total time=   0.3s\n",
      "[CV] END model3__max_depth=None, model3__min_samples_leaf=4, model3__min_samples_split=10, model3__n_estimators=100; total time=   0.3s\n",
      "[CV] END model3__max_depth=None, model3__min_samples_leaf=4, model3__min_samples_split=10, model3__n_estimators=200; total time=   0.5s\n",
      "[CV] END model3__max_depth=None, model3__min_samples_leaf=4, model3__min_samples_split=10, model3__n_estimators=200; total time=   0.5s\n",
      "[CV] END model3__max_depth=None, model3__min_samples_leaf=4, model3__min_samples_split=10, model3__n_estimators=200; total time=   0.5s\n",
      "[CV] END model3__max_depth=None, model3__min_samples_leaf=4, model3__min_samples_split=10, model3__n_estimators=200; total time=   0.5s\n",
      "[CV] END model3__max_depth=None, model3__min_samples_leaf=4, model3__min_samples_split=10, model3__n_estimators=200; total time=   0.5s\n",
      "[CV] END model3__max_depth=None, model3__min_samples_leaf=4, model3__min_samples_split=10, model3__n_estimators=300; total time=   0.8s\n",
      "[CV] END model3__max_depth=None, model3__min_samples_leaf=4, model3__min_samples_split=10, model3__n_estimators=300; total time=   0.8s\n",
      "[CV] END model3__max_depth=None, model3__min_samples_leaf=4, model3__min_samples_split=10, model3__n_estimators=300; total time=   0.8s\n",
      "[CV] END model3__max_depth=None, model3__min_samples_leaf=4, model3__min_samples_split=10, model3__n_estimators=300; total time=   0.8s\n",
      "[CV] END model3__max_depth=None, model3__min_samples_leaf=4, model3__min_samples_split=10, model3__n_estimators=300; total time=   0.8s\n",
      "[CV] END model3__max_depth=5, model3__min_samples_leaf=1, model3__min_samples_split=2, model3__n_estimators=100; total time=   0.2s\n",
      "[CV] END model3__max_depth=5, model3__min_samples_leaf=1, model3__min_samples_split=2, model3__n_estimators=100; total time=   0.2s\n",
      "[CV] END model3__max_depth=5, model3__min_samples_leaf=1, model3__min_samples_split=2, model3__n_estimators=100; total time=   0.2s\n",
      "[CV] END model3__max_depth=5, model3__min_samples_leaf=1, model3__min_samples_split=2, model3__n_estimators=100; total time=   0.2s\n",
      "[CV] END model3__max_depth=5, model3__min_samples_leaf=1, model3__min_samples_split=2, model3__n_estimators=100; total time=   0.3s\n",
      "[CV] END model3__max_depth=5, model3__min_samples_leaf=1, model3__min_samples_split=2, model3__n_estimators=200; total time=   0.5s\n",
      "[CV] END model3__max_depth=5, model3__min_samples_leaf=1, model3__min_samples_split=2, model3__n_estimators=200; total time=   0.5s\n",
      "[CV] END model3__max_depth=5, model3__min_samples_leaf=1, model3__min_samples_split=2, model3__n_estimators=200; total time=   0.5s\n",
      "[CV] END model3__max_depth=5, model3__min_samples_leaf=1, model3__min_samples_split=2, model3__n_estimators=200; total time=   0.5s\n",
      "[CV] END model3__max_depth=5, model3__min_samples_leaf=1, model3__min_samples_split=2, model3__n_estimators=200; total time=   0.5s\n",
      "[CV] END model3__max_depth=5, model3__min_samples_leaf=1, model3__min_samples_split=2, model3__n_estimators=300; total time=   0.7s\n",
      "[CV] END model3__max_depth=5, model3__min_samples_leaf=1, model3__min_samples_split=2, model3__n_estimators=300; total time=   0.7s\n",
      "[CV] END model3__max_depth=5, model3__min_samples_leaf=1, model3__min_samples_split=2, model3__n_estimators=300; total time=   0.8s\n",
      "[CV] END model3__max_depth=5, model3__min_samples_leaf=1, model3__min_samples_split=2, model3__n_estimators=300; total time=   0.7s\n",
      "[CV] END model3__max_depth=5, model3__min_samples_leaf=1, model3__min_samples_split=2, model3__n_estimators=300; total time=   0.7s\n",
      "[CV] END model3__max_depth=5, model3__min_samples_leaf=1, model3__min_samples_split=5, model3__n_estimators=100; total time=   0.3s\n",
      "[CV] END model3__max_depth=5, model3__min_samples_leaf=1, model3__min_samples_split=5, model3__n_estimators=100; total time=   0.3s\n",
      "[CV] END model3__max_depth=5, model3__min_samples_leaf=1, model3__min_samples_split=5, model3__n_estimators=100; total time=   0.3s\n",
      "[CV] END model3__max_depth=5, model3__min_samples_leaf=1, model3__min_samples_split=5, model3__n_estimators=100; total time=   0.3s\n",
      "[CV] END model3__max_depth=5, model3__min_samples_leaf=1, model3__min_samples_split=5, model3__n_estimators=100; total time=   0.3s\n",
      "[CV] END model3__max_depth=5, model3__min_samples_leaf=1, model3__min_samples_split=5, model3__n_estimators=200; total time=   0.5s\n",
      "[CV] END model3__max_depth=5, model3__min_samples_leaf=1, model3__min_samples_split=5, model3__n_estimators=200; total time=   0.5s\n",
      "[CV] END model3__max_depth=5, model3__min_samples_leaf=1, model3__min_samples_split=5, model3__n_estimators=200; total time=   0.5s\n",
      "[CV] END model3__max_depth=5, model3__min_samples_leaf=1, model3__min_samples_split=5, model3__n_estimators=200; total time=   0.5s\n",
      "[CV] END model3__max_depth=5, model3__min_samples_leaf=1, model3__min_samples_split=5, model3__n_estimators=200; total time=   0.5s\n",
      "[CV] END model3__max_depth=5, model3__min_samples_leaf=1, model3__min_samples_split=5, model3__n_estimators=300; total time=   0.7s\n",
      "[CV] END model3__max_depth=5, model3__min_samples_leaf=1, model3__min_samples_split=5, model3__n_estimators=300; total time=   0.8s\n",
      "[CV] END model3__max_depth=5, model3__min_samples_leaf=1, model3__min_samples_split=5, model3__n_estimators=300; total time=   0.7s\n",
      "[CV] END model3__max_depth=5, model3__min_samples_leaf=1, model3__min_samples_split=5, model3__n_estimators=300; total time=   0.7s\n",
      "[CV] END model3__max_depth=5, model3__min_samples_leaf=1, model3__min_samples_split=5, model3__n_estimators=300; total time=   0.7s\n",
      "[CV] END model3__max_depth=5, model3__min_samples_leaf=1, model3__min_samples_split=10, model3__n_estimators=100; total time=   0.2s\n",
      "[CV] END model3__max_depth=5, model3__min_samples_leaf=1, model3__min_samples_split=10, model3__n_estimators=100; total time=   0.2s\n",
      "[CV] END model3__max_depth=5, model3__min_samples_leaf=1, model3__min_samples_split=10, model3__n_estimators=100; total time=   0.2s\n",
      "[CV] END model3__max_depth=5, model3__min_samples_leaf=1, model3__min_samples_split=10, model3__n_estimators=100; total time=   0.2s\n",
      "[CV] END model3__max_depth=5, model3__min_samples_leaf=1, model3__min_samples_split=10, model3__n_estimators=100; total time=   0.2s\n",
      "[CV] END model3__max_depth=5, model3__min_samples_leaf=1, model3__min_samples_split=10, model3__n_estimators=200; total time=   0.5s\n",
      "[CV] END model3__max_depth=5, model3__min_samples_leaf=1, model3__min_samples_split=10, model3__n_estimators=200; total time=   0.5s\n",
      "[CV] END model3__max_depth=5, model3__min_samples_leaf=1, model3__min_samples_split=10, model3__n_estimators=200; total time=   0.5s\n",
      "[CV] END model3__max_depth=5, model3__min_samples_leaf=1, model3__min_samples_split=10, model3__n_estimators=200; total time=   0.5s\n",
      "[CV] END model3__max_depth=5, model3__min_samples_leaf=1, model3__min_samples_split=10, model3__n_estimators=200; total time=   0.5s\n",
      "[CV] END model3__max_depth=5, model3__min_samples_leaf=1, model3__min_samples_split=10, model3__n_estimators=300; total time=   0.7s\n",
      "[CV] END model3__max_depth=5, model3__min_samples_leaf=1, model3__min_samples_split=10, model3__n_estimators=300; total time=   0.7s\n",
      "[CV] END model3__max_depth=5, model3__min_samples_leaf=1, model3__min_samples_split=10, model3__n_estimators=300; total time=   0.7s\n",
      "[CV] END model3__max_depth=5, model3__min_samples_leaf=1, model3__min_samples_split=10, model3__n_estimators=300; total time=   0.7s\n",
      "[CV] END model3__max_depth=5, model3__min_samples_leaf=1, model3__min_samples_split=10, model3__n_estimators=300; total time=   0.7s\n",
      "[CV] END model3__max_depth=5, model3__min_samples_leaf=2, model3__min_samples_split=2, model3__n_estimators=100; total time=   0.3s\n",
      "[CV] END model3__max_depth=5, model3__min_samples_leaf=2, model3__min_samples_split=2, model3__n_estimators=100; total time=   0.3s\n",
      "[CV] END model3__max_depth=5, model3__min_samples_leaf=2, model3__min_samples_split=2, model3__n_estimators=100; total time=   0.3s\n",
      "[CV] END model3__max_depth=5, model3__min_samples_leaf=2, model3__min_samples_split=2, model3__n_estimators=100; total time=   0.3s\n",
      "[CV] END model3__max_depth=5, model3__min_samples_leaf=2, model3__min_samples_split=2, model3__n_estimators=100; total time=   0.3s\n",
      "[CV] END model3__max_depth=5, model3__min_samples_leaf=2, model3__min_samples_split=2, model3__n_estimators=200; total time=   0.5s\n",
      "[CV] END model3__max_depth=5, model3__min_samples_leaf=2, model3__min_samples_split=2, model3__n_estimators=200; total time=   0.5s\n",
      "[CV] END model3__max_depth=5, model3__min_samples_leaf=2, model3__min_samples_split=2, model3__n_estimators=200; total time=   0.5s\n",
      "[CV] END model3__max_depth=5, model3__min_samples_leaf=2, model3__min_samples_split=2, model3__n_estimators=200; total time=   0.5s\n",
      "[CV] END model3__max_depth=5, model3__min_samples_leaf=2, model3__min_samples_split=2, model3__n_estimators=200; total time=   0.5s\n",
      "[CV] END model3__max_depth=5, model3__min_samples_leaf=2, model3__min_samples_split=2, model3__n_estimators=300; total time=   0.7s\n",
      "[CV] END model3__max_depth=5, model3__min_samples_leaf=2, model3__min_samples_split=2, model3__n_estimators=300; total time=   0.7s\n",
      "[CV] END model3__max_depth=5, model3__min_samples_leaf=2, model3__min_samples_split=2, model3__n_estimators=300; total time=   0.7s\n",
      "[CV] END model3__max_depth=5, model3__min_samples_leaf=2, model3__min_samples_split=2, model3__n_estimators=300; total time=   0.8s\n",
      "[CV] END model3__max_depth=5, model3__min_samples_leaf=2, model3__min_samples_split=2, model3__n_estimators=300; total time=   0.7s\n",
      "[CV] END model3__max_depth=5, model3__min_samples_leaf=2, model3__min_samples_split=5, model3__n_estimators=100; total time=   0.3s\n",
      "[CV] END model3__max_depth=5, model3__min_samples_leaf=2, model3__min_samples_split=5, model3__n_estimators=100; total time=   0.2s\n",
      "[CV] END model3__max_depth=5, model3__min_samples_leaf=2, model3__min_samples_split=5, model3__n_estimators=100; total time=   0.3s\n",
      "[CV] END model3__max_depth=5, model3__min_samples_leaf=2, model3__min_samples_split=5, model3__n_estimators=100; total time=   0.3s\n",
      "[CV] END model3__max_depth=5, model3__min_samples_leaf=2, model3__min_samples_split=5, model3__n_estimators=100; total time=   0.3s\n",
      "[CV] END model3__max_depth=5, model3__min_samples_leaf=2, model3__min_samples_split=5, model3__n_estimators=200; total time=   0.5s\n",
      "[CV] END model3__max_depth=5, model3__min_samples_leaf=2, model3__min_samples_split=5, model3__n_estimators=200; total time=   0.5s\n",
      "[CV] END model3__max_depth=5, model3__min_samples_leaf=2, model3__min_samples_split=5, model3__n_estimators=200; total time=   0.5s\n",
      "[CV] END model3__max_depth=5, model3__min_samples_leaf=2, model3__min_samples_split=5, model3__n_estimators=200; total time=   0.5s\n",
      "[CV] END model3__max_depth=5, model3__min_samples_leaf=2, model3__min_samples_split=5, model3__n_estimators=200; total time=   0.5s\n",
      "[CV] END model3__max_depth=5, model3__min_samples_leaf=2, model3__min_samples_split=5, model3__n_estimators=300; total time=   0.7s\n",
      "[CV] END model3__max_depth=5, model3__min_samples_leaf=2, model3__min_samples_split=5, model3__n_estimators=300; total time=   0.7s\n",
      "[CV] END model3__max_depth=5, model3__min_samples_leaf=2, model3__min_samples_split=5, model3__n_estimators=300; total time=   0.7s\n",
      "[CV] END model3__max_depth=5, model3__min_samples_leaf=2, model3__min_samples_split=5, model3__n_estimators=300; total time=   0.7s\n",
      "[CV] END model3__max_depth=5, model3__min_samples_leaf=2, model3__min_samples_split=5, model3__n_estimators=300; total time=   0.8s\n",
      "[CV] END model3__max_depth=5, model3__min_samples_leaf=2, model3__min_samples_split=10, model3__n_estimators=100; total time=   0.3s\n",
      "[CV] END model3__max_depth=5, model3__min_samples_leaf=2, model3__min_samples_split=10, model3__n_estimators=100; total time=   0.3s\n",
      "[CV] END model3__max_depth=5, model3__min_samples_leaf=2, model3__min_samples_split=10, model3__n_estimators=100; total time=   0.3s\n",
      "[CV] END model3__max_depth=5, model3__min_samples_leaf=2, model3__min_samples_split=10, model3__n_estimators=100; total time=   0.3s\n",
      "[CV] END model3__max_depth=5, model3__min_samples_leaf=2, model3__min_samples_split=10, model3__n_estimators=100; total time=   0.3s\n",
      "[CV] END model3__max_depth=5, model3__min_samples_leaf=2, model3__min_samples_split=10, model3__n_estimators=200; total time=   0.5s\n",
      "[CV] END model3__max_depth=5, model3__min_samples_leaf=2, model3__min_samples_split=10, model3__n_estimators=200; total time=   0.5s\n",
      "[CV] END model3__max_depth=5, model3__min_samples_leaf=2, model3__min_samples_split=10, model3__n_estimators=200; total time=   0.5s\n",
      "[CV] END model3__max_depth=5, model3__min_samples_leaf=2, model3__min_samples_split=10, model3__n_estimators=200; total time=   0.5s\n",
      "[CV] END model3__max_depth=5, model3__min_samples_leaf=2, model3__min_samples_split=10, model3__n_estimators=200; total time=   0.5s\n",
      "[CV] END model3__max_depth=5, model3__min_samples_leaf=2, model3__min_samples_split=10, model3__n_estimators=300; total time=   0.7s\n",
      "[CV] END model3__max_depth=5, model3__min_samples_leaf=2, model3__min_samples_split=10, model3__n_estimators=300; total time=   0.8s\n",
      "[CV] END model3__max_depth=5, model3__min_samples_leaf=2, model3__min_samples_split=10, model3__n_estimators=300; total time=   0.7s\n",
      "[CV] END model3__max_depth=5, model3__min_samples_leaf=2, model3__min_samples_split=10, model3__n_estimators=300; total time=   0.7s\n",
      "[CV] END model3__max_depth=5, model3__min_samples_leaf=2, model3__min_samples_split=10, model3__n_estimators=300; total time=   0.7s\n",
      "[CV] END model3__max_depth=5, model3__min_samples_leaf=4, model3__min_samples_split=2, model3__n_estimators=100; total time=   0.2s\n",
      "[CV] END model3__max_depth=5, model3__min_samples_leaf=4, model3__min_samples_split=2, model3__n_estimators=100; total time=   0.2s\n",
      "[CV] END model3__max_depth=5, model3__min_samples_leaf=4, model3__min_samples_split=2, model3__n_estimators=100; total time=   0.2s\n",
      "[CV] END model3__max_depth=5, model3__min_samples_leaf=4, model3__min_samples_split=2, model3__n_estimators=100; total time=   0.2s\n",
      "[CV] END model3__max_depth=5, model3__min_samples_leaf=4, model3__min_samples_split=2, model3__n_estimators=100; total time=   0.3s\n",
      "[CV] END model3__max_depth=5, model3__min_samples_leaf=4, model3__min_samples_split=2, model3__n_estimators=200; total time=   0.5s\n",
      "[CV] END model3__max_depth=5, model3__min_samples_leaf=4, model3__min_samples_split=2, model3__n_estimators=200; total time=   0.5s\n",
      "[CV] END model3__max_depth=5, model3__min_samples_leaf=4, model3__min_samples_split=2, model3__n_estimators=200; total time=   0.5s\n",
      "[CV] END model3__max_depth=5, model3__min_samples_leaf=4, model3__min_samples_split=2, model3__n_estimators=200; total time=   0.5s\n",
      "[CV] END model3__max_depth=5, model3__min_samples_leaf=4, model3__min_samples_split=2, model3__n_estimators=200; total time=   0.5s\n",
      "[CV] END model3__max_depth=5, model3__min_samples_leaf=4, model3__min_samples_split=2, model3__n_estimators=300; total time=   0.8s\n",
      "[CV] END model3__max_depth=5, model3__min_samples_leaf=4, model3__min_samples_split=2, model3__n_estimators=300; total time=   0.7s\n",
      "[CV] END model3__max_depth=5, model3__min_samples_leaf=4, model3__min_samples_split=2, model3__n_estimators=300; total time=   0.7s\n",
      "[CV] END model3__max_depth=5, model3__min_samples_leaf=4, model3__min_samples_split=2, model3__n_estimators=300; total time=   0.7s\n",
      "[CV] END model3__max_depth=5, model3__min_samples_leaf=4, model3__min_samples_split=2, model3__n_estimators=300; total time=   0.7s\n",
      "[CV] END model3__max_depth=5, model3__min_samples_leaf=4, model3__min_samples_split=5, model3__n_estimators=100; total time=   0.2s\n",
      "[CV] END model3__max_depth=5, model3__min_samples_leaf=4, model3__min_samples_split=5, model3__n_estimators=100; total time=   0.2s\n",
      "[CV] END model3__max_depth=5, model3__min_samples_leaf=4, model3__min_samples_split=5, model3__n_estimators=100; total time=   0.2s\n",
      "[CV] END model3__max_depth=5, model3__min_samples_leaf=4, model3__min_samples_split=5, model3__n_estimators=100; total time=   0.2s\n",
      "[CV] END model3__max_depth=5, model3__min_samples_leaf=4, model3__min_samples_split=5, model3__n_estimators=100; total time=   0.2s\n",
      "[CV] END model3__max_depth=5, model3__min_samples_leaf=4, model3__min_samples_split=5, model3__n_estimators=200; total time=   0.5s\n",
      "[CV] END model3__max_depth=5, model3__min_samples_leaf=4, model3__min_samples_split=5, model3__n_estimators=200; total time=   0.5s\n",
      "[CV] END model3__max_depth=5, model3__min_samples_leaf=4, model3__min_samples_split=5, model3__n_estimators=200; total time=   0.5s\n",
      "[CV] END model3__max_depth=5, model3__min_samples_leaf=4, model3__min_samples_split=5, model3__n_estimators=200; total time=   0.5s\n",
      "[CV] END model3__max_depth=5, model3__min_samples_leaf=4, model3__min_samples_split=5, model3__n_estimators=200; total time=   0.5s\n",
      "[CV] END model3__max_depth=5, model3__min_samples_leaf=4, model3__min_samples_split=5, model3__n_estimators=300; total time=   0.7s\n",
      "[CV] END model3__max_depth=5, model3__min_samples_leaf=4, model3__min_samples_split=5, model3__n_estimators=300; total time=   0.7s\n",
      "[CV] END model3__max_depth=5, model3__min_samples_leaf=4, model3__min_samples_split=5, model3__n_estimators=300; total time=   0.7s\n",
      "[CV] END model3__max_depth=5, model3__min_samples_leaf=4, model3__min_samples_split=5, model3__n_estimators=300; total time=   0.7s\n",
      "[CV] END model3__max_depth=5, model3__min_samples_leaf=4, model3__min_samples_split=5, model3__n_estimators=300; total time=   0.7s\n",
      "[CV] END model3__max_depth=5, model3__min_samples_leaf=4, model3__min_samples_split=10, model3__n_estimators=100; total time=   0.2s\n",
      "[CV] END model3__max_depth=5, model3__min_samples_leaf=4, model3__min_samples_split=10, model3__n_estimators=100; total time=   0.2s\n",
      "[CV] END model3__max_depth=5, model3__min_samples_leaf=4, model3__min_samples_split=10, model3__n_estimators=100; total time=   0.2s\n",
      "[CV] END model3__max_depth=5, model3__min_samples_leaf=4, model3__min_samples_split=10, model3__n_estimators=100; total time=   0.2s\n",
      "[CV] END model3__max_depth=5, model3__min_samples_leaf=4, model3__min_samples_split=10, model3__n_estimators=100; total time=   0.2s\n",
      "[CV] END model3__max_depth=5, model3__min_samples_leaf=4, model3__min_samples_split=10, model3__n_estimators=200; total time=   0.5s\n",
      "[CV] END model3__max_depth=5, model3__min_samples_leaf=4, model3__min_samples_split=10, model3__n_estimators=200; total time=   0.5s\n",
      "[CV] END model3__max_depth=5, model3__min_samples_leaf=4, model3__min_samples_split=10, model3__n_estimators=200; total time=   0.5s\n",
      "[CV] END model3__max_depth=5, model3__min_samples_leaf=4, model3__min_samples_split=10, model3__n_estimators=200; total time=   0.5s\n",
      "[CV] END model3__max_depth=5, model3__min_samples_leaf=4, model3__min_samples_split=10, model3__n_estimators=200; total time=   0.5s\n",
      "[CV] END model3__max_depth=5, model3__min_samples_leaf=4, model3__min_samples_split=10, model3__n_estimators=300; total time=   0.7s\n",
      "[CV] END model3__max_depth=5, model3__min_samples_leaf=4, model3__min_samples_split=10, model3__n_estimators=300; total time=   0.7s\n",
      "[CV] END model3__max_depth=5, model3__min_samples_leaf=4, model3__min_samples_split=10, model3__n_estimators=300; total time=   0.7s\n",
      "[CV] END model3__max_depth=5, model3__min_samples_leaf=4, model3__min_samples_split=10, model3__n_estimators=300; total time=   0.7s\n",
      "[CV] END model3__max_depth=5, model3__min_samples_leaf=4, model3__min_samples_split=10, model3__n_estimators=300; total time=   0.7s\n",
      "[CV] END model3__max_depth=10, model3__min_samples_leaf=1, model3__min_samples_split=2, model3__n_estimators=100; total time=   0.3s\n",
      "[CV] END model3__max_depth=10, model3__min_samples_leaf=1, model3__min_samples_split=2, model3__n_estimators=100; total time=   0.3s\n",
      "[CV] END model3__max_depth=10, model3__min_samples_leaf=1, model3__min_samples_split=2, model3__n_estimators=100; total time=   0.3s\n",
      "[CV] END model3__max_depth=10, model3__min_samples_leaf=1, model3__min_samples_split=2, model3__n_estimators=100; total time=   0.3s\n",
      "[CV] END model3__max_depth=10, model3__min_samples_leaf=1, model3__min_samples_split=2, model3__n_estimators=100; total time=   0.3s\n",
      "[CV] END model3__max_depth=10, model3__min_samples_leaf=1, model3__min_samples_split=2, model3__n_estimators=200; total time=   0.7s\n",
      "[CV] END model3__max_depth=10, model3__min_samples_leaf=1, model3__min_samples_split=2, model3__n_estimators=200; total time=   0.6s\n",
      "[CV] END model3__max_depth=10, model3__min_samples_leaf=1, model3__min_samples_split=2, model3__n_estimators=200; total time=   0.6s\n",
      "[CV] END model3__max_depth=10, model3__min_samples_leaf=1, model3__min_samples_split=2, model3__n_estimators=200; total time=   0.6s\n",
      "[CV] END model3__max_depth=10, model3__min_samples_leaf=1, model3__min_samples_split=2, model3__n_estimators=200; total time=   0.6s\n",
      "[CV] END model3__max_depth=10, model3__min_samples_leaf=1, model3__min_samples_split=2, model3__n_estimators=300; total time=   0.9s\n",
      "[CV] END model3__max_depth=10, model3__min_samples_leaf=1, model3__min_samples_split=2, model3__n_estimators=300; total time=   0.9s\n",
      "[CV] END model3__max_depth=10, model3__min_samples_leaf=1, model3__min_samples_split=2, model3__n_estimators=300; total time=   0.9s\n",
      "[CV] END model3__max_depth=10, model3__min_samples_leaf=1, model3__min_samples_split=2, model3__n_estimators=300; total time=   0.9s\n",
      "[CV] END model3__max_depth=10, model3__min_samples_leaf=1, model3__min_samples_split=2, model3__n_estimators=300; total time=   0.9s\n",
      "[CV] END model3__max_depth=10, model3__min_samples_leaf=1, model3__min_samples_split=5, model3__n_estimators=100; total time=   0.3s\n",
      "[CV] END model3__max_depth=10, model3__min_samples_leaf=1, model3__min_samples_split=5, model3__n_estimators=100; total time=   0.3s\n",
      "[CV] END model3__max_depth=10, model3__min_samples_leaf=1, model3__min_samples_split=5, model3__n_estimators=100; total time=   0.3s\n",
      "[CV] END model3__max_depth=10, model3__min_samples_leaf=1, model3__min_samples_split=5, model3__n_estimators=100; total time=   0.3s\n",
      "[CV] END model3__max_depth=10, model3__min_samples_leaf=1, model3__min_samples_split=5, model3__n_estimators=100; total time=   0.3s\n",
      "[CV] END model3__max_depth=10, model3__min_samples_leaf=1, model3__min_samples_split=5, model3__n_estimators=200; total time=   0.6s\n",
      "[CV] END model3__max_depth=10, model3__min_samples_leaf=1, model3__min_samples_split=5, model3__n_estimators=200; total time=   0.6s\n",
      "[CV] END model3__max_depth=10, model3__min_samples_leaf=1, model3__min_samples_split=5, model3__n_estimators=200; total time=   0.6s\n",
      "[CV] END model3__max_depth=10, model3__min_samples_leaf=1, model3__min_samples_split=5, model3__n_estimators=200; total time=   0.6s\n",
      "[CV] END model3__max_depth=10, model3__min_samples_leaf=1, model3__min_samples_split=5, model3__n_estimators=200; total time=   0.6s\n",
      "[CV] END model3__max_depth=10, model3__min_samples_leaf=1, model3__min_samples_split=5, model3__n_estimators=300; total time=   0.8s\n",
      "[CV] END model3__max_depth=10, model3__min_samples_leaf=1, model3__min_samples_split=5, model3__n_estimators=300; total time=   0.9s\n",
      "[CV] END model3__max_depth=10, model3__min_samples_leaf=1, model3__min_samples_split=5, model3__n_estimators=300; total time=   0.9s\n",
      "[CV] END model3__max_depth=10, model3__min_samples_leaf=1, model3__min_samples_split=5, model3__n_estimators=300; total time=   0.8s\n",
      "[CV] END model3__max_depth=10, model3__min_samples_leaf=1, model3__min_samples_split=5, model3__n_estimators=300; total time=   0.9s\n",
      "[CV] END model3__max_depth=10, model3__min_samples_leaf=1, model3__min_samples_split=10, model3__n_estimators=100; total time=   0.3s\n",
      "[CV] END model3__max_depth=10, model3__min_samples_leaf=1, model3__min_samples_split=10, model3__n_estimators=100; total time=   0.3s\n",
      "[CV] END model3__max_depth=10, model3__min_samples_leaf=1, model3__min_samples_split=10, model3__n_estimators=100; total time=   0.3s\n",
      "[CV] END model3__max_depth=10, model3__min_samples_leaf=1, model3__min_samples_split=10, model3__n_estimators=100; total time=   0.3s\n",
      "[CV] END model3__max_depth=10, model3__min_samples_leaf=1, model3__min_samples_split=10, model3__n_estimators=100; total time=   0.3s\n",
      "[CV] END model3__max_depth=10, model3__min_samples_leaf=1, model3__min_samples_split=10, model3__n_estimators=200; total time=   0.5s\n",
      "[CV] END model3__max_depth=10, model3__min_samples_leaf=1, model3__min_samples_split=10, model3__n_estimators=200; total time=   0.5s\n",
      "[CV] END model3__max_depth=10, model3__min_samples_leaf=1, model3__min_samples_split=10, model3__n_estimators=200; total time=   0.5s\n",
      "[CV] END model3__max_depth=10, model3__min_samples_leaf=1, model3__min_samples_split=10, model3__n_estimators=200; total time=   0.6s\n",
      "[CV] END model3__max_depth=10, model3__min_samples_leaf=1, model3__min_samples_split=10, model3__n_estimators=200; total time=   0.6s\n",
      "[CV] END model3__max_depth=10, model3__min_samples_leaf=1, model3__min_samples_split=10, model3__n_estimators=300; total time=   0.8s\n",
      "[CV] END model3__max_depth=10, model3__min_samples_leaf=1, model3__min_samples_split=10, model3__n_estimators=300; total time=   0.8s\n",
      "[CV] END model3__max_depth=10, model3__min_samples_leaf=1, model3__min_samples_split=10, model3__n_estimators=300; total time=   0.8s\n",
      "[CV] END model3__max_depth=10, model3__min_samples_leaf=1, model3__min_samples_split=10, model3__n_estimators=300; total time=   0.8s\n",
      "[CV] END model3__max_depth=10, model3__min_samples_leaf=1, model3__min_samples_split=10, model3__n_estimators=300; total time=   0.8s\n",
      "[CV] END model3__max_depth=10, model3__min_samples_leaf=2, model3__min_samples_split=2, model3__n_estimators=100; total time=   0.3s\n",
      "[CV] END model3__max_depth=10, model3__min_samples_leaf=2, model3__min_samples_split=2, model3__n_estimators=100; total time=   0.3s\n",
      "[CV] END model3__max_depth=10, model3__min_samples_leaf=2, model3__min_samples_split=2, model3__n_estimators=100; total time=   0.3s\n",
      "[CV] END model3__max_depth=10, model3__min_samples_leaf=2, model3__min_samples_split=2, model3__n_estimators=100; total time=   0.3s\n",
      "[CV] END model3__max_depth=10, model3__min_samples_leaf=2, model3__min_samples_split=2, model3__n_estimators=100; total time=   0.3s\n",
      "[CV] END model3__max_depth=10, model3__min_samples_leaf=2, model3__min_samples_split=2, model3__n_estimators=200; total time=   0.6s\n",
      "[CV] END model3__max_depth=10, model3__min_samples_leaf=2, model3__min_samples_split=2, model3__n_estimators=200; total time=   0.6s\n",
      "[CV] END model3__max_depth=10, model3__min_samples_leaf=2, model3__min_samples_split=2, model3__n_estimators=200; total time=   0.6s\n",
      "[CV] END model3__max_depth=10, model3__min_samples_leaf=2, model3__min_samples_split=2, model3__n_estimators=200; total time=   0.6s\n",
      "[CV] END model3__max_depth=10, model3__min_samples_leaf=2, model3__min_samples_split=2, model3__n_estimators=200; total time=   0.6s\n",
      "[CV] END model3__max_depth=10, model3__min_samples_leaf=2, model3__min_samples_split=2, model3__n_estimators=300; total time=   0.8s\n",
      "[CV] END model3__max_depth=10, model3__min_samples_leaf=2, model3__min_samples_split=2, model3__n_estimators=300; total time=   0.9s\n",
      "[CV] END model3__max_depth=10, model3__min_samples_leaf=2, model3__min_samples_split=2, model3__n_estimators=300; total time=   1.0s\n",
      "[CV] END model3__max_depth=10, model3__min_samples_leaf=2, model3__min_samples_split=2, model3__n_estimators=300; total time=   0.9s\n",
      "[CV] END model3__max_depth=10, model3__min_samples_leaf=2, model3__min_samples_split=2, model3__n_estimators=300; total time=   0.9s\n",
      "[CV] END model3__max_depth=10, model3__min_samples_leaf=2, model3__min_samples_split=5, model3__n_estimators=100; total time=   0.3s\n",
      "[CV] END model3__max_depth=10, model3__min_samples_leaf=2, model3__min_samples_split=5, model3__n_estimators=100; total time=   0.3s\n",
      "[CV] END model3__max_depth=10, model3__min_samples_leaf=2, model3__min_samples_split=5, model3__n_estimators=100; total time=   0.3s\n",
      "[CV] END model3__max_depth=10, model3__min_samples_leaf=2, model3__min_samples_split=5, model3__n_estimators=100; total time=   0.3s\n",
      "[CV] END model3__max_depth=10, model3__min_samples_leaf=2, model3__min_samples_split=5, model3__n_estimators=100; total time=   0.3s\n",
      "[CV] END model3__max_depth=10, model3__min_samples_leaf=2, model3__min_samples_split=5, model3__n_estimators=200; total time=   0.5s\n",
      "[CV] END model3__max_depth=10, model3__min_samples_leaf=2, model3__min_samples_split=5, model3__n_estimators=200; total time=   0.6s\n",
      "[CV] END model3__max_depth=10, model3__min_samples_leaf=2, model3__min_samples_split=5, model3__n_estimators=200; total time=   0.6s\n",
      "[CV] END model3__max_depth=10, model3__min_samples_leaf=2, model3__min_samples_split=5, model3__n_estimators=200; total time=   0.6s\n",
      "[CV] END model3__max_depth=10, model3__min_samples_leaf=2, model3__min_samples_split=5, model3__n_estimators=200; total time=   0.6s\n",
      "[CV] END model3__max_depth=10, model3__min_samples_leaf=2, model3__min_samples_split=5, model3__n_estimators=300; total time=   0.8s\n",
      "[CV] END model3__max_depth=10, model3__min_samples_leaf=2, model3__min_samples_split=5, model3__n_estimators=300; total time=   0.8s\n",
      "[CV] END model3__max_depth=10, model3__min_samples_leaf=2, model3__min_samples_split=5, model3__n_estimators=300; total time=   0.9s\n",
      "[CV] END model3__max_depth=10, model3__min_samples_leaf=2, model3__min_samples_split=5, model3__n_estimators=300; total time=   0.9s\n",
      "[CV] END model3__max_depth=10, model3__min_samples_leaf=2, model3__min_samples_split=5, model3__n_estimators=300; total time=   0.8s\n",
      "[CV] END model3__max_depth=10, model3__min_samples_leaf=2, model3__min_samples_split=10, model3__n_estimators=100; total time=   0.3s\n",
      "[CV] END model3__max_depth=10, model3__min_samples_leaf=2, model3__min_samples_split=10, model3__n_estimators=100; total time=   0.3s\n",
      "[CV] END model3__max_depth=10, model3__min_samples_leaf=2, model3__min_samples_split=10, model3__n_estimators=100; total time=   0.3s\n",
      "[CV] END model3__max_depth=10, model3__min_samples_leaf=2, model3__min_samples_split=10, model3__n_estimators=100; total time=   0.3s\n",
      "[CV] END model3__max_depth=10, model3__min_samples_leaf=2, model3__min_samples_split=10, model3__n_estimators=100; total time=   0.3s\n",
      "[CV] END model3__max_depth=10, model3__min_samples_leaf=2, model3__min_samples_split=10, model3__n_estimators=200; total time=   0.5s\n",
      "[CV] END model3__max_depth=10, model3__min_samples_leaf=2, model3__min_samples_split=10, model3__n_estimators=200; total time=   0.5s\n",
      "[CV] END model3__max_depth=10, model3__min_samples_leaf=2, model3__min_samples_split=10, model3__n_estimators=200; total time=   0.5s\n",
      "[CV] END model3__max_depth=10, model3__min_samples_leaf=2, model3__min_samples_split=10, model3__n_estimators=200; total time=   0.5s\n",
      "[CV] END model3__max_depth=10, model3__min_samples_leaf=2, model3__min_samples_split=10, model3__n_estimators=200; total time=   0.5s\n",
      "[CV] END model3__max_depth=10, model3__min_samples_leaf=2, model3__min_samples_split=10, model3__n_estimators=300; total time=   0.8s\n",
      "[CV] END model3__max_depth=10, model3__min_samples_leaf=2, model3__min_samples_split=10, model3__n_estimators=300; total time=   0.8s\n",
      "[CV] END model3__max_depth=10, model3__min_samples_leaf=2, model3__min_samples_split=10, model3__n_estimators=300; total time=   0.8s\n",
      "[CV] END model3__max_depth=10, model3__min_samples_leaf=2, model3__min_samples_split=10, model3__n_estimators=300; total time=   0.8s\n",
      "[CV] END model3__max_depth=10, model3__min_samples_leaf=2, model3__min_samples_split=10, model3__n_estimators=300; total time=   0.8s\n",
      "[CV] END model3__max_depth=10, model3__min_samples_leaf=4, model3__min_samples_split=2, model3__n_estimators=100; total time=   0.3s\n",
      "[CV] END model3__max_depth=10, model3__min_samples_leaf=4, model3__min_samples_split=2, model3__n_estimators=100; total time=   0.3s\n",
      "[CV] END model3__max_depth=10, model3__min_samples_leaf=4, model3__min_samples_split=2, model3__n_estimators=100; total time=   0.3s\n",
      "[CV] END model3__max_depth=10, model3__min_samples_leaf=4, model3__min_samples_split=2, model3__n_estimators=100; total time=   0.3s\n",
      "[CV] END model3__max_depth=10, model3__min_samples_leaf=4, model3__min_samples_split=2, model3__n_estimators=100; total time=   0.3s\n",
      "[CV] END model3__max_depth=10, model3__min_samples_leaf=4, model3__min_samples_split=2, model3__n_estimators=200; total time=   0.5s\n",
      "[CV] END model3__max_depth=10, model3__min_samples_leaf=4, model3__min_samples_split=2, model3__n_estimators=200; total time=   0.5s\n",
      "[CV] END model3__max_depth=10, model3__min_samples_leaf=4, model3__min_samples_split=2, model3__n_estimators=200; total time=   0.5s\n",
      "[CV] END model3__max_depth=10, model3__min_samples_leaf=4, model3__min_samples_split=2, model3__n_estimators=200; total time=   0.5s\n",
      "[CV] END model3__max_depth=10, model3__min_samples_leaf=4, model3__min_samples_split=2, model3__n_estimators=200; total time=   0.5s\n",
      "[CV] END model3__max_depth=10, model3__min_samples_leaf=4, model3__min_samples_split=2, model3__n_estimators=300; total time=   0.8s\n",
      "[CV] END model3__max_depth=10, model3__min_samples_leaf=4, model3__min_samples_split=2, model3__n_estimators=300; total time=   0.8s\n",
      "[CV] END model3__max_depth=10, model3__min_samples_leaf=4, model3__min_samples_split=2, model3__n_estimators=300; total time=   0.8s\n",
      "[CV] END model3__max_depth=10, model3__min_samples_leaf=4, model3__min_samples_split=2, model3__n_estimators=300; total time=   0.8s\n",
      "[CV] END model3__max_depth=10, model3__min_samples_leaf=4, model3__min_samples_split=2, model3__n_estimators=300; total time=   0.8s\n",
      "[CV] END model3__max_depth=10, model3__min_samples_leaf=4, model3__min_samples_split=5, model3__n_estimators=100; total time=   0.3s\n",
      "[CV] END model3__max_depth=10, model3__min_samples_leaf=4, model3__min_samples_split=5, model3__n_estimators=100; total time=   0.3s\n",
      "[CV] END model3__max_depth=10, model3__min_samples_leaf=4, model3__min_samples_split=5, model3__n_estimators=100; total time=   0.3s\n",
      "[CV] END model3__max_depth=10, model3__min_samples_leaf=4, model3__min_samples_split=5, model3__n_estimators=100; total time=   0.3s\n",
      "[CV] END model3__max_depth=10, model3__min_samples_leaf=4, model3__min_samples_split=5, model3__n_estimators=100; total time=   0.3s\n",
      "[CV] END model3__max_depth=10, model3__min_samples_leaf=4, model3__min_samples_split=5, model3__n_estimators=200; total time=   0.6s\n",
      "[CV] END model3__max_depth=10, model3__min_samples_leaf=4, model3__min_samples_split=5, model3__n_estimators=200; total time=   0.5s\n",
      "[CV] END model3__max_depth=10, model3__min_samples_leaf=4, model3__min_samples_split=5, model3__n_estimators=200; total time=   0.5s\n",
      "[CV] END model3__max_depth=10, model3__min_samples_leaf=4, model3__min_samples_split=5, model3__n_estimators=200; total time=   0.6s\n",
      "[CV] END model3__max_depth=10, model3__min_samples_leaf=4, model3__min_samples_split=5, model3__n_estimators=200; total time=   0.5s\n",
      "[CV] END model3__max_depth=10, model3__min_samples_leaf=4, model3__min_samples_split=5, model3__n_estimators=300; total time=   0.8s\n",
      "[CV] END model3__max_depth=10, model3__min_samples_leaf=4, model3__min_samples_split=5, model3__n_estimators=300; total time=   0.9s\n",
      "[CV] END model3__max_depth=10, model3__min_samples_leaf=4, model3__min_samples_split=5, model3__n_estimators=300; total time=   0.8s\n",
      "[CV] END model3__max_depth=10, model3__min_samples_leaf=4, model3__min_samples_split=5, model3__n_estimators=300; total time=   0.8s\n",
      "[CV] END model3__max_depth=10, model3__min_samples_leaf=4, model3__min_samples_split=5, model3__n_estimators=300; total time=   0.8s\n",
      "[CV] END model3__max_depth=10, model3__min_samples_leaf=4, model3__min_samples_split=10, model3__n_estimators=100; total time=   0.3s\n",
      "[CV] END model3__max_depth=10, model3__min_samples_leaf=4, model3__min_samples_split=10, model3__n_estimators=100; total time=   0.3s\n",
      "[CV] END model3__max_depth=10, model3__min_samples_leaf=4, model3__min_samples_split=10, model3__n_estimators=100; total time=   0.3s\n",
      "[CV] END model3__max_depth=10, model3__min_samples_leaf=4, model3__min_samples_split=10, model3__n_estimators=100; total time=   0.3s\n",
      "[CV] END model3__max_depth=10, model3__min_samples_leaf=4, model3__min_samples_split=10, model3__n_estimators=100; total time=   0.3s\n",
      "[CV] END model3__max_depth=10, model3__min_samples_leaf=4, model3__min_samples_split=10, model3__n_estimators=200; total time=   0.5s\n",
      "[CV] END model3__max_depth=10, model3__min_samples_leaf=4, model3__min_samples_split=10, model3__n_estimators=200; total time=   0.5s\n",
      "[CV] END model3__max_depth=10, model3__min_samples_leaf=4, model3__min_samples_split=10, model3__n_estimators=200; total time=   0.5s\n",
      "[CV] END model3__max_depth=10, model3__min_samples_leaf=4, model3__min_samples_split=10, model3__n_estimators=200; total time=   0.5s\n",
      "[CV] END model3__max_depth=10, model3__min_samples_leaf=4, model3__min_samples_split=10, model3__n_estimators=200; total time=   0.6s\n",
      "[CV] END model3__max_depth=10, model3__min_samples_leaf=4, model3__min_samples_split=10, model3__n_estimators=300; total time=   0.8s\n",
      "[CV] END model3__max_depth=10, model3__min_samples_leaf=4, model3__min_samples_split=10, model3__n_estimators=300; total time=   0.8s\n",
      "[CV] END model3__max_depth=10, model3__min_samples_leaf=4, model3__min_samples_split=10, model3__n_estimators=300; total time=   0.8s\n",
      "[CV] END model3__max_depth=10, model3__min_samples_leaf=4, model3__min_samples_split=10, model3__n_estimators=300; total time=   0.8s\n",
      "[CV] END model3__max_depth=10, model3__min_samples_leaf=4, model3__min_samples_split=10, model3__n_estimators=300; total time=   0.8s\n"
     ]
    },
    {
     "data": {
      "text/html": [
       "<style>#sk-container-id-2 {color: black;background-color: white;}#sk-container-id-2 pre{padding: 0;}#sk-container-id-2 div.sk-toggleable {background-color: white;}#sk-container-id-2 label.sk-toggleable__label {cursor: pointer;display: block;width: 100%;margin-bottom: 0;padding: 0.3em;box-sizing: border-box;text-align: center;}#sk-container-id-2 label.sk-toggleable__label-arrow:before {content: \"▸\";float: left;margin-right: 0.25em;color: #696969;}#sk-container-id-2 label.sk-toggleable__label-arrow:hover:before {color: black;}#sk-container-id-2 div.sk-estimator:hover label.sk-toggleable__label-arrow:before {color: black;}#sk-container-id-2 div.sk-toggleable__content {max-height: 0;max-width: 0;overflow: hidden;text-align: left;background-color: #f0f8ff;}#sk-container-id-2 div.sk-toggleable__content pre {margin: 0.2em;color: black;border-radius: 0.25em;background-color: #f0f8ff;}#sk-container-id-2 input.sk-toggleable__control:checked~div.sk-toggleable__content {max-height: 200px;max-width: 100%;overflow: auto;}#sk-container-id-2 input.sk-toggleable__control:checked~label.sk-toggleable__label-arrow:before {content: \"▾\";}#sk-container-id-2 div.sk-estimator input.sk-toggleable__control:checked~label.sk-toggleable__label {background-color: #d4ebff;}#sk-container-id-2 div.sk-label input.sk-toggleable__control:checked~label.sk-toggleable__label {background-color: #d4ebff;}#sk-container-id-2 input.sk-hidden--visually {border: 0;clip: rect(1px 1px 1px 1px);clip: rect(1px, 1px, 1px, 1px);height: 1px;margin: -1px;overflow: hidden;padding: 0;position: absolute;width: 1px;}#sk-container-id-2 div.sk-estimator {font-family: monospace;background-color: #f0f8ff;border: 1px dotted black;border-radius: 0.25em;box-sizing: border-box;margin-bottom: 0.5em;}#sk-container-id-2 div.sk-estimator:hover {background-color: #d4ebff;}#sk-container-id-2 div.sk-parallel-item::after {content: \"\";width: 100%;border-bottom: 1px solid gray;flex-grow: 1;}#sk-container-id-2 div.sk-label:hover label.sk-toggleable__label {background-color: #d4ebff;}#sk-container-id-2 div.sk-serial::before {content: \"\";position: absolute;border-left: 1px solid gray;box-sizing: border-box;top: 0;bottom: 0;left: 50%;z-index: 0;}#sk-container-id-2 div.sk-serial {display: flex;flex-direction: column;align-items: center;background-color: white;padding-right: 0.2em;padding-left: 0.2em;position: relative;}#sk-container-id-2 div.sk-item {position: relative;z-index: 1;}#sk-container-id-2 div.sk-parallel {display: flex;align-items: stretch;justify-content: center;background-color: white;position: relative;}#sk-container-id-2 div.sk-item::before, #sk-container-id-2 div.sk-parallel-item::before {content: \"\";position: absolute;border-left: 1px solid gray;box-sizing: border-box;top: 0;bottom: 0;left: 50%;z-index: -1;}#sk-container-id-2 div.sk-parallel-item {display: flex;flex-direction: column;z-index: 1;position: relative;background-color: white;}#sk-container-id-2 div.sk-parallel-item:first-child::after {align-self: flex-end;width: 50%;}#sk-container-id-2 div.sk-parallel-item:last-child::after {align-self: flex-start;width: 50%;}#sk-container-id-2 div.sk-parallel-item:only-child::after {width: 0;}#sk-container-id-2 div.sk-dashed-wrapped {border: 1px dashed gray;margin: 0 0.4em 0.5em 0.4em;box-sizing: border-box;padding-bottom: 0.4em;background-color: white;}#sk-container-id-2 div.sk-label label {font-family: monospace;font-weight: bold;display: inline-block;line-height: 1.2em;}#sk-container-id-2 div.sk-label-container {text-align: center;}#sk-container-id-2 div.sk-container {/* jupyter's `normalize.less` sets `[hidden] { display: none; }` but bootstrap.min.css set `[hidden] { display: none !important; }` so we also need the `!important` here to be able to override the default hidden behavior on the sphinx rendered scikit-learn.org. See: https://github.com/scikit-learn/scikit-learn/issues/21755 */display: inline-block !important;position: relative;}#sk-container-id-2 div.sk-text-repr-fallback {display: none;}</style><div id=\"sk-container-id-2\" class=\"sk-top-container\"><div class=\"sk-text-repr-fallback\"><pre>GridSearchCV(cv=5,\n",
       "             estimator=Pipeline(steps=[(&#x27;scale&#x27;, StandardScaler()),\n",
       "                                       (&#x27;min&#x27;, MinMaxScaler()),\n",
       "                                       (&#x27;model3&#x27;, RandomForestRegressor())]),\n",
       "             param_grid={&#x27;model3__max_depth&#x27;: [None, 5, 10],\n",
       "                         &#x27;model3__min_samples_leaf&#x27;: [1, 2, 4],\n",
       "                         &#x27;model3__min_samples_split&#x27;: [2, 5, 10],\n",
       "                         &#x27;model3__n_estimators&#x27;: [100, 200, 300]},\n",
       "             scoring=&#x27;neg_mean_squared_error&#x27;, verbose=2)</pre><b>In a Jupyter environment, please rerun this cell to show the HTML representation or trust the notebook. <br />On GitHub, the HTML representation is unable to render, please try loading this page with nbviewer.org.</b></div><div class=\"sk-container\" hidden><div class=\"sk-item sk-dashed-wrapped\"><div class=\"sk-label-container\"><div class=\"sk-label sk-toggleable\"><input class=\"sk-toggleable__control sk-hidden--visually\" id=\"sk-estimator-id-5\" type=\"checkbox\" ><label for=\"sk-estimator-id-5\" class=\"sk-toggleable__label sk-toggleable__label-arrow\">GridSearchCV</label><div class=\"sk-toggleable__content\"><pre>GridSearchCV(cv=5,\n",
       "             estimator=Pipeline(steps=[(&#x27;scale&#x27;, StandardScaler()),\n",
       "                                       (&#x27;min&#x27;, MinMaxScaler()),\n",
       "                                       (&#x27;model3&#x27;, RandomForestRegressor())]),\n",
       "             param_grid={&#x27;model3__max_depth&#x27;: [None, 5, 10],\n",
       "                         &#x27;model3__min_samples_leaf&#x27;: [1, 2, 4],\n",
       "                         &#x27;model3__min_samples_split&#x27;: [2, 5, 10],\n",
       "                         &#x27;model3__n_estimators&#x27;: [100, 200, 300]},\n",
       "             scoring=&#x27;neg_mean_squared_error&#x27;, verbose=2)</pre></div></div></div><div class=\"sk-parallel\"><div class=\"sk-parallel-item\"><div class=\"sk-item\"><div class=\"sk-label-container\"><div class=\"sk-label sk-toggleable\"><input class=\"sk-toggleable__control sk-hidden--visually\" id=\"sk-estimator-id-6\" type=\"checkbox\" ><label for=\"sk-estimator-id-6\" class=\"sk-toggleable__label sk-toggleable__label-arrow\">estimator: Pipeline</label><div class=\"sk-toggleable__content\"><pre>Pipeline(steps=[(&#x27;scale&#x27;, StandardScaler()), (&#x27;min&#x27;, MinMaxScaler()),\n",
       "                (&#x27;model3&#x27;, RandomForestRegressor())])</pre></div></div></div><div class=\"sk-serial\"><div class=\"sk-item\"><div class=\"sk-serial\"><div class=\"sk-item\"><div class=\"sk-estimator sk-toggleable\"><input class=\"sk-toggleable__control sk-hidden--visually\" id=\"sk-estimator-id-7\" type=\"checkbox\" ><label for=\"sk-estimator-id-7\" class=\"sk-toggleable__label sk-toggleable__label-arrow\">StandardScaler</label><div class=\"sk-toggleable__content\"><pre>StandardScaler()</pre></div></div></div><div class=\"sk-item\"><div class=\"sk-estimator sk-toggleable\"><input class=\"sk-toggleable__control sk-hidden--visually\" id=\"sk-estimator-id-8\" type=\"checkbox\" ><label for=\"sk-estimator-id-8\" class=\"sk-toggleable__label sk-toggleable__label-arrow\">MinMaxScaler</label><div class=\"sk-toggleable__content\"><pre>MinMaxScaler()</pre></div></div></div><div class=\"sk-item\"><div class=\"sk-estimator sk-toggleable\"><input class=\"sk-toggleable__control sk-hidden--visually\" id=\"sk-estimator-id-9\" type=\"checkbox\" ><label for=\"sk-estimator-id-9\" class=\"sk-toggleable__label sk-toggleable__label-arrow\">RandomForestRegressor</label><div class=\"sk-toggleable__content\"><pre>RandomForestRegressor()</pre></div></div></div></div></div></div></div></div></div></div></div></div>"
      ],
      "text/plain": [
       "GridSearchCV(cv=5,\n",
       "             estimator=Pipeline(steps=[('scale', StandardScaler()),\n",
       "                                       ('min', MinMaxScaler()),\n",
       "                                       ('model3', RandomForestRegressor())]),\n",
       "             param_grid={'model3__max_depth': [None, 5, 10],\n",
       "                         'model3__min_samples_leaf': [1, 2, 4],\n",
       "                         'model3__min_samples_split': [2, 5, 10],\n",
       "                         'model3__n_estimators': [100, 200, 300]},\n",
       "             scoring='neg_mean_squared_error', verbose=2)"
      ]
     },
     "execution_count": 20,
     "metadata": {},
     "output_type": "execute_result"
    }
   ],
   "source": [
    "rf.fit(xtra,ytra)"
   ]
  },
  {
   "cell_type": "code",
   "execution_count": 21,
   "id": "db72f343",
   "metadata": {
    "execution": {
     "iopub.execute_input": "2024-01-13T14:22:47.325383Z",
     "iopub.status.busy": "2024-01-13T14:22:47.324908Z",
     "iopub.status.idle": "2024-01-13T14:22:47.332205Z",
     "shell.execute_reply": "2024-01-13T14:22:47.330799Z"
    },
    "papermill": {
     "duration": 0.068833,
     "end_time": "2024-01-13T14:22:47.335009",
     "exception": false,
     "start_time": "2024-01-13T14:22:47.266176",
     "status": "completed"
    },
    "tags": []
   },
   "outputs": [],
   "source": [
    "dt=GridSearchCV(pipe1, {\n",
    "    'model1__max_depth': [None, 5, 10, 15],\n",
    "    'model1__min_samples_split': [2, 5, 10],\n",
    "    'model1__min_samples_leaf': [1, 2, 4]\n",
    "},cv=5,scoring='neg_mean_squared_error',verbose=2)"
   ]
  },
  {
   "cell_type": "code",
   "execution_count": 22,
   "id": "c122eb56",
   "metadata": {
    "_kg_hide-output": true,
    "execution": {
     "iopub.execute_input": "2024-01-13T14:22:47.451773Z",
     "iopub.status.busy": "2024-01-13T14:22:47.451287Z",
     "iopub.status.idle": "2024-01-13T14:22:49.440825Z",
     "shell.execute_reply": "2024-01-13T14:22:49.439638Z"
    },
    "papermill": {
     "duration": 2.05137,
     "end_time": "2024-01-13T14:22:49.443501",
     "exception": false,
     "start_time": "2024-01-13T14:22:47.392131",
     "status": "completed"
    },
    "tags": []
   },
   "outputs": [
    {
     "name": "stdout",
     "output_type": "stream",
     "text": [
      "Fitting 5 folds for each of 36 candidates, totalling 180 fits\n",
      "[CV] END model1__max_depth=None, model1__min_samples_leaf=1, model1__min_samples_split=2; total time=   0.0s\n",
      "[CV] END model1__max_depth=None, model1__min_samples_leaf=1, model1__min_samples_split=2; total time=   0.0s\n",
      "[CV] END model1__max_depth=None, model1__min_samples_leaf=1, model1__min_samples_split=2; total time=   0.0s\n",
      "[CV] END model1__max_depth=None, model1__min_samples_leaf=1, model1__min_samples_split=2; total time=   0.0s\n",
      "[CV] END model1__max_depth=None, model1__min_samples_leaf=1, model1__min_samples_split=2; total time=   0.0s\n",
      "[CV] END model1__max_depth=None, model1__min_samples_leaf=1, model1__min_samples_split=5; total time=   0.0s\n",
      "[CV] END model1__max_depth=None, model1__min_samples_leaf=1, model1__min_samples_split=5; total time=   0.0s\n",
      "[CV] END model1__max_depth=None, model1__min_samples_leaf=1, model1__min_samples_split=5; total time=   0.0s\n",
      "[CV] END model1__max_depth=None, model1__min_samples_leaf=1, model1__min_samples_split=5; total time=   0.0s\n",
      "[CV] END model1__max_depth=None, model1__min_samples_leaf=1, model1__min_samples_split=5; total time=   0.0s\n",
      "[CV] END model1__max_depth=None, model1__min_samples_leaf=1, model1__min_samples_split=10; total time=   0.0s\n",
      "[CV] END model1__max_depth=None, model1__min_samples_leaf=1, model1__min_samples_split=10; total time=   0.0s\n",
      "[CV] END model1__max_depth=None, model1__min_samples_leaf=1, model1__min_samples_split=10; total time=   0.0s\n",
      "[CV] END model1__max_depth=None, model1__min_samples_leaf=1, model1__min_samples_split=10; total time=   0.0s\n",
      "[CV] END model1__max_depth=None, model1__min_samples_leaf=1, model1__min_samples_split=10; total time=   0.0s\n",
      "[CV] END model1__max_depth=None, model1__min_samples_leaf=2, model1__min_samples_split=2; total time=   0.0s\n",
      "[CV] END model1__max_depth=None, model1__min_samples_leaf=2, model1__min_samples_split=2; total time=   0.0s\n",
      "[CV] END model1__max_depth=None, model1__min_samples_leaf=2, model1__min_samples_split=2; total time=   0.0s\n",
      "[CV] END model1__max_depth=None, model1__min_samples_leaf=2, model1__min_samples_split=2; total time=   0.0s\n",
      "[CV] END model1__max_depth=None, model1__min_samples_leaf=2, model1__min_samples_split=2; total time=   0.0s\n",
      "[CV] END model1__max_depth=None, model1__min_samples_leaf=2, model1__min_samples_split=5; total time=   0.0s\n",
      "[CV] END model1__max_depth=None, model1__min_samples_leaf=2, model1__min_samples_split=5; total time=   0.0s\n",
      "[CV] END model1__max_depth=None, model1__min_samples_leaf=2, model1__min_samples_split=5; total time=   0.0s\n",
      "[CV] END model1__max_depth=None, model1__min_samples_leaf=2, model1__min_samples_split=5; total time=   0.0s\n",
      "[CV] END model1__max_depth=None, model1__min_samples_leaf=2, model1__min_samples_split=5; total time=   0.0s\n",
      "[CV] END model1__max_depth=None, model1__min_samples_leaf=2, model1__min_samples_split=10; total time=   0.0s\n",
      "[CV] END model1__max_depth=None, model1__min_samples_leaf=2, model1__min_samples_split=10; total time=   0.0s\n",
      "[CV] END model1__max_depth=None, model1__min_samples_leaf=2, model1__min_samples_split=10; total time=   0.0s\n",
      "[CV] END model1__max_depth=None, model1__min_samples_leaf=2, model1__min_samples_split=10; total time=   0.0s\n",
      "[CV] END model1__max_depth=None, model1__min_samples_leaf=2, model1__min_samples_split=10; total time=   0.0s\n",
      "[CV] END model1__max_depth=None, model1__min_samples_leaf=4, model1__min_samples_split=2; total time=   0.0s\n",
      "[CV] END model1__max_depth=None, model1__min_samples_leaf=4, model1__min_samples_split=2; total time=   0.0s\n",
      "[CV] END model1__max_depth=None, model1__min_samples_leaf=4, model1__min_samples_split=2; total time=   0.0s\n",
      "[CV] END model1__max_depth=None, model1__min_samples_leaf=4, model1__min_samples_split=2; total time=   0.0s\n",
      "[CV] END model1__max_depth=None, model1__min_samples_leaf=4, model1__min_samples_split=2; total time=   0.0s\n",
      "[CV] END model1__max_depth=None, model1__min_samples_leaf=4, model1__min_samples_split=5; total time=   0.0s\n",
      "[CV] END model1__max_depth=None, model1__min_samples_leaf=4, model1__min_samples_split=5; total time=   0.0s\n",
      "[CV] END model1__max_depth=None, model1__min_samples_leaf=4, model1__min_samples_split=5; total time=   0.0s\n",
      "[CV] END model1__max_depth=None, model1__min_samples_leaf=4, model1__min_samples_split=5; total time=   0.0s\n",
      "[CV] END model1__max_depth=None, model1__min_samples_leaf=4, model1__min_samples_split=5; total time=   0.0s\n",
      "[CV] END model1__max_depth=None, model1__min_samples_leaf=4, model1__min_samples_split=10; total time=   0.0s\n",
      "[CV] END model1__max_depth=None, model1__min_samples_leaf=4, model1__min_samples_split=10; total time=   0.0s\n",
      "[CV] END model1__max_depth=None, model1__min_samples_leaf=4, model1__min_samples_split=10; total time=   0.0s\n",
      "[CV] END model1__max_depth=None, model1__min_samples_leaf=4, model1__min_samples_split=10; total time=   0.0s\n",
      "[CV] END model1__max_depth=None, model1__min_samples_leaf=4, model1__min_samples_split=10; total time=   0.0s\n",
      "[CV] END model1__max_depth=5, model1__min_samples_leaf=1, model1__min_samples_split=2; total time=   0.0s\n",
      "[CV] END model1__max_depth=5, model1__min_samples_leaf=1, model1__min_samples_split=2; total time=   0.0s\n",
      "[CV] END model1__max_depth=5, model1__min_samples_leaf=1, model1__min_samples_split=2; total time=   0.0s\n",
      "[CV] END model1__max_depth=5, model1__min_samples_leaf=1, model1__min_samples_split=2; total time=   0.0s\n",
      "[CV] END model1__max_depth=5, model1__min_samples_leaf=1, model1__min_samples_split=2; total time=   0.0s\n",
      "[CV] END model1__max_depth=5, model1__min_samples_leaf=1, model1__min_samples_split=5; total time=   0.0s\n",
      "[CV] END model1__max_depth=5, model1__min_samples_leaf=1, model1__min_samples_split=5; total time=   0.0s\n",
      "[CV] END model1__max_depth=5, model1__min_samples_leaf=1, model1__min_samples_split=5; total time=   0.0s\n",
      "[CV] END model1__max_depth=5, model1__min_samples_leaf=1, model1__min_samples_split=5; total time=   0.0s\n",
      "[CV] END model1__max_depth=5, model1__min_samples_leaf=1, model1__min_samples_split=5; total time=   0.0s\n",
      "[CV] END model1__max_depth=5, model1__min_samples_leaf=1, model1__min_samples_split=10; total time=   0.0s\n",
      "[CV] END model1__max_depth=5, model1__min_samples_leaf=1, model1__min_samples_split=10; total time=   0.0s\n",
      "[CV] END model1__max_depth=5, model1__min_samples_leaf=1, model1__min_samples_split=10; total time=   0.0s\n",
      "[CV] END model1__max_depth=5, model1__min_samples_leaf=1, model1__min_samples_split=10; total time=   0.0s\n",
      "[CV] END model1__max_depth=5, model1__min_samples_leaf=1, model1__min_samples_split=10; total time=   0.0s\n",
      "[CV] END model1__max_depth=5, model1__min_samples_leaf=2, model1__min_samples_split=2; total time=   0.0s\n",
      "[CV] END model1__max_depth=5, model1__min_samples_leaf=2, model1__min_samples_split=2; total time=   0.0s\n",
      "[CV] END model1__max_depth=5, model1__min_samples_leaf=2, model1__min_samples_split=2; total time=   0.0s\n",
      "[CV] END model1__max_depth=5, model1__min_samples_leaf=2, model1__min_samples_split=2; total time=   0.0s\n",
      "[CV] END model1__max_depth=5, model1__min_samples_leaf=2, model1__min_samples_split=2; total time=   0.0s\n",
      "[CV] END model1__max_depth=5, model1__min_samples_leaf=2, model1__min_samples_split=5; total time=   0.0s\n",
      "[CV] END model1__max_depth=5, model1__min_samples_leaf=2, model1__min_samples_split=5; total time=   0.0s\n",
      "[CV] END model1__max_depth=5, model1__min_samples_leaf=2, model1__min_samples_split=5; total time=   0.0s\n",
      "[CV] END model1__max_depth=5, model1__min_samples_leaf=2, model1__min_samples_split=5; total time=   0.0s\n",
      "[CV] END model1__max_depth=5, model1__min_samples_leaf=2, model1__min_samples_split=5; total time=   0.0s\n",
      "[CV] END model1__max_depth=5, model1__min_samples_leaf=2, model1__min_samples_split=10; total time=   0.0s\n",
      "[CV] END model1__max_depth=5, model1__min_samples_leaf=2, model1__min_samples_split=10; total time=   0.0s\n",
      "[CV] END model1__max_depth=5, model1__min_samples_leaf=2, model1__min_samples_split=10; total time=   0.0s\n",
      "[CV] END model1__max_depth=5, model1__min_samples_leaf=2, model1__min_samples_split=10; total time=   0.0s\n",
      "[CV] END model1__max_depth=5, model1__min_samples_leaf=2, model1__min_samples_split=10; total time=   0.0s\n",
      "[CV] END model1__max_depth=5, model1__min_samples_leaf=4, model1__min_samples_split=2; total time=   0.0s\n",
      "[CV] END model1__max_depth=5, model1__min_samples_leaf=4, model1__min_samples_split=2; total time=   0.0s\n",
      "[CV] END model1__max_depth=5, model1__min_samples_leaf=4, model1__min_samples_split=2; total time=   0.0s\n",
      "[CV] END model1__max_depth=5, model1__min_samples_leaf=4, model1__min_samples_split=2; total time=   0.0s\n",
      "[CV] END model1__max_depth=5, model1__min_samples_leaf=4, model1__min_samples_split=2; total time=   0.0s\n",
      "[CV] END model1__max_depth=5, model1__min_samples_leaf=4, model1__min_samples_split=5; total time=   0.0s\n",
      "[CV] END model1__max_depth=5, model1__min_samples_leaf=4, model1__min_samples_split=5; total time=   0.0s\n",
      "[CV] END model1__max_depth=5, model1__min_samples_leaf=4, model1__min_samples_split=5; total time=   0.0s\n",
      "[CV] END model1__max_depth=5, model1__min_samples_leaf=4, model1__min_samples_split=5; total time=   0.0s\n",
      "[CV] END model1__max_depth=5, model1__min_samples_leaf=4, model1__min_samples_split=5; total time=   0.0s\n",
      "[CV] END model1__max_depth=5, model1__min_samples_leaf=4, model1__min_samples_split=10; total time=   0.0s\n",
      "[CV] END model1__max_depth=5, model1__min_samples_leaf=4, model1__min_samples_split=10; total time=   0.0s\n",
      "[CV] END model1__max_depth=5, model1__min_samples_leaf=4, model1__min_samples_split=10; total time=   0.0s\n",
      "[CV] END model1__max_depth=5, model1__min_samples_leaf=4, model1__min_samples_split=10; total time=   0.0s\n",
      "[CV] END model1__max_depth=5, model1__min_samples_leaf=4, model1__min_samples_split=10; total time=   0.0s\n",
      "[CV] END model1__max_depth=10, model1__min_samples_leaf=1, model1__min_samples_split=2; total time=   0.0s\n",
      "[CV] END model1__max_depth=10, model1__min_samples_leaf=1, model1__min_samples_split=2; total time=   0.0s\n",
      "[CV] END model1__max_depth=10, model1__min_samples_leaf=1, model1__min_samples_split=2; total time=   0.0s\n",
      "[CV] END model1__max_depth=10, model1__min_samples_leaf=1, model1__min_samples_split=2; total time=   0.0s\n",
      "[CV] END model1__max_depth=10, model1__min_samples_leaf=1, model1__min_samples_split=2; total time=   0.0s\n",
      "[CV] END model1__max_depth=10, model1__min_samples_leaf=1, model1__min_samples_split=5; total time=   0.0s\n",
      "[CV] END model1__max_depth=10, model1__min_samples_leaf=1, model1__min_samples_split=5; total time=   0.0s\n",
      "[CV] END model1__max_depth=10, model1__min_samples_leaf=1, model1__min_samples_split=5; total time=   0.0s\n",
      "[CV] END model1__max_depth=10, model1__min_samples_leaf=1, model1__min_samples_split=5; total time=   0.0s\n",
      "[CV] END model1__max_depth=10, model1__min_samples_leaf=1, model1__min_samples_split=5; total time=   0.0s\n",
      "[CV] END model1__max_depth=10, model1__min_samples_leaf=1, model1__min_samples_split=10; total time=   0.0s\n",
      "[CV] END model1__max_depth=10, model1__min_samples_leaf=1, model1__min_samples_split=10; total time=   0.0s\n",
      "[CV] END model1__max_depth=10, model1__min_samples_leaf=1, model1__min_samples_split=10; total time=   0.0s\n",
      "[CV] END model1__max_depth=10, model1__min_samples_leaf=1, model1__min_samples_split=10; total time=   0.0s\n",
      "[CV] END model1__max_depth=10, model1__min_samples_leaf=1, model1__min_samples_split=10; total time=   0.0s\n",
      "[CV] END model1__max_depth=10, model1__min_samples_leaf=2, model1__min_samples_split=2; total time=   0.0s\n",
      "[CV] END model1__max_depth=10, model1__min_samples_leaf=2, model1__min_samples_split=2; total time=   0.0s\n",
      "[CV] END model1__max_depth=10, model1__min_samples_leaf=2, model1__min_samples_split=2; total time=   0.0s\n",
      "[CV] END model1__max_depth=10, model1__min_samples_leaf=2, model1__min_samples_split=2; total time=   0.0s\n",
      "[CV] END model1__max_depth=10, model1__min_samples_leaf=2, model1__min_samples_split=2; total time=   0.0s\n",
      "[CV] END model1__max_depth=10, model1__min_samples_leaf=2, model1__min_samples_split=5; total time=   0.0s\n",
      "[CV] END model1__max_depth=10, model1__min_samples_leaf=2, model1__min_samples_split=5; total time=   0.0s\n",
      "[CV] END model1__max_depth=10, model1__min_samples_leaf=2, model1__min_samples_split=5; total time=   0.0s\n",
      "[CV] END model1__max_depth=10, model1__min_samples_leaf=2, model1__min_samples_split=5; total time=   0.0s\n",
      "[CV] END model1__max_depth=10, model1__min_samples_leaf=2, model1__min_samples_split=5; total time=   0.0s\n",
      "[CV] END model1__max_depth=10, model1__min_samples_leaf=2, model1__min_samples_split=10; total time=   0.0s\n",
      "[CV] END model1__max_depth=10, model1__min_samples_leaf=2, model1__min_samples_split=10; total time=   0.0s\n",
      "[CV] END model1__max_depth=10, model1__min_samples_leaf=2, model1__min_samples_split=10; total time=   0.0s\n",
      "[CV] END model1__max_depth=10, model1__min_samples_leaf=2, model1__min_samples_split=10; total time=   0.0s\n",
      "[CV] END model1__max_depth=10, model1__min_samples_leaf=2, model1__min_samples_split=10; total time=   0.0s\n",
      "[CV] END model1__max_depth=10, model1__min_samples_leaf=4, model1__min_samples_split=2; total time=   0.0s\n",
      "[CV] END model1__max_depth=10, model1__min_samples_leaf=4, model1__min_samples_split=2; total time=   0.0s\n",
      "[CV] END model1__max_depth=10, model1__min_samples_leaf=4, model1__min_samples_split=2; total time=   0.0s\n",
      "[CV] END model1__max_depth=10, model1__min_samples_leaf=4, model1__min_samples_split=2; total time=   0.0s\n",
      "[CV] END model1__max_depth=10, model1__min_samples_leaf=4, model1__min_samples_split=2; total time=   0.0s\n",
      "[CV] END model1__max_depth=10, model1__min_samples_leaf=4, model1__min_samples_split=5; total time=   0.0s\n",
      "[CV] END model1__max_depth=10, model1__min_samples_leaf=4, model1__min_samples_split=5; total time=   0.0s\n",
      "[CV] END model1__max_depth=10, model1__min_samples_leaf=4, model1__min_samples_split=5; total time=   0.0s\n",
      "[CV] END model1__max_depth=10, model1__min_samples_leaf=4, model1__min_samples_split=5; total time=   0.0s\n",
      "[CV] END model1__max_depth=10, model1__min_samples_leaf=4, model1__min_samples_split=5; total time=   0.0s\n",
      "[CV] END model1__max_depth=10, model1__min_samples_leaf=4, model1__min_samples_split=10; total time=   0.0s\n",
      "[CV] END model1__max_depth=10, model1__min_samples_leaf=4, model1__min_samples_split=10; total time=   0.0s\n",
      "[CV] END model1__max_depth=10, model1__min_samples_leaf=4, model1__min_samples_split=10; total time=   0.0s\n",
      "[CV] END model1__max_depth=10, model1__min_samples_leaf=4, model1__min_samples_split=10; total time=   0.0s\n",
      "[CV] END model1__max_depth=10, model1__min_samples_leaf=4, model1__min_samples_split=10; total time=   0.0s\n",
      "[CV] END model1__max_depth=15, model1__min_samples_leaf=1, model1__min_samples_split=2; total time=   0.0s\n",
      "[CV] END model1__max_depth=15, model1__min_samples_leaf=1, model1__min_samples_split=2; total time=   0.0s\n",
      "[CV] END model1__max_depth=15, model1__min_samples_leaf=1, model1__min_samples_split=2; total time=   0.0s\n",
      "[CV] END model1__max_depth=15, model1__min_samples_leaf=1, model1__min_samples_split=2; total time=   0.0s\n",
      "[CV] END model1__max_depth=15, model1__min_samples_leaf=1, model1__min_samples_split=2; total time=   0.0s\n",
      "[CV] END model1__max_depth=15, model1__min_samples_leaf=1, model1__min_samples_split=5; total time=   0.0s\n",
      "[CV] END model1__max_depth=15, model1__min_samples_leaf=1, model1__min_samples_split=5; total time=   0.0s\n",
      "[CV] END model1__max_depth=15, model1__min_samples_leaf=1, model1__min_samples_split=5; total time=   0.0s\n",
      "[CV] END model1__max_depth=15, model1__min_samples_leaf=1, model1__min_samples_split=5; total time=   0.0s\n",
      "[CV] END model1__max_depth=15, model1__min_samples_leaf=1, model1__min_samples_split=5; total time=   0.0s\n",
      "[CV] END model1__max_depth=15, model1__min_samples_leaf=1, model1__min_samples_split=10; total time=   0.0s\n",
      "[CV] END model1__max_depth=15, model1__min_samples_leaf=1, model1__min_samples_split=10; total time=   0.0s\n",
      "[CV] END model1__max_depth=15, model1__min_samples_leaf=1, model1__min_samples_split=10; total time=   0.0s\n",
      "[CV] END model1__max_depth=15, model1__min_samples_leaf=1, model1__min_samples_split=10; total time=   0.0s\n",
      "[CV] END model1__max_depth=15, model1__min_samples_leaf=1, model1__min_samples_split=10; total time=   0.0s\n",
      "[CV] END model1__max_depth=15, model1__min_samples_leaf=2, model1__min_samples_split=2; total time=   0.0s\n",
      "[CV] END model1__max_depth=15, model1__min_samples_leaf=2, model1__min_samples_split=2; total time=   0.0s\n",
      "[CV] END model1__max_depth=15, model1__min_samples_leaf=2, model1__min_samples_split=2; total time=   0.0s\n",
      "[CV] END model1__max_depth=15, model1__min_samples_leaf=2, model1__min_samples_split=2; total time=   0.0s\n",
      "[CV] END model1__max_depth=15, model1__min_samples_leaf=2, model1__min_samples_split=2; total time=   0.0s\n",
      "[CV] END model1__max_depth=15, model1__min_samples_leaf=2, model1__min_samples_split=5; total time=   0.0s\n",
      "[CV] END model1__max_depth=15, model1__min_samples_leaf=2, model1__min_samples_split=5; total time=   0.0s\n",
      "[CV] END model1__max_depth=15, model1__min_samples_leaf=2, model1__min_samples_split=5; total time=   0.0s\n",
      "[CV] END model1__max_depth=15, model1__min_samples_leaf=2, model1__min_samples_split=5; total time=   0.0s\n",
      "[CV] END model1__max_depth=15, model1__min_samples_leaf=2, model1__min_samples_split=5; total time=   0.0s\n",
      "[CV] END model1__max_depth=15, model1__min_samples_leaf=2, model1__min_samples_split=10; total time=   0.0s\n",
      "[CV] END model1__max_depth=15, model1__min_samples_leaf=2, model1__min_samples_split=10; total time=   0.0s\n",
      "[CV] END model1__max_depth=15, model1__min_samples_leaf=2, model1__min_samples_split=10; total time=   0.0s\n",
      "[CV] END model1__max_depth=15, model1__min_samples_leaf=2, model1__min_samples_split=10; total time=   0.0s\n",
      "[CV] END model1__max_depth=15, model1__min_samples_leaf=2, model1__min_samples_split=10; total time=   0.0s\n",
      "[CV] END model1__max_depth=15, model1__min_samples_leaf=4, model1__min_samples_split=2; total time=   0.0s\n",
      "[CV] END model1__max_depth=15, model1__min_samples_leaf=4, model1__min_samples_split=2; total time=   0.0s\n",
      "[CV] END model1__max_depth=15, model1__min_samples_leaf=4, model1__min_samples_split=2; total time=   0.0s\n",
      "[CV] END model1__max_depth=15, model1__min_samples_leaf=4, model1__min_samples_split=2; total time=   0.0s\n",
      "[CV] END model1__max_depth=15, model1__min_samples_leaf=4, model1__min_samples_split=2; total time=   0.0s\n",
      "[CV] END model1__max_depth=15, model1__min_samples_leaf=4, model1__min_samples_split=5; total time=   0.0s\n",
      "[CV] END model1__max_depth=15, model1__min_samples_leaf=4, model1__min_samples_split=5; total time=   0.0s\n",
      "[CV] END model1__max_depth=15, model1__min_samples_leaf=4, model1__min_samples_split=5; total time=   0.0s\n",
      "[CV] END model1__max_depth=15, model1__min_samples_leaf=4, model1__min_samples_split=5; total time=   0.0s\n",
      "[CV] END model1__max_depth=15, model1__min_samples_leaf=4, model1__min_samples_split=5; total time=   0.0s\n",
      "[CV] END model1__max_depth=15, model1__min_samples_leaf=4, model1__min_samples_split=10; total time=   0.0s\n",
      "[CV] END model1__max_depth=15, model1__min_samples_leaf=4, model1__min_samples_split=10; total time=   0.0s\n",
      "[CV] END model1__max_depth=15, model1__min_samples_leaf=4, model1__min_samples_split=10; total time=   0.0s\n",
      "[CV] END model1__max_depth=15, model1__min_samples_leaf=4, model1__min_samples_split=10; total time=   0.0s\n",
      "[CV] END model1__max_depth=15, model1__min_samples_leaf=4, model1__min_samples_split=10; total time=   0.0s\n"
     ]
    },
    {
     "data": {
      "text/html": [
       "<style>#sk-container-id-3 {color: black;background-color: white;}#sk-container-id-3 pre{padding: 0;}#sk-container-id-3 div.sk-toggleable {background-color: white;}#sk-container-id-3 label.sk-toggleable__label {cursor: pointer;display: block;width: 100%;margin-bottom: 0;padding: 0.3em;box-sizing: border-box;text-align: center;}#sk-container-id-3 label.sk-toggleable__label-arrow:before {content: \"▸\";float: left;margin-right: 0.25em;color: #696969;}#sk-container-id-3 label.sk-toggleable__label-arrow:hover:before {color: black;}#sk-container-id-3 div.sk-estimator:hover label.sk-toggleable__label-arrow:before {color: black;}#sk-container-id-3 div.sk-toggleable__content {max-height: 0;max-width: 0;overflow: hidden;text-align: left;background-color: #f0f8ff;}#sk-container-id-3 div.sk-toggleable__content pre {margin: 0.2em;color: black;border-radius: 0.25em;background-color: #f0f8ff;}#sk-container-id-3 input.sk-toggleable__control:checked~div.sk-toggleable__content {max-height: 200px;max-width: 100%;overflow: auto;}#sk-container-id-3 input.sk-toggleable__control:checked~label.sk-toggleable__label-arrow:before {content: \"▾\";}#sk-container-id-3 div.sk-estimator input.sk-toggleable__control:checked~label.sk-toggleable__label {background-color: #d4ebff;}#sk-container-id-3 div.sk-label input.sk-toggleable__control:checked~label.sk-toggleable__label {background-color: #d4ebff;}#sk-container-id-3 input.sk-hidden--visually {border: 0;clip: rect(1px 1px 1px 1px);clip: rect(1px, 1px, 1px, 1px);height: 1px;margin: -1px;overflow: hidden;padding: 0;position: absolute;width: 1px;}#sk-container-id-3 div.sk-estimator {font-family: monospace;background-color: #f0f8ff;border: 1px dotted black;border-radius: 0.25em;box-sizing: border-box;margin-bottom: 0.5em;}#sk-container-id-3 div.sk-estimator:hover {background-color: #d4ebff;}#sk-container-id-3 div.sk-parallel-item::after {content: \"\";width: 100%;border-bottom: 1px solid gray;flex-grow: 1;}#sk-container-id-3 div.sk-label:hover label.sk-toggleable__label {background-color: #d4ebff;}#sk-container-id-3 div.sk-serial::before {content: \"\";position: absolute;border-left: 1px solid gray;box-sizing: border-box;top: 0;bottom: 0;left: 50%;z-index: 0;}#sk-container-id-3 div.sk-serial {display: flex;flex-direction: column;align-items: center;background-color: white;padding-right: 0.2em;padding-left: 0.2em;position: relative;}#sk-container-id-3 div.sk-item {position: relative;z-index: 1;}#sk-container-id-3 div.sk-parallel {display: flex;align-items: stretch;justify-content: center;background-color: white;position: relative;}#sk-container-id-3 div.sk-item::before, #sk-container-id-3 div.sk-parallel-item::before {content: \"\";position: absolute;border-left: 1px solid gray;box-sizing: border-box;top: 0;bottom: 0;left: 50%;z-index: -1;}#sk-container-id-3 div.sk-parallel-item {display: flex;flex-direction: column;z-index: 1;position: relative;background-color: white;}#sk-container-id-3 div.sk-parallel-item:first-child::after {align-self: flex-end;width: 50%;}#sk-container-id-3 div.sk-parallel-item:last-child::after {align-self: flex-start;width: 50%;}#sk-container-id-3 div.sk-parallel-item:only-child::after {width: 0;}#sk-container-id-3 div.sk-dashed-wrapped {border: 1px dashed gray;margin: 0 0.4em 0.5em 0.4em;box-sizing: border-box;padding-bottom: 0.4em;background-color: white;}#sk-container-id-3 div.sk-label label {font-family: monospace;font-weight: bold;display: inline-block;line-height: 1.2em;}#sk-container-id-3 div.sk-label-container {text-align: center;}#sk-container-id-3 div.sk-container {/* jupyter's `normalize.less` sets `[hidden] { display: none; }` but bootstrap.min.css set `[hidden] { display: none !important; }` so we also need the `!important` here to be able to override the default hidden behavior on the sphinx rendered scikit-learn.org. See: https://github.com/scikit-learn/scikit-learn/issues/21755 */display: inline-block !important;position: relative;}#sk-container-id-3 div.sk-text-repr-fallback {display: none;}</style><div id=\"sk-container-id-3\" class=\"sk-top-container\"><div class=\"sk-text-repr-fallback\"><pre>GridSearchCV(cv=5,\n",
       "             estimator=Pipeline(steps=[(&#x27;scale&#x27;, StandardScaler()),\n",
       "                                       (&#x27;model1&#x27;, DecisionTreeRegressor())]),\n",
       "             param_grid={&#x27;model1__max_depth&#x27;: [None, 5, 10, 15],\n",
       "                         &#x27;model1__min_samples_leaf&#x27;: [1, 2, 4],\n",
       "                         &#x27;model1__min_samples_split&#x27;: [2, 5, 10]},\n",
       "             scoring=&#x27;neg_mean_squared_error&#x27;, verbose=2)</pre><b>In a Jupyter environment, please rerun this cell to show the HTML representation or trust the notebook. <br />On GitHub, the HTML representation is unable to render, please try loading this page with nbviewer.org.</b></div><div class=\"sk-container\" hidden><div class=\"sk-item sk-dashed-wrapped\"><div class=\"sk-label-container\"><div class=\"sk-label sk-toggleable\"><input class=\"sk-toggleable__control sk-hidden--visually\" id=\"sk-estimator-id-10\" type=\"checkbox\" ><label for=\"sk-estimator-id-10\" class=\"sk-toggleable__label sk-toggleable__label-arrow\">GridSearchCV</label><div class=\"sk-toggleable__content\"><pre>GridSearchCV(cv=5,\n",
       "             estimator=Pipeline(steps=[(&#x27;scale&#x27;, StandardScaler()),\n",
       "                                       (&#x27;model1&#x27;, DecisionTreeRegressor())]),\n",
       "             param_grid={&#x27;model1__max_depth&#x27;: [None, 5, 10, 15],\n",
       "                         &#x27;model1__min_samples_leaf&#x27;: [1, 2, 4],\n",
       "                         &#x27;model1__min_samples_split&#x27;: [2, 5, 10]},\n",
       "             scoring=&#x27;neg_mean_squared_error&#x27;, verbose=2)</pre></div></div></div><div class=\"sk-parallel\"><div class=\"sk-parallel-item\"><div class=\"sk-item\"><div class=\"sk-label-container\"><div class=\"sk-label sk-toggleable\"><input class=\"sk-toggleable__control sk-hidden--visually\" id=\"sk-estimator-id-11\" type=\"checkbox\" ><label for=\"sk-estimator-id-11\" class=\"sk-toggleable__label sk-toggleable__label-arrow\">estimator: Pipeline</label><div class=\"sk-toggleable__content\"><pre>Pipeline(steps=[(&#x27;scale&#x27;, StandardScaler()),\n",
       "                (&#x27;model1&#x27;, DecisionTreeRegressor())])</pre></div></div></div><div class=\"sk-serial\"><div class=\"sk-item\"><div class=\"sk-serial\"><div class=\"sk-item\"><div class=\"sk-estimator sk-toggleable\"><input class=\"sk-toggleable__control sk-hidden--visually\" id=\"sk-estimator-id-12\" type=\"checkbox\" ><label for=\"sk-estimator-id-12\" class=\"sk-toggleable__label sk-toggleable__label-arrow\">StandardScaler</label><div class=\"sk-toggleable__content\"><pre>StandardScaler()</pre></div></div></div><div class=\"sk-item\"><div class=\"sk-estimator sk-toggleable\"><input class=\"sk-toggleable__control sk-hidden--visually\" id=\"sk-estimator-id-13\" type=\"checkbox\" ><label for=\"sk-estimator-id-13\" class=\"sk-toggleable__label sk-toggleable__label-arrow\">DecisionTreeRegressor</label><div class=\"sk-toggleable__content\"><pre>DecisionTreeRegressor()</pre></div></div></div></div></div></div></div></div></div></div></div></div>"
      ],
      "text/plain": [
       "GridSearchCV(cv=5,\n",
       "             estimator=Pipeline(steps=[('scale', StandardScaler()),\n",
       "                                       ('model1', DecisionTreeRegressor())]),\n",
       "             param_grid={'model1__max_depth': [None, 5, 10, 15],\n",
       "                         'model1__min_samples_leaf': [1, 2, 4],\n",
       "                         'model1__min_samples_split': [2, 5, 10]},\n",
       "             scoring='neg_mean_squared_error', verbose=2)"
      ]
     },
     "execution_count": 22,
     "metadata": {},
     "output_type": "execute_result"
    }
   ],
   "source": [
    "dt.fit(xtra,ytra)"
   ]
  },
  {
   "cell_type": "code",
   "execution_count": 23,
   "id": "7558f84d",
   "metadata": {
    "execution": {
     "iopub.execute_input": "2024-01-13T14:22:49.563246Z",
     "iopub.status.busy": "2024-01-13T14:22:49.562757Z",
     "iopub.status.idle": "2024-01-13T14:22:49.569005Z",
     "shell.execute_reply": "2024-01-13T14:22:49.568065Z"
    },
    "papermill": {
     "duration": 0.068948,
     "end_time": "2024-01-13T14:22:49.571214",
     "exception": false,
     "start_time": "2024-01-13T14:22:49.502266",
     "status": "completed"
    },
    "tags": []
   },
   "outputs": [],
   "source": [
    "kn=GridSearchCV(pipe5,{\n",
    "    'model5__n_neighbors': [3, 5, 7, 10],\n",
    "    'model5__weights': ['uniform', 'distance'],\n",
    "    'model5__algorithm': ['auto', 'ball_tree', 'kd_tree']\n",
    "},cv=5,scoring='neg_mean_squared_error',verbose=2)"
   ]
  },
  {
   "cell_type": "code",
   "execution_count": 24,
   "id": "183ac376",
   "metadata": {
    "_kg_hide-output": true,
    "execution": {
     "iopub.execute_input": "2024-01-13T14:22:49.690976Z",
     "iopub.status.busy": "2024-01-13T14:22:49.690546Z",
     "iopub.status.idle": "2024-01-13T14:22:51.273608Z",
     "shell.execute_reply": "2024-01-13T14:22:51.272047Z"
    },
    "papermill": {
     "duration": 1.647551,
     "end_time": "2024-01-13T14:22:51.277044",
     "exception": false,
     "start_time": "2024-01-13T14:22:49.629493",
     "status": "completed"
    },
    "tags": []
   },
   "outputs": [
    {
     "name": "stdout",
     "output_type": "stream",
     "text": [
      "Fitting 5 folds for each of 24 candidates, totalling 120 fits\n",
      "[CV] END model5__algorithm=auto, model5__n_neighbors=3, model5__weights=uniform; total time=   0.0s\n",
      "[CV] END model5__algorithm=auto, model5__n_neighbors=3, model5__weights=uniform; total time=   0.0s\n",
      "[CV] END model5__algorithm=auto, model5__n_neighbors=3, model5__weights=uniform; total time=   0.0s\n",
      "[CV] END model5__algorithm=auto, model5__n_neighbors=3, model5__weights=uniform; total time=   0.0s\n",
      "[CV] END model5__algorithm=auto, model5__n_neighbors=3, model5__weights=uniform; total time=   0.0s\n",
      "[CV] END model5__algorithm=auto, model5__n_neighbors=3, model5__weights=distance; total time=   0.0s\n",
      "[CV] END model5__algorithm=auto, model5__n_neighbors=3, model5__weights=distance; total time=   0.0s\n",
      "[CV] END model5__algorithm=auto, model5__n_neighbors=3, model5__weights=distance; total time=   0.0s\n",
      "[CV] END model5__algorithm=auto, model5__n_neighbors=3, model5__weights=distance; total time=   0.0s\n",
      "[CV] END model5__algorithm=auto, model5__n_neighbors=3, model5__weights=distance; total time=   0.0s\n",
      "[CV] END model5__algorithm=auto, model5__n_neighbors=5, model5__weights=uniform; total time=   0.0s\n",
      "[CV] END model5__algorithm=auto, model5__n_neighbors=5, model5__weights=uniform; total time=   0.0s\n",
      "[CV] END model5__algorithm=auto, model5__n_neighbors=5, model5__weights=uniform; total time=   0.0s\n",
      "[CV] END model5__algorithm=auto, model5__n_neighbors=5, model5__weights=uniform; total time=   0.0s\n",
      "[CV] END model5__algorithm=auto, model5__n_neighbors=5, model5__weights=uniform; total time=   0.0s\n",
      "[CV] END model5__algorithm=auto, model5__n_neighbors=5, model5__weights=distance; total time=   0.0s\n",
      "[CV] END model5__algorithm=auto, model5__n_neighbors=5, model5__weights=distance; total time=   0.0s\n",
      "[CV] END model5__algorithm=auto, model5__n_neighbors=5, model5__weights=distance; total time=   0.0s\n",
      "[CV] END model5__algorithm=auto, model5__n_neighbors=5, model5__weights=distance; total time=   0.0s\n",
      "[CV] END model5__algorithm=auto, model5__n_neighbors=5, model5__weights=distance; total time=   0.0s\n",
      "[CV] END model5__algorithm=auto, model5__n_neighbors=7, model5__weights=uniform; total time=   0.0s\n",
      "[CV] END model5__algorithm=auto, model5__n_neighbors=7, model5__weights=uniform; total time=   0.0s\n",
      "[CV] END model5__algorithm=auto, model5__n_neighbors=7, model5__weights=uniform; total time=   0.0s\n",
      "[CV] END model5__algorithm=auto, model5__n_neighbors=7, model5__weights=uniform; total time=   0.0s\n",
      "[CV] END model5__algorithm=auto, model5__n_neighbors=7, model5__weights=uniform; total time=   0.0s\n",
      "[CV] END model5__algorithm=auto, model5__n_neighbors=7, model5__weights=distance; total time=   0.0s\n",
      "[CV] END model5__algorithm=auto, model5__n_neighbors=7, model5__weights=distance; total time=   0.0s\n",
      "[CV] END model5__algorithm=auto, model5__n_neighbors=7, model5__weights=distance; total time=   0.0s\n",
      "[CV] END model5__algorithm=auto, model5__n_neighbors=7, model5__weights=distance; total time=   0.0s\n",
      "[CV] END model5__algorithm=auto, model5__n_neighbors=7, model5__weights=distance; total time=   0.0s\n",
      "[CV] END model5__algorithm=auto, model5__n_neighbors=10, model5__weights=uniform; total time=   0.0s\n",
      "[CV] END model5__algorithm=auto, model5__n_neighbors=10, model5__weights=uniform; total time=   0.0s\n",
      "[CV] END model5__algorithm=auto, model5__n_neighbors=10, model5__weights=uniform; total time=   0.0s\n",
      "[CV] END model5__algorithm=auto, model5__n_neighbors=10, model5__weights=uniform; total time=   0.0s\n",
      "[CV] END model5__algorithm=auto, model5__n_neighbors=10, model5__weights=uniform; total time=   0.0s\n",
      "[CV] END model5__algorithm=auto, model5__n_neighbors=10, model5__weights=distance; total time=   0.0s\n",
      "[CV] END model5__algorithm=auto, model5__n_neighbors=10, model5__weights=distance; total time=   0.0s\n",
      "[CV] END model5__algorithm=auto, model5__n_neighbors=10, model5__weights=distance; total time=   0.0s\n",
      "[CV] END model5__algorithm=auto, model5__n_neighbors=10, model5__weights=distance; total time=   0.0s\n",
      "[CV] END model5__algorithm=auto, model5__n_neighbors=10, model5__weights=distance; total time=   0.0s\n",
      "[CV] END model5__algorithm=ball_tree, model5__n_neighbors=3, model5__weights=uniform; total time=   0.0s\n",
      "[CV] END model5__algorithm=ball_tree, model5__n_neighbors=3, model5__weights=uniform; total time=   0.0s\n",
      "[CV] END model5__algorithm=ball_tree, model5__n_neighbors=3, model5__weights=uniform; total time=   0.0s\n",
      "[CV] END model5__algorithm=ball_tree, model5__n_neighbors=3, model5__weights=uniform; total time=   0.0s\n",
      "[CV] END model5__algorithm=ball_tree, model5__n_neighbors=3, model5__weights=uniform; total time=   0.0s\n",
      "[CV] END model5__algorithm=ball_tree, model5__n_neighbors=3, model5__weights=distance; total time=   0.0s\n",
      "[CV] END model5__algorithm=ball_tree, model5__n_neighbors=3, model5__weights=distance; total time=   0.0s\n",
      "[CV] END model5__algorithm=ball_tree, model5__n_neighbors=3, model5__weights=distance; total time=   0.0s\n",
      "[CV] END model5__algorithm=ball_tree, model5__n_neighbors=3, model5__weights=distance; total time=   0.0s\n",
      "[CV] END model5__algorithm=ball_tree, model5__n_neighbors=3, model5__weights=distance; total time=   0.0s\n",
      "[CV] END model5__algorithm=ball_tree, model5__n_neighbors=5, model5__weights=uniform; total time=   0.0s\n",
      "[CV] END model5__algorithm=ball_tree, model5__n_neighbors=5, model5__weights=uniform; total time=   0.0s\n",
      "[CV] END model5__algorithm=ball_tree, model5__n_neighbors=5, model5__weights=uniform; total time=   0.0s\n",
      "[CV] END model5__algorithm=ball_tree, model5__n_neighbors=5, model5__weights=uniform; total time=   0.0s\n",
      "[CV] END model5__algorithm=ball_tree, model5__n_neighbors=5, model5__weights=uniform; total time=   0.0s\n",
      "[CV] END model5__algorithm=ball_tree, model5__n_neighbors=5, model5__weights=distance; total time=   0.0s\n",
      "[CV] END model5__algorithm=ball_tree, model5__n_neighbors=5, model5__weights=distance; total time=   0.0s\n",
      "[CV] END model5__algorithm=ball_tree, model5__n_neighbors=5, model5__weights=distance; total time=   0.0s\n",
      "[CV] END model5__algorithm=ball_tree, model5__n_neighbors=5, model5__weights=distance; total time=   0.0s\n",
      "[CV] END model5__algorithm=ball_tree, model5__n_neighbors=5, model5__weights=distance; total time=   0.0s\n",
      "[CV] END model5__algorithm=ball_tree, model5__n_neighbors=7, model5__weights=uniform; total time=   0.0s\n",
      "[CV] END model5__algorithm=ball_tree, model5__n_neighbors=7, model5__weights=uniform; total time=   0.0s\n",
      "[CV] END model5__algorithm=ball_tree, model5__n_neighbors=7, model5__weights=uniform; total time=   0.0s\n",
      "[CV] END model5__algorithm=ball_tree, model5__n_neighbors=7, model5__weights=uniform; total time=   0.0s\n",
      "[CV] END model5__algorithm=ball_tree, model5__n_neighbors=7, model5__weights=uniform; total time=   0.0s\n",
      "[CV] END model5__algorithm=ball_tree, model5__n_neighbors=7, model5__weights=distance; total time=   0.0s\n",
      "[CV] END model5__algorithm=ball_tree, model5__n_neighbors=7, model5__weights=distance; total time=   0.0s\n",
      "[CV] END model5__algorithm=ball_tree, model5__n_neighbors=7, model5__weights=distance; total time=   0.0s\n",
      "[CV] END model5__algorithm=ball_tree, model5__n_neighbors=7, model5__weights=distance; total time=   0.0s\n",
      "[CV] END model5__algorithm=ball_tree, model5__n_neighbors=7, model5__weights=distance; total time=   0.0s\n",
      "[CV] END model5__algorithm=ball_tree, model5__n_neighbors=10, model5__weights=uniform; total time=   0.0s\n",
      "[CV] END model5__algorithm=ball_tree, model5__n_neighbors=10, model5__weights=uniform; total time=   0.0s\n",
      "[CV] END model5__algorithm=ball_tree, model5__n_neighbors=10, model5__weights=uniform; total time=   0.0s\n",
      "[CV] END model5__algorithm=ball_tree, model5__n_neighbors=10, model5__weights=uniform; total time=   0.0s\n",
      "[CV] END model5__algorithm=ball_tree, model5__n_neighbors=10, model5__weights=uniform; total time=   0.0s\n",
      "[CV] END model5__algorithm=ball_tree, model5__n_neighbors=10, model5__weights=distance; total time=   0.0s\n",
      "[CV] END model5__algorithm=ball_tree, model5__n_neighbors=10, model5__weights=distance; total time=   0.0s\n",
      "[CV] END model5__algorithm=ball_tree, model5__n_neighbors=10, model5__weights=distance; total time=   0.0s\n",
      "[CV] END model5__algorithm=ball_tree, model5__n_neighbors=10, model5__weights=distance; total time=   0.0s\n",
      "[CV] END model5__algorithm=ball_tree, model5__n_neighbors=10, model5__weights=distance; total time=   0.0s\n",
      "[CV] END model5__algorithm=kd_tree, model5__n_neighbors=3, model5__weights=uniform; total time=   0.0s\n",
      "[CV] END model5__algorithm=kd_tree, model5__n_neighbors=3, model5__weights=uniform; total time=   0.0s\n",
      "[CV] END model5__algorithm=kd_tree, model5__n_neighbors=3, model5__weights=uniform; total time=   0.0s\n",
      "[CV] END model5__algorithm=kd_tree, model5__n_neighbors=3, model5__weights=uniform; total time=   0.0s\n",
      "[CV] END model5__algorithm=kd_tree, model5__n_neighbors=3, model5__weights=uniform; total time=   0.0s\n",
      "[CV] END model5__algorithm=kd_tree, model5__n_neighbors=3, model5__weights=distance; total time=   0.0s\n",
      "[CV] END model5__algorithm=kd_tree, model5__n_neighbors=3, model5__weights=distance; total time=   0.0s\n",
      "[CV] END model5__algorithm=kd_tree, model5__n_neighbors=3, model5__weights=distance; total time=   0.0s\n",
      "[CV] END model5__algorithm=kd_tree, model5__n_neighbors=3, model5__weights=distance; total time=   0.0s\n",
      "[CV] END model5__algorithm=kd_tree, model5__n_neighbors=3, model5__weights=distance; total time=   0.0s\n",
      "[CV] END model5__algorithm=kd_tree, model5__n_neighbors=5, model5__weights=uniform; total time=   0.0s\n",
      "[CV] END model5__algorithm=kd_tree, model5__n_neighbors=5, model5__weights=uniform; total time=   0.0s\n",
      "[CV] END model5__algorithm=kd_tree, model5__n_neighbors=5, model5__weights=uniform; total time=   0.0s\n",
      "[CV] END model5__algorithm=kd_tree, model5__n_neighbors=5, model5__weights=uniform; total time=   0.0s\n",
      "[CV] END model5__algorithm=kd_tree, model5__n_neighbors=5, model5__weights=uniform; total time=   0.0s\n",
      "[CV] END model5__algorithm=kd_tree, model5__n_neighbors=5, model5__weights=distance; total time=   0.0s\n",
      "[CV] END model5__algorithm=kd_tree, model5__n_neighbors=5, model5__weights=distance; total time=   0.0s\n",
      "[CV] END model5__algorithm=kd_tree, model5__n_neighbors=5, model5__weights=distance; total time=   0.0s\n",
      "[CV] END model5__algorithm=kd_tree, model5__n_neighbors=5, model5__weights=distance; total time=   0.0s\n",
      "[CV] END model5__algorithm=kd_tree, model5__n_neighbors=5, model5__weights=distance; total time=   0.0s\n",
      "[CV] END model5__algorithm=kd_tree, model5__n_neighbors=7, model5__weights=uniform; total time=   0.0s\n",
      "[CV] END model5__algorithm=kd_tree, model5__n_neighbors=7, model5__weights=uniform; total time=   0.0s\n",
      "[CV] END model5__algorithm=kd_tree, model5__n_neighbors=7, model5__weights=uniform; total time=   0.0s\n",
      "[CV] END model5__algorithm=kd_tree, model5__n_neighbors=7, model5__weights=uniform; total time=   0.0s\n",
      "[CV] END model5__algorithm=kd_tree, model5__n_neighbors=7, model5__weights=uniform; total time=   0.0s\n",
      "[CV] END model5__algorithm=kd_tree, model5__n_neighbors=7, model5__weights=distance; total time=   0.0s\n",
      "[CV] END model5__algorithm=kd_tree, model5__n_neighbors=7, model5__weights=distance; total time=   0.0s\n",
      "[CV] END model5__algorithm=kd_tree, model5__n_neighbors=7, model5__weights=distance; total time=   0.0s\n",
      "[CV] END model5__algorithm=kd_tree, model5__n_neighbors=7, model5__weights=distance; total time=   0.0s\n",
      "[CV] END model5__algorithm=kd_tree, model5__n_neighbors=7, model5__weights=distance; total time=   0.0s\n",
      "[CV] END model5__algorithm=kd_tree, model5__n_neighbors=10, model5__weights=uniform; total time=   0.0s\n",
      "[CV] END model5__algorithm=kd_tree, model5__n_neighbors=10, model5__weights=uniform; total time=   0.0s\n",
      "[CV] END model5__algorithm=kd_tree, model5__n_neighbors=10, model5__weights=uniform; total time=   0.0s\n",
      "[CV] END model5__algorithm=kd_tree, model5__n_neighbors=10, model5__weights=uniform; total time=   0.0s\n",
      "[CV] END model5__algorithm=kd_tree, model5__n_neighbors=10, model5__weights=uniform; total time=   0.0s\n",
      "[CV] END model5__algorithm=kd_tree, model5__n_neighbors=10, model5__weights=distance; total time=   0.0s\n",
      "[CV] END model5__algorithm=kd_tree, model5__n_neighbors=10, model5__weights=distance; total time=   0.0s\n",
      "[CV] END model5__algorithm=kd_tree, model5__n_neighbors=10, model5__weights=distance; total time=   0.0s\n",
      "[CV] END model5__algorithm=kd_tree, model5__n_neighbors=10, model5__weights=distance; total time=   0.0s\n",
      "[CV] END model5__algorithm=kd_tree, model5__n_neighbors=10, model5__weights=distance; total time=   0.0s\n"
     ]
    },
    {
     "data": {
      "text/html": [
       "<style>#sk-container-id-4 {color: black;background-color: white;}#sk-container-id-4 pre{padding: 0;}#sk-container-id-4 div.sk-toggleable {background-color: white;}#sk-container-id-4 label.sk-toggleable__label {cursor: pointer;display: block;width: 100%;margin-bottom: 0;padding: 0.3em;box-sizing: border-box;text-align: center;}#sk-container-id-4 label.sk-toggleable__label-arrow:before {content: \"▸\";float: left;margin-right: 0.25em;color: #696969;}#sk-container-id-4 label.sk-toggleable__label-arrow:hover:before {color: black;}#sk-container-id-4 div.sk-estimator:hover label.sk-toggleable__label-arrow:before {color: black;}#sk-container-id-4 div.sk-toggleable__content {max-height: 0;max-width: 0;overflow: hidden;text-align: left;background-color: #f0f8ff;}#sk-container-id-4 div.sk-toggleable__content pre {margin: 0.2em;color: black;border-radius: 0.25em;background-color: #f0f8ff;}#sk-container-id-4 input.sk-toggleable__control:checked~div.sk-toggleable__content {max-height: 200px;max-width: 100%;overflow: auto;}#sk-container-id-4 input.sk-toggleable__control:checked~label.sk-toggleable__label-arrow:before {content: \"▾\";}#sk-container-id-4 div.sk-estimator input.sk-toggleable__control:checked~label.sk-toggleable__label {background-color: #d4ebff;}#sk-container-id-4 div.sk-label input.sk-toggleable__control:checked~label.sk-toggleable__label {background-color: #d4ebff;}#sk-container-id-4 input.sk-hidden--visually {border: 0;clip: rect(1px 1px 1px 1px);clip: rect(1px, 1px, 1px, 1px);height: 1px;margin: -1px;overflow: hidden;padding: 0;position: absolute;width: 1px;}#sk-container-id-4 div.sk-estimator {font-family: monospace;background-color: #f0f8ff;border: 1px dotted black;border-radius: 0.25em;box-sizing: border-box;margin-bottom: 0.5em;}#sk-container-id-4 div.sk-estimator:hover {background-color: #d4ebff;}#sk-container-id-4 div.sk-parallel-item::after {content: \"\";width: 100%;border-bottom: 1px solid gray;flex-grow: 1;}#sk-container-id-4 div.sk-label:hover label.sk-toggleable__label {background-color: #d4ebff;}#sk-container-id-4 div.sk-serial::before {content: \"\";position: absolute;border-left: 1px solid gray;box-sizing: border-box;top: 0;bottom: 0;left: 50%;z-index: 0;}#sk-container-id-4 div.sk-serial {display: flex;flex-direction: column;align-items: center;background-color: white;padding-right: 0.2em;padding-left: 0.2em;position: relative;}#sk-container-id-4 div.sk-item {position: relative;z-index: 1;}#sk-container-id-4 div.sk-parallel {display: flex;align-items: stretch;justify-content: center;background-color: white;position: relative;}#sk-container-id-4 div.sk-item::before, #sk-container-id-4 div.sk-parallel-item::before {content: \"\";position: absolute;border-left: 1px solid gray;box-sizing: border-box;top: 0;bottom: 0;left: 50%;z-index: -1;}#sk-container-id-4 div.sk-parallel-item {display: flex;flex-direction: column;z-index: 1;position: relative;background-color: white;}#sk-container-id-4 div.sk-parallel-item:first-child::after {align-self: flex-end;width: 50%;}#sk-container-id-4 div.sk-parallel-item:last-child::after {align-self: flex-start;width: 50%;}#sk-container-id-4 div.sk-parallel-item:only-child::after {width: 0;}#sk-container-id-4 div.sk-dashed-wrapped {border: 1px dashed gray;margin: 0 0.4em 0.5em 0.4em;box-sizing: border-box;padding-bottom: 0.4em;background-color: white;}#sk-container-id-4 div.sk-label label {font-family: monospace;font-weight: bold;display: inline-block;line-height: 1.2em;}#sk-container-id-4 div.sk-label-container {text-align: center;}#sk-container-id-4 div.sk-container {/* jupyter's `normalize.less` sets `[hidden] { display: none; }` but bootstrap.min.css set `[hidden] { display: none !important; }` so we also need the `!important` here to be able to override the default hidden behavior on the sphinx rendered scikit-learn.org. See: https://github.com/scikit-learn/scikit-learn/issues/21755 */display: inline-block !important;position: relative;}#sk-container-id-4 div.sk-text-repr-fallback {display: none;}</style><div id=\"sk-container-id-4\" class=\"sk-top-container\"><div class=\"sk-text-repr-fallback\"><pre>GridSearchCV(cv=5,\n",
       "             estimator=Pipeline(steps=[(&#x27;scale&#x27;, StandardScaler()),\n",
       "                                       (&#x27;min&#x27;, MinMaxScaler()),\n",
       "                                       (&#x27;model5&#x27;, KNeighborsRegressor())]),\n",
       "             param_grid={&#x27;model5__algorithm&#x27;: [&#x27;auto&#x27;, &#x27;ball_tree&#x27;, &#x27;kd_tree&#x27;],\n",
       "                         &#x27;model5__n_neighbors&#x27;: [3, 5, 7, 10],\n",
       "                         &#x27;model5__weights&#x27;: [&#x27;uniform&#x27;, &#x27;distance&#x27;]},\n",
       "             scoring=&#x27;neg_mean_squared_error&#x27;, verbose=2)</pre><b>In a Jupyter environment, please rerun this cell to show the HTML representation or trust the notebook. <br />On GitHub, the HTML representation is unable to render, please try loading this page with nbviewer.org.</b></div><div class=\"sk-container\" hidden><div class=\"sk-item sk-dashed-wrapped\"><div class=\"sk-label-container\"><div class=\"sk-label sk-toggleable\"><input class=\"sk-toggleable__control sk-hidden--visually\" id=\"sk-estimator-id-14\" type=\"checkbox\" ><label for=\"sk-estimator-id-14\" class=\"sk-toggleable__label sk-toggleable__label-arrow\">GridSearchCV</label><div class=\"sk-toggleable__content\"><pre>GridSearchCV(cv=5,\n",
       "             estimator=Pipeline(steps=[(&#x27;scale&#x27;, StandardScaler()),\n",
       "                                       (&#x27;min&#x27;, MinMaxScaler()),\n",
       "                                       (&#x27;model5&#x27;, KNeighborsRegressor())]),\n",
       "             param_grid={&#x27;model5__algorithm&#x27;: [&#x27;auto&#x27;, &#x27;ball_tree&#x27;, &#x27;kd_tree&#x27;],\n",
       "                         &#x27;model5__n_neighbors&#x27;: [3, 5, 7, 10],\n",
       "                         &#x27;model5__weights&#x27;: [&#x27;uniform&#x27;, &#x27;distance&#x27;]},\n",
       "             scoring=&#x27;neg_mean_squared_error&#x27;, verbose=2)</pre></div></div></div><div class=\"sk-parallel\"><div class=\"sk-parallel-item\"><div class=\"sk-item\"><div class=\"sk-label-container\"><div class=\"sk-label sk-toggleable\"><input class=\"sk-toggleable__control sk-hidden--visually\" id=\"sk-estimator-id-15\" type=\"checkbox\" ><label for=\"sk-estimator-id-15\" class=\"sk-toggleable__label sk-toggleable__label-arrow\">estimator: Pipeline</label><div class=\"sk-toggleable__content\"><pre>Pipeline(steps=[(&#x27;scale&#x27;, StandardScaler()), (&#x27;min&#x27;, MinMaxScaler()),\n",
       "                (&#x27;model5&#x27;, KNeighborsRegressor())])</pre></div></div></div><div class=\"sk-serial\"><div class=\"sk-item\"><div class=\"sk-serial\"><div class=\"sk-item\"><div class=\"sk-estimator sk-toggleable\"><input class=\"sk-toggleable__control sk-hidden--visually\" id=\"sk-estimator-id-16\" type=\"checkbox\" ><label for=\"sk-estimator-id-16\" class=\"sk-toggleable__label sk-toggleable__label-arrow\">StandardScaler</label><div class=\"sk-toggleable__content\"><pre>StandardScaler()</pre></div></div></div><div class=\"sk-item\"><div class=\"sk-estimator sk-toggleable\"><input class=\"sk-toggleable__control sk-hidden--visually\" id=\"sk-estimator-id-17\" type=\"checkbox\" ><label for=\"sk-estimator-id-17\" class=\"sk-toggleable__label sk-toggleable__label-arrow\">MinMaxScaler</label><div class=\"sk-toggleable__content\"><pre>MinMaxScaler()</pre></div></div></div><div class=\"sk-item\"><div class=\"sk-estimator sk-toggleable\"><input class=\"sk-toggleable__control sk-hidden--visually\" id=\"sk-estimator-id-18\" type=\"checkbox\" ><label for=\"sk-estimator-id-18\" class=\"sk-toggleable__label sk-toggleable__label-arrow\">KNeighborsRegressor</label><div class=\"sk-toggleable__content\"><pre>KNeighborsRegressor()</pre></div></div></div></div></div></div></div></div></div></div></div></div>"
      ],
      "text/plain": [
       "GridSearchCV(cv=5,\n",
       "             estimator=Pipeline(steps=[('scale', StandardScaler()),\n",
       "                                       ('min', MinMaxScaler()),\n",
       "                                       ('model5', KNeighborsRegressor())]),\n",
       "             param_grid={'model5__algorithm': ['auto', 'ball_tree', 'kd_tree'],\n",
       "                         'model5__n_neighbors': [3, 5, 7, 10],\n",
       "                         'model5__weights': ['uniform', 'distance']},\n",
       "             scoring='neg_mean_squared_error', verbose=2)"
      ]
     },
     "execution_count": 24,
     "metadata": {},
     "output_type": "execute_result"
    }
   ],
   "source": [
    "kn.fit(xtra,ytra)"
   ]
  },
  {
   "cell_type": "code",
   "execution_count": 25,
   "id": "38f65a7c",
   "metadata": {
    "execution": {
     "iopub.execute_input": "2024-01-13T14:22:51.399525Z",
     "iopub.status.busy": "2024-01-13T14:22:51.398777Z",
     "iopub.status.idle": "2024-01-13T14:22:51.404083Z",
     "shell.execute_reply": "2024-01-13T14:22:51.402763Z"
    },
    "papermill": {
     "duration": 0.069562,
     "end_time": "2024-01-13T14:22:51.407000",
     "exception": false,
     "start_time": "2024-01-13T14:22:51.337438",
     "status": "completed"
    },
    "tags": []
   },
   "outputs": [],
   "source": [
    "kn=kn.best_estimator_\n",
    "dt=dt.best_estimator_\n",
    "rf=rf.best_estimator_"
   ]
  },
  {
   "cell_type": "code",
   "execution_count": 26,
   "id": "1249c266",
   "metadata": {
    "execution": {
     "iopub.execute_input": "2024-01-13T14:22:51.525027Z",
     "iopub.status.busy": "2024-01-13T14:22:51.524056Z",
     "iopub.status.idle": "2024-01-13T14:22:54.923559Z",
     "shell.execute_reply": "2024-01-13T14:22:54.922045Z"
    },
    "papermill": {
     "duration": 3.461945,
     "end_time": "2024-01-13T14:22:54.927128",
     "exception": false,
     "start_time": "2024-01-13T14:22:51.465183",
     "status": "completed"
    },
    "tags": []
   },
   "outputs": [
    {
     "name": "stdout",
     "output_type": "stream",
     "text": [
      "Decision Tree:  [0.10047144 0.67276423 0.70194173 0.62384441 0.52125481]\n",
      "Random Forest:  [0.57973028 0.79846481 0.69160548 0.77522358 0.83770822]\n",
      "KNeighbors:  [0.11539316 0.75916389 0.66829768 0.691402   0.79748028]\n"
     ]
    }
   ],
   "source": [
    "print('Decision Tree: ',cross_val_score(dt,xtest,ytest))\n",
    "print('Random Forest: ',cross_val_score(rf,xtest,ytest))\n",
    "print('KNeighbors: ',cross_val_score(kn,xtest,ytest))"
   ]
  },
  {
   "cell_type": "markdown",
   "id": "e1e062df",
   "metadata": {
    "papermill": {
     "duration": 0.056684,
     "end_time": "2024-01-13T14:22:55.041951",
     "exception": false,
     "start_time": "2024-01-13T14:22:54.985267",
     "status": "completed"
    },
    "tags": []
   },
   "source": [
    "# <p style=\"font-family:JetBrains Mono; font-weight:bold; letter-spacing: 2px; color:#4F200D; font-size:140%; text-align:center;padding: 0px; border-bottom: 3px solid #4F200D\">Results After HyperParameter Tuning</p>"
   ]
  },
  {
   "cell_type": "markdown",
   "id": "7ad6c318",
   "metadata": {
    "papermill": {
     "duration": 0.056384,
     "end_time": "2024-01-13T14:22:55.156896",
     "exception": false,
     "start_time": "2024-01-13T14:22:55.100512",
     "status": "completed"
    },
    "tags": []
   },
   "source": [
    "![](data:image/jpeg;base64,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)"
   ]
  },
  {
   "cell_type": "code",
   "execution_count": 27,
   "id": "868978c3",
   "metadata": {
    "execution": {
     "iopub.execute_input": "2024-01-13T14:22:55.273684Z",
     "iopub.status.busy": "2024-01-13T14:22:55.273293Z",
     "iopub.status.idle": "2024-01-13T14:22:55.316783Z",
     "shell.execute_reply": "2024-01-13T14:22:55.315199Z"
    },
    "papermill": {
     "duration": 0.105221,
     "end_time": "2024-01-13T14:22:55.319572",
     "exception": false,
     "start_time": "2024-01-13T14:22:55.214351",
     "status": "completed"
    },
    "tags": []
   },
   "outputs": [
    {
     "name": "stdout",
     "output_type": "stream",
     "text": [
      "Results:\n",
      " 0.6187995822499399\n",
      "0.7921033625043569\n",
      "0.7774886618829382\n"
     ]
    }
   ],
   "source": [
    "ypred1=dt.predict(xtest)\n",
    "ypred2=rf.predict(xtest)\n",
    "ypred3=kn.predict(xtest)\n",
    "print('Results:\\n',r2_score(ytest,ypred1))\n",
    "print(r2_score(ytest,ypred2))\n",
    "print(r2_score(ytest,ypred3))"
   ]
  },
  {
   "cell_type": "markdown",
   "id": "e3982784",
   "metadata": {
    "papermill": {
     "duration": 0.056899,
     "end_time": "2024-01-13T14:22:55.434763",
     "exception": false,
     "start_time": "2024-01-13T14:22:55.377864",
     "status": "completed"
    },
    "tags": []
   },
   "source": [
    "<p style=\"font-family: JetBrains Mono; font-weight: bold; letter-spacing: 2px; color: #008080; font-size: 25px; text-align: center; padding: 0px; border-bottom: 3px solid #008080;\">Thank u for visiting</p>\n"
   ]
  },
  {
   "cell_type": "markdown",
   "id": "aaee949e",
   "metadata": {
    "papermill": {
     "duration": 0.058393,
     "end_time": "2024-01-13T14:22:55.552051",
     "exception": false,
     "start_time": "2024-01-13T14:22:55.493658",
     "status": "completed"
    },
    "tags": []
   },
   "source": [
    "![](https://th.bing.com/th/id/OIP.3fcVhOU96zF0PZAyuuDjqgHaFS?w=271&h=194&c=7&r=0&o=5&pid=1.7)"
   ]
  }
 ],
 "metadata": {
  "kaggle": {
   "accelerator": "none",
   "dataSources": [
    {
     "datasetId": 4087248,
     "sourceId": 7092422,
     "sourceType": "datasetVersion"
    }
   ],
   "dockerImageVersionId": 30587,
   "isGpuEnabled": false,
   "isInternetEnabled": true,
   "language": "python",
   "sourceType": "notebook"
  },
  "kernelspec": {
   "display_name": "Python 3",
   "language": "python",
   "name": "python3"
  },
  "language_info": {
   "codemirror_mode": {
    "name": "ipython",
    "version": 3
   },
   "file_extension": ".py",
   "mimetype": "text/x-python",
   "name": "python",
   "nbconvert_exporter": "python",
   "pygments_lexer": "ipython3",
   "version": "3.10.12"
  },
  "papermill": {
   "default_parameters": {},
   "duration": 241.751177,
   "end_time": "2024-01-13T14:22:56.333742",
   "environment_variables": {},
   "exception": null,
   "input_path": "__notebook__.ipynb",
   "output_path": "__notebook__.ipynb",
   "parameters": {},
   "start_time": "2024-01-13T14:18:54.582565",
   "version": "2.4.0"
  }
 },
 "nbformat": 4,
 "nbformat_minor": 5
}

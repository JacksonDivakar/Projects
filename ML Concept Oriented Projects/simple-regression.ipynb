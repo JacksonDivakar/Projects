{
 "cells": [
  {
   "cell_type": "markdown",
   "id": "96cc8705",
   "metadata": {
    "papermill": {
     "duration": 0.010572,
     "end_time": "2024-01-13T18:30:51.653657",
     "exception": false,
     "start_time": "2024-01-13T18:30:51.643085",
     "status": "completed"
    },
    "tags": []
   },
   "source": [
    "# <p style=\"font-family:JetBrains Mono; font-weight:bold; letter-spacing: 2px; color:#4F200D; font-size:140%; text-align:center;padding: 0px; border-bottom: 3px solid #4F200D\">Importing Libraries and Modules</p>"
   ]
  },
  {
   "cell_type": "code",
   "execution_count": 1,
   "id": "8eef97be",
   "metadata": {
    "execution": {
     "iopub.execute_input": "2024-01-13T18:30:51.676984Z",
     "iopub.status.busy": "2024-01-13T18:30:51.676556Z",
     "iopub.status.idle": "2024-01-13T18:30:54.661440Z",
     "shell.execute_reply": "2024-01-13T18:30:54.660111Z"
    },
    "papermill": {
     "duration": 2.999579,
     "end_time": "2024-01-13T18:30:54.664378",
     "exception": false,
     "start_time": "2024-01-13T18:30:51.664799",
     "status": "completed"
    },
    "tags": []
   },
   "outputs": [],
   "source": [
    "import pandas as pd\n",
    "import numpy as np\n",
    "import seaborn as sb\n",
    "import matplotlib.pyplot as plt\n",
    "from sklearn.model_selection import train_test_split\n",
    "from sklearn.linear_model import LinearRegression"
   ]
  },
  {
   "cell_type": "markdown",
   "id": "028e55be",
   "metadata": {
    "papermill": {
     "duration": 0.010484,
     "end_time": "2024-01-13T18:30:54.685216",
     "exception": false,
     "start_time": "2024-01-13T18:30:54.674732",
     "status": "completed"
    },
    "tags": []
   },
   "source": [
    "# <p style=\"font-family:JetBrains Mono; font-weight:bold; letter-spacing: 2px; color:#4F200D; font-size:140%; text-align:center;padding: 0px; border-bottom: 3px solid #4F200D\">Loading Dataset</p>"
   ]
  },
  {
   "cell_type": "code",
   "execution_count": 2,
   "id": "c16428ec",
   "metadata": {
    "execution": {
     "iopub.execute_input": "2024-01-13T18:30:54.707842Z",
     "iopub.status.busy": "2024-01-13T18:30:54.707225Z",
     "iopub.status.idle": "2024-01-13T18:30:54.733629Z",
     "shell.execute_reply": "2024-01-13T18:30:54.732249Z"
    },
    "papermill": {
     "duration": 0.040891,
     "end_time": "2024-01-13T18:30:54.736516",
     "exception": false,
     "start_time": "2024-01-13T18:30:54.695625",
     "status": "completed"
    },
    "tags": []
   },
   "outputs": [],
   "source": [
    "data=pd.read_csv('/kaggle/input/salary-dataset-simple-linear-regression/Salary_dataset.csv')"
   ]
  },
  {
   "cell_type": "markdown",
   "id": "26d35193",
   "metadata": {
    "papermill": {
     "duration": 0.009965,
     "end_time": "2024-01-13T18:30:54.756811",
     "exception": false,
     "start_time": "2024-01-13T18:30:54.746846",
     "status": "completed"
    },
    "tags": []
   },
   "source": [
    "# <p style=\"font-family:JetBrains Mono; font-weight:bold; letter-spacing: 2px; color:#4F200D; font-size:140%; text-align:center;padding: 0px; border-bottom: 3px solid #4F200D\">Data Cleaning</p>"
   ]
  },
  {
   "cell_type": "code",
   "execution_count": 3,
   "id": "4680f747",
   "metadata": {
    "execution": {
     "iopub.execute_input": "2024-01-13T18:30:54.779581Z",
     "iopub.status.busy": "2024-01-13T18:30:54.779183Z",
     "iopub.status.idle": "2024-01-13T18:30:54.804094Z",
     "shell.execute_reply": "2024-01-13T18:30:54.802957Z"
    },
    "papermill": {
     "duration": 0.039925,
     "end_time": "2024-01-13T18:30:54.806801",
     "exception": false,
     "start_time": "2024-01-13T18:30:54.766876",
     "status": "completed"
    },
    "tags": []
   },
   "outputs": [
    {
     "data": {
      "text/plain": [
       "0"
      ]
     },
     "execution_count": 3,
     "metadata": {},
     "output_type": "execute_result"
    }
   ],
   "source": [
    "data.duplicated().sum()"
   ]
  },
  {
   "cell_type": "code",
   "execution_count": 4,
   "id": "48411502",
   "metadata": {
    "execution": {
     "iopub.execute_input": "2024-01-13T18:30:54.829277Z",
     "iopub.status.busy": "2024-01-13T18:30:54.828833Z",
     "iopub.status.idle": "2024-01-13T18:30:54.838369Z",
     "shell.execute_reply": "2024-01-13T18:30:54.837114Z"
    },
    "papermill": {
     "duration": 0.023689,
     "end_time": "2024-01-13T18:30:54.840784",
     "exception": false,
     "start_time": "2024-01-13T18:30:54.817095",
     "status": "completed"
    },
    "tags": []
   },
   "outputs": [],
   "source": [
    "data.drop(['Unnamed: 0'],axis=1,inplace=True)"
   ]
  },
  {
   "cell_type": "code",
   "execution_count": 5,
   "id": "e32e0582",
   "metadata": {
    "execution": {
     "iopub.execute_input": "2024-01-13T18:30:54.863190Z",
     "iopub.status.busy": "2024-01-13T18:30:54.862762Z",
     "iopub.status.idle": "2024-01-13T18:30:54.881601Z",
     "shell.execute_reply": "2024-01-13T18:30:54.880731Z"
    },
    "papermill": {
     "duration": 0.03287,
     "end_time": "2024-01-13T18:30:54.884064",
     "exception": false,
     "start_time": "2024-01-13T18:30:54.851194",
     "status": "completed"
    },
    "tags": []
   },
   "outputs": [
    {
     "name": "stdout",
     "output_type": "stream",
     "text": [
      "<class 'pandas.core.frame.DataFrame'>\n",
      "RangeIndex: 30 entries, 0 to 29\n",
      "Data columns (total 2 columns):\n",
      " #   Column           Non-Null Count  Dtype  \n",
      "---  ------           --------------  -----  \n",
      " 0   YearsExperience  30 non-null     float64\n",
      " 1   Salary           30 non-null     float64\n",
      "dtypes: float64(2)\n",
      "memory usage: 608.0 bytes\n"
     ]
    }
   ],
   "source": [
    "data.info()"
   ]
  },
  {
   "cell_type": "markdown",
   "id": "328dcd82",
   "metadata": {
    "papermill": {
     "duration": 0.009933,
     "end_time": "2024-01-13T18:30:54.904262",
     "exception": false,
     "start_time": "2024-01-13T18:30:54.894329",
     "status": "completed"
    },
    "tags": []
   },
   "source": [
    "# <p style=\"font-family:JetBrains Mono; font-weight:bold; letter-spacing: 2px; color:#4F200D; font-size:140%; text-align:center;padding: 0px; border-bottom: 3px solid #4F200D\">Visualizing Normalised Data</p>"
   ]
  },
  {
   "cell_type": "code",
   "execution_count": 6,
   "id": "b6a3ed8c",
   "metadata": {
    "execution": {
     "iopub.execute_input": "2024-01-13T18:30:54.927487Z",
     "iopub.status.busy": "2024-01-13T18:30:54.927060Z",
     "iopub.status.idle": "2024-01-13T18:30:54.931276Z",
     "shell.execute_reply": "2024-01-13T18:30:54.930418Z"
    },
    "papermill": {
     "duration": 0.018523,
     "end_time": "2024-01-13T18:30:54.933362",
     "exception": false,
     "start_time": "2024-01-13T18:30:54.914839",
     "status": "completed"
    },
    "tags": []
   },
   "outputs": [],
   "source": [
    "YE,salary=data.YearsExperience,data.Salary"
   ]
  },
  {
   "cell_type": "code",
   "execution_count": 7,
   "id": "b0105819",
   "metadata": {
    "execution": {
     "iopub.execute_input": "2024-01-13T18:30:54.956317Z",
     "iopub.status.busy": "2024-01-13T18:30:54.955643Z",
     "iopub.status.idle": "2024-01-13T18:30:54.961094Z",
     "shell.execute_reply": "2024-01-13T18:30:54.960263Z"
    },
    "papermill": {
     "duration": 0.019679,
     "end_time": "2024-01-13T18:30:54.963409",
     "exception": false,
     "start_time": "2024-01-13T18:30:54.943730",
     "status": "completed"
    },
    "tags": []
   },
   "outputs": [],
   "source": [
    "arr=(YE-YE.mean())/YE.std()"
   ]
  },
  {
   "cell_type": "code",
   "execution_count": 8,
   "id": "6ecb9dad",
   "metadata": {
    "execution": {
     "iopub.execute_input": "2024-01-13T18:30:54.986847Z",
     "iopub.status.busy": "2024-01-13T18:30:54.986230Z",
     "iopub.status.idle": "2024-01-13T18:30:54.991219Z",
     "shell.execute_reply": "2024-01-13T18:30:54.990439Z"
    },
    "papermill": {
     "duration": 0.019415,
     "end_time": "2024-01-13T18:30:54.993289",
     "exception": false,
     "start_time": "2024-01-13T18:30:54.973874",
     "status": "completed"
    },
    "tags": []
   },
   "outputs": [],
   "source": [
    "arr1=(salary-salary.mean())/salary.std()"
   ]
  },
  {
   "cell_type": "code",
   "execution_count": 9,
   "id": "c4aded13",
   "metadata": {
    "execution": {
     "iopub.execute_input": "2024-01-13T18:30:55.016049Z",
     "iopub.status.busy": "2024-01-13T18:30:55.015348Z",
     "iopub.status.idle": "2024-01-13T18:30:55.021632Z",
     "shell.execute_reply": "2024-01-13T18:30:55.020654Z"
    },
    "papermill": {
     "duration": 0.019995,
     "end_time": "2024-01-13T18:30:55.023765",
     "exception": false,
     "start_time": "2024-01-13T18:30:55.003770",
     "status": "completed"
    },
    "tags": []
   },
   "outputs": [
    {
     "data": {
      "text/plain": [
       "60"
      ]
     },
     "execution_count": 9,
     "metadata": {},
     "output_type": "execute_result"
    }
   ],
   "source": [
    "len(len(arr)*['YearsExperiance']+len(arr1)*['Salary'])"
   ]
  },
  {
   "cell_type": "code",
   "execution_count": 10,
   "id": "e92f1d9d",
   "metadata": {
    "execution": {
     "iopub.execute_input": "2024-01-13T18:30:55.046655Z",
     "iopub.status.busy": "2024-01-13T18:30:55.046049Z",
     "iopub.status.idle": "2024-01-13T18:30:55.050445Z",
     "shell.execute_reply": "2024-01-13T18:30:55.049466Z"
    },
    "papermill": {
     "duration": 0.018676,
     "end_time": "2024-01-13T18:30:55.052899",
     "exception": false,
     "start_time": "2024-01-13T18:30:55.034223",
     "status": "completed"
    },
    "tags": []
   },
   "outputs": [],
   "source": [
    "value1,value2=list(arr),list(arr1)\n",
    "value1.extend(value2)\n"
   ]
  },
  {
   "cell_type": "code",
   "execution_count": 11,
   "id": "5b6a6b61",
   "metadata": {
    "execution": {
     "iopub.execute_input": "2024-01-13T18:30:55.076039Z",
     "iopub.status.busy": "2024-01-13T18:30:55.075363Z",
     "iopub.status.idle": "2024-01-13T18:30:55.081462Z",
     "shell.execute_reply": "2024-01-13T18:30:55.080504Z"
    },
    "papermill": {
     "duration": 0.020321,
     "end_time": "2024-01-13T18:30:55.083678",
     "exception": false,
     "start_time": "2024-01-13T18:30:55.063357",
     "status": "completed"
    },
    "tags": []
   },
   "outputs": [],
   "source": [
    "newdata=pd.DataFrame(dict(values=value1,key=len(arr)*['YearsExperiance']+len(arr1)*['Salary']))"
   ]
  },
  {
   "cell_type": "code",
   "execution_count": 12,
   "id": "73d2de1f",
   "metadata": {
    "execution": {
     "iopub.execute_input": "2024-01-13T18:30:55.106563Z",
     "iopub.status.busy": "2024-01-13T18:30:55.105876Z",
     "iopub.status.idle": "2024-01-13T18:30:55.592569Z",
     "shell.execute_reply": "2024-01-13T18:30:55.591683Z"
    },
    "papermill": {
     "duration": 0.500956,
     "end_time": "2024-01-13T18:30:55.595077",
     "exception": false,
     "start_time": "2024-01-13T18:30:55.094121",
     "status": "completed"
    },
    "tags": []
   },
   "outputs": [
    {
     "data": {
      "text/plain": [
       "Text(0.5, 1.0, 'Zscore in KDE Plot')"
      ]
     },
     "execution_count": 12,
     "metadata": {},
     "output_type": "execute_result"
    },
    {
     "data": {
      "image/png": "[encoded data removed]",
      "text/plain": [
       "<Figure size 640x480 with 1 Axes>"
      ]
     },
     "metadata": {},
     "output_type": "display_data"
    }
   ],
   "source": [
    "sb.kdeplot(data=newdata,x='values',hue='key',fill=True,palette='hsv')\n",
    "plt.title('Zscore in KDE Plot')"
   ]
  },
  {
   "cell_type": "markdown",
   "id": "9096f8ba",
   "metadata": {
    "papermill": {
     "duration": 0.016224,
     "end_time": "2024-01-13T18:30:55.626080",
     "exception": false,
     "start_time": "2024-01-13T18:30:55.609856",
     "status": "completed"
    },
    "tags": []
   },
   "source": [
    "# <p style=\"font-family:JetBrains Mono; font-weight:bold; letter-spacing: 2px; color:#4F200D; font-size:140%; text-align:center;padding: 0px; border-bottom: 3px solid #4F200D\">Finding and Removing Outliers</p>"
   ]
  },
  {
   "cell_type": "code",
   "execution_count": 13,
   "id": "307eb1a6",
   "metadata": {
    "execution": {
     "iopub.execute_input": "2024-01-13T18:30:55.658054Z",
     "iopub.status.busy": "2024-01-13T18:30:55.657528Z",
     "iopub.status.idle": "2024-01-13T18:30:55.666054Z",
     "shell.execute_reply": "2024-01-13T18:30:55.664294Z"
    },
    "papermill": {
     "duration": 0.028952,
     "end_time": "2024-01-13T18:30:55.668949",
     "exception": false,
     "start_time": "2024-01-13T18:30:55.639997",
     "status": "completed"
    },
    "tags": []
   },
   "outputs": [],
   "source": [
    "def outlier(arr,threshold):\n",
    "    arr=np.array(arr)\n",
    "    zscore=(arr-arr.mean())/arr.std()\n",
    "    return np.where(abs(zscore)>threshold)"
   ]
  },
  {
   "cell_type": "code",
   "execution_count": 14,
   "id": "d91a9048",
   "metadata": {
    "execution": {
     "iopub.execute_input": "2024-01-13T18:30:55.697273Z",
     "iopub.status.busy": "2024-01-13T18:30:55.696402Z",
     "iopub.status.idle": "2024-01-13T18:30:55.702111Z",
     "shell.execute_reply": "2024-01-13T18:30:55.700891Z"
    },
    "papermill": {
     "duration": 0.023467,
     "end_time": "2024-01-13T18:30:55.704891",
     "exception": false,
     "start_time": "2024-01-13T18:30:55.681424",
     "status": "completed"
    },
    "tags": []
   },
   "outputs": [],
   "source": [
    "columns=data.columns"
   ]
  },
  {
   "cell_type": "code",
   "execution_count": 15,
   "id": "98faf61b",
   "metadata": {
    "execution": {
     "iopub.execute_input": "2024-01-13T18:30:55.736044Z",
     "iopub.status.busy": "2024-01-13T18:30:55.735273Z",
     "iopub.status.idle": "2024-01-13T18:30:55.741692Z",
     "shell.execute_reply": "2024-01-13T18:30:55.740336Z"
    },
    "papermill": {
     "duration": 0.02539,
     "end_time": "2024-01-13T18:30:55.744470",
     "exception": false,
     "start_time": "2024-01-13T18:30:55.719080",
     "status": "completed"
    },
    "tags": []
   },
   "outputs": [],
   "source": [
    "out1=outlier(data[columns[0]],1.5)\n",
    "out2=outlier(data[columns[1]],1.5)\n"
   ]
  },
  {
   "cell_type": "code",
   "execution_count": 16,
   "id": "285adc82",
   "metadata": {
    "execution": {
     "iopub.execute_input": "2024-01-13T18:30:55.774688Z",
     "iopub.status.busy": "2024-01-13T18:30:55.773738Z",
     "iopub.status.idle": "2024-01-13T18:30:55.779693Z",
     "shell.execute_reply": "2024-01-13T18:30:55.778510Z"
    },
    "papermill": {
     "duration": 0.021513,
     "end_time": "2024-01-13T18:30:55.781852",
     "exception": false,
     "start_time": "2024-01-13T18:30:55.760339",
     "status": "completed"
    },
    "tags": []
   },
   "outputs": [],
   "source": [
    "index=list(set((np.append(out1[0],out2[0]))))"
   ]
  },
  {
   "cell_type": "code",
   "execution_count": 17,
   "id": "d4fa7988",
   "metadata": {
    "execution": {
     "iopub.execute_input": "2024-01-13T18:30:55.807311Z",
     "iopub.status.busy": "2024-01-13T18:30:55.806875Z",
     "iopub.status.idle": "2024-01-13T18:30:55.813004Z",
     "shell.execute_reply": "2024-01-13T18:30:55.811647Z"
    },
    "papermill": {
     "duration": 0.022331,
     "end_time": "2024-01-13T18:30:55.815958",
     "exception": false,
     "start_time": "2024-01-13T18:30:55.793627",
     "status": "completed"
    },
    "tags": []
   },
   "outputs": [],
   "source": [
    "data.drop(index,inplace=True)"
   ]
  },
  {
   "cell_type": "code",
   "execution_count": 18,
   "id": "93f46902",
   "metadata": {
    "execution": {
     "iopub.execute_input": "2024-01-13T18:30:55.841116Z",
     "iopub.status.busy": "2024-01-13T18:30:55.840668Z",
     "iopub.status.idle": "2024-01-13T18:30:56.221963Z",
     "shell.execute_reply": "2024-01-13T18:30:56.220806Z"
    },
    "papermill": {
     "duration": 0.397171,
     "end_time": "2024-01-13T18:30:56.224785",
     "exception": false,
     "start_time": "2024-01-13T18:30:55.827614",
     "status": "completed"
    },
    "tags": []
   },
   "outputs": [
    {
     "data": {
      "text/plain": [
       "Text(0.5, 1.0, 'Finding Relation')"
      ]
     },
     "execution_count": 18,
     "metadata": {},
     "output_type": "execute_result"
    },
    {
     "data": {
      "image/png": "[encoded data removed]",
      "text/plain": [
       "<Figure size 640x480 with 1 Axes>"
      ]
     },
     "metadata": {},
     "output_type": "display_data"
    }
   ],
   "source": [
    "sb.scatterplot(data=data,x='YearsExperience',y='Salary',color='cyan')\n",
    "plt.title('Finding Relation')"
   ]
  },
  {
   "cell_type": "markdown",
   "id": "3fe93909",
   "metadata": {
    "papermill": {
     "duration": 0.011738,
     "end_time": "2024-01-13T18:30:56.248678",
     "exception": false,
     "start_time": "2024-01-13T18:30:56.236940",
     "status": "completed"
    },
    "tags": []
   },
   "source": [
    "# <p style=\"font-family:JetBrains Mono; font-weight:bold; letter-spacing: 2px; color:#4F200D; font-size:140%; text-align:center;padding: 0px; border-bottom: 3px solid #4F200D\">Machine Learning</p>"
   ]
  },
  {
   "cell_type": "code",
   "execution_count": 19,
   "id": "9f1e05cd",
   "metadata": {
    "execution": {
     "iopub.execute_input": "2024-01-13T18:30:56.275516Z",
     "iopub.status.busy": "2024-01-13T18:30:56.275112Z",
     "iopub.status.idle": "2024-01-13T18:30:56.280646Z",
     "shell.execute_reply": "2024-01-13T18:30:56.279006Z"
    },
    "papermill": {
     "duration": 0.0224,
     "end_time": "2024-01-13T18:30:56.283817",
     "exception": false,
     "start_time": "2024-01-13T18:30:56.261417",
     "status": "completed"
    },
    "tags": []
   },
   "outputs": [],
   "source": [
    "model=LinearRegression()"
   ]
  },
  {
   "cell_type": "code",
   "execution_count": 20,
   "id": "49a258f2",
   "metadata": {
    "execution": {
     "iopub.execute_input": "2024-01-13T18:30:56.315096Z",
     "iopub.status.busy": "2024-01-13T18:30:56.313818Z",
     "iopub.status.idle": "2024-01-13T18:30:56.319989Z",
     "shell.execute_reply": "2024-01-13T18:30:56.318869Z"
    },
    "papermill": {
     "duration": 0.025582,
     "end_time": "2024-01-13T18:30:56.322775",
     "exception": false,
     "start_time": "2024-01-13T18:30:56.297193",
     "status": "completed"
    },
    "tags": []
   },
   "outputs": [],
   "source": [
    "col=newdata.columns"
   ]
  },
  {
   "cell_type": "code",
   "execution_count": 21,
   "id": "08962b4c",
   "metadata": {
    "execution": {
     "iopub.execute_input": "2024-01-13T18:30:56.351426Z",
     "iopub.status.busy": "2024-01-13T18:30:56.350508Z",
     "iopub.status.idle": "2024-01-13T18:30:56.357045Z",
     "shell.execute_reply": "2024-01-13T18:30:56.356098Z"
    },
    "papermill": {
     "duration": 0.022828,
     "end_time": "2024-01-13T18:30:56.359578",
     "exception": false,
     "start_time": "2024-01-13T18:30:56.336750",
     "status": "completed"
    },
    "tags": []
   },
   "outputs": [],
   "source": [
    "def reshape(element):\n",
    "    return np.array(element).reshape(-1,1)"
   ]
  },
  {
   "cell_type": "code",
   "execution_count": 22,
   "id": "55fab867",
   "metadata": {
    "execution": {
     "iopub.execute_input": "2024-01-13T18:30:56.386338Z",
     "iopub.status.busy": "2024-01-13T18:30:56.385617Z",
     "iopub.status.idle": "2024-01-13T18:30:56.391028Z",
     "shell.execute_reply": "2024-01-13T18:30:56.389927Z"
    },
    "papermill": {
     "duration": 0.021929,
     "end_time": "2024-01-13T18:30:56.393594",
     "exception": false,
     "start_time": "2024-01-13T18:30:56.371665",
     "status": "completed"
    },
    "tags": []
   },
   "outputs": [],
   "source": [
    "x=data.YearsExperience\n",
    "target=data.Salary\n",
    "x,y=reshape(x),reshape(target)"
   ]
  },
  {
   "cell_type": "code",
   "execution_count": 23,
   "id": "3d9e4988",
   "metadata": {
    "execution": {
     "iopub.execute_input": "2024-01-13T18:30:56.420080Z",
     "iopub.status.busy": "2024-01-13T18:30:56.419331Z",
     "iopub.status.idle": "2024-01-13T18:30:56.424952Z",
     "shell.execute_reply": "2024-01-13T18:30:56.424192Z"
    },
    "papermill": {
     "duration": 0.021253,
     "end_time": "2024-01-13T18:30:56.427048",
     "exception": false,
     "start_time": "2024-01-13T18:30:56.405795",
     "status": "completed"
    },
    "tags": []
   },
   "outputs": [],
   "source": [
    "xtra,xtest,ytra,ytest=train_test_split(x,target,test_size=0.2,random_state=2)"
   ]
  },
  {
   "cell_type": "code",
   "execution_count": 24,
   "id": "3e6b1753",
   "metadata": {
    "execution": {
     "iopub.execute_input": "2024-01-13T18:30:56.452889Z",
     "iopub.status.busy": "2024-01-13T18:30:56.452178Z",
     "iopub.status.idle": "2024-01-13T18:30:56.472146Z",
     "shell.execute_reply": "2024-01-13T18:30:56.471348Z"
    },
    "papermill": {
     "duration": 0.035424,
     "end_time": "2024-01-13T18:30:56.474261",
     "exception": false,
     "start_time": "2024-01-13T18:30:56.438837",
     "status": "completed"
    },
    "tags": []
   },
   "outputs": [
    {
     "data": {
      "text/html": [
       "<style>#sk-container-id-1 {color: black;background-color: white;}#sk-container-id-1 pre{padding: 0;}#sk-container-id-1 div.sk-toggleable {background-color: white;}#sk-container-id-1 label.sk-toggleable__label {cursor: pointer;display: block;width: 100%;margin-bottom: 0;padding: 0.3em;box-sizing: border-box;text-align: center;}#sk-container-id-1 label.sk-toggleable__label-arrow:before {content: \"▸\";float: left;margin-right: 0.25em;color: #696969;}#sk-container-id-1 label.sk-toggleable__label-arrow:hover:before {color: black;}#sk-container-id-1 div.sk-estimator:hover label.sk-toggleable__label-arrow:before {color: black;}#sk-container-id-1 div.sk-toggleable__content {max-height: 0;max-width: 0;overflow: hidden;text-align: left;background-color: #f0f8ff;}#sk-container-id-1 div.sk-toggleable__content pre {margin: 0.2em;color: black;border-radius: 0.25em;background-color: #f0f8ff;}#sk-container-id-1 input.sk-toggleable__control:checked~div.sk-toggleable__content {max-height: 200px;max-width: 100%;overflow: auto;}#sk-container-id-1 input.sk-toggleable__control:checked~label.sk-toggleable__label-arrow:before {content: \"▾\";}#sk-container-id-1 div.sk-estimator input.sk-toggleable__control:checked~label.sk-toggleable__label {background-color: #d4ebff;}#sk-container-id-1 div.sk-label input.sk-toggleable__control:checked~label.sk-toggleable__label {background-color: #d4ebff;}#sk-container-id-1 input.sk-hidden--visually {border: 0;clip: rect(1px 1px 1px 1px);clip: rect(1px, 1px, 1px, 1px);height: 1px;margin: -1px;overflow: hidden;padding: 0;position: absolute;width: 1px;}#sk-container-id-1 div.sk-estimator {font-family: monospace;background-color: #f0f8ff;border: 1px dotted black;border-radius: 0.25em;box-sizing: border-box;margin-bottom: 0.5em;}#sk-container-id-1 div.sk-estimator:hover {background-color: #d4ebff;}#sk-container-id-1 div.sk-parallel-item::after {content: \"\";width: 100%;border-bottom: 1px solid gray;flex-grow: 1;}#sk-container-id-1 div.sk-label:hover label.sk-toggleable__label {background-color: #d4ebff;}#sk-container-id-1 div.sk-serial::before {content: \"\";position: absolute;border-left: 1px solid gray;box-sizing: border-box;top: 0;bottom: 0;left: 50%;z-index: 0;}#sk-container-id-1 div.sk-serial {display: flex;flex-direction: column;align-items: center;background-color: white;padding-right: 0.2em;padding-left: 0.2em;position: relative;}#sk-container-id-1 div.sk-item {position: relative;z-index: 1;}#sk-container-id-1 div.sk-parallel {display: flex;align-items: stretch;justify-content: center;background-color: white;position: relative;}#sk-container-id-1 div.sk-item::before, #sk-container-id-1 div.sk-parallel-item::before {content: \"\";position: absolute;border-left: 1px solid gray;box-sizing: border-box;top: 0;bottom: 0;left: 50%;z-index: -1;}#sk-container-id-1 div.sk-parallel-item {display: flex;flex-direction: column;z-index: 1;position: relative;background-color: white;}#sk-container-id-1 div.sk-parallel-item:first-child::after {align-self: flex-end;width: 50%;}#sk-container-id-1 div.sk-parallel-item:last-child::after {align-self: flex-start;width: 50%;}#sk-container-id-1 div.sk-parallel-item:only-child::after {width: 0;}#sk-container-id-1 div.sk-dashed-wrapped {border: 1px dashed gray;margin: 0 0.4em 0.5em 0.4em;box-sizing: border-box;padding-bottom: 0.4em;background-color: white;}#sk-container-id-1 div.sk-label label {font-family: monospace;font-weight: bold;display: inline-block;line-height: 1.2em;}#sk-container-id-1 div.sk-label-container {text-align: center;}#sk-container-id-1 div.sk-container {/* jupyter's `normalize.less` sets `[hidden] { display: none; }` but bootstrap.min.css set `[hidden] { display: none !important; }` so we also need the `!important` here to be able to override the default hidden behavior on the sphinx rendered scikit-learn.org. See: https://github.com/scikit-learn/scikit-learn/issues/21755 */display: inline-block !important;position: relative;}#sk-container-id-1 div.sk-text-repr-fallback {display: none;}</style><div id=\"sk-container-id-1\" class=\"sk-top-container\"><div class=\"sk-text-repr-fallback\"><pre>LinearRegression()</pre><b>In a Jupyter environment, please rerun this cell to show the HTML representation or trust the notebook. <br />On GitHub, the HTML representation is unable to render, please try loading this page with nbviewer.org.</b></div><div class=\"sk-container\" hidden><div class=\"sk-item\"><div class=\"sk-estimator sk-toggleable\"><input class=\"sk-toggleable__control sk-hidden--visually\" id=\"sk-estimator-id-1\" type=\"checkbox\" checked><label for=\"sk-estimator-id-1\" class=\"sk-toggleable__label sk-toggleable__label-arrow\">LinearRegression</label><div class=\"sk-toggleable__content\"><pre>LinearRegression()</pre></div></div></div></div></div>"
      ],
      "text/plain": [
       "LinearRegression()"
      ]
     },
     "execution_count": 24,
     "metadata": {},
     "output_type": "execute_result"
    }
   ],
   "source": [
    "model.fit(xtra,ytra)"
   ]
  },
  {
   "cell_type": "markdown",
   "id": "f99076fb",
   "metadata": {
    "papermill": {
     "duration": 0.011909,
     "end_time": "2024-01-13T18:30:56.498385",
     "exception": false,
     "start_time": "2024-01-13T18:30:56.486476",
     "status": "completed"
    },
    "tags": []
   },
   "source": [
    "# <p style=\"font-family:JetBrains Mono; font-weight:bold; letter-spacing: 2px; color:#4F200D; font-size:140%; text-align:center;padding: 0px; border-bottom: 3px solid #4F200D\">Result</p>"
   ]
  },
  {
   "cell_type": "code",
   "execution_count": 25,
   "id": "cae20609",
   "metadata": {
    "execution": {
     "iopub.execute_input": "2024-01-13T18:30:56.589394Z",
     "iopub.status.busy": "2024-01-13T18:30:56.588631Z",
     "iopub.status.idle": "2024-01-13T18:30:56.595902Z",
     "shell.execute_reply": "2024-01-13T18:30:56.595099Z"
    },
    "papermill": {
     "duration": 0.087457,
     "end_time": "2024-01-13T18:30:56.598067",
     "exception": false,
     "start_time": "2024-01-13T18:30:56.510610",
     "status": "completed"
    },
    "tags": []
   },
   "outputs": [
    {
     "data": {
      "text/plain": [
       "0.9447685630105844"
      ]
     },
     "execution_count": 25,
     "metadata": {},
     "output_type": "execute_result"
    }
   ],
   "source": [
    "model.score(xtest,ytest)"
   ]
  },
  {
   "cell_type": "markdown",
   "id": "333b0bee",
   "metadata": {
    "papermill": {
     "duration": 0.012266,
     "end_time": "2024-01-13T18:30:56.622878",
     "exception": false,
     "start_time": "2024-01-13T18:30:56.610612",
     "status": "completed"
    },
    "tags": []
   },
   "source": [
    "<div style=\"border-radius: 10px; border: 2px solid #FFD700; padding: 15px; background-color: #000; font-size: 120%; text-align: center; color: #FFD700; box-shadow: 0 0 15px rgba(255, 215, 0, 0.7);\">\n",
    "    <p style=\"margin: 0; font-weight: bold; font-size: 150%; color: #FFD700;\">Thank You!</p>\n",
    "    <p style=\"margin: 10px 0 20px; color: #FFD700;\">Wishing you a day filled with brilliance and positivity!</p>\n",
    "    <p style=\"margin: 0; color: #FFD700;\">Take a moment to explore the fantastic things we have in store for you.</p>\n",
    "</div>\n"
   ]
  }
 ],
 "metadata": {
  "kaggle": {
   "accelerator": "none",
   "dataSources": [
    {
     "datasetId": 2799910,
     "sourceId": 4832081,
     "sourceType": "datasetVersion"
    }
   ],
   "dockerImageVersionId": 30626,
   "isGpuEnabled": false,
   "isInternetEnabled": true,
   "language": "python",
   "sourceType": "notebook"
  },
  "kernelspec": {
   "display_name": "Python 3",
   "language": "python",
   "name": "python3"
  },
  "language_info": {
   "codemirror_mode": {
    "name": "ipython",
    "version": 3
   },
   "file_extension": ".py",
   "mimetype": "text/x-python",
   "name": "python",
   "nbconvert_exporter": "python",
   "pygments_lexer": "ipython3",
   "version": "3.10.12"
  },
  "papermill": {
   "default_parameters": {},
   "duration": 9.482534,
   "end_time": "2024-01-13T18:30:57.256922",
   "environment_variables": {},
   "exception": null,
   "input_path": "__notebook__.ipynb",
   "output_path": "__notebook__.ipynb",
   "parameters": {},
   "start_time": "2024-01-13T18:30:47.774388",
   "version": "2.4.0"
  }
 },
 "nbformat": 4,
 "nbformat_minor": 5
}

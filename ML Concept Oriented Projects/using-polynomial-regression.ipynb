{
 "cells": [
  {
   "cell_type": "markdown",
   "id": "c55d3e40",
   "metadata": {
    "papermill": {
     "duration": 0.015303,
     "end_time": "2024-01-29T12:42:42.808237",
     "exception": false,
     "start_time": "2024-01-29T12:42:42.792934",
     "status": "completed"
    },
    "tags": []
   },
   "source": [
    "# <p style=\"font-family:JetBrains Mono; font-weight:bold; letter-spacing: 2px; color:#4F200D; font-size:140%; text-align:center;padding: 0px; border-bottom: 3px solid #4F200D\">Importing Modules and Libraries</p>"
   ]
  },
  {
   "cell_type": "code",
   "execution_count": 1,
   "id": "0c5805d0",
   "metadata": {
    "execution": {
     "iopub.execute_input": "2024-01-29T12:42:42.840253Z",
     "iopub.status.busy": "2024-01-29T12:42:42.839716Z",
     "iopub.status.idle": "2024-01-29T12:42:45.770610Z",
     "shell.execute_reply": "2024-01-29T12:42:45.769249Z"
    },
    "id": "kZkGF2bAoqbT",
    "papermill": {
     "duration": 2.950403,
     "end_time": "2024-01-29T12:42:45.773661",
     "exception": false,
     "start_time": "2024-01-29T12:42:42.823258",
     "status": "completed"
    },
    "tags": []
   },
   "outputs": [],
   "source": [
    "import pandas as pd\n",
    "import numpy as np\n",
    "import matplotlib.pyplot as plt\n",
    "import seaborn as sb\n",
    "from sklearn.preprocessing import OrdinalEncoder\n",
    "from sklearn.preprocessing import PolynomialFeatures\n",
    "from sklearn.linear_model import LinearRegression\n",
    "from sklearn.model_selection import train_test_split\n",
    "from sklearn.model_selection import cross_val_score\n",
    "from sklearn.metrics import r2_score,mean_absolute_error\n",
    "from sklearn.ensemble import RandomForestRegressor\n",
    "import warnings\n",
    "warnings.filterwarnings('ignore')"
   ]
  },
  {
   "cell_type": "markdown",
   "id": "41a63db8",
   "metadata": {
    "papermill": {
     "duration": 0.014963,
     "end_time": "2024-01-29T12:42:45.804115",
     "exception": false,
     "start_time": "2024-01-29T12:42:45.789152",
     "status": "completed"
    },
    "tags": []
   },
   "source": [
    "# <p style=\"font-family:JetBrains Mono; font-weight:bold; letter-spacing: 2px; color:#4F200D; font-size:140%; text-align:center;padding: 0px; border-bottom: 3px solid #4F200D\">Loading Data</p>"
   ]
  },
  {
   "cell_type": "code",
   "execution_count": 2,
   "id": "fc0d04d6",
   "metadata": {
    "execution": {
     "iopub.execute_input": "2024-01-29T12:42:45.836623Z",
     "iopub.status.busy": "2024-01-29T12:42:45.836029Z",
     "iopub.status.idle": "2024-01-29T12:42:45.864314Z",
     "shell.execute_reply": "2024-01-29T12:42:45.863005Z"
    },
    "id": "4e0xtQO0pJyL",
    "papermill": {
     "duration": 0.048169,
     "end_time": "2024-01-29T12:42:45.867183",
     "exception": false,
     "start_time": "2024-01-29T12:42:45.819014",
     "status": "completed"
    },
    "tags": []
   },
   "outputs": [],
   "source": [
    "data=pd.read_csv('/kaggle/input/insurance/insurance.csv')"
   ]
  },
  {
   "cell_type": "markdown",
   "id": "13148326",
   "metadata": {
    "papermill": {
     "duration": 0.014762,
     "end_time": "2024-01-29T12:42:45.897120",
     "exception": false,
     "start_time": "2024-01-29T12:42:45.882358",
     "status": "completed"
    },
    "tags": []
   },
   "source": [
    "# <p style=\"font-family:JetBrains Mono; font-weight:bold; letter-spacing: 2px; color:#4F200D; font-size:140%; text-align:center;padding: 0px; border-bottom: 3px solid #4F200D\">Data Cleaning</p>"
   ]
  },
  {
   "cell_type": "code",
   "execution_count": 3,
   "id": "d809a315",
   "metadata": {
    "execution": {
     "iopub.execute_input": "2024-01-29T12:42:45.929621Z",
     "iopub.status.busy": "2024-01-29T12:42:45.929229Z",
     "iopub.status.idle": "2024-01-29T12:42:45.965648Z",
     "shell.execute_reply": "2024-01-29T12:42:45.963575Z"
    },
    "id": "UNWkGaGypSBE",
    "outputId": "7282267d-6025-41c2-caf3-e5e3593ebd48",
    "papermill": {
     "duration": 0.056389,
     "end_time": "2024-01-29T12:42:45.968330",
     "exception": false,
     "start_time": "2024-01-29T12:42:45.911941",
     "status": "completed"
    },
    "tags": []
   },
   "outputs": [
    {
     "name": "stdout",
     "output_type": "stream",
     "text": [
      "<class 'pandas.core.frame.DataFrame'>\n",
      "RangeIndex: 1338 entries, 0 to 1337\n",
      "Data columns (total 7 columns):\n",
      " #   Column    Non-Null Count  Dtype  \n",
      "---  ------    --------------  -----  \n",
      " 0   age       1338 non-null   int64  \n",
      " 1   sex       1338 non-null   object \n",
      " 2   bmi       1338 non-null   float64\n",
      " 3   children  1338 non-null   int64  \n",
      " 4   smoker    1338 non-null   object \n",
      " 5   region    1338 non-null   object \n",
      " 6   charges   1338 non-null   float64\n",
      "dtypes: float64(2), int64(2), object(3)\n",
      "memory usage: 73.3+ KB\n"
     ]
    }
   ],
   "source": [
    "data.info()"
   ]
  },
  {
   "cell_type": "code",
   "execution_count": 4,
   "id": "34f9322c",
   "metadata": {
    "execution": {
     "iopub.execute_input": "2024-01-29T12:42:46.001003Z",
     "iopub.status.busy": "2024-01-29T12:42:45.999981Z",
     "iopub.status.idle": "2024-01-29T12:42:46.016636Z",
     "shell.execute_reply": "2024-01-29T12:42:46.015382Z"
    },
    "papermill": {
     "duration": 0.035783,
     "end_time": "2024-01-29T12:42:46.019195",
     "exception": false,
     "start_time": "2024-01-29T12:42:45.983412",
     "status": "completed"
    },
    "tags": []
   },
   "outputs": [
    {
     "data": {
      "text/plain": [
       "1"
      ]
     },
     "execution_count": 4,
     "metadata": {},
     "output_type": "execute_result"
    }
   ],
   "source": [
    "data.duplicated().sum()"
   ]
  },
  {
   "cell_type": "code",
   "execution_count": 5,
   "id": "a9b5957f",
   "metadata": {
    "execution": {
     "iopub.execute_input": "2024-01-29T12:42:46.051520Z",
     "iopub.status.busy": "2024-01-29T12:42:46.051125Z",
     "iopub.status.idle": "2024-01-29T12:42:46.061943Z",
     "shell.execute_reply": "2024-01-29T12:42:46.060796Z"
    },
    "papermill": {
     "duration": 0.030161,
     "end_time": "2024-01-29T12:42:46.064548",
     "exception": false,
     "start_time": "2024-01-29T12:42:46.034387",
     "status": "completed"
    },
    "tags": []
   },
   "outputs": [],
   "source": [
    "data.drop_duplicates(inplace=True)"
   ]
  },
  {
   "cell_type": "code",
   "execution_count": 6,
   "id": "b89d5975",
   "metadata": {
    "execution": {
     "iopub.execute_input": "2024-01-29T12:42:46.096956Z",
     "iopub.status.busy": "2024-01-29T12:42:46.096563Z",
     "iopub.status.idle": "2024-01-29T12:42:46.117386Z",
     "shell.execute_reply": "2024-01-29T12:42:46.116498Z"
    },
    "id": "Y7yzcFNqucbf",
    "outputId": "00718a9f-e2ff-41fd-b8f7-9e79c0c48d92",
    "papermill": {
     "duration": 0.039972,
     "end_time": "2024-01-29T12:42:46.119735",
     "exception": false,
     "start_time": "2024-01-29T12:42:46.079763",
     "status": "completed"
    },
    "tags": []
   },
   "outputs": [
    {
     "data": {
      "text/html": [
       "<div>\n",
       "<style scoped>\n",
       "    .dataframe tbody tr th:only-of-type {\n",
       "        vertical-align: middle;\n",
       "    }\n",
       "\n",
       "    .dataframe tbody tr th {\n",
       "        vertical-align: top;\n",
       "    }\n",
       "\n",
       "    .dataframe thead th {\n",
       "        text-align: right;\n",
       "    }\n",
       "</style>\n",
       "<table border=\"1\" class=\"dataframe\">\n",
       "  <thead>\n",
       "    <tr style=\"text-align: right;\">\n",
       "      <th></th>\n",
       "      <th>age</th>\n",
       "      <th>sex</th>\n",
       "      <th>bmi</th>\n",
       "      <th>children</th>\n",
       "      <th>smoker</th>\n",
       "      <th>region</th>\n",
       "      <th>charges</th>\n",
       "    </tr>\n",
       "  </thead>\n",
       "  <tbody>\n",
       "    <tr>\n",
       "      <th>90</th>\n",
       "      <td>21</td>\n",
       "      <td>female</td>\n",
       "      <td>39.49</td>\n",
       "      <td>0</td>\n",
       "      <td>no</td>\n",
       "      <td>southeast</td>\n",
       "      <td>2026.9741</td>\n",
       "    </tr>\n",
       "  </tbody>\n",
       "</table>\n",
       "</div>"
      ],
      "text/plain": [
       "    age     sex    bmi  children smoker     region    charges\n",
       "90   21  female  39.49         0     no  southeast  2026.9741"
      ]
     },
     "execution_count": 6,
     "metadata": {},
     "output_type": "execute_result"
    }
   ],
   "source": [
    "data.sample()"
   ]
  },
  {
   "cell_type": "code",
   "execution_count": 7,
   "id": "0a2ef8f7",
   "metadata": {
    "execution": {
     "iopub.execute_input": "2024-01-29T12:42:46.153159Z",
     "iopub.status.busy": "2024-01-29T12:42:46.152385Z",
     "iopub.status.idle": "2024-01-29T12:42:46.163335Z",
     "shell.execute_reply": "2024-01-29T12:42:46.162130Z"
    },
    "id": "gVnx21s_ptoq",
    "papermill": {
     "duration": 0.030879,
     "end_time": "2024-01-29T12:42:46.166348",
     "exception": false,
     "start_time": "2024-01-29T12:42:46.135469",
     "status": "completed"
    },
    "tags": []
   },
   "outputs": [],
   "source": [
    "\n",
    "oe=OrdinalEncoder(categories=[['male','female']])\n",
    "gender=oe.fit_transform(data[['sex']])"
   ]
  },
  {
   "cell_type": "code",
   "execution_count": 8,
   "id": "df70bcf2",
   "metadata": {
    "execution": {
     "iopub.execute_input": "2024-01-29T12:42:46.199349Z",
     "iopub.status.busy": "2024-01-29T12:42:46.198909Z",
     "iopub.status.idle": "2024-01-29T12:42:46.208407Z",
     "shell.execute_reply": "2024-01-29T12:42:46.207123Z"
    },
    "id": "MDOENtQ6tQ3Z",
    "papermill": {
     "duration": 0.029265,
     "end_time": "2024-01-29T12:42:46.211103",
     "exception": false,
     "start_time": "2024-01-29T12:42:46.181838",
     "status": "completed"
    },
    "tags": []
   },
   "outputs": [],
   "source": [
    "oe=OrdinalEncoder(categories=[['yes','no']])\n",
    "smoker1=oe.fit_transform(data[['smoker']])"
   ]
  },
  {
   "cell_type": "code",
   "execution_count": 9,
   "id": "0d1a63eb",
   "metadata": {
    "execution": {
     "iopub.execute_input": "2024-01-29T12:42:46.243574Z",
     "iopub.status.busy": "2024-01-29T12:42:46.243109Z",
     "iopub.status.idle": "2024-01-29T12:42:46.252839Z",
     "shell.execute_reply": "2024-01-29T12:42:46.251845Z"
    },
    "id": "92FB7zOzv0Cl",
    "papermill": {
     "duration": 0.028787,
     "end_time": "2024-01-29T12:42:46.255122",
     "exception": false,
     "start_time": "2024-01-29T12:42:46.226335",
     "status": "completed"
    },
    "tags": []
   },
   "outputs": [],
   "source": [
    "oe=OrdinalEncoder(categories=[data.region.unique()])\n",
    "region1=oe.fit_transform(data[['region']])"
   ]
  },
  {
   "cell_type": "code",
   "execution_count": 10,
   "id": "b7eb277f",
   "metadata": {
    "execution": {
     "iopub.execute_input": "2024-01-29T12:42:46.360016Z",
     "iopub.status.busy": "2024-01-29T12:42:46.359505Z",
     "iopub.status.idle": "2024-01-29T12:42:46.369690Z",
     "shell.execute_reply": "2024-01-29T12:42:46.368777Z"
    },
    "id": "X-zUN05Yv4l-",
    "papermill": {
     "duration": 0.030966,
     "end_time": "2024-01-29T12:42:46.372334",
     "exception": false,
     "start_time": "2024-01-29T12:42:46.341368",
     "status": "completed"
    },
    "tags": []
   },
   "outputs": [],
   "source": [
    "data['gender']=gender\n",
    "data['En-Smoker']=smoker1\n",
    "data['En-Region']=region1"
   ]
  },
  {
   "cell_type": "code",
   "execution_count": 11,
   "id": "ed81ee32",
   "metadata": {
    "execution": {
     "iopub.execute_input": "2024-01-29T12:42:46.410375Z",
     "iopub.status.busy": "2024-01-29T12:42:46.409464Z",
     "iopub.status.idle": "2024-01-29T12:42:46.444797Z",
     "shell.execute_reply": "2024-01-29T12:42:46.443432Z"
    },
    "id": "VGp9e1Qov7Ev",
    "outputId": "7ff926ec-ed46-43eb-896a-8fbeb07098aa",
    "papermill": {
     "duration": 0.05709,
     "end_time": "2024-01-29T12:42:46.447721",
     "exception": false,
     "start_time": "2024-01-29T12:42:46.390631",
     "status": "completed"
    },
    "tags": []
   },
   "outputs": [
    {
     "data": {
      "text/html": [
       "<div>\n",
       "<style scoped>\n",
       "    .dataframe tbody tr th:only-of-type {\n",
       "        vertical-align: middle;\n",
       "    }\n",
       "\n",
       "    .dataframe tbody tr th {\n",
       "        vertical-align: top;\n",
       "    }\n",
       "\n",
       "    .dataframe thead th {\n",
       "        text-align: right;\n",
       "    }\n",
       "</style>\n",
       "<table border=\"1\" class=\"dataframe\">\n",
       "  <thead>\n",
       "    <tr style=\"text-align: right;\">\n",
       "      <th></th>\n",
       "      <th>age</th>\n",
       "      <th>bmi</th>\n",
       "      <th>children</th>\n",
       "      <th>charges</th>\n",
       "      <th>gender</th>\n",
       "      <th>En-Smoker</th>\n",
       "      <th>En-Region</th>\n",
       "    </tr>\n",
       "  </thead>\n",
       "  <tbody>\n",
       "    <tr>\n",
       "      <th>count</th>\n",
       "      <td>1337.000000</td>\n",
       "      <td>1337.000000</td>\n",
       "      <td>1337.000000</td>\n",
       "      <td>1337.000000</td>\n",
       "      <td>1337.000000</td>\n",
       "      <td>1337.000000</td>\n",
       "      <td>1337.000000</td>\n",
       "    </tr>\n",
       "    <tr>\n",
       "      <th>mean</th>\n",
       "      <td>39.222139</td>\n",
       "      <td>30.663452</td>\n",
       "      <td>1.095737</td>\n",
       "      <td>13279.121487</td>\n",
       "      <td>0.495138</td>\n",
       "      <td>0.795064</td>\n",
       "      <td>1.483919</td>\n",
       "    </tr>\n",
       "    <tr>\n",
       "      <th>std</th>\n",
       "      <td>14.044333</td>\n",
       "      <td>6.100468</td>\n",
       "      <td>1.205571</td>\n",
       "      <td>12110.359656</td>\n",
       "      <td>0.500163</td>\n",
       "      <td>0.403806</td>\n",
       "      <td>1.105208</td>\n",
       "    </tr>\n",
       "    <tr>\n",
       "      <th>min</th>\n",
       "      <td>18.000000</td>\n",
       "      <td>15.960000</td>\n",
       "      <td>0.000000</td>\n",
       "      <td>1121.873900</td>\n",
       "      <td>0.000000</td>\n",
       "      <td>0.000000</td>\n",
       "      <td>0.000000</td>\n",
       "    </tr>\n",
       "    <tr>\n",
       "      <th>25%</th>\n",
       "      <td>27.000000</td>\n",
       "      <td>26.290000</td>\n",
       "      <td>0.000000</td>\n",
       "      <td>4746.344000</td>\n",
       "      <td>0.000000</td>\n",
       "      <td>1.000000</td>\n",
       "      <td>1.000000</td>\n",
       "    </tr>\n",
       "    <tr>\n",
       "      <th>50%</th>\n",
       "      <td>39.000000</td>\n",
       "      <td>30.400000</td>\n",
       "      <td>1.000000</td>\n",
       "      <td>9386.161300</td>\n",
       "      <td>0.000000</td>\n",
       "      <td>1.000000</td>\n",
       "      <td>1.000000</td>\n",
       "    </tr>\n",
       "    <tr>\n",
       "      <th>75%</th>\n",
       "      <td>51.000000</td>\n",
       "      <td>34.700000</td>\n",
       "      <td>2.000000</td>\n",
       "      <td>16657.717450</td>\n",
       "      <td>1.000000</td>\n",
       "      <td>1.000000</td>\n",
       "      <td>2.000000</td>\n",
       "    </tr>\n",
       "    <tr>\n",
       "      <th>max</th>\n",
       "      <td>64.000000</td>\n",
       "      <td>53.130000</td>\n",
       "      <td>5.000000</td>\n",
       "      <td>63770.428010</td>\n",
       "      <td>1.000000</td>\n",
       "      <td>1.000000</td>\n",
       "      <td>3.000000</td>\n",
       "    </tr>\n",
       "  </tbody>\n",
       "</table>\n",
       "</div>"
      ],
      "text/plain": [
       "               age          bmi     children       charges       gender  \\\n",
       "count  1337.000000  1337.000000  1337.000000   1337.000000  1337.000000   \n",
       "mean     39.222139    30.663452     1.095737  13279.121487     0.495138   \n",
       "std      14.044333     6.100468     1.205571  12110.359656     0.500163   \n",
       "min      18.000000    15.960000     0.000000   1121.873900     0.000000   \n",
       "25%      27.000000    26.290000     0.000000   4746.344000     0.000000   \n",
       "50%      39.000000    30.400000     1.000000   9386.161300     0.000000   \n",
       "75%      51.000000    34.700000     2.000000  16657.717450     1.000000   \n",
       "max      64.000000    53.130000     5.000000  63770.428010     1.000000   \n",
       "\n",
       "         En-Smoker    En-Region  \n",
       "count  1337.000000  1337.000000  \n",
       "mean      0.795064     1.483919  \n",
       "std       0.403806     1.105208  \n",
       "min       0.000000     0.000000  \n",
       "25%       1.000000     1.000000  \n",
       "50%       1.000000     1.000000  \n",
       "75%       1.000000     2.000000  \n",
       "max       1.000000     3.000000  "
      ]
     },
     "execution_count": 11,
     "metadata": {},
     "output_type": "execute_result"
    }
   ],
   "source": [
    "data.describe()"
   ]
  },
  {
   "cell_type": "code",
   "execution_count": 12,
   "id": "2ef0a4a0",
   "metadata": {
    "execution": {
     "iopub.execute_input": "2024-01-29T12:42:46.486384Z",
     "iopub.status.busy": "2024-01-29T12:42:46.484786Z",
     "iopub.status.idle": "2024-01-29T12:42:46.505383Z",
     "shell.execute_reply": "2024-01-29T12:42:46.504138Z"
    },
    "papermill": {
     "duration": 0.043644,
     "end_time": "2024-01-29T12:42:46.508318",
     "exception": false,
     "start_time": "2024-01-29T12:42:46.464674",
     "status": "completed"
    },
    "tags": []
   },
   "outputs": [
    {
     "data": {
      "text/html": [
       "<div>\n",
       "<style scoped>\n",
       "    .dataframe tbody tr th:only-of-type {\n",
       "        vertical-align: middle;\n",
       "    }\n",
       "\n",
       "    .dataframe tbody tr th {\n",
       "        vertical-align: top;\n",
       "    }\n",
       "\n",
       "    .dataframe thead th {\n",
       "        text-align: right;\n",
       "    }\n",
       "</style>\n",
       "<table border=\"1\" class=\"dataframe\">\n",
       "  <thead>\n",
       "    <tr style=\"text-align: right;\">\n",
       "      <th></th>\n",
       "      <th>age</th>\n",
       "      <th>sex</th>\n",
       "      <th>bmi</th>\n",
       "      <th>children</th>\n",
       "      <th>smoker</th>\n",
       "      <th>region</th>\n",
       "      <th>charges</th>\n",
       "      <th>gender</th>\n",
       "      <th>En-Smoker</th>\n",
       "      <th>En-Region</th>\n",
       "    </tr>\n",
       "  </thead>\n",
       "  <tbody>\n",
       "    <tr>\n",
       "      <th>1119</th>\n",
       "      <td>30</td>\n",
       "      <td>female</td>\n",
       "      <td>19.95</td>\n",
       "      <td>3</td>\n",
       "      <td>no</td>\n",
       "      <td>northwest</td>\n",
       "      <td>5693.4305</td>\n",
       "      <td>1.0</td>\n",
       "      <td>1.0</td>\n",
       "      <td>2.0</td>\n",
       "    </tr>\n",
       "  </tbody>\n",
       "</table>\n",
       "</div>"
      ],
      "text/plain": [
       "      age     sex    bmi  children smoker     region    charges  gender  \\\n",
       "1119   30  female  19.95         3     no  northwest  5693.4305     1.0   \n",
       "\n",
       "      En-Smoker  En-Region  \n",
       "1119        1.0        2.0  "
      ]
     },
     "execution_count": 12,
     "metadata": {},
     "output_type": "execute_result"
    }
   ],
   "source": [
    "data.sample()"
   ]
  },
  {
   "cell_type": "code",
   "execution_count": 13,
   "id": "9487fd77",
   "metadata": {
    "execution": {
     "iopub.execute_input": "2024-01-29T12:42:46.545265Z",
     "iopub.status.busy": "2024-01-29T12:42:46.543888Z",
     "iopub.status.idle": "2024-01-29T12:42:46.552224Z",
     "shell.execute_reply": "2024-01-29T12:42:46.550809Z"
    },
    "papermill": {
     "duration": 0.029877,
     "end_time": "2024-01-29T12:42:46.555072",
     "exception": false,
     "start_time": "2024-01-29T12:42:46.525195",
     "status": "completed"
    },
    "tags": []
   },
   "outputs": [],
   "source": [
    "x=data.drop(['sex','smoker','charges','region'],axis=1)\n",
    "target=data.charges"
   ]
  },
  {
   "cell_type": "markdown",
   "id": "6ac154b8",
   "metadata": {
    "papermill": {
     "duration": 0.016886,
     "end_time": "2024-01-29T12:42:46.588734",
     "exception": false,
     "start_time": "2024-01-29T12:42:46.571848",
     "status": "completed"
    },
    "tags": []
   },
   "source": [
    "# <p style=\"font-family:JetBrains Mono; font-weight:bold; letter-spacing: 2px; color:#4F200D; font-size:140%; text-align:center;padding: 0px; border-bottom: 3px solid #4F200D\">Correlation Visualization</p>"
   ]
  },
  {
   "cell_type": "code",
   "execution_count": 14,
   "id": "2093bf33",
   "metadata": {
    "execution": {
     "iopub.execute_input": "2024-01-29T12:42:46.625291Z",
     "iopub.status.busy": "2024-01-29T12:42:46.624744Z",
     "iopub.status.idle": "2024-01-29T12:42:47.300453Z",
     "shell.execute_reply": "2024-01-29T12:42:47.299129Z"
    },
    "id": "P658edGMwVws",
    "outputId": "d63be548-1a85-4a2c-d20e-0aa63d859278",
    "papermill": {
     "duration": 0.696871,
     "end_time": "2024-01-29T12:42:47.303276",
     "exception": false,
     "start_time": "2024-01-29T12:42:46.606405",
     "status": "completed"
    },
    "tags": []
   },
   "outputs": [
    {
     "data": {
      "text/plain": [
       "Text(0.5, 1.0, 'Correlation Between The Features')"
      ]
     },
     "execution_count": 14,
     "metadata": {},
     "output_type": "execute_result"
    },
    {
     "data": {
      "image/png": "[encoded data removed]",
      "text/plain": [
       "<Figure size 640x480 with 2 Axes>"
      ]
     },
     "metadata": {},
     "output_type": "display_data"
    }
   ],
   "source": [
    "val=data.select_dtypes(include=['number'])\n",
    "sb.heatmap(val.corr(),annot=True,cmap='copper')\n",
    "plt.title('Correlation Between The Features')"
   ]
  },
  {
   "cell_type": "markdown",
   "id": "f004e626",
   "metadata": {
    "papermill": {
     "duration": 0.018098,
     "end_time": "2024-01-29T12:42:47.339273",
     "exception": false,
     "start_time": "2024-01-29T12:42:47.321175",
     "status": "completed"
    },
    "tags": []
   },
   "source": [
    "# <p style=\"font-family:JetBrains Mono; font-weight:bold; letter-spacing: 2px; color:#4F200D; font-size:140%; text-align:center;padding: 0px; border-bottom: 3px solid #4F200D\">Machine Learning</p>"
   ]
  },
  {
   "cell_type": "code",
   "execution_count": 15,
   "id": "c40705e6",
   "metadata": {
    "execution": {
     "iopub.execute_input": "2024-01-29T12:42:47.376953Z",
     "iopub.status.busy": "2024-01-29T12:42:47.376376Z",
     "iopub.status.idle": "2024-01-29T12:42:47.382515Z",
     "shell.execute_reply": "2024-01-29T12:42:47.381095Z"
    },
    "id": "CD7Rm6eYxmcl",
    "papermill": {
     "duration": 0.028149,
     "end_time": "2024-01-29T12:42:47.384852",
     "exception": false,
     "start_time": "2024-01-29T12:42:47.356703",
     "status": "completed"
    },
    "tags": []
   },
   "outputs": [],
   "source": [
    "poly=PolynomialFeatures(degree=2)"
   ]
  },
  {
   "cell_type": "code",
   "execution_count": 16,
   "id": "6a4ffd8f",
   "metadata": {
    "execution": {
     "iopub.execute_input": "2024-01-29T12:42:47.422655Z",
     "iopub.status.busy": "2024-01-29T12:42:47.422128Z",
     "iopub.status.idle": "2024-01-29T12:42:47.433590Z",
     "shell.execute_reply": "2024-01-29T12:42:47.432077Z"
    },
    "id": "hjj8olthxrvY",
    "papermill": {
     "duration": 0.034152,
     "end_time": "2024-01-29T12:42:47.436534",
     "exception": false,
     "start_time": "2024-01-29T12:42:47.402382",
     "status": "completed"
    },
    "tags": []
   },
   "outputs": [],
   "source": [
    "xval=poly.fit_transform(x)"
   ]
  },
  {
   "cell_type": "code",
   "execution_count": 17,
   "id": "e809ff52",
   "metadata": {
    "execution": {
     "iopub.execute_input": "2024-01-29T12:42:47.473760Z",
     "iopub.status.busy": "2024-01-29T12:42:47.473247Z",
     "iopub.status.idle": "2024-01-29T12:42:47.478730Z",
     "shell.execute_reply": "2024-01-29T12:42:47.477403Z"
    },
    "id": "kBLuoJ7ZyuH2",
    "papermill": {
     "duration": 0.02735,
     "end_time": "2024-01-29T12:42:47.481474",
     "exception": false,
     "start_time": "2024-01-29T12:42:47.454124",
     "status": "completed"
    },
    "tags": []
   },
   "outputs": [],
   "source": [
    "model=LinearRegression()\n",
    "model1=LinearRegression()"
   ]
  },
  {
   "cell_type": "markdown",
   "id": "be352b4a",
   "metadata": {
    "papermill": {
     "duration": 0.01752,
     "end_time": "2024-01-29T12:42:47.516671",
     "exception": false,
     "start_time": "2024-01-29T12:42:47.499151",
     "status": "completed"
    },
    "tags": []
   },
   "source": [
    "<div style=\"border-bottom: 3px solid #3498db; text-align: center; padding: 10px;\">\n",
    "    <p style=\"font-family: 'JetBrains Mono', monospace; font-weight: bold; letter-spacing: 2px; color: #e67e22; font-size: 140%; margin: 0;\">Splitting Data</p>\n",
    "</div>\n"
   ]
  },
  {
   "cell_type": "code",
   "execution_count": 18,
   "id": "d83718ee",
   "metadata": {
    "execution": {
     "iopub.execute_input": "2024-01-29T12:42:47.553958Z",
     "iopub.status.busy": "2024-01-29T12:42:47.553432Z",
     "iopub.status.idle": "2024-01-29T12:42:47.564801Z",
     "shell.execute_reply": "2024-01-29T12:42:47.563560Z"
    },
    "id": "DWEYZsiNyylq",
    "papermill": {
     "duration": 0.033286,
     "end_time": "2024-01-29T12:42:47.567449",
     "exception": false,
     "start_time": "2024-01-29T12:42:47.534163",
     "status": "completed"
    },
    "tags": []
   },
   "outputs": [],
   "source": [
    "xtra,xtest,ytra,ytest=train_test_split(xval,target,test_size=0.2)\n",
    "xtra1,xtest1,ytra1,ytest1=train_test_split(x,target,test_size=0.2)"
   ]
  },
  {
   "cell_type": "code",
   "execution_count": 19,
   "id": "7f54c88c",
   "metadata": {
    "execution": {
     "iopub.execute_input": "2024-01-29T12:42:47.605209Z",
     "iopub.status.busy": "2024-01-29T12:42:47.604636Z",
     "iopub.status.idle": "2024-01-29T12:42:47.643336Z",
     "shell.execute_reply": "2024-01-29T12:42:47.642002Z"
    },
    "id": "oHdo6yEZz3Xo",
    "outputId": "1c811e79-bf94-4be1-f6b4-0c31a951bc87",
    "papermill": {
     "duration": 0.062212,
     "end_time": "2024-01-29T12:42:47.647129",
     "exception": false,
     "start_time": "2024-01-29T12:42:47.584917",
     "status": "completed"
    },
    "tags": []
   },
   "outputs": [
    {
     "data": {
      "text/html": [
       "<style>#sk-container-id-1 {color: black;background-color: white;}#sk-container-id-1 pre{padding: 0;}#sk-container-id-1 div.sk-toggleable {background-color: white;}#sk-container-id-1 label.sk-toggleable__label {cursor: pointer;display: block;width: 100%;margin-bottom: 0;padding: 0.3em;box-sizing: border-box;text-align: center;}#sk-container-id-1 label.sk-toggleable__label-arrow:before {content: \"▸\";float: left;margin-right: 0.25em;color: #696969;}#sk-container-id-1 label.sk-toggleable__label-arrow:hover:before {color: black;}#sk-container-id-1 div.sk-estimator:hover label.sk-toggleable__label-arrow:before {color: black;}#sk-container-id-1 div.sk-toggleable__content {max-height: 0;max-width: 0;overflow: hidden;text-align: left;background-color: #f0f8ff;}#sk-container-id-1 div.sk-toggleable__content pre {margin: 0.2em;color: black;border-radius: 0.25em;background-color: #f0f8ff;}#sk-container-id-1 input.sk-toggleable__control:checked~div.sk-toggleable__content {max-height: 200px;max-width: 100%;overflow: auto;}#sk-container-id-1 input.sk-toggleable__control:checked~label.sk-toggleable__label-arrow:before {content: \"▾\";}#sk-container-id-1 div.sk-estimator input.sk-toggleable__control:checked~label.sk-toggleable__label {background-color: #d4ebff;}#sk-container-id-1 div.sk-label input.sk-toggleable__control:checked~label.sk-toggleable__label {background-color: #d4ebff;}#sk-container-id-1 input.sk-hidden--visually {border: 0;clip: rect(1px 1px 1px 1px);clip: rect(1px, 1px, 1px, 1px);height: 1px;margin: -1px;overflow: hidden;padding: 0;position: absolute;width: 1px;}#sk-container-id-1 div.sk-estimator {font-family: monospace;background-color: #f0f8ff;border: 1px dotted black;border-radius: 0.25em;box-sizing: border-box;margin-bottom: 0.5em;}#sk-container-id-1 div.sk-estimator:hover {background-color: #d4ebff;}#sk-container-id-1 div.sk-parallel-item::after {content: \"\";width: 100%;border-bottom: 1px solid gray;flex-grow: 1;}#sk-container-id-1 div.sk-label:hover label.sk-toggleable__label {background-color: #d4ebff;}#sk-container-id-1 div.sk-serial::before {content: \"\";position: absolute;border-left: 1px solid gray;box-sizing: border-box;top: 0;bottom: 0;left: 50%;z-index: 0;}#sk-container-id-1 div.sk-serial {display: flex;flex-direction: column;align-items: center;background-color: white;padding-right: 0.2em;padding-left: 0.2em;position: relative;}#sk-container-id-1 div.sk-item {position: relative;z-index: 1;}#sk-container-id-1 div.sk-parallel {display: flex;align-items: stretch;justify-content: center;background-color: white;position: relative;}#sk-container-id-1 div.sk-item::before, #sk-container-id-1 div.sk-parallel-item::before {content: \"\";position: absolute;border-left: 1px solid gray;box-sizing: border-box;top: 0;bottom: 0;left: 50%;z-index: -1;}#sk-container-id-1 div.sk-parallel-item {display: flex;flex-direction: column;z-index: 1;position: relative;background-color: white;}#sk-container-id-1 div.sk-parallel-item:first-child::after {align-self: flex-end;width: 50%;}#sk-container-id-1 div.sk-parallel-item:last-child::after {align-self: flex-start;width: 50%;}#sk-container-id-1 div.sk-parallel-item:only-child::after {width: 0;}#sk-container-id-1 div.sk-dashed-wrapped {border: 1px dashed gray;margin: 0 0.4em 0.5em 0.4em;box-sizing: border-box;padding-bottom: 0.4em;background-color: white;}#sk-container-id-1 div.sk-label label {font-family: monospace;font-weight: bold;display: inline-block;line-height: 1.2em;}#sk-container-id-1 div.sk-label-container {text-align: center;}#sk-container-id-1 div.sk-container {/* jupyter's `normalize.less` sets `[hidden] { display: none; }` but bootstrap.min.css set `[hidden] { display: none !important; }` so we also need the `!important` here to be able to override the default hidden behavior on the sphinx rendered scikit-learn.org. See: https://github.com/scikit-learn/scikit-learn/issues/21755 */display: inline-block !important;position: relative;}#sk-container-id-1 div.sk-text-repr-fallback {display: none;}</style><div id=\"sk-container-id-1\" class=\"sk-top-container\"><div class=\"sk-text-repr-fallback\"><pre>LinearRegression()</pre><b>In a Jupyter environment, please rerun this cell to show the HTML representation or trust the notebook. <br />On GitHub, the HTML representation is unable to render, please try loading this page with nbviewer.org.</b></div><div class=\"sk-container\" hidden><div class=\"sk-item\"><div class=\"sk-estimator sk-toggleable\"><input class=\"sk-toggleable__control sk-hidden--visually\" id=\"sk-estimator-id-1\" type=\"checkbox\" checked><label for=\"sk-estimator-id-1\" class=\"sk-toggleable__label sk-toggleable__label-arrow\">LinearRegression</label><div class=\"sk-toggleable__content\"><pre>LinearRegression()</pre></div></div></div></div></div>"
      ],
      "text/plain": [
       "LinearRegression()"
      ]
     },
     "execution_count": 19,
     "metadata": {},
     "output_type": "execute_result"
    }
   ],
   "source": [
    "model.fit(xtra,ytra)"
   ]
  },
  {
   "cell_type": "code",
   "execution_count": 20,
   "id": "a116a809",
   "metadata": {
    "execution": {
     "iopub.execute_input": "2024-01-29T12:42:47.725011Z",
     "iopub.status.busy": "2024-01-29T12:42:47.722921Z",
     "iopub.status.idle": "2024-01-29T12:42:47.731249Z",
     "shell.execute_reply": "2024-01-29T12:42:47.729932Z"
    },
    "id": "Uh6804hL1M76",
    "papermill": {
     "duration": 0.050942,
     "end_time": "2024-01-29T12:42:47.734958",
     "exception": false,
     "start_time": "2024-01-29T12:42:47.684016",
     "status": "completed"
    },
    "tags": []
   },
   "outputs": [],
   "source": [
    "ypred=model.predict(xtest)"
   ]
  },
  {
   "cell_type": "code",
   "execution_count": 21,
   "id": "ef9ee06f",
   "metadata": {
    "execution": {
     "iopub.execute_input": "2024-01-29T12:42:47.779594Z",
     "iopub.status.busy": "2024-01-29T12:42:47.779177Z",
     "iopub.status.idle": "2024-01-29T12:42:47.785797Z",
     "shell.execute_reply": "2024-01-29T12:42:47.784329Z"
    },
    "id": "EVU8bdi40vWP",
    "papermill": {
     "duration": 0.028476,
     "end_time": "2024-01-29T12:42:47.788312",
     "exception": false,
     "start_time": "2024-01-29T12:42:47.759836",
     "status": "completed"
    },
    "tags": []
   },
   "outputs": [],
   "source": [
    "nonpoly=r2_score(ytest,ypred)"
   ]
  },
  {
   "cell_type": "code",
   "execution_count": 22,
   "id": "d3d9e28a",
   "metadata": {
    "execution": {
     "iopub.execute_input": "2024-01-29T12:42:47.826341Z",
     "iopub.status.busy": "2024-01-29T12:42:47.825744Z",
     "iopub.status.idle": "2024-01-29T12:42:47.877794Z",
     "shell.execute_reply": "2024-01-29T12:42:47.876017Z"
    },
    "id": "VCWI9NJ21VAP",
    "papermill": {
     "duration": 0.076046,
     "end_time": "2024-01-29T12:42:47.882487",
     "exception": false,
     "start_time": "2024-01-29T12:42:47.806441",
     "status": "completed"
    },
    "tags": []
   },
   "outputs": [],
   "source": [
    "nonpolycross=cross_val_score(model,xval,target).mean()"
   ]
  },
  {
   "cell_type": "code",
   "execution_count": 23,
   "id": "230c6a0e",
   "metadata": {
    "execution": {
     "iopub.execute_input": "2024-01-29T12:42:47.960955Z",
     "iopub.status.busy": "2024-01-29T12:42:47.960161Z",
     "iopub.status.idle": "2024-01-29T12:42:47.979396Z",
     "shell.execute_reply": "2024-01-29T12:42:47.977624Z"
    },
    "id": "sBPgiomg1c9H",
    "outputId": "de9533c8-1be7-4562-c8bc-f00459b284eb",
    "papermill": {
     "duration": 0.063618,
     "end_time": "2024-01-29T12:42:47.983723",
     "exception": false,
     "start_time": "2024-01-29T12:42:47.920105",
     "status": "completed"
    },
    "tags": []
   },
   "outputs": [
    {
     "data": {
      "text/plain": [
       "2903.3922107462686"
      ]
     },
     "execution_count": 23,
     "metadata": {},
     "output_type": "execute_result"
    }
   ],
   "source": [
    "mean_absolute_error(ytest,ypred)"
   ]
  },
  {
   "cell_type": "code",
   "execution_count": 24,
   "id": "e3e00c2b",
   "metadata": {
    "execution": {
     "iopub.execute_input": "2024-01-29T12:42:48.028264Z",
     "iopub.status.busy": "2024-01-29T12:42:48.027722Z",
     "iopub.status.idle": "2024-01-29T12:42:48.041881Z",
     "shell.execute_reply": "2024-01-29T12:42:48.040589Z"
    },
    "id": "Tt_qyO-11kRu",
    "outputId": "cd7fbebf-da93-450e-e9d2-ef6764c911db",
    "papermill": {
     "duration": 0.036484,
     "end_time": "2024-01-29T12:42:48.044569",
     "exception": false,
     "start_time": "2024-01-29T12:42:48.008085",
     "status": "completed"
    },
    "tags": []
   },
   "outputs": [
    {
     "data": {
      "text/html": [
       "<style>#sk-container-id-2 {color: black;background-color: white;}#sk-container-id-2 pre{padding: 0;}#sk-container-id-2 div.sk-toggleable {background-color: white;}#sk-container-id-2 label.sk-toggleable__label {cursor: pointer;display: block;width: 100%;margin-bottom: 0;padding: 0.3em;box-sizing: border-box;text-align: center;}#sk-container-id-2 label.sk-toggleable__label-arrow:before {content: \"▸\";float: left;margin-right: 0.25em;color: #696969;}#sk-container-id-2 label.sk-toggleable__label-arrow:hover:before {color: black;}#sk-container-id-2 div.sk-estimator:hover label.sk-toggleable__label-arrow:before {color: black;}#sk-container-id-2 div.sk-toggleable__content {max-height: 0;max-width: 0;overflow: hidden;text-align: left;background-color: #f0f8ff;}#sk-container-id-2 div.sk-toggleable__content pre {margin: 0.2em;color: black;border-radius: 0.25em;background-color: #f0f8ff;}#sk-container-id-2 input.sk-toggleable__control:checked~div.sk-toggleable__content {max-height: 200px;max-width: 100%;overflow: auto;}#sk-container-id-2 input.sk-toggleable__control:checked~label.sk-toggleable__label-arrow:before {content: \"▾\";}#sk-container-id-2 div.sk-estimator input.sk-toggleable__control:checked~label.sk-toggleable__label {background-color: #d4ebff;}#sk-container-id-2 div.sk-label input.sk-toggleable__control:checked~label.sk-toggleable__label {background-color: #d4ebff;}#sk-container-id-2 input.sk-hidden--visually {border: 0;clip: rect(1px 1px 1px 1px);clip: rect(1px, 1px, 1px, 1px);height: 1px;margin: -1px;overflow: hidden;padding: 0;position: absolute;width: 1px;}#sk-container-id-2 div.sk-estimator {font-family: monospace;background-color: #f0f8ff;border: 1px dotted black;border-radius: 0.25em;box-sizing: border-box;margin-bottom: 0.5em;}#sk-container-id-2 div.sk-estimator:hover {background-color: #d4ebff;}#sk-container-id-2 div.sk-parallel-item::after {content: \"\";width: 100%;border-bottom: 1px solid gray;flex-grow: 1;}#sk-container-id-2 div.sk-label:hover label.sk-toggleable__label {background-color: #d4ebff;}#sk-container-id-2 div.sk-serial::before {content: \"\";position: absolute;border-left: 1px solid gray;box-sizing: border-box;top: 0;bottom: 0;left: 50%;z-index: 0;}#sk-container-id-2 div.sk-serial {display: flex;flex-direction: column;align-items: center;background-color: white;padding-right: 0.2em;padding-left: 0.2em;position: relative;}#sk-container-id-2 div.sk-item {position: relative;z-index: 1;}#sk-container-id-2 div.sk-parallel {display: flex;align-items: stretch;justify-content: center;background-color: white;position: relative;}#sk-container-id-2 div.sk-item::before, #sk-container-id-2 div.sk-parallel-item::before {content: \"\";position: absolute;border-left: 1px solid gray;box-sizing: border-box;top: 0;bottom: 0;left: 50%;z-index: -1;}#sk-container-id-2 div.sk-parallel-item {display: flex;flex-direction: column;z-index: 1;position: relative;background-color: white;}#sk-container-id-2 div.sk-parallel-item:first-child::after {align-self: flex-end;width: 50%;}#sk-container-id-2 div.sk-parallel-item:last-child::after {align-self: flex-start;width: 50%;}#sk-container-id-2 div.sk-parallel-item:only-child::after {width: 0;}#sk-container-id-2 div.sk-dashed-wrapped {border: 1px dashed gray;margin: 0 0.4em 0.5em 0.4em;box-sizing: border-box;padding-bottom: 0.4em;background-color: white;}#sk-container-id-2 div.sk-label label {font-family: monospace;font-weight: bold;display: inline-block;line-height: 1.2em;}#sk-container-id-2 div.sk-label-container {text-align: center;}#sk-container-id-2 div.sk-container {/* jupyter's `normalize.less` sets `[hidden] { display: none; }` but bootstrap.min.css set `[hidden] { display: none !important; }` so we also need the `!important` here to be able to override the default hidden behavior on the sphinx rendered scikit-learn.org. See: https://github.com/scikit-learn/scikit-learn/issues/21755 */display: inline-block !important;position: relative;}#sk-container-id-2 div.sk-text-repr-fallback {display: none;}</style><div id=\"sk-container-id-2\" class=\"sk-top-container\"><div class=\"sk-text-repr-fallback\"><pre>LinearRegression()</pre><b>In a Jupyter environment, please rerun this cell to show the HTML representation or trust the notebook. <br />On GitHub, the HTML representation is unable to render, please try loading this page with nbviewer.org.</b></div><div class=\"sk-container\" hidden><div class=\"sk-item\"><div class=\"sk-estimator sk-toggleable\"><input class=\"sk-toggleable__control sk-hidden--visually\" id=\"sk-estimator-id-2\" type=\"checkbox\" checked><label for=\"sk-estimator-id-2\" class=\"sk-toggleable__label sk-toggleable__label-arrow\">LinearRegression</label><div class=\"sk-toggleable__content\"><pre>LinearRegression()</pre></div></div></div></div></div>"
      ],
      "text/plain": [
       "LinearRegression()"
      ]
     },
     "execution_count": 24,
     "metadata": {},
     "output_type": "execute_result"
    }
   ],
   "source": [
    "model1.fit(xtra1,ytra1)"
   ]
  },
  {
   "cell_type": "code",
   "execution_count": 25,
   "id": "fa44c1b1",
   "metadata": {
    "execution": {
     "iopub.execute_input": "2024-01-29T12:42:48.083571Z",
     "iopub.status.busy": "2024-01-29T12:42:48.082535Z",
     "iopub.status.idle": "2024-01-29T12:42:48.091229Z",
     "shell.execute_reply": "2024-01-29T12:42:48.090002Z"
    },
    "id": "oHYbZV2414hZ",
    "papermill": {
     "duration": 0.030768,
     "end_time": "2024-01-29T12:42:48.093577",
     "exception": false,
     "start_time": "2024-01-29T12:42:48.062809",
     "status": "completed"
    },
    "tags": []
   },
   "outputs": [],
   "source": [
    "ypred1=model1.predict(xtest1)"
   ]
  },
  {
   "cell_type": "code",
   "execution_count": 26,
   "id": "9d2a5d2c",
   "metadata": {
    "execution": {
     "iopub.execute_input": "2024-01-29T12:42:48.132937Z",
     "iopub.status.busy": "2024-01-29T12:42:48.132273Z",
     "iopub.status.idle": "2024-01-29T12:42:48.139285Z",
     "shell.execute_reply": "2024-01-29T12:42:48.138002Z"
    },
    "id": "RPfKNm301_OE",
    "papermill": {
     "duration": 0.030063,
     "end_time": "2024-01-29T12:42:48.141942",
     "exception": false,
     "start_time": "2024-01-29T12:42:48.111879",
     "status": "completed"
    },
    "tags": []
   },
   "outputs": [],
   "source": [
    "poly=r2_score(ytest1,ypred1)"
   ]
  },
  {
   "cell_type": "code",
   "execution_count": 27,
   "id": "bfa4f742",
   "metadata": {
    "execution": {
     "iopub.execute_input": "2024-01-29T12:42:48.180954Z",
     "iopub.status.busy": "2024-01-29T12:42:48.180450Z",
     "iopub.status.idle": "2024-01-29T12:42:48.223503Z",
     "shell.execute_reply": "2024-01-29T12:42:48.222259Z"
    },
    "id": "W2U8QMv62Esv",
    "papermill": {
     "duration": 0.066066,
     "end_time": "2024-01-29T12:42:48.226265",
     "exception": false,
     "start_time": "2024-01-29T12:42:48.160199",
     "status": "completed"
    },
    "tags": []
   },
   "outputs": [],
   "source": [
    "polycross=cross_val_score(model1,x,target).mean()"
   ]
  },
  {
   "cell_type": "code",
   "execution_count": 28,
   "id": "82dd9714",
   "metadata": {
    "execution": {
     "iopub.execute_input": "2024-01-29T12:42:48.266251Z",
     "iopub.status.busy": "2024-01-29T12:42:48.265769Z",
     "iopub.status.idle": "2024-01-29T12:42:48.274729Z",
     "shell.execute_reply": "2024-01-29T12:42:48.273250Z"
    },
    "id": "BBfnRv8W2J12",
    "outputId": "d1e52684-f61a-4d81-a4d7-5ecf9013e8de",
    "papermill": {
     "duration": 0.032676,
     "end_time": "2024-01-29T12:42:48.277230",
     "exception": false,
     "start_time": "2024-01-29T12:42:48.244554",
     "status": "completed"
    },
    "tags": []
   },
   "outputs": [
    {
     "data": {
      "text/plain": [
       "4143.265244195225"
      ]
     },
     "execution_count": 28,
     "metadata": {},
     "output_type": "execute_result"
    }
   ],
   "source": [
    "mean_absolute_error(ytest1,ypred1)"
   ]
  },
  {
   "cell_type": "code",
   "execution_count": 29,
   "id": "439d6bcd",
   "metadata": {
    "execution": {
     "iopub.execute_input": "2024-01-29T12:42:48.316856Z",
     "iopub.status.busy": "2024-01-29T12:42:48.316405Z",
     "iopub.status.idle": "2024-01-29T12:42:48.321806Z",
     "shell.execute_reply": "2024-01-29T12:42:48.320528Z"
    },
    "id": "DGFGIsYv253K",
    "papermill": {
     "duration": 0.028352,
     "end_time": "2024-01-29T12:42:48.324159",
     "exception": false,
     "start_time": "2024-01-29T12:42:48.295807",
     "status": "completed"
    },
    "tags": []
   },
   "outputs": [],
   "source": [
    "model2=RandomForestRegressor()"
   ]
  },
  {
   "cell_type": "code",
   "execution_count": 30,
   "id": "7b60a30c",
   "metadata": {
    "execution": {
     "iopub.execute_input": "2024-01-29T12:42:48.363249Z",
     "iopub.status.busy": "2024-01-29T12:42:48.362798Z",
     "iopub.status.idle": "2024-01-29T12:42:49.513857Z",
     "shell.execute_reply": "2024-01-29T12:42:49.512885Z"
    },
    "id": "wO7x2nU23J-G",
    "outputId": "0a22f7e8-3b28-436e-9e03-03509241a472",
    "papermill": {
     "duration": 1.174507,
     "end_time": "2024-01-29T12:42:49.517412",
     "exception": false,
     "start_time": "2024-01-29T12:42:48.342905",
     "status": "completed"
    },
    "tags": []
   },
   "outputs": [
    {
     "data": {
      "text/html": [
       "<style>#sk-container-id-3 {color: black;background-color: white;}#sk-container-id-3 pre{padding: 0;}#sk-container-id-3 div.sk-toggleable {background-color: white;}#sk-container-id-3 label.sk-toggleable__label {cursor: pointer;display: block;width: 100%;margin-bottom: 0;padding: 0.3em;box-sizing: border-box;text-align: center;}#sk-container-id-3 label.sk-toggleable__label-arrow:before {content: \"▸\";float: left;margin-right: 0.25em;color: #696969;}#sk-container-id-3 label.sk-toggleable__label-arrow:hover:before {color: black;}#sk-container-id-3 div.sk-estimator:hover label.sk-toggleable__label-arrow:before {color: black;}#sk-container-id-3 div.sk-toggleable__content {max-height: 0;max-width: 0;overflow: hidden;text-align: left;background-color: #f0f8ff;}#sk-container-id-3 div.sk-toggleable__content pre {margin: 0.2em;color: black;border-radius: 0.25em;background-color: #f0f8ff;}#sk-container-id-3 input.sk-toggleable__control:checked~div.sk-toggleable__content {max-height: 200px;max-width: 100%;overflow: auto;}#sk-container-id-3 input.sk-toggleable__control:checked~label.sk-toggleable__label-arrow:before {content: \"▾\";}#sk-container-id-3 div.sk-estimator input.sk-toggleable__control:checked~label.sk-toggleable__label {background-color: #d4ebff;}#sk-container-id-3 div.sk-label input.sk-toggleable__control:checked~label.sk-toggleable__label {background-color: #d4ebff;}#sk-container-id-3 input.sk-hidden--visually {border: 0;clip: rect(1px 1px 1px 1px);clip: rect(1px, 1px, 1px, 1px);height: 1px;margin: -1px;overflow: hidden;padding: 0;position: absolute;width: 1px;}#sk-container-id-3 div.sk-estimator {font-family: monospace;background-color: #f0f8ff;border: 1px dotted black;border-radius: 0.25em;box-sizing: border-box;margin-bottom: 0.5em;}#sk-container-id-3 div.sk-estimator:hover {background-color: #d4ebff;}#sk-container-id-3 div.sk-parallel-item::after {content: \"\";width: 100%;border-bottom: 1px solid gray;flex-grow: 1;}#sk-container-id-3 div.sk-label:hover label.sk-toggleable__label {background-color: #d4ebff;}#sk-container-id-3 div.sk-serial::before {content: \"\";position: absolute;border-left: 1px solid gray;box-sizing: border-box;top: 0;bottom: 0;left: 50%;z-index: 0;}#sk-container-id-3 div.sk-serial {display: flex;flex-direction: column;align-items: center;background-color: white;padding-right: 0.2em;padding-left: 0.2em;position: relative;}#sk-container-id-3 div.sk-item {position: relative;z-index: 1;}#sk-container-id-3 div.sk-parallel {display: flex;align-items: stretch;justify-content: center;background-color: white;position: relative;}#sk-container-id-3 div.sk-item::before, #sk-container-id-3 div.sk-parallel-item::before {content: \"\";position: absolute;border-left: 1px solid gray;box-sizing: border-box;top: 0;bottom: 0;left: 50%;z-index: -1;}#sk-container-id-3 div.sk-parallel-item {display: flex;flex-direction: column;z-index: 1;position: relative;background-color: white;}#sk-container-id-3 div.sk-parallel-item:first-child::after {align-self: flex-end;width: 50%;}#sk-container-id-3 div.sk-parallel-item:last-child::after {align-self: flex-start;width: 50%;}#sk-container-id-3 div.sk-parallel-item:only-child::after {width: 0;}#sk-container-id-3 div.sk-dashed-wrapped {border: 1px dashed gray;margin: 0 0.4em 0.5em 0.4em;box-sizing: border-box;padding-bottom: 0.4em;background-color: white;}#sk-container-id-3 div.sk-label label {font-family: monospace;font-weight: bold;display: inline-block;line-height: 1.2em;}#sk-container-id-3 div.sk-label-container {text-align: center;}#sk-container-id-3 div.sk-container {/* jupyter's `normalize.less` sets `[hidden] { display: none; }` but bootstrap.min.css set `[hidden] { display: none !important; }` so we also need the `!important` here to be able to override the default hidden behavior on the sphinx rendered scikit-learn.org. See: https://github.com/scikit-learn/scikit-learn/issues/21755 */display: inline-block !important;position: relative;}#sk-container-id-3 div.sk-text-repr-fallback {display: none;}</style><div id=\"sk-container-id-3\" class=\"sk-top-container\"><div class=\"sk-text-repr-fallback\"><pre>RandomForestRegressor()</pre><b>In a Jupyter environment, please rerun this cell to show the HTML representation or trust the notebook. <br />On GitHub, the HTML representation is unable to render, please try loading this page with nbviewer.org.</b></div><div class=\"sk-container\" hidden><div class=\"sk-item\"><div class=\"sk-estimator sk-toggleable\"><input class=\"sk-toggleable__control sk-hidden--visually\" id=\"sk-estimator-id-3\" type=\"checkbox\" checked><label for=\"sk-estimator-id-3\" class=\"sk-toggleable__label sk-toggleable__label-arrow\">RandomForestRegressor</label><div class=\"sk-toggleable__content\"><pre>RandomForestRegressor()</pre></div></div></div></div></div>"
      ],
      "text/plain": [
       "RandomForestRegressor()"
      ]
     },
     "execution_count": 30,
     "metadata": {},
     "output_type": "execute_result"
    }
   ],
   "source": [
    "model2.fit(xtra,ytra)\n"
   ]
  },
  {
   "cell_type": "code",
   "execution_count": 31,
   "id": "0d4c00cb",
   "metadata": {
    "execution": {
     "iopub.execute_input": "2024-01-29T12:42:49.570528Z",
     "iopub.status.busy": "2024-01-29T12:42:49.570130Z",
     "iopub.status.idle": "2024-01-29T12:42:49.587009Z",
     "shell.execute_reply": "2024-01-29T12:42:49.586142Z"
    },
    "id": "OeAyk9Zp3TPl",
    "papermill": {
     "duration": 0.04285,
     "end_time": "2024-01-29T12:42:49.589625",
     "exception": false,
     "start_time": "2024-01-29T12:42:49.546775",
     "status": "completed"
    },
    "tags": []
   },
   "outputs": [],
   "source": [
    "ypred2=model2.predict(xtest)"
   ]
  },
  {
   "cell_type": "code",
   "execution_count": 32,
   "id": "a4fcfef4",
   "metadata": {
    "execution": {
     "iopub.execute_input": "2024-01-29T12:42:49.629306Z",
     "iopub.status.busy": "2024-01-29T12:42:49.628514Z",
     "iopub.status.idle": "2024-01-29T12:42:55.031254Z",
     "shell.execute_reply": "2024-01-29T12:42:55.029931Z"
    },
    "id": "c47CGzYL3ZwT",
    "papermill": {
     "duration": 5.425773,
     "end_time": "2024-01-29T12:42:55.034181",
     "exception": false,
     "start_time": "2024-01-29T12:42:49.608408",
     "status": "completed"
    },
    "tags": []
   },
   "outputs": [],
   "source": [
    "nonpolyrandcross=cross_val_score(model2,xval,target).mean()"
   ]
  },
  {
   "cell_type": "code",
   "execution_count": 33,
   "id": "868d9412",
   "metadata": {
    "execution": {
     "iopub.execute_input": "2024-01-29T12:42:55.074777Z",
     "iopub.status.busy": "2024-01-29T12:42:55.073488Z",
     "iopub.status.idle": "2024-01-29T12:42:55.081936Z",
     "shell.execute_reply": "2024-01-29T12:42:55.080229Z"
    },
    "id": "UMtfgz-A4aPD",
    "papermill": {
     "duration": 0.03197,
     "end_time": "2024-01-29T12:42:55.085080",
     "exception": false,
     "start_time": "2024-01-29T12:42:55.053110",
     "status": "completed"
    },
    "tags": []
   },
   "outputs": [],
   "source": [
    "nonpolyrand=r2_score(ytest,ypred2)"
   ]
  },
  {
   "cell_type": "code",
   "execution_count": 34,
   "id": "b767d7cd",
   "metadata": {
    "execution": {
     "iopub.execute_input": "2024-01-29T12:42:55.145269Z",
     "iopub.status.busy": "2024-01-29T12:42:55.143726Z",
     "iopub.status.idle": "2024-01-29T12:42:55.557040Z",
     "shell.execute_reply": "2024-01-29T12:42:55.555545Z"
    },
    "id": "rhh1LXtt3mPB",
    "papermill": {
     "duration": 0.446601,
     "end_time": "2024-01-29T12:42:55.560096",
     "exception": false,
     "start_time": "2024-01-29T12:42:55.113495",
     "status": "completed"
    },
    "tags": []
   },
   "outputs": [],
   "source": [
    "model2.fit(xtra1,ytra1)\n",
    "ypred22=model2.predict(xtest1)"
   ]
  },
  {
   "cell_type": "code",
   "execution_count": 35,
   "id": "1b4f6bea",
   "metadata": {
    "execution": {
     "iopub.execute_input": "2024-01-29T12:42:55.600232Z",
     "iopub.status.busy": "2024-01-29T12:42:55.599044Z",
     "iopub.status.idle": "2024-01-29T12:42:57.650075Z",
     "shell.execute_reply": "2024-01-29T12:42:57.649079Z"
    },
    "id": "Wiyi46J335RX",
    "papermill": {
     "duration": 2.074298,
     "end_time": "2024-01-29T12:42:57.653295",
     "exception": false,
     "start_time": "2024-01-29T12:42:55.578997",
     "status": "completed"
    },
    "tags": []
   },
   "outputs": [],
   "source": [
    "polyrandcross=cross_val_score(model2,x,target).mean()"
   ]
  },
  {
   "cell_type": "code",
   "execution_count": 36,
   "id": "726a9406",
   "metadata": {
    "execution": {
     "iopub.execute_input": "2024-01-29T12:42:57.694694Z",
     "iopub.status.busy": "2024-01-29T12:42:57.693810Z",
     "iopub.status.idle": "2024-01-29T12:42:57.699656Z",
     "shell.execute_reply": "2024-01-29T12:42:57.698598Z"
    },
    "id": "FGsG0cKH4Qz9",
    "papermill": {
     "duration": 0.029626,
     "end_time": "2024-01-29T12:42:57.702159",
     "exception": false,
     "start_time": "2024-01-29T12:42:57.672533",
     "status": "completed"
    },
    "tags": []
   },
   "outputs": [],
   "source": [
    "polyrand=r2_score(ytest1,ypred22)"
   ]
  },
  {
   "cell_type": "markdown",
   "id": "cdce2788",
   "metadata": {
    "execution": {
     "iopub.execute_input": "2024-01-14T05:27:23.173350Z",
     "iopub.status.busy": "2024-01-14T05:27:23.172394Z",
     "iopub.status.idle": "2024-01-14T05:27:23.178271Z",
     "shell.execute_reply": "2024-01-14T05:27:23.177128Z",
     "shell.execute_reply.started": "2024-01-14T05:27:23.173314Z"
    },
    "id": "-VRnr8Wg4YOW",
    "papermill": {
     "duration": 0.018792,
     "end_time": "2024-01-29T12:42:57.741248",
     "exception": false,
     "start_time": "2024-01-29T12:42:57.722456",
     "status": "completed"
    },
    "tags": []
   },
   "source": [
    "# <p style=\"font-family:JetBrains Mono; font-weight:bold; letter-spacing: 2px; color:#4F200D; font-size:140%; text-align:center;padding: 0px; border-bottom: 3px solid #4F200D\">Results</p>"
   ]
  },
  {
   "cell_type": "code",
   "execution_count": 37,
   "id": "3fd1f17d",
   "metadata": {
    "execution": {
     "iopub.execute_input": "2024-01-29T12:42:57.781348Z",
     "iopub.status.busy": "2024-01-29T12:42:57.780803Z",
     "iopub.status.idle": "2024-01-29T12:42:57.798122Z",
     "shell.execute_reply": "2024-01-29T12:42:57.797005Z"
    },
    "id": "QKwTB5LJ5j9P",
    "papermill": {
     "duration": 0.040719,
     "end_time": "2024-01-29T12:42:57.801025",
     "exception": false,
     "start_time": "2024-01-29T12:42:57.760306",
     "status": "completed"
    },
    "tags": []
   },
   "outputs": [
    {
     "data": {
      "text/html": [
       "<div>\n",
       "<style scoped>\n",
       "    .dataframe tbody tr th:only-of-type {\n",
       "        vertical-align: middle;\n",
       "    }\n",
       "\n",
       "    .dataframe tbody tr th {\n",
       "        vertical-align: top;\n",
       "    }\n",
       "\n",
       "    .dataframe thead th {\n",
       "        text-align: right;\n",
       "    }\n",
       "</style>\n",
       "<table border=\"1\" class=\"dataframe\">\n",
       "  <thead>\n",
       "    <tr style=\"text-align: right;\">\n",
       "      <th></th>\n",
       "      <th>Non-Polynomial-Cross_val_score</th>\n",
       "      <th>Polynomial-Cross_val_score</th>\n",
       "      <th>Non-Polynomial-r2_score</th>\n",
       "      <th>Polynomial-r2_score</th>\n",
       "    </tr>\n",
       "    <tr>\n",
       "      <th>Category</th>\n",
       "      <th></th>\n",
       "      <th></th>\n",
       "      <th></th>\n",
       "      <th></th>\n",
       "    </tr>\n",
       "  </thead>\n",
       "  <tbody>\n",
       "    <tr>\n",
       "      <th>Linear_Regression</th>\n",
       "      <td>0.695738</td>\n",
       "      <td>0.747129</td>\n",
       "      <td>0.836756</td>\n",
       "      <td>0.850248</td>\n",
       "    </tr>\n",
       "    <tr>\n",
       "      <th>Random_Forest</th>\n",
       "      <td>0.835473</td>\n",
       "      <td>0.832331</td>\n",
       "      <td>0.729866</td>\n",
       "      <td>0.832331</td>\n",
       "    </tr>\n",
       "  </tbody>\n",
       "</table>\n",
       "</div>"
      ],
      "text/plain": [
       "                   Non-Polynomial-Cross_val_score  Polynomial-Cross_val_score  \\\n",
       "Category                                                                        \n",
       "Linear_Regression                        0.695738                    0.747129   \n",
       "Random_Forest                            0.835473                    0.832331   \n",
       "\n",
       "                   Non-Polynomial-r2_score  Polynomial-r2_score  \n",
       "Category                                                         \n",
       "Linear_Regression                 0.836756             0.850248  \n",
       "Random_Forest                     0.729866             0.832331  "
      ]
     },
     "execution_count": 37,
     "metadata": {},
     "output_type": "execute_result"
    }
   ],
   "source": [
    "labels=['Non-Polynomial-Cross_val_score','Polynomial-Cross_val_score']\n",
    "lval=[nonpolycross,nonpolyrandcross,polycross,polyrand]\n",
    "labels1=['Non-Polynomial-r2_score','Polynomial-r2_score']\n",
    "l1val=[nonpoly,poly,nonpolyrand,polyrand]\n",
    "cat=['Linear_Regression','Random_Forest']\n",
    "table=pd.DataFrame({labels[0]:lval[:2],labels[1]:lval[2:],labels1[0]:l1val[:2],labels1[1]:l1val[2:],\"Category\":cat})\n",
    "table.set_index('Category')"
   ]
  },
  {
   "cell_type": "markdown",
   "id": "453fb6f4",
   "metadata": {
    "papermill": {
     "duration": 0.018395,
     "end_time": "2024-01-29T12:42:57.838842",
     "exception": false,
     "start_time": "2024-01-29T12:42:57.820447",
     "status": "completed"
    },
    "tags": []
   },
   "source": [
    "<div style=\"border-bottom: 3px solid #3498db; text-align: center; padding: 10px;\">\n",
    "    <p style=\"font-family: 'JetBrains Mono', monospace; font-weight: bold; letter-spacing: 2px; color: #e67e22; font-size: 140%; margin: 0;\">Linear Regression Result</p>\n",
    "</div>\n"
   ]
  },
  {
   "cell_type": "code",
   "execution_count": 38,
   "id": "18b3ee04",
   "metadata": {
    "execution": {
     "iopub.execute_input": "2024-01-29T12:42:57.878817Z",
     "iopub.status.busy": "2024-01-29T12:42:57.878011Z",
     "iopub.status.idle": "2024-01-29T12:42:57.886938Z",
     "shell.execute_reply": "2024-01-29T12:42:57.885915Z"
    },
    "id": "atbyJHD979U0",
    "outputId": "54ef9529-de67-49b8-8ccc-220380c7b406",
    "papermill": {
     "duration": 0.031501,
     "end_time": "2024-01-29T12:42:57.889275",
     "exception": false,
     "start_time": "2024-01-29T12:42:57.857774",
     "status": "completed"
    },
    "tags": []
   },
   "outputs": [
    {
     "data": {
      "text/plain": [
       "Non-Polynomial-Cross_val_score             0.695738\n",
       "Polynomial-Cross_val_score                 0.747129\n",
       "Non-Polynomial-r2_score                    0.836756\n",
       "Polynomial-r2_score                        0.850248\n",
       "Category                          Linear_Regression\n",
       "Name: 0, dtype: object"
      ]
     },
     "execution_count": 38,
     "metadata": {},
     "output_type": "execute_result"
    }
   ],
   "source": [
    "table.iloc[0]"
   ]
  },
  {
   "cell_type": "markdown",
   "id": "34ae49a2",
   "metadata": {
    "papermill": {
     "duration": 0.0189,
     "end_time": "2024-01-29T12:42:57.926942",
     "exception": false,
     "start_time": "2024-01-29T12:42:57.908042",
     "status": "completed"
    },
    "tags": []
   },
   "source": [
    "<div style=\"border-bottom: 3px solid #3498db; text-align: center; padding: 10px;\">\n",
    "    <p style=\"font-family: 'JetBrains Mono', monospace; font-weight: bold; letter-spacing: 2px; color: #e67e22; font-size: 140%; margin: 0;\">Random Forest Regressor Result</p>\n",
    "</div>\n"
   ]
  },
  {
   "cell_type": "code",
   "execution_count": 39,
   "id": "ea327fd8",
   "metadata": {
    "execution": {
     "iopub.execute_input": "2024-01-29T12:42:57.966994Z",
     "iopub.status.busy": "2024-01-29T12:42:57.966221Z",
     "iopub.status.idle": "2024-01-29T12:42:57.974549Z",
     "shell.execute_reply": "2024-01-29T12:42:57.973510Z"
    },
    "id": "E1mydtQ-8Ndp",
    "outputId": "fa8fb73f-5327-4b7f-d6e2-463ef13cc7ba",
    "papermill": {
     "duration": 0.030771,
     "end_time": "2024-01-29T12:42:57.976812",
     "exception": false,
     "start_time": "2024-01-29T12:42:57.946041",
     "status": "completed"
    },
    "tags": []
   },
   "outputs": [
    {
     "data": {
      "text/plain": [
       "Non-Polynomial-Cross_val_score         0.835473\n",
       "Polynomial-Cross_val_score             0.832331\n",
       "Non-Polynomial-r2_score                0.729866\n",
       "Polynomial-r2_score                    0.832331\n",
       "Category                          Random_Forest\n",
       "Name: 1, dtype: object"
      ]
     },
     "execution_count": 39,
     "metadata": {},
     "output_type": "execute_result"
    }
   ],
   "source": [
    "table.iloc[1]"
   ]
  },
  {
   "cell_type": "markdown",
   "id": "895ad51d",
   "metadata": {
    "id": "1nyTMqIP8lOZ",
    "papermill": {
     "duration": 0.019992,
     "end_time": "2024-01-29T12:42:58.015654",
     "exception": false,
     "start_time": "2024-01-29T12:42:57.995662",
     "status": "completed"
    },
    "tags": []
   },
   "source": [
    "<div style=\"border-radius: 10px; border: rgb(41, 128, 185) solid; padding: 15px; background-color: rgb(52, 73, 94); font-size: 100%; text-align: left; color: #ecf0f1; box-shadow: 0 0 15px rgba(41, 128, 185, 0.7);\">\n",
    "    <ul style=\"margin: 0; padding-left: 20px; list-style-type: square;\">\n",
    "        <li><strong>Polynomial Cross Validation Score of Random Forest Regression is Robust</strong></li>\n",
    "    </ul>\n",
    "</div>\n"
   ]
  },
  {
   "cell_type": "markdown",
   "id": "a9ac548f",
   "metadata": {
    "id": "K0WOwGVO8TgL",
    "papermill": {
     "duration": 0.018691,
     "end_time": "2024-01-29T12:42:58.054333",
     "exception": false,
     "start_time": "2024-01-29T12:42:58.035642",
     "status": "completed"
    },
    "tags": []
   },
   "source": [
    "<div style=\"border-radius: 10px; border: 2px solid #e5e4e2; padding: 15px; background-color: #333; font-size: 120%; text-align: center; color: #E5E4E2; box-shadow: 0 0 15px rgba(229, 228, 226, 0.7);\">\n",
    "    <p style=\"margin: 0; font-weight: bold; font-size: 150%; color: #E5E4E2;\">Thank You</p>\n",
    "    <p style=\"margin: 10px 0 20px;color: #E5E4E2\">Wishing you a day filled with elegance and positivity!</p>\n",
    "    <p style=\"margin: 0;color: #E5E4E2\">Discover the sophisticated content we have prepared for you.</p>\n",
    "</div>\n"
   ]
  }
 ],
 "metadata": {
  "colab": {
   "provenance": []
  },
  "kaggle": {
   "accelerator": "none",
   "dataSources": [
    {
     "datasetId": 13720,
     "sourceId": 18513,
     "sourceType": "datasetVersion"
    }
   ],
   "dockerImageVersionId": 30587,
   "isGpuEnabled": false,
   "isInternetEnabled": true,
   "language": "python",
   "sourceType": "notebook"
  },
  "kernelspec": {
   "display_name": "Python 3",
   "language": "python",
   "name": "python3"
  },
  "language_info": {
   "codemirror_mode": {
    "name": "ipython",
    "version": 3
   },
   "file_extension": ".py",
   "mimetype": "text/x-python",
   "name": "python",
   "nbconvert_exporter": "python",
   "pygments_lexer": "ipython3",
   "version": "3.10.12"
  },
  "papermill": {
   "default_parameters": {},
   "duration": 20.435753,
   "end_time": "2024-01-29T12:42:58.795854",
   "environment_variables": {},
   "exception": null,
   "input_path": "__notebook__.ipynb",
   "output_path": "__notebook__.ipynb",
   "parameters": {},
   "start_time": "2024-01-29T12:42:38.360101",
   "version": "2.4.0"
  }
 },
 "nbformat": 4,
 "nbformat_minor": 5
}

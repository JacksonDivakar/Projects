{
 "cells": [
  {
   "cell_type": "markdown",
   "id": "1c03f2d3",
   "metadata": {
    "papermill": {
     "duration": 0.003314,
     "end_time": "2024-02-16T15:12:28.581879",
     "exception": false,
     "start_time": "2024-02-16T15:12:28.578565",
     "status": "completed"
    },
    "tags": []
   },
   "source": [
    "<div style=\"background-color: #000; padding: 10px; text-align: center; border-radius: 5px; box-shadow: 0 0 10px rgba(255, 255, 255, 0.7);\">\n",
    "    <p style=\"font-family: 'JetBrains Mono', monospace; font-weight: bold; letter-spacing: 2px; color: #fff; font-size: 140%; text-shadow: 0 0 10px rgba(255, 255, 255, 0.7);\">Importing Modules and Libraries</p>\n",
    "</div>\n"
   ]
  },
  {
   "cell_type": "code",
   "execution_count": 1,
   "id": "0bb34a62",
   "metadata": {
    "execution": {
     "iopub.execute_input": "2024-02-16T15:12:28.590312Z",
     "iopub.status.busy": "2024-02-16T15:12:28.589679Z",
     "iopub.status.idle": "2024-02-16T15:12:29.825692Z",
     "shell.execute_reply": "2024-02-16T15:12:29.824607Z"
    },
    "papermill": {
     "duration": 1.243842,
     "end_time": "2024-02-16T15:12:29.828921",
     "exception": false,
     "start_time": "2024-02-16T15:12:28.585079",
     "status": "completed"
    },
    "tags": []
   },
   "outputs": [],
   "source": [
    "import pandas as pd\n",
    "data=pd.read_csv('/kaggle/input/house-price-prediction-dataset/csvdata.csv')\n",
    "target='Price'"
   ]
  },
  {
   "cell_type": "markdown",
   "id": "35e2acb1",
   "metadata": {
    "papermill": {
     "duration": 0.002679,
     "end_time": "2024-02-16T15:12:29.834878",
     "exception": false,
     "start_time": "2024-02-16T15:12:29.832199",
     "status": "completed"
    },
    "tags": []
   },
   "source": [
    "<div style=\"background-color: #000; padding: 10px; text-align: center; border-radius: 5px; box-shadow: 0 0 10px rgba(255, 255, 255, 0.7);\">\n",
    "    <p style=\"font-family: 'JetBrains Mono', monospace; font-weight: bold; letter-spacing: 2px; color: #fff; font-size: 140%; text-shadow: 0 0 10px rgba(255, 255, 255, 0.7);\">Class Concepts with Data Concepts</p>\n",
    "</div>\n"
   ]
  },
  {
   "cell_type": "code",
   "execution_count": 2,
   "id": "9fdb0745",
   "metadata": {
    "execution": {
     "iopub.execute_input": "2024-02-16T15:12:29.843321Z",
     "iopub.status.busy": "2024-02-16T15:12:29.842282Z",
     "iopub.status.idle": "2024-02-16T15:12:29.855256Z",
     "shell.execute_reply": "2024-02-16T15:12:29.854302Z"
    },
    "papermill": {
     "duration": 0.019872,
     "end_time": "2024-02-16T15:12:29.857641",
     "exception": false,
     "start_time": "2024-02-16T15:12:29.837769",
     "status": "completed"
    },
    "tags": []
   },
   "outputs": [
    {
     "data": {
      "text/plain": [
       "\"import pandas as pd\\nimport seaborn as sb\\nimport numpy as np\\nimport matplotlib.pyplot as plt\\nfrom sklearn.feature_selection import f_regression\\nfrom sklearn.metrics import classification_report,r2_score,mean_squared_error,mean_absolute_error\\nfrom sklearn.model_selection import cross_val_score,train_test_split\\nfrom sklearn.preprocessing import StandardScaler\\nfrom sklearn.compose import make_column_selector\\nfrom matplotlib import cm\\nsb.set()\\nclass Data():\\n    def __init__(self,data,target_name):\\n        self.data=data\\n        self.target=target_name\\n        self.x=data.drop(self.target,axis=1)\\n        self.y=data[self.target]\\n    def info(self):\\n        print(self.data.info())\\n    def duplicates(self):\\n        print('Duplicates Info : ')\\n        print(self.data.duplicated().sum())\\n    def numeric(self):\\n        selector=make_column_selector(dtype_include=['number'])\\n        return selector(data)\\n    \\n    def pvalue(self):\\n        x=self.numeric()\\n        pval=f_regression(data[x],self.y)[1]\\n        return pval\\n    def heatmap(self):\\n        x=self.numeric()\\n        sb.heatmap(data[x].corr(),annot=True,cmap='mako')\\n        plt.show()\\n    def drop_d(self):\\n        self.data.drop_duplicates(inplace=True)\\n    def scatterplots(self):\\n        c1=cm.get_cmap('Set1')\\n        numbers=[i for i in np.arange(0,1,0.1)]\\n        newdata=data.drop(target,axis=1)\\n        count=9\\n        for i in newdata:\\n            sb.scatterplot(y=data[target],x=newdata[i],color=c1(numbers[count]))\\n            count=count%9\\n            count+=1\\n            plt.show()\\n        \\n    def draw_lines(self):\\n        print('-'*100)\\n\\n    \\nwhile True:\\n    D1=Data(data,target)\\n    n=int(input('1)Dataset Info\\n2)Duplicates Check\\n3)Drop Duplicates\\n4)P value Check\\n5)Correlation Heatmap\\n6)Scatterplots\\n0)Exit\\nEnter your input :\\t'))\\n    if n==1:\\n        D1.draw_lines()\\n        D1.info()\\n        D1.draw_lines()\\n    elif n==2:\\n        D1.draw_lines()\\n        D1.duplicates()\\n        D1.draw_lines()\\n    elif n==3:\\n        D1.draw_lines()\\n        D1.drop_d()\\n        print('Duplicates Dropped Successfully')\\n        D1.draw_lines()\\n    elif n==4:\\n        D1.draw_lines()\\n        value=D1.pvalue()\\n        print('P-Values:',value,'\\nNote: Only Numerical values are included')\\n        D1.draw_lines()\\n    elif n==5:\\n        D1.draw_lines()\\n        D1.heatmap()\\n        print('P-Values:',value,'\\nNote: Only Numerical values are included')\\n        D1.draw_lines()\\n    elif n==6:\\n        D1.draw_lines()\\n        D1.scatterplots()\\n        print('P-Values:',value,'\\nNote: Only Numerical values are included')\\n        D1.draw_lines()\\n        \\n    elif n==0:\\n        break\\n    else:\\n        print('Enter the correct input.')\\n        D1.draw_lines()\\n        \""
      ]
     },
     "execution_count": 2,
     "metadata": {},
     "output_type": "execute_result"
    }
   ],
   "source": [
    "\"\"\"import pandas as pd\n",
    "import seaborn as sb\n",
    "import numpy as np\n",
    "import matplotlib.pyplot as plt\n",
    "from sklearn.feature_selection import f_regression\n",
    "from sklearn.metrics import classification_report,r2_score,mean_squared_error,mean_absolute_error\n",
    "from sklearn.model_selection import cross_val_score,train_test_split\n",
    "from sklearn.preprocessing import StandardScaler\n",
    "from sklearn.compose import make_column_selector\n",
    "from matplotlib import cm\n",
    "sb.set()\n",
    "class Data():\n",
    "    def __init__(self,data,target_name):\n",
    "        self.data=data\n",
    "        self.target=target_name\n",
    "        self.x=data.drop(self.target,axis=1)\n",
    "        self.y=data[self.target]\n",
    "    def info(self):\n",
    "        print(self.data.info())\n",
    "    def duplicates(self):\n",
    "        print('Duplicates Info : ')\n",
    "        print(self.data.duplicated().sum())\n",
    "    def numeric(self):\n",
    "        selector=make_column_selector(dtype_include=['number'])\n",
    "        return selector(data)\n",
    "    \n",
    "    def pvalue(self):\n",
    "        x=self.numeric()\n",
    "        pval=f_regression(data[x],self.y)[1]\n",
    "        return pval\n",
    "    def heatmap(self):\n",
    "        x=self.numeric()\n",
    "        sb.heatmap(data[x].corr(),annot=True,cmap='mako')\n",
    "        plt.show()\n",
    "    def drop_d(self):\n",
    "        self.data.drop_duplicates(inplace=True)\n",
    "    def scatterplots(self):\n",
    "        c1=cm.get_cmap('Set1')\n",
    "        numbers=[i for i in np.arange(0,1,0.1)]\n",
    "        newdata=data.drop(target,axis=1)\n",
    "        count=9\n",
    "        for i in newdata:\n",
    "            sb.scatterplot(y=data[target],x=newdata[i],color=c1(numbers[count]))\n",
    "            count=count%9\n",
    "            count+=1\n",
    "            plt.show()\n",
    "        \n",
    "    def draw_lines(self):\n",
    "        print('-'*100)\n",
    "\n",
    "    \n",
    "while True:\n",
    "    D1=Data(data,target)\n",
    "    n=int(input('1)Dataset Info\\n2)Duplicates Check\\n3)Drop Duplicates\\n4)P value Check\\n5)Correlation Heatmap\\n6)Scatterplots\\n0)Exit\\nEnter your input :\\t'))\n",
    "    if n==1:\n",
    "        D1.draw_lines()\n",
    "        D1.info()\n",
    "        D1.draw_lines()\n",
    "    elif n==2:\n",
    "        D1.draw_lines()\n",
    "        D1.duplicates()\n",
    "        D1.draw_lines()\n",
    "    elif n==3:\n",
    "        D1.draw_lines()\n",
    "        D1.drop_d()\n",
    "        print('Duplicates Dropped Successfully')\n",
    "        D1.draw_lines()\n",
    "    elif n==4:\n",
    "        D1.draw_lines()\n",
    "        value=D1.pvalue()\n",
    "        print('P-Values:',value,'\\nNote: Only Numerical values are included')\n",
    "        D1.draw_lines()\n",
    "    elif n==5:\n",
    "        D1.draw_lines()\n",
    "        D1.heatmap()\n",
    "        print('P-Values:',value,'\\nNote: Only Numerical values are included')\n",
    "        D1.draw_lines()\n",
    "    elif n==6:\n",
    "        D1.draw_lines()\n",
    "        D1.scatterplots()\n",
    "        print('P-Values:',value,'\\nNote: Only Numerical values are included')\n",
    "        D1.draw_lines()\n",
    "        \n",
    "    elif n==0:\n",
    "        break\n",
    "    else:\n",
    "        print('Enter the correct input.')\n",
    "        D1.draw_lines()\n",
    "        \"\"\""
   ]
  },
  {
   "cell_type": "code",
   "execution_count": null,
   "id": "4ff046b1",
   "metadata": {
    "papermill": {
     "duration": 0.002778,
     "end_time": "2024-02-16T15:12:29.863847",
     "exception": false,
     "start_time": "2024-02-16T15:12:29.861069",
     "status": "completed"
    },
    "tags": []
   },
   "outputs": [],
   "source": []
  }
 ],
 "metadata": {
  "kaggle": {
   "accelerator": "none",
   "dataSources": [
    {
     "datasetId": 4351937,
     "sourceId": 7476258,
     "sourceType": "datasetVersion"
    }
   ],
   "dockerImageVersionId": 30646,
   "isGpuEnabled": false,
   "isInternetEnabled": true,
   "language": "python",
   "sourceType": "notebook"
  },
  "kernelspec": {
   "display_name": "Python 3",
   "language": "python",
   "name": "python3"
  },
  "language_info": {
   "codemirror_mode": {
    "name": "ipython",
    "version": 3
   },
   "file_extension": ".py",
   "mimetype": "text/x-python",
   "name": "python",
   "nbconvert_exporter": "python",
   "pygments_lexer": "ipython3",
   "version": "3.10.13"
  },
  "papermill": {
   "default_parameters": {},
   "duration": 5.099627,
   "end_time": "2024-02-16T15:12:30.388850",
   "environment_variables": {},
   "exception": null,
   "input_path": "__notebook__.ipynb",
   "output_path": "__notebook__.ipynb",
   "parameters": {},
   "start_time": "2024-02-16T15:12:25.289223",
   "version": "2.5.0"
  }
 },
 "nbformat": 4,
 "nbformat_minor": 5
}

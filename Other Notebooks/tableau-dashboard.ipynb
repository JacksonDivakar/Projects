{
 "cells": [
  {
   "cell_type": "markdown",
   "id": "6e18f6e7",
   "metadata": {
    "papermill": {
     "duration": 0.003346,
     "end_time": "2024-01-11T17:44:11.270959",
     "exception": false,
     "start_time": "2024-01-11T17:44:11.267613",
     "status": "completed"
    },
    "tags": []
   },
   "source": [
    "<div style=\"background-color: #000; padding: 10px; text-align: center; border-radius: 5px; box-shadow: 0 0 10px rgba(255, 255, 255, 0.7);\">\n",
    "    <p style=\"font-family: 'JetBrains Mono', monospace; font-weight: bold; letter-spacing: 2px; color: #fff; font-size: 140%; text-shadow: 0 0 10px rgba(255, 255, 255, 0.7);\">Visualizing Tableau Dashboard</p>\n",
    "</div>\n"
   ]
  },
  {
   "cell_type": "markdown",
   "id": "98595e6e",
   "metadata": {
    "papermill": {
     "duration": 0.002368,
     "end_time": "2024-01-11T17:44:11.276196",
     "exception": false,
     "start_time": "2024-01-11T17:44:11.273828",
     "status": "completed"
    },
    "tags": []
   },
   "source": [
    "<div style=\"border-radius: 10px; border: 2px solid #FFD700; padding: 15px; background-color: #000; font-size: 120%; text-align: left; color: #FFD700; box-shadow: 0 0 15px rgba(255, 215, 0, 0.7);\">\n",
    "    <h2 style=\"font-weight: bold; font-size: 150%; color: #FFD700; margin-bottom: 10px;\">Tableau Dashboards</h2>\n",
    "    <p class=\"quote\" style=\"font-style: italic; color: #FFD700; margin: 0 0 20px;\">\"Tableau dashboards are a dynamic and visual way to explore and analyze data.\"</p>\n",
    "    <ul style=\"margin: 0; padding-left: 20px; list-style-type: square;\">\n",
    "        <li>Tableau dashboards integrate various visualizations like charts, graphs, and maps.</li>\n",
    "        <li>They offer interactivity, enabling users to explore and focus on specific data aspects.</li>\n",
    "        <li>Data integration allows seamless connection to multiple sources for comprehensive insights.</li>\n",
    "        <li>Designed with a user-friendly interface, Tableau dashboards cater to both technical and non-technical users.</li>\n",
    "        <li>Real-time updates and sharing features make Tableau dashboards a collaborative tool for data analysis.</li>\n",
    "    </ul>\n",
    "</div>\n"
   ]
  },
  {
   "cell_type": "code",
   "execution_count": 1,
   "id": "ead7560d",
   "metadata": {
    "execution": {
     "iopub.execute_input": "2024-01-11T17:44:11.284309Z",
     "iopub.status.busy": "2024-01-11T17:44:11.283386Z",
     "iopub.status.idle": "2024-01-11T17:44:11.301899Z",
     "shell.execute_reply": "2024-01-11T17:44:11.300784Z"
    },
    "papermill": {
     "duration": 0.026013,
     "end_time": "2024-01-11T17:44:11.304913",
     "exception": false,
     "start_time": "2024-01-11T17:44:11.278900",
     "status": "completed"
    },
    "tags": []
   },
   "outputs": [
    {
     "data": {
      "text/html": [
       "<div class='tableauPlaceholder' id='viz1704984027804' style='position: relative'><noscript><a href='#'><img alt='Product Shopping Dashboard ' src='https:&#47;&#47;public.tableau.com&#47;static&#47;images&#47;Pr&#47;ProductShoppingDashboard&#47;Dashboard1&#47;1_rss.png' style='border: none' /></a></noscript><object class='tableauViz'  style='display:none;'><param name='host_url' value='https%3A%2F%2Fpublic.tableau.com%2F' /> <param name='embed_code_version' value='3' /> <param name='site_root' value='' /><param name='name' value='ProductShoppingDashboard&#47;Dashboard1' /><param name='tabs' value='no' /><param name='toolbar' value='yes' /><param name='static_image' value='https:&#47;&#47;public.tableau.com&#47;static&#47;images&#47;Pr&#47;ProductShoppingDashboard&#47;Dashboard1&#47;1.png' /> <param name='animate_transition' value='yes' /><param name='display_static_image' value='yes' /><param name='display_spinner' value='yes' /><param name='display_overlay' value='yes' /><param name='display_count' value='yes' /><param name='language' value='en-US' /></object></div>                <script type='text/javascript'>                    var divElement = document.getElementById('viz1704984027804');                    var vizElement = divElement.getElementsByTagName('object')[0];                    if ( divElement.offsetWidth > 800 ) { vizElement.style.width='1000px';vizElement.style.height='827px';} else if ( divElement.offsetWidth > 500 ) { vizElement.style.width='1000px';vizElement.style.height='827px';} else { vizElement.style.width='100%';vizElement.style.height='1377px';}                     var scriptElement = document.createElement('script');                    scriptElement.src = 'https://public.tableau.com/javascripts/api/viz_v1.js';                    vizElement.parentNode.insertBefore(scriptElement, vizElement);                </script>\n"
      ],
      "text/plain": [
       "<IPython.core.display.HTML object>"
      ]
     },
     "metadata": {},
     "output_type": "display_data"
    }
   ],
   "source": [
    "%%HTML\n",
    "<div class='tableauPlaceholder' id='viz1704984027804' style='position: relative'><noscript><a href='#'><img alt='Product Shopping Dashboard ' src='https:&#47;&#47;public.tableau.com&#47;static&#47;images&#47;Pr&#47;ProductShoppingDashboard&#47;Dashboard1&#47;1_rss.png' style='border: none' /></a></noscript><object class='tableauViz'  style='display:none;'><param name='host_url' value='https%3A%2F%2Fpublic.tableau.com%2F' /> <param name='embed_code_version' value='3' /> <param name='site_root' value='' /><param name='name' value='ProductShoppingDashboard&#47;Dashboard1' /><param name='tabs' value='no' /><param name='toolbar' value='yes' /><param name='static_image' value='https:&#47;&#47;public.tableau.com&#47;static&#47;images&#47;Pr&#47;ProductShoppingDashboard&#47;Dashboard1&#47;1.png' /> <param name='animate_transition' value='yes' /><param name='display_static_image' value='yes' /><param name='display_spinner' value='yes' /><param name='display_overlay' value='yes' /><param name='display_count' value='yes' /><param name='language' value='en-US' /></object></div>                <script type='text/javascript'>                    var divElement = document.getElementById('viz1704984027804');                    var vizElement = divElement.getElementsByTagName('object')[0];                    if ( divElement.offsetWidth > 800 ) { vizElement.style.width='1000px';vizElement.style.height='827px';} else if ( divElement.offsetWidth > 500 ) { vizElement.style.width='1000px';vizElement.style.height='827px';} else { vizElement.style.width='100%';vizElement.style.height='1377px';}                     var scriptElement = document.createElement('script');                    scriptElement.src = 'https://public.tableau.com/javascripts/api/viz_v1.js';                    vizElement.parentNode.insertBefore(scriptElement, vizElement);                </script>"
   ]
  },
  {
   "cell_type": "markdown",
   "id": "d63048ef",
   "metadata": {
    "papermill": {
     "duration": 0.002791,
     "end_time": "2024-01-11T17:44:11.310954",
     "exception": false,
     "start_time": "2024-01-11T17:44:11.308163",
     "status": "completed"
    },
    "tags": []
   },
   "source": [
    "<div style=\"border-radius: 10px; border: 2px solid #e5e4e2; padding: 15px; background-color: #333; font-size: 120%; text-align: center; color: #E5E4E2; box-shadow: 0 0 15px rgba(229, 228, 226, 0.7);\">\n",
    "    <p style=\"margin: 0; font-weight: bold; font-size: 150%; color: #E5E4E2;\">Thank You!</p>\n",
    "    <p style=\"margin: 10px 0 20px;color: #E5E4E2\">Wishing you a day filled with elegance and positivity!</p>\n",
    "    <p style=\"margin: 0;color: #E5E4E2\">Discover the sophisticated content we have prepared for you.</p>\n",
    "</div>\n"
   ]
  },
  {
   "cell_type": "code",
   "execution_count": null,
   "id": "7ed4722f",
   "metadata": {
    "papermill": {
     "duration": 0.002738,
     "end_time": "2024-01-11T17:44:11.316710",
     "exception": false,
     "start_time": "2024-01-11T17:44:11.313972",
     "status": "completed"
    },
    "tags": []
   },
   "outputs": [],
   "source": []
  }
 ],
 "metadata": {
  "kaggle": {
   "accelerator": "none",
   "dataSources": [
    {
     "datasetId": 3991972,
     "sourceId": 6950831,
     "sourceType": "datasetVersion"
    }
   ],
   "dockerImageVersionId": 30635,
   "isGpuEnabled": false,
   "isInternetEnabled": true,
   "language": "python",
   "sourceType": "notebook"
  },
  "kernelspec": {
   "display_name": "Python 3",
   "language": "python",
   "name": "python3"
  },
  "language_info": {
   "codemirror_mode": {
    "name": "ipython",
    "version": 3
   },
   "file_extension": ".py",
   "mimetype": "text/x-python",
   "name": "python",
   "nbconvert_exporter": "python",
   "pygments_lexer": "ipython3",
   "version": "3.10.12"
  },
  "papermill": {
   "default_parameters": {},
   "duration": 4.500762,
   "end_time": "2024-01-11T17:44:11.942680",
   "environment_variables": {},
   "exception": null,
   "input_path": "__notebook__.ipynb",
   "output_path": "__notebook__.ipynb",
   "parameters": {},
   "start_time": "2024-01-11T17:44:07.441918",
   "version": "2.4.0"
  }
 },
 "nbformat": 4,
 "nbformat_minor": 5
}

{
 "cells": [
  {
   "cell_type": "code",
   "execution_count": 1,
   "id": "accdb69d",
   "metadata": {
    "execution": {
     "iopub.execute_input": "2024-06-18T10:03:55.360862Z",
     "iopub.status.busy": "2024-06-18T10:03:55.360433Z",
     "iopub.status.idle": "2024-06-18T10:04:11.771496Z",
     "shell.execute_reply": "2024-06-18T10:04:11.770309Z"
    },
    "papermill": {
     "duration": 16.456391,
     "end_time": "2024-06-18T10:04:11.774578",
     "exception": false,
     "start_time": "2024-06-18T10:03:55.318187",
     "status": "completed"
    },
    "tags": []
   },
   "outputs": [
    {
     "name": "stderr",
     "output_type": "stream",
     "text": [
      "2024-06-18 10:03:57.719739: E external/local_xla/xla/stream_executor/cuda/cuda_dnn.cc:9261] Unable to register cuDNN factory: Attempting to register factory for plugin cuDNN when one has already been registered\n",
      "2024-06-18 10:03:57.719958: E external/local_xla/xla/stream_executor/cuda/cuda_fft.cc:607] Unable to register cuFFT factory: Attempting to register factory for plugin cuFFT when one has already been registered\n",
      "2024-06-18 10:03:57.891427: E external/local_xla/xla/stream_executor/cuda/cuda_blas.cc:1515] Unable to register cuBLAS factory: Attempting to register factory for plugin cuBLAS when one has already been registered\n"
     ]
    }
   ],
   "source": [
    "import tensorflow as tf\n",
    "import pandas as pd\n",
    "import numpy as np"
   ]
  },
  {
   "cell_type": "markdown",
   "id": "432a955c",
   "metadata": {
    "papermill": {
     "duration": 0.036984,
     "end_time": "2024-06-18T10:04:11.849720",
     "exception": false,
     "start_time": "2024-06-18T10:04:11.812736",
     "status": "completed"
    },
    "tags": []
   },
   "source": [
    "# Tensors"
   ]
  },
  {
   "cell_type": "markdown",
   "id": "9cda0d45",
   "metadata": {
    "papermill": {
     "duration": 0.035951,
     "end_time": "2024-06-18T10:04:11.921842",
     "exception": false,
     "start_time": "2024-06-18T10:04:11.885891",
     "status": "completed"
    },
    "tags": []
   },
   "source": [
    "## constant"
   ]
  },
  {
   "cell_type": "code",
   "execution_count": 2,
   "id": "5e0f73d1",
   "metadata": {
    "execution": {
     "iopub.execute_input": "2024-06-18T10:04:11.997539Z",
     "iopub.status.busy": "2024-06-18T10:04:11.996813Z",
     "iopub.status.idle": "2024-06-18T10:04:12.037444Z",
     "shell.execute_reply": "2024-06-18T10:04:12.036065Z"
    },
    "papermill": {
     "duration": 0.081116,
     "end_time": "2024-06-18T10:04:12.040151",
     "exception": false,
     "start_time": "2024-06-18T10:04:11.959035",
     "status": "completed"
    },
    "tags": []
   },
   "outputs": [
    {
     "data": {
      "text/plain": [
       "<tf.Tensor: shape=(), dtype=bool, numpy=True>"
      ]
     },
     "execution_count": 2,
     "metadata": {},
     "output_type": "execute_result"
    }
   ],
   "source": [
    "tf.constant(True,dtype=bool)"
   ]
  },
  {
   "cell_type": "code",
   "execution_count": 3,
   "id": "223d64e8",
   "metadata": {
    "execution": {
     "iopub.execute_input": "2024-06-18T10:04:12.117685Z",
     "iopub.status.busy": "2024-06-18T10:04:12.117199Z",
     "iopub.status.idle": "2024-06-18T10:04:12.128688Z",
     "shell.execute_reply": "2024-06-18T10:04:12.127303Z"
    },
    "papermill": {
     "duration": 0.052849,
     "end_time": "2024-06-18T10:04:12.131276",
     "exception": false,
     "start_time": "2024-06-18T10:04:12.078427",
     "status": "completed"
    },
    "tags": []
   },
   "outputs": [
    {
     "data": {
      "text/plain": [
       "<tf.Tensor: shape=(4,), dtype=int32, numpy=array([1, 2, 3, 4], dtype=int32)>"
      ]
     },
     "execution_count": 3,
     "metadata": {},
     "output_type": "execute_result"
    }
   ],
   "source": [
    "tf.constant([1,2,3,4])"
   ]
  },
  {
   "cell_type": "code",
   "execution_count": 4,
   "id": "563a9dfd",
   "metadata": {
    "execution": {
     "iopub.execute_input": "2024-06-18T10:04:12.209103Z",
     "iopub.status.busy": "2024-06-18T10:04:12.208687Z",
     "iopub.status.idle": "2024-06-18T10:04:12.220090Z",
     "shell.execute_reply": "2024-06-18T10:04:12.218903Z"
    },
    "papermill": {
     "duration": 0.053255,
     "end_time": "2024-06-18T10:04:12.222793",
     "exception": false,
     "start_time": "2024-06-18T10:04:12.169538",
     "status": "completed"
    },
    "tags": []
   },
   "outputs": [
    {
     "data": {
      "text/plain": [
       "<tf.Tensor: shape=(2, 3), dtype=int64, numpy=\n",
       "array([[1, 2, 3],\n",
       "       [4, 5, 6]])>"
      ]
     },
     "execution_count": 4,
     "metadata": {},
     "output_type": "execute_result"
    }
   ],
   "source": [
    "tf.constant([[1,2,3],[4,5,6]],dtype=tf.int64)"
   ]
  },
  {
   "cell_type": "code",
   "execution_count": 5,
   "id": "d97010b5",
   "metadata": {
    "execution": {
     "iopub.execute_input": "2024-06-18T10:04:12.300186Z",
     "iopub.status.busy": "2024-06-18T10:04:12.299771Z",
     "iopub.status.idle": "2024-06-18T10:04:12.307390Z",
     "shell.execute_reply": "2024-06-18T10:04:12.306176Z"
    },
    "papermill": {
     "duration": 0.049761,
     "end_time": "2024-06-18T10:04:12.310415",
     "exception": false,
     "start_time": "2024-06-18T10:04:12.260654",
     "status": "completed"
    },
    "tags": []
   },
   "outputs": [],
   "source": [
    "arr=tf.constant([[[1.0,2,3],[4,5,6]],[[1,2,3],[5,6,7]]])"
   ]
  },
  {
   "cell_type": "markdown",
   "id": "c6ce0236",
   "metadata": {
    "papermill": {
     "duration": 0.036875,
     "end_time": "2024-06-18T10:04:12.454671",
     "exception": false,
     "start_time": "2024-06-18T10:04:12.417796",
     "status": "completed"
    },
    "tags": []
   },
   "source": [
    "## shape"
   ]
  },
  {
   "cell_type": "code",
   "execution_count": 6,
   "id": "5911dc18",
   "metadata": {
    "execution": {
     "iopub.execute_input": "2024-06-18T10:04:12.530971Z",
     "iopub.status.busy": "2024-06-18T10:04:12.530569Z",
     "iopub.status.idle": "2024-06-18T10:04:12.538209Z",
     "shell.execute_reply": "2024-06-18T10:04:12.536978Z"
    },
    "papermill": {
     "duration": 0.048583,
     "end_time": "2024-06-18T10:04:12.540564",
     "exception": false,
     "start_time": "2024-06-18T10:04:12.491981",
     "status": "completed"
    },
    "tags": []
   },
   "outputs": [
    {
     "data": {
      "text/plain": [
       "TensorShape([2, 2, 3])"
      ]
     },
     "execution_count": 6,
     "metadata": {},
     "output_type": "execute_result"
    }
   ],
   "source": [
    "arr.shape"
   ]
  },
  {
   "cell_type": "markdown",
   "id": "78932ec7",
   "metadata": {
    "papermill": {
     "duration": 0.037752,
     "end_time": "2024-06-18T10:04:12.616455",
     "exception": false,
     "start_time": "2024-06-18T10:04:12.578703",
     "status": "completed"
    },
    "tags": []
   },
   "source": [
    "## ndim"
   ]
  },
  {
   "cell_type": "code",
   "execution_count": 7,
   "id": "90779e69",
   "metadata": {
    "execution": {
     "iopub.execute_input": "2024-06-18T10:04:12.693328Z",
     "iopub.status.busy": "2024-06-18T10:04:12.692868Z",
     "iopub.status.idle": "2024-06-18T10:04:12.701072Z",
     "shell.execute_reply": "2024-06-18T10:04:12.699714Z"
    },
    "papermill": {
     "duration": 0.049906,
     "end_time": "2024-06-18T10:04:12.703904",
     "exception": false,
     "start_time": "2024-06-18T10:04:12.653998",
     "status": "completed"
    },
    "tags": []
   },
   "outputs": [
    {
     "data": {
      "text/plain": [
       "3"
      ]
     },
     "execution_count": 7,
     "metadata": {},
     "output_type": "execute_result"
    }
   ],
   "source": [
    "arr.ndim"
   ]
  },
  {
   "cell_type": "markdown",
   "id": "e29dd37d",
   "metadata": {
    "papermill": {
     "duration": 0.039715,
     "end_time": "2024-06-18T10:04:12.782484",
     "exception": false,
     "start_time": "2024-06-18T10:04:12.742769",
     "status": "completed"
    },
    "tags": []
   },
   "source": [
    "## dtype"
   ]
  },
  {
   "cell_type": "code",
   "execution_count": 8,
   "id": "089818b1",
   "metadata": {
    "execution": {
     "iopub.execute_input": "2024-06-18T10:04:12.861836Z",
     "iopub.status.busy": "2024-06-18T10:04:12.861413Z",
     "iopub.status.idle": "2024-06-18T10:04:12.869174Z",
     "shell.execute_reply": "2024-06-18T10:04:12.868016Z"
    },
    "papermill": {
     "duration": 0.051046,
     "end_time": "2024-06-18T10:04:12.872416",
     "exception": false,
     "start_time": "2024-06-18T10:04:12.821370",
     "status": "completed"
    },
    "tags": []
   },
   "outputs": [
    {
     "data": {
      "text/plain": [
       "tf.float32"
      ]
     },
     "execution_count": 8,
     "metadata": {},
     "output_type": "execute_result"
    }
   ],
   "source": [
    "arr.dtype"
   ]
  },
  {
   "cell_type": "code",
   "execution_count": 9,
   "id": "fdc00261",
   "metadata": {
    "execution": {
     "iopub.execute_input": "2024-06-18T10:04:12.952925Z",
     "iopub.status.busy": "2024-06-18T10:04:12.952483Z",
     "iopub.status.idle": "2024-06-18T10:04:12.962878Z",
     "shell.execute_reply": "2024-06-18T10:04:12.961554Z"
    },
    "papermill": {
     "duration": 0.053737,
     "end_time": "2024-06-18T10:04:12.965605",
     "exception": false,
     "start_time": "2024-06-18T10:04:12.911868",
     "status": "completed"
    },
    "tags": []
   },
   "outputs": [
    {
     "data": {
      "text/plain": [
       "<tf.Tensor: shape=(), dtype=string, numpy=b'Hello World'>"
      ]
     },
     "execution_count": 9,
     "metadata": {},
     "output_type": "execute_result"
    }
   ],
   "source": [
    "tf.constant('Hello World',dtype=tf.string)"
   ]
  },
  {
   "cell_type": "markdown",
   "id": "3cd6434e",
   "metadata": {
    "papermill": {
     "duration": 0.038395,
     "end_time": "2024-06-18T10:04:13.045842",
     "exception": false,
     "start_time": "2024-06-18T10:04:13.007447",
     "status": "completed"
    },
    "tags": []
   },
   "source": [
    "# Casting"
   ]
  },
  {
   "cell_type": "code",
   "execution_count": 10,
   "id": "0375c4c4",
   "metadata": {
    "execution": {
     "iopub.execute_input": "2024-06-18T10:04:13.124210Z",
     "iopub.status.busy": "2024-06-18T10:04:13.123727Z",
     "iopub.status.idle": "2024-06-18T10:04:13.130727Z",
     "shell.execute_reply": "2024-06-18T10:04:13.129238Z"
    },
    "papermill": {
     "duration": 0.049281,
     "end_time": "2024-06-18T10:04:13.133296",
     "exception": false,
     "start_time": "2024-06-18T10:04:13.084015",
     "status": "completed"
    },
    "tags": []
   },
   "outputs": [],
   "source": [
    "arr=tf.constant([[1.09,-2.00,3],[4,5,6]],dtype=tf.float32)"
   ]
  },
  {
   "cell_type": "code",
   "execution_count": 11,
   "id": "58944b93",
   "metadata": {
    "execution": {
     "iopub.execute_input": "2024-06-18T10:04:13.213035Z",
     "iopub.status.busy": "2024-06-18T10:04:13.212524Z",
     "iopub.status.idle": "2024-06-18T10:04:13.221028Z",
     "shell.execute_reply": "2024-06-18T10:04:13.219710Z"
    },
    "papermill": {
     "duration": 0.052001,
     "end_time": "2024-06-18T10:04:13.223516",
     "exception": false,
     "start_time": "2024-06-18T10:04:13.171515",
     "status": "completed"
    },
    "tags": []
   },
   "outputs": [
    {
     "data": {
      "text/plain": [
       "<tf.Tensor: shape=(2, 3), dtype=float32, numpy=\n",
       "array([[ 1.09, -2.  ,  3.  ],\n",
       "       [ 4.  ,  5.  ,  6.  ]], dtype=float32)>"
      ]
     },
     "execution_count": 11,
     "metadata": {},
     "output_type": "execute_result"
    }
   ],
   "source": [
    "arr"
   ]
  },
  {
   "cell_type": "markdown",
   "id": "43f63ae1",
   "metadata": {
    "papermill": {
     "duration": 0.038109,
     "end_time": "2024-06-18T10:04:13.300177",
     "exception": false,
     "start_time": "2024-06-18T10:04:13.262068",
     "status": "completed"
    },
    "tags": []
   },
   "source": [
    "## Cast keyword"
   ]
  },
  {
   "cell_type": "code",
   "execution_count": 12,
   "id": "5959ce42",
   "metadata": {
    "execution": {
     "iopub.execute_input": "2024-06-18T10:04:13.380496Z",
     "iopub.status.busy": "2024-06-18T10:04:13.380083Z",
     "iopub.status.idle": "2024-06-18T10:04:13.389662Z",
     "shell.execute_reply": "2024-06-18T10:04:13.388436Z"
    },
    "papermill": {
     "duration": 0.053521,
     "end_time": "2024-06-18T10:04:13.392136",
     "exception": false,
     "start_time": "2024-06-18T10:04:13.338615",
     "status": "completed"
    },
    "tags": []
   },
   "outputs": [
    {
     "data": {
      "text/plain": [
       "<tf.Tensor: shape=(2, 3), dtype=float64, numpy=\n",
       "array([[ 1.09000003, -2.        ,  3.        ],\n",
       "       [ 4.        ,  5.        ,  6.        ]])>"
      ]
     },
     "execution_count": 12,
     "metadata": {},
     "output_type": "execute_result"
    }
   ],
   "source": [
    "tf.cast(arr,dtype=tf.float64)"
   ]
  },
  {
   "cell_type": "code",
   "execution_count": 13,
   "id": "a6f0bb30",
   "metadata": {
    "execution": {
     "iopub.execute_input": "2024-06-18T10:04:13.473377Z",
     "iopub.status.busy": "2024-06-18T10:04:13.472264Z",
     "iopub.status.idle": "2024-06-18T10:04:13.481524Z",
     "shell.execute_reply": "2024-06-18T10:04:13.480333Z"
    },
    "papermill": {
     "duration": 0.052887,
     "end_time": "2024-06-18T10:04:13.484276",
     "exception": false,
     "start_time": "2024-06-18T10:04:13.431389",
     "status": "completed"
    },
    "tags": []
   },
   "outputs": [
    {
     "data": {
      "text/plain": [
       "<tf.Tensor: shape=(2, 3), dtype=uint8, numpy=\n",
       "array([[  1, 254,   3],\n",
       "       [  4,   5,   6]], dtype=uint8)>"
      ]
     },
     "execution_count": 13,
     "metadata": {},
     "output_type": "execute_result"
    }
   ],
   "source": [
    "tf.cast(arr,dtype=tf.uint8)"
   ]
  },
  {
   "cell_type": "markdown",
   "id": "19c132dd",
   "metadata": {
    "papermill": {
     "duration": 0.038978,
     "end_time": "2024-06-18T10:04:13.562753",
     "exception": false,
     "start_time": "2024-06-18T10:04:13.523775",
     "status": "completed"
    },
    "tags": []
   },
   "source": [
    "# Initialization"
   ]
  },
  {
   "cell_type": "code",
   "execution_count": 14,
   "id": "cadc5ca5",
   "metadata": {
    "execution": {
     "iopub.execute_input": "2024-06-18T10:04:13.643945Z",
     "iopub.status.busy": "2024-06-18T10:04:13.643529Z",
     "iopub.status.idle": "2024-06-18T10:04:13.649165Z",
     "shell.execute_reply": "2024-06-18T10:04:13.647998Z"
    },
    "papermill": {
     "duration": 0.048947,
     "end_time": "2024-06-18T10:04:13.651675",
     "exception": false,
     "start_time": "2024-06-18T10:04:13.602728",
     "status": "completed"
    },
    "tags": []
   },
   "outputs": [],
   "source": [
    "np_array=np.array([1,2,3,4])\n",
    "python_list=[[1,2,3,4],[4,5,6,7]]"
   ]
  },
  {
   "cell_type": "markdown",
   "id": "1ba4fdef",
   "metadata": {
    "papermill": {
     "duration": 0.038519,
     "end_time": "2024-06-18T10:04:13.729230",
     "exception": false,
     "start_time": "2024-06-18T10:04:13.690711",
     "status": "completed"
    },
    "tags": []
   },
   "source": [
    "## convert_to_tensor"
   ]
  },
  {
   "cell_type": "code",
   "execution_count": 15,
   "id": "5436f2d3",
   "metadata": {
    "execution": {
     "iopub.execute_input": "2024-06-18T10:04:13.810033Z",
     "iopub.status.busy": "2024-06-18T10:04:13.809187Z",
     "iopub.status.idle": "2024-06-18T10:04:13.818289Z",
     "shell.execute_reply": "2024-06-18T10:04:13.816953Z"
    },
    "papermill": {
     "duration": 0.052577,
     "end_time": "2024-06-18T10:04:13.821216",
     "exception": false,
     "start_time": "2024-06-18T10:04:13.768639",
     "status": "completed"
    },
    "tags": []
   },
   "outputs": [
    {
     "data": {
      "text/plain": [
       "<tf.Tensor: shape=(4,), dtype=int64, numpy=array([1, 2, 3, 4])>"
      ]
     },
     "execution_count": 15,
     "metadata": {},
     "output_type": "execute_result"
    }
   ],
   "source": [
    "tf.convert_to_tensor(np_array)"
   ]
  },
  {
   "cell_type": "code",
   "execution_count": 16,
   "id": "2bc06c1c",
   "metadata": {
    "execution": {
     "iopub.execute_input": "2024-06-18T10:04:13.904120Z",
     "iopub.status.busy": "2024-06-18T10:04:13.903697Z",
     "iopub.status.idle": "2024-06-18T10:04:13.914892Z",
     "shell.execute_reply": "2024-06-18T10:04:13.913654Z"
    },
    "papermill": {
     "duration": 0.05525,
     "end_time": "2024-06-18T10:04:13.917451",
     "exception": false,
     "start_time": "2024-06-18T10:04:13.862201",
     "status": "completed"
    },
    "tags": []
   },
   "outputs": [
    {
     "data": {
      "text/plain": [
       "<tf.Tensor: shape=(2, 4), dtype=float16, numpy=\n",
       "array([[1., 2., 3., 4.],\n",
       "       [4., 5., 6., 7.]], dtype=float16)>"
      ]
     },
     "execution_count": 16,
     "metadata": {},
     "output_type": "execute_result"
    }
   ],
   "source": [
    "tf.convert_to_tensor(python_list,dtype=tf.float16)"
   ]
  },
  {
   "cell_type": "markdown",
   "id": "962179be",
   "metadata": {
    "papermill": {
     "duration": 0.039202,
     "end_time": "2024-06-18T10:04:13.996597",
     "exception": false,
     "start_time": "2024-06-18T10:04:13.957395",
     "status": "completed"
    },
    "tags": []
   },
   "source": [
    "## eye"
   ]
  },
  {
   "cell_type": "code",
   "execution_count": 17,
   "id": "4cd82575",
   "metadata": {
    "execution": {
     "iopub.execute_input": "2024-06-18T10:04:14.080594Z",
     "iopub.status.busy": "2024-06-18T10:04:14.079589Z",
     "iopub.status.idle": "2024-06-18T10:04:14.094766Z",
     "shell.execute_reply": "2024-06-18T10:04:14.093626Z"
    },
    "papermill": {
     "duration": 0.059203,
     "end_time": "2024-06-18T10:04:14.097398",
     "exception": false,
     "start_time": "2024-06-18T10:04:14.038195",
     "status": "completed"
    },
    "tags": []
   },
   "outputs": [
    {
     "data": {
      "text/plain": [
       "<tf.Tensor: shape=(4, 4), dtype=float32, numpy=\n",
       "array([[1., 0., 0., 0.],\n",
       "       [0., 1., 0., 0.],\n",
       "       [0., 0., 1., 0.],\n",
       "       [0., 0., 0., 1.]], dtype=float32)>"
      ]
     },
     "execution_count": 17,
     "metadata": {},
     "output_type": "execute_result"
    }
   ],
   "source": [
    "tf.eye(4) # or tf.eye(4,4)"
   ]
  },
  {
   "cell_type": "code",
   "execution_count": 18,
   "id": "2e62af74",
   "metadata": {
    "execution": {
     "iopub.execute_input": "2024-06-18T10:04:14.179198Z",
     "iopub.status.busy": "2024-06-18T10:04:14.178728Z",
     "iopub.status.idle": "2024-06-18T10:04:14.191956Z",
     "shell.execute_reply": "2024-06-18T10:04:14.190504Z"
    },
    "papermill": {
     "duration": 0.057291,
     "end_time": "2024-06-18T10:04:14.194739",
     "exception": false,
     "start_time": "2024-06-18T10:04:14.137448",
     "status": "completed"
    },
    "tags": []
   },
   "outputs": [
    {
     "data": {
      "text/plain": [
       "<tf.Tensor: shape=(3, 3, 4), dtype=float32, numpy=\n",
       "array([[[1., 0., 0., 0.],\n",
       "        [0., 1., 0., 0.],\n",
       "        [0., 0., 1., 0.]],\n",
       "\n",
       "       [[1., 0., 0., 0.],\n",
       "        [0., 1., 0., 0.],\n",
       "        [0., 0., 1., 0.]],\n",
       "\n",
       "       [[1., 0., 0., 0.],\n",
       "        [0., 1., 0., 0.],\n",
       "        [0., 0., 1., 0.]]], dtype=float32)>"
      ]
     },
     "execution_count": 18,
     "metadata": {},
     "output_type": "execute_result"
    }
   ],
   "source": [
    "tf.eye(3,4,batch_shape=[3])"
   ]
  },
  {
   "cell_type": "markdown",
   "id": "27da7c39",
   "metadata": {
    "papermill": {
     "duration": 0.040873,
     "end_time": "2024-06-18T10:04:14.275816",
     "exception": false,
     "start_time": "2024-06-18T10:04:14.234943",
     "status": "completed"
    },
    "tags": []
   },
   "source": [
    "## fill"
   ]
  },
  {
   "cell_type": "code",
   "execution_count": 19,
   "id": "c13d5d90",
   "metadata": {
    "execution": {
     "iopub.execute_input": "2024-06-18T10:04:14.360268Z",
     "iopub.status.busy": "2024-06-18T10:04:14.359325Z",
     "iopub.status.idle": "2024-06-18T10:04:14.372418Z",
     "shell.execute_reply": "2024-06-18T10:04:14.371092Z"
    },
    "papermill": {
     "duration": 0.05934,
     "end_time": "2024-06-18T10:04:14.375027",
     "exception": false,
     "start_time": "2024-06-18T10:04:14.315687",
     "status": "completed"
    },
    "tags": []
   },
   "outputs": [
    {
     "data": {
      "text/plain": [
       "<tf.Tensor: shape=(3, 3), dtype=int32, numpy=\n",
       "array([[10, 10, 10],\n",
       "       [10, 10, 10],\n",
       "       [10, 10, 10]], dtype=int32)>"
      ]
     },
     "execution_count": 19,
     "metadata": {},
     "output_type": "execute_result"
    }
   ],
   "source": [
    "tf.fill((3,3),value=10)"
   ]
  },
  {
   "cell_type": "markdown",
   "id": "f54d9563",
   "metadata": {
    "papermill": {
     "duration": 0.040489,
     "end_time": "2024-06-18T10:04:14.456826",
     "exception": false,
     "start_time": "2024-06-18T10:04:14.416337",
     "status": "completed"
    },
    "tags": []
   },
   "source": [
    "## zeros"
   ]
  },
  {
   "cell_type": "code",
   "execution_count": 20,
   "id": "37f7bf11",
   "metadata": {
    "execution": {
     "iopub.execute_input": "2024-06-18T10:04:14.541274Z",
     "iopub.status.busy": "2024-06-18T10:04:14.540792Z",
     "iopub.status.idle": "2024-06-18T10:04:14.550653Z",
     "shell.execute_reply": "2024-06-18T10:04:14.549338Z"
    },
    "papermill": {
     "duration": 0.055224,
     "end_time": "2024-06-18T10:04:14.553066",
     "exception": false,
     "start_time": "2024-06-18T10:04:14.497842",
     "status": "completed"
    },
    "tags": []
   },
   "outputs": [
    {
     "data": {
      "text/plain": [
       "<tf.Tensor: shape=(3, 4), dtype=float32, numpy=\n",
       "array([[0., 0., 0., 0.],\n",
       "       [0., 0., 0., 0.],\n",
       "       [0., 0., 0., 0.]], dtype=float32)>"
      ]
     },
     "execution_count": 20,
     "metadata": {},
     "output_type": "execute_result"
    }
   ],
   "source": [
    "tf.zeros((3,4))"
   ]
  },
  {
   "cell_type": "markdown",
   "id": "497ebd5d",
   "metadata": {
    "papermill": {
     "duration": 0.03985,
     "end_time": "2024-06-18T10:04:14.633980",
     "exception": false,
     "start_time": "2024-06-18T10:04:14.594130",
     "status": "completed"
    },
    "tags": []
   },
   "source": [
    "## ones"
   ]
  },
  {
   "cell_type": "code",
   "execution_count": 21,
   "id": "db39f3d6",
   "metadata": {
    "execution": {
     "iopub.execute_input": "2024-06-18T10:04:14.716929Z",
     "iopub.status.busy": "2024-06-18T10:04:14.716502Z",
     "iopub.status.idle": "2024-06-18T10:04:14.726463Z",
     "shell.execute_reply": "2024-06-18T10:04:14.725146Z"
    },
    "papermill": {
     "duration": 0.054061,
     "end_time": "2024-06-18T10:04:14.729081",
     "exception": false,
     "start_time": "2024-06-18T10:04:14.675020",
     "status": "completed"
    },
    "tags": []
   },
   "outputs": [
    {
     "data": {
      "text/plain": [
       "<tf.Tensor: shape=(3, 5), dtype=float32, numpy=\n",
       "array([[1., 1., 1., 1., 1.],\n",
       "       [1., 1., 1., 1., 1.],\n",
       "       [1., 1., 1., 1., 1.]], dtype=float32)>"
      ]
     },
     "execution_count": 21,
     "metadata": {},
     "output_type": "execute_result"
    }
   ],
   "source": [
    "tf.ones((3,5))"
   ]
  },
  {
   "cell_type": "markdown",
   "id": "458a7002",
   "metadata": {
    "papermill": {
     "duration": 0.04021,
     "end_time": "2024-06-18T10:04:14.809621",
     "exception": false,
     "start_time": "2024-06-18T10:04:14.769411",
     "status": "completed"
    },
    "tags": []
   },
   "source": [
    "## random_normal_initializer"
   ]
  },
  {
   "cell_type": "code",
   "execution_count": 22,
   "id": "237448df",
   "metadata": {
    "execution": {
     "iopub.execute_input": "2024-06-18T10:04:14.893328Z",
     "iopub.status.busy": "2024-06-18T10:04:14.892814Z",
     "iopub.status.idle": "2024-06-18T10:04:14.898860Z",
     "shell.execute_reply": "2024-06-18T10:04:14.897680Z"
    },
    "papermill": {
     "duration": 0.050696,
     "end_time": "2024-06-18T10:04:14.901516",
     "exception": false,
     "start_time": "2024-06-18T10:04:14.850820",
     "status": "completed"
    },
    "tags": []
   },
   "outputs": [],
   "source": [
    "initializer=tf.random_normal_initializer(mean=0,stddev=1,seed=45)"
   ]
  },
  {
   "cell_type": "code",
   "execution_count": 23,
   "id": "a6f09e11",
   "metadata": {
    "execution": {
     "iopub.execute_input": "2024-06-18T10:04:14.988076Z",
     "iopub.status.busy": "2024-06-18T10:04:14.987631Z",
     "iopub.status.idle": "2024-06-18T10:04:14.995726Z",
     "shell.execute_reply": "2024-06-18T10:04:14.994288Z"
    },
    "papermill": {
     "duration": 0.054292,
     "end_time": "2024-06-18T10:04:14.998366",
     "exception": false,
     "start_time": "2024-06-18T10:04:14.944074",
     "status": "completed"
    },
    "tags": []
   },
   "outputs": [
    {
     "data": {
      "text/plain": [
       "<tensorflow.python.ops.init_ops_v2.RandomNormal at 0x7b5c481e2320>"
      ]
     },
     "execution_count": 23,
     "metadata": {},
     "output_type": "execute_result"
    }
   ],
   "source": [
    "initializer"
   ]
  },
  {
   "cell_type": "code",
   "execution_count": 24,
   "id": "91136f1b",
   "metadata": {
    "execution": {
     "iopub.execute_input": "2024-06-18T10:04:15.085228Z",
     "iopub.status.busy": "2024-06-18T10:04:15.084783Z",
     "iopub.status.idle": "2024-06-18T10:04:15.103300Z",
     "shell.execute_reply": "2024-06-18T10:04:15.101806Z"
    },
    "papermill": {
     "duration": 0.064903,
     "end_time": "2024-06-18T10:04:15.106232",
     "exception": false,
     "start_time": "2024-06-18T10:04:15.041329",
     "status": "completed"
    },
    "tags": []
   },
   "outputs": [
    {
     "data": {
      "text/plain": [
       "<tf.Tensor: shape=(3, 3), dtype=float32, numpy=\n",
       "array([[ 0.4053881 ,  1.460551  ,  0.62129664],\n",
       "       [-0.6539117 ,  1.2385781 , -0.28060445],\n",
       "       [ 0.4289684 ,  0.1587181 , -0.875791  ]], dtype=float32)>"
      ]
     },
     "execution_count": 24,
     "metadata": {},
     "output_type": "execute_result"
    }
   ],
   "source": [
    "initializer(shape=(3,3))"
   ]
  },
  {
   "cell_type": "markdown",
   "id": "86da4b03",
   "metadata": {
    "papermill": {
     "duration": 0.042504,
     "end_time": "2024-06-18T10:04:15.191099",
     "exception": false,
     "start_time": "2024-06-18T10:04:15.148595",
     "status": "completed"
    },
    "tags": []
   },
   "source": [
    "## range"
   ]
  },
  {
   "cell_type": "code",
   "execution_count": 25,
   "id": "080e9806",
   "metadata": {
    "execution": {
     "iopub.execute_input": "2024-06-18T10:04:15.278509Z",
     "iopub.status.busy": "2024-06-18T10:04:15.278080Z",
     "iopub.status.idle": "2024-06-18T10:04:15.287377Z",
     "shell.execute_reply": "2024-06-18T10:04:15.286171Z"
    },
    "papermill": {
     "duration": 0.056225,
     "end_time": "2024-06-18T10:04:15.289904",
     "exception": false,
     "start_time": "2024-06-18T10:04:15.233679",
     "status": "completed"
    },
    "tags": []
   },
   "outputs": [
    {
     "data": {
      "text/plain": [
       "<tf.Tensor: shape=(5,), dtype=int32, numpy=array([1, 3, 5, 7, 9], dtype=int32)>"
      ]
     },
     "execution_count": 25,
     "metadata": {},
     "output_type": "execute_result"
    }
   ],
   "source": [
    "tf.range(start=1,limit=10,delta=2)"
   ]
  },
  {
   "cell_type": "code",
   "execution_count": 26,
   "id": "fa0c5638",
   "metadata": {
    "execution": {
     "iopub.execute_input": "2024-06-18T10:04:15.379975Z",
     "iopub.status.busy": "2024-06-18T10:04:15.379523Z",
     "iopub.status.idle": "2024-06-18T10:04:15.386821Z",
     "shell.execute_reply": "2024-06-18T10:04:15.385576Z"
    },
    "papermill": {
     "duration": 0.056763,
     "end_time": "2024-06-18T10:04:15.389622",
     "exception": false,
     "start_time": "2024-06-18T10:04:15.332859",
     "status": "completed"
    },
    "tags": []
   },
   "outputs": [],
   "source": [
    "arr=tf.eye(3,5)"
   ]
  },
  {
   "cell_type": "code",
   "execution_count": 27,
   "id": "1cc21ca4",
   "metadata": {
    "execution": {
     "iopub.execute_input": "2024-06-18T10:04:15.476624Z",
     "iopub.status.busy": "2024-06-18T10:04:15.476207Z",
     "iopub.status.idle": "2024-06-18T10:04:15.483854Z",
     "shell.execute_reply": "2024-06-18T10:04:15.482440Z"
    },
    "papermill": {
     "duration": 0.054322,
     "end_time": "2024-06-18T10:04:15.486512",
     "exception": false,
     "start_time": "2024-06-18T10:04:15.432190",
     "status": "completed"
    },
    "tags": []
   },
   "outputs": [
    {
     "name": "stdout",
     "output_type": "stream",
     "text": [
      "tf.Tensor([3 5], shape=(2,), dtype=int32)\n"
     ]
    }
   ],
   "source": [
    "print(tf.shape(arr))"
   ]
  },
  {
   "cell_type": "markdown",
   "id": "c65d5faf",
   "metadata": {
    "papermill": {
     "duration": 0.045663,
     "end_time": "2024-06-18T10:04:15.574087",
     "exception": false,
     "start_time": "2024-06-18T10:04:15.528424",
     "status": "completed"
    },
    "tags": []
   },
   "source": [
    "## size"
   ]
  },
  {
   "cell_type": "code",
   "execution_count": 28,
   "id": "7f96dc5f",
   "metadata": {
    "execution": {
     "iopub.execute_input": "2024-06-18T10:04:15.665179Z",
     "iopub.status.busy": "2024-06-18T10:04:15.664781Z",
     "iopub.status.idle": "2024-06-18T10:04:15.673006Z",
     "shell.execute_reply": "2024-06-18T10:04:15.671786Z"
    },
    "papermill": {
     "duration": 0.053682,
     "end_time": "2024-06-18T10:04:15.675552",
     "exception": false,
     "start_time": "2024-06-18T10:04:15.621870",
     "status": "completed"
    },
    "tags": []
   },
   "outputs": [
    {
     "name": "stdout",
     "output_type": "stream",
     "text": [
      "tf.Tensor(15, shape=(), dtype=int32)\n"
     ]
    }
   ],
   "source": [
    "print(tf.size(arr))"
   ]
  },
  {
   "cell_type": "markdown",
   "id": "3cf66216",
   "metadata": {
    "papermill": {
     "duration": 0.041218,
     "end_time": "2024-06-18T10:04:15.757928",
     "exception": false,
     "start_time": "2024-06-18T10:04:15.716710",
     "status": "completed"
    },
    "tags": []
   },
   "source": [
    "# Random Module"
   ]
  },
  {
   "cell_type": "markdown",
   "id": "b11df9cd",
   "metadata": {
    "papermill": {
     "duration": 0.041095,
     "end_time": "2024-06-18T10:04:15.840446",
     "exception": false,
     "start_time": "2024-06-18T10:04:15.799351",
     "status": "completed"
    },
    "tags": []
   },
   "source": [
    "## random.normal"
   ]
  },
  {
   "cell_type": "code",
   "execution_count": 29,
   "id": "ea3ceb4e",
   "metadata": {
    "execution": {
     "iopub.execute_input": "2024-06-18T10:04:15.925712Z",
     "iopub.status.busy": "2024-06-18T10:04:15.925274Z",
     "iopub.status.idle": "2024-06-18T10:04:15.935576Z",
     "shell.execute_reply": "2024-06-18T10:04:15.934191Z"
    },
    "papermill": {
     "duration": 0.055816,
     "end_time": "2024-06-18T10:04:15.938317",
     "exception": false,
     "start_time": "2024-06-18T10:04:15.882501",
     "status": "completed"
    },
    "tags": []
   },
   "outputs": [
    {
     "data": {
      "text/plain": [
       "<tf.Tensor: shape=(3, 4), dtype=float32, numpy=\n",
       "array([[ 0.14995909,  0.09866119,  0.12286568,  0.550274  ],\n",
       "       [ 0.40145504, -0.67026085, -1.0261133 ,  0.08085784],\n",
       "       [-0.715018  ,  1.4231852 ,  0.6164207 , -1.2227035 ]],\n",
       "      dtype=float32)>"
      ]
     },
     "execution_count": 29,
     "metadata": {},
     "output_type": "execute_result"
    }
   ],
   "source": [
    "tf.random.normal(shape=(3,4),mean=0,stddev=1)"
   ]
  },
  {
   "cell_type": "markdown",
   "id": "541d48a3",
   "metadata": {
    "papermill": {
     "duration": 0.044583,
     "end_time": "2024-06-18T10:04:16.024708",
     "exception": false,
     "start_time": "2024-06-18T10:04:15.980125",
     "status": "completed"
    },
    "tags": []
   },
   "source": [
    "## random.uniform"
   ]
  },
  {
   "cell_type": "code",
   "execution_count": 30,
   "id": "c18c143b",
   "metadata": {
    "execution": {
     "iopub.execute_input": "2024-06-18T10:04:16.110450Z",
     "iopub.status.busy": "2024-06-18T10:04:16.109955Z",
     "iopub.status.idle": "2024-06-18T10:04:16.121505Z",
     "shell.execute_reply": "2024-06-18T10:04:16.120386Z"
    },
    "papermill": {
     "duration": 0.057351,
     "end_time": "2024-06-18T10:04:16.124041",
     "exception": false,
     "start_time": "2024-06-18T10:04:16.066690",
     "status": "completed"
    },
    "tags": []
   },
   "outputs": [
    {
     "data": {
      "text/plain": [
       "<tf.Tensor: shape=(5, 6), dtype=float32, numpy=\n",
       "array([[0.3012035 , 0.07725024, 0.7872014 , 1.7629213 , 0.4857993 ,\n",
       "        0.7042439 ],\n",
       "       [1.8625498 , 1.458878  , 1.3543749 , 1.5084138 , 0.72621346,\n",
       "        1.1090219 ],\n",
       "       [1.918678  , 1.194459  , 1.0927854 , 1.8093603 , 1.9302797 ,\n",
       "        0.02757812],\n",
       "       [1.8616278 , 0.7789135 , 1.9610956 , 0.6639886 , 0.4219184 ,\n",
       "        0.6806474 ],\n",
       "       [0.1405549 , 1.3877633 , 0.29506326, 0.49907398, 0.4389577 ,\n",
       "        1.8687975 ]], dtype=float32)>"
      ]
     },
     "execution_count": 30,
     "metadata": {},
     "output_type": "execute_result"
    }
   ],
   "source": [
    "tf.random.uniform(shape=(5,6),minval=0,maxval=2)"
   ]
  },
  {
   "cell_type": "markdown",
   "id": "dafaf6aa",
   "metadata": {
    "papermill": {
     "duration": 0.042162,
     "end_time": "2024-06-18T10:04:16.208451",
     "exception": false,
     "start_time": "2024-06-18T10:04:16.166289",
     "status": "completed"
    },
    "tags": []
   },
   "source": [
    "# Math"
   ]
  },
  {
   "cell_type": "markdown",
   "id": "74c641b8",
   "metadata": {
    "papermill": {
     "duration": 0.044479,
     "end_time": "2024-06-18T10:04:16.297018",
     "exception": false,
     "start_time": "2024-06-18T10:04:16.252539",
     "status": "completed"
    },
    "tags": []
   },
   "source": [
    "## abs"
   ]
  },
  {
   "cell_type": "code",
   "execution_count": 31,
   "id": "599ef8d3",
   "metadata": {
    "execution": {
     "iopub.execute_input": "2024-06-18T10:04:16.387437Z",
     "iopub.status.busy": "2024-06-18T10:04:16.386946Z",
     "iopub.status.idle": "2024-06-18T10:04:16.395287Z",
     "shell.execute_reply": "2024-06-18T10:04:16.393697Z"
    },
    "papermill": {
     "duration": 0.057559,
     "end_time": "2024-06-18T10:04:16.397911",
     "exception": false,
     "start_time": "2024-06-18T10:04:16.340352",
     "status": "completed"
    },
    "tags": []
   },
   "outputs": [
    {
     "name": "stdout",
     "output_type": "stream",
     "text": [
      "tf.Tensor(1, shape=(), dtype=int32)\n"
     ]
    }
   ],
   "source": [
    "print(tf.abs(-1))"
   ]
  },
  {
   "cell_type": "code",
   "execution_count": 32,
   "id": "bde45086",
   "metadata": {
    "execution": {
     "iopub.execute_input": "2024-06-18T10:04:16.486041Z",
     "iopub.status.busy": "2024-06-18T10:04:16.485632Z",
     "iopub.status.idle": "2024-06-18T10:04:16.491341Z",
     "shell.execute_reply": "2024-06-18T10:04:16.490109Z"
    },
    "papermill": {
     "duration": 0.052754,
     "end_time": "2024-06-18T10:04:16.493966",
     "exception": false,
     "start_time": "2024-06-18T10:04:16.441212",
     "status": "completed"
    },
    "tags": []
   },
   "outputs": [],
   "source": [
    "value=[56+78j]"
   ]
  },
  {
   "cell_type": "code",
   "execution_count": 33,
   "id": "881a305c",
   "metadata": {
    "execution": {
     "iopub.execute_input": "2024-06-18T10:04:16.581135Z",
     "iopub.status.busy": "2024-06-18T10:04:16.580631Z",
     "iopub.status.idle": "2024-06-18T10:04:16.593066Z",
     "shell.execute_reply": "2024-06-18T10:04:16.591504Z"
    },
    "papermill": {
     "duration": 0.059217,
     "end_time": "2024-06-18T10:04:16.595689",
     "exception": false,
     "start_time": "2024-06-18T10:04:16.536472",
     "status": "completed"
    },
    "tags": []
   },
   "outputs": [
    {
     "data": {
      "text/plain": [
       "<tf.Tensor: shape=(1,), dtype=float64, numpy=array([96.02083107])>"
      ]
     },
     "execution_count": 33,
     "metadata": {},
     "output_type": "execute_result"
    }
   ],
   "source": [
    "tf.abs(value)"
   ]
  },
  {
   "cell_type": "markdown",
   "id": "499629d4",
   "metadata": {
    "papermill": {
     "duration": 0.042194,
     "end_time": "2024-06-18T10:04:16.680462",
     "exception": false,
     "start_time": "2024-06-18T10:04:16.638268",
     "status": "completed"
    },
    "tags": []
   },
   "source": [
    "## sqrt"
   ]
  },
  {
   "cell_type": "code",
   "execution_count": 34,
   "id": "d9653003",
   "metadata": {
    "execution": {
     "iopub.execute_input": "2024-06-18T10:04:16.768788Z",
     "iopub.status.busy": "2024-06-18T10:04:16.768280Z",
     "iopub.status.idle": "2024-06-18T10:04:16.780260Z",
     "shell.execute_reply": "2024-06-18T10:04:16.778942Z"
    },
    "papermill": {
     "duration": 0.059667,
     "end_time": "2024-06-18T10:04:16.782961",
     "exception": false,
     "start_time": "2024-06-18T10:04:16.723294",
     "status": "completed"
    },
    "tags": []
   },
   "outputs": [
    {
     "data": {
      "text/plain": [
       "<tf.Tensor: shape=(), dtype=float32, numpy=96.02083>"
      ]
     },
     "execution_count": 34,
     "metadata": {},
     "output_type": "execute_result"
    }
   ],
   "source": [
    "tf.sqrt(((56.0)**2)+((78.0)**2)) #tf.sqrt support only the float"
   ]
  },
  {
   "cell_type": "markdown",
   "id": "133c6315",
   "metadata": {
    "papermill": {
     "duration": 0.042998,
     "end_time": "2024-06-18T10:04:16.870455",
     "exception": false,
     "start_time": "2024-06-18T10:04:16.827457",
     "status": "completed"
    },
    "tags": []
   },
   "source": [
    "## sin"
   ]
  },
  {
   "cell_type": "code",
   "execution_count": 35,
   "id": "9e96e5e6",
   "metadata": {
    "execution": {
     "iopub.execute_input": "2024-06-18T10:04:16.957940Z",
     "iopub.status.busy": "2024-06-18T10:04:16.957431Z",
     "iopub.status.idle": "2024-06-18T10:04:16.966972Z",
     "shell.execute_reply": "2024-06-18T10:04:16.965603Z"
    },
    "papermill": {
     "duration": 0.056564,
     "end_time": "2024-06-18T10:04:16.969476",
     "exception": false,
     "start_time": "2024-06-18T10:04:16.912912",
     "status": "completed"
    },
    "tags": []
   },
   "outputs": [
    {
     "data": {
      "text/plain": [
       "<tf.Tensor: shape=(), dtype=float32, numpy=-0.0012644208>"
      ]
     },
     "execution_count": 35,
     "metadata": {},
     "output_type": "execute_result"
    }
   ],
   "source": [
    "tf.sin(22/7)"
   ]
  },
  {
   "cell_type": "markdown",
   "id": "823b717f",
   "metadata": {
    "papermill": {
     "duration": 0.04393,
     "end_time": "2024-06-18T10:04:17.059724",
     "exception": false,
     "start_time": "2024-06-18T10:04:17.015794",
     "status": "completed"
    },
    "tags": []
   },
   "source": [
    "## add,subtract,multiply,divide"
   ]
  },
  {
   "cell_type": "code",
   "execution_count": 36,
   "id": "834e91ea",
   "metadata": {
    "execution": {
     "iopub.execute_input": "2024-06-18T10:04:17.148327Z",
     "iopub.status.busy": "2024-06-18T10:04:17.147217Z",
     "iopub.status.idle": "2024-06-18T10:04:17.154578Z",
     "shell.execute_reply": "2024-06-18T10:04:17.153204Z"
    },
    "papermill": {
     "duration": 0.054382,
     "end_time": "2024-06-18T10:04:17.157097",
     "exception": false,
     "start_time": "2024-06-18T10:04:17.102715",
     "status": "completed"
    },
    "tags": []
   },
   "outputs": [],
   "source": [
    "def four_operation(value1,value2):\n",
    "    add=tf.add(value1,value2)\n",
    "    sub=tf.subtract(value1,value2)\n",
    "    mul=tf.multiply(value1,value2)\n",
    "    div=tf.divide(value1,value2)\n",
    "    return [add,sub,mul,div]"
   ]
  },
  {
   "cell_type": "code",
   "execution_count": 37,
   "id": "40afac1c",
   "metadata": {
    "execution": {
     "iopub.execute_input": "2024-06-18T10:04:17.246371Z",
     "iopub.status.busy": "2024-06-18T10:04:17.245194Z",
     "iopub.status.idle": "2024-06-18T10:04:17.271061Z",
     "shell.execute_reply": "2024-06-18T10:04:17.269414Z"
    },
    "papermill": {
     "duration": 0.07361,
     "end_time": "2024-06-18T10:04:17.274042",
     "exception": false,
     "start_time": "2024-06-18T10:04:17.200432",
     "status": "completed"
    },
    "tags": []
   },
   "outputs": [
    {
     "name": "stdout",
     "output_type": "stream",
     "text": [
      "tf.Tensor([6 7], shape=(2,), dtype=int32)\n",
      "tf.Tensor([0 1], shape=(2,), dtype=int32)\n",
      "tf.Tensor([ 9 12], shape=(2,), dtype=int32)\n",
      "tf.Tensor([1.         1.33333333], shape=(2,), dtype=float64)\n"
     ]
    }
   ],
   "source": [
    "for i in four_operation([3,4],[3]):\n",
    "    print(i)"
   ]
  },
  {
   "cell_type": "markdown",
   "id": "89a7d12e",
   "metadata": {
    "papermill": {
     "duration": 0.046077,
     "end_time": "2024-06-18T10:04:17.366094",
     "exception": false,
     "start_time": "2024-06-18T10:04:17.320017",
     "status": "completed"
    },
    "tags": []
   },
   "source": [
    "## Divide no nan"
   ]
  },
  {
   "cell_type": "code",
   "execution_count": 38,
   "id": "763544f2",
   "metadata": {
    "execution": {
     "iopub.execute_input": "2024-06-18T10:04:17.457405Z",
     "iopub.status.busy": "2024-06-18T10:04:17.456985Z",
     "iopub.status.idle": "2024-06-18T10:04:17.471539Z",
     "shell.execute_reply": "2024-06-18T10:04:17.470347Z"
    },
    "papermill": {
     "duration": 0.063548,
     "end_time": "2024-06-18T10:04:17.474062",
     "exception": false,
     "start_time": "2024-06-18T10:04:17.410514",
     "status": "completed"
    },
    "tags": []
   },
   "outputs": [
    {
     "data": {
      "text/plain": [
       "<tf.Tensor: shape=(), dtype=float64, numpy=0.0>"
      ]
     },
     "execution_count": 38,
     "metadata": {},
     "output_type": "execute_result"
    }
   ],
   "source": [
    "tf.math.divide_no_nan(3,0)"
   ]
  },
  {
   "cell_type": "code",
   "execution_count": 39,
   "id": "f652fa61",
   "metadata": {
    "execution": {
     "iopub.execute_input": "2024-06-18T10:04:17.564820Z",
     "iopub.status.busy": "2024-06-18T10:04:17.564408Z",
     "iopub.status.idle": "2024-06-18T10:04:17.574384Z",
     "shell.execute_reply": "2024-06-18T10:04:17.573138Z"
    },
    "papermill": {
     "duration": 0.058107,
     "end_time": "2024-06-18T10:04:17.576640",
     "exception": false,
     "start_time": "2024-06-18T10:04:17.518533",
     "status": "completed"
    },
    "tags": []
   },
   "outputs": [
    {
     "data": {
      "text/plain": [
       "<tf.Tensor: shape=(3, 4), dtype=int32, numpy=\n",
       "array([[ 1,  2,  3,  4],\n",
       "       [ 2,  4,  6,  8],\n",
       "       [ 4,  8, 12, 16]], dtype=int32)>"
      ]
     },
     "execution_count": 39,
     "metadata": {},
     "output_type": "execute_result"
    }
   ],
   "source": [
    "tf.multiply([1,2,3,4],[[1],[2],[4]]) # element wise multiplication "
   ]
  },
  {
   "cell_type": "markdown",
   "id": "7b9fe79e",
   "metadata": {
    "papermill": {
     "duration": 0.044444,
     "end_time": "2024-06-18T10:04:17.665309",
     "exception": false,
     "start_time": "2024-06-18T10:04:17.620865",
     "status": "completed"
    },
    "tags": []
   },
   "source": [
    "## argmax"
   ]
  },
  {
   "cell_type": "code",
   "execution_count": 40,
   "id": "cb817856",
   "metadata": {
    "execution": {
     "iopub.execute_input": "2024-06-18T10:04:17.755795Z",
     "iopub.status.busy": "2024-06-18T10:04:17.755394Z",
     "iopub.status.idle": "2024-06-18T10:04:17.763738Z",
     "shell.execute_reply": "2024-06-18T10:04:17.762554Z"
    },
    "papermill": {
     "duration": 0.056584,
     "end_time": "2024-06-18T10:04:17.766220",
     "exception": false,
     "start_time": "2024-06-18T10:04:17.709636",
     "status": "completed"
    },
    "tags": []
   },
   "outputs": [
    {
     "data": {
      "text/plain": [
       "2"
      ]
     },
     "execution_count": 40,
     "metadata": {},
     "output_type": "execute_result"
    }
   ],
   "source": [
    "np.argmax([3,4,5])"
   ]
  },
  {
   "cell_type": "code",
   "execution_count": 41,
   "id": "36c1e684",
   "metadata": {
    "execution": {
     "iopub.execute_input": "2024-06-18T10:04:17.856522Z",
     "iopub.status.busy": "2024-06-18T10:04:17.856094Z",
     "iopub.status.idle": "2024-06-18T10:04:17.869558Z",
     "shell.execute_reply": "2024-06-18T10:04:17.868237Z"
    },
    "papermill": {
     "duration": 0.061297,
     "end_time": "2024-06-18T10:04:17.872232",
     "exception": false,
     "start_time": "2024-06-18T10:04:17.810935",
     "status": "completed"
    },
    "tags": []
   },
   "outputs": [
    {
     "data": {
      "text/plain": [
       "<tf.Tensor: shape=(), dtype=int64, numpy=2>"
      ]
     },
     "execution_count": 41,
     "metadata": {},
     "output_type": "execute_result"
    }
   ],
   "source": [
    "tf.argmax([3,4,5])"
   ]
  },
  {
   "cell_type": "code",
   "execution_count": 42,
   "id": "c8189e8a",
   "metadata": {
    "execution": {
     "iopub.execute_input": "2024-06-18T10:04:17.965809Z",
     "iopub.status.busy": "2024-06-18T10:04:17.964453Z",
     "iopub.status.idle": "2024-06-18T10:04:17.973433Z",
     "shell.execute_reply": "2024-06-18T10:04:17.971927Z"
    },
    "papermill": {
     "duration": 0.058915,
     "end_time": "2024-06-18T10:04:17.976514",
     "exception": false,
     "start_time": "2024-06-18T10:04:17.917599",
     "status": "completed"
    },
    "tags": []
   },
   "outputs": [
    {
     "data": {
      "text/plain": [
       "3"
      ]
     },
     "execution_count": 42,
     "metadata": {},
     "output_type": "execute_result"
    }
   ],
   "source": [
    "np.max([2,3])"
   ]
  },
  {
   "cell_type": "markdown",
   "id": "55937e6f",
   "metadata": {
    "papermill": {
     "duration": 0.044284,
     "end_time": "2024-06-18T10:04:18.066688",
     "exception": false,
     "start_time": "2024-06-18T10:04:18.022404",
     "status": "completed"
    },
    "tags": []
   },
   "source": [
    "## tf.maximum"
   ]
  },
  {
   "cell_type": "code",
   "execution_count": 43,
   "id": "fbe898e2",
   "metadata": {
    "execution": {
     "iopub.execute_input": "2024-06-18T10:04:18.156878Z",
     "iopub.status.busy": "2024-06-18T10:04:18.156395Z",
     "iopub.status.idle": "2024-06-18T10:04:18.168803Z",
     "shell.execute_reply": "2024-06-18T10:04:18.167444Z"
    },
    "papermill": {
     "duration": 0.061167,
     "end_time": "2024-06-18T10:04:18.171826",
     "exception": false,
     "start_time": "2024-06-18T10:04:18.110659",
     "status": "completed"
    },
    "tags": []
   },
   "outputs": [
    {
     "data": {
      "text/plain": [
       "<tf.Tensor: shape=(), dtype=int32, numpy=3>"
      ]
     },
     "execution_count": 43,
     "metadata": {},
     "output_type": "execute_result"
    }
   ],
   "source": [
    "tf.maximum(2,3)"
   ]
  },
  {
   "cell_type": "markdown",
   "id": "d5ee3abf",
   "metadata": {
    "papermill": {
     "duration": 0.044041,
     "end_time": "2024-06-18T10:04:18.260339",
     "exception": false,
     "start_time": "2024-06-18T10:04:18.216298",
     "status": "completed"
    },
    "tags": []
   },
   "source": [
    "## tf.cumsum"
   ]
  },
  {
   "cell_type": "code",
   "execution_count": 44,
   "id": "4763e485",
   "metadata": {
    "execution": {
     "iopub.execute_input": "2024-06-18T10:04:18.353939Z",
     "iopub.status.busy": "2024-06-18T10:04:18.353504Z",
     "iopub.status.idle": "2024-06-18T10:04:18.368190Z",
     "shell.execute_reply": "2024-06-18T10:04:18.366932Z"
    },
    "papermill": {
     "duration": 0.064738,
     "end_time": "2024-06-18T10:04:18.370825",
     "exception": false,
     "start_time": "2024-06-18T10:04:18.306087",
     "status": "completed"
    },
    "tags": []
   },
   "outputs": [
    {
     "data": {
      "text/plain": [
       "<tf.Tensor: shape=(4,), dtype=int32, numpy=array([ 1,  3,  6, 10], dtype=int32)>"
      ]
     },
     "execution_count": 44,
     "metadata": {},
     "output_type": "execute_result"
    }
   ],
   "source": [
    "tf.cumsum([1,2,3,4])"
   ]
  },
  {
   "cell_type": "code",
   "execution_count": 45,
   "id": "5420d178",
   "metadata": {
    "execution": {
     "iopub.execute_input": "2024-06-18T10:04:18.465400Z",
     "iopub.status.busy": "2024-06-18T10:04:18.464829Z",
     "iopub.status.idle": "2024-06-18T10:04:18.473343Z",
     "shell.execute_reply": "2024-06-18T10:04:18.472093Z"
    },
    "papermill": {
     "duration": 0.058365,
     "end_time": "2024-06-18T10:04:18.476349",
     "exception": false,
     "start_time": "2024-06-18T10:04:18.417984",
     "status": "completed"
    },
    "tags": []
   },
   "outputs": [
    {
     "data": {
      "text/plain": [
       "array([ 3,  7, 12, 18])"
      ]
     },
     "execution_count": 45,
     "metadata": {},
     "output_type": "execute_result"
    }
   ],
   "source": [
    "np.cumsum([3,4,5,6])"
   ]
  },
  {
   "cell_type": "code",
   "execution_count": 46,
   "id": "bc2777d7",
   "metadata": {
    "execution": {
     "iopub.execute_input": "2024-06-18T10:04:18.570419Z",
     "iopub.status.busy": "2024-06-18T10:04:18.569977Z",
     "iopub.status.idle": "2024-06-18T10:04:18.578366Z",
     "shell.execute_reply": "2024-06-18T10:04:18.576985Z"
    },
    "papermill": {
     "duration": 0.058563,
     "end_time": "2024-06-18T10:04:18.581208",
     "exception": false,
     "start_time": "2024-06-18T10:04:18.522645",
     "status": "completed"
    },
    "tags": []
   },
   "outputs": [
    {
     "data": {
      "text/plain": [
       "True"
      ]
     },
     "execution_count": 46,
     "metadata": {},
     "output_type": "execute_result"
    }
   ],
   "source": [
    "all(np.array([3,4])==np.array([3,4]))"
   ]
  },
  {
   "cell_type": "markdown",
   "id": "94989ba7",
   "metadata": {
    "papermill": {
     "duration": 0.045387,
     "end_time": "2024-06-18T10:04:18.672465",
     "exception": false,
     "start_time": "2024-06-18T10:04:18.627078",
     "status": "completed"
    },
    "tags": []
   },
   "source": [
    "## tf.equal"
   ]
  },
  {
   "cell_type": "code",
   "execution_count": 47,
   "id": "aa2e4624",
   "metadata": {
    "execution": {
     "iopub.execute_input": "2024-06-18T10:04:18.766262Z",
     "iopub.status.busy": "2024-06-18T10:04:18.765123Z",
     "iopub.status.idle": "2024-06-18T10:04:18.776187Z",
     "shell.execute_reply": "2024-06-18T10:04:18.774951Z"
    },
    "papermill": {
     "duration": 0.060892,
     "end_time": "2024-06-18T10:04:18.778774",
     "exception": false,
     "start_time": "2024-06-18T10:04:18.717882",
     "status": "completed"
    },
    "tags": []
   },
   "outputs": [
    {
     "data": {
      "text/plain": [
       "<tf.Tensor: shape=(2,), dtype=bool, numpy=array([ True,  True])>"
      ]
     },
     "execution_count": 47,
     "metadata": {},
     "output_type": "execute_result"
    }
   ],
   "source": [
    "tf.equal([3,4],[3,4])"
   ]
  },
  {
   "cell_type": "code",
   "execution_count": 48,
   "id": "3c4f8686",
   "metadata": {
    "execution": {
     "iopub.execute_input": "2024-06-18T10:04:18.872335Z",
     "iopub.status.busy": "2024-06-18T10:04:18.871905Z",
     "iopub.status.idle": "2024-06-18T10:04:18.879894Z",
     "shell.execute_reply": "2024-06-18T10:04:18.878629Z"
    },
    "papermill": {
     "duration": 0.058259,
     "end_time": "2024-06-18T10:04:18.882389",
     "exception": false,
     "start_time": "2024-06-18T10:04:18.824130",
     "status": "completed"
    },
    "tags": []
   },
   "outputs": [
    {
     "data": {
      "text/plain": [
       "16"
      ]
     },
     "execution_count": 48,
     "metadata": {},
     "output_type": "execute_result"
    }
   ],
   "source": [
    "np.power(2,4)"
   ]
  },
  {
   "cell_type": "markdown",
   "id": "952f454a",
   "metadata": {
    "papermill": {
     "duration": 0.045252,
     "end_time": "2024-06-18T10:04:18.972932",
     "exception": false,
     "start_time": "2024-06-18T10:04:18.927680",
     "status": "completed"
    },
    "tags": []
   },
   "source": [
    "## tf.pow"
   ]
  },
  {
   "cell_type": "code",
   "execution_count": 49,
   "id": "d44e0dfc",
   "metadata": {
    "execution": {
     "iopub.execute_input": "2024-06-18T10:04:19.069835Z",
     "iopub.status.busy": "2024-06-18T10:04:19.069435Z",
     "iopub.status.idle": "2024-06-18T10:04:19.079428Z",
     "shell.execute_reply": "2024-06-18T10:04:19.078041Z"
    },
    "papermill": {
     "duration": 0.0593,
     "end_time": "2024-06-18T10:04:19.081782",
     "exception": false,
     "start_time": "2024-06-18T10:04:19.022482",
     "status": "completed"
    },
    "tags": []
   },
   "outputs": [
    {
     "data": {
      "text/plain": [
       "<tf.Tensor: shape=(), dtype=int32, numpy=16>"
      ]
     },
     "execution_count": 49,
     "metadata": {},
     "output_type": "execute_result"
    }
   ],
   "source": [
    "tf.pow(2,4)"
   ]
  },
  {
   "cell_type": "markdown",
   "id": "cfe33fcc",
   "metadata": {
    "papermill": {
     "duration": 0.047118,
     "end_time": "2024-06-18T10:04:19.175845",
     "exception": false,
     "start_time": "2024-06-18T10:04:19.128727",
     "status": "completed"
    },
    "tags": []
   },
   "source": [
    "## tf.reduce_sum"
   ]
  },
  {
   "cell_type": "code",
   "execution_count": 50,
   "id": "c00e292f",
   "metadata": {
    "execution": {
     "iopub.execute_input": "2024-06-18T10:04:19.273137Z",
     "iopub.status.busy": "2024-06-18T10:04:19.272081Z",
     "iopub.status.idle": "2024-06-18T10:04:19.285355Z",
     "shell.execute_reply": "2024-06-18T10:04:19.284025Z"
    },
    "papermill": {
     "duration": 0.065178,
     "end_time": "2024-06-18T10:04:19.288169",
     "exception": false,
     "start_time": "2024-06-18T10:04:19.222991",
     "status": "completed"
    },
    "tags": []
   },
   "outputs": [
    {
     "data": {
      "text/plain": [
       "<tf.Tensor: shape=(), dtype=int32, numpy=14>"
      ]
     },
     "execution_count": 50,
     "metadata": {},
     "output_type": "execute_result"
    }
   ],
   "source": [
    "tf.reduce_sum([2,3,4,5])"
   ]
  },
  {
   "cell_type": "code",
   "execution_count": 51,
   "id": "7964d15a",
   "metadata": {
    "execution": {
     "iopub.execute_input": "2024-06-18T10:04:19.390090Z",
     "iopub.status.busy": "2024-06-18T10:04:19.389648Z",
     "iopub.status.idle": "2024-06-18T10:04:19.397467Z",
     "shell.execute_reply": "2024-06-18T10:04:19.396172Z"
    },
    "papermill": {
     "duration": 0.063808,
     "end_time": "2024-06-18T10:04:19.401323",
     "exception": false,
     "start_time": "2024-06-18T10:04:19.337515",
     "status": "completed"
    },
    "tags": []
   },
   "outputs": [],
   "source": [
    "arr1=pd.Series([2,3,4,5,5])"
   ]
  },
  {
   "cell_type": "code",
   "execution_count": 52,
   "id": "549a35c0",
   "metadata": {
    "execution": {
     "iopub.execute_input": "2024-06-18T10:04:19.498698Z",
     "iopub.status.busy": "2024-06-18T10:04:19.498286Z",
     "iopub.status.idle": "2024-06-18T10:04:19.514625Z",
     "shell.execute_reply": "2024-06-18T10:04:19.513426Z"
    },
    "papermill": {
     "duration": 0.068489,
     "end_time": "2024-06-18T10:04:19.517369",
     "exception": false,
     "start_time": "2024-06-18T10:04:19.448880",
     "status": "completed"
    },
    "tags": []
   },
   "outputs": [
    {
     "data": {
      "text/plain": [
       "3    5\n",
       "4    5\n",
       "dtype: int64"
      ]
     },
     "execution_count": 52,
     "metadata": {},
     "output_type": "execute_result"
    }
   ],
   "source": [
    "arr1.nlargest(2)"
   ]
  },
  {
   "cell_type": "code",
   "execution_count": 53,
   "id": "eb2a49d1",
   "metadata": {
    "execution": {
     "iopub.execute_input": "2024-06-18T10:04:19.612336Z",
     "iopub.status.busy": "2024-06-18T10:04:19.611914Z",
     "iopub.status.idle": "2024-06-18T10:04:19.618109Z",
     "shell.execute_reply": "2024-06-18T10:04:19.616554Z"
    },
    "papermill": {
     "duration": 0.056928,
     "end_time": "2024-06-18T10:04:19.621078",
     "exception": false,
     "start_time": "2024-06-18T10:04:19.564150",
     "status": "completed"
    },
    "tags": []
   },
   "outputs": [],
   "source": [
    "arr2=[[1,2,3],\n",
    "      [6,7,8],\n",
    "      [6,9,10]]"
   ]
  },
  {
   "cell_type": "markdown",
   "id": "f4646d07",
   "metadata": {
    "papermill": {
     "duration": 0.048861,
     "end_time": "2024-06-18T10:04:19.718484",
     "exception": false,
     "start_time": "2024-06-18T10:04:19.669623",
     "status": "completed"
    },
    "tags": []
   },
   "source": [
    "## tf.reduce_mean with different axis variations"
   ]
  },
  {
   "cell_type": "code",
   "execution_count": 54,
   "id": "2a923179",
   "metadata": {
    "execution": {
     "iopub.execute_input": "2024-06-18T10:04:19.814425Z",
     "iopub.status.busy": "2024-06-18T10:04:19.813224Z",
     "iopub.status.idle": "2024-06-18T10:04:19.826007Z",
     "shell.execute_reply": "2024-06-18T10:04:19.824494Z"
    },
    "papermill": {
     "duration": 0.063598,
     "end_time": "2024-06-18T10:04:19.828581",
     "exception": false,
     "start_time": "2024-06-18T10:04:19.764983",
     "status": "completed"
    },
    "tags": []
   },
   "outputs": [
    {
     "name": "stdout",
     "output_type": "stream",
     "text": [
      "tf.Tensor(5, shape=(), dtype=int32)\n",
      "tf.Tensor([4 6 7], shape=(3,), dtype=int32)\n",
      "tf.Tensor([2 7 8], shape=(3,), dtype=int32)\n"
     ]
    }
   ],
   "source": [
    "print(tf.reduce_mean(arr2))\n",
    "print(tf.reduce_mean(arr2,axis=0))\n",
    "print(tf.reduce_mean(arr2,axis=1))# Likewise reduce by sum,std etc"
   ]
  },
  {
   "cell_type": "markdown",
   "id": "487c67a2",
   "metadata": {
    "papermill": {
     "duration": 0.047541,
     "end_time": "2024-06-18T10:04:19.924349",
     "exception": false,
     "start_time": "2024-06-18T10:04:19.876808",
     "status": "completed"
    },
    "tags": []
   },
   "source": [
    "## tf.math.top_k"
   ]
  },
  {
   "cell_type": "code",
   "execution_count": 55,
   "id": "0692b563",
   "metadata": {
    "execution": {
     "iopub.execute_input": "2024-06-18T10:04:20.024587Z",
     "iopub.status.busy": "2024-06-18T10:04:20.024156Z",
     "iopub.status.idle": "2024-06-18T10:04:20.033100Z",
     "shell.execute_reply": "2024-06-18T10:04:20.032033Z"
    },
    "papermill": {
     "duration": 0.062058,
     "end_time": "2024-06-18T10:04:20.035773",
     "exception": false,
     "start_time": "2024-06-18T10:04:19.973715",
     "status": "completed"
    },
    "tags": []
   },
   "outputs": [
    {
     "data": {
      "text/plain": [
       "TopKV2(values=<tf.Tensor: shape=(3, 1), dtype=int32, numpy=\n",
       "array([[ 3],\n",
       "       [ 8],\n",
       "       [10]], dtype=int32)>, indices=<tf.Tensor: shape=(3, 1), dtype=int32, numpy=\n",
       "array([[2],\n",
       "       [2],\n",
       "       [2]], dtype=int32)>)"
      ]
     },
     "execution_count": 55,
     "metadata": {},
     "output_type": "execute_result"
    }
   ],
   "source": [
    "tf.math.top_k(arr2)# default k=1"
   ]
  },
  {
   "cell_type": "code",
   "execution_count": 56,
   "id": "d5b0bfbd",
   "metadata": {
    "execution": {
     "iopub.execute_input": "2024-06-18T10:04:20.136084Z",
     "iopub.status.busy": "2024-06-18T10:04:20.135665Z",
     "iopub.status.idle": "2024-06-18T10:04:20.145672Z",
     "shell.execute_reply": "2024-06-18T10:04:20.144329Z"
    },
    "papermill": {
     "duration": 0.063662,
     "end_time": "2024-06-18T10:04:20.148530",
     "exception": false,
     "start_time": "2024-06-18T10:04:20.084868",
     "status": "completed"
    },
    "tags": []
   },
   "outputs": [
    {
     "data": {
      "text/plain": [
       "TopKV2(values=<tf.Tensor: shape=(3, 2), dtype=int32, numpy=\n",
       "array([[ 3,  2],\n",
       "       [ 8,  7],\n",
       "       [10,  9]], dtype=int32)>, indices=<tf.Tensor: shape=(3, 2), dtype=int32, numpy=\n",
       "array([[2, 1],\n",
       "       [2, 1],\n",
       "       [2, 1]], dtype=int32)>)"
      ]
     },
     "execution_count": 56,
     "metadata": {},
     "output_type": "execute_result"
    }
   ],
   "source": [
    "tf.math.top_k(arr2,k=2) #1-value,2-position"
   ]
  },
  {
   "cell_type": "markdown",
   "id": "33466b6f",
   "metadata": {
    "papermill": {
     "duration": 0.05566,
     "end_time": "2024-06-18T10:04:20.254497",
     "exception": false,
     "start_time": "2024-06-18T10:04:20.198837",
     "status": "completed"
    },
    "tags": []
   },
   "source": [
    "# Linear Algebra"
   ]
  },
  {
   "cell_type": "code",
   "execution_count": 57,
   "id": "e614dc41",
   "metadata": {
    "execution": {
     "iopub.execute_input": "2024-06-18T10:04:20.354426Z",
     "iopub.status.busy": "2024-06-18T10:04:20.353999Z",
     "iopub.status.idle": "2024-06-18T10:04:20.360934Z",
     "shell.execute_reply": "2024-06-18T10:04:20.359692Z"
    },
    "papermill": {
     "duration": 0.060469,
     "end_time": "2024-06-18T10:04:20.363484",
     "exception": false,
     "start_time": "2024-06-18T10:04:20.303015",
     "status": "completed"
    },
    "tags": []
   },
   "outputs": [],
   "source": [
    "arr1=tf.constant([[1,2,3,4],[4,5,6,7]],dtype=tf.float16)\n",
    "arr2=tf.constant([[1,2],[3,4],[5,6],[7,8]],dtype=tf.float16)"
   ]
  },
  {
   "cell_type": "code",
   "execution_count": 58,
   "id": "84bb69e3",
   "metadata": {
    "execution": {
     "iopub.execute_input": "2024-06-18T10:04:20.480617Z",
     "iopub.status.busy": "2024-06-18T10:04:20.479947Z",
     "iopub.status.idle": "2024-06-18T10:04:20.489138Z",
     "shell.execute_reply": "2024-06-18T10:04:20.487351Z"
    },
    "papermill": {
     "duration": 0.074686,
     "end_time": "2024-06-18T10:04:20.492094",
     "exception": false,
     "start_time": "2024-06-18T10:04:20.417408",
     "status": "completed"
    },
    "tags": []
   },
   "outputs": [
    {
     "data": {
      "text/plain": [
       "TensorShape([2, 4])"
      ]
     },
     "execution_count": 58,
     "metadata": {},
     "output_type": "execute_result"
    }
   ],
   "source": [
    "arr1.shape"
   ]
  },
  {
   "cell_type": "code",
   "execution_count": 59,
   "id": "0aede908",
   "metadata": {
    "execution": {
     "iopub.execute_input": "2024-06-18T10:04:20.589506Z",
     "iopub.status.busy": "2024-06-18T10:04:20.589040Z",
     "iopub.status.idle": "2024-06-18T10:04:20.597024Z",
     "shell.execute_reply": "2024-06-18T10:04:20.595679Z"
    },
    "papermill": {
     "duration": 0.059954,
     "end_time": "2024-06-18T10:04:20.599633",
     "exception": false,
     "start_time": "2024-06-18T10:04:20.539679",
     "status": "completed"
    },
    "tags": []
   },
   "outputs": [
    {
     "data": {
      "text/plain": [
       "TensorShape([4, 2])"
      ]
     },
     "execution_count": 59,
     "metadata": {},
     "output_type": "execute_result"
    }
   ],
   "source": [
    "arr2.shape"
   ]
  },
  {
   "cell_type": "markdown",
   "id": "9a19d4c1",
   "metadata": {
    "papermill": {
     "duration": 0.049621,
     "end_time": "2024-06-18T10:04:20.698745",
     "exception": false,
     "start_time": "2024-06-18T10:04:20.649124",
     "status": "completed"
    },
    "tags": []
   },
   "source": [
    "## tf.linalg.matmul"
   ]
  },
  {
   "cell_type": "code",
   "execution_count": 60,
   "id": "02f725ac",
   "metadata": {
    "execution": {
     "iopub.execute_input": "2024-06-18T10:04:20.799376Z",
     "iopub.status.busy": "2024-06-18T10:04:20.798879Z",
     "iopub.status.idle": "2024-06-18T10:04:20.811024Z",
     "shell.execute_reply": "2024-06-18T10:04:20.809878Z"
    },
    "papermill": {
     "duration": 0.066103,
     "end_time": "2024-06-18T10:04:20.814133",
     "exception": false,
     "start_time": "2024-06-18T10:04:20.748030",
     "status": "completed"
    },
    "tags": []
   },
   "outputs": [],
   "source": [
    "output=tf.linalg.matmul(arr1,arr2) # matrix multiplication is different from element multiplication"
   ]
  },
  {
   "cell_type": "code",
   "execution_count": 61,
   "id": "bbb54a0c",
   "metadata": {
    "execution": {
     "iopub.execute_input": "2024-06-18T10:04:20.914967Z",
     "iopub.status.busy": "2024-06-18T10:04:20.914530Z",
     "iopub.status.idle": "2024-06-18T10:04:20.922686Z",
     "shell.execute_reply": "2024-06-18T10:04:20.921336Z"
    },
    "papermill": {
     "duration": 0.06226,
     "end_time": "2024-06-18T10:04:20.925599",
     "exception": false,
     "start_time": "2024-06-18T10:04:20.863339",
     "status": "completed"
    },
    "tags": []
   },
   "outputs": [
    {
     "data": {
      "text/plain": [
       "TensorShape([2, 2])"
      ]
     },
     "execution_count": 61,
     "metadata": {},
     "output_type": "execute_result"
    }
   ],
   "source": [
    "output.shape"
   ]
  },
  {
   "cell_type": "markdown",
   "id": "daafa426",
   "metadata": {
    "papermill": {
     "duration": 0.048863,
     "end_time": "2024-06-18T10:04:21.023773",
     "exception": false,
     "start_time": "2024-06-18T10:04:20.974910",
     "status": "completed"
    },
    "tags": []
   },
   "source": [
    "## Matrix multiplication with symbol"
   ]
  },
  {
   "cell_type": "code",
   "execution_count": 62,
   "id": "f2de564f",
   "metadata": {
    "execution": {
     "iopub.execute_input": "2024-06-18T10:04:21.124754Z",
     "iopub.status.busy": "2024-06-18T10:04:21.124358Z",
     "iopub.status.idle": "2024-06-18T10:04:21.133402Z",
     "shell.execute_reply": "2024-06-18T10:04:21.132185Z"
    },
    "papermill": {
     "duration": 0.062967,
     "end_time": "2024-06-18T10:04:21.135813",
     "exception": false,
     "start_time": "2024-06-18T10:04:21.072846",
     "status": "completed"
    },
    "tags": []
   },
   "outputs": [
    {
     "data": {
      "text/plain": [
       "<tf.Tensor: shape=(2, 2), dtype=float16, numpy=\n",
       "array([[ 50.,  60.],\n",
       "       [ 98., 120.]], dtype=float16)>"
      ]
     },
     "execution_count": 62,
     "metadata": {},
     "output_type": "execute_result"
    }
   ],
   "source": [
    "  arr1@arr2"
   ]
  },
  {
   "cell_type": "markdown",
   "id": "44d943f1",
   "metadata": {
    "papermill": {
     "duration": 0.047837,
     "end_time": "2024-06-18T10:04:21.232566",
     "exception": false,
     "start_time": "2024-06-18T10:04:21.184729",
     "status": "completed"
    },
    "tags": []
   },
   "source": [
    "## tf.transpose"
   ]
  },
  {
   "cell_type": "code",
   "execution_count": 63,
   "id": "e16696c1",
   "metadata": {
    "execution": {
     "iopub.execute_input": "2024-06-18T10:04:21.331677Z",
     "iopub.status.busy": "2024-06-18T10:04:21.331226Z",
     "iopub.status.idle": "2024-06-18T10:04:21.341958Z",
     "shell.execute_reply": "2024-06-18T10:04:21.340740Z"
    },
    "papermill": {
     "duration": 0.064076,
     "end_time": "2024-06-18T10:04:21.344606",
     "exception": false,
     "start_time": "2024-06-18T10:04:21.280530",
     "status": "completed"
    },
    "tags": []
   },
   "outputs": [
    {
     "data": {
      "text/plain": [
       "<tf.Tensor: shape=(4, 2), dtype=float16, numpy=\n",
       "array([[1., 4.],\n",
       "       [2., 5.],\n",
       "       [3., 6.],\n",
       "       [4., 7.]], dtype=float16)>"
      ]
     },
     "execution_count": 63,
     "metadata": {},
     "output_type": "execute_result"
    }
   ],
   "source": [
    "tf.transpose(arr1)"
   ]
  },
  {
   "cell_type": "markdown",
   "id": "a75ddd05",
   "metadata": {
    "papermill": {
     "duration": 0.049958,
     "end_time": "2024-06-18T10:04:21.446737",
     "exception": false,
     "start_time": "2024-06-18T10:04:21.396779",
     "status": "completed"
    },
    "tags": []
   },
   "source": [
    "## tf.linalg.adjoint"
   ]
  },
  {
   "cell_type": "code",
   "execution_count": 64,
   "id": "e17867cf",
   "metadata": {
    "execution": {
     "iopub.execute_input": "2024-06-18T10:04:21.548289Z",
     "iopub.status.busy": "2024-06-18T10:04:21.547860Z",
     "iopub.status.idle": "2024-06-18T10:04:21.557505Z",
     "shell.execute_reply": "2024-06-18T10:04:21.556277Z"
    },
    "papermill": {
     "duration": 0.063275,
     "end_time": "2024-06-18T10:04:21.559978",
     "exception": false,
     "start_time": "2024-06-18T10:04:21.496703",
     "status": "completed"
    },
    "tags": []
   },
   "outputs": [
    {
     "data": {
      "text/plain": [
       "<tf.Tensor: shape=(2, 4), dtype=float16, numpy=\n",
       "array([[1., 3., 5., 7.],\n",
       "       [2., 4., 6., 8.]], dtype=float16)>"
      ]
     },
     "execution_count": 64,
     "metadata": {},
     "output_type": "execute_result"
    }
   ],
   "source": [
    "tf.linalg.adjoint(arr2)"
   ]
  },
  {
   "cell_type": "markdown",
   "id": "7fc3e661",
   "metadata": {
    "papermill": {
     "duration": 0.04944,
     "end_time": "2024-06-18T10:04:21.659012",
     "exception": false,
     "start_time": "2024-06-18T10:04:21.609572",
     "status": "completed"
    },
    "tags": []
   },
   "source": [
    "## tf.linalg.inv"
   ]
  },
  {
   "cell_type": "code",
   "execution_count": 65,
   "id": "c97ac93f",
   "metadata": {
    "execution": {
     "iopub.execute_input": "2024-06-18T10:04:21.759993Z",
     "iopub.status.busy": "2024-06-18T10:04:21.759576Z",
     "iopub.status.idle": "2024-06-18T10:04:21.771118Z",
     "shell.execute_reply": "2024-06-18T10:04:21.769862Z"
    },
    "papermill": {
     "duration": 0.065013,
     "end_time": "2024-06-18T10:04:21.773706",
     "exception": false,
     "start_time": "2024-06-18T10:04:21.708693",
     "status": "completed"
    },
    "tags": []
   },
   "outputs": [
    {
     "data": {
      "text/plain": [
       "<tf.Tensor: shape=(2, 2), dtype=float32, numpy=\n",
       "array([[-2.0000002 ,  1.0000001 ],\n",
       "       [ 1.5000001 , -0.50000006]], dtype=float32)>"
      ]
     },
     "execution_count": 65,
     "metadata": {},
     "output_type": "execute_result"
    }
   ],
   "source": [
    "tf.linalg.inv([[1.0,2],[3,4]])"
   ]
  },
  {
   "cell_type": "markdown",
   "id": "cdd34225",
   "metadata": {
    "papermill": {
     "duration": 0.049431,
     "end_time": "2024-06-18T10:04:21.873619",
     "exception": false,
     "start_time": "2024-06-18T10:04:21.824188",
     "status": "completed"
    },
    "tags": []
   },
   "source": [
    "## tf.linalg.det"
   ]
  },
  {
   "cell_type": "code",
   "execution_count": 66,
   "id": "0c0983bb",
   "metadata": {
    "execution": {
     "iopub.execute_input": "2024-06-18T10:04:21.975083Z",
     "iopub.status.busy": "2024-06-18T10:04:21.974303Z",
     "iopub.status.idle": "2024-06-18T10:04:21.983590Z",
     "shell.execute_reply": "2024-06-18T10:04:21.982398Z"
    },
    "papermill": {
     "duration": 0.062664,
     "end_time": "2024-06-18T10:04:21.986087",
     "exception": false,
     "start_time": "2024-06-18T10:04:21.923423",
     "status": "completed"
    },
    "tags": []
   },
   "outputs": [
    {
     "data": {
      "text/plain": [
       "<tf.Tensor: shape=(), dtype=float32, numpy=-2.0>"
      ]
     },
     "execution_count": 66,
     "metadata": {},
     "output_type": "execute_result"
    }
   ],
   "source": [
    "tf.linalg.det([[1.0,2],[3,4]])"
   ]
  },
  {
   "cell_type": "markdown",
   "id": "b93d229a",
   "metadata": {
    "papermill": {
     "duration": 0.049964,
     "end_time": "2024-06-18T10:04:22.088502",
     "exception": false,
     "start_time": "2024-06-18T10:04:22.038538",
     "status": "completed"
    },
    "tags": []
   },
   "source": [
    "# Einsum"
   ]
  },
  {
   "cell_type": "code",
   "execution_count": 67,
   "id": "59399721",
   "metadata": {
    "execution": {
     "iopub.execute_input": "2024-06-18T10:04:22.192106Z",
     "iopub.status.busy": "2024-06-18T10:04:22.191691Z",
     "iopub.status.idle": "2024-06-18T10:04:22.197782Z",
     "shell.execute_reply": "2024-06-18T10:04:22.196542Z"
    },
    "papermill": {
     "duration": 0.060262,
     "end_time": "2024-06-18T10:04:22.200138",
     "exception": false,
     "start_time": "2024-06-18T10:04:22.139876",
     "status": "completed"
    },
    "tags": []
   },
   "outputs": [],
   "source": [
    "arr1=np.array([[1,2,3,4],[5,6,7,8]])\n",
    "arr2=np.array([[1,2,3,4],[5,6,7,8]])"
   ]
  },
  {
   "cell_type": "code",
   "execution_count": 68,
   "id": "2752379d",
   "metadata": {
    "execution": {
     "iopub.execute_input": "2024-06-18T10:04:22.302930Z",
     "iopub.status.busy": "2024-06-18T10:04:22.302513Z",
     "iopub.status.idle": "2024-06-18T10:04:22.309913Z",
     "shell.execute_reply": "2024-06-18T10:04:22.308675Z"
    },
    "papermill": {
     "duration": 0.06137,
     "end_time": "2024-06-18T10:04:22.312269",
     "exception": false,
     "start_time": "2024-06-18T10:04:22.250899",
     "status": "completed"
    },
    "tags": []
   },
   "outputs": [
    {
     "data": {
      "text/plain": [
       "(2, 4)"
      ]
     },
     "execution_count": 68,
     "metadata": {},
     "output_type": "execute_result"
    }
   ],
   "source": [
    "arr2.shape"
   ]
  },
  {
   "cell_type": "code",
   "execution_count": 69,
   "id": "4ed5f1f9",
   "metadata": {
    "execution": {
     "iopub.execute_input": "2024-06-18T10:04:22.417036Z",
     "iopub.status.busy": "2024-06-18T10:04:22.416632Z",
     "iopub.status.idle": "2024-06-18T10:04:22.423878Z",
     "shell.execute_reply": "2024-06-18T10:04:22.422802Z"
    },
    "papermill": {
     "duration": 0.063181,
     "end_time": "2024-06-18T10:04:22.426514",
     "exception": false,
     "start_time": "2024-06-18T10:04:22.363333",
     "status": "completed"
    },
    "tags": []
   },
   "outputs": [
    {
     "data": {
      "text/plain": [
       "(2, 4)"
      ]
     },
     "execution_count": 69,
     "metadata": {},
     "output_type": "execute_result"
    }
   ],
   "source": [
    "arr1.shape"
   ]
  },
  {
   "cell_type": "code",
   "execution_count": 70,
   "id": "ce27d5c2",
   "metadata": {
    "execution": {
     "iopub.execute_input": "2024-06-18T10:04:22.530536Z",
     "iopub.status.busy": "2024-06-18T10:04:22.530116Z",
     "iopub.status.idle": "2024-06-18T10:04:22.537909Z",
     "shell.execute_reply": "2024-06-18T10:04:22.536685Z"
    },
    "papermill": {
     "duration": 0.063367,
     "end_time": "2024-06-18T10:04:22.540641",
     "exception": false,
     "start_time": "2024-06-18T10:04:22.477274",
     "status": "completed"
    },
    "tags": []
   },
   "outputs": [
    {
     "data": {
      "text/plain": [
       "array([[ 1,  4,  9, 16],\n",
       "       [25, 36, 49, 64]])"
      ]
     },
     "execution_count": 70,
     "metadata": {},
     "output_type": "execute_result"
    }
   ],
   "source": [
    "np.einsum('ij,ij->ij',arr1,arr2)"
   ]
  },
  {
   "cell_type": "code",
   "execution_count": 71,
   "id": "8d57cad3",
   "metadata": {
    "execution": {
     "iopub.execute_input": "2024-06-18T10:04:22.643472Z",
     "iopub.status.busy": "2024-06-18T10:04:22.642995Z",
     "iopub.status.idle": "2024-06-18T10:04:22.651264Z",
     "shell.execute_reply": "2024-06-18T10:04:22.649936Z"
    },
    "papermill": {
     "duration": 0.063053,
     "end_time": "2024-06-18T10:04:22.654085",
     "exception": false,
     "start_time": "2024-06-18T10:04:22.591032",
     "status": "completed"
    },
    "tags": []
   },
   "outputs": [
    {
     "data": {
      "text/plain": [
       "array([[26, 32, 38, 44],\n",
       "       [32, 40, 48, 56],\n",
       "       [38, 48, 58, 68],\n",
       "       [44, 56, 68, 80]])"
      ]
     },
     "execution_count": 71,
     "metadata": {},
     "output_type": "execute_result"
    }
   ],
   "source": [
    "np.einsum('ij,ik->kj',arr1,arr2)"
   ]
  },
  {
   "cell_type": "code",
   "execution_count": 72,
   "id": "2f4d566f",
   "metadata": {
    "execution": {
     "iopub.execute_input": "2024-06-18T10:04:22.759444Z",
     "iopub.status.busy": "2024-06-18T10:04:22.758971Z",
     "iopub.status.idle": "2024-06-18T10:04:22.765300Z",
     "shell.execute_reply": "2024-06-18T10:04:22.764013Z"
    },
    "papermill": {
     "duration": 0.062028,
     "end_time": "2024-06-18T10:04:22.767645",
     "exception": false,
     "start_time": "2024-06-18T10:04:22.705617",
     "status": "completed"
    },
    "tags": []
   },
   "outputs": [],
   "source": [
    "arr1=np.random.randint(1,100,size=(2,3,4))"
   ]
  },
  {
   "cell_type": "code",
   "execution_count": 73,
   "id": "9f0277a3",
   "metadata": {
    "execution": {
     "iopub.execute_input": "2024-06-18T10:04:22.871539Z",
     "iopub.status.busy": "2024-06-18T10:04:22.871067Z",
     "iopub.status.idle": "2024-06-18T10:04:22.877292Z",
     "shell.execute_reply": "2024-06-18T10:04:22.875822Z"
    },
    "papermill": {
     "duration": 0.06065,
     "end_time": "2024-06-18T10:04:22.880096",
     "exception": false,
     "start_time": "2024-06-18T10:04:22.819446",
     "status": "completed"
    },
    "tags": []
   },
   "outputs": [],
   "source": [
    "arr2=np.random.randint(1,100,size=(2,4,3))"
   ]
  },
  {
   "cell_type": "code",
   "execution_count": 74,
   "id": "cf37b944",
   "metadata": {
    "execution": {
     "iopub.execute_input": "2024-06-18T10:04:22.982787Z",
     "iopub.status.busy": "2024-06-18T10:04:22.982336Z",
     "iopub.status.idle": "2024-06-18T10:04:22.996484Z",
     "shell.execute_reply": "2024-06-18T10:04:22.995109Z"
    },
    "papermill": {
     "duration": 0.068531,
     "end_time": "2024-06-18T10:04:22.999108",
     "exception": false,
     "start_time": "2024-06-18T10:04:22.930577",
     "status": "completed"
    },
    "tags": []
   },
   "outputs": [
    {
     "data": {
      "text/plain": [
       "<tf.Tensor: shape=(2, 3, 3), dtype=int64, numpy=\n",
       "array([[[ 4489,  3258,  3631],\n",
       "        [ 4099,  3738,  3672],\n",
       "        [ 5105,  4741,  6608]],\n",
       "\n",
       "       [[ 3855,  5794,  6385],\n",
       "        [13656,  6452, 15865],\n",
       "        [13567,  7623, 16570]]])>"
      ]
     },
     "execution_count": 74,
     "metadata": {},
     "output_type": "execute_result"
    }
   ],
   "source": [
    "tf.einsum('lij,ljk->lik',arr1,arr2)"
   ]
  },
  {
   "cell_type": "code",
   "execution_count": 75,
   "id": "f9990d4d",
   "metadata": {
    "execution": {
     "iopub.execute_input": "2024-06-18T10:04:23.106852Z",
     "iopub.status.busy": "2024-06-18T10:04:23.106387Z",
     "iopub.status.idle": "2024-06-18T10:04:23.117685Z",
     "shell.execute_reply": "2024-06-18T10:04:23.116327Z"
    },
    "papermill": {
     "duration": 0.06625,
     "end_time": "2024-06-18T10:04:23.120117",
     "exception": false,
     "start_time": "2024-06-18T10:04:23.053867",
     "status": "completed"
    },
    "tags": []
   },
   "outputs": [
    {
     "data": {
      "text/plain": [
       "<tf.Tensor: shape=(2, 3, 3), dtype=int64, numpy=\n",
       "array([[[ 4489,  3258,  3631],\n",
       "        [ 4099,  3738,  3672],\n",
       "        [ 5105,  4741,  6608]],\n",
       "\n",
       "       [[ 3855,  5794,  6385],\n",
       "        [13656,  6452, 15865],\n",
       "        [13567,  7623, 16570]]])>"
      ]
     },
     "execution_count": 75,
     "metadata": {},
     "output_type": "execute_result"
    }
   ],
   "source": [
    "tf.linalg.matmul(arr1,arr2)"
   ]
  },
  {
   "cell_type": "code",
   "execution_count": 76,
   "id": "a52c64ac",
   "metadata": {
    "execution": {
     "iopub.execute_input": "2024-06-18T10:04:23.225329Z",
     "iopub.status.busy": "2024-06-18T10:04:23.224200Z",
     "iopub.status.idle": "2024-06-18T10:04:23.234564Z",
     "shell.execute_reply": "2024-06-18T10:04:23.233303Z"
    },
    "papermill": {
     "duration": 0.06572,
     "end_time": "2024-06-18T10:04:23.237158",
     "exception": false,
     "start_time": "2024-06-18T10:04:23.171438",
     "status": "completed"
    },
    "tags": []
   },
   "outputs": [
    {
     "data": {
      "text/plain": [
       "<tf.Tensor: shape=(), dtype=int64, numpy=946>"
      ]
     },
     "execution_count": 76,
     "metadata": {},
     "output_type": "execute_result"
    }
   ],
   "source": [
    "tf.einsum('lij->',arr1)"
   ]
  },
  {
   "cell_type": "code",
   "execution_count": 77,
   "id": "68eed359",
   "metadata": {
    "execution": {
     "iopub.execute_input": "2024-06-18T10:04:23.344668Z",
     "iopub.status.busy": "2024-06-18T10:04:23.344171Z",
     "iopub.status.idle": "2024-06-18T10:04:23.352261Z",
     "shell.execute_reply": "2024-06-18T10:04:23.351042Z"
    },
    "papermill": {
     "duration": 0.065002,
     "end_time": "2024-06-18T10:04:23.354816",
     "exception": false,
     "start_time": "2024-06-18T10:04:23.289814",
     "status": "completed"
    },
    "tags": []
   },
   "outputs": [
    {
     "data": {
      "text/plain": [
       "946"
      ]
     },
     "execution_count": 77,
     "metadata": {},
     "output_type": "execute_result"
    }
   ],
   "source": [
    "np.sum(arr1)"
   ]
  },
  {
   "cell_type": "code",
   "execution_count": 78,
   "id": "2ed95227",
   "metadata": {
    "execution": {
     "iopub.execute_input": "2024-06-18T10:04:23.464266Z",
     "iopub.status.busy": "2024-06-18T10:04:23.463816Z",
     "iopub.status.idle": "2024-06-18T10:04:23.473740Z",
     "shell.execute_reply": "2024-06-18T10:04:23.472407Z"
    },
    "papermill": {
     "duration": 0.066751,
     "end_time": "2024-06-18T10:04:23.476267",
     "exception": false,
     "start_time": "2024-06-18T10:04:23.409516",
     "status": "completed"
    },
    "tags": []
   },
   "outputs": [
    {
     "name": "stdout",
     "output_type": "stream",
     "text": [
      "Tensorflow Einsum :  tf.Tensor(\n",
      "[[160   7  50  45]\n",
      " [ 72  99  46 105]\n",
      " [ 80 123  56 103]], shape=(3, 4), dtype=int64)\n",
      "Numpy axis sum :  [[160   7  50  45]\n",
      " [ 72  99  46 105]\n",
      " [ 80 123  56 103]]\n"
     ]
    }
   ],
   "source": [
    "print('Tensorflow Einsum : ',tf.einsum('lij->ij',arr1))\n",
    "print('Numpy axis sum : ',np.sum(arr1,axis=0))"
   ]
  },
  {
   "cell_type": "code",
   "execution_count": 79,
   "id": "b33e3fe9",
   "metadata": {
    "execution": {
     "iopub.execute_input": "2024-06-18T10:04:23.583073Z",
     "iopub.status.busy": "2024-06-18T10:04:23.582628Z",
     "iopub.status.idle": "2024-06-18T10:04:23.589269Z",
     "shell.execute_reply": "2024-06-18T10:04:23.587828Z"
    },
    "papermill": {
     "duration": 0.06319,
     "end_time": "2024-06-18T10:04:23.591940",
     "exception": false,
     "start_time": "2024-06-18T10:04:23.528750",
     "status": "completed"
    },
    "tags": []
   },
   "outputs": [],
   "source": [
    "arr1=tf.constant([[1,2,3],[5,6,7]])"
   ]
  },
  {
   "cell_type": "code",
   "execution_count": 80,
   "id": "92a4e975",
   "metadata": {
    "execution": {
     "iopub.execute_input": "2024-06-18T10:04:23.699328Z",
     "iopub.status.busy": "2024-06-18T10:04:23.698839Z",
     "iopub.status.idle": "2024-06-18T10:04:23.707498Z",
     "shell.execute_reply": "2024-06-18T10:04:23.705903Z"
    },
    "papermill": {
     "duration": 0.065881,
     "end_time": "2024-06-18T10:04:23.710323",
     "exception": false,
     "start_time": "2024-06-18T10:04:23.644442",
     "status": "completed"
    },
    "tags": []
   },
   "outputs": [
    {
     "name": "stdout",
     "output_type": "stream",
     "text": [
      "Tensorflow Einsum :  tf.Tensor([ 6 18], shape=(2,), dtype=int32)\n",
      "Numpy axis sum :  [ 6 18]\n"
     ]
    }
   ],
   "source": [
    "print('Tensorflow Einsum : ',tf.einsum('ij->i',arr1))\n",
    "print('Numpy axis sum : ',np.sum(arr1,axis=1))"
   ]
  },
  {
   "cell_type": "markdown",
   "id": "2aeffd2e",
   "metadata": {
    "papermill": {
     "duration": 0.052334,
     "end_time": "2024-06-18T10:04:23.816422",
     "exception": false,
     "start_time": "2024-06-18T10:04:23.764088",
     "status": "completed"
    },
    "tags": []
   },
   "source": [
    "### Expand Dims Function"
   ]
  },
  {
   "cell_type": "code",
   "execution_count": 81,
   "id": "dce3cd72",
   "metadata": {
    "execution": {
     "iopub.execute_input": "2024-06-18T10:04:23.925363Z",
     "iopub.status.busy": "2024-06-18T10:04:23.924881Z",
     "iopub.status.idle": "2024-06-18T10:04:23.930070Z",
     "shell.execute_reply": "2024-06-18T10:04:23.928951Z"
    },
    "papermill": {
     "duration": 0.061896,
     "end_time": "2024-06-18T10:04:23.932593",
     "exception": false,
     "start_time": "2024-06-18T10:04:23.870697",
     "status": "completed"
    },
    "tags": []
   },
   "outputs": [],
   "source": [
    "## Expand Tensor by one dimension"
   ]
  },
  {
   "cell_type": "code",
   "execution_count": 82,
   "id": "4eda4284",
   "metadata": {
    "execution": {
     "iopub.execute_input": "2024-06-18T10:04:24.039968Z",
     "iopub.status.busy": "2024-06-18T10:04:24.039485Z",
     "iopub.status.idle": "2024-06-18T10:04:24.050374Z",
     "shell.execute_reply": "2024-06-18T10:04:24.049044Z"
    },
    "papermill": {
     "duration": 0.067883,
     "end_time": "2024-06-18T10:04:24.052764",
     "exception": false,
     "start_time": "2024-06-18T10:04:23.984881",
     "status": "completed"
    },
    "tags": []
   },
   "outputs": [
    {
     "name": "stdout",
     "output_type": "stream",
     "text": [
      "Axis=-1 :  tf.Tensor(\n",
      "[[[1]\n",
      "  [2]\n",
      "  [3]]\n",
      "\n",
      " [[5]\n",
      "  [6]\n",
      "  [7]]], shape=(2, 3, 1), dtype=int32)\n",
      "Axis=0 :  tf.Tensor(\n",
      "[[[1 2 3]\n",
      "  [5 6 7]]], shape=(1, 2, 3), dtype=int32)\n",
      "Axis=1 :  tf.Tensor(\n",
      "[[[1 2 3]]\n",
      "\n",
      " [[5 6 7]]], shape=(2, 1, 3), dtype=int32)\n",
      "Axis=2 :  tf.Tensor(\n",
      "[[[1]\n",
      "  [2]\n",
      "  [3]]\n",
      "\n",
      " [[5]\n",
      "  [6]\n",
      "  [7]]], shape=(2, 3, 1), dtype=int32)\n"
     ]
    }
   ],
   "source": [
    "print('Axis=-1 : ',tf.expand_dims(arr1,axis=-1))\n",
    "print('Axis=0 : ',tf.expand_dims(arr1,axis=0))\n",
    "print('Axis=1 : ',tf.expand_dims(arr1,axis=1))\n",
    "print('Axis=2 : ',tf.expand_dims(arr1,axis=2))"
   ]
  },
  {
   "cell_type": "markdown",
   "id": "8c45ffbb",
   "metadata": {
    "papermill": {
     "duration": 0.052041,
     "end_time": "2024-06-18T10:04:24.157103",
     "exception": false,
     "start_time": "2024-06-18T10:04:24.105062",
     "status": "completed"
    },
    "tags": []
   },
   "source": [
    "### Squeeze function"
   ]
  },
  {
   "cell_type": "code",
   "execution_count": 83,
   "id": "ebf693ed",
   "metadata": {
    "execution": {
     "iopub.execute_input": "2024-06-18T10:04:24.263582Z",
     "iopub.status.busy": "2024-06-18T10:04:24.262890Z",
     "iopub.status.idle": "2024-06-18T10:04:24.271809Z",
     "shell.execute_reply": "2024-06-18T10:04:24.270442Z"
    },
    "papermill": {
     "duration": 0.065177,
     "end_time": "2024-06-18T10:04:24.274360",
     "exception": false,
     "start_time": "2024-06-18T10:04:24.209183",
     "status": "completed"
    },
    "tags": []
   },
   "outputs": [
    {
     "data": {
      "text/plain": [
       "<tf.Tensor: shape=(2, 3), dtype=int32, numpy=\n",
       "array([[1, 2, 3],\n",
       "       [5, 6, 7]], dtype=int32)>"
      ]
     },
     "execution_count": 83,
     "metadata": {},
     "output_type": "execute_result"
    }
   ],
   "source": [
    "arr1"
   ]
  },
  {
   "cell_type": "code",
   "execution_count": 84,
   "id": "21bdec59",
   "metadata": {
    "execution": {
     "iopub.execute_input": "2024-06-18T10:04:24.382125Z",
     "iopub.status.busy": "2024-06-18T10:04:24.381702Z",
     "iopub.status.idle": "2024-06-18T10:04:24.387121Z",
     "shell.execute_reply": "2024-06-18T10:04:24.385851Z"
    },
    "papermill": {
     "duration": 0.063413,
     "end_time": "2024-06-18T10:04:24.390154",
     "exception": false,
     "start_time": "2024-06-18T10:04:24.326741",
     "status": "completed"
    },
    "tags": []
   },
   "outputs": [],
   "source": [
    "#Squeeze reduce by 1 dim so the value must be 1. ex : (1,2,3,4) axis =0 works here"
   ]
  },
  {
   "cell_type": "code",
   "execution_count": 85,
   "id": "ed968a5c",
   "metadata": {
    "execution": {
     "iopub.execute_input": "2024-06-18T10:04:24.499951Z",
     "iopub.status.busy": "2024-06-18T10:04:24.499488Z",
     "iopub.status.idle": "2024-06-18T10:04:24.511371Z",
     "shell.execute_reply": "2024-06-18T10:04:24.509966Z"
    },
    "papermill": {
     "duration": 0.069519,
     "end_time": "2024-06-18T10:04:24.514003",
     "exception": false,
     "start_time": "2024-06-18T10:04:24.444484",
     "status": "completed"
    },
    "tags": []
   },
   "outputs": [
    {
     "data": {
      "text/plain": [
       "<tf.Tensor: shape=(2, 3), dtype=int32, numpy=\n",
       "array([[1, 2, 3],\n",
       "       [5, 6, 7]], dtype=int32)>"
      ]
     },
     "execution_count": 85,
     "metadata": {},
     "output_type": "execute_result"
    }
   ],
   "source": [
    "tf.squeeze(tf.expand_dims(arr1,axis=0),axis=0) # we can convert the expand dims array to normal by squeeze function"
   ]
  },
  {
   "cell_type": "markdown",
   "id": "76040322",
   "metadata": {
    "papermill": {
     "duration": 0.051732,
     "end_time": "2024-06-18T10:04:24.618761",
     "exception": false,
     "start_time": "2024-06-18T10:04:24.567029",
     "status": "completed"
    },
    "tags": []
   },
   "source": [
    "### reshape"
   ]
  },
  {
   "cell_type": "code",
   "execution_count": 86,
   "id": "203e09d8",
   "metadata": {
    "execution": {
     "iopub.execute_input": "2024-06-18T10:04:24.725345Z",
     "iopub.status.busy": "2024-06-18T10:04:24.724832Z",
     "iopub.status.idle": "2024-06-18T10:04:24.735792Z",
     "shell.execute_reply": "2024-06-18T10:04:24.734606Z"
    },
    "papermill": {
     "duration": 0.067815,
     "end_time": "2024-06-18T10:04:24.738711",
     "exception": false,
     "start_time": "2024-06-18T10:04:24.670896",
     "status": "completed"
    },
    "tags": []
   },
   "outputs": [
    {
     "data": {
      "text/plain": [
       "<tf.Tensor: shape=(6, 1), dtype=int32, numpy=\n",
       "array([[1],\n",
       "       [2],\n",
       "       [3],\n",
       "       [5],\n",
       "       [6],\n",
       "       [7]], dtype=int32)>"
      ]
     },
     "execution_count": 86,
     "metadata": {},
     "output_type": "execute_result"
    }
   ],
   "source": [
    "tf.reshape(arr1,shape=(6,-1))"
   ]
  },
  {
   "cell_type": "markdown",
   "id": "d6888219",
   "metadata": {
    "papermill": {
     "duration": 0.055603,
     "end_time": "2024-06-18T10:04:24.848800",
     "exception": false,
     "start_time": "2024-06-18T10:04:24.793197",
     "status": "completed"
    },
    "tags": []
   },
   "source": [
    "### Concat"
   ]
  },
  {
   "cell_type": "code",
   "execution_count": 87,
   "id": "a826d30a",
   "metadata": {
    "execution": {
     "iopub.execute_input": "2024-06-18T10:04:24.959498Z",
     "iopub.status.busy": "2024-06-18T10:04:24.959076Z",
     "iopub.status.idle": "2024-06-18T10:04:24.965842Z",
     "shell.execute_reply": "2024-06-18T10:04:24.964765Z"
    },
    "papermill": {
     "duration": 0.064901,
     "end_time": "2024-06-18T10:04:24.968166",
     "exception": false,
     "start_time": "2024-06-18T10:04:24.903265",
     "status": "completed"
    },
    "tags": []
   },
   "outputs": [],
   "source": [
    "def arr_initializer():\n",
    "    arr1=np.random.randint(1,100,size=(3,4))\n",
    "    arr2=np.random.randint(1,100,size=(3,4))\n",
    "    arr1=tf.convert_to_tensor(arr1)\n",
    "    arr2=tf.convert_to_tensor(arr2)\n",
    "    return arr1,arr2"
   ]
  },
  {
   "cell_type": "code",
   "execution_count": 88,
   "id": "e2e0c6de",
   "metadata": {
    "execution": {
     "iopub.execute_input": "2024-06-18T10:04:25.078620Z",
     "iopub.status.busy": "2024-06-18T10:04:25.078160Z",
     "iopub.status.idle": "2024-06-18T10:04:25.084638Z",
     "shell.execute_reply": "2024-06-18T10:04:25.083397Z"
    },
    "papermill": {
     "duration": 0.064364,
     "end_time": "2024-06-18T10:04:25.087108",
     "exception": false,
     "start_time": "2024-06-18T10:04:25.022744",
     "status": "completed"
    },
    "tags": []
   },
   "outputs": [],
   "source": [
    "arr1,arr2=arr_initializer()"
   ]
  },
  {
   "cell_type": "code",
   "execution_count": 89,
   "id": "50fce9b4",
   "metadata": {
    "execution": {
     "iopub.execute_input": "2024-06-18T10:04:25.197838Z",
     "iopub.status.busy": "2024-06-18T10:04:25.197375Z",
     "iopub.status.idle": "2024-06-18T10:04:25.204024Z",
     "shell.execute_reply": "2024-06-18T10:04:25.202672Z"
    },
    "papermill": {
     "duration": 0.065014,
     "end_time": "2024-06-18T10:04:25.206880",
     "exception": false,
     "start_time": "2024-06-18T10:04:25.141866",
     "status": "completed"
    },
    "tags": []
   },
   "outputs": [
    {
     "name": "stdout",
     "output_type": "stream",
     "text": [
      "(3, 4) \n",
      " (3, 4)\n"
     ]
    }
   ],
   "source": [
    "print(arr1.shape,'\\n',arr2.shape)"
   ]
  },
  {
   "cell_type": "code",
   "execution_count": 90,
   "id": "c8c6b665",
   "metadata": {
    "execution": {
     "iopub.execute_input": "2024-06-18T10:04:25.317168Z",
     "iopub.status.busy": "2024-06-18T10:04:25.316691Z",
     "iopub.status.idle": "2024-06-18T10:04:25.326745Z",
     "shell.execute_reply": "2024-06-18T10:04:25.325644Z"
    },
    "papermill": {
     "duration": 0.068939,
     "end_time": "2024-06-18T10:04:25.329696",
     "exception": false,
     "start_time": "2024-06-18T10:04:25.260757",
     "status": "completed"
    },
    "tags": []
   },
   "outputs": [
    {
     "data": {
      "text/plain": [
       "<tf.Tensor: shape=(6, 4), dtype=int64, numpy=\n",
       "array([[46, 50, 68, 14],\n",
       "       [17, 68, 64, 91],\n",
       "       [79, 28,  4, 72],\n",
       "       [64, 62, 32, 95],\n",
       "       [76, 89,  4, 71],\n",
       "       [52, 41, 58, 13]])>"
      ]
     },
     "execution_count": 90,
     "metadata": {},
     "output_type": "execute_result"
    }
   ],
   "source": [
    "tf.concat([arr1,arr2],axis=0)"
   ]
  },
  {
   "cell_type": "code",
   "execution_count": 91,
   "id": "68fed263",
   "metadata": {
    "execution": {
     "iopub.execute_input": "2024-06-18T10:04:25.444865Z",
     "iopub.status.busy": "2024-06-18T10:04:25.444388Z",
     "iopub.status.idle": "2024-06-18T10:04:25.453835Z",
     "shell.execute_reply": "2024-06-18T10:04:25.452447Z"
    },
    "papermill": {
     "duration": 0.070532,
     "end_time": "2024-06-18T10:04:25.456910",
     "exception": false,
     "start_time": "2024-06-18T10:04:25.386378",
     "status": "completed"
    },
    "tags": []
   },
   "outputs": [
    {
     "data": {
      "text/plain": [
       "<tf.Tensor: shape=(3, 8), dtype=int64, numpy=\n",
       "array([[46, 50, 68, 14, 64, 62, 32, 95],\n",
       "       [17, 68, 64, 91, 76, 89,  4, 71],\n",
       "       [79, 28,  4, 72, 52, 41, 58, 13]])>"
      ]
     },
     "execution_count": 91,
     "metadata": {},
     "output_type": "execute_result"
    }
   ],
   "source": [
    "tf.concat([arr1,arr2],axis=1)"
   ]
  },
  {
   "cell_type": "markdown",
   "id": "a201d7b3",
   "metadata": {
    "papermill": {
     "duration": 0.054764,
     "end_time": "2024-06-18T10:04:25.566525",
     "exception": false,
     "start_time": "2024-06-18T10:04:25.511761",
     "status": "completed"
    },
    "tags": []
   },
   "source": [
    "### Stack"
   ]
  },
  {
   "cell_type": "code",
   "execution_count": 92,
   "id": "a9e04aed",
   "metadata": {
    "execution": {
     "iopub.execute_input": "2024-06-18T10:04:25.678175Z",
     "iopub.status.busy": "2024-06-18T10:04:25.677780Z",
     "iopub.status.idle": "2024-06-18T10:04:25.683700Z",
     "shell.execute_reply": "2024-06-18T10:04:25.682660Z"
    },
    "papermill": {
     "duration": 0.064675,
     "end_time": "2024-06-18T10:04:25.686048",
     "exception": false,
     "start_time": "2024-06-18T10:04:25.621373",
     "status": "completed"
    },
    "tags": []
   },
   "outputs": [
    {
     "name": "stdout",
     "output_type": "stream",
     "text": [
      "(3, 4) \n",
      " (3, 4)\n"
     ]
    }
   ],
   "source": [
    "print(arr1.shape,'\\n',arr2.shape)"
   ]
  },
  {
   "cell_type": "code",
   "execution_count": 93,
   "id": "8ee4bdda",
   "metadata": {
    "execution": {
     "iopub.execute_input": "2024-06-18T10:04:25.798108Z",
     "iopub.status.busy": "2024-06-18T10:04:25.797685Z",
     "iopub.status.idle": "2024-06-18T10:04:25.808196Z",
     "shell.execute_reply": "2024-06-18T10:04:25.806987Z"
    },
    "papermill": {
     "duration": 0.06979,
     "end_time": "2024-06-18T10:04:25.810619",
     "exception": false,
     "start_time": "2024-06-18T10:04:25.740829",
     "status": "completed"
    },
    "tags": []
   },
   "outputs": [
    {
     "data": {
      "text/plain": [
       "<tf.Tensor: shape=(2, 3, 4), dtype=int64, numpy=\n",
       "array([[[46, 50, 68, 14],\n",
       "        [17, 68, 64, 91],\n",
       "        [79, 28,  4, 72]],\n",
       "\n",
       "       [[64, 62, 32, 95],\n",
       "        [76, 89,  4, 71],\n",
       "        [52, 41, 58, 13]]])>"
      ]
     },
     "execution_count": 93,
     "metadata": {},
     "output_type": "execute_result"
    }
   ],
   "source": [
    "tf.stack([arr1,arr2],axis=0) # create a new axis"
   ]
  },
  {
   "cell_type": "code",
   "execution_count": 94,
   "id": "e5513299",
   "metadata": {
    "execution": {
     "iopub.execute_input": "2024-06-18T10:04:25.924190Z",
     "iopub.status.busy": "2024-06-18T10:04:25.923793Z",
     "iopub.status.idle": "2024-06-18T10:04:25.932554Z",
     "shell.execute_reply": "2024-06-18T10:04:25.931472Z"
    },
    "papermill": {
     "duration": 0.069071,
     "end_time": "2024-06-18T10:04:25.935017",
     "exception": false,
     "start_time": "2024-06-18T10:04:25.865946",
     "status": "completed"
    },
    "tags": []
   },
   "outputs": [
    {
     "data": {
      "text/plain": [
       "<tf.Tensor: shape=(3, 2, 4), dtype=int64, numpy=\n",
       "array([[[46, 50, 68, 14],\n",
       "        [64, 62, 32, 95]],\n",
       "\n",
       "       [[17, 68, 64, 91],\n",
       "        [76, 89,  4, 71]],\n",
       "\n",
       "       [[79, 28,  4, 72],\n",
       "        [52, 41, 58, 13]]])>"
      ]
     },
     "execution_count": 94,
     "metadata": {},
     "output_type": "execute_result"
    }
   ],
   "source": [
    "tf.stack([arr1,arr2],axis=1) # create a new axis"
   ]
  },
  {
   "cell_type": "code",
   "execution_count": 95,
   "id": "f79be8c2",
   "metadata": {
    "execution": {
     "iopub.execute_input": "2024-06-18T10:04:26.050511Z",
     "iopub.status.busy": "2024-06-18T10:04:26.049597Z",
     "iopub.status.idle": "2024-06-18T10:04:26.059057Z",
     "shell.execute_reply": "2024-06-18T10:04:26.057788Z"
    },
    "papermill": {
     "duration": 0.070429,
     "end_time": "2024-06-18T10:04:26.061394",
     "exception": false,
     "start_time": "2024-06-18T10:04:25.990965",
     "status": "completed"
    },
    "tags": []
   },
   "outputs": [
    {
     "data": {
      "text/plain": [
       "<tf.Tensor: shape=(3, 4, 2), dtype=int64, numpy=\n",
       "array([[[46, 64],\n",
       "        [50, 62],\n",
       "        [68, 32],\n",
       "        [14, 95]],\n",
       "\n",
       "       [[17, 76],\n",
       "        [68, 89],\n",
       "        [64,  4],\n",
       "        [91, 71]],\n",
       "\n",
       "       [[79, 52],\n",
       "        [28, 41],\n",
       "        [ 4, 58],\n",
       "        [72, 13]]])>"
      ]
     },
     "execution_count": 95,
     "metadata": {},
     "output_type": "execute_result"
    }
   ],
   "source": [
    "tf.stack([arr1,arr2],axis=2) # create a new axis"
   ]
  },
  {
   "cell_type": "markdown",
   "id": "295583ff",
   "metadata": {
    "papermill": {
     "duration": 0.056222,
     "end_time": "2024-06-18T10:04:26.173637",
     "exception": false,
     "start_time": "2024-06-18T10:04:26.117415",
     "status": "completed"
    },
    "tags": []
   },
   "source": [
    "### Pad"
   ]
  },
  {
   "cell_type": "code",
   "execution_count": 96,
   "id": "520ecbf6",
   "metadata": {
    "execution": {
     "iopub.execute_input": "2024-06-18T10:04:26.290450Z",
     "iopub.status.busy": "2024-06-18T10:04:26.289113Z",
     "iopub.status.idle": "2024-06-18T10:04:26.294760Z",
     "shell.execute_reply": "2024-06-18T10:04:26.293652Z"
    },
    "papermill": {
     "duration": 0.066924,
     "end_time": "2024-06-18T10:04:26.297281",
     "exception": false,
     "start_time": "2024-06-18T10:04:26.230357",
     "status": "completed"
    },
    "tags": []
   },
   "outputs": [],
   "source": [
    "arr2=[[1,1],# one row above ,one row below in output\n",
    "      [2,2]] # Two column left and two column right in output"
   ]
  },
  {
   "cell_type": "code",
   "execution_count": 97,
   "id": "b8aeb887",
   "metadata": {
    "execution": {
     "iopub.execute_input": "2024-06-18T10:04:26.413680Z",
     "iopub.status.busy": "2024-06-18T10:04:26.413267Z",
     "iopub.status.idle": "2024-06-18T10:04:26.420578Z",
     "shell.execute_reply": "2024-06-18T10:04:26.419537Z"
    },
    "papermill": {
     "duration": 0.070059,
     "end_time": "2024-06-18T10:04:26.423219",
     "exception": false,
     "start_time": "2024-06-18T10:04:26.353160",
     "status": "completed"
    },
    "tags": []
   },
   "outputs": [
    {
     "data": {
      "text/plain": [
       "<tf.Tensor: shape=(3, 4), dtype=int64, numpy=\n",
       "array([[46, 50, 68, 14],\n",
       "       [17, 68, 64, 91],\n",
       "       [79, 28,  4, 72]])>"
      ]
     },
     "execution_count": 97,
     "metadata": {},
     "output_type": "execute_result"
    }
   ],
   "source": [
    "arr1"
   ]
  },
  {
   "cell_type": "code",
   "execution_count": 98,
   "id": "f36c87b4",
   "metadata": {
    "execution": {
     "iopub.execute_input": "2024-06-18T10:04:26.539340Z",
     "iopub.status.busy": "2024-06-18T10:04:26.538879Z",
     "iopub.status.idle": "2024-06-18T10:04:26.548318Z",
     "shell.execute_reply": "2024-06-18T10:04:26.547213Z"
    },
    "papermill": {
     "duration": 0.070844,
     "end_time": "2024-06-18T10:04:26.551122",
     "exception": false,
     "start_time": "2024-06-18T10:04:26.480278",
     "status": "completed"
    },
    "tags": []
   },
   "outputs": [],
   "source": [
    "newarray=tf.pad(arr1,paddings=arr2,mode='CONSTANT',constant_values=0)"
   ]
  },
  {
   "cell_type": "code",
   "execution_count": 99,
   "id": "82a926ea",
   "metadata": {
    "execution": {
     "iopub.execute_input": "2024-06-18T10:04:26.669310Z",
     "iopub.status.busy": "2024-06-18T10:04:26.668850Z",
     "iopub.status.idle": "2024-06-18T10:04:26.677022Z",
     "shell.execute_reply": "2024-06-18T10:04:26.675614Z"
    },
    "papermill": {
     "duration": 0.070478,
     "end_time": "2024-06-18T10:04:26.679445",
     "exception": false,
     "start_time": "2024-06-18T10:04:26.608967",
     "status": "completed"
    },
    "tags": []
   },
   "outputs": [
    {
     "data": {
      "text/plain": [
       "<tf.Tensor: shape=(5, 8), dtype=int64, numpy=\n",
       "array([[ 0,  0,  0,  0,  0,  0,  0,  0],\n",
       "       [ 0,  0, 46, 50, 68, 14,  0,  0],\n",
       "       [ 0,  0, 17, 68, 64, 91,  0,  0],\n",
       "       [ 0,  0, 79, 28,  4, 72,  0,  0],\n",
       "       [ 0,  0,  0,  0,  0,  0,  0,  0]])>"
      ]
     },
     "execution_count": 99,
     "metadata": {},
     "output_type": "execute_result"
    }
   ],
   "source": [
    "newarray"
   ]
  },
  {
   "cell_type": "markdown",
   "id": "c14dc0b2",
   "metadata": {
    "papermill": {
     "duration": 0.057068,
     "end_time": "2024-06-18T10:04:26.793784",
     "exception": false,
     "start_time": "2024-06-18T10:04:26.736716",
     "status": "completed"
    },
    "tags": []
   },
   "source": [
    "# Ragged Tensor"
   ]
  },
  {
   "cell_type": "code",
   "execution_count": 100,
   "id": "d2d910f2",
   "metadata": {
    "execution": {
     "iopub.execute_input": "2024-06-18T10:04:26.910151Z",
     "iopub.status.busy": "2024-06-18T10:04:26.909720Z",
     "iopub.status.idle": "2024-06-18T10:04:26.916264Z",
     "shell.execute_reply": "2024-06-18T10:04:26.915095Z"
    },
    "papermill": {
     "duration": 0.068298,
     "end_time": "2024-06-18T10:04:26.918928",
     "exception": false,
     "start_time": "2024-06-18T10:04:26.850630",
     "status": "completed"
    },
    "tags": []
   },
   "outputs": [
    {
     "name": "stdout",
     "output_type": "stream",
     "text": [
      "Ragged Tensor is for non rectangular matrices\n"
     ]
    }
   ],
   "source": [
    "print(\"Ragged Tensor is for non rectangular matrices\")"
   ]
  },
  {
   "cell_type": "markdown",
   "id": "33b53f1b",
   "metadata": {
    "papermill": {
     "duration": 0.059875,
     "end_time": "2024-06-18T10:04:27.038291",
     "exception": false,
     "start_time": "2024-06-18T10:04:26.978416",
     "status": "completed"
    },
    "tags": []
   },
   "source": [
    "## Ragged Tensor"
   ]
  },
  {
   "cell_type": "code",
   "execution_count": 101,
   "id": "4a9fa459",
   "metadata": {
    "execution": {
     "iopub.execute_input": "2024-06-18T10:04:27.156712Z",
     "iopub.status.busy": "2024-06-18T10:04:27.155449Z",
     "iopub.status.idle": "2024-06-18T10:04:27.167135Z",
     "shell.execute_reply": "2024-06-18T10:04:27.165782Z"
    },
    "papermill": {
     "duration": 0.073818,
     "end_time": "2024-06-18T10:04:27.169573",
     "exception": false,
     "start_time": "2024-06-18T10:04:27.095755",
     "status": "completed"
    },
    "scrolled": true,
    "tags": []
   },
   "outputs": [
    {
     "data": {
      "text/plain": [
       "<tf.RaggedTensor [[1, 2, 3], [4, 5], [6]]>"
      ]
     },
     "execution_count": 101,
     "metadata": {},
     "output_type": "execute_result"
    }
   ],
   "source": [
    "tf.ragged.constant([[1,2,3],\n",
    "                    [4,5],\n",
    "                    [6]])"
   ]
  },
  {
   "cell_type": "markdown",
   "id": "75e291fb",
   "metadata": {
    "papermill": {
     "duration": 0.056759,
     "end_time": "2024-06-18T10:04:27.282930",
     "exception": false,
     "start_time": "2024-06-18T10:04:27.226171",
     "status": "completed"
    },
    "tags": []
   },
   "source": [
    "## Ragged Tensor from row lengths"
   ]
  },
  {
   "cell_type": "code",
   "execution_count": 102,
   "id": "60405981",
   "metadata": {
    "execution": {
     "iopub.execute_input": "2024-06-18T10:04:27.401294Z",
     "iopub.status.busy": "2024-06-18T10:04:27.400768Z",
     "iopub.status.idle": "2024-06-18T10:04:27.432641Z",
     "shell.execute_reply": "2024-06-18T10:04:27.431313Z"
    },
    "papermill": {
     "duration": 0.095843,
     "end_time": "2024-06-18T10:04:27.435461",
     "exception": false,
     "start_time": "2024-06-18T10:04:27.339618",
     "status": "completed"
    },
    "tags": []
   },
   "outputs": [
    {
     "data": {
      "text/plain": [
       "<tf.RaggedTensor [[1, 2, 3], [], [4, 5], [], [6, 7, 8, 9]]>"
      ]
     },
     "execution_count": 102,
     "metadata": {},
     "output_type": "execute_result"
    }
   ],
   "source": [
    "tf.RaggedTensor.from_row_lengths(\n",
    "    values=[1,2,3,4,5,6,7,8,9],\n",
    "    row_lengths=[3,0,2,0,4])"
   ]
  },
  {
   "cell_type": "markdown",
   "id": "23c7a965",
   "metadata": {
    "papermill": {
     "duration": 0.058743,
     "end_time": "2024-06-18T10:04:27.550843",
     "exception": false,
     "start_time": "2024-06-18T10:04:27.492100",
     "status": "completed"
    },
    "tags": []
   },
   "source": [
    "## Ragged Tensor from row limits"
   ]
  },
  {
   "cell_type": "code",
   "execution_count": 103,
   "id": "3d00f258",
   "metadata": {
    "execution": {
     "iopub.execute_input": "2024-06-18T10:04:27.666843Z",
     "iopub.status.busy": "2024-06-18T10:04:27.666390Z",
     "iopub.status.idle": "2024-06-18T10:04:27.689417Z",
     "shell.execute_reply": "2024-06-18T10:04:27.688162Z"
    },
    "papermill": {
     "duration": 0.084635,
     "end_time": "2024-06-18T10:04:27.692320",
     "exception": false,
     "start_time": "2024-06-18T10:04:27.607685",
     "status": "completed"
    },
    "tags": []
   },
   "outputs": [
    {
     "data": {
      "text/plain": [
       "<tf.RaggedTensor [[1, 2, 3, 4], [5, 6, 7], [8, 9]]>"
      ]
     },
     "execution_count": 103,
     "metadata": {},
     "output_type": "execute_result"
    }
   ],
   "source": [
    "tf.RaggedTensor.from_row_limits(\n",
    "    values=[1,2,3,4,5,6,7,8,9],\n",
    "    row_limits=[4,7,9])"
   ]
  },
  {
   "cell_type": "code",
   "execution_count": 104,
   "id": "aac455e4",
   "metadata": {
    "execution": {
     "iopub.execute_input": "2024-06-18T10:04:27.811467Z",
     "iopub.status.busy": "2024-06-18T10:04:27.810988Z",
     "iopub.status.idle": "2024-06-18T10:04:27.826986Z",
     "shell.execute_reply": "2024-06-18T10:04:27.825530Z"
    },
    "papermill": {
     "duration": 0.079806,
     "end_time": "2024-06-18T10:04:27.829875",
     "exception": false,
     "start_time": "2024-06-18T10:04:27.750069",
     "status": "completed"
    },
    "tags": []
   },
   "outputs": [
    {
     "data": {
      "text/plain": [
       "<tf.RaggedTensor [[1, 2, 3, 4], [5, 6, 7], [8, 9]]>"
      ]
     },
     "execution_count": 104,
     "metadata": {},
     "output_type": "execute_result"
    }
   ],
   "source": [
    "tf.RaggedTensor.from_row_splits(\n",
    "    values=[1,2,3,4,5,6,7,8,9],\n",
    "    row_splits=[0,4,7,9])"
   ]
  },
  {
   "cell_type": "markdown",
   "id": "2a0dba51",
   "metadata": {
    "papermill": {
     "duration": 0.055548,
     "end_time": "2024-06-18T10:04:27.941433",
     "exception": false,
     "start_time": "2024-06-18T10:04:27.885885",
     "status": "completed"
    },
    "tags": []
   },
   "source": [
    "## Ragged Tensor from Tensor"
   ]
  },
  {
   "cell_type": "code",
   "execution_count": 105,
   "id": "2b16220a",
   "metadata": {
    "execution": {
     "iopub.execute_input": "2024-06-18T10:04:28.058962Z",
     "iopub.status.busy": "2024-06-18T10:04:28.058505Z",
     "iopub.status.idle": "2024-06-18T10:04:28.066723Z",
     "shell.execute_reply": "2024-06-18T10:04:28.065534Z"
    },
    "papermill": {
     "duration": 0.072438,
     "end_time": "2024-06-18T10:04:28.069324",
     "exception": false,
     "start_time": "2024-06-18T10:04:27.996886",
     "status": "completed"
    },
    "tags": []
   },
   "outputs": [
    {
     "data": {
      "text/plain": [
       "<tf.Tensor: shape=(3, 4), dtype=int64, numpy=\n",
       "array([[46, 50, 68, 14],\n",
       "       [17, 68, 64, 91],\n",
       "       [79, 28,  4, 72]])>"
      ]
     },
     "execution_count": 105,
     "metadata": {},
     "output_type": "execute_result"
    }
   ],
   "source": [
    "arr1"
   ]
  },
  {
   "cell_type": "code",
   "execution_count": 106,
   "id": "f1882647",
   "metadata": {
    "execution": {
     "iopub.execute_input": "2024-06-18T10:04:28.192148Z",
     "iopub.status.busy": "2024-06-18T10:04:28.191208Z",
     "iopub.status.idle": "2024-06-18T10:04:28.231951Z",
     "shell.execute_reply": "2024-06-18T10:04:28.230550Z"
    },
    "papermill": {
     "duration": 0.105823,
     "end_time": "2024-06-18T10:04:28.234590",
     "exception": false,
     "start_time": "2024-06-18T10:04:28.128767",
     "status": "completed"
    },
    "tags": []
   },
   "outputs": [
    {
     "data": {
      "text/plain": [
       "<tf.RaggedTensor [[46, 50], [17, 68, 64], [79, 28, 4, 72]]>"
      ]
     },
     "execution_count": 106,
     "metadata": {},
     "output_type": "execute_result"
    }
   ],
   "source": [
    "tf.RaggedTensor.from_tensor(\n",
    "    tensor=arr1,\n",
    "    lengths=[2,3,4])"
   ]
  },
  {
   "cell_type": "markdown",
   "id": "467ed927",
   "metadata": {
    "papermill": {
     "duration": 0.05833,
     "end_time": "2024-06-18T10:04:28.351126",
     "exception": false,
     "start_time": "2024-06-18T10:04:28.292796",
     "status": "completed"
    },
    "tags": []
   },
   "source": [
    "# SPARSE TENSOR (2 Functions)"
   ]
  },
  {
   "cell_type": "markdown",
   "id": "3a40cd25",
   "metadata": {
    "papermill": {
     "duration": 0.058317,
     "end_time": "2024-06-18T10:04:28.471013",
     "exception": false,
     "start_time": "2024-06-18T10:04:28.412696",
     "status": "completed"
    },
    "tags": []
   },
   "source": [
    "- 1)SparseTensor 2)to_dense)"
   ]
  },
  {
   "cell_type": "code",
   "execution_count": 107,
   "id": "a30f4f05",
   "metadata": {
    "execution": {
     "iopub.execute_input": "2024-06-18T10:04:28.589116Z",
     "iopub.status.busy": "2024-06-18T10:04:28.588680Z",
     "iopub.status.idle": "2024-06-18T10:04:28.598105Z",
     "shell.execute_reply": "2024-06-18T10:04:28.596911Z"
    },
    "papermill": {
     "duration": 0.072042,
     "end_time": "2024-06-18T10:04:28.600944",
     "exception": false,
     "start_time": "2024-06-18T10:04:28.528902",
     "status": "completed"
    },
    "tags": []
   },
   "outputs": [
    {
     "data": {
      "text/plain": [
       "SparseTensor(indices=tf.Tensor(\n",
       "[[1 1]\n",
       " [2 2]], shape=(2, 2), dtype=int64), values=tf.Tensor([34 45], shape=(2,), dtype=int32), dense_shape=tf.Tensor([3 3], shape=(2,), dtype=int64))"
      ]
     },
     "execution_count": 107,
     "metadata": {},
     "output_type": "execute_result"
    }
   ],
   "source": [
    "sparse_tensor=tf.sparse.SparseTensor(indices=[[1,1],[2,2]],values=[34,45],dense_shape=[3,3])\n",
    "sparse_tensor"
   ]
  },
  {
   "cell_type": "code",
   "execution_count": 108,
   "id": "445e5140",
   "metadata": {
    "execution": {
     "iopub.execute_input": "2024-06-18T10:04:28.721806Z",
     "iopub.status.busy": "2024-06-18T10:04:28.721350Z",
     "iopub.status.idle": "2024-06-18T10:04:28.733000Z",
     "shell.execute_reply": "2024-06-18T10:04:28.731793Z"
    },
    "papermill": {
     "duration": 0.075369,
     "end_time": "2024-06-18T10:04:28.735842",
     "exception": false,
     "start_time": "2024-06-18T10:04:28.660473",
     "status": "completed"
    },
    "tags": []
   },
   "outputs": [
    {
     "data": {
      "text/plain": [
       "<tf.Tensor: shape=(3, 3), dtype=int32, numpy=\n",
       "array([[ 0,  0,  0],\n",
       "       [ 0, 34,  0],\n",
       "       [ 0,  0, 45]], dtype=int32)>"
      ]
     },
     "execution_count": 108,
     "metadata": {},
     "output_type": "execute_result"
    }
   ],
   "source": [
    "tf.sparse.to_dense(sparse_tensor) # dense Tensor"
   ]
  },
  {
   "cell_type": "markdown",
   "id": "deb07e6e",
   "metadata": {
    "papermill": {
     "duration": 0.059537,
     "end_time": "2024-06-18T10:04:28.852298",
     "exception": false,
     "start_time": "2024-06-18T10:04:28.792761",
     "status": "completed"
    },
    "tags": []
   },
   "source": [
    "# Variables"
   ]
  },
  {
   "cell_type": "code",
   "execution_count": 109,
   "id": "6aba1109",
   "metadata": {
    "execution": {
     "iopub.execute_input": "2024-06-18T10:04:28.968822Z",
     "iopub.status.busy": "2024-06-18T10:04:28.968408Z",
     "iopub.status.idle": "2024-06-18T10:04:28.976907Z",
     "shell.execute_reply": "2024-06-18T10:04:28.975709Z"
    },
    "papermill": {
     "duration": 0.069569,
     "end_time": "2024-06-18T10:04:28.979495",
     "exception": false,
     "start_time": "2024-06-18T10:04:28.909926",
     "status": "completed"
    },
    "tags": []
   },
   "outputs": [],
   "source": [
    "var1=tf.Variable([1,2,3])"
   ]
  },
  {
   "cell_type": "markdown",
   "id": "dc2fa961",
   "metadata": {
    "papermill": {
     "duration": 0.058863,
     "end_time": "2024-06-18T10:04:29.101054",
     "exception": false,
     "start_time": "2024-06-18T10:04:29.042191",
     "status": "completed"
    },
    "tags": []
   },
   "source": [
    "## assign"
   ]
  },
  {
   "cell_type": "code",
   "execution_count": 110,
   "id": "1c6e3e4f",
   "metadata": {
    "execution": {
     "iopub.execute_input": "2024-06-18T10:04:29.222038Z",
     "iopub.status.busy": "2024-06-18T10:04:29.221579Z",
     "iopub.status.idle": "2024-06-18T10:04:29.233055Z",
     "shell.execute_reply": "2024-06-18T10:04:29.231708Z"
    },
    "papermill": {
     "duration": 0.074837,
     "end_time": "2024-06-18T10:04:29.235544",
     "exception": false,
     "start_time": "2024-06-18T10:04:29.160707",
     "status": "completed"
    },
    "tags": []
   },
   "outputs": [
    {
     "data": {
      "text/plain": [
       "<tf.Variable 'UnreadVariable' shape=(3,) dtype=int32, numpy=array([3, 4, 8], dtype=int32)>"
      ]
     },
     "execution_count": 110,
     "metadata": {},
     "output_type": "execute_result"
    }
   ],
   "source": [
    "var1.assign([3,4,8])"
   ]
  },
  {
   "cell_type": "code",
   "execution_count": 111,
   "id": "b3d1ca95",
   "metadata": {
    "execution": {
     "iopub.execute_input": "2024-06-18T10:04:29.351859Z",
     "iopub.status.busy": "2024-06-18T10:04:29.351341Z",
     "iopub.status.idle": "2024-06-18T10:04:29.362347Z",
     "shell.execute_reply": "2024-06-18T10:04:29.360966Z"
    },
    "papermill": {
     "duration": 0.071998,
     "end_time": "2024-06-18T10:04:29.364835",
     "exception": false,
     "start_time": "2024-06-18T10:04:29.292837",
     "status": "completed"
    },
    "tags": []
   },
   "outputs": [
    {
     "data": {
      "text/plain": [
       "<tf.Variable 'Variable:0' shape=(3,) dtype=int32, numpy=array([3, 4, 8], dtype=int32)>"
      ]
     },
     "execution_count": 111,
     "metadata": {},
     "output_type": "execute_result"
    }
   ],
   "source": [
    "var1"
   ]
  },
  {
   "cell_type": "markdown",
   "id": "389a8077",
   "metadata": {
    "papermill": {
     "duration": 0.057684,
     "end_time": "2024-06-18T10:04:29.483075",
     "exception": false,
     "start_time": "2024-06-18T10:04:29.425391",
     "status": "completed"
    },
    "tags": []
   },
   "source": [
    "## assign_add"
   ]
  },
  {
   "cell_type": "code",
   "execution_count": 112,
   "id": "129e81ad",
   "metadata": {
    "execution": {
     "iopub.execute_input": "2024-06-18T10:04:29.602224Z",
     "iopub.status.busy": "2024-06-18T10:04:29.601741Z",
     "iopub.status.idle": "2024-06-18T10:04:29.612987Z",
     "shell.execute_reply": "2024-06-18T10:04:29.611557Z"
    },
    "papermill": {
     "duration": 0.075194,
     "end_time": "2024-06-18T10:04:29.615694",
     "exception": false,
     "start_time": "2024-06-18T10:04:29.540500",
     "status": "completed"
    },
    "tags": []
   },
   "outputs": [
    {
     "data": {
      "text/plain": [
       "<tf.Variable 'UnreadVariable' shape=(3,) dtype=int32, numpy=array([ 5,  7, 12], dtype=int32)>"
      ]
     },
     "execution_count": 112,
     "metadata": {},
     "output_type": "execute_result"
    }
   ],
   "source": [
    "var1.assign_add(delta=[2,3,4])"
   ]
  },
  {
   "cell_type": "code",
   "execution_count": 113,
   "id": "4a5898cd",
   "metadata": {
    "execution": {
     "iopub.execute_input": "2024-06-18T10:04:29.737875Z",
     "iopub.status.busy": "2024-06-18T10:04:29.737430Z",
     "iopub.status.idle": "2024-06-18T10:04:29.745185Z",
     "shell.execute_reply": "2024-06-18T10:04:29.744041Z"
    },
    "papermill": {
     "duration": 0.071928,
     "end_time": "2024-06-18T10:04:29.747734",
     "exception": false,
     "start_time": "2024-06-18T10:04:29.675806",
     "status": "completed"
    },
    "tags": []
   },
   "outputs": [
    {
     "data": {
      "text/plain": [
       "(5, 7, 12)"
      ]
     },
     "execution_count": 113,
     "metadata": {},
     "output_type": "execute_result"
    }
   ],
   "source": [
    "3+2,4+3,8+4"
   ]
  },
  {
   "cell_type": "markdown",
   "id": "c10c6019",
   "metadata": {
    "papermill": {
     "duration": 0.059832,
     "end_time": "2024-06-18T10:04:29.867808",
     "exception": false,
     "start_time": "2024-06-18T10:04:29.807976",
     "status": "completed"
    },
    "tags": []
   },
   "source": [
    "## assign_sub"
   ]
  },
  {
   "cell_type": "code",
   "execution_count": 114,
   "id": "70ee4e7c",
   "metadata": {
    "execution": {
     "iopub.execute_input": "2024-06-18T10:04:29.989327Z",
     "iopub.status.busy": "2024-06-18T10:04:29.988888Z",
     "iopub.status.idle": "2024-06-18T10:04:29.997766Z",
     "shell.execute_reply": "2024-06-18T10:04:29.996683Z"
    },
    "papermill": {
     "duration": 0.072945,
     "end_time": "2024-06-18T10:04:30.000179",
     "exception": false,
     "start_time": "2024-06-18T10:04:29.927234",
     "status": "completed"
    },
    "tags": []
   },
   "outputs": [
    {
     "data": {
      "text/plain": [
       "<tf.Variable 'UnreadVariable' shape=(3,) dtype=int32, numpy=array([3, 4, 8], dtype=int32)>"
      ]
     },
     "execution_count": 114,
     "metadata": {},
     "output_type": "execute_result"
    }
   ],
   "source": [
    "var1.assign_sub([2,3,4])"
   ]
  },
  {
   "cell_type": "code",
   "execution_count": null,
   "id": "1703f5ee",
   "metadata": {
    "papermill": {
     "duration": 0.059467,
     "end_time": "2024-06-18T10:04:30.120988",
     "exception": false,
     "start_time": "2024-06-18T10:04:30.061521",
     "status": "completed"
    },
    "tags": []
   },
   "outputs": [],
   "source": []
  }
 ],
 "metadata": {
  "kaggle": {
   "accelerator": "none",
   "dataSources": [],
   "isGpuEnabled": false,
   "isInternetEnabled": true,
   "language": "python",
   "sourceType": "notebook"
  },
  "kernelspec": {
   "display_name": "Python 3 (ipykernel)",
   "language": "python",
   "name": "python3"
  },
  "language_info": {
   "codemirror_mode": {
    "name": "ipython",
    "version": 3
   },
   "file_extension": ".py",
   "mimetype": "text/x-python",
   "name": "python",
   "nbconvert_exporter": "python",
   "pygments_lexer": "ipython3",
   "version": "3.10.13"
  },
  "papermill": {
   "default_parameters": {},
   "duration": 40.164912,
   "end_time": "2024-06-18T10:04:32.110560",
   "environment_variables": {},
   "exception": null,
   "input_path": "__notebook__.ipynb",
   "output_path": "__notebook__.ipynb",
   "parameters": {},
   "start_time": "2024-06-18T10:03:51.945648",
   "version": "2.5.0"
  }
 },
 "nbformat": 4,
 "nbformat_minor": 5
}

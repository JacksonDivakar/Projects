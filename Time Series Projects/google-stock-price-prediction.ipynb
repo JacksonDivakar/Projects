{
 "cells": [
  {
   "cell_type": "markdown",
   "id": "bafd1be2",
   "metadata": {
    "_kg_hide-output": true,
    "papermill": {
     "duration": 0.008186,
     "end_time": "2024-05-13T16:16:34.389890",
     "exception": false,
     "start_time": "2024-05-13T16:16:34.381704",
     "status": "completed"
    },
    "tags": []
   },
   "source": [
    "\n",
    "<br>\n",
    "<font style=\"font-family:Gabriola; font-size:400%;font-weight:bold;color:DarkOliveGreen;\">Importing Modules and Libraries\n",
    "  </font><br>  \n"
   ]
  },
  {
   "cell_type": "code",
   "execution_count": 1,
   "id": "d622a99d",
   "metadata": {
    "_kg_hide-output": true,
    "collapsed": true,
    "execution": {
     "iopub.execute_input": "2024-05-13T16:16:34.408322Z",
     "iopub.status.busy": "2024-05-13T16:16:34.407168Z",
     "iopub.status.idle": "2024-05-13T16:16:48.140503Z",
     "shell.execute_reply": "2024-05-13T16:16:48.138670Z"
    },
    "jupyter": {
     "outputs_hidden": true
    },
    "papermill": {
     "duration": 13.745308,
     "end_time": "2024-05-13T16:16:48.143157",
     "exception": false,
     "start_time": "2024-05-13T16:16:34.397849",
     "status": "completed"
    },
    "tags": []
   },
   "outputs": [
    {
     "name": "stdout",
     "output_type": "stream",
     "text": [
      "Collecting pmdarima\r\n",
      "  Downloading pmdarima-2.0.4-cp310-cp310-manylinux_2_17_x86_64.manylinux2014_x86_64.manylinux_2_28_x86_64.whl.metadata (7.8 kB)\r\n",
      "Requirement already satisfied: joblib>=0.11 in /opt/conda/lib/python3.10/site-packages (from pmdarima) (1.3.2)\r\n",
      "Requirement already satisfied: Cython!=0.29.18,!=0.29.31,>=0.29 in /opt/conda/lib/python3.10/site-packages (from pmdarima) (3.0.8)\r\n",
      "Requirement already satisfied: numpy>=1.21.2 in /opt/conda/lib/python3.10/site-packages (from pmdarima) (1.26.4)\r\n",
      "Requirement already satisfied: pandas>=0.19 in /opt/conda/lib/python3.10/site-packages (from pmdarima) (2.2.1)\r\n",
      "Requirement already satisfied: scikit-learn>=0.22 in /opt/conda/lib/python3.10/site-packages (from pmdarima) (1.2.2)\r\n",
      "Requirement already satisfied: scipy>=1.3.2 in /opt/conda/lib/python3.10/site-packages (from pmdarima) (1.11.4)\r\n",
      "Requirement already satisfied: statsmodels>=0.13.2 in /opt/conda/lib/python3.10/site-packages (from pmdarima) (0.14.1)\r\n",
      "Requirement already satisfied: urllib3 in /opt/conda/lib/python3.10/site-packages (from pmdarima) (1.26.18)\r\n",
      "Requirement already satisfied: setuptools!=50.0.0,>=38.6.0 in /opt/conda/lib/python3.10/site-packages (from pmdarima) (69.0.3)\r\n",
      "Requirement already satisfied: packaging>=17.1 in /opt/conda/lib/python3.10/site-packages (from pmdarima) (21.3)\r\n",
      "Requirement already satisfied: pyparsing!=3.0.5,>=2.0.2 in /opt/conda/lib/python3.10/site-packages (from packaging>=17.1->pmdarima) (3.1.1)\r\n",
      "Requirement already satisfied: python-dateutil>=2.8.2 in /opt/conda/lib/python3.10/site-packages (from pandas>=0.19->pmdarima) (2.9.0.post0)\r\n",
      "Requirement already satisfied: pytz>=2020.1 in /opt/conda/lib/python3.10/site-packages (from pandas>=0.19->pmdarima) (2023.3.post1)\r\n",
      "Requirement already satisfied: tzdata>=2022.7 in /opt/conda/lib/python3.10/site-packages (from pandas>=0.19->pmdarima) (2023.4)\r\n",
      "Requirement already satisfied: threadpoolctl>=2.0.0 in /opt/conda/lib/python3.10/site-packages (from scikit-learn>=0.22->pmdarima) (3.2.0)\r\n",
      "Requirement already satisfied: patsy>=0.5.4 in /opt/conda/lib/python3.10/site-packages (from statsmodels>=0.13.2->pmdarima) (0.5.6)\r\n",
      "Requirement already satisfied: six in /opt/conda/lib/python3.10/site-packages (from patsy>=0.5.4->statsmodels>=0.13.2->pmdarima) (1.16.0)\r\n",
      "Downloading pmdarima-2.0.4-cp310-cp310-manylinux_2_17_x86_64.manylinux2014_x86_64.manylinux_2_28_x86_64.whl (2.1 MB)\r\n",
      "\u001b[2K   \u001b[90m━━━━━━━━━━━━━━━━━━━━━━━━━━━━━━━━━━━━━━━━\u001b[0m \u001b[32m2.1/2.1 MB\u001b[0m \u001b[31m40.5 MB/s\u001b[0m eta \u001b[36m0:00:00\u001b[0m\r\n",
      "\u001b[?25hInstalling collected packages: pmdarima\r\n",
      "Successfully installed pmdarima-2.0.4\r\n"
     ]
    }
   ],
   "source": [
    "!pip install pmdarima"
   ]
  },
  {
   "cell_type": "code",
   "execution_count": 2,
   "id": "382fa9da",
   "metadata": {
    "execution": {
     "iopub.execute_input": "2024-05-13T16:16:48.164268Z",
     "iopub.status.busy": "2024-05-13T16:16:48.163798Z",
     "iopub.status.idle": "2024-05-13T16:17:04.892881Z",
     "shell.execute_reply": "2024-05-13T16:17:04.891626Z"
    },
    "id": "9IDFIwnvwp1u",
    "papermill": {
     "duration": 16.742248,
     "end_time": "2024-05-13T16:17:04.895703",
     "exception": false,
     "start_time": "2024-05-13T16:16:48.153455",
     "status": "completed"
    },
    "tags": []
   },
   "outputs": [
    {
     "name": "stderr",
     "output_type": "stream",
     "text": [
      "2024-05-13 16:16:52.237173: E external/local_xla/xla/stream_executor/cuda/cuda_dnn.cc:9261] Unable to register cuDNN factory: Attempting to register factory for plugin cuDNN when one has already been registered\n",
      "2024-05-13 16:16:52.237426: E external/local_xla/xla/stream_executor/cuda/cuda_fft.cc:607] Unable to register cuFFT factory: Attempting to register factory for plugin cuFFT when one has already been registered\n",
      "2024-05-13 16:16:52.380783: E external/local_xla/xla/stream_executor/cuda/cuda_blas.cc:1515] Unable to register cuBLAS factory: Attempting to register factory for plugin cuBLAS when one has already been registered\n"
     ]
    }
   ],
   "source": [
    "import pandas as pd\n",
    "import numpy as np\n",
    "from sklearn.metrics import mean_squared_error\n",
    "from tensorflow.keras import Sequential\n",
    "from tensorflow.keras.layers import LSTM,Dense\n",
    "import tensorflow as tf\n",
    "import matplotlib.pyplot as plt\n",
    "from sklearn.preprocessing import MinMaxScaler\n",
    "from pmdarima import auto_arima\n",
    "import warnings\n",
    "warnings.filterwarnings('ignore')"
   ]
  },
  {
   "cell_type": "markdown",
   "id": "7b548b72",
   "metadata": {
    "papermill": {
     "duration": 0.008331,
     "end_time": "2024-05-13T16:17:04.913043",
     "exception": false,
     "start_time": "2024-05-13T16:17:04.904712",
     "status": "completed"
    },
    "tags": []
   },
   "source": [
    "\n",
    "<br>\n",
    "<font style=\"font-family:Gabriola; font-size:400%;font-weight:bold;color:DarkOliveGreen;\">Data Loading\n",
    "  </font><br>  \n"
   ]
  },
  {
   "cell_type": "code",
   "execution_count": 3,
   "id": "b7a864e4",
   "metadata": {
    "execution": {
     "iopub.execute_input": "2024-05-13T16:17:04.933456Z",
     "iopub.status.busy": "2024-05-13T16:17:04.931826Z",
     "iopub.status.idle": "2024-05-13T16:17:04.961965Z",
     "shell.execute_reply": "2024-05-13T16:17:04.960826Z"
    },
    "id": "EYn3pzIswvcU",
    "papermill": {
     "duration": 0.042793,
     "end_time": "2024-05-13T16:17:04.964574",
     "exception": false,
     "start_time": "2024-05-13T16:17:04.921781",
     "status": "completed"
    },
    "tags": []
   },
   "outputs": [],
   "source": [
    "data=pd.read_csv('/kaggle/input/google/GOOG.csv')"
   ]
  },
  {
   "cell_type": "markdown",
   "id": "c2bdd1c2",
   "metadata": {
    "papermill": {
     "duration": 0.008397,
     "end_time": "2024-05-13T16:17:04.982908",
     "exception": false,
     "start_time": "2024-05-13T16:17:04.974511",
     "status": "completed"
    },
    "tags": []
   },
   "source": [
    "\n",
    "<br>\n",
    "<font style=\"font-family:Gabriola; font-size:400%;font-weight:bold;color:DarkOliveGreen;\">Data Preparation\n",
    "  </font><br>  \n"
   ]
  },
  {
   "cell_type": "code",
   "execution_count": 4,
   "id": "c3598da8",
   "metadata": {
    "execution": {
     "iopub.execute_input": "2024-05-13T16:17:05.002127Z",
     "iopub.status.busy": "2024-05-13T16:17:05.001726Z",
     "iopub.status.idle": "2024-05-13T16:17:05.020448Z",
     "shell.execute_reply": "2024-05-13T16:17:05.019267Z"
    },
    "id": "o8cNQQ--xCfN",
    "papermill": {
     "duration": 0.031018,
     "end_time": "2024-05-13T16:17:05.022708",
     "exception": false,
     "start_time": "2024-05-13T16:17:04.991690",
     "status": "completed"
    },
    "tags": []
   },
   "outputs": [],
   "source": [
    "data.Date=pd.to_datetime(data.Date)\n",
    "data.set_index('Date',inplace=True)"
   ]
  },
  {
   "cell_type": "code",
   "execution_count": 5,
   "id": "6eb9f2db",
   "metadata": {
    "execution": {
     "iopub.execute_input": "2024-05-13T16:17:05.042039Z",
     "iopub.status.busy": "2024-05-13T16:17:05.041628Z",
     "iopub.status.idle": "2024-05-13T16:17:05.428141Z",
     "shell.execute_reply": "2024-05-13T16:17:05.426965Z"
    },
    "id": "E6jiIhIow6HG",
    "outputId": "e302db02-f88c-4117-c97d-8496a2ba1ae1",
    "papermill": {
     "duration": 0.398934,
     "end_time": "2024-05-13T16:17:05.430515",
     "exception": false,
     "start_time": "2024-05-13T16:17:05.031581",
     "status": "completed"
    },
    "tags": []
   },
   "outputs": [
    {
     "data": {
      "text/plain": [
       "<Axes: xlabel='Date'>"
      ]
     },
     "execution_count": 5,
     "metadata": {},
     "output_type": "execute_result"
    },
    {
     "data": {
      "image/png": "[encoded data removed]",
      "text/plain": [
       "<Figure size 640x480 with 1 Axes>"
      ]
     },
     "metadata": {},
     "output_type": "display_data"
    }
   ],
   "source": [
    "data.Close.plot()"
   ]
  },
  {
   "cell_type": "code",
   "execution_count": 6,
   "id": "d275dd26",
   "metadata": {
    "execution": {
     "iopub.execute_input": "2024-05-13T16:17:05.452108Z",
     "iopub.status.busy": "2024-05-13T16:17:05.451711Z",
     "iopub.status.idle": "2024-05-13T16:17:05.456320Z",
     "shell.execute_reply": "2024-05-13T16:17:05.455160Z"
    },
    "id": "Uki2RfWzyJaL",
    "papermill": {
     "duration": 0.017773,
     "end_time": "2024-05-13T16:17:05.458351",
     "exception": false,
     "start_time": "2024-05-13T16:17:05.440578",
     "status": "completed"
    },
    "tags": []
   },
   "outputs": [],
   "source": [
    "newdf=data.Close"
   ]
  },
  {
   "cell_type": "markdown",
   "id": "2e807533",
   "metadata": {
    "papermill": {
     "duration": 0.009121,
     "end_time": "2024-05-13T16:17:05.476911",
     "exception": false,
     "start_time": "2024-05-13T16:17:05.467790",
     "status": "completed"
    },
    "tags": []
   },
   "source": [
    "\n",
    "<br>\n",
    "<font style=\"font-family:Gabriola; font-size:400%;font-weight:bold;color:DarkOliveGreen;\">Splitting Data\n",
    "  </font><br>  \n"
   ]
  },
  {
   "cell_type": "code",
   "execution_count": 7,
   "id": "d91af1d6",
   "metadata": {
    "execution": {
     "iopub.execute_input": "2024-05-13T16:17:05.497678Z",
     "iopub.status.busy": "2024-05-13T16:17:05.496986Z",
     "iopub.status.idle": "2024-05-13T16:17:05.501698Z",
     "shell.execute_reply": "2024-05-13T16:17:05.500726Z"
    },
    "id": "U-U-cwTixuZb",
    "papermill": {
     "duration": 0.017492,
     "end_time": "2024-05-13T16:17:05.503911",
     "exception": false,
     "start_time": "2024-05-13T16:17:05.486419",
     "status": "completed"
    },
    "tags": []
   },
   "outputs": [],
   "source": [
    "train_size=round(newdf.shape[0]*0.80)"
   ]
  },
  {
   "cell_type": "code",
   "execution_count": 8,
   "id": "61e56ca1",
   "metadata": {
    "execution": {
     "iopub.execute_input": "2024-05-13T16:17:05.524424Z",
     "iopub.status.busy": "2024-05-13T16:17:05.524024Z",
     "iopub.status.idle": "2024-05-13T16:17:05.528955Z",
     "shell.execute_reply": "2024-05-13T16:17:05.527858Z"
    },
    "id": "sg3gtNE5x0C8",
    "papermill": {
     "duration": 0.017907,
     "end_time": "2024-05-13T16:17:05.531292",
     "exception": false,
     "start_time": "2024-05-13T16:17:05.513385",
     "status": "completed"
    },
    "tags": []
   },
   "outputs": [],
   "source": [
    "validation_size=test_size=round(newdf.shape[0]*0.10)"
   ]
  },
  {
   "cell_type": "code",
   "execution_count": 9,
   "id": "efbfdaa3",
   "metadata": {
    "execution": {
     "iopub.execute_input": "2024-05-13T16:17:05.551892Z",
     "iopub.status.busy": "2024-05-13T16:17:05.551526Z",
     "iopub.status.idle": "2024-05-13T16:17:05.556267Z",
     "shell.execute_reply": "2024-05-13T16:17:05.555109Z"
    },
    "id": "wXi8gEYkx8yp",
    "papermill": {
     "duration": 0.017685,
     "end_time": "2024-05-13T16:17:05.558525",
     "exception": false,
     "start_time": "2024-05-13T16:17:05.540840",
     "status": "completed"
    },
    "tags": []
   },
   "outputs": [],
   "source": [
    "train=newdf[:train_size]"
   ]
  },
  {
   "cell_type": "code",
   "execution_count": 10,
   "id": "ae2e8b32",
   "metadata": {
    "execution": {
     "iopub.execute_input": "2024-05-13T16:17:05.579478Z",
     "iopub.status.busy": "2024-05-13T16:17:05.578670Z",
     "iopub.status.idle": "2024-05-13T16:17:05.583336Z",
     "shell.execute_reply": "2024-05-13T16:17:05.582523Z"
    },
    "id": "-P4W7fSj0QBp",
    "papermill": {
     "duration": 0.017288,
     "end_time": "2024-05-13T16:17:05.585325",
     "exception": false,
     "start_time": "2024-05-13T16:17:05.568037",
     "status": "completed"
    },
    "tags": []
   },
   "outputs": [],
   "source": [
    "validation=newdf[train_size:train_size+validation_size]"
   ]
  },
  {
   "cell_type": "code",
   "execution_count": 11,
   "id": "b98f9521",
   "metadata": {
    "execution": {
     "iopub.execute_input": "2024-05-13T16:17:05.605922Z",
     "iopub.status.busy": "2024-05-13T16:17:05.605549Z",
     "iopub.status.idle": "2024-05-13T16:17:05.610392Z",
     "shell.execute_reply": "2024-05-13T16:17:05.609313Z"
    },
    "id": "fmZXM-Ly0frf",
    "papermill": {
     "duration": 0.017773,
     "end_time": "2024-05-13T16:17:05.612505",
     "exception": false,
     "start_time": "2024-05-13T16:17:05.594732",
     "status": "completed"
    },
    "tags": []
   },
   "outputs": [],
   "source": [
    "test=newdf[train_size+validation_size:]"
   ]
  },
  {
   "cell_type": "code",
   "execution_count": 12,
   "id": "4d60680b",
   "metadata": {
    "execution": {
     "iopub.execute_input": "2024-05-13T16:17:05.633519Z",
     "iopub.status.busy": "2024-05-13T16:17:05.633079Z",
     "iopub.status.idle": "2024-05-13T16:17:05.638670Z",
     "shell.execute_reply": "2024-05-13T16:17:05.637763Z"
    },
    "id": "8i_QJs6X1gfw",
    "papermill": {
     "duration": 0.018257,
     "end_time": "2024-05-13T16:17:05.640678",
     "exception": false,
     "start_time": "2024-05-13T16:17:05.622421",
     "status": "completed"
    },
    "tags": []
   },
   "outputs": [],
   "source": [
    "arima_train=pd.concat([train,validation])"
   ]
  },
  {
   "cell_type": "markdown",
   "id": "4c37644c",
   "metadata": {
    "papermill": {
     "duration": 0.009026,
     "end_time": "2024-05-13T16:17:05.659222",
     "exception": false,
     "start_time": "2024-05-13T16:17:05.650196",
     "status": "completed"
    },
    "tags": []
   },
   "source": [
    "\n",
    "<br>\n",
    "<font style=\"font-family:Gabriola; font-size:400%;font-weight:bold;color:DarkOliveGreen;\">ARIMA MODEL\n",
    "  </font><br>  \n"
   ]
  },
  {
   "cell_type": "code",
   "execution_count": 13,
   "id": "170d668e",
   "metadata": {
    "execution": {
     "iopub.execute_input": "2024-05-13T16:17:05.679731Z",
     "iopub.status.busy": "2024-05-13T16:17:05.679354Z",
     "iopub.status.idle": "2024-05-13T16:17:15.956492Z",
     "shell.execute_reply": "2024-05-13T16:17:15.955174Z"
    },
    "id": "h7mhaBpy0rQ5",
    "outputId": "68095646-1ef1-4039-d71e-827ca03ebce1",
    "papermill": {
     "duration": 10.290676,
     "end_time": "2024-05-13T16:17:15.959209",
     "exception": false,
     "start_time": "2024-05-13T16:17:05.668533",
     "status": "completed"
    },
    "tags": []
   },
   "outputs": [],
   "source": [
    "model=auto_arima(arima_train)"
   ]
  },
  {
   "cell_type": "code",
   "execution_count": 14,
   "id": "e4e5b80e",
   "metadata": {
    "execution": {
     "iopub.execute_input": "2024-05-13T16:17:15.980811Z",
     "iopub.status.busy": "2024-05-13T16:17:15.980082Z",
     "iopub.status.idle": "2024-05-13T16:17:16.229064Z",
     "shell.execute_reply": "2024-05-13T16:17:16.227819Z"
    },
    "id": "MG6NDRK301b8",
    "papermill": {
     "duration": 0.262462,
     "end_time": "2024-05-13T16:17:16.231491",
     "exception": false,
     "start_time": "2024-05-13T16:17:15.969029",
     "status": "completed"
    },
    "tags": []
   },
   "outputs": [],
   "source": [
    "result=model.fit(arima_train)"
   ]
  },
  {
   "cell_type": "code",
   "execution_count": 15,
   "id": "d4838c5d",
   "metadata": {
    "execution": {
     "iopub.execute_input": "2024-05-13T16:17:16.252761Z",
     "iopub.status.busy": "2024-05-13T16:17:16.252337Z",
     "iopub.status.idle": "2024-05-13T16:17:16.267400Z",
     "shell.execute_reply": "2024-05-13T16:17:16.266217Z"
    },
    "id": "aQ935y5909CT",
    "outputId": "2d7d5421-543b-4f31-f645-09682fc92f9b",
    "papermill": {
     "duration": 0.02887,
     "end_time": "2024-05-13T16:17:16.269977",
     "exception": false,
     "start_time": "2024-05-13T16:17:16.241107",
     "status": "completed"
    },
    "tags": []
   },
   "outputs": [],
   "source": [
    "predict=result.predict(30)"
   ]
  },
  {
   "cell_type": "code",
   "execution_count": 16,
   "id": "b14cb7ad",
   "metadata": {
    "execution": {
     "iopub.execute_input": "2024-05-13T16:17:16.290913Z",
     "iopub.status.busy": "2024-05-13T16:17:16.290543Z",
     "iopub.status.idle": "2024-05-13T16:17:16.296849Z",
     "shell.execute_reply": "2024-05-13T16:17:16.295743Z"
    },
    "id": "gKoRf5XN4JF_",
    "papermill": {
     "duration": 0.019358,
     "end_time": "2024-05-13T16:17:16.299013",
     "exception": false,
     "start_time": "2024-05-13T16:17:16.279655",
     "status": "completed"
    },
    "tags": []
   },
   "outputs": [],
   "source": [
    "arima_train=arima_train.reset_index().Close"
   ]
  },
  {
   "cell_type": "markdown",
   "id": "3e74eaac",
   "metadata": {
    "papermill": {
     "duration": 0.009378,
     "end_time": "2024-05-13T16:17:16.317991",
     "exception": false,
     "start_time": "2024-05-13T16:17:16.308613",
     "status": "completed"
    },
    "tags": []
   },
   "source": [
    "\n",
    "<br>\n",
    "<font style=\"font-family:Gabriola; font-size:400%;font-weight:bold;color:DarkOliveGreen;\">Predicted Values\n",
    "  </font><br>  \n"
   ]
  },
  {
   "cell_type": "code",
   "execution_count": 17,
   "id": "e48f3c1b",
   "metadata": {
    "execution": {
     "iopub.execute_input": "2024-05-13T16:17:16.339205Z",
     "iopub.status.busy": "2024-05-13T16:17:16.338598Z",
     "iopub.status.idle": "2024-05-13T16:17:16.633741Z",
     "shell.execute_reply": "2024-05-13T16:17:16.632566Z"
    },
    "id": "ucuXPupT2qGy",
    "outputId": "9b5336d3-1d22-49ba-b279-67a55a06edfe",
    "papermill": {
     "duration": 0.308622,
     "end_time": "2024-05-13T16:17:16.636217",
     "exception": false,
     "start_time": "2024-05-13T16:17:16.327595",
     "status": "completed"
    },
    "tags": []
   },
   "outputs": [
    {
     "data": {
      "text/plain": [
       "<matplotlib.legend.Legend at 0x7ec8b8193be0>"
      ]
     },
     "execution_count": 17,
     "metadata": {},
     "output_type": "execute_result"
    },
    {
     "data": {
      "image/png": "[encoded data removed]",
      "text/plain": [
       "<Figure size 640x480 with 1 Axes>"
      ]
     },
     "metadata": {},
     "output_type": "display_data"
    }
   ],
   "source": [
    "arima_train.plot(label=\"Train Data\",color='g')\n",
    "predict.plot(label='Predicted Data',color='blue')\n",
    "plt.legend()"
   ]
  },
  {
   "cell_type": "code",
   "execution_count": 18,
   "id": "5f6f0ed1",
   "metadata": {
    "execution": {
     "iopub.execute_input": "2024-05-13T16:17:16.659449Z",
     "iopub.status.busy": "2024-05-13T16:17:16.659006Z",
     "iopub.status.idle": "2024-05-13T16:17:16.945000Z",
     "shell.execute_reply": "2024-05-13T16:17:16.943889Z"
    },
    "id": "7iFkW3SB3t2E",
    "outputId": "fbe21359-296a-4f03-d60f-3a8b5a73d5a7",
    "papermill": {
     "duration": 0.300876,
     "end_time": "2024-05-13T16:17:16.947583",
     "exception": false,
     "start_time": "2024-05-13T16:17:16.646707",
     "status": "completed"
    },
    "tags": []
   },
   "outputs": [
    {
     "data": {
      "text/plain": [
       "<matplotlib.legend.Legend at 0x7ec8b7ee3bb0>"
      ]
     },
     "execution_count": 18,
     "metadata": {},
     "output_type": "execute_result"
    },
    {
     "data": {
      "image/png": "[encoded data removed]",
      "text/plain": [
       "<Figure size 640x480 with 1 Axes>"
      ]
     },
     "metadata": {},
     "output_type": "display_data"
    }
   ],
   "source": [
    "arima_train[3800:].plot(label=\"Train Data\",color='g')\n",
    "predict.plot(label='Predicted Data',color='blue')\n",
    "plt.legend()"
   ]
  },
  {
   "cell_type": "markdown",
   "id": "160aa5bf",
   "metadata": {
    "papermill": {
     "duration": 0.010946,
     "end_time": "2024-05-13T16:17:16.969894",
     "exception": false,
     "start_time": "2024-05-13T16:17:16.958948",
     "status": "completed"
    },
    "tags": []
   },
   "source": [
    "\n",
    "<br>\n",
    "<font style=\"font-family:Gabriola; font-size:400%;font-weight:bold;color:DarkOliveGreen;\">LSTM Model\n",
    "  </font><br>  \n"
   ]
  },
  {
   "cell_type": "code",
   "execution_count": 19,
   "id": "f2e91203",
   "metadata": {
    "execution": {
     "iopub.execute_input": "2024-05-13T16:17:16.994164Z",
     "iopub.status.busy": "2024-05-13T16:17:16.993768Z",
     "iopub.status.idle": "2024-05-13T16:17:17.007377Z",
     "shell.execute_reply": "2024-05-13T16:17:17.006324Z"
    },
    "id": "6TnXvJuh5_24",
    "papermill": {
     "duration": 0.028319,
     "end_time": "2024-05-13T16:17:17.009502",
     "exception": false,
     "start_time": "2024-05-13T16:17:16.981183",
     "status": "completed"
    },
    "tags": []
   },
   "outputs": [],
   "source": [
    "def func(df):\n",
    "  return np.array(df).reshape(-1,100)\n",
    "train=train[75:]\n",
    "validation=validation[84:]\n",
    "test=test[85:]\n",
    "train=func(train)\n",
    "validation=func(validation)\n",
    "test=func(test)\n",
    "xtra,ytra=train[:,:-1],train[:,-1].reshape(1,-1)\n",
    "xval,yval=validation[:,:-1],validation[:,-1].reshape(1,-1)\n",
    "xtest,ytest=test[:,:-1],test[:,-1].reshape(1,-1)\n",
    "scaler=MinMaxScaler()\n",
    "scaler2=MinMaxScaler()\n",
    "def func1(df):\n",
    "  return scaler.fit_transform(df)\n",
    "xtra,ytra=func1(xtra),scaler2.fit_transform(ytra)\n",
    "xval,yval=func1(xval),scaler2.fit_transform(yval)\n",
    "xtest,ytest=func1(xtest),scaler2.fit_transform(ytest)\n",
    "def func3(df):\n",
    "  return df.reshape(df.shape[0],df.shape[1],1)\n",
    "xtra=func3(xtra)\n",
    "xval=func3(xval)\n",
    "xtest=func3(xtest)"
   ]
  },
  {
   "cell_type": "code",
   "execution_count": 20,
   "id": "ab767abc",
   "metadata": {
    "execution": {
     "iopub.execute_input": "2024-05-13T16:17:17.033756Z",
     "iopub.status.busy": "2024-05-13T16:17:17.032851Z",
     "iopub.status.idle": "2024-05-13T16:17:17.037919Z",
     "shell.execute_reply": "2024-05-13T16:17:17.036820Z"
    },
    "id": "eod4xwen8dJ4",
    "papermill": {
     "duration": 0.019237,
     "end_time": "2024-05-13T16:17:17.039981",
     "exception": false,
     "start_time": "2024-05-13T16:17:17.020744",
     "status": "completed"
    },
    "tags": []
   },
   "outputs": [],
   "source": [
    "input_shape=(99,1)\n",
    "hidden_nodes=50"
   ]
  },
  {
   "cell_type": "code",
   "execution_count": 21,
   "id": "20751cf1",
   "metadata": {
    "execution": {
     "iopub.execute_input": "2024-05-13T16:17:17.064829Z",
     "iopub.status.busy": "2024-05-13T16:17:17.063656Z",
     "iopub.status.idle": "2024-05-13T16:17:17.214008Z",
     "shell.execute_reply": "2024-05-13T16:17:17.213198Z"
    },
    "id": "XJh_j6J95Va8",
    "outputId": "1bf874f7-73fe-4f18-dc8d-0cde544dd7e2",
    "papermill": {
     "duration": 0.164784,
     "end_time": "2024-05-13T16:17:17.216051",
     "exception": false,
     "start_time": "2024-05-13T16:17:17.051267",
     "status": "completed"
    },
    "tags": []
   },
   "outputs": [
    {
     "data": {
      "text/html": [
       "<pre style=\"white-space:pre;overflow-x:auto;line-height:normal;font-family:Menlo,'DejaVu Sans Mono',consolas,'Courier New',monospace\"><span style=\"font-weight: bold\">Model: \"sequential\"</span>\n",
       "</pre>\n"
      ],
      "text/plain": [
       "\u001b[1mModel: \"sequential\"\u001b[0m\n"
      ]
     },
     "metadata": {},
     "output_type": "display_data"
    },
    {
     "data": {
      "text/html": [
       "<pre style=\"white-space:pre;overflow-x:auto;line-height:normal;font-family:Menlo,'DejaVu Sans Mono',consolas,'Courier New',monospace\">┏━━━━━━━━━━━━━━━━━━━━━━━━━━━━━━━━━┳━━━━━━━━━━━━━━━━━━━━━━━━┳━━━━━━━━━━━━━━━┓\n",
       "┃<span style=\"font-weight: bold\"> Layer (type)                    </span>┃<span style=\"font-weight: bold\"> Output Shape           </span>┃<span style=\"font-weight: bold\">       Param # </span>┃\n",
       "┡━━━━━━━━━━━━━━━━━━━━━━━━━━━━━━━━━╇━━━━━━━━━━━━━━━━━━━━━━━━╇━━━━━━━━━━━━━━━┩\n",
       "│ lstm (<span style=\"color: #0087ff; text-decoration-color: #0087ff\">LSTM</span>)                     │ (<span style=\"color: #00d7ff; text-decoration-color: #00d7ff\">None</span>, <span style=\"color: #00af00; text-decoration-color: #00af00\">99</span>, <span style=\"color: #00af00; text-decoration-color: #00af00\">50</span>)         │        <span style=\"color: #00af00; text-decoration-color: #00af00\">10,400</span> │\n",
       "├─────────────────────────────────┼────────────────────────┼───────────────┤\n",
       "│ lstm_1 (<span style=\"color: #0087ff; text-decoration-color: #0087ff\">LSTM</span>)                   │ (<span style=\"color: #00d7ff; text-decoration-color: #00d7ff\">None</span>, <span style=\"color: #00af00; text-decoration-color: #00af00\">50</span>)             │        <span style=\"color: #00af00; text-decoration-color: #00af00\">20,200</span> │\n",
       "├─────────────────────────────────┼────────────────────────┼───────────────┤\n",
       "│ dense (<span style=\"color: #0087ff; text-decoration-color: #0087ff\">Dense</span>)                   │ (<span style=\"color: #00d7ff; text-decoration-color: #00d7ff\">None</span>, <span style=\"color: #00af00; text-decoration-color: #00af00\">1</span>)              │            <span style=\"color: #00af00; text-decoration-color: #00af00\">51</span> │\n",
       "└─────────────────────────────────┴────────────────────────┴───────────────┘\n",
       "</pre>\n"
      ],
      "text/plain": [
       "┏━━━━━━━━━━━━━━━━━━━━━━━━━━━━━━━━━┳━━━━━━━━━━━━━━━━━━━━━━━━┳━━━━━━━━━━━━━━━┓\n",
       "┃\u001b[1m \u001b[0m\u001b[1mLayer (type)                   \u001b[0m\u001b[1m \u001b[0m┃\u001b[1m \u001b[0m\u001b[1mOutput Shape          \u001b[0m\u001b[1m \u001b[0m┃\u001b[1m \u001b[0m\u001b[1m      Param #\u001b[0m\u001b[1m \u001b[0m┃\n",
       "┡━━━━━━━━━━━━━━━━━━━━━━━━━━━━━━━━━╇━━━━━━━━━━━━━━━━━━━━━━━━╇━━━━━━━━━━━━━━━┩\n",
       "│ lstm (\u001b[38;5;33mLSTM\u001b[0m)                     │ (\u001b[38;5;45mNone\u001b[0m, \u001b[38;5;34m99\u001b[0m, \u001b[38;5;34m50\u001b[0m)         │        \u001b[38;5;34m10,400\u001b[0m │\n",
       "├─────────────────────────────────┼────────────────────────┼───────────────┤\n",
       "│ lstm_1 (\u001b[38;5;33mLSTM\u001b[0m)                   │ (\u001b[38;5;45mNone\u001b[0m, \u001b[38;5;34m50\u001b[0m)             │        \u001b[38;5;34m20,200\u001b[0m │\n",
       "├─────────────────────────────────┼────────────────────────┼───────────────┤\n",
       "│ dense (\u001b[38;5;33mDense\u001b[0m)                   │ (\u001b[38;5;45mNone\u001b[0m, \u001b[38;5;34m1\u001b[0m)              │            \u001b[38;5;34m51\u001b[0m │\n",
       "└─────────────────────────────────┴────────────────────────┴───────────────┘\n"
      ]
     },
     "metadata": {},
     "output_type": "display_data"
    },
    {
     "data": {
      "text/html": [
       "<pre style=\"white-space:pre;overflow-x:auto;line-height:normal;font-family:Menlo,'DejaVu Sans Mono',consolas,'Courier New',monospace\"><span style=\"font-weight: bold\"> Total params: </span><span style=\"color: #00af00; text-decoration-color: #00af00\">30,651</span> (119.73 KB)\n",
       "</pre>\n"
      ],
      "text/plain": [
       "\u001b[1m Total params: \u001b[0m\u001b[38;5;34m30,651\u001b[0m (119.73 KB)\n"
      ]
     },
     "metadata": {},
     "output_type": "display_data"
    },
    {
     "data": {
      "text/html": [
       "<pre style=\"white-space:pre;overflow-x:auto;line-height:normal;font-family:Menlo,'DejaVu Sans Mono',consolas,'Courier New',monospace\"><span style=\"font-weight: bold\"> Trainable params: </span><span style=\"color: #00af00; text-decoration-color: #00af00\">30,651</span> (119.73 KB)\n",
       "</pre>\n"
      ],
      "text/plain": [
       "\u001b[1m Trainable params: \u001b[0m\u001b[38;5;34m30,651\u001b[0m (119.73 KB)\n"
      ]
     },
     "metadata": {},
     "output_type": "display_data"
    },
    {
     "data": {
      "text/html": [
       "<pre style=\"white-space:pre;overflow-x:auto;line-height:normal;font-family:Menlo,'DejaVu Sans Mono',consolas,'Courier New',monospace\"><span style=\"font-weight: bold\"> Non-trainable params: </span><span style=\"color: #00af00; text-decoration-color: #00af00\">0</span> (0.00 B)\n",
       "</pre>\n"
      ],
      "text/plain": [
       "\u001b[1m Non-trainable params: \u001b[0m\u001b[38;5;34m0\u001b[0m (0.00 B)\n"
      ]
     },
     "metadata": {},
     "output_type": "display_data"
    }
   ],
   "source": [
    "model=Sequential()\n",
    "model.add(LSTM(hidden_nodes,return_sequences=True,input_shape=input_shape))\n",
    "model.add(LSTM(hidden_nodes))\n",
    "model.add(Dense(1))\n",
    "model.compile(loss='mse',optimizer='adam')\n",
    "model.summary()"
   ]
  },
  {
   "cell_type": "code",
   "execution_count": 22,
   "id": "9b2f2417",
   "metadata": {
    "execution": {
     "iopub.execute_input": "2024-05-13T16:17:17.242017Z",
     "iopub.status.busy": "2024-05-13T16:17:17.241075Z",
     "iopub.status.idle": "2024-05-13T16:17:17.246310Z",
     "shell.execute_reply": "2024-05-13T16:17:17.245208Z"
    },
    "id": "OW_UGqw2BizS",
    "papermill": {
     "duration": 0.020583,
     "end_time": "2024-05-13T16:17:17.248553",
     "exception": false,
     "start_time": "2024-05-13T16:17:17.227970",
     "status": "completed"
    },
    "tags": []
   },
   "outputs": [],
   "source": [
    "ytra=ytra.flatten()\n",
    "ytest=ytest.flatten()\n",
    "yval=yval.flatten()"
   ]
  },
  {
   "cell_type": "code",
   "execution_count": 23,
   "id": "116e3541",
   "metadata": {
    "execution": {
     "iopub.execute_input": "2024-05-13T16:17:17.275687Z",
     "iopub.status.busy": "2024-05-13T16:17:17.275264Z",
     "iopub.status.idle": "2024-05-13T16:17:17.280369Z",
     "shell.execute_reply": "2024-05-13T16:17:17.279318Z"
    },
    "id": "J3-WYJMDB1lv",
    "papermill": {
     "duration": 0.021381,
     "end_time": "2024-05-13T16:17:17.282388",
     "exception": false,
     "start_time": "2024-05-13T16:17:17.261007",
     "status": "completed"
    },
    "tags": []
   },
   "outputs": [],
   "source": [
    "cr=tf.keras.callbacks.EarlyStopping(patience=5,monitor='val_loss')"
   ]
  },
  {
   "cell_type": "code",
   "execution_count": 24,
   "id": "e2183581",
   "metadata": {
    "execution": {
     "iopub.execute_input": "2024-05-13T16:17:17.308431Z",
     "iopub.status.busy": "2024-05-13T16:17:17.307538Z",
     "iopub.status.idle": "2024-05-13T16:17:23.625612Z",
     "shell.execute_reply": "2024-05-13T16:17:23.624471Z"
    },
    "id": "zArE5R53_GV2",
    "outputId": "b07999fe-0394-4c95-b10f-bf28ca1cb87f",
    "papermill": {
     "duration": 6.333421,
     "end_time": "2024-05-13T16:17:23.627965",
     "exception": false,
     "start_time": "2024-05-13T16:17:17.294544",
     "status": "completed"
    },
    "tags": []
   },
   "outputs": [
    {
     "name": "stdout",
     "output_type": "stream",
     "text": [
      "Epoch 1/100\n",
      "\u001b[1m2/2\u001b[0m \u001b[32m━━━━━━━━━━━━━━━━━━━━\u001b[0m\u001b[37m\u001b[0m \u001b[1m4s\u001b[0m 449ms/step - loss: 7.9195e-04 - val_loss: 8.2103e-05\n",
      "Epoch 2/100\n",
      "\u001b[1m2/2\u001b[0m \u001b[32m━━━━━━━━━━━━━━━━━━━━\u001b[0m\u001b[37m\u001b[0m \u001b[1m0s\u001b[0m 83ms/step - loss: 1.8134e-04 - val_loss: 0.0025\n",
      "Epoch 3/100\n",
      "\u001b[1m2/2\u001b[0m \u001b[32m━━━━━━━━━━━━━━━━━━━━\u001b[0m\u001b[37m\u001b[0m \u001b[1m0s\u001b[0m 82ms/step - loss: 0.0012 - val_loss: 9.0592e-04\n",
      "Epoch 4/100\n",
      "\u001b[1m2/2\u001b[0m \u001b[32m━━━━━━━━━━━━━━━━━━━━\u001b[0m\u001b[37m\u001b[0m \u001b[1m0s\u001b[0m 80ms/step - loss: 3.1559e-04 - val_loss: 4.4565e-05\n",
      "Epoch 5/100\n",
      "\u001b[1m2/2\u001b[0m \u001b[32m━━━━━━━━━━━━━━━━━━━━\u001b[0m\u001b[37m\u001b[0m \u001b[1m0s\u001b[0m 88ms/step - loss: 1.3515e-04 - val_loss: 7.1656e-04\n",
      "Epoch 6/100\n",
      "\u001b[1m2/2\u001b[0m \u001b[32m━━━━━━━━━━━━━━━━━━━━\u001b[0m\u001b[37m\u001b[0m \u001b[1m0s\u001b[0m 91ms/step - loss: 5.2329e-04 - val_loss: 4.7140e-04\n",
      "Epoch 7/100\n",
      "\u001b[1m2/2\u001b[0m \u001b[32m━━━━━━━━━━━━━━━━━━━━\u001b[0m\u001b[37m\u001b[0m \u001b[1m0s\u001b[0m 84ms/step - loss: 2.3793e-04 - val_loss: 1.2910e-05\n",
      "Epoch 8/100\n",
      "\u001b[1m2/2\u001b[0m \u001b[32m━━━━━━━━━━━━━━━━━━━━\u001b[0m\u001b[37m\u001b[0m \u001b[1m0s\u001b[0m 85ms/step - loss: 2.7152e-05 - val_loss: 2.0898e-04\n",
      "Epoch 9/100\n",
      "\u001b[1m2/2\u001b[0m \u001b[32m━━━━━━━━━━━━━━━━━━━━\u001b[0m\u001b[37m\u001b[0m \u001b[1m0s\u001b[0m 87ms/step - loss: 1.2277e-04 - val_loss: 4.1263e-04\n",
      "Epoch 10/100\n",
      "\u001b[1m2/2\u001b[0m \u001b[32m━━━━━━━━━━━━━━━━━━━━\u001b[0m\u001b[37m\u001b[0m \u001b[1m0s\u001b[0m 86ms/step - loss: 2.2203e-04 - val_loss: 2.5330e-04\n",
      "Epoch 11/100\n",
      "\u001b[1m2/2\u001b[0m \u001b[32m━━━━━━━━━━━━━━━━━━━━\u001b[0m\u001b[37m\u001b[0m \u001b[1m0s\u001b[0m 82ms/step - loss: 1.1882e-04 - val_loss: 2.8905e-05\n",
      "Epoch 12/100\n",
      "\u001b[1m2/2\u001b[0m \u001b[32m━━━━━━━━━━━━━━━━━━━━\u001b[0m\u001b[37m\u001b[0m \u001b[1m0s\u001b[0m 94ms/step - loss: 1.1755e-05 - val_loss: 3.3827e-05\n"
     ]
    },
    {
     "data": {
      "text/plain": [
       "<keras.src.callbacks.history.History at 0x7ec8b6560a30>"
      ]
     },
     "execution_count": 24,
     "metadata": {},
     "output_type": "execute_result"
    }
   ],
   "source": [
    "model.fit(xtra,ytra,validation_data=(xval,yval),epochs=100,verbose=1,callbacks=[cr])"
   ]
  },
  {
   "cell_type": "code",
   "execution_count": 25,
   "id": "1ebd9fc7",
   "metadata": {
    "execution": {
     "iopub.execute_input": "2024-05-13T16:17:23.660138Z",
     "iopub.status.busy": "2024-05-13T16:17:23.659745Z",
     "iopub.status.idle": "2024-05-13T16:17:24.038124Z",
     "shell.execute_reply": "2024-05-13T16:17:24.036940Z"
    },
    "id": "WnLNQj1iHYCO",
    "outputId": "c7b6be41-d20a-4cdd-f706-cdd777d56e45",
    "papermill": {
     "duration": 0.39797,
     "end_time": "2024-05-13T16:17:24.041039",
     "exception": false,
     "start_time": "2024-05-13T16:17:23.643069",
     "status": "completed"
    },
    "tags": []
   },
   "outputs": [
    {
     "name": "stdout",
     "output_type": "stream",
     "text": [
      "\u001b[1m1/1\u001b[0m \u001b[32m━━━━━━━━━━━━━━━━━━━━\u001b[0m\u001b[37m\u001b[0m \u001b[1m0s\u001b[0m 313ms/step\n"
     ]
    }
   ],
   "source": [
    "ypred=model.predict(xtest)"
   ]
  },
  {
   "cell_type": "code",
   "execution_count": 26,
   "id": "63776c40",
   "metadata": {
    "execution": {
     "iopub.execute_input": "2024-05-13T16:17:24.072753Z",
     "iopub.status.busy": "2024-05-13T16:17:24.072355Z",
     "iopub.status.idle": "2024-05-13T16:17:24.077882Z",
     "shell.execute_reply": "2024-05-13T16:17:24.076732Z"
    },
    "id": "5g0G9cnLDWJB",
    "papermill": {
     "duration": 0.024176,
     "end_time": "2024-05-13T16:17:24.079982",
     "exception": false,
     "start_time": "2024-05-13T16:17:24.055806",
     "status": "completed"
    },
    "tags": []
   },
   "outputs": [],
   "source": [
    "ytest=scaler2.inverse_transform(ytest.reshape(1,-1))"
   ]
  },
  {
   "cell_type": "code",
   "execution_count": 27,
   "id": "e36b264e",
   "metadata": {
    "execution": {
     "iopub.execute_input": "2024-05-13T16:17:24.111226Z",
     "iopub.status.busy": "2024-05-13T16:17:24.110610Z",
     "iopub.status.idle": "2024-05-13T16:17:24.115337Z",
     "shell.execute_reply": "2024-05-13T16:17:24.114459Z"
    },
    "id": "zrRVSQ9eHjNY",
    "papermill": {
     "duration": 0.023003,
     "end_time": "2024-05-13T16:17:24.117542",
     "exception": false,
     "start_time": "2024-05-13T16:17:24.094539",
     "status": "completed"
    },
    "tags": []
   },
   "outputs": [],
   "source": [
    "ypred=ypred.reshape(1,-1)"
   ]
  },
  {
   "cell_type": "code",
   "execution_count": 28,
   "id": "af9447dc",
   "metadata": {
    "execution": {
     "iopub.execute_input": "2024-05-13T16:17:24.149342Z",
     "iopub.status.busy": "2024-05-13T16:17:24.148616Z",
     "iopub.status.idle": "2024-05-13T16:17:24.153972Z",
     "shell.execute_reply": "2024-05-13T16:17:24.152875Z"
    },
    "id": "4F9xW_8pGGit",
    "papermill": {
     "duration": 0.023975,
     "end_time": "2024-05-13T16:17:24.156173",
     "exception": false,
     "start_time": "2024-05-13T16:17:24.132198",
     "status": "completed"
    },
    "tags": []
   },
   "outputs": [],
   "source": [
    "ypred=scaler2.inverse_transform(ypred)"
   ]
  },
  {
   "cell_type": "markdown",
   "id": "c7f03921",
   "metadata": {
    "id": "Ucyr9CYqINFf",
    "papermill": {
     "duration": 0.01426,
     "end_time": "2024-05-13T16:17:24.185155",
     "exception": false,
     "start_time": "2024-05-13T16:17:24.170895",
     "status": "completed"
    },
    "tags": []
   },
   "source": [
    "\n",
    "<br>\n",
    "<font style=\"font-family:Gabriola; font-size:400%;font-weight:bold;color:DarkOliveGreen;\">LSTM model Evaluation\n",
    "  </font><br>  \n"
   ]
  },
  {
   "cell_type": "code",
   "execution_count": 29,
   "id": "4851a902",
   "metadata": {
    "execution": {
     "iopub.execute_input": "2024-05-13T16:17:24.276262Z",
     "iopub.status.busy": "2024-05-13T16:17:24.275631Z",
     "iopub.status.idle": "2024-05-13T16:17:24.282774Z",
     "shell.execute_reply": "2024-05-13T16:17:24.281780Z"
    },
    "id": "biBWePSjGH3Z",
    "outputId": "a1b8f658-fc05-4b55-b0c0-80f46040e61d",
    "papermill": {
     "duration": 0.084979,
     "end_time": "2024-05-13T16:17:24.284758",
     "exception": false,
     "start_time": "2024-05-13T16:17:24.199779",
     "status": "completed"
    },
    "tags": []
   },
   "outputs": [
    {
     "data": {
      "text/plain": [
       "3.435819575150181e-05"
      ]
     },
     "execution_count": 29,
     "metadata": {},
     "output_type": "execute_result"
    }
   ],
   "source": [
    "mean_squared_error(ytest,ypred)"
   ]
  },
  {
   "cell_type": "code",
   "execution_count": null,
   "id": "f1782356",
   "metadata": {
    "papermill": {
     "duration": 0.014825,
     "end_time": "2024-05-13T16:17:24.316345",
     "exception": false,
     "start_time": "2024-05-13T16:17:24.301520",
     "status": "completed"
    },
    "tags": []
   },
   "outputs": [],
   "source": []
  }
 ],
 "metadata": {
  "colab": {
   "provenance": []
  },
  "kaggle": {
   "accelerator": "none",
   "dataSources": [
    {
     "datasetId": 4772420,
     "sourceId": 8084879,
     "sourceType": "datasetVersion"
    }
   ],
   "dockerImageVersionId": 30684,
   "isGpuEnabled": false,
   "isInternetEnabled": true,
   "language": "python",
   "sourceType": "notebook"
  },
  "kernelspec": {
   "display_name": "Python 3",
   "language": "python",
   "name": "python3"
  },
  "language_info": {
   "codemirror_mode": {
    "name": "ipython",
    "version": 3
   },
   "file_extension": ".py",
   "mimetype": "text/x-python",
   "name": "python",
   "nbconvert_exporter": "python",
   "pygments_lexer": "ipython3",
   "version": "3.10.13"
  },
  "papermill": {
   "default_parameters": {},
   "duration": 55.069692,
   "end_time": "2024-05-13T16:17:26.689075",
   "environment_variables": {},
   "exception": null,
   "input_path": "__notebook__.ipynb",
   "output_path": "__notebook__.ipynb",
   "parameters": {},
   "start_time": "2024-05-13T16:16:31.619383",
   "version": "2.5.0"
  }
 },
 "nbformat": 4,
 "nbformat_minor": 5
}

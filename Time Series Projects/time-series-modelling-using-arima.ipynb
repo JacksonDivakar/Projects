{
 "cells": [
  {
   "cell_type": "markdown",
   "id": "b53f8edc",
   "metadata": {
    "papermill": {
     "duration": 0.017295,
     "end_time": "2024-05-23T11:09:28.067611",
     "exception": false,
     "start_time": "2024-05-23T11:09:28.050316",
     "status": "completed"
    },
    "tags": []
   },
   "source": [
    "<div style=\"padding: 10px; margin: 0; color: DarkCyan; font-family: cursive, serif; font-size: 120%; text-align: left; border-radius: 15px 50px; overflow: hidden; font-weight: 500;\">Importing Packages and Modules\n",
    "</div>"
   ]
  },
  {
   "cell_type": "code",
   "execution_count": 1,
   "id": "b7f71015",
   "metadata": {
    "_kg_hide-input": false,
    "_kg_hide-output": true,
    "execution": {
     "iopub.execute_input": "2024-05-23T11:09:28.104440Z",
     "iopub.status.busy": "2024-05-23T11:09:28.103779Z",
     "iopub.status.idle": "2024-05-23T11:09:59.911740Z",
     "shell.execute_reply": "2024-05-23T11:09:59.910377Z"
    },
    "papermill": {
     "duration": 31.830058,
     "end_time": "2024-05-23T11:09:59.914649",
     "exception": false,
     "start_time": "2024-05-23T11:09:28.084591",
     "status": "completed"
    },
    "tags": []
   },
   "outputs": [
    {
     "name": "stdout",
     "output_type": "stream",
     "text": [
      "Collecting pmdarima\r\n",
      "  Downloading pmdarima-2.0.4-cp310-cp310-manylinux_2_17_x86_64.manylinux2014_x86_64.manylinux_2_28_x86_64.whl.metadata (7.8 kB)\r\n",
      "Requirement already satisfied: joblib>=0.11 in /opt/conda/lib/python3.10/site-packages (from pmdarima) (1.4.0)\r\n",
      "Requirement already satisfied: Cython!=0.29.18,!=0.29.31,>=0.29 in /opt/conda/lib/python3.10/site-packages (from pmdarima) (3.0.8)\r\n",
      "Requirement already satisfied: numpy>=1.21.2 in /opt/conda/lib/python3.10/site-packages (from pmdarima) (1.26.4)\r\n",
      "Requirement already satisfied: pandas>=0.19 in /opt/conda/lib/python3.10/site-packages (from pmdarima) (2.2.2)\r\n",
      "Requirement already satisfied: scikit-learn>=0.22 in /opt/conda/lib/python3.10/site-packages (from pmdarima) (1.2.2)\r\n",
      "Requirement already satisfied: scipy>=1.3.2 in /opt/conda/lib/python3.10/site-packages (from pmdarima) (1.11.4)\r\n",
      "Requirement already satisfied: statsmodels>=0.13.2 in /opt/conda/lib/python3.10/site-packages (from pmdarima) (0.14.1)\r\n",
      "Requirement already satisfied: urllib3 in /opt/conda/lib/python3.10/site-packages (from pmdarima) (1.26.18)\r\n",
      "Requirement already satisfied: setuptools!=50.0.0,>=38.6.0 in /opt/conda/lib/python3.10/site-packages (from pmdarima) (69.0.3)\r\n",
      "Requirement already satisfied: packaging>=17.1 in /opt/conda/lib/python3.10/site-packages (from pmdarima) (21.3)\r\n",
      "Requirement already satisfied: pyparsing!=3.0.5,>=2.0.2 in /opt/conda/lib/python3.10/site-packages (from packaging>=17.1->pmdarima) (3.1.1)\r\n",
      "Requirement already satisfied: python-dateutil>=2.8.2 in /opt/conda/lib/python3.10/site-packages (from pandas>=0.19->pmdarima) (2.9.0.post0)\r\n",
      "Requirement already satisfied: pytz>=2020.1 in /opt/conda/lib/python3.10/site-packages (from pandas>=0.19->pmdarima) (2023.3.post1)\r\n",
      "Requirement already satisfied: tzdata>=2022.7 in /opt/conda/lib/python3.10/site-packages (from pandas>=0.19->pmdarima) (2023.4)\r\n",
      "Requirement already satisfied: threadpoolctl>=2.0.0 in /opt/conda/lib/python3.10/site-packages (from scikit-learn>=0.22->pmdarima) (3.2.0)\r\n",
      "Requirement already satisfied: patsy>=0.5.4 in /opt/conda/lib/python3.10/site-packages (from statsmodels>=0.13.2->pmdarima) (0.5.6)\r\n",
      "Requirement already satisfied: six in /opt/conda/lib/python3.10/site-packages (from patsy>=0.5.4->statsmodels>=0.13.2->pmdarima) (1.16.0)\r\n",
      "Downloading pmdarima-2.0.4-cp310-cp310-manylinux_2_17_x86_64.manylinux2014_x86_64.manylinux_2_28_x86_64.whl (2.1 MB)\r\n",
      "\u001b[2K   \u001b[90m━━━━━━━━━━━━━━━━━━━━━━━━━━━━━━━━━━━━━━━━\u001b[0m \u001b[32m2.1/2.1 MB\u001b[0m \u001b[31m27.7 MB/s\u001b[0m eta \u001b[36m0:00:00\u001b[0m\r\n",
      "\u001b[?25hInstalling collected packages: pmdarima\r\n",
      "Successfully installed pmdarima-2.0.4\r\n",
      "Requirement already satisfied: scipy in /opt/conda/lib/python3.10/site-packages (1.11.4)\r\n",
      "Requirement already satisfied: numpy<1.28.0,>=1.21.6 in /opt/conda/lib/python3.10/site-packages (from scipy) (1.26.4)\r\n"
     ]
    }
   ],
   "source": [
    "!pip install pmdarima\n",
    "!pip install scipy"
   ]
  },
  {
   "cell_type": "code",
   "execution_count": 2,
   "id": "c93c0c24",
   "metadata": {
    "execution": {
     "iopub.execute_input": "2024-05-23T11:09:59.953563Z",
     "iopub.status.busy": "2024-05-23T11:09:59.953159Z",
     "iopub.status.idle": "2024-05-23T11:10:04.646553Z",
     "shell.execute_reply": "2024-05-23T11:10:04.645512Z"
    },
    "id": "jLLH0sqfgDCR",
    "papermill": {
     "duration": 4.716512,
     "end_time": "2024-05-23T11:10:04.649684",
     "exception": false,
     "start_time": "2024-05-23T11:09:59.933172",
     "status": "completed"
    },
    "tags": []
   },
   "outputs": [],
   "source": [
    "import pandas as pd\n",
    "import numpy as np\n",
    "import matplotlib.pyplot as plt\n",
    "import seaborn as sb\n",
    "import statsmodels.tsa.stattools as sts\n",
    "import statsmodels.graphics.tsaplots as sgt\n",
    "from statsmodels.tsa.seasonal import seasonal_decompose\n",
    "import warnings\n",
    "warnings.filterwarnings('ignore')\n",
    "from statsmodels.tsa.arima.model import ARIMA\n",
    "from pmdarima import auto_arima\n",
    "from scipy.stats import chi2"
   ]
  },
  {
   "cell_type": "markdown",
   "id": "1db20a4e",
   "metadata": {
    "papermill": {
     "duration": 0.017587,
     "end_time": "2024-05-23T11:10:04.686797",
     "exception": false,
     "start_time": "2024-05-23T11:10:04.669210",
     "status": "completed"
    },
    "tags": []
   },
   "source": [
    "<div style=\"padding: 10px; margin: 0; color: DarkCyan; font-family: cursive, serif; font-size: 120%; text-align: left; border-radius: 15px 50px; overflow: hidden; font-weight: 500;\">Reading Data\n",
    "</div>"
   ]
  },
  {
   "cell_type": "code",
   "execution_count": 3,
   "id": "31ab278c",
   "metadata": {
    "execution": {
     "iopub.execute_input": "2024-05-23T11:10:04.724748Z",
     "iopub.status.busy": "2024-05-23T11:10:04.724148Z",
     "iopub.status.idle": "2024-05-23T11:10:04.758395Z",
     "shell.execute_reply": "2024-05-23T11:10:04.757300Z"
    },
    "id": "zJxR09mG48fa",
    "papermill": {
     "duration": 0.056456,
     "end_time": "2024-05-23T11:10:04.761190",
     "exception": false,
     "start_time": "2024-05-23T11:10:04.704734",
     "status": "completed"
    },
    "tags": []
   },
   "outputs": [],
   "source": [
    "data=pd.read_csv('/kaggle/input/time-series-file/2018.csv')"
   ]
  },
  {
   "cell_type": "markdown",
   "id": "c33096f6",
   "metadata": {
    "papermill": {
     "duration": 0.018269,
     "end_time": "2024-05-23T11:10:04.798247",
     "exception": false,
     "start_time": "2024-05-23T11:10:04.779978",
     "status": "completed"
    },
    "tags": []
   },
   "source": [
    "<div style=\"padding: 10px; margin: 0; color: DarkCyan; font-family: cursive, serif; font-size: 120%; text-align: left; border-radius: 15px 50px; overflow: hidden; font-weight: 500;\">Data Preprocessing\n",
    "</div>"
   ]
  },
  {
   "cell_type": "code",
   "execution_count": 4,
   "id": "fc7c3348",
   "metadata": {
    "execution": {
     "iopub.execute_input": "2024-05-23T11:10:04.836027Z",
     "iopub.status.busy": "2024-05-23T11:10:04.835592Z",
     "iopub.status.idle": "2024-05-23T11:10:04.884514Z",
     "shell.execute_reply": "2024-05-23T11:10:04.883643Z"
    },
    "id": "yHmi5nd25G0F",
    "papermill": {
     "duration": 0.070721,
     "end_time": "2024-05-23T11:10:04.886902",
     "exception": false,
     "start_time": "2024-05-23T11:10:04.816181",
     "status": "completed"
    },
    "tags": []
   },
   "outputs": [],
   "source": [
    "data=data.drop('date',axis=1).set_index(pd.to_datetime(data['date'],dayfirst=True))"
   ]
  },
  {
   "cell_type": "code",
   "execution_count": 5,
   "id": "6073ef1e",
   "metadata": {
    "execution": {
     "iopub.execute_input": "2024-05-23T11:10:04.925431Z",
     "iopub.status.busy": "2024-05-23T11:10:04.924473Z",
     "iopub.status.idle": "2024-05-23T11:10:04.929021Z",
     "shell.execute_reply": "2024-05-23T11:10:04.928266Z"
    },
    "id": "myHV-B8q5H3E",
    "papermill": {
     "duration": 0.026094,
     "end_time": "2024-05-23T11:10:04.931259",
     "exception": false,
     "start_time": "2024-05-23T11:10:04.905165",
     "status": "completed"
    },
    "tags": []
   },
   "outputs": [],
   "source": [
    "ftse_data=data['ftse']"
   ]
  },
  {
   "cell_type": "markdown",
   "id": "812b2372",
   "metadata": {
    "papermill": {
     "duration": 0.019167,
     "end_time": "2024-05-23T11:10:04.968773",
     "exception": false,
     "start_time": "2024-05-23T11:10:04.949606",
     "status": "completed"
    },
    "tags": []
   },
   "source": [
    "<div style=\"padding: 10px; margin: 0; color: DarkCyan; font-family: cursive, serif; font-size: 120%; text-align: left; border-radius: 15px 50px; overflow: hidden; font-weight: 500;\">Exploratory Data Analysis\n",
    "</div>"
   ]
  },
  {
   "cell_type": "code",
   "execution_count": 6,
   "id": "ec36a7c1",
   "metadata": {
    "execution": {
     "iopub.execute_input": "2024-05-23T11:10:05.007030Z",
     "iopub.status.busy": "2024-05-23T11:10:05.006262Z",
     "iopub.status.idle": "2024-05-23T11:10:05.483947Z",
     "shell.execute_reply": "2024-05-23T11:10:05.481808Z"
    },
    "id": "LHEBlw995ZLl",
    "outputId": "c0b9085d-5e6d-4c94-b16d-b09873d181c6",
    "papermill": {
     "duration": 0.501596,
     "end_time": "2024-05-23T11:10:05.488307",
     "exception": false,
     "start_time": "2024-05-23T11:10:04.986711",
     "status": "completed"
    },
    "tags": []
   },
   "outputs": [
    {
     "data": {
      "text/plain": [
       "Test Statistics                                                 -1.594282\n",
       "P value                                                          0.486465\n",
       "No of Lags Used                                                         6\n",
       "No of Rows Used                                                      6262\n",
       "Critical Values         {'1%': -3.4313947113763845, '5%': -2.862001669...\n",
       "Information Criteria                                         68396.517963\n",
       "dtype: object"
      ]
     },
     "execution_count": 6,
     "metadata": {},
     "output_type": "execute_result"
    }
   ],
   "source": [
    "addata=sts.adfuller(ftse_data)\n",
    "labels=['Test Statistics','P value','No of Lags Used','No of Rows Used','Critical Values','Information Criteria']\n",
    "pd.Series(index=labels,data=addata)"
   ]
  },
  {
   "cell_type": "code",
   "execution_count": 7,
   "id": "2f3e3d34",
   "metadata": {
    "execution": {
     "iopub.execute_input": "2024-05-23T11:10:05.568516Z",
     "iopub.status.busy": "2024-05-23T11:10:05.567694Z",
     "iopub.status.idle": "2024-05-23T11:10:06.055412Z",
     "shell.execute_reply": "2024-05-23T11:10:06.054222Z"
    },
    "id": "nLokG3w85p7d",
    "outputId": "faae7e5f-f3ec-41e3-cd2c-a6e5ce6976e3",
    "papermill": {
     "duration": 0.531275,
     "end_time": "2024-05-23T11:10:06.058444",
     "exception": false,
     "start_time": "2024-05-23T11:10:05.527169",
     "status": "completed"
    },
    "tags": []
   },
   "outputs": [
    {
     "data": {
      "text/plain": [
       "<Axes: xlabel='date'>"
      ]
     },
     "execution_count": 7,
     "metadata": {},
     "output_type": "execute_result"
    },
    {
     "data": {
      "image/png": "[encoded data removed]",
      "text/plain": [
       "<Figure size 640x480 with 1 Axes>"
      ]
     },
     "metadata": {},
     "output_type": "display_data"
    }
   ],
   "source": [
    "ftse_data.plot()"
   ]
  },
  {
   "cell_type": "markdown",
   "id": "b73b2446",
   "metadata": {
    "papermill": {
     "duration": 0.018844,
     "end_time": "2024-05-23T11:10:06.096307",
     "exception": false,
     "start_time": "2024-05-23T11:10:06.077463",
     "status": "completed"
    },
    "tags": []
   },
   "source": [
    "<div style=\"padding: 10px; margin: 0; color: DarkCyan; font-family: cursive, serif; font-size: 120%; text-align: left; border-radius: 15px 50px; overflow: hidden; font-weight: 500;\">EDA Using Returns\n",
    "</div>"
   ]
  },
  {
   "cell_type": "code",
   "execution_count": 8,
   "id": "9f12fa62",
   "metadata": {
    "execution": {
     "iopub.execute_input": "2024-05-23T11:10:06.136976Z",
     "iopub.status.busy": "2024-05-23T11:10:06.136099Z",
     "iopub.status.idle": "2024-05-23T11:10:06.145000Z",
     "shell.execute_reply": "2024-05-23T11:10:06.143682Z"
    },
    "id": "8arrG0sG5yNT",
    "papermill": {
     "duration": 0.032754,
     "end_time": "2024-05-23T11:10:06.147938",
     "exception": false,
     "start_time": "2024-05-23T11:10:06.115184",
     "status": "completed"
    },
    "tags": []
   },
   "outputs": [],
   "source": [
    "ftse_return=(ftse_data.pct_change(1)*100).iloc[1:]"
   ]
  },
  {
   "cell_type": "code",
   "execution_count": 9,
   "id": "a524a9a2",
   "metadata": {
    "execution": {
     "iopub.execute_input": "2024-05-23T11:10:06.188755Z",
     "iopub.status.busy": "2024-05-23T11:10:06.188304Z",
     "iopub.status.idle": "2024-05-23T11:10:06.618609Z",
     "shell.execute_reply": "2024-05-23T11:10:06.617043Z"
    },
    "id": "-JdisTip53bC",
    "outputId": "54e1024d-502c-46b0-a058-0ab38c4a03a5",
    "papermill": {
     "duration": 0.455856,
     "end_time": "2024-05-23T11:10:06.623501",
     "exception": false,
     "start_time": "2024-05-23T11:10:06.167645",
     "status": "completed"
    },
    "tags": []
   },
   "outputs": [
    {
     "data": {
      "text/plain": [
       "(-15.182022490939076,\n",
       " 6.178382600319177e-28,\n",
       " 34,\n",
       " 6233,\n",
       " {'1%': -3.4313995740622145,\n",
       "  '5%': -2.8620038184370746,\n",
       "  '10%': -2.567016887640913},\n",
       " 19014.128593790985)"
      ]
     },
     "execution_count": 9,
     "metadata": {},
     "output_type": "execute_result"
    }
   ],
   "source": [
    "sts.adfuller(ftse_return)"
   ]
  },
  {
   "cell_type": "code",
   "execution_count": 10,
   "id": "e7b6a60a",
   "metadata": {
    "execution": {
     "iopub.execute_input": "2024-05-23T11:10:06.708322Z",
     "iopub.status.busy": "2024-05-23T11:10:06.707389Z",
     "iopub.status.idle": "2024-05-23T11:10:07.188334Z",
     "shell.execute_reply": "2024-05-23T11:10:07.187064Z"
    },
    "id": "RBfk5c066EtP",
    "outputId": "9bb2bde6-1319-4843-f000-4913b7ec0139",
    "papermill": {
     "duration": 0.526486,
     "end_time": "2024-05-23T11:10:07.191049",
     "exception": false,
     "start_time": "2024-05-23T11:10:06.664563",
     "status": "completed"
    },
    "tags": []
   },
   "outputs": [
    {
     "data": {
      "text/plain": [
       "<Axes: xlabel='date'>"
      ]
     },
     "execution_count": 10,
     "metadata": {},
     "output_type": "execute_result"
    },
    {
     "data": {
      "image/png": "[encoded data removed]",
      "text/plain": [
       "<Figure size 640x480 with 1 Axes>"
      ]
     },
     "metadata": {},
     "output_type": "display_data"
    }
   ],
   "source": [
    "ftse_return.plot()"
   ]
  },
  {
   "cell_type": "markdown",
   "id": "7b27a859",
   "metadata": {
    "papermill": {
     "duration": 0.019749,
     "end_time": "2024-05-23T11:10:07.230953",
     "exception": false,
     "start_time": "2024-05-23T11:10:07.211204",
     "status": "completed"
    },
    "tags": []
   },
   "source": [
    "<div style=\"padding: 10px; margin: 0; color: DarkCyan; font-family: cursive, serif; font-size: 120%; text-align: left; border-radius: 15px 50px; overflow: hidden; font-weight: 500;\">Autocorrelation Plots for Finding The Correct Parameter For Model\n",
    "</div>"
   ]
  },
  {
   "cell_type": "code",
   "execution_count": 11,
   "id": "e63f748c",
   "metadata": {
    "execution": {
     "iopub.execute_input": "2024-05-23T11:10:07.272800Z",
     "iopub.status.busy": "2024-05-23T11:10:07.272407Z",
     "iopub.status.idle": "2024-05-23T11:10:07.713771Z",
     "shell.execute_reply": "2024-05-23T11:10:07.712829Z"
    },
    "id": "1KwtW8ZP6LcB",
    "outputId": "e778d451-1e20-42e5-afc8-856b1ad8bc3d",
    "papermill": {
     "duration": 0.465769,
     "end_time": "2024-05-23T11:10:07.716621",
     "exception": false,
     "start_time": "2024-05-23T11:10:07.250852",
     "status": "completed"
    },
    "tags": []
   },
   "outputs": [
    {
     "data": {
      "image/png": "[encoded data removed]",
      "text/plain": [
       "<Figure size 640x480 with 1 Axes>"
      ]
     },
     "metadata": {},
     "output_type": "display_data"
    }
   ],
   "source": [
    "sgt.plot_acf(ftse_return,zero=False,lags=20,color='g')\n",
    "plt.show()"
   ]
  },
  {
   "cell_type": "code",
   "execution_count": 12,
   "id": "b4b721c7",
   "metadata": {
    "execution": {
     "iopub.execute_input": "2024-05-23T11:10:07.759404Z",
     "iopub.status.busy": "2024-05-23T11:10:07.758713Z",
     "iopub.status.idle": "2024-05-23T11:10:08.100325Z",
     "shell.execute_reply": "2024-05-23T11:10:08.099043Z"
    },
    "id": "8kG4Ypsa6Sy3",
    "outputId": "1b329745-a41d-464d-9110-7be47c6d9807",
    "papermill": {
     "duration": 0.36619,
     "end_time": "2024-05-23T11:10:08.103211",
     "exception": false,
     "start_time": "2024-05-23T11:10:07.737021",
     "status": "completed"
    },
    "tags": []
   },
   "outputs": [
    {
     "data": {
      "image/png": "[encoded data removed]",
      "text/plain": [
       "<Figure size 640x480 with 1 Axes>"
      ]
     },
     "metadata": {},
     "output_type": "display_data"
    }
   ],
   "source": [
    "sgt.plot_pacf(ftse_return,zero=False,lags=20,color='g')\n",
    "plt.show()"
   ]
  },
  {
   "cell_type": "markdown",
   "id": "4c0fa928",
   "metadata": {
    "execution": {
     "iopub.execute_input": "2024-05-23T10:43:53.961912Z",
     "iopub.status.busy": "2024-05-23T10:43:53.961571Z",
     "iopub.status.idle": "2024-05-23T10:43:54.243741Z",
     "shell.execute_reply": "2024-05-23T10:43:54.242488Z",
     "shell.execute_reply.started": "2024-05-23T10:43:53.961885Z"
    },
    "id": "70-loun66mpm",
    "papermill": {
     "duration": 0.020489,
     "end_time": "2024-05-23T11:10:08.144796",
     "exception": false,
     "start_time": "2024-05-23T11:10:08.124307",
     "status": "completed"
    },
    "tags": []
   },
   "source": [
    "<div style=\"padding: 10px; margin: 0; color: DarkCyan; font-family: cursive, serif; font-size: 120%; text-align: left; border-radius: 15px 50px; overflow: hidden; font-weight: 500;\">Modelling and Comparing Models\n",
    "</div>\n"
   ]
  },
  {
   "cell_type": "markdown",
   "id": "9c0b0f99",
   "metadata": {
    "papermill": {
     "duration": 0.020663,
     "end_time": "2024-05-23T11:10:08.186393",
     "exception": false,
     "start_time": "2024-05-23T11:10:08.165730",
     "status": "completed"
    },
    "tags": []
   },
   "source": [
    "<font style=\"font-family:Georgia; font-size:120%;font-weight:bold;\">\n",
    "We Can Compare The Model By its Log Likelihood and Information Criteria</font>\n",
    "<div></div>\n",
    "<font style=\"font-family:Georgia; font-size:120%;font-weight:bold;\">\n",
    "Higher Log Likelihood</font>\n",
    "<div></div>\n",
    "<font style=\"font-family:Georgia; font-size:120%;font-weight:bold;\">\n",
    "Lower Information Criteria</font>\n",
    "<div></div>\n",
    "<font style=\"font-family:Georgia; font-size:120%;font-weight:bold;\">\n",
    "Less insignificant Coefficients are better models</font>"
   ]
  },
  {
   "cell_type": "code",
   "execution_count": 13,
   "id": "36c8c860",
   "metadata": {
    "execution": {
     "iopub.execute_input": "2024-05-23T11:10:08.230543Z",
     "iopub.status.busy": "2024-05-23T11:10:08.229901Z",
     "iopub.status.idle": "2024-05-23T11:10:08.235688Z",
     "shell.execute_reply": "2024-05-23T11:10:08.234571Z"
    },
    "id": "i2Wuq7yu7a13",
    "papermill": {
     "duration": 0.030763,
     "end_time": "2024-05-23T11:10:08.238084",
     "exception": false,
     "start_time": "2024-05-23T11:10:08.207321",
     "status": "completed"
    },
    "tags": []
   },
   "outputs": [],
   "source": [
    "def model_fitting(p,d,q):\n",
    "  model=ARIMA(ftse_return,order=(p,d,q))\n",
    "  return model.fit()"
   ]
  },
  {
   "cell_type": "code",
   "execution_count": 14,
   "id": "884003bc",
   "metadata": {
    "execution": {
     "iopub.execute_input": "2024-05-23T11:10:08.348013Z",
     "iopub.status.busy": "2024-05-23T11:10:08.347291Z",
     "iopub.status.idle": "2024-05-23T11:11:03.354460Z",
     "shell.execute_reply": "2024-05-23T11:11:03.353282Z"
    },
    "id": "ZtZfp9om665q",
    "outputId": "b78e5582-ef7b-40e8-8c7f-9665d9a60a8a",
    "papermill": {
     "duration": 55.099296,
     "end_time": "2024-05-23T11:11:03.358375",
     "exception": false,
     "start_time": "2024-05-23T11:10:08.259079",
     "status": "completed"
    },
    "tags": []
   },
   "outputs": [],
   "source": [
    "model_5_0_6=model_fitting(5,0,6)"
   ]
  },
  {
   "cell_type": "code",
   "execution_count": 15,
   "id": "dde28f3c",
   "metadata": {
    "execution": {
     "iopub.execute_input": "2024-05-23T11:11:03.423322Z",
     "iopub.status.busy": "2024-05-23T11:11:03.422373Z",
     "iopub.status.idle": "2024-05-23T11:11:03.430652Z",
     "shell.execute_reply": "2024-05-23T11:11:03.429753Z"
    },
    "id": "UpOa4nrJ7VNf",
    "papermill": {
     "duration": 0.04373,
     "end_time": "2024-05-23T11:11:03.433981",
     "exception": false,
     "start_time": "2024-05-23T11:11:03.390251",
     "status": "completed"
    },
    "tags": []
   },
   "outputs": [],
   "source": [
    "def summary(model):\n",
    "  print(model.summary())"
   ]
  },
  {
   "cell_type": "code",
   "execution_count": 16,
   "id": "7e10912a",
   "metadata": {
    "execution": {
     "iopub.execute_input": "2024-05-23T11:11:03.478381Z",
     "iopub.status.busy": "2024-05-23T11:11:03.477344Z",
     "iopub.status.idle": "2024-05-23T11:11:03.510927Z",
     "shell.execute_reply": "2024-05-23T11:11:03.509685Z"
    },
    "id": "NFYx0LEN8ACj",
    "outputId": "c7c73df7-5216-4414-a95f-c6911cf18fd6",
    "papermill": {
     "duration": 0.058571,
     "end_time": "2024-05-23T11:11:03.513637",
     "exception": false,
     "start_time": "2024-05-23T11:11:03.455066",
     "status": "completed"
    },
    "tags": []
   },
   "outputs": [
    {
     "name": "stdout",
     "output_type": "stream",
     "text": [
      "                               SARIMAX Results                                \n",
      "==============================================================================\n",
      "Dep. Variable:                   ftse   No. Observations:                 6268\n",
      "Model:                 ARIMA(5, 0, 6)   Log Likelihood               -9545.437\n",
      "Date:                Thu, 23 May 2024   AIC                          19116.874\n",
      "Time:                        11:11:03   BIC                          19204.536\n",
      "Sample:                             0   HQIC                         19147.249\n",
      "                               - 6268                                         \n",
      "Covariance Type:                  opg                                         \n",
      "==============================================================================\n",
      "                 coef    std err          z      P>|z|      [0.025      0.975]\n",
      "------------------------------------------------------------------------------\n",
      "const          0.0186      0.013      1.467      0.142      -0.006       0.043\n",
      "ar.L1         -0.2231      0.407     -0.548      0.583      -1.020       0.574\n",
      "ar.L2         -0.5097      0.085     -5.972      0.000      -0.677      -0.342\n",
      "ar.L3         -0.1174      0.243     -0.484      0.628      -0.593       0.358\n",
      "ar.L4          0.2825      0.085      3.330      0.001       0.116       0.449\n",
      "ar.L5          0.2547      0.138      1.848      0.065      -0.015       0.525\n",
      "ma.L1          0.2132      0.407      0.523      0.601      -0.585       1.012\n",
      "ma.L2          0.4571      0.086      5.312      0.000       0.288       0.626\n",
      "ma.L3          0.0314      0.224      0.140      0.888      -0.407       0.470\n",
      "ma.L4         -0.2933      0.068     -4.290      0.000      -0.427      -0.159\n",
      "ma.L5         -0.3323      0.135     -2.458      0.014      -0.597      -0.067\n",
      "ma.L6         -0.0138      0.038     -0.362      0.717      -0.089       0.061\n",
      "sigma2         1.2382      0.012    101.187      0.000       1.214       1.262\n",
      "===================================================================================\n",
      "Ljung-Box (L1) (Q):                   0.60   Jarque-Bera (JB):              8689.59\n",
      "Prob(Q):                              0.44   Prob(JB):                         0.00\n",
      "Heteroskedasticity (H):               0.87   Skew:                            -0.19\n",
      "Prob(H) (two-sided):                  0.00   Kurtosis:                         8.76\n",
      "===================================================================================\n",
      "\n",
      "Warnings:\n",
      "[1] Covariance matrix calculated using the outer product of gradients (complex-step).\n"
     ]
    }
   ],
   "source": [
    "summary(model_5_0_6)"
   ]
  },
  {
   "cell_type": "markdown",
   "id": "d93a5bb4",
   "metadata": {
    "execution": {
     "iopub.execute_input": "2024-05-23T11:02:39.840837Z",
     "iopub.status.busy": "2024-05-23T11:02:39.839667Z",
     "iopub.status.idle": "2024-05-23T11:02:39.845954Z",
     "shell.execute_reply": "2024-05-23T11:02:39.845044Z",
     "shell.execute_reply.started": "2024-05-23T11:02:39.840789Z"
    },
    "id": "LmZTOuzE8CMe",
    "papermill": {
     "duration": 0.021075,
     "end_time": "2024-05-23T11:11:03.555757",
     "exception": false,
     "start_time": "2024-05-23T11:11:03.534682",
     "status": "completed"
    },
    "tags": []
   },
   "source": [
    "<div style=\"padding: 10px; margin: 0; color: DarkCyan; font-family: cursive, serif; font-size: 120%; text-align: left; border-radius: 15px 50px; overflow: hidden; font-weight: 500;\">Log Likelihood Ratio Test (Used For Nested Model)\n",
    "</div>\n"
   ]
  },
  {
   "cell_type": "code",
   "execution_count": 17,
   "id": "eaf659ba",
   "metadata": {
    "execution": {
     "iopub.execute_input": "2024-05-23T11:11:03.600841Z",
     "iopub.status.busy": "2024-05-23T11:11:03.600179Z",
     "iopub.status.idle": "2024-05-23T11:11:03.605947Z",
     "shell.execute_reply": "2024-05-23T11:11:03.605025Z"
    },
    "id": "tEaXSzrh8TAd",
    "papermill": {
     "duration": 0.030738,
     "end_time": "2024-05-23T11:11:03.608392",
     "exception": false,
     "start_time": "2024-05-23T11:11:03.577654",
     "status": "completed"
    },
    "tags": []
   },
   "outputs": [],
   "source": [
    "def LLR(model1,model2,DF):\n",
    "  l1=model1.llf\n",
    "  l2=model2.llf\n",
    "  lh=(2*(l2-l1))\n",
    "  p=chi2.sf(lh,DF)\n",
    "  return p"
   ]
  },
  {
   "cell_type": "code",
   "execution_count": 18,
   "id": "b0d22a70",
   "metadata": {
    "execution": {
     "iopub.execute_input": "2024-05-23T11:11:03.655080Z",
     "iopub.status.busy": "2024-05-23T11:11:03.654401Z",
     "iopub.status.idle": "2024-05-23T11:11:49.078442Z",
     "shell.execute_reply": "2024-05-23T11:11:49.077110Z"
    },
    "id": "fXG4j0aL9amP",
    "outputId": "0deb03c6-ec80-48f9-cfd6-883ff8b00281",
    "papermill": {
     "duration": 45.469783,
     "end_time": "2024-05-23T11:11:49.100781",
     "exception": false,
     "start_time": "2024-05-23T11:11:03.630998",
     "status": "completed"
    },
    "tags": []
   },
   "outputs": [
    {
     "name": "stdout",
     "output_type": "stream",
     "text": [
      "                               SARIMAX Results                                \n",
      "==============================================================================\n",
      "Dep. Variable:                   ftse   No. Observations:                 6268\n",
      "Model:                 ARIMA(5, 0, 5)   Log Likelihood               -9545.445\n",
      "Date:                Thu, 23 May 2024   AIC                          19114.891\n",
      "Time:                        11:11:49   BIC                          19195.809\n",
      "Sample:                             0   HQIC                         19142.929\n",
      "                               - 6268                                         \n",
      "Covariance Type:                  opg                                         \n",
      "==============================================================================\n",
      "                 coef    std err          z      P>|z|      [0.025      0.975]\n",
      "------------------------------------------------------------------------------\n",
      "const          0.0188      0.012      1.530      0.126      -0.005       0.043\n",
      "ar.L1         -0.1555      0.107     -1.455      0.146      -0.365       0.054\n",
      "ar.L2         -0.4744      0.070     -6.731      0.000      -0.612      -0.336\n",
      "ar.L3         -0.0099      0.066     -0.149      0.882      -0.140       0.120\n",
      "ar.L4          0.3069      0.064      4.797      0.000       0.182       0.432\n",
      "ar.L5          0.3030      0.083      3.632      0.000       0.139       0.466\n",
      "ma.L1          0.1337      0.106      1.263      0.207      -0.074       0.341\n",
      "ma.L2          0.4235      0.070      6.060      0.000       0.286       0.560\n",
      "ma.L3         -0.0705      0.064     -1.103      0.270      -0.196       0.055\n",
      "ma.L4         -0.3038      0.062     -4.928      0.000      -0.425      -0.183\n",
      "ma.L5         -0.3738      0.080     -4.663      0.000      -0.531      -0.217\n",
      "sigma2         1.2312      0.012    101.940      0.000       1.208       1.255\n",
      "===================================================================================\n",
      "Ljung-Box (L1) (Q):                   0.03   Jarque-Bera (JB):              8682.04\n",
      "Prob(Q):                              0.86   Prob(JB):                         0.00\n",
      "Heteroskedasticity (H):               0.87   Skew:                            -0.21\n",
      "Prob(H) (two-sided):                  0.00   Kurtosis:                         8.75\n",
      "===================================================================================\n",
      "\n",
      "Warnings:\n",
      "[1] Covariance matrix calculated using the outer product of gradients (complex-step).\n"
     ]
    }
   ],
   "source": [
    "model_5_0_5=model_fitting(5,0,5)\n",
    "summary(model_5_0_5)"
   ]
  },
  {
   "cell_type": "code",
   "execution_count": 19,
   "id": "3660a2d2",
   "metadata": {
    "execution": {
     "iopub.execute_input": "2024-05-23T11:11:49.145306Z",
     "iopub.status.busy": "2024-05-23T11:11:49.144906Z",
     "iopub.status.idle": "2024-05-23T11:11:49.152586Z",
     "shell.execute_reply": "2024-05-23T11:11:49.151209Z"
    },
    "id": "ept5GGNM9pV2",
    "outputId": "36e7618a-17a7-4c09-a0fe-5f48d79da658",
    "papermill": {
     "duration": 0.033212,
     "end_time": "2024-05-23T11:11:49.155167",
     "exception": false,
     "start_time": "2024-05-23T11:11:49.121955",
     "status": "completed"
    },
    "tags": []
   },
   "outputs": [
    {
     "data": {
      "text/plain": [
       "0.8971046508377598"
      ]
     },
     "execution_count": 19,
     "metadata": {},
     "output_type": "execute_result"
    }
   ],
   "source": [
    "LLR(model_5_0_5,model_5_0_6,1)"
   ]
  },
  {
   "cell_type": "code",
   "execution_count": 20,
   "id": "12677549",
   "metadata": {
    "execution": {
     "iopub.execute_input": "2024-05-23T11:11:49.200570Z",
     "iopub.status.busy": "2024-05-23T11:11:49.200186Z",
     "iopub.status.idle": "2024-05-23T11:12:28.286117Z",
     "shell.execute_reply": "2024-05-23T11:12:28.284929Z"
    },
    "id": "KEBbeEq1-BD6",
    "outputId": "e172eafd-54ab-4115-f4be-48e737ebfad7",
    "papermill": {
     "duration": 39.132487,
     "end_time": "2024-05-23T11:12:28.309637",
     "exception": false,
     "start_time": "2024-05-23T11:11:49.177150",
     "status": "completed"
    },
    "tags": []
   },
   "outputs": [
    {
     "name": "stdout",
     "output_type": "stream",
     "text": [
      "                               SARIMAX Results                                \n",
      "==============================================================================\n",
      "Dep. Variable:                   ftse   No. Observations:                 6268\n",
      "Model:                 ARIMA(4, 0, 5)   Log Likelihood               -9545.625\n",
      "Date:                Thu, 23 May 2024   AIC                          19113.251\n",
      "Time:                        11:12:28   BIC                          19187.426\n",
      "Sample:                             0   HQIC                         19138.953\n",
      "                               - 6268                                         \n",
      "Covariance Type:                  opg                                         \n",
      "==============================================================================\n",
      "                 coef    std err          z      P>|z|      [0.025      0.975]\n",
      "------------------------------------------------------------------------------\n",
      "const          0.0197      0.013      1.558      0.119      -0.005       0.044\n",
      "ar.L1          0.0952      0.078      1.222      0.222      -0.057       0.248\n",
      "ar.L2         -0.5712      0.078     -7.348      0.000      -0.724      -0.419\n",
      "ar.L3         -0.1195      0.070     -1.697      0.090      -0.258       0.019\n",
      "ar.L4          0.2590      0.075      3.468      0.001       0.113       0.405\n",
      "ma.L1         -0.1147      0.078     -1.474      0.140      -0.267       0.038\n",
      "ma.L2          0.5274      0.079      6.661      0.000       0.372       0.683\n",
      "ma.L3          0.0433      0.069      0.625      0.532      -0.092       0.179\n",
      "ma.L4         -0.2539      0.075     -3.404      0.001      -0.400      -0.108\n",
      "ma.L5         -0.0914      0.009    -10.706      0.000      -0.108      -0.075\n",
      "sigma2         1.2298      0.012    104.084      0.000       1.207       1.253\n",
      "===================================================================================\n",
      "Ljung-Box (L1) (Q):                   0.00   Jarque-Bera (JB):              8754.67\n",
      "Prob(Q):                              0.99   Prob(JB):                         0.00\n",
      "Heteroskedasticity (H):               0.87   Skew:                            -0.19\n",
      "Prob(H) (two-sided):                  0.00   Kurtosis:                         8.78\n",
      "===================================================================================\n",
      "\n",
      "Warnings:\n",
      "[1] Covariance matrix calculated using the outer product of gradients (complex-step).\n"
     ]
    }
   ],
   "source": [
    "model_4_0_5=model_fitting(4,0,5)\n",
    "summary(model_4_0_5)"
   ]
  },
  {
   "cell_type": "code",
   "execution_count": 21,
   "id": "d4bfd5ed",
   "metadata": {
    "execution": {
     "iopub.execute_input": "2024-05-23T11:12:28.355338Z",
     "iopub.status.busy": "2024-05-23T11:12:28.354133Z",
     "iopub.status.idle": "2024-05-23T11:13:02.703294Z",
     "shell.execute_reply": "2024-05-23T11:13:02.702008Z"
    },
    "id": "_vA7Donz-kkP",
    "outputId": "95f936dc-ab9c-4a6b-e3dc-3be6896dbc01",
    "papermill": {
     "duration": 34.395416,
     "end_time": "2024-05-23T11:13:02.726492",
     "exception": false,
     "start_time": "2024-05-23T11:12:28.331076",
     "status": "completed"
    },
    "tags": []
   },
   "outputs": [
    {
     "name": "stdout",
     "output_type": "stream",
     "text": [
      "                               SARIMAX Results                                \n",
      "==============================================================================\n",
      "Dep. Variable:                   ftse   No. Observations:                 6268\n",
      "Model:                 ARIMA(5, 0, 4)   Log Likelihood               -9546.281\n",
      "Date:                Thu, 23 May 2024   AIC                          19114.563\n",
      "Time:                        11:13:02   BIC                          19188.738\n",
      "Sample:                             0   HQIC                         19140.265\n",
      "                               - 6268                                         \n",
      "Covariance Type:                  opg                                         \n",
      "==============================================================================\n",
      "                 coef    std err          z      P>|z|      [0.025      0.975]\n",
      "------------------------------------------------------------------------------\n",
      "const          0.0186      0.013      1.470      0.142      -0.006       0.043\n",
      "ar.L1          0.1828      0.081      2.262      0.024       0.024       0.341\n",
      "ar.L2         -0.5749      0.082     -7.030      0.000      -0.735      -0.415\n",
      "ar.L3         -0.1255      0.075     -1.665      0.096      -0.273       0.022\n",
      "ar.L4          0.3012      0.077      3.935      0.000       0.151       0.451\n",
      "ar.L5         -0.0865      0.009    -10.064      0.000      -0.103      -0.070\n",
      "ma.L1         -0.2043      0.081     -2.514      0.012      -0.364      -0.045\n",
      "ma.L2          0.5339      0.084      6.329      0.000       0.369       0.699\n",
      "ma.L3          0.0528      0.075      0.704      0.481      -0.094       0.200\n",
      "ma.L4         -0.2968      0.077     -3.837      0.000      -0.448      -0.145\n",
      "sigma2         1.2322      0.012    104.137      0.000       1.209       1.255\n",
      "===================================================================================\n",
      "Ljung-Box (L1) (Q):                   0.02   Jarque-Bera (JB):              8758.36\n",
      "Prob(Q):                              0.90   Prob(JB):                         0.00\n",
      "Heteroskedasticity (H):               0.87   Skew:                            -0.19\n",
      "Prob(H) (two-sided):                  0.00   Kurtosis:                         8.78\n",
      "===================================================================================\n",
      "\n",
      "Warnings:\n",
      "[1] Covariance matrix calculated using the outer product of gradients (complex-step).\n"
     ]
    }
   ],
   "source": [
    "model_5_0_4=model_fitting(5,0,4)\n",
    "summary(model_5_0_4)"
   ]
  },
  {
   "cell_type": "code",
   "execution_count": 22,
   "id": "e51b9603",
   "metadata": {
    "execution": {
     "iopub.execute_input": "2024-05-23T11:13:02.772745Z",
     "iopub.status.busy": "2024-05-23T11:13:02.771651Z",
     "iopub.status.idle": "2024-05-23T11:13:17.916566Z",
     "shell.execute_reply": "2024-05-23T11:13:17.915386Z"
    },
    "id": "hc3wdNEO-u7y",
    "outputId": "9d96ef31-30f5-4bcf-8d8f-a107726287dc",
    "papermill": {
     "duration": 15.171135,
     "end_time": "2024-05-23T11:13:17.919444",
     "exception": false,
     "start_time": "2024-05-23T11:13:02.748309",
     "status": "completed"
    },
    "tags": []
   },
   "outputs": [
    {
     "name": "stdout",
     "output_type": "stream",
     "text": [
      "                               SARIMAX Results                                \n",
      "==============================================================================\n",
      "Dep. Variable:                   ftse   No. Observations:                 6268\n",
      "Model:                 ARIMA(4, 0, 4)   Log Likelihood               -9552.764\n",
      "Date:                Thu, 23 May 2024   AIC                          19125.529\n",
      "Time:                        11:13:17   BIC                          19192.961\n",
      "Sample:                             0   HQIC                         19148.894\n",
      "                               - 6268                                         \n",
      "Covariance Type:                  opg                                         \n",
      "==============================================================================\n",
      "                 coef    std err          z      P>|z|      [0.025      0.975]\n",
      "------------------------------------------------------------------------------\n",
      "const          0.0190      0.012      1.557      0.120      -0.005       0.043\n",
      "ar.L1         -0.2280      0.161     -1.415      0.157      -0.544       0.088\n",
      "ar.L2          0.0797      0.085      0.941      0.347      -0.086       0.246\n",
      "ar.L3          0.3481      0.062      5.618      0.000       0.227       0.469\n",
      "ar.L4          0.2824      0.087      3.232      0.001       0.111       0.454\n",
      "ma.L1          0.2082      0.163      1.280      0.200      -0.111       0.527\n",
      "ma.L2         -0.1357      0.083     -1.638      0.102      -0.298       0.027\n",
      "ma.L3         -0.4275      0.063     -6.756      0.000      -0.551      -0.303\n",
      "ma.L4         -0.2480      0.100     -2.480      0.013      -0.444      -0.052\n",
      "sigma2         1.2339      0.012    104.176      0.000       1.211       1.257\n",
      "===================================================================================\n",
      "Ljung-Box (L1) (Q):                   0.00   Jarque-Bera (JB):              9003.54\n",
      "Prob(Q):                              0.96   Prob(JB):                         0.00\n",
      "Heteroskedasticity (H):               0.86   Skew:                            -0.21\n",
      "Prob(H) (two-sided):                  0.00   Kurtosis:                         8.86\n",
      "===================================================================================\n",
      "\n",
      "Warnings:\n",
      "[1] Covariance matrix calculated using the outer product of gradients (complex-step).\n"
     ]
    }
   ],
   "source": [
    "model_4_0_4=model_fitting(4,0,4)\n",
    "summary(model_4_0_4)"
   ]
  },
  {
   "cell_type": "code",
   "execution_count": 23,
   "id": "bcf61bef",
   "metadata": {
    "execution": {
     "iopub.execute_input": "2024-05-23T11:13:17.965642Z",
     "iopub.status.busy": "2024-05-23T11:13:17.964978Z",
     "iopub.status.idle": "2024-05-23T11:13:17.972698Z",
     "shell.execute_reply": "2024-05-23T11:13:17.971444Z"
    },
    "id": "J8JyGTzA-x3Y",
    "outputId": "169dbd46-5399-408c-c1d6-007ceb6990ac",
    "papermill": {
     "duration": 0.033792,
     "end_time": "2024-05-23T11:13:17.975091",
     "exception": false,
     "start_time": "2024-05-23T11:13:17.941299",
     "status": "completed"
    },
    "tags": []
   },
   "outputs": [
    {
     "data": {
      "text/plain": [
       "0.5486016701461828"
      ]
     },
     "execution_count": 23,
     "metadata": {},
     "output_type": "execute_result"
    }
   ],
   "source": [
    "LLR(model_4_0_5,model_5_0_5,1)"
   ]
  },
  {
   "cell_type": "code",
   "execution_count": 24,
   "id": "b89cfed8",
   "metadata": {
    "execution": {
     "iopub.execute_input": "2024-05-23T11:13:18.020894Z",
     "iopub.status.busy": "2024-05-23T11:13:18.020461Z",
     "iopub.status.idle": "2024-05-23T11:13:18.027437Z",
     "shell.execute_reply": "2024-05-23T11:13:18.026409Z"
    },
    "id": "IUwhgMjP_BBQ",
    "outputId": "9f6282a8-f7a5-4c53-d6de-0c1fb7c052a3",
    "papermill": {
     "duration": 0.032666,
     "end_time": "2024-05-23T11:13:18.029846",
     "exception": false,
     "start_time": "2024-05-23T11:13:17.997180",
     "status": "completed"
    },
    "tags": []
   },
   "outputs": [
    {
     "data": {
      "text/plain": [
       "0.19600298807878358"
      ]
     },
     "execution_count": 24,
     "metadata": {},
     "output_type": "execute_result"
    }
   ],
   "source": [
    "LLR(model_5_0_4,model_5_0_5,1)"
   ]
  },
  {
   "cell_type": "code",
   "execution_count": 25,
   "id": "d0d88ec4",
   "metadata": {
    "execution": {
     "iopub.execute_input": "2024-05-23T11:13:18.075911Z",
     "iopub.status.busy": "2024-05-23T11:13:18.075465Z",
     "iopub.status.idle": "2024-05-23T11:13:18.081300Z",
     "shell.execute_reply": "2024-05-23T11:13:18.080338Z"
    },
    "id": "kwGTTzHxAxXu",
    "outputId": "54b4a337-2d87-49e1-f94f-3dcd50229f74",
    "papermill": {
     "duration": 0.031797,
     "end_time": "2024-05-23T11:13:18.083905",
     "exception": false,
     "start_time": "2024-05-23T11:13:18.052108",
     "status": "completed"
    },
    "tags": []
   },
   "outputs": [
    {
     "name": "stdout",
     "output_type": "stream",
     "text": [
      "-9546.28135918766\n",
      "-9545.625318608261\n"
     ]
    }
   ],
   "source": [
    "print(model_5_0_4.llf)\n",
    "print(model_4_0_5.llf)\n"
   ]
  },
  {
   "cell_type": "code",
   "execution_count": 26,
   "id": "34c45bf9",
   "metadata": {
    "execution": {
     "iopub.execute_input": "2024-05-23T11:13:18.131614Z",
     "iopub.status.busy": "2024-05-23T11:13:18.130313Z",
     "iopub.status.idle": "2024-05-23T11:13:49.957472Z",
     "shell.execute_reply": "2024-05-23T11:13:49.956276Z"
    },
    "id": "HYcpiOYv_Jd8",
    "outputId": "247cdd33-87e8-4317-9860-8a76c51e4f4c",
    "papermill": {
     "duration": 31.873113,
     "end_time": "2024-05-23T11:13:49.979358",
     "exception": false,
     "start_time": "2024-05-23T11:13:18.106245",
     "status": "completed"
    },
    "tags": []
   },
   "outputs": [
    {
     "name": "stdout",
     "output_type": "stream",
     "text": [
      "                               SARIMAX Results                                \n",
      "==============================================================================\n",
      "Dep. Variable:                   ftse   No. Observations:                 6268\n",
      "Model:                 ARIMA(3, 0, 4)   Log Likelihood               -9554.680\n",
      "Date:                Thu, 23 May 2024   AIC                          19127.359\n",
      "Time:                        11:13:49   BIC                          19188.048\n",
      "Sample:                             0   HQIC                         19148.388\n",
      "                               - 6268                                         \n",
      "Covariance Type:                  opg                                         \n",
      "==============================================================================\n",
      "                 coef    std err          z      P>|z|      [0.025      0.975]\n",
      "------------------------------------------------------------------------------\n",
      "const          0.0190      0.012      1.583      0.113      -0.005       0.043\n",
      "ar.L1          0.2328      0.097      2.411      0.016       0.044       0.422\n",
      "ar.L2          0.1400      0.079      1.768      0.077      -0.015       0.295\n",
      "ar.L3          0.4108      0.073      5.660      0.000       0.269       0.553\n",
      "ma.L1         -0.2517      0.098     -2.582      0.010      -0.443      -0.061\n",
      "ma.L2         -0.1896      0.079     -2.398      0.016      -0.345      -0.035\n",
      "ma.L3         -0.4645      0.074     -6.246      0.000      -0.610      -0.319\n",
      "ma.L4          0.0653      0.012      5.443      0.000       0.042       0.089\n",
      "sigma2         1.2347      0.012    104.244      0.000       1.211       1.258\n",
      "===================================================================================\n",
      "Ljung-Box (L1) (Q):                   0.00   Jarque-Bera (JB):              9079.98\n",
      "Prob(Q):                              0.97   Prob(JB):                         0.00\n",
      "Heteroskedasticity (H):               0.86   Skew:                            -0.22\n",
      "Prob(H) (two-sided):                  0.00   Kurtosis:                         8.88\n",
      "===================================================================================\n",
      "\n",
      "Warnings:\n",
      "[1] Covariance matrix calculated using the outer product of gradients (complex-step).\n"
     ]
    }
   ],
   "source": [
    "model_3_0_4=model_fitting(3,0,4)\n",
    "summary(model_3_0_4)"
   ]
  },
  {
   "cell_type": "code",
   "execution_count": 27,
   "id": "453ae06f",
   "metadata": {
    "execution": {
     "iopub.execute_input": "2024-05-23T11:13:50.026845Z",
     "iopub.status.busy": "2024-05-23T11:13:50.025954Z",
     "iopub.status.idle": "2024-05-23T11:14:21.803286Z",
     "shell.execute_reply": "2024-05-23T11:14:21.801737Z"
    },
    "id": "Zm0_aEjXAbxl",
    "outputId": "65b56602-84ad-4f7f-ca22-3de809112828",
    "papermill": {
     "duration": 31.826752,
     "end_time": "2024-05-23T11:14:21.828776",
     "exception": false,
     "start_time": "2024-05-23T11:13:50.002024",
     "status": "completed"
    },
    "tags": []
   },
   "outputs": [
    {
     "name": "stdout",
     "output_type": "stream",
     "text": [
      "                               SARIMAX Results                                \n",
      "==============================================================================\n",
      "Dep. Variable:                   ftse   No. Observations:                 6268\n",
      "Model:                 ARIMA(4, 0, 3)   Log Likelihood               -9554.194\n",
      "Date:                Thu, 23 May 2024   AIC                          19126.387\n",
      "Time:                        11:14:21   BIC                          19187.076\n",
      "Sample:                             0   HQIC                         19147.416\n",
      "                               - 6268                                         \n",
      "Covariance Type:                  opg                                         \n",
      "==============================================================================\n",
      "                 coef    std err          z      P>|z|      [0.025      0.975]\n",
      "------------------------------------------------------------------------------\n",
      "const          0.0191      0.012      1.584      0.113      -0.005       0.043\n",
      "ar.L1          0.1416      0.092      1.543      0.123      -0.038       0.321\n",
      "ar.L2          0.1817      0.073      2.475      0.013       0.038       0.326\n",
      "ar.L3          0.3663      0.072      5.073      0.000       0.225       0.508\n",
      "ar.L4          0.0645      0.011      5.795      0.000       0.043       0.086\n",
      "ma.L1         -0.1614      0.093     -1.738      0.082      -0.343       0.021\n",
      "ma.L2         -0.2320      0.073     -3.161      0.002      -0.376      -0.088\n",
      "ma.L3         -0.4251      0.074     -5.708      0.000      -0.571      -0.279\n",
      "sigma2         1.2345      0.012    104.647      0.000       1.211       1.258\n",
      "===================================================================================\n",
      "Ljung-Box (L1) (Q):                   0.00   Jarque-Bera (JB):              9007.86\n",
      "Prob(Q):                              0.97   Prob(JB):                         0.00\n",
      "Heteroskedasticity (H):               0.86   Skew:                            -0.22\n",
      "Prob(H) (two-sided):                  0.00   Kurtosis:                         8.86\n",
      "===================================================================================\n",
      "\n",
      "Warnings:\n",
      "[1] Covariance matrix calculated using the outer product of gradients (complex-step).\n"
     ]
    }
   ],
   "source": [
    "model_4_0_3=model_fitting(4,0,3)\n",
    "summary(model_4_0_3)"
   ]
  },
  {
   "cell_type": "code",
   "execution_count": 28,
   "id": "1b51b93a",
   "metadata": {
    "execution": {
     "iopub.execute_input": "2024-05-23T11:14:21.876080Z",
     "iopub.status.busy": "2024-05-23T11:14:21.875581Z",
     "iopub.status.idle": "2024-05-23T11:14:40.443913Z",
     "shell.execute_reply": "2024-05-23T11:14:40.442644Z"
    },
    "id": "oWHVXVqBAgkX",
    "outputId": "944abcf3-b7e4-40ee-d25c-aaec1a4c2eee",
    "papermill": {
     "duration": 18.595199,
     "end_time": "2024-05-23T11:14:40.446579",
     "exception": false,
     "start_time": "2024-05-23T11:14:21.851380",
     "status": "completed"
    },
    "tags": []
   },
   "outputs": [
    {
     "name": "stdout",
     "output_type": "stream",
     "text": [
      "                               SARIMAX Results                                \n",
      "==============================================================================\n",
      "Dep. Variable:                   ftse   No. Observations:                 6268\n",
      "Model:                 ARIMA(3, 0, 3)   Log Likelihood               -9556.518\n",
      "Date:                Thu, 23 May 2024   AIC                          19129.036\n",
      "Time:                        11:14:40   BIC                          19182.982\n",
      "Sample:                             0   HQIC                         19147.728\n",
      "                               - 6268                                         \n",
      "Covariance Type:                  opg                                         \n",
      "==============================================================================\n",
      "                 coef    std err          z      P>|z|      [0.025      0.975]\n",
      "------------------------------------------------------------------------------\n",
      "const          0.0190      0.013      1.518      0.129      -0.006       0.044\n",
      "ar.L1         -0.1369      0.069     -1.975      0.048      -0.273      -0.001\n",
      "ar.L2         -0.1867      0.056     -3.351      0.001      -0.296      -0.078\n",
      "ar.L3          0.5023      0.059      8.460      0.000       0.386       0.619\n",
      "ma.L1          0.1224      0.066      1.856      0.063      -0.007       0.252\n",
      "ma.L2          0.1254      0.054      2.315      0.021       0.019       0.232\n",
      "ma.L3         -0.5800      0.056    -10.446      0.000      -0.689      -0.471\n",
      "sigma2         1.2354      0.012    105.070      0.000       1.212       1.258\n",
      "===================================================================================\n",
      "Ljung-Box (L1) (Q):                   0.20   Jarque-Bera (JB):              9275.13\n",
      "Prob(Q):                              0.66   Prob(JB):                         0.00\n",
      "Heteroskedasticity (H):               0.86   Skew:                            -0.18\n",
      "Prob(H) (two-sided):                  0.00   Kurtosis:                         8.95\n",
      "===================================================================================\n",
      "\n",
      "Warnings:\n",
      "[1] Covariance matrix calculated using the outer product of gradients (complex-step).\n"
     ]
    }
   ],
   "source": [
    "model_3_0_3=model_fitting(3,0,3)\n",
    "summary(model_3_0_3)"
   ]
  },
  {
   "cell_type": "code",
   "execution_count": 29,
   "id": "ef5d49f6",
   "metadata": {
    "execution": {
     "iopub.execute_input": "2024-05-23T11:14:40.497976Z",
     "iopub.status.busy": "2024-05-23T11:14:40.496873Z",
     "iopub.status.idle": "2024-05-23T11:14:40.505517Z",
     "shell.execute_reply": "2024-05-23T11:14:40.504138Z"
    },
    "id": "IeOxv_WFAnbR",
    "outputId": "75a6dbb2-6f6f-4ae3-ec98-fe1c193a9f4d",
    "papermill": {
     "duration": 0.038361,
     "end_time": "2024-05-23T11:14:40.508153",
     "exception": false,
     "start_time": "2024-05-23T11:14:40.469792",
     "status": "completed"
    },
    "tags": []
   },
   "outputs": [
    {
     "data": {
      "text/plain": [
       "0.00015769762857079529"
      ]
     },
     "execution_count": 29,
     "metadata": {},
     "output_type": "execute_result"
    }
   ],
   "source": [
    "LLR(model_4_0_4,model_4_0_5,1)"
   ]
  },
  {
   "cell_type": "code",
   "execution_count": 30,
   "id": "f58933ab",
   "metadata": {
    "execution": {
     "iopub.execute_input": "2024-05-23T11:14:40.557157Z",
     "iopub.status.busy": "2024-05-23T11:14:40.556689Z",
     "iopub.status.idle": "2024-05-23T11:14:40.565075Z",
     "shell.execute_reply": "2024-05-23T11:14:40.563766Z"
    },
    "id": "GDl1dGlXBShZ",
    "outputId": "8fde584c-f48d-4760-aa9c-be2345b24c3a",
    "papermill": {
     "duration": 0.035733,
     "end_time": "2024-05-23T11:14:40.567966",
     "exception": false,
     "start_time": "2024-05-23T11:14:40.532233",
     "status": "completed"
    },
    "tags": []
   },
   "outputs": [
    {
     "data": {
      "text/plain": [
       "0.00019002019701458244"
      ]
     },
     "execution_count": 30,
     "metadata": {},
     "output_type": "execute_result"
    }
   ],
   "source": [
    "LLR(model_4_0_3,model_4_0_5,2)"
   ]
  },
  {
   "cell_type": "markdown",
   "id": "c72132aa",
   "metadata": {
    "papermill": {
     "duration": 0.024195,
     "end_time": "2024-05-23T11:14:40.617076",
     "exception": false,
     "start_time": "2024-05-23T11:14:40.592881",
     "status": "completed"
    },
    "tags": []
   },
   "source": [
    "<font style=\"font-family:Georgia; font-family: cursive, serif;font-size:150%;font-weight:bold;color:DarkOliveGreen;\">Evaluating The Residuals Of Chosen Model</font>"
   ]
  },
  {
   "cell_type": "code",
   "execution_count": 31,
   "id": "3bd48589",
   "metadata": {
    "execution": {
     "iopub.execute_input": "2024-05-23T11:14:40.668853Z",
     "iopub.status.busy": "2024-05-23T11:14:40.668405Z",
     "iopub.status.idle": "2024-05-23T11:14:40.673860Z",
     "shell.execute_reply": "2024-05-23T11:14:40.672549Z"
    },
    "id": "Cb24kiaKBdDm",
    "papermill": {
     "duration": 0.034114,
     "end_time": "2024-05-23T11:14:40.676363",
     "exception": false,
     "start_time": "2024-05-23T11:14:40.642249",
     "status": "completed"
    },
    "tags": []
   },
   "outputs": [],
   "source": [
    "model405_residual=model_4_0_5.resid"
   ]
  },
  {
   "cell_type": "markdown",
   "id": "c9ac2eb7",
   "metadata": {
    "papermill": {
     "duration": 0.025643,
     "end_time": "2024-05-23T11:14:40.725416",
     "exception": false,
     "start_time": "2024-05-23T11:14:40.699773",
     "status": "completed"
    },
    "tags": []
   },
   "source": [
    "<font style=\"font-family:Gabriola; font-size:200%;font-weight:bold;color:#AB63FA;\">Test For Stationarity</font><br>"
   ]
  },
  {
   "cell_type": "code",
   "execution_count": 32,
   "id": "7df0bfc1",
   "metadata": {
    "execution": {
     "iopub.execute_input": "2024-05-23T11:14:40.774928Z",
     "iopub.status.busy": "2024-05-23T11:14:40.774125Z",
     "iopub.status.idle": "2024-05-23T11:14:41.259053Z",
     "shell.execute_reply": "2024-05-23T11:14:41.258058Z"
    },
    "id": "h-sth-3MBj4n",
    "outputId": "18446c6d-b33d-49f2-82ef-98f0c4386fa5",
    "papermill": {
     "duration": 0.512668,
     "end_time": "2024-05-23T11:14:41.261372",
     "exception": false,
     "start_time": "2024-05-23T11:14:40.748704",
     "status": "completed"
    },
    "tags": []
   },
   "outputs": [
    {
     "data": {
      "text/plain": [
       "<Axes: xlabel='date'>"
      ]
     },
     "execution_count": 32,
     "metadata": {},
     "output_type": "execute_result"
    },
    {
     "data": {
      "image/png": "[encoded data removed]",
      "text/plain": [
       "<Figure size 640x480 with 1 Axes>"
      ]
     },
     "metadata": {},
     "output_type": "display_data"
    }
   ],
   "source": [
    "model405_residual.plot()"
   ]
  },
  {
   "cell_type": "code",
   "execution_count": 33,
   "id": "6bde93c6",
   "metadata": {
    "execution": {
     "iopub.execute_input": "2024-05-23T11:14:41.312995Z",
     "iopub.status.busy": "2024-05-23T11:14:41.312169Z",
     "iopub.status.idle": "2024-05-23T11:14:41.737350Z",
     "shell.execute_reply": "2024-05-23T11:14:41.735714Z"
    },
    "id": "0RG4yYjCBvcG",
    "outputId": "299d3716-689b-4c23-aa39-31c6e686f066",
    "papermill": {
     "duration": 0.456311,
     "end_time": "2024-05-23T11:14:41.741976",
     "exception": false,
     "start_time": "2024-05-23T11:14:41.285665",
     "status": "completed"
    },
    "tags": []
   },
   "outputs": [
    {
     "data": {
      "text/plain": [
       "(-79.17043353369955,\n",
       " 0.0,\n",
       " 0,\n",
       " 6267,\n",
       " {'1%': -3.4313938775326336,\n",
       "  '5%': -2.862001301519361,\n",
       "  '10%': -2.5670155478252497},\n",
       " 19003.03877079333)"
      ]
     },
     "execution_count": 33,
     "metadata": {},
     "output_type": "execute_result"
    }
   ],
   "source": [
    "sts.adfuller(model405_residual)"
   ]
  },
  {
   "cell_type": "markdown",
   "id": "8bf35996",
   "metadata": {
    "papermill": {
     "duration": 0.053241,
     "end_time": "2024-05-23T11:14:41.848974",
     "exception": false,
     "start_time": "2024-05-23T11:14:41.795733",
     "status": "completed"
    },
    "tags": []
   },
   "source": [
    "<font style=\"font-family:Gabriola; font-size:200%;font-weight:bold;color:#AB63FA;\">Evaluating The Error Rate</font><br>"
   ]
  },
  {
   "cell_type": "code",
   "execution_count": 34,
   "id": "99a180f7",
   "metadata": {
    "execution": {
     "iopub.execute_input": "2024-05-23T11:14:41.900486Z",
     "iopub.status.busy": "2024-05-23T11:14:41.900046Z",
     "iopub.status.idle": "2024-05-23T11:14:41.907663Z",
     "shell.execute_reply": "2024-05-23T11:14:41.906435Z"
    },
    "id": "JVBKDGIYB64r",
    "outputId": "09e554ff-a994-4d75-a312-a83d85a85351",
    "papermill": {
     "duration": 0.036292,
     "end_time": "2024-05-23T11:14:41.910181",
     "exception": false,
     "start_time": "2024-05-23T11:14:41.873889",
     "status": "completed"
    },
    "tags": []
   },
   "outputs": [
    {
     "data": {
      "text/plain": [
       "1.109657962973136"
      ]
     },
     "execution_count": 34,
     "metadata": {},
     "output_type": "execute_result"
    }
   ],
   "source": [
    "np.sqrt(model405_residual.var())"
   ]
  },
  {
   "cell_type": "code",
   "execution_count": 35,
   "id": "13af9989",
   "metadata": {
    "execution": {
     "iopub.execute_input": "2024-05-23T11:14:41.961791Z",
     "iopub.status.busy": "2024-05-23T11:14:41.961321Z",
     "iopub.status.idle": "2024-05-23T11:14:41.967672Z",
     "shell.execute_reply": "2024-05-23T11:14:41.966190Z"
    },
    "id": "-8rtRULsB_oZ",
    "outputId": "792ab064-34b5-4564-8d4b-d4b7a994e3cf",
    "papermill": {
     "duration": 0.035433,
     "end_time": "2024-05-23T11:14:41.970450",
     "exception": false,
     "start_time": "2024-05-23T11:14:41.935017",
     "status": "completed"
    },
    "tags": []
   },
   "outputs": [
    {
     "name": "stdout",
     "output_type": "stream",
     "text": [
      "ERROR at 99.7% LOS 6.66\n"
     ]
    }
   ],
   "source": [
    "print('ERROR at 99.7% LOS',np.round(3*1.1096523649227494*2,2))"
   ]
  },
  {
   "cell_type": "markdown",
   "id": "c8d3ebc7",
   "metadata": {
    "papermill": {
     "duration": 0.024682,
     "end_time": "2024-05-23T11:14:42.019987",
     "exception": false,
     "start_time": "2024-05-23T11:14:41.995305",
     "status": "completed"
    },
    "tags": []
   },
   "source": [
    "<font style=\"font-family:Gabriola; font-size:200%;font-weight:bold;color:#AB63FA;\"> Testing The Significance Of Lags</font><br>"
   ]
  },
  {
   "cell_type": "code",
   "execution_count": 36,
   "id": "8fa4a99d",
   "metadata": {
    "execution": {
     "iopub.execute_input": "2024-05-23T11:14:42.071426Z",
     "iopub.status.busy": "2024-05-23T11:14:42.071018Z",
     "iopub.status.idle": "2024-05-23T11:14:42.416380Z",
     "shell.execute_reply": "2024-05-23T11:14:42.415064Z"
    },
    "id": "pGq4bHNoCJXB",
    "outputId": "06d0a193-182b-47d6-a3d0-30d91d9ba158",
    "papermill": {
     "duration": 0.374307,
     "end_time": "2024-05-23T11:14:42.419319",
     "exception": false,
     "start_time": "2024-05-23T11:14:42.045012",
     "status": "completed"
    },
    "tags": []
   },
   "outputs": [
    {
     "data": {
      "image/png": "[encoded data removed]",
      "text/plain": [
       "<Figure size 640x480 with 1 Axes>"
      ]
     },
     "metadata": {},
     "output_type": "display_data"
    }
   ],
   "source": [
    "sgt.plot_acf(model_4_0_5.resid)\n",
    "plt.show()"
   ]
  },
  {
   "cell_type": "markdown",
   "id": "9cb1a5a6",
   "metadata": {
    "execution": {
     "iopub.execute_input": "2024-05-23T10:46:45.945325Z",
     "iopub.status.busy": "2024-05-23T10:46:45.944433Z",
     "iopub.status.idle": "2024-05-23T10:46:47.429934Z",
     "shell.execute_reply": "2024-05-23T10:46:47.428666Z",
     "shell.execute_reply.started": "2024-05-23T10:46:45.945290Z"
    },
    "id": "k_V9EESRC9AK",
    "papermill": {
     "duration": 0.024649,
     "end_time": "2024-05-23T11:14:42.468866",
     "exception": false,
     "start_time": "2024-05-23T11:14:42.444217",
     "status": "completed"
    },
    "tags": []
   },
   "source": [
    "<div style=\"padding: 10px; margin: 0; color: DarkCyan; font-family: cursive, serif; font-size: 120%; text-align: left; border-radius: 15px 50px; overflow: hidden; font-weight: 500;\">Modelling Using Auto Arima Package\n",
    "</div>"
   ]
  },
  {
   "cell_type": "code",
   "execution_count": 37,
   "id": "4bcac150",
   "metadata": {
    "execution": {
     "iopub.execute_input": "2024-05-23T11:14:42.521002Z",
     "iopub.status.busy": "2024-05-23T11:14:42.520485Z",
     "iopub.status.idle": "2024-05-23T11:17:04.761143Z",
     "shell.execute_reply": "2024-05-23T11:17:04.759360Z"
    },
    "id": "_ZYBYenzDECx",
    "papermill": {
     "duration": 142.27254,
     "end_time": "2024-05-23T11:17:04.766497",
     "exception": false,
     "start_time": "2024-05-23T11:14:42.493957",
     "status": "completed"
    },
    "tags": []
   },
   "outputs": [],
   "source": [
    "model=auto_arima(ftse_return)"
   ]
  },
  {
   "cell_type": "code",
   "execution_count": 38,
   "id": "2a1545e6",
   "metadata": {
    "execution": {
     "iopub.execute_input": "2024-05-23T11:17:04.842074Z",
     "iopub.status.busy": "2024-05-23T11:17:04.841673Z",
     "iopub.status.idle": "2024-05-23T11:17:18.839610Z",
     "shell.execute_reply": "2024-05-23T11:17:18.838323Z"
    },
    "id": "6CiXrZz1EIkV",
    "outputId": "3c3ef895-cc11-4df2-9154-3bfc64e18401",
    "papermill": {
     "duration": 14.027082,
     "end_time": "2024-05-23T11:17:18.842456",
     "exception": false,
     "start_time": "2024-05-23T11:17:04.815374",
     "status": "completed"
    },
    "tags": []
   },
   "outputs": [
    {
     "name": "stdout",
     "output_type": "stream",
     "text": [
      "                               SARIMAX Results                                \n",
      "==============================================================================\n",
      "Dep. Variable:                   ftse   No. Observations:                 6268\n",
      "Model:                 ARIMA(5, 0, 2)   Log Likelihood               -9548.804\n",
      "Date:                Thu, 23 May 2024   AIC                          19115.607\n",
      "Time:                        11:17:18   BIC                          19176.296\n",
      "Sample:                             0   HQIC                         19136.636\n",
      "                               - 6268                                         \n",
      "Covariance Type:                  opg                                         \n",
      "==============================================================================\n",
      "                 coef    std err          z      P>|z|      [0.025      0.975]\n",
      "------------------------------------------------------------------------------\n",
      "const          0.0190      0.013      1.512      0.131      -0.006       0.044\n",
      "ar.L1          0.3788      0.077      4.905      0.000       0.227       0.530\n",
      "ar.L2         -0.4339      0.083     -5.235      0.000      -0.596      -0.271\n",
      "ar.L3         -0.0583      0.010     -6.099      0.000      -0.077      -0.040\n",
      "ar.L4          0.0366      0.009      4.127      0.000       0.019       0.054\n",
      "ar.L5         -0.0973      0.008    -12.332      0.000      -0.113      -0.082\n",
      "ma.L1         -0.3982      0.077     -5.148      0.000      -0.550      -0.247\n",
      "ma.L2          0.3919      0.084      4.647      0.000       0.227       0.557\n",
      "sigma2         1.2324      0.012    105.018      0.000       1.209       1.255\n",
      "===================================================================================\n",
      "Ljung-Box (L1) (Q):                   0.00   Jarque-Bera (JB):              8732.52\n",
      "Prob(Q):                              0.99   Prob(JB):                         0.00\n",
      "Heteroskedasticity (H):               0.87   Skew:                            -0.17\n",
      "Prob(H) (two-sided):                  0.00   Kurtosis:                         8.77\n",
      "===================================================================================\n",
      "\n",
      "Warnings:\n",
      "[1] Covariance matrix calculated using the outer product of gradients (complex-step).\n"
     ]
    }
   ],
   "source": [
    "model_5_0_2=model_fitting(5,0,2)\n",
    "summary(model_5_0_2)"
   ]
  },
  {
   "cell_type": "code",
   "execution_count": 39,
   "id": "99c1d1fb",
   "metadata": {
    "execution": {
     "iopub.execute_input": "2024-05-23T11:17:18.894901Z",
     "iopub.status.busy": "2024-05-23T11:17:18.893977Z",
     "iopub.status.idle": "2024-05-23T11:17:18.943389Z",
     "shell.execute_reply": "2024-05-23T11:17:18.942180Z"
    },
    "id": "5RxprZSZEf1t",
    "outputId": "585829ad-0762-4428-ec35-66d7a1b2f549",
    "papermill": {
     "duration": 0.078774,
     "end_time": "2024-05-23T11:17:18.946204",
     "exception": false,
     "start_time": "2024-05-23T11:17:18.867430",
     "status": "completed"
    },
    "tags": []
   },
   "outputs": [
    {
     "data": {
      "text/html": [
       "<table class=\"simpletable\">\n",
       "<caption>SARIMAX Results</caption>\n",
       "<tr>\n",
       "  <th>Dep. Variable:</th>         <td>ftse</td>       <th>  No. Observations:  </th>   <td>6268</td>   \n",
       "</tr>\n",
       "<tr>\n",
       "  <th>Model:</th>            <td>ARIMA(5, 0, 4)</td>  <th>  Log Likelihood     </th> <td>-9546.281</td>\n",
       "</tr>\n",
       "<tr>\n",
       "  <th>Date:</th>            <td>Thu, 23 May 2024</td> <th>  AIC                </th> <td>19114.563</td>\n",
       "</tr>\n",
       "<tr>\n",
       "  <th>Time:</th>                <td>11:17:18</td>     <th>  BIC                </th> <td>19188.738</td>\n",
       "</tr>\n",
       "<tr>\n",
       "  <th>Sample:</th>                  <td>0</td>        <th>  HQIC               </th> <td>19140.265</td>\n",
       "</tr>\n",
       "<tr>\n",
       "  <th></th>                      <td> - 6268</td>     <th>                     </th>     <td> </td>    \n",
       "</tr>\n",
       "<tr>\n",
       "  <th>Covariance Type:</th>        <td>opg</td>       <th>                     </th>     <td> </td>    \n",
       "</tr>\n",
       "</table>\n",
       "<table class=\"simpletable\">\n",
       "<tr>\n",
       "     <td></td>       <th>coef</th>     <th>std err</th>      <th>z</th>      <th>P>|z|</th>  <th>[0.025</th>    <th>0.975]</th>  \n",
       "</tr>\n",
       "<tr>\n",
       "  <th>const</th>  <td>    0.0186</td> <td>    0.013</td> <td>    1.470</td> <td> 0.142</td> <td>   -0.006</td> <td>    0.043</td>\n",
       "</tr>\n",
       "<tr>\n",
       "  <th>ar.L1</th>  <td>    0.1828</td> <td>    0.081</td> <td>    2.262</td> <td> 0.024</td> <td>    0.024</td> <td>    0.341</td>\n",
       "</tr>\n",
       "<tr>\n",
       "  <th>ar.L2</th>  <td>   -0.5749</td> <td>    0.082</td> <td>   -7.030</td> <td> 0.000</td> <td>   -0.735</td> <td>   -0.415</td>\n",
       "</tr>\n",
       "<tr>\n",
       "  <th>ar.L3</th>  <td>   -0.1255</td> <td>    0.075</td> <td>   -1.665</td> <td> 0.096</td> <td>   -0.273</td> <td>    0.022</td>\n",
       "</tr>\n",
       "<tr>\n",
       "  <th>ar.L4</th>  <td>    0.3012</td> <td>    0.077</td> <td>    3.935</td> <td> 0.000</td> <td>    0.151</td> <td>    0.451</td>\n",
       "</tr>\n",
       "<tr>\n",
       "  <th>ar.L5</th>  <td>   -0.0865</td> <td>    0.009</td> <td>  -10.064</td> <td> 0.000</td> <td>   -0.103</td> <td>   -0.070</td>\n",
       "</tr>\n",
       "<tr>\n",
       "  <th>ma.L1</th>  <td>   -0.2043</td> <td>    0.081</td> <td>   -2.514</td> <td> 0.012</td> <td>   -0.364</td> <td>   -0.045</td>\n",
       "</tr>\n",
       "<tr>\n",
       "  <th>ma.L2</th>  <td>    0.5339</td> <td>    0.084</td> <td>    6.329</td> <td> 0.000</td> <td>    0.369</td> <td>    0.699</td>\n",
       "</tr>\n",
       "<tr>\n",
       "  <th>ma.L3</th>  <td>    0.0528</td> <td>    0.075</td> <td>    0.704</td> <td> 0.481</td> <td>   -0.094</td> <td>    0.200</td>\n",
       "</tr>\n",
       "<tr>\n",
       "  <th>ma.L4</th>  <td>   -0.2968</td> <td>    0.077</td> <td>   -3.837</td> <td> 0.000</td> <td>   -0.448</td> <td>   -0.145</td>\n",
       "</tr>\n",
       "<tr>\n",
       "  <th>sigma2</th> <td>    1.2322</td> <td>    0.012</td> <td>  104.137</td> <td> 0.000</td> <td>    1.209</td> <td>    1.255</td>\n",
       "</tr>\n",
       "</table>\n",
       "<table class=\"simpletable\">\n",
       "<tr>\n",
       "  <th>Ljung-Box (L1) (Q):</th>     <td>0.02</td> <th>  Jarque-Bera (JB):  </th> <td>8758.36</td>\n",
       "</tr>\n",
       "<tr>\n",
       "  <th>Prob(Q):</th>                <td>0.90</td> <th>  Prob(JB):          </th>  <td>0.00</td>  \n",
       "</tr>\n",
       "<tr>\n",
       "  <th>Heteroskedasticity (H):</th> <td>0.87</td> <th>  Skew:              </th>  <td>-0.19</td> \n",
       "</tr>\n",
       "<tr>\n",
       "  <th>Prob(H) (two-sided):</th>    <td>0.00</td> <th>  Kurtosis:          </th>  <td>8.78</td>  \n",
       "</tr>\n",
       "</table><br/><br/>Warnings:<br/>[1] Covariance matrix calculated using the outer product of gradients (complex-step)."
      ],
      "text/latex": [
       "\\begin{center}\n",
       "\\begin{tabular}{lclc}\n",
       "\\toprule\n",
       "\\textbf{Dep. Variable:}          &       ftse       & \\textbf{  No. Observations:  } &    6268     \\\\\n",
       "\\textbf{Model:}                  &  ARIMA(5, 0, 4)  & \\textbf{  Log Likelihood     } & -9546.281   \\\\\n",
       "\\textbf{Date:}                   & Thu, 23 May 2024 & \\textbf{  AIC                } & 19114.563   \\\\\n",
       "\\textbf{Time:}                   &     11:17:18     & \\textbf{  BIC                } & 19188.738   \\\\\n",
       "\\textbf{Sample:}                 &        0         & \\textbf{  HQIC               } & 19140.265   \\\\\n",
       "\\textbf{}                        &      - 6268      & \\textbf{                     } &             \\\\\n",
       "\\textbf{Covariance Type:}        &       opg        & \\textbf{                     } &             \\\\\n",
       "\\bottomrule\n",
       "\\end{tabular}\n",
       "\\begin{tabular}{lcccccc}\n",
       "                & \\textbf{coef} & \\textbf{std err} & \\textbf{z} & \\textbf{P$> |$z$|$} & \\textbf{[0.025} & \\textbf{0.975]}  \\\\\n",
       "\\midrule\n",
       "\\textbf{const}  &       0.0186  &        0.013     &     1.470  &         0.142        &       -0.006    &        0.043     \\\\\n",
       "\\textbf{ar.L1}  &       0.1828  &        0.081     &     2.262  &         0.024        &        0.024    &        0.341     \\\\\n",
       "\\textbf{ar.L2}  &      -0.5749  &        0.082     &    -7.030  &         0.000        &       -0.735    &       -0.415     \\\\\n",
       "\\textbf{ar.L3}  &      -0.1255  &        0.075     &    -1.665  &         0.096        &       -0.273    &        0.022     \\\\\n",
       "\\textbf{ar.L4}  &       0.3012  &        0.077     &     3.935  &         0.000        &        0.151    &        0.451     \\\\\n",
       "\\textbf{ar.L5}  &      -0.0865  &        0.009     &   -10.064  &         0.000        &       -0.103    &       -0.070     \\\\\n",
       "\\textbf{ma.L1}  &      -0.2043  &        0.081     &    -2.514  &         0.012        &       -0.364    &       -0.045     \\\\\n",
       "\\textbf{ma.L2}  &       0.5339  &        0.084     &     6.329  &         0.000        &        0.369    &        0.699     \\\\\n",
       "\\textbf{ma.L3}  &       0.0528  &        0.075     &     0.704  &         0.481        &       -0.094    &        0.200     \\\\\n",
       "\\textbf{ma.L4}  &      -0.2968  &        0.077     &    -3.837  &         0.000        &       -0.448    &       -0.145     \\\\\n",
       "\\textbf{sigma2} &       1.2322  &        0.012     &   104.137  &         0.000        &        1.209    &        1.255     \\\\\n",
       "\\bottomrule\n",
       "\\end{tabular}\n",
       "\\begin{tabular}{lclc}\n",
       "\\textbf{Ljung-Box (L1) (Q):}     & 0.02 & \\textbf{  Jarque-Bera (JB):  } & 8758.36  \\\\\n",
       "\\textbf{Prob(Q):}                & 0.90 & \\textbf{  Prob(JB):          } &   0.00   \\\\\n",
       "\\textbf{Heteroskedasticity (H):} & 0.87 & \\textbf{  Skew:              } &  -0.19   \\\\\n",
       "\\textbf{Prob(H) (two-sided):}    & 0.00 & \\textbf{  Kurtosis:          } &   8.78   \\\\\n",
       "\\bottomrule\n",
       "\\end{tabular}\n",
       "%\\caption{SARIMAX Results}\n",
       "\\end{center}\n",
       "\n",
       "Warnings: \\newline\n",
       " [1] Covariance matrix calculated using the outer product of gradients (complex-step)."
      ],
      "text/plain": [
       "<class 'statsmodels.iolib.summary.Summary'>\n",
       "\"\"\"\n",
       "                               SARIMAX Results                                \n",
       "==============================================================================\n",
       "Dep. Variable:                   ftse   No. Observations:                 6268\n",
       "Model:                 ARIMA(5, 0, 4)   Log Likelihood               -9546.281\n",
       "Date:                Thu, 23 May 2024   AIC                          19114.563\n",
       "Time:                        11:17:18   BIC                          19188.738\n",
       "Sample:                             0   HQIC                         19140.265\n",
       "                               - 6268                                         \n",
       "Covariance Type:                  opg                                         \n",
       "==============================================================================\n",
       "                 coef    std err          z      P>|z|      [0.025      0.975]\n",
       "------------------------------------------------------------------------------\n",
       "const          0.0186      0.013      1.470      0.142      -0.006       0.043\n",
       "ar.L1          0.1828      0.081      2.262      0.024       0.024       0.341\n",
       "ar.L2         -0.5749      0.082     -7.030      0.000      -0.735      -0.415\n",
       "ar.L3         -0.1255      0.075     -1.665      0.096      -0.273       0.022\n",
       "ar.L4          0.3012      0.077      3.935      0.000       0.151       0.451\n",
       "ar.L5         -0.0865      0.009    -10.064      0.000      -0.103      -0.070\n",
       "ma.L1         -0.2043      0.081     -2.514      0.012      -0.364      -0.045\n",
       "ma.L2          0.5339      0.084      6.329      0.000       0.369       0.699\n",
       "ma.L3          0.0528      0.075      0.704      0.481      -0.094       0.200\n",
       "ma.L4         -0.2968      0.077     -3.837      0.000      -0.448      -0.145\n",
       "sigma2         1.2322      0.012    104.137      0.000       1.209       1.255\n",
       "===================================================================================\n",
       "Ljung-Box (L1) (Q):                   0.02   Jarque-Bera (JB):              8758.36\n",
       "Prob(Q):                              0.90   Prob(JB):                         0.00\n",
       "Heteroskedasticity (H):               0.87   Skew:                            -0.19\n",
       "Prob(H) (two-sided):                  0.00   Kurtosis:                         8.78\n",
       "===================================================================================\n",
       "\n",
       "Warnings:\n",
       "[1] Covariance matrix calculated using the outer product of gradients (complex-step).\n",
       "\"\"\""
      ]
     },
     "execution_count": 39,
     "metadata": {},
     "output_type": "execute_result"
    }
   ],
   "source": [
    "model_5_0_4.summary()"
   ]
  },
  {
   "cell_type": "code",
   "execution_count": 40,
   "id": "6336a2d8",
   "metadata": {
    "execution": {
     "iopub.execute_input": "2024-05-23T11:17:18.999065Z",
     "iopub.status.busy": "2024-05-23T11:17:18.998564Z",
     "iopub.status.idle": "2024-05-23T11:17:19.376321Z",
     "shell.execute_reply": "2024-05-23T11:17:19.375103Z"
    },
    "id": "nZJ_gmyjE7QU",
    "outputId": "73282ce1-9e2f-4e67-bd7d-e882a3a8ea67",
    "papermill": {
     "duration": 0.407383,
     "end_time": "2024-05-23T11:17:19.379370",
     "exception": false,
     "start_time": "2024-05-23T11:17:18.971987",
     "status": "completed"
    },
    "tags": []
   },
   "outputs": [
    {
     "data": {
      "text/plain": [
       "<Axes: xlabel='date'>"
      ]
     },
     "execution_count": 40,
     "metadata": {},
     "output_type": "execute_result"
    },
    {
     "data": {
      "image/png": "[encoded data removed]",
      "text/plain": [
       "<Figure size 640x480 with 1 Axes>"
      ]
     },
     "metadata": {},
     "output_type": "display_data"
    }
   ],
   "source": [
    "model_5_0_4.predict(30).plot()"
   ]
  },
  {
   "cell_type": "code",
   "execution_count": 41,
   "id": "74df3629",
   "metadata": {
    "execution": {
     "iopub.execute_input": "2024-05-23T11:17:19.433951Z",
     "iopub.status.busy": "2024-05-23T11:17:19.433475Z",
     "iopub.status.idle": "2024-05-23T11:17:19.843271Z",
     "shell.execute_reply": "2024-05-23T11:17:19.842144Z"
    },
    "id": "oQMHZe5uFNxN",
    "outputId": "72282ad8-e76a-4fc6-dfcd-17e14f0c457c",
    "papermill": {
     "duration": 0.440317,
     "end_time": "2024-05-23T11:17:19.845991",
     "exception": false,
     "start_time": "2024-05-23T11:17:19.405674",
     "status": "completed"
    },
    "tags": []
   },
   "outputs": [
    {
     "data": {
      "text/plain": [
       "<Axes: xlabel='date'>"
      ]
     },
     "execution_count": 41,
     "metadata": {},
     "output_type": "execute_result"
    },
    {
     "data": {
      "image/png": "[encoded data removed]",
      "text/plain": [
       "<Figure size 640x480 with 1 Axes>"
      ]
     },
     "metadata": {},
     "output_type": "display_data"
    }
   ],
   "source": [
    "model_5_0_2.predict(30).plot()"
   ]
  },
  {
   "cell_type": "markdown",
   "id": "d63ab814",
   "metadata": {
    "id": "8CSUSuGGFRzh",
    "papermill": {
     "duration": 0.026718,
     "end_time": "2024-05-23T11:17:19.899246",
     "exception": false,
     "start_time": "2024-05-23T11:17:19.872528",
     "status": "completed"
    },
    "tags": []
   },
   "source": [
    "<div style=\"padding: 10px; margin: 0; color: DarkCyan; font-family: cursive, serif; font-size: 120%; text-align: left; border-radius: 15px 50px; overflow: hidden; font-weight: 500;\">Thank You For Your Time\n",
    "</div>\n"
   ]
  }
 ],
 "metadata": {
  "colab": {
   "provenance": []
  },
  "kaggle": {
   "accelerator": "none",
   "dataSources": [
    {
     "datasetId": 5068979,
     "sourceId": 8495264,
     "sourceType": "datasetVersion"
    }
   ],
   "dockerImageVersionId": 30698,
   "isGpuEnabled": false,
   "isInternetEnabled": true,
   "language": "python",
   "sourceType": "notebook"
  },
  "kernelspec": {
   "display_name": "Python 3",
   "language": "python",
   "name": "python3"
  },
  "language_info": {
   "codemirror_mode": {
    "name": "ipython",
    "version": 3
   },
   "file_extension": ".py",
   "mimetype": "text/x-python",
   "name": "python",
   "nbconvert_exporter": "python",
   "pygments_lexer": "ipython3",
   "version": "3.10.13"
  },
  "papermill": {
   "default_parameters": {},
   "duration": 475.9351,
   "end_time": "2024-05-23T11:17:20.749354",
   "environment_variables": {},
   "exception": null,
   "input_path": "__notebook__.ipynb",
   "output_path": "__notebook__.ipynb",
   "parameters": {},
   "start_time": "2024-05-23T11:09:24.814254",
   "version": "2.5.0"
  }
 },
 "nbformat": 4,
 "nbformat_minor": 5
}

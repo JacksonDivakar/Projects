{
 "cells": [
  {
   "cell_type": "markdown",
   "id": "fa86797b",
   "metadata": {
    "papermill": {
     "duration": 0.009409,
     "end_time": "2024-05-08T16:15:57.998049",
     "exception": false,
     "start_time": "2024-05-08T16:15:57.988640",
     "status": "completed"
    },
    "tags": []
   },
   "source": [
    "<a class=\"anchor\" id=\"Link_1\"></a>\n",
    "\n",
    "<div style=\"font-family:Georgia;padding:20px;line-height:25px;background-color: #F0FFFF;color:DarkCyan;border-style: solid;border-radius:10px 70px;\"><font style=\"font-family:Georgia; font-size:180%;font-weight:bold;color:DarkCyan;\"> Importing Modules and Libraries</font>  </div>"
   ]
  },
  {
   "cell_type": "code",
   "execution_count": 1,
   "id": "4d817634",
   "metadata": {
    "execution": {
     "iopub.execute_input": "2024-05-08T16:15:58.017579Z",
     "iopub.status.busy": "2024-05-08T16:15:58.017205Z",
     "iopub.status.idle": "2024-05-08T16:16:13.163784Z",
     "shell.execute_reply": "2024-05-08T16:16:13.162695Z"
    },
    "papermill": {
     "duration": 15.159275,
     "end_time": "2024-05-08T16:16:13.166318",
     "exception": false,
     "start_time": "2024-05-08T16:15:58.007043",
     "status": "completed"
    },
    "tags": []
   },
   "outputs": [
    {
     "name": "stderr",
     "output_type": "stream",
     "text": [
      "2024-05-08 16:16:00.173324: E external/local_xla/xla/stream_executor/cuda/cuda_dnn.cc:9261] Unable to register cuDNN factory: Attempting to register factory for plugin cuDNN when one has already been registered\n",
      "2024-05-08 16:16:00.173489: E external/local_xla/xla/stream_executor/cuda/cuda_fft.cc:607] Unable to register cuFFT factory: Attempting to register factory for plugin cuFFT when one has already been registered\n",
      "2024-05-08 16:16:00.320175: E external/local_xla/xla/stream_executor/cuda/cuda_blas.cc:1515] Unable to register cuBLAS factory: Attempting to register factory for plugin cuBLAS when one has already been registered\n"
     ]
    }
   ],
   "source": [
    "import tensorflow.keras as ke\n",
    "import pandas as pd\n",
    "import numpy as np\n",
    "import seaborn as sb\n",
    "import matplotlib.pyplot as plt\n",
    "from datetime import datetime\n",
    "from sklearn.preprocessing import MinMaxScaler\n",
    "from sklearn.metrics import mean_squared_error,mean_absolute_error\n",
    "import warnings\n",
    "warnings.filterwarnings('ignore')"
   ]
  },
  {
   "cell_type": "markdown",
   "id": "1c380730",
   "metadata": {
    "papermill": {
     "duration": 0.008605,
     "end_time": "2024-05-08T16:16:13.184137",
     "exception": false,
     "start_time": "2024-05-08T16:16:13.175532",
     "status": "completed"
    },
    "tags": []
   },
   "source": [
    "<a class=\"anchor\" id=\"Link_1\"></a>\n",
    "\n",
    "<div style=\"font-family:Georgia;padding:20px;line-height:25px;background-color: #F0FFFF;color:DarkCyan;border-style: solid;border-radius:10px 70px;\"><font style=\"font-family:Georgia; font-size:180%;font-weight:bold;color:DarkCyan;\"> Data Loading & Transformation & Preprocessing </font>  </div>"
   ]
  },
  {
   "cell_type": "code",
   "execution_count": 2,
   "id": "c6bb40ab",
   "metadata": {
    "execution": {
     "iopub.execute_input": "2024-05-08T16:16:13.204595Z",
     "iopub.status.busy": "2024-05-08T16:16:13.203968Z",
     "iopub.status.idle": "2024-05-08T16:16:13.225509Z",
     "shell.execute_reply": "2024-05-08T16:16:13.224560Z"
    },
    "papermill": {
     "duration": 0.035043,
     "end_time": "2024-05-08T16:16:13.228005",
     "exception": false,
     "start_time": "2024-05-08T16:16:13.192962",
     "status": "completed"
    },
    "tags": []
   },
   "outputs": [],
   "source": [
    "data=pd.read_csv('/kaggle/input/vguard/Quote-Equity-VGUARD-EQ-08-05-2023-to-08-05-2024.csv')"
   ]
  },
  {
   "cell_type": "code",
   "execution_count": 3,
   "id": "6de0bd95",
   "metadata": {
    "execution": {
     "iopub.execute_input": "2024-05-08T16:16:13.247873Z",
     "iopub.status.busy": "2024-05-08T16:16:13.247522Z",
     "iopub.status.idle": "2024-05-08T16:16:13.262809Z",
     "shell.execute_reply": "2024-05-08T16:16:13.261603Z"
    },
    "papermill": {
     "duration": 0.027924,
     "end_time": "2024-05-08T16:16:13.265052",
     "exception": false,
     "start_time": "2024-05-08T16:16:13.237128",
     "status": "completed"
    },
    "tags": []
   },
   "outputs": [],
   "source": [
    "price=data[['close ']]"
   ]
  },
  {
   "cell_type": "code",
   "execution_count": 4,
   "id": "94f3b1b1",
   "metadata": {
    "execution": {
     "iopub.execute_input": "2024-05-08T16:16:13.284530Z",
     "iopub.status.busy": "2024-05-08T16:16:13.284146Z",
     "iopub.status.idle": "2024-05-08T16:16:13.289963Z",
     "shell.execute_reply": "2024-05-08T16:16:13.288699Z"
    },
    "papermill": {
     "duration": 0.018156,
     "end_time": "2024-05-08T16:16:13.292221",
     "exception": false,
     "start_time": "2024-05-08T16:16:13.274065",
     "status": "completed"
    },
    "tags": []
   },
   "outputs": [],
   "source": [
    "def to_date(date_string):\n",
    "    date_object = datetime.strptime(date_string, \"%d-%b-%Y\")\n",
    "    formatted_date = date_object.strftime(\"%Y-%m-%d\")\n",
    "    return formatted_date"
   ]
  },
  {
   "cell_type": "code",
   "execution_count": 5,
   "id": "cbd15d93",
   "metadata": {
    "execution": {
     "iopub.execute_input": "2024-05-08T16:16:13.312397Z",
     "iopub.status.busy": "2024-05-08T16:16:13.312018Z",
     "iopub.status.idle": "2024-05-08T16:16:13.326559Z",
     "shell.execute_reply": "2024-05-08T16:16:13.325470Z"
    },
    "papermill": {
     "duration": 0.027344,
     "end_time": "2024-05-08T16:16:13.328869",
     "exception": false,
     "start_time": "2024-05-08T16:16:13.301525",
     "status": "completed"
    },
    "tags": []
   },
   "outputs": [],
   "source": [
    "value=pd.to_datetime(data['Date '].apply(to_date))"
   ]
  },
  {
   "cell_type": "code",
   "execution_count": 6,
   "id": "611e9faa",
   "metadata": {
    "execution": {
     "iopub.execute_input": "2024-05-08T16:16:13.348616Z",
     "iopub.status.busy": "2024-05-08T16:16:13.348226Z",
     "iopub.status.idle": "2024-05-08T16:16:13.353339Z",
     "shell.execute_reply": "2024-05-08T16:16:13.352355Z"
    },
    "papermill": {
     "duration": 0.017647,
     "end_time": "2024-05-08T16:16:13.355514",
     "exception": false,
     "start_time": "2024-05-08T16:16:13.337867",
     "status": "completed"
    },
    "tags": []
   },
   "outputs": [],
   "source": [
    "price.set_index(value,inplace=True)"
   ]
  },
  {
   "cell_type": "code",
   "execution_count": 7,
   "id": "4759caf4",
   "metadata": {
    "execution": {
     "iopub.execute_input": "2024-05-08T16:16:13.375312Z",
     "iopub.status.busy": "2024-05-08T16:16:13.374652Z",
     "iopub.status.idle": "2024-05-08T16:16:13.972366Z",
     "shell.execute_reply": "2024-05-08T16:16:13.971399Z"
    },
    "papermill": {
     "duration": 0.610373,
     "end_time": "2024-05-08T16:16:13.974826",
     "exception": false,
     "start_time": "2024-05-08T16:16:13.364453",
     "status": "completed"
    },
    "tags": []
   },
   "outputs": [
    {
     "data": {
      "text/plain": [
       "<Axes: xlabel='Date '>"
      ]
     },
     "execution_count": 7,
     "metadata": {},
     "output_type": "execute_result"
    },
    {
     "data": {
      "image/png": "[encoded data removed]",
      "text/plain": [
       "<Figure size 640x480 with 1 Axes>"
      ]
     },
     "metadata": {},
     "output_type": "display_data"
    }
   ],
   "source": [
    "price.plot(color='g')"
   ]
  },
  {
   "cell_type": "code",
   "execution_count": 8,
   "id": "111047cf",
   "metadata": {
    "execution": {
     "iopub.execute_input": "2024-05-08T16:16:13.996240Z",
     "iopub.status.busy": "2024-05-08T16:16:13.995857Z",
     "iopub.status.idle": "2024-05-08T16:16:14.001586Z",
     "shell.execute_reply": "2024-05-08T16:16:14.000315Z"
    },
    "papermill": {
     "duration": 0.019154,
     "end_time": "2024-05-08T16:16:14.003857",
     "exception": false,
     "start_time": "2024-05-08T16:16:13.984703",
     "status": "completed"
    },
    "tags": []
   },
   "outputs": [],
   "source": [
    "price=price.iloc[::-1]"
   ]
  },
  {
   "cell_type": "code",
   "execution_count": 9,
   "id": "1e749b4a",
   "metadata": {
    "execution": {
     "iopub.execute_input": "2024-05-08T16:16:14.027171Z",
     "iopub.status.busy": "2024-05-08T16:16:14.026313Z",
     "iopub.status.idle": "2024-05-08T16:16:14.034544Z",
     "shell.execute_reply": "2024-05-08T16:16:14.033396Z"
    },
    "papermill": {
     "duration": 0.021702,
     "end_time": "2024-05-08T16:16:14.036892",
     "exception": false,
     "start_time": "2024-05-08T16:16:14.015190",
     "status": "completed"
    },
    "tags": []
   },
   "outputs": [],
   "source": [
    "scaler=MinMaxScaler()\n",
    "scaled_price=scaler.fit_transform(price)"
   ]
  },
  {
   "cell_type": "code",
   "execution_count": 10,
   "id": "48d7d051",
   "metadata": {
    "execution": {
     "iopub.execute_input": "2024-05-08T16:16:14.058864Z",
     "iopub.status.busy": "2024-05-08T16:16:14.058464Z",
     "iopub.status.idle": "2024-05-08T16:16:14.063385Z",
     "shell.execute_reply": "2024-05-08T16:16:14.062211Z"
    },
    "papermill": {
     "duration": 0.018788,
     "end_time": "2024-05-08T16:16:14.065578",
     "exception": false,
     "start_time": "2024-05-08T16:16:14.046790",
     "status": "completed"
    },
    "tags": []
   },
   "outputs": [],
   "source": [
    "scaled_price=scaled_price.ravel()"
   ]
  },
  {
   "cell_type": "code",
   "execution_count": 11,
   "id": "3fbe11d8",
   "metadata": {
    "execution": {
     "iopub.execute_input": "2024-05-08T16:16:14.087765Z",
     "iopub.status.busy": "2024-05-08T16:16:14.086822Z",
     "iopub.status.idle": "2024-05-08T16:16:14.092964Z",
     "shell.execute_reply": "2024-05-08T16:16:14.091680Z"
    },
    "papermill": {
     "duration": 0.019445,
     "end_time": "2024-05-08T16:16:14.095254",
     "exception": false,
     "start_time": "2024-05-08T16:16:14.075809",
     "status": "completed"
    },
    "tags": []
   },
   "outputs": [],
   "source": [
    "def list_maker(array,elements_count):\n",
    "    outer_list=[]\n",
    "    for i in range(len(array)):\n",
    "        if i == len(array)- elements_count+1:\n",
    "            break\n",
    "        outer_list.extend([array[i:i+elements_count]])\n",
    "    return outer_list"
   ]
  },
  {
   "cell_type": "code",
   "execution_count": 12,
   "id": "5f3e820a",
   "metadata": {
    "execution": {
     "iopub.execute_input": "2024-05-08T16:16:14.116930Z",
     "iopub.status.busy": "2024-05-08T16:16:14.115869Z",
     "iopub.status.idle": "2024-05-08T16:16:14.121167Z",
     "shell.execute_reply": "2024-05-08T16:16:14.120080Z"
    },
    "papermill": {
     "duration": 0.018635,
     "end_time": "2024-05-08T16:16:14.123544",
     "exception": false,
     "start_time": "2024-05-08T16:16:14.104909",
     "status": "completed"
    },
    "tags": []
   },
   "outputs": [],
   "source": [
    "newvalues=list_maker(scaled_price,5)"
   ]
  },
  {
   "cell_type": "code",
   "execution_count": 13,
   "id": "5c98b2a0",
   "metadata": {
    "execution": {
     "iopub.execute_input": "2024-05-08T16:16:14.145080Z",
     "iopub.status.busy": "2024-05-08T16:16:14.144369Z",
     "iopub.status.idle": "2024-05-08T16:16:14.152169Z",
     "shell.execute_reply": "2024-05-08T16:16:14.150965Z"
    },
    "papermill": {
     "duration": 0.021367,
     "end_time": "2024-05-08T16:16:14.154732",
     "exception": false,
     "start_time": "2024-05-08T16:16:14.133365",
     "status": "completed"
    },
    "tags": []
   },
   "outputs": [],
   "source": [
    "newdf=pd.DataFrame(newvalues,columns=['Instance {}'.format(i) for i in range(1,6)])"
   ]
  },
  {
   "cell_type": "code",
   "execution_count": 14,
   "id": "91c5aa21",
   "metadata": {
    "execution": {
     "iopub.execute_input": "2024-05-08T16:16:14.176725Z",
     "iopub.status.busy": "2024-05-08T16:16:14.176331Z",
     "iopub.status.idle": "2024-05-08T16:16:14.183454Z",
     "shell.execute_reply": "2024-05-08T16:16:14.182329Z"
    },
    "papermill": {
     "duration": 0.020841,
     "end_time": "2024-05-08T16:16:14.185719",
     "exception": false,
     "start_time": "2024-05-08T16:16:14.164878",
     "status": "completed"
    },
    "tags": []
   },
   "outputs": [],
   "source": [
    "target=newdf[['Instance 5']]\n",
    "xdata=newdf.drop('Instance 5',axis=1)"
   ]
  },
  {
   "cell_type": "code",
   "execution_count": 15,
   "id": "cc047d45",
   "metadata": {
    "execution": {
     "iopub.execute_input": "2024-05-08T16:16:14.207149Z",
     "iopub.status.busy": "2024-05-08T16:16:14.206086Z",
     "iopub.status.idle": "2024-05-08T16:16:14.211541Z",
     "shell.execute_reply": "2024-05-08T16:16:14.210527Z"
    },
    "papermill": {
     "duration": 0.01841,
     "end_time": "2024-05-08T16:16:14.213705",
     "exception": false,
     "start_time": "2024-05-08T16:16:14.195295",
     "status": "completed"
    },
    "tags": []
   },
   "outputs": [],
   "source": [
    "train_size=round(xdata.shape[0]*0.75)\n",
    "validation_size=round(xdata.shape[0]*0.10)\n",
    "test_size=xdata.shape[0]-train_size-validation_size\n"
   ]
  },
  {
   "cell_type": "code",
   "execution_count": 16,
   "id": "9eab3de5",
   "metadata": {
    "execution": {
     "iopub.execute_input": "2024-05-08T16:16:14.235322Z",
     "iopub.status.busy": "2024-05-08T16:16:14.234922Z",
     "iopub.status.idle": "2024-05-08T16:16:14.241662Z",
     "shell.execute_reply": "2024-05-08T16:16:14.240408Z"
    },
    "papermill": {
     "duration": 0.019965,
     "end_time": "2024-05-08T16:16:14.243977",
     "exception": false,
     "start_time": "2024-05-08T16:16:14.224012",
     "status": "completed"
    },
    "tags": []
   },
   "outputs": [],
   "source": [
    "xtrain=xdata.iloc[:train_size].values\n",
    "ytrain=target.iloc[:train_size].values\n",
    "xval=xdata.iloc[train_size:train_size+validation_size].values\n",
    "yval=target.iloc[train_size:train_size+validation_size].values\n",
    "xtest=xdata.iloc[train_size+validation_size:].values\n",
    "ytest=target.iloc[train_size+validation_size:].values"
   ]
  },
  {
   "cell_type": "code",
   "execution_count": 17,
   "id": "a2fc2c93",
   "metadata": {
    "execution": {
     "iopub.execute_input": "2024-05-08T16:16:14.265910Z",
     "iopub.status.busy": "2024-05-08T16:16:14.265520Z",
     "iopub.status.idle": "2024-05-08T16:16:14.270992Z",
     "shell.execute_reply": "2024-05-08T16:16:14.269942Z"
    },
    "papermill": {
     "duration": 0.018991,
     "end_time": "2024-05-08T16:16:14.273344",
     "exception": false,
     "start_time": "2024-05-08T16:16:14.254353",
     "status": "completed"
    },
    "tags": []
   },
   "outputs": [],
   "source": [
    "#sample,timestep,feature\n",
    "xtrain=xtrain.reshape(xtrain.shape[0],xtrain.shape[1],1)\n",
    "xval=xval.reshape(xval.shape[0],xval.shape[1],1)"
   ]
  },
  {
   "cell_type": "code",
   "execution_count": 18,
   "id": "ba631f18",
   "metadata": {
    "execution": {
     "iopub.execute_input": "2024-05-08T16:16:14.294582Z",
     "iopub.status.busy": "2024-05-08T16:16:14.294197Z",
     "iopub.status.idle": "2024-05-08T16:16:14.301012Z",
     "shell.execute_reply": "2024-05-08T16:16:14.299817Z"
    },
    "papermill": {
     "duration": 0.020317,
     "end_time": "2024-05-08T16:16:14.303356",
     "exception": false,
     "start_time": "2024-05-08T16:16:14.283039",
     "status": "completed"
    },
    "tags": []
   },
   "outputs": [
    {
     "data": {
      "text/plain": [
       "(184, 4, 1)"
      ]
     },
     "execution_count": 18,
     "metadata": {},
     "output_type": "execute_result"
    }
   ],
   "source": [
    "xtrain.shape"
   ]
  },
  {
   "cell_type": "markdown",
   "id": "72543e90",
   "metadata": {
    "papermill": {
     "duration": 0.009641,
     "end_time": "2024-05-08T16:16:14.322892",
     "exception": false,
     "start_time": "2024-05-08T16:16:14.313251",
     "status": "completed"
    },
    "tags": []
   },
   "source": [
    "<a class=\"anchor\" id=\"Link_1\"></a>\n",
    "\n",
    "<div style=\"font-family:Georgia;padding:20px;line-height:25px;background-color: #F0FFFF;color:DarkCyan;border-style: solid;border-radius:10px 70px;\"><font style=\"font-family:Georgia; font-size:180%;font-weight:bold;color:DarkCyan;\">Machine Learning Using LSTM</font>  </div>"
   ]
  },
  {
   "cell_type": "code",
   "execution_count": 19,
   "id": "ede3000d",
   "metadata": {
    "execution": {
     "iopub.execute_input": "2024-05-08T16:16:14.344100Z",
     "iopub.status.busy": "2024-05-08T16:16:14.343734Z",
     "iopub.status.idle": "2024-05-08T16:16:14.348972Z",
     "shell.execute_reply": "2024-05-08T16:16:14.347922Z"
    },
    "papermill": {
     "duration": 0.018383,
     "end_time": "2024-05-08T16:16:14.351164",
     "exception": false,
     "start_time": "2024-05-08T16:16:14.332781",
     "status": "completed"
    },
    "tags": []
   },
   "outputs": [],
   "source": [
    "input_shape=xtrain.shape[1],xtrain.shape[2]\n",
    "hidden_nodes=100"
   ]
  },
  {
   "cell_type": "code",
   "execution_count": null,
   "id": "f62aa04e",
   "metadata": {
    "execution": {
     "iopub.execute_input": "2024-05-08T15:43:22.290585Z",
     "iopub.status.busy": "2024-05-08T15:43:22.289254Z",
     "iopub.status.idle": "2024-05-08T15:43:22.299380Z",
     "shell.execute_reply": "2024-05-08T15:43:22.298454Z",
     "shell.execute_reply.started": "2024-05-08T15:43:22.290537Z"
    },
    "papermill": {
     "duration": 0.009637,
     "end_time": "2024-05-08T16:16:14.370893",
     "exception": false,
     "start_time": "2024-05-08T16:16:14.361256",
     "status": "completed"
    },
    "tags": []
   },
   "outputs": [],
   "source": []
  },
  {
   "cell_type": "code",
   "execution_count": 20,
   "id": "e0028f2b",
   "metadata": {
    "execution": {
     "iopub.execute_input": "2024-05-08T16:16:14.393027Z",
     "iopub.status.busy": "2024-05-08T16:16:14.391933Z",
     "iopub.status.idle": "2024-05-08T16:16:14.549077Z",
     "shell.execute_reply": "2024-05-08T16:16:14.547967Z"
    },
    "papermill": {
     "duration": 0.170797,
     "end_time": "2024-05-08T16:16:14.551694",
     "exception": false,
     "start_time": "2024-05-08T16:16:14.380897",
     "status": "completed"
    },
    "tags": []
   },
   "outputs": [],
   "source": [
    "model=ke.Sequential()\n",
    "model.add(ke.layers.LSTM(units=50,return_sequences=True,activation='relu',input_shape=input_shape))\n",
    "model.add(ke.layers.LSTM(units=50,return_sequences=True,activation='relu'))\n",
    "model.add(ke.layers.LSTM(units=50))\n",
    "model.add(ke.layers.Dense(1))\n",
    "\n",
    "model.compile(loss='mse',optimizer='adam')"
   ]
  },
  {
   "cell_type": "code",
   "execution_count": 21,
   "id": "907a9f0a",
   "metadata": {
    "_kg_hide-output": true,
    "execution": {
     "iopub.execute_input": "2024-05-08T16:16:14.573018Z",
     "iopub.status.busy": "2024-05-08T16:16:14.572612Z",
     "iopub.status.idle": "2024-05-08T16:16:26.127478Z",
     "shell.execute_reply": "2024-05-08T16:16:26.126341Z"
    },
    "papermill": {
     "duration": 11.568372,
     "end_time": "2024-05-08T16:16:26.129831",
     "exception": false,
     "start_time": "2024-05-08T16:16:14.561459",
     "status": "completed"
    },
    "tags": []
   },
   "outputs": [
    {
     "name": "stdout",
     "output_type": "stream",
     "text": [
      "Epoch 1/50\n",
      "\u001b[1m10/10\u001b[0m \u001b[32m━━━━━━━━━━━━━━━━━━━━\u001b[0m\u001b[37m\u001b[0m \u001b[1m5s\u001b[0m 66ms/step - loss: 0.1693 - val_loss: 0.3565\n",
      "Epoch 2/50\n",
      "\u001b[1m10/10\u001b[0m \u001b[32m━━━━━━━━━━━━━━━━━━━━\u001b[0m\u001b[37m\u001b[0m \u001b[1m1s\u001b[0m 9ms/step - loss: 0.0909 - val_loss: 0.1356\n",
      "Epoch 3/50\n",
      "\u001b[1m10/10\u001b[0m \u001b[32m━━━━━━━━━━━━━━━━━━━━\u001b[0m\u001b[37m\u001b[0m \u001b[1m0s\u001b[0m 9ms/step - loss: 0.0209 - val_loss: 0.0178\n",
      "Epoch 4/50\n",
      "\u001b[1m10/10\u001b[0m \u001b[32m━━━━━━━━━━━━━━━━━━━━\u001b[0m\u001b[37m\u001b[0m \u001b[1m0s\u001b[0m 10ms/step - loss: 0.0277 - val_loss: 0.0767\n",
      "Epoch 5/50\n",
      "\u001b[1m10/10\u001b[0m \u001b[32m━━━━━━━━━━━━━━━━━━━━\u001b[0m\u001b[37m\u001b[0m \u001b[1m0s\u001b[0m 9ms/step - loss: 0.0188 - val_loss: 0.0729\n",
      "Epoch 6/50\n",
      "\u001b[1m10/10\u001b[0m \u001b[32m━━━━━━━━━━━━━━━━━━━━\u001b[0m\u001b[37m\u001b[0m \u001b[1m0s\u001b[0m 9ms/step - loss: 0.0177 - val_loss: 0.0313\n",
      "Epoch 7/50\n",
      "\u001b[1m10/10\u001b[0m \u001b[32m━━━━━━━━━━━━━━━━━━━━\u001b[0m\u001b[37m\u001b[0m \u001b[1m0s\u001b[0m 9ms/step - loss: 0.0146 - val_loss: 0.0332\n",
      "Epoch 8/50\n",
      "\u001b[1m10/10\u001b[0m \u001b[32m━━━━━━━━━━━━━━━━━━━━\u001b[0m\u001b[37m\u001b[0m \u001b[1m0s\u001b[0m 10ms/step - loss: 0.0101 - val_loss: 0.0281\n",
      "Epoch 9/50\n",
      "\u001b[1m10/10\u001b[0m \u001b[32m━━━━━━━━━━━━━━━━━━━━\u001b[0m\u001b[37m\u001b[0m \u001b[1m0s\u001b[0m 9ms/step - loss: 0.0081 - val_loss: 0.0109\n",
      "Epoch 10/50\n",
      "\u001b[1m10/10\u001b[0m \u001b[32m━━━━━━━━━━━━━━━━━━━━\u001b[0m\u001b[37m\u001b[0m \u001b[1m0s\u001b[0m 9ms/step - loss: 0.0070 - val_loss: 0.0098\n",
      "Epoch 11/50\n",
      "\u001b[1m10/10\u001b[0m \u001b[32m━━━━━━━━━━━━━━━━━━━━\u001b[0m\u001b[37m\u001b[0m \u001b[1m0s\u001b[0m 10ms/step - loss: 0.0049 - val_loss: 0.0068\n",
      "Epoch 12/50\n",
      "\u001b[1m10/10\u001b[0m \u001b[32m━━━━━━━━━━━━━━━━━━━━\u001b[0m\u001b[37m\u001b[0m \u001b[1m0s\u001b[0m 10ms/step - loss: 0.0038 - val_loss: 0.0072\n",
      "Epoch 13/50\n",
      "\u001b[1m10/10\u001b[0m \u001b[32m━━━━━━━━━━━━━━━━━━━━\u001b[0m\u001b[37m\u001b[0m \u001b[1m0s\u001b[0m 10ms/step - loss: 0.0037 - val_loss: 0.0072\n",
      "Epoch 14/50\n",
      "\u001b[1m10/10\u001b[0m \u001b[32m━━━━━━━━━━━━━━━━━━━━\u001b[0m\u001b[37m\u001b[0m \u001b[1m0s\u001b[0m 10ms/step - loss: 0.0032 - val_loss: 0.0076\n",
      "Epoch 15/50\n",
      "\u001b[1m10/10\u001b[0m \u001b[32m━━━━━━━━━━━━━━━━━━━━\u001b[0m\u001b[37m\u001b[0m \u001b[1m0s\u001b[0m 10ms/step - loss: 0.0030 - val_loss: 0.0066\n",
      "Epoch 16/50\n",
      "\u001b[1m10/10\u001b[0m \u001b[32m━━━━━━━━━━━━━━━━━━━━\u001b[0m\u001b[37m\u001b[0m \u001b[1m0s\u001b[0m 10ms/step - loss: 0.0037 - val_loss: 0.0065\n",
      "Epoch 17/50\n",
      "\u001b[1m10/10\u001b[0m \u001b[32m━━━━━━━━━━━━━━━━━━━━\u001b[0m\u001b[37m\u001b[0m \u001b[1m0s\u001b[0m 9ms/step - loss: 0.0025 - val_loss: 0.0060\n",
      "Epoch 18/50\n",
      "\u001b[1m10/10\u001b[0m \u001b[32m━━━━━━━━━━━━━━━━━━━━\u001b[0m\u001b[37m\u001b[0m \u001b[1m0s\u001b[0m 10ms/step - loss: 0.0028 - val_loss: 0.0062\n",
      "Epoch 19/50\n",
      "\u001b[1m10/10\u001b[0m \u001b[32m━━━━━━━━━━━━━━━━━━━━\u001b[0m\u001b[37m\u001b[0m \u001b[1m0s\u001b[0m 10ms/step - loss: 0.0024 - val_loss: 0.0070\n",
      "Epoch 20/50\n",
      "\u001b[1m10/10\u001b[0m \u001b[32m━━━━━━━━━━━━━━━━━━━━\u001b[0m\u001b[37m\u001b[0m \u001b[1m0s\u001b[0m 10ms/step - loss: 0.0025 - val_loss: 0.0055\n",
      "Epoch 21/50\n",
      "\u001b[1m10/10\u001b[0m \u001b[32m━━━━━━━━━━━━━━━━━━━━\u001b[0m\u001b[37m\u001b[0m \u001b[1m0s\u001b[0m 10ms/step - loss: 0.0032 - val_loss: 0.0092\n",
      "Epoch 22/50\n",
      "\u001b[1m10/10\u001b[0m \u001b[32m━━━━━━━━━━━━━━━━━━━━\u001b[0m\u001b[37m\u001b[0m \u001b[1m0s\u001b[0m 10ms/step - loss: 0.0036 - val_loss: 0.0062\n",
      "Epoch 23/50\n",
      "\u001b[1m10/10\u001b[0m \u001b[32m━━━━━━━━━━━━━━━━━━━━\u001b[0m\u001b[37m\u001b[0m \u001b[1m0s\u001b[0m 10ms/step - loss: 0.0033 - val_loss: 0.0076\n",
      "Epoch 24/50\n",
      "\u001b[1m10/10\u001b[0m \u001b[32m━━━━━━━━━━━━━━━━━━━━\u001b[0m\u001b[37m\u001b[0m \u001b[1m0s\u001b[0m 10ms/step - loss: 0.0030 - val_loss: 0.0062\n",
      "Epoch 25/50\n",
      "\u001b[1m10/10\u001b[0m \u001b[32m━━━━━━━━━━━━━━━━━━━━\u001b[0m\u001b[37m\u001b[0m \u001b[1m0s\u001b[0m 10ms/step - loss: 0.0033 - val_loss: 0.0091\n",
      "Epoch 26/50\n",
      "\u001b[1m10/10\u001b[0m \u001b[32m━━━━━━━━━━━━━━━━━━━━\u001b[0m\u001b[37m\u001b[0m \u001b[1m0s\u001b[0m 10ms/step - loss: 0.0025 - val_loss: 0.0049\n",
      "Epoch 27/50\n",
      "\u001b[1m10/10\u001b[0m \u001b[32m━━━━━━━━━━━━━━━━━━━━\u001b[0m\u001b[37m\u001b[0m \u001b[1m0s\u001b[0m 9ms/step - loss: 0.0030 - val_loss: 0.0134\n",
      "Epoch 28/50\n",
      "\u001b[1m10/10\u001b[0m \u001b[32m━━━━━━━━━━━━━━━━━━━━\u001b[0m\u001b[37m\u001b[0m \u001b[1m0s\u001b[0m 9ms/step - loss: 0.0030 - val_loss: 0.0054\n",
      "Epoch 29/50\n",
      "\u001b[1m10/10\u001b[0m \u001b[32m━━━━━━━━━━━━━━━━━━━━\u001b[0m\u001b[37m\u001b[0m \u001b[1m0s\u001b[0m 10ms/step - loss: 0.0028 - val_loss: 0.0088\n",
      "Epoch 30/50\n",
      "\u001b[1m10/10\u001b[0m \u001b[32m━━━━━━━━━━━━━━━━━━━━\u001b[0m\u001b[37m\u001b[0m \u001b[1m0s\u001b[0m 10ms/step - loss: 0.0027 - val_loss: 0.0072\n",
      "Epoch 31/50\n",
      "\u001b[1m10/10\u001b[0m \u001b[32m━━━━━━━━━━━━━━━━━━━━\u001b[0m\u001b[37m\u001b[0m \u001b[1m0s\u001b[0m 10ms/step - loss: 0.0025 - val_loss: 0.0061\n",
      "Epoch 32/50\n",
      "\u001b[1m10/10\u001b[0m \u001b[32m━━━━━━━━━━━━━━━━━━━━\u001b[0m\u001b[37m\u001b[0m \u001b[1m0s\u001b[0m 10ms/step - loss: 0.0025 - val_loss: 0.0086\n",
      "Epoch 33/50\n",
      "\u001b[1m10/10\u001b[0m \u001b[32m━━━━━━━━━━━━━━━━━━━━\u001b[0m\u001b[37m\u001b[0m \u001b[1m0s\u001b[0m 10ms/step - loss: 0.0024 - val_loss: 0.0060\n",
      "Epoch 34/50\n",
      "\u001b[1m10/10\u001b[0m \u001b[32m━━━━━━━━━━━━━━━━━━━━\u001b[0m\u001b[37m\u001b[0m \u001b[1m0s\u001b[0m 10ms/step - loss: 0.0032 - val_loss: 0.0106\n",
      "Epoch 35/50\n",
      "\u001b[1m10/10\u001b[0m \u001b[32m━━━━━━━━━━━━━━━━━━━━\u001b[0m\u001b[37m\u001b[0m \u001b[1m0s\u001b[0m 10ms/step - loss: 0.0026 - val_loss: 0.0059\n",
      "Epoch 36/50\n",
      "\u001b[1m10/10\u001b[0m \u001b[32m━━━━━━━━━━━━━━━━━━━━\u001b[0m\u001b[37m\u001b[0m \u001b[1m0s\u001b[0m 10ms/step - loss: 0.0027 - val_loss: 0.0076\n",
      "Epoch 37/50\n",
      "\u001b[1m10/10\u001b[0m \u001b[32m━━━━━━━━━━━━━━━━━━━━\u001b[0m\u001b[37m\u001b[0m \u001b[1m0s\u001b[0m 9ms/step - loss: 0.0028 - val_loss: 0.0083\n",
      "Epoch 38/50\n",
      "\u001b[1m10/10\u001b[0m \u001b[32m━━━━━━━━━━━━━━━━━━━━\u001b[0m\u001b[37m\u001b[0m \u001b[1m0s\u001b[0m 9ms/step - loss: 0.0036 - val_loss: 0.0077\n",
      "Epoch 39/50\n",
      "\u001b[1m10/10\u001b[0m \u001b[32m━━━━━━━━━━━━━━━━━━━━\u001b[0m\u001b[37m\u001b[0m \u001b[1m0s\u001b[0m 9ms/step - loss: 0.0022 - val_loss: 0.0070\n",
      "Epoch 40/50\n",
      "\u001b[1m10/10\u001b[0m \u001b[32m━━━━━━━━━━━━━━━━━━━━\u001b[0m\u001b[37m\u001b[0m \u001b[1m0s\u001b[0m 9ms/step - loss: 0.0028 - val_loss: 0.0079\n",
      "Epoch 41/50\n",
      "\u001b[1m10/10\u001b[0m \u001b[32m━━━━━━━━━━━━━━━━━━━━\u001b[0m\u001b[37m\u001b[0m \u001b[1m0s\u001b[0m 9ms/step - loss: 0.0029 - val_loss: 0.0110\n",
      "Epoch 42/50\n",
      "\u001b[1m10/10\u001b[0m \u001b[32m━━━━━━━━━━━━━━━━━━━━\u001b[0m\u001b[37m\u001b[0m \u001b[1m0s\u001b[0m 10ms/step - loss: 0.0028 - val_loss: 0.0065\n",
      "Epoch 43/50\n",
      "\u001b[1m10/10\u001b[0m \u001b[32m━━━━━━━━━━━━━━━━━━━━\u001b[0m\u001b[37m\u001b[0m \u001b[1m0s\u001b[0m 10ms/step - loss: 0.0028 - val_loss: 0.0075\n",
      "Epoch 44/50\n",
      "\u001b[1m10/10\u001b[0m \u001b[32m━━━━━━━━━━━━━━━━━━━━\u001b[0m\u001b[37m\u001b[0m \u001b[1m0s\u001b[0m 9ms/step - loss: 0.0028 - val_loss: 0.0081\n",
      "Epoch 45/50\n",
      "\u001b[1m10/10\u001b[0m \u001b[32m━━━━━━━━━━━━━━━━━━━━\u001b[0m\u001b[37m\u001b[0m \u001b[1m0s\u001b[0m 10ms/step - loss: 0.0026 - val_loss: 0.0059\n",
      "Epoch 46/50\n",
      "\u001b[1m10/10\u001b[0m \u001b[32m━━━━━━━━━━━━━━━━━━━━\u001b[0m\u001b[37m\u001b[0m \u001b[1m0s\u001b[0m 9ms/step - loss: 0.0030 - val_loss: 0.0083\n",
      "Epoch 47/50\n",
      "\u001b[1m10/10\u001b[0m \u001b[32m━━━━━━━━━━━━━━━━━━━━\u001b[0m\u001b[37m\u001b[0m \u001b[1m0s\u001b[0m 9ms/step - loss: 0.0031 - val_loss: 0.0117\n",
      "Epoch 48/50\n",
      "\u001b[1m10/10\u001b[0m \u001b[32m━━━━━━━━━━━━━━━━━━━━\u001b[0m\u001b[37m\u001b[0m \u001b[1m0s\u001b[0m 9ms/step - loss: 0.0028 - val_loss: 0.0056\n",
      "Epoch 49/50\n",
      "\u001b[1m10/10\u001b[0m \u001b[32m━━━━━━━━━━━━━━━━━━━━\u001b[0m\u001b[37m\u001b[0m \u001b[1m0s\u001b[0m 9ms/step - loss: 0.0027 - val_loss: 0.0096\n",
      "Epoch 50/50\n",
      "\u001b[1m10/10\u001b[0m \u001b[32m━━━━━━━━━━━━━━━━━━━━\u001b[0m\u001b[37m\u001b[0m \u001b[1m0s\u001b[0m 10ms/step - loss: 0.0030 - val_loss: 0.0083\n"
     ]
    },
    {
     "data": {
      "text/plain": [
       "<keras.src.callbacks.history.History at 0x7ee93c525570>"
      ]
     },
     "execution_count": 21,
     "metadata": {},
     "output_type": "execute_result"
    }
   ],
   "source": [
    "model.fit(xtrain,ytrain,batch_size=20,validation_data=(xval,yval),epochs=50)"
   ]
  },
  {
   "cell_type": "code",
   "execution_count": 22,
   "id": "962f50f7",
   "metadata": {
    "execution": {
     "iopub.execute_input": "2024-05-08T16:16:26.178013Z",
     "iopub.status.busy": "2024-05-08T16:16:26.177333Z",
     "iopub.status.idle": "2024-05-08T16:16:26.182477Z",
     "shell.execute_reply": "2024-05-08T16:16:26.181442Z"
    },
    "papermill": {
     "duration": 0.031538,
     "end_time": "2024-05-08T16:16:26.184673",
     "exception": false,
     "start_time": "2024-05-08T16:16:26.153135",
     "status": "completed"
    },
    "tags": []
   },
   "outputs": [],
   "source": [
    "xtest=xtest.reshape(xtest.shape[0],xtest.shape[1],1)"
   ]
  },
  {
   "cell_type": "code",
   "execution_count": 23,
   "id": "f0857fdb",
   "metadata": {
    "execution": {
     "iopub.execute_input": "2024-05-08T16:16:26.232798Z",
     "iopub.status.busy": "2024-05-08T16:16:26.232013Z",
     "iopub.status.idle": "2024-05-08T16:16:27.088296Z",
     "shell.execute_reply": "2024-05-08T16:16:27.087077Z"
    },
    "papermill": {
     "duration": 0.883181,
     "end_time": "2024-05-08T16:16:27.090885",
     "exception": false,
     "start_time": "2024-05-08T16:16:26.207704",
     "status": "completed"
    },
    "tags": []
   },
   "outputs": [
    {
     "name": "stdout",
     "output_type": "stream",
     "text": [
      "\u001b[1m2/2\u001b[0m \u001b[32m━━━━━━━━━━━━━━━━━━━━\u001b[0m\u001b[37m\u001b[0m \u001b[1m1s\u001b[0m 395ms/step\n"
     ]
    }
   ],
   "source": [
    "values=model.predict(xtest)"
   ]
  },
  {
   "cell_type": "code",
   "execution_count": 24,
   "id": "8464eefb",
   "metadata": {
    "execution": {
     "iopub.execute_input": "2024-05-08T16:16:27.140750Z",
     "iopub.status.busy": "2024-05-08T16:16:27.140352Z",
     "iopub.status.idle": "2024-05-08T16:16:27.145740Z",
     "shell.execute_reply": "2024-05-08T16:16:27.144668Z"
    },
    "papermill": {
     "duration": 0.033683,
     "end_time": "2024-05-08T16:16:27.147937",
     "exception": false,
     "start_time": "2024-05-08T16:16:27.114254",
     "status": "completed"
    },
    "tags": []
   },
   "outputs": [],
   "source": [
    "predicted=scaler.inverse_transform(values)\n",
    "true=scaler.inverse_transform(ytest)"
   ]
  },
  {
   "cell_type": "code",
   "execution_count": 25,
   "id": "52526643",
   "metadata": {
    "execution": {
     "iopub.execute_input": "2024-05-08T16:16:27.195084Z",
     "iopub.status.busy": "2024-05-08T16:16:27.194685Z",
     "iopub.status.idle": "2024-05-08T16:16:27.200011Z",
     "shell.execute_reply": "2024-05-08T16:16:27.198912Z"
    },
    "papermill": {
     "duration": 0.031528,
     "end_time": "2024-05-08T16:16:27.202243",
     "exception": false,
     "start_time": "2024-05-08T16:16:27.170715",
     "status": "completed"
    },
    "tags": []
   },
   "outputs": [],
   "source": [
    "predicted=np.round(predicted.ravel(),decimals=2)\n",
    "true=true.ravel()"
   ]
  },
  {
   "cell_type": "markdown",
   "id": "c9abbfb6",
   "metadata": {
    "papermill": {
     "duration": 0.02273,
     "end_time": "2024-05-08T16:16:27.249053",
     "exception": false,
     "start_time": "2024-05-08T16:16:27.226323",
     "status": "completed"
    },
    "tags": []
   },
   "source": [
    "<a class=\"anchor\" id=\"Link_2\"></a>\n",
    "\n",
    "<div style=\"font-family:Georgia;padding:20px;line-height:25px;background-color: #F0FFFF;color:DarkCyan;border-style: solid;border-radius:10px 70px;\"><font style=\"font-family:Georgia; font-size:180%;font-weight:bold;color:DarkCyan;\">True Values Vs Predicted Values</font>  </div>"
   ]
  },
  {
   "cell_type": "code",
   "execution_count": 26,
   "id": "72500bf7",
   "metadata": {
    "execution": {
     "iopub.execute_input": "2024-05-08T16:16:27.297027Z",
     "iopub.status.busy": "2024-05-08T16:16:27.296264Z",
     "iopub.status.idle": "2024-05-08T16:16:27.314837Z",
     "shell.execute_reply": "2024-05-08T16:16:27.313800Z"
    },
    "papermill": {
     "duration": 0.045184,
     "end_time": "2024-05-08T16:16:27.317217",
     "exception": false,
     "start_time": "2024-05-08T16:16:27.272033",
     "status": "completed"
    },
    "tags": []
   },
   "outputs": [
    {
     "data": {
      "text/html": [
       "<div>\n",
       "<style scoped>\n",
       "    .dataframe tbody tr th:only-of-type {\n",
       "        vertical-align: middle;\n",
       "    }\n",
       "\n",
       "    .dataframe tbody tr th {\n",
       "        vertical-align: top;\n",
       "    }\n",
       "\n",
       "    .dataframe thead th {\n",
       "        text-align: right;\n",
       "    }\n",
       "</style>\n",
       "<table border=\"1\" class=\"dataframe\">\n",
       "  <thead>\n",
       "    <tr style=\"text-align: right;\">\n",
       "      <th></th>\n",
       "      <th>Predicted</th>\n",
       "      <th>True_Values</th>\n",
       "    </tr>\n",
       "  </thead>\n",
       "  <tbody>\n",
       "    <tr>\n",
       "      <th>0</th>\n",
       "      <td>340.010010</td>\n",
       "      <td>331.05</td>\n",
       "    </tr>\n",
       "    <tr>\n",
       "      <th>1</th>\n",
       "      <td>338.380005</td>\n",
       "      <td>306.10</td>\n",
       "    </tr>\n",
       "    <tr>\n",
       "      <th>2</th>\n",
       "      <td>333.040009</td>\n",
       "      <td>324.55</td>\n",
       "    </tr>\n",
       "    <tr>\n",
       "      <th>3</th>\n",
       "      <td>324.459991</td>\n",
       "      <td>319.85</td>\n",
       "    </tr>\n",
       "    <tr>\n",
       "      <th>4</th>\n",
       "      <td>317.950012</td>\n",
       "      <td>324.65</td>\n",
       "    </tr>\n",
       "    <tr>\n",
       "      <th>5</th>\n",
       "      <td>312.790009</td>\n",
       "      <td>321.40</td>\n",
       "    </tr>\n",
       "    <tr>\n",
       "      <th>6</th>\n",
       "      <td>319.480011</td>\n",
       "      <td>318.35</td>\n",
       "    </tr>\n",
       "    <tr>\n",
       "      <th>7</th>\n",
       "      <td>318.200012</td>\n",
       "      <td>319.95</td>\n",
       "    </tr>\n",
       "    <tr>\n",
       "      <th>8</th>\n",
       "      <td>318.739990</td>\n",
       "      <td>321.90</td>\n",
       "    </tr>\n",
       "    <tr>\n",
       "      <th>9</th>\n",
       "      <td>316.980011</td>\n",
       "      <td>320.10</td>\n",
       "    </tr>\n",
       "    <tr>\n",
       "      <th>10</th>\n",
       "      <td>316.450012</td>\n",
       "      <td>329.85</td>\n",
       "    </tr>\n",
       "    <tr>\n",
       "      <th>11</th>\n",
       "      <td>318.049988</td>\n",
       "      <td>331.35</td>\n",
       "    </tr>\n",
       "    <tr>\n",
       "      <th>12</th>\n",
       "      <td>320.170013</td>\n",
       "      <td>334.05</td>\n",
       "    </tr>\n",
       "    <tr>\n",
       "      <th>13</th>\n",
       "      <td>322.859985</td>\n",
       "      <td>336.25</td>\n",
       "    </tr>\n",
       "    <tr>\n",
       "      <th>14</th>\n",
       "      <td>328.140015</td>\n",
       "      <td>335.70</td>\n",
       "    </tr>\n",
       "    <tr>\n",
       "      <th>15</th>\n",
       "      <td>330.049988</td>\n",
       "      <td>339.10</td>\n",
       "    </tr>\n",
       "    <tr>\n",
       "      <th>16</th>\n",
       "      <td>332.130005</td>\n",
       "      <td>341.00</td>\n",
       "    </tr>\n",
       "    <tr>\n",
       "      <th>17</th>\n",
       "      <td>333.790009</td>\n",
       "      <td>341.35</td>\n",
       "    </tr>\n",
       "    <tr>\n",
       "      <th>18</th>\n",
       "      <td>335.100006</td>\n",
       "      <td>344.10</td>\n",
       "    </tr>\n",
       "    <tr>\n",
       "      <th>19</th>\n",
       "      <td>337.619995</td>\n",
       "      <td>348.75</td>\n",
       "    </tr>\n",
       "    <tr>\n",
       "      <th>20</th>\n",
       "      <td>339.630005</td>\n",
       "      <td>346.80</td>\n",
       "    </tr>\n",
       "    <tr>\n",
       "      <th>21</th>\n",
       "      <td>341.600006</td>\n",
       "      <td>341.65</td>\n",
       "    </tr>\n",
       "    <tr>\n",
       "      <th>22</th>\n",
       "      <td>343.660004</td>\n",
       "      <td>336.30</td>\n",
       "    </tr>\n",
       "    <tr>\n",
       "      <th>23</th>\n",
       "      <td>343.559998</td>\n",
       "      <td>345.15</td>\n",
       "    </tr>\n",
       "    <tr>\n",
       "      <th>24</th>\n",
       "      <td>340.450012</td>\n",
       "      <td>340.00</td>\n",
       "    </tr>\n",
       "    <tr>\n",
       "      <th>25</th>\n",
       "      <td>337.630005</td>\n",
       "      <td>345.35</td>\n",
       "    </tr>\n",
       "    <tr>\n",
       "      <th>26</th>\n",
       "      <td>337.579987</td>\n",
       "      <td>340.80</td>\n",
       "    </tr>\n",
       "    <tr>\n",
       "      <th>27</th>\n",
       "      <td>340.660004</td>\n",
       "      <td>342.95</td>\n",
       "    </tr>\n",
       "    <tr>\n",
       "      <th>28</th>\n",
       "      <td>339.320007</td>\n",
       "      <td>342.85</td>\n",
       "    </tr>\n",
       "    <tr>\n",
       "      <th>29</th>\n",
       "      <td>340.700012</td>\n",
       "      <td>342.55</td>\n",
       "    </tr>\n",
       "    <tr>\n",
       "      <th>30</th>\n",
       "      <td>339.269989</td>\n",
       "      <td>346.20</td>\n",
       "    </tr>\n",
       "    <tr>\n",
       "      <th>31</th>\n",
       "      <td>340.500000</td>\n",
       "      <td>343.00</td>\n",
       "    </tr>\n",
       "    <tr>\n",
       "      <th>32</th>\n",
       "      <td>340.850006</td>\n",
       "      <td>348.10</td>\n",
       "    </tr>\n",
       "    <tr>\n",
       "      <th>33</th>\n",
       "      <td>341.769989</td>\n",
       "      <td>347.10</td>\n",
       "    </tr>\n",
       "    <tr>\n",
       "      <th>34</th>\n",
       "      <td>343.399994</td>\n",
       "      <td>346.20</td>\n",
       "    </tr>\n",
       "    <tr>\n",
       "      <th>35</th>\n",
       "      <td>343.390015</td>\n",
       "      <td>341.95</td>\n",
       "    </tr>\n",
       "    <tr>\n",
       "      <th>36</th>\n",
       "      <td>344.890015</td>\n",
       "      <td>353.95</td>\n",
       "    </tr>\n",
       "  </tbody>\n",
       "</table>\n",
       "</div>"
      ],
      "text/plain": [
       "     Predicted  True_Values\n",
       "0   340.010010       331.05\n",
       "1   338.380005       306.10\n",
       "2   333.040009       324.55\n",
       "3   324.459991       319.85\n",
       "4   317.950012       324.65\n",
       "5   312.790009       321.40\n",
       "6   319.480011       318.35\n",
       "7   318.200012       319.95\n",
       "8   318.739990       321.90\n",
       "9   316.980011       320.10\n",
       "10  316.450012       329.85\n",
       "11  318.049988       331.35\n",
       "12  320.170013       334.05\n",
       "13  322.859985       336.25\n",
       "14  328.140015       335.70\n",
       "15  330.049988       339.10\n",
       "16  332.130005       341.00\n",
       "17  333.790009       341.35\n",
       "18  335.100006       344.10\n",
       "19  337.619995       348.75\n",
       "20  339.630005       346.80\n",
       "21  341.600006       341.65\n",
       "22  343.660004       336.30\n",
       "23  343.559998       345.15\n",
       "24  340.450012       340.00\n",
       "25  337.630005       345.35\n",
       "26  337.579987       340.80\n",
       "27  340.660004       342.95\n",
       "28  339.320007       342.85\n",
       "29  340.700012       342.55\n",
       "30  339.269989       346.20\n",
       "31  340.500000       343.00\n",
       "32  340.850006       348.10\n",
       "33  341.769989       347.10\n",
       "34  343.399994       346.20\n",
       "35  343.390015       341.95\n",
       "36  344.890015       353.95"
      ]
     },
     "execution_count": 26,
     "metadata": {},
     "output_type": "execute_result"
    }
   ],
   "source": [
    "pd.DataFrame(dict(Predicted=predicted,True_Values=true))"
   ]
  },
  {
   "cell_type": "code",
   "execution_count": 27,
   "id": "c4330b54",
   "metadata": {
    "execution": {
     "iopub.execute_input": "2024-05-08T16:16:27.427219Z",
     "iopub.status.busy": "2024-05-08T16:16:27.426319Z",
     "iopub.status.idle": "2024-05-08T16:16:27.431884Z",
     "shell.execute_reply": "2024-05-08T16:16:27.430721Z"
    },
    "papermill": {
     "duration": 0.034157,
     "end_time": "2024-05-08T16:16:27.434077",
     "exception": false,
     "start_time": "2024-05-08T16:16:27.399920",
     "status": "completed"
    },
    "tags": []
   },
   "outputs": [],
   "source": [
    "train=price.iloc[:-predicted.size]"
   ]
  },
  {
   "cell_type": "code",
   "execution_count": 28,
   "id": "7bd21f2b",
   "metadata": {
    "execution": {
     "iopub.execute_input": "2024-05-08T16:16:27.483406Z",
     "iopub.status.busy": "2024-05-08T16:16:27.483004Z",
     "iopub.status.idle": "2024-05-08T16:16:27.488173Z",
     "shell.execute_reply": "2024-05-08T16:16:27.487048Z"
    },
    "papermill": {
     "duration": 0.032787,
     "end_time": "2024-05-08T16:16:27.490378",
     "exception": false,
     "start_time": "2024-05-08T16:16:27.457591",
     "status": "completed"
    },
    "tags": []
   },
   "outputs": [],
   "source": [
    "test=price.iloc[-predicted.size:]"
   ]
  },
  {
   "cell_type": "code",
   "execution_count": 29,
   "id": "5162e681",
   "metadata": {
    "execution": {
     "iopub.execute_input": "2024-05-08T16:16:27.539976Z",
     "iopub.status.busy": "2024-05-08T16:16:27.539566Z",
     "iopub.status.idle": "2024-05-08T16:16:27.545267Z",
     "shell.execute_reply": "2024-05-08T16:16:27.544156Z"
    },
    "papermill": {
     "duration": 0.033531,
     "end_time": "2024-05-08T16:16:27.547454",
     "exception": false,
     "start_time": "2024-05-08T16:16:27.513923",
     "status": "completed"
    },
    "tags": []
   },
   "outputs": [],
   "source": [
    "predicted=pd.DataFrame(predicted,columns=['close ']).set_index(test.index)"
   ]
  },
  {
   "cell_type": "markdown",
   "id": "a99fac11",
   "metadata": {
    "papermill": {
     "duration": 0.02317,
     "end_time": "2024-05-08T16:16:27.594362",
     "exception": false,
     "start_time": "2024-05-08T16:16:27.571192",
     "status": "completed"
    },
    "tags": []
   },
   "source": [
    "<a class=\"anchor\" id=\"Link_2\"></a>\n",
    "\n",
    "<div style=\"font-family:Georgia;padding:20px;line-height:25px;background-color: #F0FFFF;color:DarkCyan;border-style: solid;border-radius:10px 70px;\"><font style=\"font-family:Georgia; font-size:180%;font-weight:bold;color:DarkCyan;\"> Model Performance Visualizations</font>  </div>"
   ]
  },
  {
   "cell_type": "code",
   "execution_count": 30,
   "id": "edbedcde",
   "metadata": {
    "execution": {
     "iopub.execute_input": "2024-05-08T16:16:27.643208Z",
     "iopub.status.busy": "2024-05-08T16:16:27.642780Z",
     "iopub.status.idle": "2024-05-08T16:16:28.049154Z",
     "shell.execute_reply": "2024-05-08T16:16:28.048084Z"
    },
    "papermill": {
     "duration": 0.433374,
     "end_time": "2024-05-08T16:16:28.051397",
     "exception": false,
     "start_time": "2024-05-08T16:16:27.618023",
     "status": "completed"
    },
    "tags": []
   },
   "outputs": [
    {
     "data": {
      "text/plain": [
       "<Axes: title={'center': 'Training Values'}, xlabel='Date '>"
      ]
     },
     "execution_count": 30,
     "metadata": {},
     "output_type": "execute_result"
    },
    {
     "data": {
      "image/png": "[encoded data removed]",
      "text/plain": [
       "<Figure size 640x480 with 1 Axes>"
      ]
     },
     "metadata": {},
     "output_type": "display_data"
    }
   ],
   "source": [
    "train.plot(color='g',title='Training Values')"
   ]
  },
  {
   "cell_type": "code",
   "execution_count": 31,
   "id": "bbf9ef80",
   "metadata": {
    "execution": {
     "iopub.execute_input": "2024-05-08T16:16:28.105492Z",
     "iopub.status.busy": "2024-05-08T16:16:28.105082Z",
     "iopub.status.idle": "2024-05-08T16:16:28.504134Z",
     "shell.execute_reply": "2024-05-08T16:16:28.503023Z"
    },
    "papermill": {
     "duration": 0.427452,
     "end_time": "2024-05-08T16:16:28.506368",
     "exception": false,
     "start_time": "2024-05-08T16:16:28.078916",
     "status": "completed"
    },
    "tags": []
   },
   "outputs": [
    {
     "data": {
      "text/plain": [
       "<Axes: title={'center': 'Test Values'}, xlabel='Date '>"
      ]
     },
     "execution_count": 31,
     "metadata": {},
     "output_type": "execute_result"
    },
    {
     "data": {
      "image/png": "[encoded data removed]",
      "text/plain": [
       "<Figure size 640x480 with 1 Axes>"
      ]
     },
     "metadata": {},
     "output_type": "display_data"
    }
   ],
   "source": [
    "test.plot(color='orange',title='Test Values')"
   ]
  },
  {
   "cell_type": "code",
   "execution_count": 32,
   "id": "04f4f720",
   "metadata": {
    "execution": {
     "iopub.execute_input": "2024-05-08T16:16:28.558260Z",
     "iopub.status.busy": "2024-05-08T16:16:28.557846Z",
     "iopub.status.idle": "2024-05-08T16:16:28.946712Z",
     "shell.execute_reply": "2024-05-08T16:16:28.945709Z"
    },
    "papermill": {
     "duration": 0.418822,
     "end_time": "2024-05-08T16:16:28.950083",
     "exception": false,
     "start_time": "2024-05-08T16:16:28.531261",
     "status": "completed"
    },
    "tags": []
   },
   "outputs": [
    {
     "data": {
      "text/plain": [
       "<Axes: title={'center': 'Predicted Values'}, xlabel='Date '>"
      ]
     },
     "execution_count": 32,
     "metadata": {},
     "output_type": "execute_result"
    },
    {
     "data": {
      "image/png": "[encoded data removed]",
      "text/plain": [
       "<Figure size 640x480 with 1 Axes>"
      ]
     },
     "metadata": {},
     "output_type": "display_data"
    }
   ],
   "source": [
    "predicted.plot(color='blue',title='Predicted Values')"
   ]
  },
  {
   "cell_type": "code",
   "execution_count": 33,
   "id": "51b4dafe",
   "metadata": {
    "execution": {
     "iopub.execute_input": "2024-05-08T16:16:29.003047Z",
     "iopub.status.busy": "2024-05-08T16:16:29.002628Z",
     "iopub.status.idle": "2024-05-08T16:16:29.013207Z",
     "shell.execute_reply": "2024-05-08T16:16:29.012134Z"
    },
    "papermill": {
     "duration": 0.040013,
     "end_time": "2024-05-08T16:16:29.015691",
     "exception": false,
     "start_time": "2024-05-08T16:16:28.975678",
     "status": "completed"
    },
    "tags": []
   },
   "outputs": [],
   "source": [
    "mse,mae,rmse=mean_squared_error(true,predicted),mean_absolute_error(true,predicted),np.sqrt(mean_squared_error(true,predicted))"
   ]
  },
  {
   "cell_type": "code",
   "execution_count": 34,
   "id": "32f47012",
   "metadata": {
    "execution": {
     "iopub.execute_input": "2024-05-08T16:16:29.069506Z",
     "iopub.status.busy": "2024-05-08T16:16:29.069022Z",
     "iopub.status.idle": "2024-05-08T16:16:29.333131Z",
     "shell.execute_reply": "2024-05-08T16:16:29.332154Z"
    },
    "papermill": {
     "duration": 0.293406,
     "end_time": "2024-05-08T16:16:29.335277",
     "exception": false,
     "start_time": "2024-05-08T16:16:29.041871",
     "status": "completed"
    },
    "tags": []
   },
   "outputs": [
    {
     "data": {
      "text/plain": [
       "Text(0.5, 1.0, 'Metrics Comparision')"
      ]
     },
     "execution_count": 34,
     "metadata": {},
     "output_type": "execute_result"
    },
    {
     "data": {
      "image/png": "[encoded data removed]",
      "text/plain": [
       "<Figure size 640x480 with 1 Axes>"
      ]
     },
     "metadata": {},
     "output_type": "display_data"
    }
   ],
   "source": [
    "pd.Series([mse,mae,rmse]).plot(kind='bar',color=['red','blue','green'])\n",
    "plt.xticks([0,1,2],['MSE','MAE','RMSE'])\n",
    "plt.title('Metrics Comparision')\n"
   ]
  },
  {
   "cell_type": "code",
   "execution_count": 35,
   "id": "52a1274b",
   "metadata": {
    "execution": {
     "iopub.execute_input": "2024-05-08T16:16:29.389130Z",
     "iopub.status.busy": "2024-05-08T16:16:29.388749Z",
     "iopub.status.idle": "2024-05-08T16:16:29.733236Z",
     "shell.execute_reply": "2024-05-08T16:16:29.732082Z"
    },
    "papermill": {
     "duration": 0.374364,
     "end_time": "2024-05-08T16:16:29.735635",
     "exception": false,
     "start_time": "2024-05-08T16:16:29.361271",
     "status": "completed"
    },
    "tags": []
   },
   "outputs": [
    {
     "data": {
      "text/plain": [
       "Text(0.5, 1.0, 'Actual Vs Predicted')"
      ]
     },
     "execution_count": 35,
     "metadata": {},
     "output_type": "execute_result"
    },
    {
     "data": {
      "image/png": "[encoded data removed]",
      "text/plain": [
       "<Figure size 640x480 with 1 Axes>"
      ]
     },
     "metadata": {},
     "output_type": "display_data"
    }
   ],
   "source": [
    "plt.plot(predicted,label='Predicted Values',color='green')\n",
    "plt.plot(test,label='Actual Values',color='blue')\n",
    "plt.xticks(rotation=45)\n",
    "plt.title('Actual Vs Predicted')"
   ]
  },
  {
   "cell_type": "code",
   "execution_count": null,
   "id": "72cb4487",
   "metadata": {
    "papermill": {
     "duration": 0.026655,
     "end_time": "2024-05-08T16:16:29.789550",
     "exception": false,
     "start_time": "2024-05-08T16:16:29.762895",
     "status": "completed"
    },
    "tags": []
   },
   "outputs": [],
   "source": []
  }
 ],
 "metadata": {
  "kaggle": {
   "accelerator": "none",
   "dataSources": [
    {
     "datasetId": 4966074,
     "sourceId": 8357024,
     "sourceType": "datasetVersion"
    }
   ],
   "dockerImageVersionId": 30698,
   "isGpuEnabled": false,
   "isInternetEnabled": true,
   "language": "python",
   "sourceType": "notebook"
  },
  "kernelspec": {
   "display_name": "Python 3",
   "language": "python",
   "name": "python3"
  },
  "language_info": {
   "codemirror_mode": {
    "name": "ipython",
    "version": 3
   },
   "file_extension": ".py",
   "mimetype": "text/x-python",
   "name": "python",
   "nbconvert_exporter": "python",
   "pygments_lexer": "ipython3",
   "version": "3.10.13"
  },
  "papermill": {
   "default_parameters": {},
   "duration": 37.019724,
   "end_time": "2024-05-08T16:16:32.311641",
   "environment_variables": {},
   "exception": null,
   "input_path": "__notebook__.ipynb",
   "output_path": "__notebook__.ipynb",
   "parameters": {},
   "start_time": "2024-05-08T16:15:55.291917",
   "version": "2.5.0"
  }
 },
 "nbformat": 4,
 "nbformat_minor": 5
}
